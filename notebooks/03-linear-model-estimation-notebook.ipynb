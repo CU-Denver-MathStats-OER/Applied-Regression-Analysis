{
  "cells": [
    {
      "cell_type": "markdown",
      "metadata": {},
      "source": [
        "# Chapter 3 - Linear Model Estimation\n",
        "\n",
        "Joshua French\n",
        "\n",
        "<a href=\"https://colab.research.google.com/github/jfrench/LinearRegression/blob/master/notebooks/03-linear-model-estimation-notebook.ipynb\">\n",
        "<img src=\"https://colab.research.google.com/assets/colab-badge.svg\">\n",
        "</a>"
      ],
      "id": "4e3ea935-af1d-4350-80c1-cf53d244fed5"
    },
    {
      "cell_type": "code",
      "execution_count": 1,
      "metadata": {},
      "outputs": [],
      "source": [
        "if(!require(palmerpenguins, quietly = TRUE)) {\n",
        "  install.packages(\"palmerpenguins\", repos = \"https://cran.rstudio.com/\")\n",
        "  library(palmerpenguins)\n",
        "}\n",
        "if(!require(ggplot2, quietly = TRUE)) {\n",
        "  install.packages(\"ggplot2\", repos = \"https://cran.rstudio.com/\")\n",
        "  library(ggplot2)\n",
        "}"
      ],
      "id": "2a22a8fb-1050-49ef-aba1-e54b9900f976"
    },
    {
      "cell_type": "markdown",
      "metadata": {},
      "source": [
        "# A simple motivating example\n",
        "\n",
        "Suppose you observe data related to the heights of 5 mothers and their\n",
        "adult daughters. The data are in the table below.\n",
        "\n",
        "| observation | mother | daughter |\n",
        "|------------:|-------:|---------:|\n",
        "|           1 |   57.5 |     61.5 |\n",
        "|           2 |   60.5 |     63.5 |\n",
        "|           3 |   63.5 |     63.5 |\n",
        "|           4 |   66.5 |     66.5 |\n",
        "|           5 |   69.5 |     66.5 |\n",
        "\n",
        "Would it be reasonable to use a mother’s height to predict the height of\n",
        "her adult daughter? Consider the plot below."
      ],
      "id": "c7d269f2-77be-4199-97f0-f6ddc0a669df"
    },
    {
      "cell_type": "code",
      "execution_count": 2,
      "metadata": {},
      "outputs": [
        {
          "output_type": "display_data",
          "metadata": {},
          "data": {
            "image/png": "[encoded data removed]"
          }
        }
      ],
      "source": [
        "x <- c(57.5, 50.5, 63.5, 66.5, 69.5) # mothers' heights\n",
        "y <- c(61.5, 63.5, 63.5, 66.5, 66.5) # daughters' heights\n",
        "plot(y ~ x, pch = 19, xlab = \"mother's height (in)\", ylab = \"daughter's height (in)\")"
      ],
      "id": "d7bcfea1-51e9-46bb-8ca1-2b23cb9281da"
    },
    {
      "cell_type": "markdown",
      "metadata": {},
      "source": [
        "A **regression analysis** is the process of building a model describing\n",
        "the typical relationship between a set of observed variables.\n",
        "\n",
        "In the present context, we want to model the height of adult daughters\n",
        "using their height of their mothers. The model we build is known as a\n",
        "**regression model**.\n",
        "\n",
        "The variables in a regression analysis may be divided into two types:\n",
        "\n",
        "-   The response variable.\n",
        "-   The predictor variables.\n",
        "\n",
        "The outcome variable we are trying to predict is known as the **response\n",
        "variable**.\n",
        "\n",
        "-   Response variables are also known as **outcome**, **output**, or\n",
        "    **dependent** variables.\n",
        "-   The response variable is denoted by $Y$.\n",
        "\n",
        "The variables available to model the response variable are known as\n",
        "**predictors variables**:\n",
        "\n",
        "-   They are also called **explanatory**, **regressor**, **input**,\n",
        "    **dependent** variables or simply as **features**.\n",
        "-   Following the convention of Weisberg (2014), we use the term\n",
        "    **regressor** to refer to the variables used in our regression\n",
        "    model, whether that is the original predictor variable, some\n",
        "    transformation of a predictor, some combination of predictors, etc.\n",
        "-   Every predictor can be a regressor but not all regressors are a\n",
        "    predictor.\n",
        "-   The regressor variables are denoted as $X_1, X_2, \\ldots, X_{p-1}$.\n",
        "\n",
        "A regression analysis assumes:\n",
        "\n",
        "-   We have observed variables $X_1, X_2, \\ldots, X_{p-1}$ and $Y$ for\n",
        "    each of $n$ subjects from some population.\n",
        "-   $x_{i,j}$ denotes the value of $X_j$ for observation $i$.\n",
        "-   $Y_i$ denotes the value of $Y$ for observation $i$.\n",
        "-   If there is only a single regressor, we can denote the single\n",
        "    regressor as $X$ and the observed values of $X$ as\n",
        "    $x_1, x_2, \\ldots, x_n$.\n",
        "\n",
        "For the height data, the 5 pairs of observed data are denoted\n",
        "$$(x_1, Y_1), (x_2, Y_2), \\ldots, (x_5, Y_5),$$ with $(x_i, Y_i)$\n",
        "denoting the data for observation $i$.\n",
        "\n",
        "-   $x_i$ denotes the mother’s height for observation $i$.\n",
        "-   $Y_i$ denotes the daughter’s height for observation $i$.\n",
        "\n",
        "Suppose we want to find the straight line that best fits the plot of\n",
        "mother and daughter heights.\n",
        "\n",
        "How do we determine the “best fitting” model?\n",
        "\n",
        "Consider these potential “best fitting” lines which are drawn on the\n",
        "scatter plot of the height data. Which one is best?"
      ],
      "id": "901df71a-63ee-4b5a-910b-a801d91da4f5"
    },
    {
      "cell_type": "code",
      "execution_count": 3,
      "metadata": {},
      "outputs": [
        {
          "output_type": "display_data",
          "metadata": {},
          "data": {
            "image/png": "[encoded data removed]"
          }
        }
      ],
      "source": [
        "lmod <- lm(y ~ x)\n",
        "coef_ls <- coef(lmod) # OLS estimates\n",
        "lad <- function(b) {\n",
        "  yhat <- b[1] + b[2] * x\n",
        "  return(sum(abs(y-yhat)))\n",
        "}\n",
        "coef_lad <- optim(coef_ls, fn = lad)$par # least absolute deviation\n",
        "plot(y ~ x, pch = 19, xlab = \"parent's height (in)\", ylab = \"child's heights (in)\")\n",
        "abline(a = coef_ls[1], b= coef_ls[2], col = \"grey\")\n",
        "abline(a = coef_lad[1], b = coef_lad[2], col = \"grey\")"
      ],
      "id": "bc05e72b-734e-4765-bee3-6225dcfb691c"
    },
    {
      "cell_type": "markdown",
      "metadata": {},
      "source": [
        "# Estimation of the simple linear regression model\n",
        "\n",
        "**Parameter estimation** is the process of using observed data to\n",
        "estimate values for the regression coefficients.\n",
        "\n",
        "There are many different methods of parameter estimation in statistics:\n",
        "\n",
        "-   Method-of-moments.\n",
        "-   Maximum likelihood.\n",
        "-   Bayesian.\n",
        "-   Etc.\n",
        "\n",
        "The most common parameter estimation method for linear models is the\n",
        "**least squares method**, which is commonly called **Ordinary Least\n",
        "Squares (OLS)** estimation.\n",
        "\n",
        "OLS estimation estimates the regression coefficients with the values\n",
        "that minimize the residual sum of squares (RSS), which we will define\n",
        "shortly.\n",
        "\n",
        "## Model definition, fitted values, residuals, and RSS\n",
        "\n",
        "The regression model for $Y$ as a function of $X$, denoted\n",
        "$E(Y \\mid X)$, is the expected value of $Y$ conditional on the regressor\n",
        "$X$.\n",
        "\n",
        "The **simple linear regression model** for a response variable assumes\n",
        "the mean of $Y$ conditional on a single regressor $X$ is $$\n",
        "E(Y\\mid X) = \\beta_0 + \\beta_1 X.\n",
        "$$\n",
        "\n",
        "The response variable $Y$ is modeled as $$\n",
        "\\begin{aligned}\n",
        "Y &= E(Y \\mid X) + \\epsilon \\\\\n",
        "&= \\beta_0 + \\beta_1 X + \\epsilon,\n",
        "\\end{aligned}\n",
        "(\\#eq:slr-model-Y)\n",
        "$$ where $\\epsilon$ is known as the model error.\n",
        "\n",
        "The error term $\\epsilon$ is literally the deviation of the response\n",
        "variable from its mean.\n",
        "\n",
        "-   We typically assume that conditional on the regressor variable, the\n",
        "    error term has mean 0 and variance $\\sigma^2$.\n",
        "-   This is written as $$\n",
        "    E(\\epsilon \\mid X) = 0\n",
        "    $$ and $$\n",
        "    \\mathrm{var}(\\epsilon \\mid X) = \\sigma^2.\n",
        "    $$\n",
        "\n",
        "The observed data are modeled as $$\n",
        "\\begin{aligned}\n",
        "Y_i &= \\beta_0 + \\beta_1 x_i + \\epsilon \\\\\n",
        "&= E(Y\\mid X = x_i) + \\epsilon_i,\n",
        "\\end{aligned}\n",
        "$$ for $i=1$, $2$,$\\ldots$,$n$, where $\\epsilon_i$ denotes the error for\n",
        "observation $i$.\n",
        "\n",
        "The **estimated regression model** is defined as $$\n",
        "\\hat{E}(Y|X) = \\hat{\\beta}_0 + \\hat{\\beta}_1 X,\n",
        "$$ where $\\hat{\\beta}_j$ denotes the estimated value of $\\beta_j$ for\n",
        "$j=0,1$.\n",
        "\n",
        "The $i$th **fitted value** is defined as $$\n",
        "\\hat{Y}_i = \\hat{E}(Y|X = x_i) = \\hat{\\beta}_0 + \\hat{\\beta}_1 x_i. $$\n",
        "\n",
        "-   The $i$th fitted value is the estimated mean of $Y$ when the\n",
        "    regressor $X=x_i$.\n",
        "\n",
        "The $i$th **residual** is defined as $$\n",
        "\\hat{\\epsilon}_i = Y_i - \\hat{Y}_i. (\\#eq:def-residual-slr)\n",
        "$$\n",
        "\n",
        "-   The $i$th residual is the difference between the response and\n",
        "    estimated mean response of observation $i$.\n",
        "\n",
        "The **residual sum of squares (RSS)** of a regression model is the sum\n",
        "of its squared residuals. The RSS for a simple linear regression model,\n",
        "as a function of the estimated regression coefficients $\\hat{\\beta}_0$\n",
        "and $\\hat{\\beta}_1$, is defined as $$\n",
        "RSS(\\hat{\\beta}_0, \\hat{\\beta}_1) = \\sum_{i=1}^n \\hat{\\epsilon}_i^2. (\\#eq:def-rss-slr)\n",
        "$$\n",
        "\n",
        "Using the various objects defined above, there are many equivalent\n",
        "expressions for the RSS.\n",
        "\n",
        "$$\n",
        "\\begin{aligned}\n",
        "RSS(\\hat{\\beta}_0, \\hat{\\beta}_1) &= \\sum_{i=1}^n \\hat{\\epsilon}_i^2 \\\\\n",
        "&= \\sum_{i=1}^n (Y_i - \\hat{Y}_i)^2 & \\\\\n",
        "&= \\sum_{i=1}^n (Y_i - \\hat{E}(Y|X=x_i))^2 \\\\\n",
        "&= \\sum_{i=1}^n (Y_i - (\\hat{\\beta}_0 + \\hat{\\beta}_1 x_i))^2.\n",
        "\\end{aligned}\n",
        "(\\#eq:equiv-def-rss-slr)\n",
        "$$\n",
        "\n",
        "The **fitted model** is the estimated model that minimizes the RSS, and\n",
        "is written as $$\n",
        "\\hat{Y}=\\hat{E}(Y|X) = \\hat{\\beta}_0 + \\hat{\\beta}_1 X. (\\#eq:def-fitted-model-slr)\n",
        "$$\n",
        "\n",
        "-   $\\hat{Y}$ is used for brevity.\n",
        "-   $\\hat{E}(Y|X)$ is used for clarity.\n",
        "\n",
        "In a simple linear regression context, the fitted model is known as the\n",
        "**line of best fit**."
      ],
      "id": "b2df3145-4442-4416-9664-10388ff59867"
    },
    {
      "cell_type": "code",
      "execution_count": 4,
      "metadata": {},
      "outputs": [
        {
          "output_type": "display_data",
          "metadata": {},
          "data": {
            "image/png": "[encoded data removed]"
          }
        }
      ],
      "source": [
        "set.seed(2)\n",
        "x <- c(3, 5, 7, 8, 9)\n",
        "y <- 2 + 2 * x + rnorm(5, sd = 4)\n",
        "plot(y ~ x, pch = 19, xlab = \"X\", ylab = \"Y\")\n",
        "lmod <- lm(y ~ x)\n",
        "yhat <- fitted(lmod)\n",
        "abline(lmod, col = \"grey\", lty = 2)\n",
        "points(yhat ~ x, pch = 4, col = \"blue\")\n",
        "segments(x, y, x, yhat, col = \"orange\")\n",
        "legend(\"topleft\",\n",
        "       legend = c(\"observed response\", \"fitted value\", \"residual\", \"fitted model\"),\n",
        "       pch = c(19, 4, NA, NA),\n",
        "       col = c(\"black\", \"blue\", \"orange\", \"grey\"),\n",
        "       lty = c(NA, NA, 1, 2),\n",
        "       lwd = c(NA, NA, 1, 1))"
      ],
      "id": "571c1588-7278-4b38-a346-f69fb3fd2f6d"
    },
    {
      "cell_type": "markdown",
      "metadata": {},
      "source": [
        "In the graphic above, we visualize the response values, fitted values,\n",
        "residuals, and fitted model in a simple linear regression context. Note\n",
        "that:\n",
        "\n",
        "-   The fitted model is shown as the dashed grey line and minimizes the\n",
        "    RSS.\n",
        "-   The response values, shown as black dots, are the observed values of\n",
        "    $Y$.\n",
        "-   The fitted values, shown as blue x’s, are the values returned by\n",
        "    evaluating the fitted model at the observed regressor values.\n",
        "-   The residuals, shown as solid orange lines, indicate the distance\n",
        "    and direction between the observed responses and their corresponding\n",
        "    fitted value. If the response is larger than the fitted value then\n",
        "    the residual is positive, otherwise it is negative.\n",
        "-   The RSS is the sum of the squared vertical distances between the\n",
        "    response and fitted values.\n",
        "\n",
        "## OLS estimators of the simple linear regression parameters\n",
        "\n",
        "The estimators of $\\beta_0$ and $\\beta_1$ that minimize the RSS for a\n",
        "simple linear regression model can be obtained analytically using basic\n",
        "calculus (as long as $x_1,\\ldots,x_n$ are not all equal to the same\n",
        "number).\n",
        "\n",
        "Define:\n",
        "\n",
        "-   $\\bar{x}=\\frac{1}{n}\\sum_{i=1}^n x_i$.\n",
        "-   $\\bar{Y} = \\frac{1}{n}\\sum_{i=1}^n Y_i$.\n",
        "\n",
        "The OLS estimators of the simple linear regression coefficients that\n",
        "minimize the RSS are $$\n",
        "\\begin{aligned}\n",
        "\\hat{\\beta}_1 &= \\frac{\\sum_{i=1}^n x_i Y_i - \\frac{1}{n} \\biggl(\\sum_{i=1}^n x_i\\biggr)\\biggl(\\sum_{i=1}^n Y_i\\biggr)}{\\sum_{i=1}^n x_i^2 - \\frac{1}{n} \\biggl(\\sum_{i=1}^n x_i\\biggr)^2} \\notag \\\\\n",
        "&= \\frac{\\sum_{i=1}^n (x_i - \\bar{x})(Y_i - \\bar{Y})}{\\sum_{i=1}^n (x_i - \\bar{x})^2} \\notag \\\\\n",
        "&= \\frac{\\sum_{i=1}^n (x_i - \\bar{x})Y_i}{\\sum_{i=1}^n (x_i - \\bar{x})x_i}\n",
        "\\end{aligned}\n",
        "$$ and $$\n",
        "\\hat{\\beta}_0 = \\bar{Y} - \\hat{\\beta}_1 \\bar{x}.\n",
        "$$\n",
        "\n",
        "The most common estimator of the error variance is $$\n",
        "\\hat{\\sigma}^2 = \\frac{RSS}{\\mathrm{df}_{RSS}}.\n",
        "$$\n",
        "\n",
        "-   $\\mathrm{df}_{RSS}$ is the **degrees of freedom** of the RSS.\n",
        "-   For simply linear regression, $\\mathrm{df}_{RSS}=n-2$.\n",
        "\n",
        "# Penguins simple linear regression example\n",
        "\n",
        "The `penguins` data set provides data related to various penguin species\n",
        "measured in the Palmer Archipelago (Antarctica), originally provided by\n",
        "Gorman et al. (2014). We start by loading the data into memory."
      ],
      "id": "e5dc01e8-4b9d-4b6d-9e3e-f916decd4f33"
    },
    {
      "cell_type": "code",
      "execution_count": 5,
      "metadata": {},
      "outputs": [
        {
          "output_type": "display_data",
          "metadata": {},
          "data": {
            "text/html": [
              "<table class=\"dataframe\">\n",
              "<caption>A tibble: 6 × 8</caption>\n",
              "<thead>\n",
              "    <tr><th scope=col>species</th><th scope=col>island</th><th scope=col>bill_length_mm</th><th scope=col>bill_depth_mm</th><th scope=col>flipper_length_mm</th><th scope=col>body_mass_g</th><th scope=col>sex</th><th scope=col>year</th></tr>\n",
              "    <tr><th scope=col>&lt;fct&gt;</th><th scope=col>&lt;fct&gt;</th><th scope=col>&lt;dbl&gt;</th><th scope=col>&lt;dbl&gt;</th><th scope=col>&lt;int&gt;</th><th scope=col>&lt;int&gt;</th><th scope=col>&lt;fct&gt;</th><th scope=col>&lt;int&gt;</th></tr>\n",
              "</thead>\n",
              "<tbody>\n",
              "    <tr><td>Adelie</td><td>Torgersen</td><td>39.1</td><td>18.7</td><td>181</td><td>3750</td><td>male  </td><td>2007</td></tr>\n",
              "    <tr><td>Adelie</td><td>Torgersen</td><td>39.5</td><td>17.4</td><td>186</td><td>3800</td><td>female</td><td>2007</td></tr>\n",
              "    <tr><td>Adelie</td><td>Torgersen</td><td>40.3</td><td>18.0</td><td>195</td><td>3250</td><td>female</td><td>2007</td></tr>\n",
              "    <tr><td>Adelie</td><td>Torgersen</td><td>  NA</td><td>  NA</td><td> NA</td><td>  NA</td><td>NA    </td><td>2007</td></tr>\n",
              "    <tr><td>Adelie</td><td>Torgersen</td><td>36.7</td><td>19.3</td><td>193</td><td>3450</td><td>female</td><td>2007</td></tr>\n",
              "    <tr><td>Adelie</td><td>Torgersen</td><td>39.3</td><td>20.6</td><td>190</td><td>3650</td><td>male  </td><td>2007</td></tr>\n",
              "</tbody>\n",
              "</table>"
            ]
          }
        }
      ],
      "source": [
        "data(penguins, package = \"palmerpenguins\")\n",
        "head(penguins)"
      ],
      "id": "993ba167-03fe-4d6e-9257-f445704acbf1"
    },
    {
      "cell_type": "markdown",
      "metadata": {},
      "source": [
        "The data set includes 344 observations of 8 variables. The variables\n",
        "are:\n",
        "\n",
        "-   `species`: a `factor` indicating the penguin species.\n",
        "-   `island`: a `factor` indicating the island the penguin was observed.\n",
        "-   `bill_length_mm`: a `numeric` variable indicating the bill length in\n",
        "    millimeters.\n",
        "-   `bill_depth_mm`: a `numeric` variable indicating the bill depth in\n",
        "    millimeters.\n",
        "-   `flipper_length_mm`: an `integer` variable indicating the flipper\n",
        "    length in millimeters\n",
        "-   `body_mass_g`: an `integer` variable indicating the body mass in\n",
        "    grams.\n",
        "-   `sex`: a `factor` indicating the penguin sex (`female`, `male`).\n",
        "-   `year`: an integer denoting the study year the penguin was observed\n",
        "    (`2007`, `2008`, or `2009`).\n",
        "\n",
        "We begin by creating a scatter plot of `bill_length_mm` versus\n",
        "`body_mass_g`."
      ],
      "id": "0ef8c6c2-486f-4235-9634-01627d2244de"
    },
    {
      "cell_type": "code",
      "execution_count": 6,
      "metadata": {},
      "outputs": [
        {
          "output_type": "display_data",
          "metadata": {},
          "data": {
            "image/png": "[encoded data removed]"
          }
        }
      ],
      "source": [
        "plot(bill_length_mm ~ body_mass_g, data = penguins,\n",
        "     ylab = \"bill length (mm)\", xlab = \"body mass (g)\",\n",
        "     main = \"Penguin size measurements\")"
      ],
      "id": "fa8c5eec-283c-4a25-b99e-9b412b932182"
    },
    {
      "cell_type": "markdown",
      "metadata": {},
      "source": [
        "**Questions:**\n",
        "\n",
        "-   Is there a positive/negative association between body mass and bill\n",
        "    length?\n",
        "-   Is the relationship approximately linear?\n",
        "\n",
        "We will build a simple linear regression model that regresses\n",
        "`bill_length_mm` on `body_mass_g`.\n",
        "\n",
        "We want to estimate the parameters of the model $$\n",
        "E(\\mathtt{bill\\_length\\_mm}\\mid \\mathtt{body\\_mass\\_g})=\\beta_0+\\beta_1\\,\\mathtt{body\\_mass\\_g}.\n",
        "$$\n",
        "\n",
        "The `lm` function uses OLS estimation to fit a linear model to data. The\n",
        "function has two main arguments:\n",
        "\n",
        "-   `data`: the data frame in which the model variables are stored. This\n",
        "    can be omitted if the variables are already stored in memory.\n",
        "-   `formula`: a Wilkinson and Rogers (1973) style formula describing\n",
        "    the linear regression model. For complete details, run\n",
        "    `?stats:formula` in the Console. If `y` is the response variable and\n",
        "    `x` is an available numeric predictor, then `formula = y ~ x` tells\n",
        "    `lm` to fit the simple linear regression model\n",
        "    $E(Y|X)=\\beta_0+\\beta_1 X$."
      ],
      "id": "42af691c-5879-4d6b-8590-f77b3b7a232b"
    },
    {
      "cell_type": "code",
      "execution_count": 7,
      "metadata": {},
      "outputs": [
        {
          "output_type": "display_data",
          "metadata": {},
          "data": {
            "text/html": [
              "'lm'"
            ]
          }
        }
      ],
      "source": [
        "lmod <- lm(bill_length_mm ~ body_mass_g, data = penguins) # fit model\n",
        "class(lmod) # class of lmod"
      ],
      "id": "ff2ecdf1-5fe4-4f1a-957d-5098eb9764bf"
    },
    {
      "cell_type": "markdown",
      "metadata": {},
      "source": [
        "The `summary` function is commonly used to summarize the results of our\n",
        "fitted model.\n",
        "\n",
        "When an `lm` object is supplied to the `summary` function, it returns:\n",
        "\n",
        "-   `Call`: the function call used to fit the model.\n",
        "-   `Residuals`: A 5-number summary of the\n",
        "    $\\hat{\\epsilon}_1, \\ldots, \\hat{\\epsilon}_n$.\n",
        "-   `Coefficients`: A table that lists:\n",
        "    -   The regressors in the fitted model.\n",
        "    -   `Estimate`: the estimated coefficient for each regressor.\n",
        "    -   `Std. Error`: the *estimated* standard error of the estimated\n",
        "        coefficients.\n",
        "    -   `t value`: the computed test statistic associated with testing\n",
        "        $H_0: \\beta_j = 0$ versus $H_a: \\beta_j \\neq 0$ for each\n",
        "        regression coefficient in the model.\n",
        "    -   `Pr(>|t|)`: the associated p-value of each test.\n",
        "-   Various summary statistics:\n",
        "    -   `Residual standard error` is the value of $\\hat{\\sigma}$, the\n",
        "        estimate of the error standard deviation. The degrees of freedom\n",
        "        is $\\mathrm{df}_{RSS}$, the number of observations minus the\n",
        "        number of estimated coefficients in the model.\n",
        "    -   `Multiple R-squared` is an estimate of model fit.\n",
        "    -   `Adjusted R-squared` is a modified version of\n",
        "        `Multiple R-squared`.\n",
        "    -   `F-statistic` is the test statistic for the test that compares\n",
        "        the model with an only an intercept to the fitted model. The\n",
        "        `DF` (degrees of freedom) values relate to the statistic under\n",
        "        the null hypothesis, and the `p-value` is the p-value for the\n",
        "        test.\n",
        "\n",
        "We use the `summary` function on `lmod` to produce the output below."
      ],
      "id": "4202dd9c-d5a4-47f4-9a2a-ad78de9a8828"
    },
    {
      "cell_type": "code",
      "execution_count": 8,
      "metadata": {},
      "outputs": [
        {
          "output_type": "display_data",
          "metadata": {},
          "data": {
            "text/plain": [
              "\n",
              "Call:\n",
              "lm(formula = bill_length_mm ~ body_mass_g, data = penguins)\n",
              "\n",
              "Residuals:\n",
              "     Min       1Q   Median       3Q      Max \n",
              "-10.1251  -3.0434  -0.8089   2.0711  16.1109 \n",
              "\n",
              "Coefficients:\n",
              "             Estimate Std. Error t value Pr(>|t|)    \n",
              "(Intercept) 2.690e+01  1.269e+00   21.19   <2e-16 ***\n",
              "body_mass_g 4.051e-03  2.967e-04   13.65   <2e-16 ***\n",
              "---\n",
              "Signif. codes:  0 '***' 0.001 '**' 0.01 '*' 0.05 '.' 0.1 ' ' 1\n",
              "\n",
              "Residual standard error: 4.394 on 340 degrees of freedom\n",
              "  (2 observations deleted due to missingness)\n",
              "Multiple R-squared:  0.3542,    Adjusted R-squared:  0.3523 \n",
              "F-statistic: 186.4 on 1 and 340 DF,  p-value: < 2.2e-16"
            ]
          }
        }
      ],
      "source": [
        "# summarize results stored in lmod\n",
        "summary(lmod)"
      ],
      "id": "a7d3df49-4545-4d97-8843-3d4db5ca5cf0"
    },
    {
      "cell_type": "markdown",
      "metadata": {},
      "source": [
        "Using the output above, we see that the estimated parameters are\n",
        "$\\hat{\\beta}_0=26.9$ and $\\hat{\\beta}_1=0.004$.\n",
        "\n",
        "Our fitted model is $$\n",
        "\\widehat{\\mathtt{bill\\_length\\_mm}}=26.9+0.004 \\,\\mathtt{body\\_mass\\_g}.\n",
        "$$\n",
        "\n",
        "In the context of a simple linear regression model:\n",
        "\n",
        "-   The intercept term is the expected response when the value of the\n",
        "    regressor is zero.\n",
        "-   The slope is the expected change in the response when the regressor\n",
        "    increases by 1 unit.\n",
        "\n",
        "Thus, based on the model we fit to the `penguins` data, we can make the\n",
        "following interpretations:\n",
        "\n",
        "-   $\\hat{\\beta}_1$: If a penguin has a body mass 1 gram larger than\n",
        "    another penguin, we expect the larger penguin’s bill length to be\n",
        "    0.004 millimeters longer.\n",
        "\n",
        "-   $\\hat{\\beta}_0$: A penguin with a body mass of 0 grams is expected\n",
        "    to have a bill length of 26.9 millimeters.\n",
        "\n",
        "-   **Question:** Does the intercept term make sense physically?\n",
        "\n",
        "The `abline` function can be used to automatically overlay the fitted\n",
        "model on the observed data."
      ],
      "id": "67a1dceb-b366-41b8-86e3-cdac9ff348e5"
    },
    {
      "cell_type": "code",
      "execution_count": 9,
      "metadata": {},
      "outputs": [
        {
          "output_type": "display_data",
          "metadata": {},
          "data": {
            "image/png": "[encoded data removed]"
          }
        }
      ],
      "source": [
        "plot(bill_length_mm ~ body_mass_g,\n",
        "     data = penguins, main = \"Penguin size measurements\",\n",
        "     ylab = \"bill length (mm)\", xlab = \"body mass (g)\")\n",
        "# draw fitted line of plot\n",
        "abline(lmod)"
      ],
      "id": "2b26d7f8-6454-493a-81fa-74aa42c74fa8"
    },
    {
      "cell_type": "markdown",
      "metadata": {},
      "source": [
        "R provides many additional methods (generic functions that do something\n",
        "specific when applied to a certain type of object) for `lm` objects.\n",
        "Commonly used ones include:"
      ],
      "id": "755ad556-b707-425e-b8d4-e119360ec8a3"
    },
    {
      "cell_type": "code",
      "execution_count": 10,
      "metadata": {},
      "outputs": [
        {
          "output_type": "display_data",
          "metadata": {},
          "data": {
            "text/html": [
              "<style>\n",
              ".dl-inline {width: auto; margin:0; padding: 0}\n",
              ".dl-inline>dt, .dl-inline>dd {float: none; width: auto; display: inline-block}\n",
              ".dl-inline>dt::after {content: \":\\0020\"; padding-right: .5ex}\n",
              ".dl-inline>dt:not(:first-of-type) {padding-left: .5ex}\n",
              "</style><dl class=dl-inline><dt>(Intercept)</dt><dd>26.8988724235986</dd><dt>body_mass_g</dt><dd>0.00405141658394523</dd></dl>"
            ]
          }
        },
        {
          "output_type": "display_data",
          "metadata": {},
          "data": {
            "text/html": [
              "<style>\n",
              ".dl-inline {width: auto; margin:0; padding: 0}\n",
              ".dl-inline>dt, .dl-inline>dd {float: none; width: auto; display: inline-block}\n",
              ".dl-inline>dt::after {content: \":\\0020\"; padding-right: .5ex}\n",
              ".dl-inline>dt:not(:first-of-type) {padding-left: .5ex}\n",
              "</style><dl class=dl-inline><dt>1</dt><dd>-2.99168461339244</dd><dt>2</dt><dd>-2.79425544259038</dd><dt>3</dt><dd>0.234023678579446</dd><dt>5</dt><dd>-4.17625963820959</dd><dt>6</dt><dd>-2.38654295499865</dd><dt>7</dt><dd>-2.68525754040001</dd></dl>"
            ]
          }
        },
        {
          "output_type": "display_data",
          "metadata": {},
          "data": {
            "text/html": [
              "<style>\n",
              ".dl-inline {width: auto; margin:0; padding: 0}\n",
              ".dl-inline>dt, .dl-inline>dd {float: none; width: auto; display: inline-block}\n",
              ".dl-inline>dt::after {content: \":\\0020\"; padding-right: .5ex}\n",
              ".dl-inline>dt:not(:first-of-type) {padding-left: .5ex}\n",
              "</style><dl class=dl-inline><dt>1</dt><dd>42.0916846133924</dd><dt>2</dt><dd>42.2942554425904</dd><dt>3</dt><dd>40.0659763214205</dd><dt>5</dt><dd>40.8762596382096</dd><dt>6</dt><dd>41.6865429549986</dd><dt>7</dt><dd>41.5852575404</dd></dl>"
            ]
          }
        },
        {
          "output_type": "display_data",
          "metadata": {},
          "data": {
            "text/html": [
              "<style>\n",
              ".dl-inline {width: auto; margin:0; padding: 0}\n",
              ".dl-inline>dt, .dl-inline>dd {float: none; width: auto; display: inline-block}\n",
              ".dl-inline>dt::after {content: \":\\0020\"; padding-right: .5ex}\n",
              ".dl-inline>dt:not(:first-of-type) {padding-left: .5ex}\n",
              "</style><dl class=dl-inline><dt>1</dt><dd>42.0916846133932</dd><dt>2</dt><dd>42.2942554425905</dd><dt>3</dt><dd>40.0659763214206</dd><dt>5</dt><dd>40.8762596382096</dd><dt>6</dt><dd>41.6865429549987</dd><dt>7</dt><dd>41.5852575404</dd></dl>"
            ]
          }
        },
        {
          "output_type": "display_data",
          "metadata": {},
          "data": {
            "text/html": [
              "6564.49417126171"
            ]
          }
        },
        {
          "output_type": "display_data",
          "metadata": {},
          "data": {
            "text/html": [
              "340"
            ]
          }
        },
        {
          "output_type": "display_data",
          "metadata": {},
          "data": {
            "text/html": [
              "19.3073357978286"
            ]
          }
        }
      ],
      "source": [
        "(coeffs <- coef(lmod)) # extract, assign, and print coefficients\n",
        "ehat <- residuals(lmod) # extract and assign residuals\n",
        "head(ehat) # first few residuals\n",
        "yhat <- fitted(lmod) # extract and assign fitted values\n",
        "head(yhat) # first few fitted values\n",
        "yhat2 <- predict(lmod) # compute and assign fitted values\n",
        "head(yhat2) # first few fitted values\n",
        "(rss <- deviance(lmod)) # extract, assign, and print rss\n",
        "(dfr <- df.residual(lmod)) # extract residual df\n",
        "(sigmasqhat <- sigma(lmod)^2) # estimated error variance"
      ],
      "id": "324585cf-c4d1-4880-aac2-0a11b7b0b353"
    },
    {
      "cell_type": "markdown",
      "metadata": {},
      "source": [
        "**Question:**\n",
        "\n",
        "-   What is the RSS of the fitted model?"
      ],
      "id": "7c39b824-d154-45cc-a12b-c631faa57056"
    },
    {
      "cell_type": "raw",
      "metadata": {
        "raw_mimetype": "text/html"
      },
      "source": [
        "<!-- # Defining a linear model -->"
      ],
      "id": "2e5df1ed-a54b-4f84-b2d7-b219e7e918ed"
    },
    {
      "cell_type": "raw",
      "metadata": {
        "raw_mimetype": "text/html"
      },
      "source": [
        "<!-- - $Y$ denotes the response variable. -->"
      ],
      "id": "85abecba-a2a2-4c0d-9b55-4110831db83c"
    },
    {
      "cell_type": "raw",
      "metadata": {
        "raw_mimetype": "text/html"
      },
      "source": [
        "<!--     - The response variable is treated as a random variable. -->"
      ],
      "id": "81d2935a-1a26-463b-931e-a5f811987453"
    },
    {
      "cell_type": "raw",
      "metadata": {
        "raw_mimetype": "text/html"
      },
      "source": [
        "<!--     - We will observe realizations of this random variable for each observation in our data set. -->"
      ],
      "id": "1968b8b2-c0b8-4d9f-92a0-ac7aeefaa13f"
    },
    {
      "cell_type": "raw",
      "metadata": {
        "raw_mimetype": "text/html"
      },
      "source": [
        "<!-- - $X$ denotes a single regressor variable. $X_1, X_2, \\ldots, X_{p-1}$ denote distinct regressor variables if we are performing regression with multiple regressor variables. -->"
      ],
      "id": "e287d590-db08-4c73-adee-442b15ad2e27"
    },
    {
      "cell_type": "raw",
      "metadata": {
        "raw_mimetype": "text/html"
      },
      "source": [
        "<!--     - The regressor variables are treated as non-random variables. -->"
      ],
      "id": "8642adce-d44e-428b-813c-d31b49131692"
    },
    {
      "cell_type": "raw",
      "metadata": {
        "raw_mimetype": "text/html"
      },
      "source": [
        "<!--     - The observed values of the regressor variables are treated as fixed, known values. -->"
      ],
      "id": "0a823172-b7c1-4548-8e2c-444bc02768aa"
    },
    {
      "cell_type": "raw",
      "metadata": {
        "raw_mimetype": "text/html"
      },
      "source": [
        "<!-- - $\\mathbb{X}=\\{X_0, X_1,\\ldots,X_{p-1}\\}$ denotes the collection of all regressors under consideration, though this notation is really only needed in the context of multiple regression. $X_0$ is usually the constant regressor 1, which is needed to include an intercept in the regression model. -->"
      ],
      "id": "c338eba6-f5b9-4369-88f4-3ae55acf0b5f"
    },
    {
      "cell_type": "raw",
      "metadata": {
        "raw_mimetype": "text/html"
      },
      "source": [
        "<!-- - $\\beta_0$, $\\beta_1$, $\\ldots$, $\\beta_{p-1}$ denote **regression coefficients**. -->"
      ],
      "id": "dfd048ae-7e16-4c89-aa77-84a3afdbe809"
    },
    {
      "cell_type": "raw",
      "metadata": {
        "raw_mimetype": "text/html"
      },
      "source": [
        "<!--     - Regression coefficients are statistical parameters that we will estimate from our data. -->"
      ],
      "id": "7b06c61c-1723-4f9a-a7fb-5fe86479816a"
    },
    {
      "cell_type": "raw",
      "metadata": {
        "raw_mimetype": "text/html"
      },
      "source": [
        "<!--     - The regression coefficients are treated as fixed, non-random but unknown values. -->"
      ],
      "id": "ea895658-f3a8-417e-8f6f-8dcbef67637c"
    },
    {
      "cell_type": "raw",
      "metadata": {
        "raw_mimetype": "text/html"
      },
      "source": [
        "<!--     - Regression coefficients are not observable. -->"
      ],
      "id": "a30f170b-6f09-4340-a5c1-fca8e328c293"
    },
    {
      "cell_type": "raw",
      "metadata": {
        "raw_mimetype": "text/html"
      },
      "source": [
        "<!-- - $\\epsilon$ denotes model **error**. -->"
      ],
      "id": "d0ab7070-8211-4f4c-bf59-0d9e7dddec63"
    },
    {
      "cell_type": "raw",
      "metadata": {
        "raw_mimetype": "text/html"
      },
      "source": [
        "<!--     - The model error is more accurately described as random variation of each observation from the regression model. -->"
      ],
      "id": "1e3b02fe-94fa-466c-8b76-f282bb4818f9"
    },
    {
      "cell_type": "raw",
      "metadata": {
        "raw_mimetype": "text/html"
      },
      "source": [
        "<!--     - The error is treated as a random variable. -->"
      ],
      "id": "9da6c8f5-d38e-4f1d-9651-62c97aa6ebf6"
    },
    {
      "cell_type": "raw",
      "metadata": {
        "raw_mimetype": "text/html"
      },
      "source": [
        "<!--     - The error is assumed to have mean 0 for all values of the regressors. We write this as $E(\\epsilon \\mid \\mathbb{X}) = 0$, which is read as, \"The expected value of $\\epsilon$ conditional on knowing all the regressor values equals 0\". The notation \"$\\mid \\mathbb{X}$\" extends the notation used in Equation \\@ref(eq:slr-equation) to multiple regressors. -->"
      ],
      "id": "af9d90c6-04eb-4e50-a18b-26eebf07b467"
    },
    {
      "cell_type": "raw",
      "metadata": {
        "raw_mimetype": "text/html"
      },
      "source": [
        "<!--     - The variance of the errors is assumed to be a constant value for all values of the regressors. We write this assumption as $\\mathrm{var}(\\epsilon \\mid \\mathbb{X})=\\sigma^2$. -->"
      ],
      "id": "13ec4cc2-6621-4bc6-82fe-7e606dc27197"
    },
    {
      "cell_type": "raw",
      "metadata": {
        "raw_mimetype": "text/html"
      },
      "source": [
        "<!--     - The error is never observable (except in the context of a simulation study where the experimenter literally defines the true model). -->"
      ],
      "id": "b4543452-baec-4167-bd44-2c3be8d97987"
    },
    {
      "cell_type": "raw",
      "metadata": {
        "raw_mimetype": "text/html"
      },
      "source": [
        "<!-- ## Standard definition of linear model -->"
      ],
      "id": "7a33bed9-affa-490c-b061-225d717d335c"
    },
    {
      "cell_type": "raw",
      "metadata": {
        "raw_mimetype": "text/html"
      },
      "source": [
        "<!-- In general, a linear regression model can have an arbitrary number of regressors. A **multiple linear regression** model has two or more regressors. -->"
      ],
      "id": "fb761fea-369e-45cb-a044-38874b7a8344"
    },
    {
      "cell_type": "raw",
      "metadata": {
        "raw_mimetype": "text/html"
      },
      "source": [
        "<!-- A **linear model** for $Y$ is defined by the equation -->"
      ],
      "id": "63365805-6c9b-4785-a368-96608a0ee348"
    },
    {
      "cell_type": "raw",
      "metadata": {
        "raw_mimetype": "text/html"
      },
      "source": [
        "<!-- \\[ -->"
      ],
      "id": "996e4a1b-8a8b-4ac4-aa99-c0e45ac79019"
    },
    {
      "cell_type": "raw",
      "metadata": {
        "raw_mimetype": "text/html"
      },
      "source": [
        "<!-- \\begin{aligned} -->"
      ],
      "id": "3e9e40c9-d3fe-40e6-a26b-d6d62e22fa2f"
    },
    {
      "cell_type": "raw",
      "metadata": {
        "raw_mimetype": "text/html"
      },
      "source": [
        "<!-- Y &= \\beta_0 + \\beta_1 X_1 + \\beta_2 X_2 + \\cdots + \\beta_{p-1} -->"
      ],
      "id": "1150742f-19f6-4361-af57-bca3f09ba41d"
    },
    {
      "cell_type": "raw",
      "metadata": {
        "raw_mimetype": "text/html"
      },
      "source": [
        "<!-- X_{p-1} + \\epsilon \\\\ -->"
      ],
      "id": "fd75f6cd-a199-48e0-82b5-6563cfe37781"
    },
    {
      "cell_type": "raw",
      "metadata": {
        "raw_mimetype": "text/html"
      },
      "source": [
        "<!-- &= E(Y \\mid \\mathbb{X}) + \\epsilon. -->"
      ],
      "id": "5d4472e5-a3a4-4f7e-822d-a0bd82292d8d"
    },
    {
      "cell_type": "raw",
      "metadata": {
        "raw_mimetype": "text/html"
      },
      "source": [
        "<!-- \\end{aligned} -->"
      ],
      "id": "32a771e9-8e62-4804-ad4d-17fe54692570"
    },
    {
      "cell_type": "raw",
      "metadata": {
        "raw_mimetype": "text/html"
      },
      "source": [
        "<!-- (\\#eq:lmdef) -->"
      ],
      "id": "e93dd42f-c2d3-4696-bef4-853c451a5559"
    },
    {
      "cell_type": "raw",
      "metadata": {
        "raw_mimetype": "text/html"
      },
      "source": [
        "<!-- \\] -->"
      ],
      "id": "f47f85ef-c167-4170-a849-221d14d8d270"
    },
    {
      "cell_type": "raw",
      "metadata": {
        "raw_mimetype": "text/html"
      },
      "source": [
        "<!-- We write the linear model in this way to emphasize the fact *the response value equals the expected response for that combination of regressor values plus some error*. It should be clear from comparing Equation \\@ref(eq:lmdef) with the previous line that -->"
      ],
      "id": "f575c46f-07ee-463c-9eee-5df4f850ccac"
    },
    {
      "cell_type": "raw",
      "metadata": {
        "raw_mimetype": "text/html"
      },
      "source": [
        "<!-- \\[ -->"
      ],
      "id": "5aea7bcd-71a1-4093-9f31-23f2fd26e69e"
    },
    {
      "cell_type": "raw",
      "metadata": {
        "raw_mimetype": "text/html"
      },
      "source": [
        "<!-- E(Y \\mid \\mathbb{X}) = \\beta_0 + \\beta_1 X_1 + \\beta_2 X_2 + \\cdots + \\beta_{p-1} X_{p-1}, -->"
      ],
      "id": "ee270fd7-ad56-4958-8b0b-ea1262b07b45"
    },
    {
      "cell_type": "raw",
      "metadata": {
        "raw_mimetype": "text/html"
      },
      "source": [
        "<!-- \\] -->"
      ],
      "id": "fe1d9f46-ffdd-469c-8c1d-9da36253325c"
    },
    {
      "cell_type": "raw",
      "metadata": {
        "raw_mimetype": "text/html"
      },
      "source": [
        "<!-- --- -->"
      ],
      "id": "4e4c28e5-58de-4602-9f0b-140c5be73a3a"
    },
    {
      "cell_type": "raw",
      "metadata": {
        "raw_mimetype": "text/html"
      },
      "source": [
        "<!-- More generally, one can say that a regression model is linear if the mean function can be written as a linear combination of the regression coefficients and known values created from our regressor variables, i.e., -->"
      ],
      "id": "0281d8fa-6978-4620-848e-881b10dcc374"
    },
    {
      "cell_type": "raw",
      "metadata": {
        "raw_mimetype": "text/html"
      },
      "source": [
        "<!-- \\[ -->"
      ],
      "id": "8458a317-77b0-46fb-8757-175c1c16b750"
    },
    {
      "cell_type": "raw",
      "metadata": {
        "raw_mimetype": "text/html"
      },
      "source": [
        "<!-- E(Y \\mid \\mathbb{X}) = \\sum_{j=0}^{p-1} c_j \\beta_j, (\\#eq:lmdef-cj) -->"
      ],
      "id": "28857aa6-dbc9-4007-b22e-5b5a5dba1b58"
    },
    {
      "cell_type": "raw",
      "metadata": {
        "raw_mimetype": "text/html"
      },
      "source": [
        "<!-- \\] -->"
      ],
      "id": "3ea66c62-d2b5-49ac-a477-d553a4c76142"
    },
    {
      "cell_type": "raw",
      "metadata": {
        "raw_mimetype": "text/html"
      },
      "source": [
        "<!-- where $c_0, c_1, \\ldots, c_{p-1}$ are known functions of -->"
      ],
      "id": "bfd421b3-e048-4b0b-9756-2e652c9ad649"
    },
    {
      "cell_type": "raw",
      "metadata": {
        "raw_mimetype": "text/html"
      },
      "source": [
        "<!-- the regressor variables, e.g., $c_1 = X_1 X_2 X_3$, $c_3 = X_2^2$, -->"
      ],
      "id": "c4b0b668-f3bf-4df7-92f9-1c02e944a3b1"
    },
    {
      "cell_type": "raw",
      "metadata": {
        "raw_mimetype": "text/html"
      },
      "source": [
        "<!-- $c_8 = \\ln(X_1)/X_2^2$, etc. Thus, if $g_0,\\ldots,g_{p-1}$ are functions of $\\mathbb{X}$, then we can say that the regression model is linear if -->"
      ],
      "id": "f1005f89-57de-4cbd-afed-620dceaf9de2"
    },
    {
      "cell_type": "raw",
      "metadata": {
        "raw_mimetype": "text/html"
      },
      "source": [
        "<!-- it can be written as -->"
      ],
      "id": "aee1cbdb-3176-477e-a2f4-d6c722ab3b3a"
    },
    {
      "cell_type": "raw",
      "metadata": {
        "raw_mimetype": "text/html"
      },
      "source": [
        "<!-- \\[ -->"
      ],
      "id": "f1e8bae1-d4a9-4f04-bccb-c1d01635564e"
    },
    {
      "cell_type": "raw",
      "metadata": {
        "raw_mimetype": "text/html"
      },
      "source": [
        "<!-- E(Y\\mid \\mathbb{X}) = \\sum_{j=0}^{p-1} g_j(\\mathbb{X})\\beta_j. -->"
      ],
      "id": "a478c55f-e099-4fec-b1ca-7a829ef6e98e"
    },
    {
      "cell_type": "raw",
      "metadata": {
        "raw_mimetype": "text/html"
      },
      "source": [
        "<!-- \\] -->"
      ],
      "id": "f2f1bb8c-cf95-40d2-8611-b474c0f154c7"
    },
    {
      "cell_type": "raw",
      "metadata": {
        "raw_mimetype": "text/html"
      },
      "source": [
        "<!-- --- -->"
      ],
      "id": "cb43622f-39e8-41b4-9240-d4007016c6af"
    },
    {
      "cell_type": "raw",
      "metadata": {
        "raw_mimetype": "text/html"
      },
      "source": [
        "<!-- A model is linear because of its *form*, not the shape it produces. Many of the linear model examples given below do not result in a straight line or surface, but are curved. Some examples of linear regression models are: -->"
      ],
      "id": "3932acee-d480-4546-b21c-713847b6e0ae"
    },
    {
      "cell_type": "raw",
      "metadata": {
        "raw_mimetype": "text/html"
      },
      "source": [
        "<!-- -   $E(Y|X) = \\beta_0$. -->"
      ],
      "id": "fdc7b393-cf56-4541-941f-8ba7912b5f66"
    },
    {
      "cell_type": "raw",
      "metadata": {
        "raw_mimetype": "text/html"
      },
      "source": [
        "<!-- -   $E(Y|X) = \\beta_0 + +\\beta_1 X + \\beta_2 X^2$. -->"
      ],
      "id": "5e0cad37-2ef4-472a-b74c-5559e96073f4"
    },
    {
      "cell_type": "raw",
      "metadata": {
        "raw_mimetype": "text/html"
      },
      "source": [
        "<!-- -   $E(Y|X_1, X_2) = \\beta_0 + \\beta_1 X_1 + \\beta_2 X_2$. -->"
      ],
      "id": "72eb7efa-85a2-456a-bc45-ac3b8867d40f"
    },
    {
      "cell_type": "raw",
      "metadata": {
        "raw_mimetype": "text/html"
      },
      "source": [
        "<!-- -   $E(Y|X_1, X_2) = \\beta_0 + \\beta_1 X_1 + \\beta_2 X_2 + \\beta_3 X_1 X_2$. -->"
      ],
      "id": "54ff1d1a-58e5-4b9c-a1aa-d39dc93e0e20"
    },
    {
      "cell_type": "raw",
      "metadata": {
        "raw_mimetype": "text/html"
      },
      "source": [
        "<!-- -   $E(Y|X_1, X_2) = \\beta_0 + \\beta_1 \\ln(X_1) + \\beta_2 X_2^{-1}$. -->"
      ],
      "id": "2d8a0f49-ffc5-469a-bd16-b0df4cabf649"
    },
    {
      "cell_type": "raw",
      "metadata": {
        "raw_mimetype": "text/html"
      },
      "source": [
        "<!-- -   $E(\\ln(Y)|X_1, X_2) = \\beta_0 + \\beta_1 X_1 + \\beta_2 X_2$. -->"
      ],
      "id": "b86d136a-0591-43d4-87e2-7ed8b81bbd62"
    },
    {
      "cell_type": "raw",
      "metadata": {
        "raw_mimetype": "text/html"
      },
      "source": [
        "<!-- -   $E(Y^{-1}|X_1, X_2) = \\beta_0 + \\beta_1 X_1 + \\beta_2 X_2$. -->"
      ],
      "id": "66a8ba45-b34c-47f1-ad51-df0315c23a7d"
    },
    {
      "cell_type": "raw",
      "metadata": {
        "raw_mimetype": "text/html"
      },
      "source": [
        "<!-- Some examples of non-linear regression models are: -->"
      ],
      "id": "accb378b-6195-4fa2-b884-fbf5f414344d"
    },
    {
      "cell_type": "raw",
      "metadata": {
        "raw_mimetype": "text/html"
      },
      "source": [
        "<!-- -   $E(Y|X) = \\beta_0 + e^{\\beta_1 X}$. -->"
      ],
      "id": "85db8d07-bed4-452d-ba1f-81a2170e840b"
    },
    {
      "cell_type": "raw",
      "metadata": {
        "raw_mimetype": "text/html"
      },
      "source": [
        "<!-- -   $E(Y|X) = \\beta_0 + \\beta_1 X/(\\beta_2 + X)$. -->"
      ],
      "id": "a747340b-1542-4dbf-8e35-bb2173b8ac31"
    },
    {
      "cell_type": "raw",
      "metadata": {
        "raw_mimetype": "text/html"
      },
      "source": [
        "<!-- The latter regression models are non-linear models because there is no way to express them using the expression in Equation \\@ref(eq:lmdef-cj). -->"
      ],
      "id": "2040e146-f3b0-4eb1-82d8-cd7b36b73aea"
    },
    {
      "cell_type": "raw",
      "metadata": {
        "raw_mimetype": "text/html"
      },
      "source": [
        "<!-- # Estimation of the multiple linear regression model -->"
      ],
      "id": "bcd60a85-b649-450a-80e6-6af533df9712"
    },
    {
      "cell_type": "raw",
      "metadata": {
        "raw_mimetype": "text/html"
      },
      "source": [
        "<!-- Suppose we want to estimate the parameters of a linear model with 1 or more regressors, i.e., when we use the model -->"
      ],
      "id": "b04ffead-6769-414a-b78f-c1e0e2b3c9db"
    },
    {
      "cell_type": "raw",
      "metadata": {
        "raw_mimetype": "text/html"
      },
      "source": [
        "<!-- \\[ -->"
      ],
      "id": "74e38a86-432a-43f2-aeb1-40719aaaed37"
    },
    {
      "cell_type": "raw",
      "metadata": {
        "raw_mimetype": "text/html"
      },
      "source": [
        "<!-- Y=\\beta_0 + \\beta_1 X_1 + \\cdots + \\beta_{p-1} X_{p-1} + \\epsilon. -->"
      ],
      "id": "0ac060ee-13e4-410c-98c9-e09e2cea732e"
    },
    {
      "cell_type": "raw",
      "metadata": {
        "raw_mimetype": "text/html"
      },
      "source": [
        "<!-- \\] -->"
      ],
      "id": "4e4ab13a-fa60-4ce9-8925-1f76ecccaeb3"
    },
    {
      "cell_type": "raw",
      "metadata": {
        "raw_mimetype": "text/html"
      },
      "source": [
        "<!-- The system of equations relating the responses, the regressors, and the errors for all $n$ observations can be written as -->"
      ],
      "id": "12e06202-a18e-4329-8f1c-4051f627dc22"
    },
    {
      "cell_type": "raw",
      "metadata": {
        "raw_mimetype": "text/html"
      },
      "source": [
        "<!-- \\[ -->"
      ],
      "id": "484e626f-9dc2-47bd-83c6-0c338f7972d6"
    },
    {
      "cell_type": "raw",
      "metadata": {
        "raw_mimetype": "text/html"
      },
      "source": [
        "<!-- Y_i = \\beta_0 + \\beta_1 x_{i,1} + \\beta_2 x_{i,2} + \\cdots + \\beta_{p-1} x_{i,p-1} + \\epsilon_i,\\quad i=1,2,\\ldots,n. -->"
      ],
      "id": "989f8627-c7a6-46fb-9eac-4bf48606dc63"
    },
    {
      "cell_type": "raw",
      "metadata": {
        "raw_mimetype": "text/html"
      },
      "source": [
        "<!-- (\\#eq:lmSystem) -->"
      ],
      "id": "02cf562c-7d10-42b8-9adc-7ccf895a4009"
    },
    {
      "cell_type": "raw",
      "metadata": {
        "raw_mimetype": "text/html"
      },
      "source": [
        "<!-- \\] -->"
      ],
      "id": "11413fdd-6af5-42e5-8c04-0efdc5b7707a"
    },
    {
      "cell_type": "raw",
      "metadata": {
        "raw_mimetype": "text/html"
      },
      "source": [
        "<!-- ## Using matrix notation to represent a linear model -->"
      ],
      "id": "592081b1-f766-42bd-bd54-546740fa593f"
    },
    {
      "cell_type": "raw",
      "metadata": {
        "raw_mimetype": "text/html"
      },
      "source": [
        "<!-- We can simplify the linear model described in Equation \\@ref(eq:lmSystem) using matrix notation. It may be useful to refer to Appendix \\@ref(overview-of-matrix-facts) for a brief overview of matrix-related information. -->"
      ],
      "id": "3f1bb2e4-3005-467c-b1eb-9b8006611993"
    },
    {
      "cell_type": "raw",
      "metadata": {
        "raw_mimetype": "text/html"
      },
      "source": [
        "<!-- We use the following notation: -->"
      ],
      "id": "ff59c77a-b846-4cf6-b4ba-98132f3cab42"
    },
    {
      "cell_type": "raw",
      "metadata": {
        "raw_mimetype": "text/html"
      },
      "source": [
        "<!-- -   $\\mathbf{y} = [Y_1, Y_2, \\ldots, Y_n]$ denotes the column vector containing the $n$ observed response values. -->"
      ],
      "id": "a1620998-33f9-4fa9-aae4-8e66e3b95066"
    },
    {
      "cell_type": "raw",
      "metadata": {
        "raw_mimetype": "text/html"
      },
      "source": [
        "<!-- -   $\\mathbf{X}$ denotes the matrix containing a column of 1s and the observed regressor values for $X_1, X_2, \\ldots, X_{p-1}$. This may be written as -->"
      ],
      "id": "30dda704-1e90-469b-b43b-eaa41794f573"
    },
    {
      "cell_type": "raw",
      "metadata": {
        "raw_mimetype": "text/html"
      },
      "source": [
        "<!--     \\[\\mathbf{X} = \\begin{bmatrix} -->"
      ],
      "id": "4a5347ba-5952-4681-9381-dac89cd8afb0"
    },
    {
      "cell_type": "raw",
      "metadata": {
        "raw_mimetype": "text/html"
      },
      "source": [
        "<!--     1 & x_{1,1} & x_{1,2} & \\cdots & x_{1,p-1} \\\\ -->"
      ],
      "id": "395085e6-a19a-40ec-98fc-960b11b5e78d"
    },
    {
      "cell_type": "raw",
      "metadata": {
        "raw_mimetype": "text/html"
      },
      "source": [
        "<!--     1 & x_{2,1} & x_{2,2} & \\cdots & x_{2,p-1} \\\\ -->"
      ],
      "id": "24e0faaa-0423-445a-9915-da449bf05328"
    },
    {
      "cell_type": "raw",
      "metadata": {
        "raw_mimetype": "text/html"
      },
      "source": [
        "<!--     \\vdots & \\vdots & \\vdots & \\vdots & \\vdots \\\\ -->"
      ],
      "id": "627f023a-e1f0-4975-aef2-49aa8e3cbf51"
    },
    {
      "cell_type": "raw",
      "metadata": {
        "raw_mimetype": "text/html"
      },
      "source": [
        "<!--     1 & x_{n,1} & x_{n,2} & \\cdots & x_{n,p-1} -->"
      ],
      "id": "fe0a0c56-6f0f-4e09-8bb5-8863eeca94b2"
    },
    {
      "cell_type": "raw",
      "metadata": {
        "raw_mimetype": "text/html"
      },
      "source": [
        "<!--     \\end{bmatrix}.\\] -->"
      ],
      "id": "94a45f8d-3eb0-4052-8cca-a95454c760c8"
    },
    {
      "cell_type": "raw",
      "metadata": {
        "raw_mimetype": "text/html"
      },
      "source": [
        "<!-- -   $\\boldsymbol{\\beta} = [\\beta_0, \\beta_1, \\ldots, \\beta_{p-1}]$ denotes the column vector containing the $p$ regression coefficients. -->"
      ],
      "id": "acf9403a-34d3-4f00-b1bb-64dce9352599"
    },
    {
      "cell_type": "raw",
      "metadata": {
        "raw_mimetype": "text/html"
      },
      "source": [
        "<!-- -   $\\boldsymbol{\\epsilon} = [\\epsilon_1, \\epsilon_2, \\ldots, \\epsilon_n]$ denotes the column vector contained the $n$ errors. -->"
      ],
      "id": "a73507a7-3e84-4285-88bb-99b83754256f"
    },
    {
      "cell_type": "raw",
      "metadata": {
        "raw_mimetype": "text/html"
      },
      "source": [
        "<!-- --- -->"
      ],
      "id": "b9498c20-9173-44d5-8743-de8c527b6471"
    },
    {
      "cell_type": "raw",
      "metadata": {
        "raw_mimetype": "text/html"
      },
      "source": [
        "<!-- The system of equations defining the linear model in Equation \\@ref(eq:lmSystem) can be written as -->"
      ],
      "id": "9b57e3f7-acf9-437b-9ca2-b6050f0b0373"
    },
    {
      "cell_type": "raw",
      "metadata": {
        "raw_mimetype": "text/html"
      },
      "source": [
        "<!-- \\[ -->"
      ],
      "id": "8ec0dcc7-76b9-46a8-b49d-353c07f5cb09"
    },
    {
      "cell_type": "raw",
      "metadata": {
        "raw_mimetype": "text/html"
      },
      "source": [
        "<!-- \\mathbf{y} = \\mathbf{X}\\boldsymbol{\\beta} + \\boldsymbol{\\epsilon}. -->"
      ],
      "id": "a08a2627-a521-4e05-925f-06eb14f2f79f"
    },
    {
      "cell_type": "raw",
      "metadata": {
        "raw_mimetype": "text/html"
      },
      "source": [
        "<!-- \\] -->"
      ],
      "id": "c7b755e8-69ec-4610-af16-33096132f627"
    },
    {
      "cell_type": "raw",
      "metadata": {
        "raw_mimetype": "text/html"
      },
      "source": [
        "<!-- Thus, matrix notation can be used to represent a system of linear equations. A model that cannot be represented as a system of linear equations using matrices is not a linear model. -->"
      ],
      "id": "04e3ae42-0cb1-430b-9918-e0b0a84cd778"
    },
    {
      "cell_type": "raw",
      "metadata": {
        "raw_mimetype": "text/html"
      },
      "source": [
        "<!-- ## Residuals, fitted values, and RSS for multiple linear regression  -->"
      ],
      "id": "1308fe7b-a922-47f8-9310-caa06d54a5bd"
    },
    {
      "cell_type": "raw",
      "metadata": {
        "raw_mimetype": "text/html"
      },
      "source": [
        "<!-- We now discuss of residuals, fitted values, and RSS for the multiple linear regression context using matrix notation. -->"
      ],
      "id": "c778b818-f04e-4f17-94d2-b671643a1bd6"
    },
    {
      "cell_type": "raw",
      "metadata": {
        "raw_mimetype": "text/html"
      },
      "source": [
        "<!-- The vector of estimated values for the coefficients contained in $\\boldsymbol{\\beta}$ is denoted -->"
      ],
      "id": "87a7e78c-d213-4d3c-bcd9-95c3b03a0390"
    },
    {
      "cell_type": "raw",
      "metadata": {
        "raw_mimetype": "text/html"
      },
      "source": [
        "<!-- \\[ -->"
      ],
      "id": "74a6d329-6fa2-4087-acad-b50825d48ea4"
    },
    {
      "cell_type": "raw",
      "metadata": {
        "raw_mimetype": "text/html"
      },
      "source": [
        "<!-- \\hat{\\boldsymbol{\\beta}}=[\\hat{\\beta}_0,\\hat{\\beta}_1,\\ldots,\\hat{\\beta}_{p-1}]. (\\#eq:def-beta-matrix) -->"
      ],
      "id": "d4756e43-4e7e-4ecf-b336-59ed4c32f3f2"
    },
    {
      "cell_type": "raw",
      "metadata": {
        "raw_mimetype": "text/html"
      },
      "source": [
        "<!-- \\] -->"
      ],
      "id": "bd371157-c4bc-4df5-9fd6-6473e172364d"
    },
    {
      "cell_type": "raw",
      "metadata": {
        "raw_mimetype": "text/html"
      },
      "source": [
        "<!-- The vector of regressor values for the $i$th observation is denoted -->"
      ],
      "id": "a9018686-1cfa-4b7f-b0d2-c84cf829b7a6"
    },
    {
      "cell_type": "raw",
      "metadata": {
        "raw_mimetype": "text/html"
      },
      "source": [
        "<!-- \\[ -->"
      ],
      "id": "a1d840fe-9799-47e4-a322-87802a0bfb0c"
    },
    {
      "cell_type": "raw",
      "metadata": {
        "raw_mimetype": "text/html"
      },
      "source": [
        "<!-- \\mathbf{x}_i=[1,x_{i,1},\\ldots,x_{i,p-1}], (\\#eq:def-ith-regressor-matrix) -->"
      ],
      "id": "ebcb5cad-a77c-4ab5-8270-5413de7deb74"
    },
    {
      "cell_type": "raw",
      "metadata": {
        "raw_mimetype": "text/html"
      },
      "source": [
        "<!-- \\] -->"
      ],
      "id": "932e1954-9775-456b-849c-5e8f213f0b31"
    },
    {
      "cell_type": "raw",
      "metadata": {
        "raw_mimetype": "text/html"
      },
      "source": [
        "<!-- * **Question:** Why do we include a vector of $1$'s? -->"
      ],
      "id": "8ea386b1-2355-447a-abe4-710251306d1e"
    },
    {
      "cell_type": "raw",
      "metadata": {
        "raw_mimetype": "text/html"
      },
      "source": [
        "<!-- --- -->"
      ],
      "id": "920e9411-ffae-4deb-9d4b-6ed9a53fa519"
    },
    {
      "cell_type": "raw",
      "metadata": {
        "raw_mimetype": "text/html"
      },
      "source": [
        "<!-- Extending the original definition of a fitted value in Equation \\@ref(eq:def-fitted-value-slr), the $i$th **fitted value** in the context of multiple linear regression is defined as -->"
      ],
      "id": "30a405d9-87f4-42ea-a2f6-9e9f01e2f3bf"
    },
    {
      "cell_type": "raw",
      "metadata": {
        "raw_mimetype": "text/html"
      },
      "source": [
        "<!-- \\[ -->"
      ],
      "id": "97dfb03f-a10f-4af5-b8d1-6fee08243483"
    },
    {
      "cell_type": "raw",
      "metadata": {
        "raw_mimetype": "text/html"
      },
      "source": [
        "<!-- \\begin{aligned} -->"
      ],
      "id": "9b8b8745-23f4-4fec-bf3c-1c643b4c3608"
    },
    {
      "cell_type": "raw",
      "metadata": {
        "raw_mimetype": "text/html"
      },
      "source": [
        "<!-- \\hat{Y}_i &= \\hat{E}(Y \\mid \\mathbb{X} = \\mathbf{x}_i) \\\\ -->"
      ],
      "id": "f9cde271-17e3-4df2-ac43-686a9e29dc91"
    },
    {
      "cell_type": "raw",
      "metadata": {
        "raw_mimetype": "text/html"
      },
      "source": [
        "<!-- &= \\hat{\\beta}_0 + \\hat{\\beta}_1 x_{i,1} + \\cdots + \\hat{\\beta}_{p-1} x_{i,p-1} \\\\ -->"
      ],
      "id": "9e76f4f2-5a0a-4ed4-9b2d-5e9bbb213982"
    },
    {
      "cell_type": "raw",
      "metadata": {
        "raw_mimetype": "text/html"
      },
      "source": [
        "<!-- &= \\mathbf{x}_i^T\\hat{\\boldsymbol{\\beta}}. -->"
      ],
      "id": "c5ad6c92-72e7-4b1f-92f5-90c614648e3b"
    },
    {
      "cell_type": "raw",
      "metadata": {
        "raw_mimetype": "text/html"
      },
      "source": [
        "<!-- \\end{aligned} -->"
      ],
      "id": "d4cd9c1b-8e36-4bf0-a54f-e232c1099b4f"
    },
    {
      "cell_type": "raw",
      "metadata": {
        "raw_mimetype": "text/html"
      },
      "source": [
        "<!-- (\\#eq:def-fitted-value-matrix) -->"
      ],
      "id": "9d09b692-2cd0-41ac-ad9c-65b10af18635"
    },
    {
      "cell_type": "raw",
      "metadata": {
        "raw_mimetype": "text/html"
      },
      "source": [
        "<!-- \\] -->"
      ],
      "id": "98ee9f72-4296-4fe1-9f6e-2722899793b8"
    },
    {
      "cell_type": "raw",
      "metadata": {
        "raw_mimetype": "text/html"
      },
      "source": [
        "<!-- The notation \"$\\mathbb{X} = \\mathbf{x}_i$\" is a concise way of saying \"$X_0 = 1, X_1=x_{i,1}, \\ldots, X_{p-1}=x_{i,p-1}$\". -->"
      ],
      "id": "c90fe505-1372-44c8-bdbd-ecbb81e98822"
    },
    {
      "cell_type": "raw",
      "metadata": {
        "raw_mimetype": "text/html"
      },
      "source": [
        "<!-- The column vector of fitted values is defined as -->"
      ],
      "id": "f740d5f4-ed17-4f2b-95a8-18d813d8e2de"
    },
    {
      "cell_type": "raw",
      "metadata": {
        "raw_mimetype": "text/html"
      },
      "source": [
        "<!-- \\[ -->"
      ],
      "id": "147b25e4-2b8d-4845-b506-e1b5596f3a28"
    },
    {
      "cell_type": "raw",
      "metadata": {
        "raw_mimetype": "text/html"
      },
      "source": [
        "<!-- \\hat{\\mathbf{y}} = [\\hat{Y}_1,\\ldots,\\hat{Y}_n], (\\#eq:def-fitted-values-matrix) -->"
      ],
      "id": "8bcb77d5-1024-4139-aaaf-4ce7f5dbe91f"
    },
    {
      "cell_type": "raw",
      "metadata": {
        "raw_mimetype": "text/html"
      },
      "source": [
        "<!-- \\] -->"
      ],
      "id": "f89bf5b0-5073-429d-9cb4-fb585dc19919"
    },
    {
      "cell_type": "raw",
      "metadata": {
        "raw_mimetype": "text/html"
      },
      "source": [
        "<!-- and can be computed as -->"
      ],
      "id": "c0a1d9ac-6c51-4268-ac88-0392f16de598"
    },
    {
      "cell_type": "raw",
      "metadata": {
        "raw_mimetype": "text/html"
      },
      "source": [
        "<!-- \\[ -->"
      ],
      "id": "e7c5e073-6e85-4a0a-a1f0-d69bb22d6aff"
    },
    {
      "cell_type": "raw",
      "metadata": {
        "raw_mimetype": "text/html"
      },
      "source": [
        "<!-- \\hat{\\mathbf{y}} = \\mathbf{X}\\hat{\\boldsymbol{\\beta}}. (\\#eq:compute-yhat) -->"
      ],
      "id": "3bba556c-a63c-4297-a17b-19c6d220adc9"
    },
    {
      "cell_type": "raw",
      "metadata": {
        "raw_mimetype": "text/html"
      },
      "source": [
        "<!-- \\] -->"
      ],
      "id": "257927f6-eac9-42d7-b552-51896b6895ca"
    },
    {
      "cell_type": "raw",
      "metadata": {
        "raw_mimetype": "text/html"
      },
      "source": [
        "<!-- --- -->"
      ],
      "id": "caf2f307-f7d6-4f54-85ce-6e1a3d079859"
    },
    {
      "cell_type": "raw",
      "metadata": {
        "raw_mimetype": "text/html"
      },
      "source": [
        "<!-- Extending the original definition of a residual in Equation \\@ref(eq:def-residual-slr), -->"
      ],
      "id": "dc3753ec-5937-4d87-916d-ab10c583384c"
    },
    {
      "cell_type": "raw",
      "metadata": {
        "raw_mimetype": "text/html"
      },
      "source": [
        "<!-- the $i$th **residual** in the context of multiple linear regression can be written as -->"
      ],
      "id": "2a9521b4-eae9-4f4b-907d-10c124591c9b"
    },
    {
      "cell_type": "raw",
      "metadata": {
        "raw_mimetype": "text/html"
      },
      "source": [
        "<!-- \\[ -->"
      ],
      "id": "8dfb17d5-8b24-4809-aa24-bff1e8edc21b"
    },
    {
      "cell_type": "raw",
      "metadata": {
        "raw_mimetype": "text/html"
      },
      "source": [
        "<!-- \\begin{aligned} -->"
      ],
      "id": "adc92a98-fe3e-41dc-99b7-81ee0807496c"
    },
    {
      "cell_type": "raw",
      "metadata": {
        "raw_mimetype": "text/html"
      },
      "source": [
        "<!-- \\hat{\\epsilon}_i = Y_i - \\hat{Y}_i=Y_i-\\mathbf{x}_i^T\\hat{\\boldsymbol{\\beta}}, -->"
      ],
      "id": "f0dfcc73-3f1d-4641-ab9e-71426f7feb93"
    },
    {
      "cell_type": "raw",
      "metadata": {
        "raw_mimetype": "text/html"
      },
      "source": [
        "<!-- \\end{aligned} -->"
      ],
      "id": "9721ba8b-a711-422d-af83-269c1132dea0"
    },
    {
      "cell_type": "raw",
      "metadata": {
        "raw_mimetype": "text/html"
      },
      "source": [
        "<!-- \\] -->"
      ],
      "id": "87e4d02d-4731-44c6-bc00-19afbc526fda"
    },
    {
      "cell_type": "raw",
      "metadata": {
        "raw_mimetype": "text/html"
      },
      "source": [
        "<!-- using Equation \\@ref(eq:def-fitted-value-matrix). -->"
      ],
      "id": "2738a99e-5cb5-40d8-afed-a2fe02ebc59c"
    },
    {
      "cell_type": "raw",
      "metadata": {
        "raw_mimetype": "text/html"
      },
      "source": [
        "<!-- The column vector of residuals is defined as -->"
      ],
      "id": "fbf495e6-2288-4f21-9c24-d6db18fc7cf4"
    },
    {
      "cell_type": "raw",
      "metadata": {
        "raw_mimetype": "text/html"
      },
      "source": [
        "<!-- \\[ -->"
      ],
      "id": "57ee01f1-6cfd-4927-acf9-aa9a742b919a"
    },
    {
      "cell_type": "raw",
      "metadata": {
        "raw_mimetype": "text/html"
      },
      "source": [
        "<!-- \\hat{\\boldsymbol{\\epsilon}} = [\\hat{\\epsilon}_1,\\ldots,\\hat{\\epsilon}_n]. (\\#eq:def-residuals-matrix) -->"
      ],
      "id": "c2b81523-9e1c-4599-9f30-c8c5949572d8"
    },
    {
      "cell_type": "raw",
      "metadata": {
        "raw_mimetype": "text/html"
      },
      "source": [
        "<!-- \\] -->"
      ],
      "id": "b30047d0-bb74-4bb8-9a7c-15fd85165764"
    },
    {
      "cell_type": "raw",
      "metadata": {
        "raw_mimetype": "text/html"
      },
      "source": [
        "<!-- Using Equations \\@ref(eq:def-fitted-values-matrix) and \\@ref(eq:compute-yhat), equivalent expressions for the residual vector are -->"
      ],
      "id": "3497a991-c06f-498f-8c69-2c6e3e4882cd"
    },
    {
      "cell_type": "raw",
      "metadata": {
        "raw_mimetype": "text/html"
      },
      "source": [
        "<!-- \\[ -->"
      ],
      "id": "00014e43-0e90-443c-aa37-662fde19d82e"
    },
    {
      "cell_type": "raw",
      "metadata": {
        "raw_mimetype": "text/html"
      },
      "source": [
        "<!-- \\hat{\\boldsymbol{\\epsilon}}=\\mathbf{y}-\\hat{\\mathbf{y}}=\\mathbf{y}-\\mathbf{X}\\hat{\\boldsymbol{\\beta}}.(\\#eq:epsilonhat-expressions) -->"
      ],
      "id": "5087157b-cb9a-4545-8c69-127c6b80b90a"
    },
    {
      "cell_type": "raw",
      "metadata": {
        "raw_mimetype": "text/html"
      },
      "source": [
        "<!-- \\] -->"
      ],
      "id": "77f2f82c-9c89-42fb-8276-c574981554e0"
    },
    {
      "cell_type": "raw",
      "metadata": {
        "raw_mimetype": "text/html"
      },
      "source": [
        "<!-- --- -->"
      ],
      "id": "e250c62e-59f9-4371-b1af-7e93d4609a3b"
    },
    {
      "cell_type": "raw",
      "metadata": {
        "raw_mimetype": "text/html"
      },
      "source": [
        "<!-- The RSS for a multiple linear regression model, as a function of the estimated regression coefficients, is -->"
      ],
      "id": "09bb43ee-34f0-4d0d-ba31-075238fd7656"
    },
    {
      "cell_type": "raw",
      "metadata": {
        "raw_mimetype": "text/html"
      },
      "source": [
        "<!-- \\[ -->"
      ],
      "id": "dd78eadd-3474-457a-9466-4e87faf84e6b"
    },
    {
      "cell_type": "raw",
      "metadata": {
        "raw_mimetype": "text/html"
      },
      "source": [
        "<!-- \\begin{aligned} -->"
      ],
      "id": "2fa01e32-ccfd-4934-8d36-07309846cbb3"
    },
    {
      "cell_type": "raw",
      "metadata": {
        "raw_mimetype": "text/html"
      },
      "source": [
        "<!-- RSS(\\hat{\\boldsymbol{\\beta}}) &= \\sum_{i=1}^n \\hat{\\epsilon}_i^2 \\\\ -->"
      ],
      "id": "a737f8bb-2872-40d5-a55f-547b626f7aec"
    },
    {
      "cell_type": "raw",
      "metadata": {
        "raw_mimetype": "text/html"
      },
      "source": [
        "<!-- &= \\hat{\\boldsymbol{\\epsilon}}^T \\hat{\\boldsymbol{\\epsilon}} \\\\ -->"
      ],
      "id": "8071d910-edc0-44f7-9de5-a09a63440b06"
    },
    {
      "cell_type": "raw",
      "metadata": {
        "raw_mimetype": "text/html"
      },
      "source": [
        "<!-- &= (\\mathbf{y} - \\hat{\\mathbf{y}})^T (\\mathbf{y} - \\hat{\\mathbf{y}}) \\\\ -->"
      ],
      "id": "97334e79-aff9-40f5-ae2f-314f88909e4a"
    },
    {
      "cell_type": "raw",
      "metadata": {
        "raw_mimetype": "text/html"
      },
      "source": [
        "<!-- & = (\\mathbf{y} - \\mathbf{X}\\hat{\\boldsymbol{\\beta}})^T (\\mathbf{y} - \\hat{\\boldsymbol{\\beta}}). -->"
      ],
      "id": "bb9e5e72-82e6-4011-ae66-42df4954d6e2"
    },
    {
      "cell_type": "raw",
      "metadata": {
        "raw_mimetype": "text/html"
      },
      "source": [
        "<!-- \\end{aligned} (\\#eq:def-rss-matrix) -->"
      ],
      "id": "ab0f0c3f-6d32-4d0e-8cc5-0a86b44c9380"
    },
    {
      "cell_type": "raw",
      "metadata": {
        "raw_mimetype": "text/html"
      },
      "source": [
        "<!-- \\] -->"
      ],
      "id": "9044d9e2-9c8f-4113-8d10-ca7aa5a6d403"
    },
    {
      "cell_type": "raw",
      "metadata": {
        "raw_mimetype": "text/html"
      },
      "source": [
        "<!-- The various expressions in Equation \\@ref(eq:def-rss-matrix) are equivalent (cf. Equation \\@ref(eq:epsilonhat-expressions)). -->"
      ],
      "id": "f4c14b64-c9af-4c35-8bc8-c0d41c246cac"
    },
    {
      "cell_type": "raw",
      "metadata": {
        "raw_mimetype": "text/html"
      },
      "source": [
        "<!-- ## OLS estimator of the regression coefficients -->"
      ],
      "id": "e3f50c33-2ecf-49af-84ce-dcc6c9332088"
    },
    {
      "cell_type": "raw",
      "metadata": {
        "raw_mimetype": "text/html"
      },
      "source": [
        "<!-- The OLS estimator of the regression coefficient vector, $\\boldsymbol{\\beta}$, is -->"
      ],
      "id": "9d9657d6-8c3f-454c-acb2-97f323c702f7"
    },
    {
      "cell_type": "raw",
      "metadata": {
        "raw_mimetype": "text/html"
      },
      "source": [
        "<!-- \\[ -->"
      ],
      "id": "d120d6ec-19d9-416d-896e-738a4551f420"
    },
    {
      "cell_type": "raw",
      "metadata": {
        "raw_mimetype": "text/html"
      },
      "source": [
        "<!-- \\hat{\\boldsymbol{\\beta}} = (\\mathbf{X}^T\\mathbf{X})^{-1}\\mathbf{X}^T\\mathbf{y}. (\\#eq:betahat) -->"
      ],
      "id": "5d30e780-d308-47d8-acff-56e5af53627b"
    },
    {
      "cell_type": "raw",
      "metadata": {
        "raw_mimetype": "text/html"
      },
      "source": [
        "<!-- \\] -->"
      ],
      "id": "82b09e36-03eb-4c42-a1cf-84d601338507"
    },
    {
      "cell_type": "raw",
      "metadata": {
        "raw_mimetype": "text/html"
      },
      "source": [
        "<!-- Equation \\@ref(eq:betahat) assumes that $\\mathbf{X}$ has full-rank ($n>p$ and none of the columns of $\\mathbf{X}$ are linear combinations of other columns in $\\mathbf{X}$), which is a very mild assumption.  -->"
      ],
      "id": "360b7dcb-19d6-4dba-a245-cd15e2d204c4"
    },
    {
      "cell_type": "raw",
      "metadata": {
        "raw_mimetype": "text/html"
      },
      "source": [
        "<!-- --- -->"
      ],
      "id": "0fd5cfc8-1f75-4497-955b-1a32d1af5671"
    },
    {
      "cell_type": "raw",
      "metadata": {
        "raw_mimetype": "text/html"
      },
      "source": [
        "<!-- The general estimator of the $\\sigma^2$ in the context of multiple linear regression is -->"
      ],
      "id": "2c7d22d9-21f8-45bc-a2f7-80bd8a2b5ade"
    },
    {
      "cell_type": "raw",
      "metadata": {
        "raw_mimetype": "text/html"
      },
      "source": [
        "<!-- \\[ -->"
      ],
      "id": "3eddef39-fe93-4134-845e-11211e2ad4ca"
    },
    {
      "cell_type": "raw",
      "metadata": {
        "raw_mimetype": "text/html"
      },
      "source": [
        "<!-- \\hat{\\sigma}^2 = \\frac{RSS}{n-p}, -->"
      ],
      "id": "7c9d6012-09c4-470a-975a-f648d29f1829"
    },
    {
      "cell_type": "raw",
      "metadata": {
        "raw_mimetype": "text/html"
      },
      "source": [
        "<!-- \\] -->"
      ],
      "id": "13c4f161-22f1-40e0-9bb2-8b82276af1d9"
    },
    {
      "cell_type": "raw",
      "metadata": {
        "raw_mimetype": "text/html"
      },
      "source": [
        "<!-- which is consistent with the previous definition given in Equation \\@ref(eq:sigmasq-hat). -->"
      ],
      "id": "dd036287-7f53-44d3-b020-f921bdfd25f7"
    },
    {
      "cell_type": "raw",
      "metadata": {
        "raw_mimetype": "text/html"
      },
      "source": [
        "<!-- # Penguins multiple linear regression example -->"
      ],
      "id": "17bdd044-e422-4204-8faa-caa1f4ccdd24"
    },
    {
      "cell_type": "raw",
      "metadata": {
        "raw_mimetype": "text/html"
      },
      "source": [
        "<!-- We will fit a multiple linear regression model regressing `bill_length_mm` on `body_mass_g` and `flipper_length_mm`, and will once again do so using the `lm` function. -->"
      ],
      "id": "283055e9-b555-4a8a-b650-2634d5f6dd3f"
    },
    {
      "cell_type": "raw",
      "metadata": {
        "raw_mimetype": "text/html"
      },
      "source": [
        "<!-- Before we do that, we provide some additional discussion of the of the `formula` argument of the `lm` function. This will be very important as we discuss more complicated models. Assume `y` is the response variable and `x`, `x1`, `x2`, `x3` are available numeric predictors. Then: -->"
      ],
      "id": "7b211994-ad31-48dc-afc3-5c80e0e7c2e8"
    },
    {
      "cell_type": "raw",
      "metadata": {
        "raw_mimetype": "text/html"
      },
      "source": [
        "<!--   -   `y ~ x` describes the simple linear regression model $E(Y|X)=\\beta_0+\\beta_1 X$. -->"
      ],
      "id": "27a95624-3852-414d-9056-20cc548bfc62"
    },
    {
      "cell_type": "raw",
      "metadata": {
        "raw_mimetype": "text/html"
      },
      "source": [
        "<!--   -   `y ~ x1 + x2` describes the multiple linear regression model $E(Y|X_1, X_2)=\\beta_0+\\beta_1 X_1 + \\beta_2 X_2$. -->"
      ],
      "id": "c65a954e-1939-4610-83b8-5af2eaca5d95"
    },
    {
      "cell_type": "raw",
      "metadata": {
        "raw_mimetype": "text/html"
      },
      "source": [
        "<!--   -   `y ~ x1 + x2 + x1:x2` and `y ~ x1 * x2` describe the multiple linear regression model -->"
      ],
      "id": "09ab9598-8fd8-4d7b-9134-71fca28e9654"
    },
    {
      "cell_type": "raw",
      "metadata": {
        "raw_mimetype": "text/html"
      },
      "source": [
        "<!--   $E(Y|X_1, X_2)=\\beta_0+\\beta_1 X_1 + \\beta_2 X_2 + \\beta_3 X_1 X_2$. -->"
      ],
      "id": "40d80d8d-1a81-4621-ac20-de8316db9b0b"
    },
    {
      "cell_type": "raw",
      "metadata": {
        "raw_mimetype": "text/html"
      },
      "source": [
        "<!--   -   `y ~ -1 + x1 + x2` describe a multiple linear regression model without an intercept, in this case, -->"
      ],
      "id": "94fa07a7-5d3c-484c-8bf5-aaf5e919bd21"
    },
    {
      "cell_type": "raw",
      "metadata": {
        "raw_mimetype": "text/html"
      },
      "source": [
        "<!--   $E(Y|X_1, X_2)=\\beta_1 X_1 + \\beta_2 X_2$. The `-1` tells R not to include an intercept in the fitted model. -->"
      ],
      "id": "09b24345-5434-423e-be55-bbf9d7830bf9"
    },
    {
      "cell_type": "raw",
      "metadata": {
        "raw_mimetype": "text/html"
      },
      "source": [
        "<!--   -   `y ~ x + I(x^2)` describe the multiple linear regression model $E(Y|X)=\\beta_0+\\beta_1 X + \\beta_2 X^2$. The `I()` function is a special function that tells R to create a regressor based on the syntax inside the `()` and include that regressor in the model. -->"
      ],
      "id": "53fb8255-71aa-4e4d-a17f-2137c239ad30"
    },
    {
      "cell_type": "raw",
      "metadata": {
        "raw_mimetype": "text/html"
      },
      "source": [
        "<!-- --- -->"
      ],
      "id": "4f156073-7f22-409d-9b82-8de2e628702a"
    },
    {
      "cell_type": "raw",
      "metadata": {
        "raw_mimetype": "text/html"
      },
      "source": [
        "<!-- In the code below, we fit the linear model regressing `bill_length_mm` on `body_mass_g` and `flipper_length_mm` and then use the `coef` and `deviance` functions to extract the estimated coefficients and RSS of the fitted model, respectively. -->"
      ],
      "id": "b3869435-2eaf-4814-8e49-9d3e1e7445d4"
    },
    {
      "cell_type": "raw",
      "metadata": {
        "raw_mimetype": "text/html"
      },
      "source": [
        "<!-- ```{r} -->"
      ],
      "id": "0daa448e-158b-4914-a134-49bc223a6911"
    },
    {
      "cell_type": "raw",
      "metadata": {
        "raw_mimetype": "text/html"
      },
      "source": [
        "<!-- # fit model -->"
      ],
      "id": "a82ad1c6-313e-402a-884b-b427fe8e245f"
    },
    {
      "cell_type": "raw",
      "metadata": {
        "raw_mimetype": "text/html"
      },
      "source": [
        "<!-- mlmod <- lm(bill_length_mm ~ body_mass_g + flipper_length_mm, data = penguins) -->"
      ],
      "id": "257f363e-1c3d-4547-9027-df8f58afb362"
    },
    {
      "cell_type": "raw",
      "metadata": {
        "raw_mimetype": "text/html"
      },
      "source": [
        "<!-- # extract estimated coefficients -->"
      ],
      "id": "0e311c79-c156-4136-996f-b5601cc91b0b"
    },
    {
      "cell_type": "raw",
      "metadata": {
        "raw_mimetype": "text/html"
      },
      "source": [
        "<!-- coef(mlmod) -->"
      ],
      "id": "4fb4d7f0-33eb-4444-a505-34d33c454a59"
    },
    {
      "cell_type": "raw",
      "metadata": {
        "raw_mimetype": "text/html"
      },
      "source": [
        "<!-- # extract RSS -->"
      ],
      "id": "e7ca03aa-a807-4fc3-9870-cdef3eb4e58e"
    },
    {
      "cell_type": "raw",
      "metadata": {
        "raw_mimetype": "text/html"
      },
      "source": [
        "<!-- deviance(mlmod) -->"
      ],
      "id": "2933966d-5c0e-4788-8d76-6a698b4b1fab"
    },
    {
      "cell_type": "raw",
      "metadata": {
        "raw_mimetype": "text/html"
      },
      "source": [
        "<!-- ``` -->"
      ],
      "id": "cd8fb9d2-efb5-4b9a-aa4b-b20d1d57f48e"
    },
    {
      "cell_type": "raw",
      "metadata": {
        "raw_mimetype": "text/html"
      },
      "source": [
        "<!-- The fitted model is -->"
      ],
      "id": "04479699-4a27-40e7-bc39-fceb1e03f150"
    },
    {
      "cell_type": "raw",
      "metadata": {
        "raw_mimetype": "text/html"
      },
      "source": [
        "<!-- \\[ -->"
      ],
      "id": "fccb31c6-b7b3-483f-b7a5-1dd01d2eb890"
    },
    {
      "cell_type": "raw",
      "metadata": {
        "raw_mimetype": "text/html"
      },
      "source": [
        "<!-- \\widehat{\\mathtt{bill\\_length\\_mm}}=-3.44+0.0007 \\,\\mathtt{body\\_mass\\_g}+0.22\\,\\mathtt{flipper\\_length\\_mm}. -->"
      ],
      "id": "b46caecc-2b2b-4bb3-a5e0-332187f20faa"
    },
    {
      "cell_type": "raw",
      "metadata": {
        "raw_mimetype": "text/html"
      },
      "source": [
        "<!-- \\] -->"
      ],
      "id": "94929018-d49a-4940-954f-5f0b26056620"
    },
    {
      "cell_type": "raw",
      "metadata": {
        "raw_mimetype": "text/html"
      },
      "source": [
        "<!-- - **Question:** What is the RSS? How does it compare to the simple linear model we used before? -->"
      ],
      "id": "89bce15a-34cc-4386-8702-407520dd445f"
    },
    {
      "cell_type": "raw",
      "metadata": {
        "raw_mimetype": "text/html"
      },
      "source": [
        "<!-- # Types of linear models -->"
      ],
      "id": "17363d8f-0576-4827-9dc4-c18c9b7a8670"
    },
    {
      "cell_type": "raw",
      "metadata": {
        "raw_mimetype": "text/html"
      },
      "source": [
        "<!-- - **Simple**: a model with an intercept and a single regressor. -->"
      ],
      "id": "2c923d69-e882-47e0-819c-5937f15174b9"
    },
    {
      "cell_type": "raw",
      "metadata": {
        "raw_mimetype": "text/html"
      },
      "source": [
        "<!-- - **Multiple**: a model with 2 or more regressors. -->"
      ],
      "id": "c7c9c18c-2e68-46f2-806a-12c175ac2af5"
    },
    {
      "cell_type": "raw",
      "metadata": {
        "raw_mimetype": "text/html"
      },
      "source": [
        "<!-- - **Polynomial**: a model with squared, cubic, quartic predictors, etc. E.g, $E(Y\\mid X) = \\beta_0 + \\beta_1 X + \\beta_2 X^2 + \\beta_3 X^3$ is a 4th-degree polynomial. -->"
      ],
      "id": "3f86e272-e53b-4da8-8fba-40db28923408"
    },
    {
      "cell_type": "raw",
      "metadata": {
        "raw_mimetype": "text/html"
      },
      "source": [
        "<!-- - **First-order**: a model in which each predictor is used to create no more than one regressor. -->"
      ],
      "id": "620e067c-fd94-4ad6-9e96-cb4bf1c4c0ce"
    },
    {
      "cell_type": "raw",
      "metadata": {
        "raw_mimetype": "text/html"
      },
      "source": [
        "<!-- - **Main effect**: a model in which none of the regressors are functions of more than one predictor. A predictor can be used more than once, but each regressor is only a function of one predictor. E.g., if $X_1$ and $X_2$ are different predictors, then the regression model $E(Y\\mid X_1, X_2) = \\beta_0 + \\beta_1 X_1 + \\beta_2 X_1^2 + \\beta_3 X_2$ would be a main effect model, but not a first-order model since $X_1$ was used to create two regressors. -->"
      ],
      "id": "86703733-fb3e-42e6-9c02-6e474c14ebac"
    },
    {
      "cell_type": "raw",
      "metadata": {
        "raw_mimetype": "text/html"
      },
      "source": [
        "<!-- - **Interaction**: a model in which some of the regressors are functions of more than 1 predictor. E.g., if $X_1$ and $X_2$ are different predictors, then the regression model $E(Y\\mid X_1, X_2) = \\beta_0 + \\beta_1 X_1 + \\beta_2 X_2 + \\beta_3 X_1X_2$ is a very simple interaction model since the third regressor is the product of $X_1$ and $X_2$. -->"
      ],
      "id": "6ddf6532-bafe-40e9-9c8b-71927e9d70c0"
    },
    {
      "cell_type": "raw",
      "metadata": {
        "raw_mimetype": "text/html"
      },
      "source": [
        "<!-- - **Analysis of variance (ANOVA)**: a model for which all predictors used in the model are categorical. -->"
      ],
      "id": "019e5d6d-01fc-4f21-8d65-560252a53f36"
    },
    {
      "cell_type": "raw",
      "metadata": {
        "raw_mimetype": "text/html"
      },
      "source": [
        "<!-- - **Analysis of covariance (ANCOVA)**: a model that uses at least one numeric predictor and at least one categorical predictor. -->"
      ],
      "id": "65d6b36c-c813-4570-b3d6-ae3faab768b1"
    },
    {
      "cell_type": "raw",
      "metadata": {
        "raw_mimetype": "text/html"
      },
      "source": [
        "<!-- - **Generalized (GLM)**: a \"generalized\" linear regression model in which the responses do not come from a normal distribution. -->"
      ],
      "id": "85140cab-6930-41a1-a7dd-928d98a27c3d"
    },
    {
      "cell_type": "raw",
      "metadata": {
        "raw_mimetype": "text/html"
      },
      "source": [
        "<!-- # Categorical predictors -->"
      ],
      "id": "f4ea2462-fadb-4f47-8cd8-6f4c55c6b83e"
    },
    {
      "cell_type": "raw",
      "metadata": {
        "raw_mimetype": "text/html"
      },
      "source": [
        "<!-- Categorical  predictors can greatly improve the explanatory power or predictive capability of a fitted model when different patterns exist for different levels of the variables. We discuss two basic uses of categorical predictors in linear regression models. We will briefly introduce the: -->"
      ],
      "id": "973857ad-fe36-4011-8e6b-b79ca5c0a8b4"
    },
    {
      "cell_type": "raw",
      "metadata": {
        "raw_mimetype": "text/html"
      },
      "source": [
        "<!-- - **parallel lines regression model**, which is a main effect regression model that has a single numeric regressor and a single categorical predictor. The model produces parallel lines for each level of the categorical variable. -->"
      ],
      "id": "d9dcf512-7f68-4b56-9e40-53b53a7de857"
    },
    {
      "cell_type": "raw",
      "metadata": {
        "raw_mimetype": "text/html"
      },
      "source": [
        "<!-- - **separate lines regression model**, which adds an interaction term between the numeric regressor and categorical predictor of the parallel lines regression model. The model produces separate lines for each level of the categorical variable. -->"
      ],
      "id": "fe3a4bc3-e6cf-452e-994d-17ba5e36f344"
    },
    {
      "cell_type": "raw",
      "metadata": {
        "raw_mimetype": "text/html"
      },
      "source": [
        "<!-- ## Indicator variables -->"
      ],
      "id": "7355d445-4644-4b69-b31e-96780eaf0ff4"
    },
    {
      "cell_type": "raw",
      "metadata": {
        "raw_mimetype": "text/html"
      },
      "source": [
        "<!-- In order to compute $\\hat{\\boldsymbol{\\beta}}$ using Equation \\@ref(eq:betahat), both $\\mathbf{X}$ and $\\mathbf{y}$ must contain numeric values. How can we use a categorical predictor in our regression model when its values are not numeric? To do so, we must transform the categorical predictor into one or more **indicator** or **dummy variables**, which we explain in more detail below. -->"
      ],
      "id": "25e10b7d-d026-42a9-ae80-954565caf7c9"
    },
    {
      "cell_type": "raw",
      "metadata": {
        "raw_mimetype": "text/html"
      },
      "source": [
        "<!-- An **indicator function** is a function that takes the value 1 if a certain property is true and 0 otherwise. An **indicator variable** is the variable that results from applying an indicator function to each observation of a variable. Many notations exist for indicator functions. We use the notation, -->"
      ],
      "id": "dd3b1f1c-352a-4804-a0d2-1ff91fb7ca56"
    },
    {
      "cell_type": "raw",
      "metadata": {
        "raw_mimetype": "text/html"
      },
      "source": [
        "<!-- \\[ -->"
      ],
      "id": "02b0a138-556a-4e7a-8637-33c6df9e6916"
    },
    {
      "cell_type": "raw",
      "metadata": {
        "raw_mimetype": "text/html"
      },
      "source": [
        "<!-- I_S(x) = -->"
      ],
      "id": "9f614b39-9a13-4cd5-85a3-1d5b5bda66e0"
    },
    {
      "cell_type": "raw",
      "metadata": {
        "raw_mimetype": "text/html"
      },
      "source": [
        "<!-- \\begin{cases} -->"
      ],
      "id": "c9379ed9-defb-4d47-a4b5-9a4bc47a3b1b"
    },
    {
      "cell_type": "raw",
      "metadata": {
        "raw_mimetype": "text/html"
      },
      "source": [
        "<!-- 1 & \\textrm{if}\\;x \\in S\\\\ -->"
      ],
      "id": "08441a7f-03c3-40bf-9e7d-79d231df3226"
    },
    {
      "cell_type": "raw",
      "metadata": {
        "raw_mimetype": "text/html"
      },
      "source": [
        "<!-- 0 & \\textrm{if}\\;x \\notin S -->"
      ],
      "id": "7a93d9af-5eaf-4cb0-b801-09ad99e244ad"
    },
    {
      "cell_type": "raw",
      "metadata": {
        "raw_mimetype": "text/html"
      },
      "source": [
        "<!-- \\end{cases}, -->"
      ],
      "id": "de528dc6-9306-42f3-acfd-e4e94672f605"
    },
    {
      "cell_type": "raw",
      "metadata": {
        "raw_mimetype": "text/html"
      },
      "source": [
        "<!-- \\] -->"
      ],
      "id": "be3386bb-23ce-4d5f-8f57-1b3d2c8edcd5"
    },
    {
      "cell_type": "raw",
      "metadata": {
        "raw_mimetype": "text/html"
      },
      "source": [
        "<!-- which is shorthand for a function that returns 1 if $x$ is in the set $S$ and 0 otherwise. -->"
      ],
      "id": "7703a927-53b0-4c57-a819-136b27fcd569"
    },
    {
      "cell_type": "raw",
      "metadata": {
        "raw_mimetype": "text/html"
      },
      "source": [
        "<!-- --- -->"
      ],
      "id": "001d8d25-35f8-49eb-8dbf-c57d21b3d90d"
    },
    {
      "cell_type": "raw",
      "metadata": {
        "raw_mimetype": "text/html"
      },
      "source": [
        "<!-- Let $C$ denote a categorical predictor with levels $L_1$ and $L_2$. The $C$ stands for \"categorical\", while the $L$ stands for \"level\". Let $c_i$ denote the value of $C$ for observation $i$. -->"
      ],
      "id": "77ed98fa-0bea-4fb9-b437-c9067c5f3d1e"
    },
    {
      "cell_type": "raw",
      "metadata": {
        "raw_mimetype": "text/html"
      },
      "source": [
        "<!-- Let $D_j$ denote the indicator (dummy) variable for factor level $L_j$ of $C$. The value of $D_j$ for observation $i$ is denoted $d_{i,j}$, with -->"
      ],
      "id": "47f2d07f-753a-4ec6-838a-c49c98c3807c"
    },
    {
      "cell_type": "raw",
      "metadata": {
        "raw_mimetype": "text/html"
      },
      "source": [
        "<!-- \\[ -->"
      ],
      "id": "842a2cb0-bb0a-404d-8f27-b51ef92a7f1f"
    },
    {
      "cell_type": "raw",
      "metadata": {
        "raw_mimetype": "text/html"
      },
      "source": [
        "<!-- d_{i,j} = I_{\\{L_j\\}}(c_i), -->"
      ],
      "id": "1220b574-bd98-4405-8d48-b0c1d682aa0b"
    },
    {
      "cell_type": "raw",
      "metadata": {
        "raw_mimetype": "text/html"
      },
      "source": [
        "<!-- \\] -->"
      ],
      "id": "65206dbe-0064-4d36-b192-aa31c1d37792"
    },
    {
      "cell_type": "raw",
      "metadata": {
        "raw_mimetype": "text/html"
      },
      "source": [
        "<!-- i.e., $d_{i,j}$ is 1 if $c_i$ has factor level $L_j$ and 0 otherwise. -->"
      ],
      "id": "853c73ec-ea3b-499b-8d06-32445558b13c"
    },
    {
      "cell_type": "raw",
      "metadata": {
        "raw_mimetype": "text/html"
      },
      "source": [
        "<!-- ## Parallel and separate lines models -->"
      ],
      "id": "ea342052-b5ae-4121-933f-91fee47d4727"
    },
    {
      "cell_type": "raw",
      "metadata": {
        "raw_mimetype": "text/html"
      },
      "source": [
        "<!-- Assume we want to build a linear regression model using a single numeric regressor $X$ and a two-level categorical predictor $C$. -->"
      ],
      "id": "bebd97d3-1b90-4e4a-8668-e2b079bfe131"
    },
    {
      "cell_type": "raw",
      "metadata": {
        "raw_mimetype": "text/html"
      },
      "source": [
        "<!-- The standard simple linear regression model is -->"
      ],
      "id": "7dbba05e-42c8-4d4d-8277-5e898f75e7ea"
    },
    {
      "cell_type": "raw",
      "metadata": {
        "raw_mimetype": "text/html"
      },
      "source": [
        "<!-- \\[E(Y\\mid X)=\\beta_0 + \\beta_1 X.\\] -->"
      ],
      "id": "cdce31ff-2add-4e04-ac59-fc1817e5586c"
    },
    {
      "cell_type": "raw",
      "metadata": {
        "raw_mimetype": "text/html"
      },
      "source": [
        "<!-- To create a parallel lines regression model, we add regressor $D_2$ to the simple linear regression model. Thus, the parallel lines regression model is -->"
      ],
      "id": "c944693c-6bed-4f4e-818b-bb94608f6002"
    },
    {
      "cell_type": "raw",
      "metadata": {
        "raw_mimetype": "text/html"
      },
      "source": [
        "<!-- \\[ -->"
      ],
      "id": "2152b9e8-6d82-4045-91e0-f7875ab072dd"
    },
    {
      "cell_type": "raw",
      "metadata": {
        "raw_mimetype": "text/html"
      },
      "source": [
        "<!-- E(Y\\mid X,C)=\\beta_{0}+\\beta_1 X+\\beta_2 D_2. (\\#eq:parallel-lines-model) -->"
      ],
      "id": "fffddc2b-c695-4a57-8d1d-e89562e26726"
    },
    {
      "cell_type": "raw",
      "metadata": {
        "raw_mimetype": "text/html"
      },
      "source": [
        "<!-- \\] -->"
      ],
      "id": "288e1d2d-d11c-46be-ac7a-16571d7cbcdd"
    },
    {
      "cell_type": "raw",
      "metadata": {
        "raw_mimetype": "text/html"
      },
      "source": [
        "<!-- Since $D_2=0$ when $C=L_1$ and $D_2=1$ when $C=L_2$, we see that the model in Equation \\@ref(eq:parallel-lines-model) simplifies to -->"
      ],
      "id": "4dc2c269-bcc1-432f-82d0-6b8197a1d3f1"
    },
    {
      "cell_type": "raw",
      "metadata": {
        "raw_mimetype": "text/html"
      },
      "source": [
        "<!-- \\[ -->"
      ],
      "id": "50e6a2b2-4f67-4224-9811-2067f9061c16"
    },
    {
      "cell_type": "raw",
      "metadata": {
        "raw_mimetype": "text/html"
      },
      "source": [
        "<!-- E(Y\\mid X, C) = -->"
      ],
      "id": "49a8bfa8-9806-472c-b93a-d15dc572245e"
    },
    {
      "cell_type": "raw",
      "metadata": {
        "raw_mimetype": "text/html"
      },
      "source": [
        "<!-- \\begin{cases} -->"
      ],
      "id": "922a31d2-4c3d-4529-b3b3-66d099d5e58b"
    },
    {
      "cell_type": "raw",
      "metadata": {
        "raw_mimetype": "text/html"
      },
      "source": [
        "<!--   \\beta_0+\\beta_1 X & \\mathrm{if}\\;C = L_1 \\\\ -->"
      ],
      "id": "23a7f217-0307-4a9e-b7e4-57f963b283b3"
    },
    {
      "cell_type": "raw",
      "metadata": {
        "raw_mimetype": "text/html"
      },
      "source": [
        "<!--   (\\beta_0 + \\beta_2) +\\beta_1 X & \\mathrm{if}\\;C = L_2 -->"
      ],
      "id": "799abf4d-b974-4ef3-a887-468ec8906eec"
    },
    {
      "cell_type": "raw",
      "metadata": {
        "raw_mimetype": "text/html"
      },
      "source": [
        "<!-- \\end{cases}. -->"
      ],
      "id": "3e619038-46c5-44c0-ae6b-30f97ad8298a"
    },
    {
      "cell_type": "raw",
      "metadata": {
        "raw_mimetype": "text/html"
      },
      "source": [
        "<!-- \\] -->"
      ],
      "id": "a967577c-364a-4336-b395-0a08c99ba387"
    },
    {
      "cell_type": "raw",
      "metadata": {
        "raw_mimetype": "text/html"
      },
      "source": [
        "<!-- - **Question:** What will the vertical distance between the lines be? -->"
      ],
      "id": "314503b8-bc3f-4491-8668-d9ddc1aedfd6"
    },
    {
      "cell_type": "raw",
      "metadata": {
        "raw_mimetype": "text/html"
      },
      "source": [
        "<!-- --- -->"
      ],
      "id": "aa00d97b-2382-49a4-8130-f8703148659c"
    },
    {
      "cell_type": "raw",
      "metadata": {
        "raw_mimetype": "text/html"
      },
      "source": [
        "<!-- To create a separate lines regression model, we add regressor $D_2$ and the interaction regressor $X D_2$ to our simple linear regression model. Thus, the separate lines regression model is -->"
      ],
      "id": "b7eb303a-54d6-4088-83dd-e9e3611b5c3d"
    },
    {
      "cell_type": "raw",
      "metadata": {
        "raw_mimetype": "text/html"
      },
      "source": [
        "<!-- \\[ -->"
      ],
      "id": "d19df6eb-531d-4d4e-9ca9-e44e3af8d89d"
    },
    {
      "cell_type": "raw",
      "metadata": {
        "raw_mimetype": "text/html"
      },
      "source": [
        "<!-- E(Y\\mid X,C)=\\beta_0+\\beta_1 X+\\beta_2 D_2 + \\beta_{3} XD_2, -->"
      ],
      "id": "17e6ee60-0a36-43de-ab06-4b2e793c94ba"
    },
    {
      "cell_type": "raw",
      "metadata": {
        "raw_mimetype": "text/html"
      },
      "source": [
        "<!-- \\] -->"
      ],
      "id": "5ad0d08f-dfb8-488a-b84e-090a87d5d688"
    },
    {
      "cell_type": "raw",
      "metadata": {
        "raw_mimetype": "text/html"
      },
      "source": [
        "<!-- which, similar to the previous model, simplifies to -->"
      ],
      "id": "75330023-72d4-4225-87d4-40441c24b48c"
    },
    {
      "cell_type": "raw",
      "metadata": {
        "raw_mimetype": "text/html"
      },
      "source": [
        "<!-- \\[ -->"
      ],
      "id": "9a39174d-6f69-4b58-8a93-7f993c169b8a"
    },
    {
      "cell_type": "raw",
      "metadata": {
        "raw_mimetype": "text/html"
      },
      "source": [
        "<!-- E(Y\\mid X, C) = -->"
      ],
      "id": "4d23e0cd-ea71-4c52-821a-6c7c171a5caa"
    },
    {
      "cell_type": "raw",
      "metadata": {
        "raw_mimetype": "text/html"
      },
      "source": [
        "<!-- \\begin{cases} -->"
      ],
      "id": "de914be4-3b39-477d-8387-1f6ca9051442"
    },
    {
      "cell_type": "raw",
      "metadata": {
        "raw_mimetype": "text/html"
      },
      "source": [
        "<!--   \\beta_{0}+\\beta_1 X & \\mathrm{if}\\;C = L_1 \\\\ -->"
      ],
      "id": "55da8d88-d8a9-4d5f-ad56-5d7f9ec07338"
    },
    {
      "cell_type": "raw",
      "metadata": {
        "raw_mimetype": "text/html"
      },
      "source": [
        "<!--   (\\beta_{0} + \\beta_{2}) +(\\beta_1 + \\beta_{3}) X & \\mathrm{if}\\;C = L_2 -->"
      ],
      "id": "05646c0d-5f89-4fab-a622-ad2084cbc7aa"
    },
    {
      "cell_type": "raw",
      "metadata": {
        "raw_mimetype": "text/html"
      },
      "source": [
        "<!-- \\end{cases}. -->"
      ],
      "id": "9096c120-c039-435b-b464-03bef0a310e5"
    },
    {
      "cell_type": "raw",
      "metadata": {
        "raw_mimetype": "text/html"
      },
      "source": [
        "<!-- \\] -->"
      ],
      "id": "aa887f2c-9023-4f1c-a805-40b60d0b1faf"
    },
    {
      "cell_type": "raw",
      "metadata": {
        "raw_mimetype": "text/html"
      },
      "source": [
        "<!-- ## Extensions -->"
      ],
      "id": "4ce6c344-4232-40b4-98a3-4e352fb2ea9d"
    },
    {
      "cell_type": "raw",
      "metadata": {
        "raw_mimetype": "text/html"
      },
      "source": [
        "<!-- We have presented the most basic regression models that include a categorical predictor. If you had a categorical predictor $C$ with $K$ levels $L_1, L_2, \\ldots, L_K$, then you could add indicator variables $D_2, D_3, \\ldots, L_K$ to a simple linear regression model to create a parallel lines model for each level of $C$. Similarly, you could add regressors $D_2, D_3, \\ldots, D_K, X D_2, X D_3, \\ldots, X D_K$ to a simple linear regression model to create a separate lines model for each level of $C$. -->"
      ],
      "id": "a69cc38f-05a4-4581-9942-6d020fa9f572"
    },
    {
      "cell_type": "raw",
      "metadata": {
        "raw_mimetype": "text/html"
      },
      "source": [
        "<!-- It is easy to imagine using multiple categorical predictors in a model, interacting one or more categorical predictors with one or more numeric regressors in model, etc. These models can be fit easily using R (as we'll see below), though interpretation becomes more challenging. -->"
      ],
      "id": "3a32e9d1-1dcf-484b-a3d6-53390b094ad1"
    },
    {
      "cell_type": "raw",
      "metadata": {
        "raw_mimetype": "text/html"
      },
      "source": [
        "<!-- ## Avoiding an easy mistake -->"
      ],
      "id": "b6e79b4d-d4e3-484e-b3f7-ae52050e4a6d"
    },
    {
      "cell_type": "raw",
      "metadata": {
        "raw_mimetype": "text/html"
      },
      "source": [
        "<!-- Why didn't we add $D_1$ to the parallel lines model? Or $D_1$ and $D_1 X$ to the separate lines model? First, we notice that we don't *need* to add them. E.g., if an observation doesn't havel level $L_2$ ($D_2=0$), then it must have level $L_1$. More importantly, we didn't do this because it will create linear dependencies in the columns of the regressor matrix $\\mathbf{X}$. -->"
      ],
      "id": "93b99d4b-176f-4061-9073-bbfd47cbb5fe"
    },
    {
      "cell_type": "raw",
      "metadata": {
        "raw_mimetype": "text/html"
      },
      "source": [
        "<!-- Let $\\mathbf{d}_1=[d_{1,1}, d_{2,1}, \\ldots, d_{n,1}]$ be the column vector of observed values for indicator variable $D_1$ and $\\mathbf{d}_2$ be the column vector for $D_2$. Then for a two-level categorical variable, $\\mathbf{d}_1 + \\mathbf{d}_2$ is an $n\\times 1$ vector of 1s, meaning that $D_1$ and $D_2$ will be linearly dependent with the intercept column of our $\\mathbf{X}$ matrix. Thus, adding $D_1$ to the parallel lines model would result in $\\mathbf{X}$ having linearly dependent columns, which creates estimation problems. -->"
      ],
      "id": "4888aba8-ac70-488c-b645-0af9de955ab6"
    },
    {
      "cell_type": "raw",
      "metadata": {
        "raw_mimetype": "text/html"
      },
      "source": [
        "<!-- For a categorical predictor with $K$ levels, we only need indicator variables for $K-1$ levels of the categorical predictor. The level without an indicator variable in the regression model is known as the **reference level**, which is explained in Chapter  \\@ref(interp-chapter). Technically, you can choose any level to be your reference level, but R automatically chooses the first level of a categorical (`factor`) variable to be the reference level, so we adopt that convention. -->"
      ],
      "id": "e13950f0-9c20-4a95-9694-5d363c3178b1"
    },
    {
      "cell_type": "raw",
      "metadata": {
        "raw_mimetype": "text/html"
      },
      "source": [
        "<!-- # Penguins example with categorical predictor -->"
      ],
      "id": "ba147a41-c1b1-4934-aa18-ab287bb9696d"
    },
    {
      "cell_type": "raw",
      "metadata": {
        "raw_mimetype": "text/html"
      },
      "source": [
        "<!-- We return once again to the `penguins` data previously introduced. We use the code below to produce Figure \\@ref(fig:penguins-grouped-scatter), which displays the grouped scatter plot of `bill_length_mm` versus `body_mass_g` that distinguishes the `species` of each observation. -->"
      ],
      "id": "2dfe1cf8-304f-469f-895b-b6d03c115538"
    },
    {
      "cell_type": "raw",
      "metadata": {
        "raw_mimetype": "text/html"
      },
      "source": [
        "<!-- ```{r penguins-grouped-scatter, fig.cap=\"A grouped scatter plot of body mass versus bill length that distinguishes penguin species.\", warning = FALSE} -->"
      ],
      "id": "71158bcc-4395-46ab-980e-147ced58c3a6"
    },
    {
      "cell_type": "raw",
      "metadata": {
        "raw_mimetype": "text/html"
      },
      "source": [
        "<!-- library(ggplot2) # load package -->"
      ],
      "id": "59f6ff3f-adc1-42ba-a71d-facdc712b47d"
    },
    {
      "cell_type": "raw",
      "metadata": {
        "raw_mimetype": "text/html"
      },
      "source": [
        "<!-- # create grouped scatterplot -->"
      ],
      "id": "a9f0c7ad-59e8-4a24-8e11-ab1e4578f350"
    },
    {
      "cell_type": "raw",
      "metadata": {
        "raw_mimetype": "text/html"
      },
      "source": [
        "<!-- ggplot(data = penguins) + -->"
      ],
      "id": "be5e7cb6-c5a5-48b1-a6e1-4a18b3525141"
    },
    {
      "cell_type": "raw",
      "metadata": {
        "raw_mimetype": "text/html"
      },
      "source": [
        "<!--   geom_point(aes(x = body_mass_g, y = bill_length_mm, shape = species, color = species)) + -->"
      ],
      "id": "d1143682-ceda-4fdb-832f-d015523f9c32"
    },
    {
      "cell_type": "raw",
      "metadata": {
        "raw_mimetype": "text/html"
      },
      "source": [
        "<!--   xlab(\"body mass (g)\") + ylab(\"bill length (mm)\") -->"
      ],
      "id": "d594a76f-2605-4542-813b-066636601fa4"
    },
    {
      "cell_type": "raw",
      "metadata": {
        "raw_mimetype": "text/html"
      },
      "source": [
        "<!-- ``` -->"
      ],
      "id": "fc24dbee-d3fd-4391-a97f-07e326a70af6"
    },
    {
      "cell_type": "raw",
      "metadata": {
        "raw_mimetype": "text/html"
      },
      "source": [
        "<!-- - **Question:** Does the relationship between bill length and body mass change depending on the species of penguin? -->"
      ],
      "id": "6831630a-adfd-4838-961b-51920fd37f0a"
    },
    {
      "cell_type": "raw",
      "metadata": {
        "raw_mimetype": "text/html"
      },
      "source": [
        "<!-- --- -->"
      ],
      "id": "39c671d7-2ba3-4a07-99e8-db38db8a9247"
    },
    {
      "cell_type": "raw",
      "metadata": {
        "raw_mimetype": "text/html"
      },
      "source": [
        "<!-- How do you use a categorical variable in R's `lm` function? Recall that we should represent our categorical variables as a `factor` in R. The `lm` function will automatically convert a `factor` variable to the correct number of indicator variables when you include the `factor` variable in your `formula` argument. R will automatically choose the reference level to be the first level of the `factor` variable. To add a main effect term for a categorical predictor, we simply add the term to our `lm` formula. To create an interaction term, we use `:` between the interacting variables. E.g., if `c` is a `factor` variable and `x` is a `numeric` variable, you can use the notation `c:x` in your `formula` to get all the interactions between `c` and `x`. -->"
      ],
      "id": "d4059db7-1f02-40ad-8d7b-a313a459a580"
    },
    {
      "cell_type": "raw",
      "metadata": {
        "raw_mimetype": "text/html"
      },
      "source": [
        "<!-- In our present context, the categorical predictor of interest is `species`, which has the levels `Adelie`, `Chinstrap`, and `Gentoo`. The `species` variable is already a `factor`. Since the variable has 3 levels, it will be transformed into 2 indicator variables by R. The first level of species is `Adelie`, so R will treat that level as the reference level, and automatically create indicator variables for the levels `Chinstrap` and `Gentoo`. (Reminder: to determine the level order of a `factor` variable `c`, run the commend `levels(c)`, or in this case `levels(penguins$species)`.) -->"
      ],
      "id": "e7eb94cd-ae99-4c2e-aff3-2ad80465f7f3"
    },
    {
      "cell_type": "raw",
      "metadata": {
        "raw_mimetype": "text/html"
      },
      "source": [
        "<!-- Let $D_C$ denote the indicator variable for the `Chinstrap` level and $D_G$ denote the indicator variable for the `Gentoo` level. To fit the parallel lines regression model -->"
      ],
      "id": "c4c2c28f-ed87-4c33-bcac-4ece67a9120c"
    },
    {
      "cell_type": "raw",
      "metadata": {
        "raw_mimetype": "text/html"
      },
      "source": [
        "<!-- \\[E(\\mathtt{bill\\_length\\_mm} \\mid \\mathtt{body\\_mass\\_g}, \\mathtt{species}) = \\beta_{0} + \\beta_1 \\mathtt{body\\_mass\\_g} + \\beta_2 D_C + \\beta_3 D_G,\\] -->"
      ],
      "id": "f216ea58-3035-4a19-b1b3-442e98f24554"
    },
    {
      "cell_type": "raw",
      "metadata": {
        "raw_mimetype": "text/html"
      },
      "source": [
        "<!-- we run the code below. The `coef` function is used to extract the estimated coefficients from our fitted model in `lmodp`. -->"
      ],
      "id": "1802c4f5-0c7d-4ccb-ab1c-11a1d7c8afb3"
    },
    {
      "cell_type": "raw",
      "metadata": {
        "raw_mimetype": "text/html"
      },
      "source": [
        "<!-- --- -->"
      ],
      "id": "8d28870a-0ca5-47e2-994a-f11e8039cd1d"
    },
    {
      "cell_type": "raw",
      "metadata": {
        "raw_mimetype": "text/html"
      },
      "source": [
        "<!-- ```{r} -->"
      ],
      "id": "36a6d2c7-38d6-4147-a094-30b9b119bcef"
    },
    {
      "cell_type": "raw",
      "metadata": {
        "raw_mimetype": "text/html"
      },
      "source": [
        "<!-- # fit parallel lines model -->"
      ],
      "id": "87f0ed3e-1e64-4eab-8b04-c5a5b07ed4ae"
    },
    {
      "cell_type": "raw",
      "metadata": {
        "raw_mimetype": "text/html"
      },
      "source": [
        "<!-- lmodp <- lm(bill_length_mm ~ body_mass_g + species, data = penguins) -->"
      ],
      "id": "4813aea8-319a-49bf-b96d-a4aa17076e7b"
    },
    {
      "cell_type": "raw",
      "metadata": {
        "raw_mimetype": "text/html"
      },
      "source": [
        "<!-- # extract coefficients -->"
      ],
      "id": "ea1cd958-45aa-49a0-93ba-71d7a8459b19"
    },
    {
      "cell_type": "raw",
      "metadata": {
        "raw_mimetype": "text/html"
      },
      "source": [
        "<!-- coef(lmodp) -->"
      ],
      "id": "3317948c-fb26-4906-b756-9c51d532e9af"
    },
    {
      "cell_type": "raw",
      "metadata": {
        "raw_mimetype": "text/html"
      },
      "source": [
        "<!-- ``` -->"
      ],
      "id": "8088eebb-20e0-4644-b0f2-966755e68c5e"
    },
    {
      "cell_type": "raw",
      "metadata": {
        "raw_mimetype": "text/html"
      },
      "source": [
        "<!-- Thus, the fitted parallel lines model is -->"
      ],
      "id": "4c1933a0-8d72-4194-99fe-c639f53cfa5a"
    },
    {
      "cell_type": "raw",
      "metadata": {
        "raw_mimetype": "text/html"
      },
      "source": [
        "<!-- \\[ -->"
      ],
      "id": "8dcce17e-4c64-4e3a-b692-ddfb196401e3"
    },
    {
      "cell_type": "raw",
      "metadata": {
        "raw_mimetype": "text/html"
      },
      "source": [
        "<!-- \\begin{aligned} -->"
      ],
      "id": "0419d12d-4ccc-4419-8765-789785b06cdc"
    },
    {
      "cell_type": "raw",
      "metadata": {
        "raw_mimetype": "text/html"
      },
      "source": [
        "<!-- &\\hat{E}(\\mathtt{bill\\_length\\_mm} \\mid \\mathtt{body\\_mass\\_g}, \\mathtt{species}) \\\\ -->"
      ],
      "id": "8bd93a58-04d3-4f48-b7e6-c17b6a2c76a6"
    },
    {
      "cell_type": "raw",
      "metadata": {
        "raw_mimetype": "text/html"
      },
      "source": [
        "<!-- &= 24.92 + 0.004 \\mathtt{body\\_mass\\_g} + 9.92 D_C + 3.56 D_G. -->"
      ],
      "id": "ed7de11d-46e0-4990-b492-445628d15d8e"
    },
    {
      "cell_type": "raw",
      "metadata": {
        "raw_mimetype": "text/html"
      },
      "source": [
        "<!-- \\end{aligned} -->"
      ],
      "id": "6bb523aa-edc0-422a-a12e-191c337640b6"
    },
    {
      "cell_type": "raw",
      "metadata": {
        "raw_mimetype": "text/html"
      },
      "source": [
        "<!-- (\\#eq:pl-model-penguins) -->"
      ],
      "id": "93a89005-62a7-4fad-939d-6b01948f6895"
    },
    {
      "cell_type": "raw",
      "metadata": {
        "raw_mimetype": "text/html"
      },
      "source": [
        "<!-- \\] -->"
      ],
      "id": "27a4dde8-823e-4b6e-a395-ad33b6529afb"
    },
    {
      "cell_type": "raw",
      "metadata": {
        "raw_mimetype": "text/html"
      },
      "source": [
        "<!-- Note that `speciesChinstrap` and `speciesGentoo` are the indicator variables related to the `Chinstrap` and `Gentoo` levels of `species`, respectively, i.e., they represent $D_C$ and $D_G$. When an observation has `species` level `Adelie`, then Equation \\@ref(eq:pl-model-penguins) simplifies to -->"
      ],
      "id": "b2e89264-e1c9-4f13-851f-208cac1393bf"
    },
    {
      "cell_type": "raw",
      "metadata": {
        "raw_mimetype": "text/html"
      },
      "source": [
        "<!-- \\[ -->"
      ],
      "id": "280ca063-ef38-4f6a-949a-f67e643cc630"
    },
    {
      "cell_type": "raw",
      "metadata": {
        "raw_mimetype": "text/html"
      },
      "source": [
        "<!-- \\begin{aligned} -->"
      ],
      "id": "b7726b50-4725-4845-9e05-332d511d9ce1"
    },
    {
      "cell_type": "raw",
      "metadata": {
        "raw_mimetype": "text/html"
      },
      "source": [
        "<!-- &\\hat{E}(\\mathtt{bill\\_length\\_mm} \\mid \\mathtt{body\\_mass\\_g}, \\mathtt{species}=\\mathtt{Adelie}) \\\\ -->"
      ],
      "id": "280d1447-90dd-4dbd-97d0-42019f6202cd"
    },
    {
      "cell_type": "raw",
      "metadata": {
        "raw_mimetype": "text/html"
      },
      "source": [
        "<!-- &=24.92 + 0.004 \\mathtt{body\\_mass\\_g} + 9.92 \\cdot 0 + 3.56 \\cdot 0 \\\\ -->"
      ],
      "id": "9438650d-5772-480a-abdb-d5e453a7cab8"
    },
    {
      "cell_type": "raw",
      "metadata": {
        "raw_mimetype": "text/html"
      },
      "source": [
        "<!-- &= 24.92 + 0.004 \\mathtt{body\\_mass\\_g}. -->"
      ],
      "id": "4fd83a57-dfae-45f6-b78d-f9195efebabe"
    },
    {
      "cell_type": "raw",
      "metadata": {
        "raw_mimetype": "text/html"
      },
      "source": [
        "<!-- \\end{aligned} -->"
      ],
      "id": "390f838a-f564-45c9-bd7b-0a95891a43c2"
    },
    {
      "cell_type": "raw",
      "metadata": {
        "raw_mimetype": "text/html"
      },
      "source": [
        "<!-- \\] -->"
      ],
      "id": "16cba51b-be54-4067-be34-b7b7d3bcabf3"
    },
    {
      "cell_type": "raw",
      "metadata": {
        "raw_mimetype": "text/html"
      },
      "source": [
        "<!-- --- -->"
      ],
      "id": "08ff17da-9a87-4aa3-a124-d202b082251d"
    },
    {
      "cell_type": "raw",
      "metadata": {
        "raw_mimetype": "text/html"
      },
      "source": [
        "<!-- When an observation has `species` level `Chinstrap`, then Equation \\@ref(eq:pl-model-penguins) simplifies to -->"
      ],
      "id": "3c539f79-7d11-4335-95c6-9f6b941b2350"
    },
    {
      "cell_type": "raw",
      "metadata": {
        "raw_mimetype": "text/html"
      },
      "source": [
        "<!-- \\[ -->"
      ],
      "id": "9366e683-9cee-409e-b841-033d74ca4f90"
    },
    {
      "cell_type": "raw",
      "metadata": {
        "raw_mimetype": "text/html"
      },
      "source": [
        "<!-- \\begin{aligned} -->"
      ],
      "id": "31e7bffe-b19c-4b67-9f9b-fe9a3d960501"
    },
    {
      "cell_type": "raw",
      "metadata": {
        "raw_mimetype": "text/html"
      },
      "source": [
        "<!-- &\\hat{E}(\\mathtt{bill\\_length\\_mm} \\mid \\mathtt{body\\_mass\\_g}, \\mathtt{species}=\\mathtt{Chinstrap}) \\\\ -->"
      ],
      "id": "f2b477ca-2005-4314-9bec-ce4e24cfb90c"
    },
    {
      "cell_type": "raw",
      "metadata": {
        "raw_mimetype": "text/html"
      },
      "source": [
        "<!-- &=24.92 + 0.004 \\mathtt{body\\_mass\\_g} + 9.92 \\cdot 1 + 3.56 \\cdot 0 \\\\ -->"
      ],
      "id": "39d24dec-a05d-4c97-a2a9-4c1045aa7f23"
    },
    {
      "cell_type": "raw",
      "metadata": {
        "raw_mimetype": "text/html"
      },
      "source": [
        "<!-- &= 34.84 + 0.004 \\mathtt{body\\_mass\\_g}. -->"
      ],
      "id": "f1cf1f4c-b66f-4f0d-930b-ab456c2c991a"
    },
    {
      "cell_type": "raw",
      "metadata": {
        "raw_mimetype": "text/html"
      },
      "source": [
        "<!-- \\end{aligned} -->"
      ],
      "id": "f75d3e71-bd5f-45fc-961e-4c1712e39484"
    },
    {
      "cell_type": "raw",
      "metadata": {
        "raw_mimetype": "text/html"
      },
      "source": [
        "<!-- \\] -->"
      ],
      "id": "eea7f00f-f7e9-4e7e-978e-02f602a47f7b"
    },
    {
      "cell_type": "raw",
      "metadata": {
        "raw_mimetype": "text/html"
      },
      "source": [
        "<!-- Lastly, when an observation has `species` level `Gentoo`, then Equation \\@ref(eq:pl-model-penguins) simplifies to -->"
      ],
      "id": "ceb3fca9-d442-49c5-b70f-b5ef71acac62"
    },
    {
      "cell_type": "raw",
      "metadata": {
        "raw_mimetype": "text/html"
      },
      "source": [
        "<!-- \\[ -->"
      ],
      "id": "5ee36fc5-9856-4e1f-b43b-6fa8aeb4927a"
    },
    {
      "cell_type": "raw",
      "metadata": {
        "raw_mimetype": "text/html"
      },
      "source": [
        "<!-- \\begin{aligned} -->"
      ],
      "id": "51c59291-75b5-491a-92bb-59ebbf81cbe6"
    },
    {
      "cell_type": "raw",
      "metadata": {
        "raw_mimetype": "text/html"
      },
      "source": [
        "<!-- &\\hat{E}(\\mathtt{bill\\_length\\_mm} \\mid \\mathtt{body\\_mass\\_g}, \\mathtt{species}=\\mathtt{Gentoo}) \\\\ -->"
      ],
      "id": "5426d3fe-dfec-478b-9d6d-a8bb868a38ac"
    },
    {
      "cell_type": "raw",
      "metadata": {
        "raw_mimetype": "text/html"
      },
      "source": [
        "<!-- &=24.92 + 0.004 \\mathtt{body\\_mass\\_g} + 9.92 \\cdot 0 + 3.56 \\cdot 1 \\\\ -->"
      ],
      "id": "0ddf80e5-ccbc-48a4-9126-bccaf11fd1fd"
    },
    {
      "cell_type": "raw",
      "metadata": {
        "raw_mimetype": "text/html"
      },
      "source": [
        "<!-- &= 28.48 + 0.004 \\mathtt{body\\_mass\\_g}. -->"
      ],
      "id": "36daca31-458c-4cea-bd92-3bef25b6c662"
    },
    {
      "cell_type": "raw",
      "metadata": {
        "raw_mimetype": "text/html"
      },
      "source": [
        "<!-- \\end{aligned} -->"
      ],
      "id": "c566dd83-abcd-4b24-a635-40bb778e6937"
    },
    {
      "cell_type": "raw",
      "metadata": {
        "raw_mimetype": "text/html"
      },
      "source": [
        "<!-- \\] -->"
      ],
      "id": "10f4f21b-36e1-460e-94fb-6fef522d4366"
    },
    {
      "cell_type": "raw",
      "metadata": {
        "raw_mimetype": "text/html"
      },
      "source": [
        "<!-- --- -->"
      ],
      "id": "7f0a1b0e-6715-421e-a74c-25f1c2c506a7"
    },
    {
      "cell_type": "raw",
      "metadata": {
        "raw_mimetype": "text/html"
      },
      "source": [
        "<!-- Adding fitted lines for each `species` level to the scatter plot in Figure \\@ref(fig:penguins-grouped-scatter) is a bit more difficult than before. One technique is to use `predict` to get the fitted values of each observation, use the `transform` function to add those values as a column to the original the data frame, then use `geom_line` to connect the fitted values from each group. -->"
      ],
      "id": "48c43c27-953c-4c84-9578-299dffedec35"
    },
    {
      "cell_type": "raw",
      "metadata": {
        "raw_mimetype": "text/html"
      },
      "source": [
        "<!-- We start by adding our fitted values to the `penguins` data frame. We use the `predict` function to obtained the fitted values of our fitted model and then use the `transform` function to add those values as the `pl_fitted` variable in the `penguins` data frame. -->"
      ],
      "id": "bfb0cb76-799b-4e95-97ee-68129f3a9e4d"
    },
    {
      "cell_type": "raw",
      "metadata": {
        "raw_mimetype": "text/html"
      },
      "source": [
        "<!-- ```{r, error=TRUE} -->"
      ],
      "id": "dbe5bcc8-1970-4863-87b5-e937821f4779"
    },
    {
      "cell_type": "raw",
      "metadata": {
        "raw_mimetype": "text/html"
      },
      "source": [
        "<!-- penguins <- -->"
      ],
      "id": "d13df362-db6b-43ba-8e0d-87958c0aa73f"
    },
    {
      "cell_type": "raw",
      "metadata": {
        "raw_mimetype": "text/html"
      },
      "source": [
        "<!--   penguins |> -->"
      ],
      "id": "110eb242-9d01-4fa4-9a1e-882bb3212891"
    },
    {
      "cell_type": "raw",
      "metadata": {
        "raw_mimetype": "text/html"
      },
      "source": [
        "<!--   transform(pl_fitted = predict(lmodp)) -->"
      ],
      "id": "a3b64347-3056-4f3d-91d5-71a5a36b725b"
    },
    {
      "cell_type": "raw",
      "metadata": {
        "raw_mimetype": "text/html"
      },
      "source": [
        "<!-- ``` -->"
      ],
      "id": "55b07b19-e204-4801-b322-e2e75e87b778"
    },
    {
      "cell_type": "raw",
      "metadata": {
        "raw_mimetype": "text/html"
      },
      "source": [
        "<!-- - **Question:** Why are we getting this error? -->"
      ],
      "id": "ad23f921-6dd6-410f-8f11-b2720c007b93"
    },
    {
      "cell_type": "raw",
      "metadata": {
        "raw_mimetype": "text/html"
      },
      "source": [
        "<!-- --- -->"
      ],
      "id": "eee863c7-06d8-4f55-9ba3-81347fd1bdea"
    },
    {
      "cell_type": "raw",
      "metadata": {
        "raw_mimetype": "text/html"
      },
      "source": [
        "<!-- To handle this error, we refit our model while setting the `na.action` argument to `na.exclude`. As stated Details section of the documentation for the `lm` function (run `?lm` in the Console): -->"
      ],
      "id": "b870569b-5d15-4776-91a8-5309e1904b2b"
    },
    {
      "cell_type": "raw",
      "metadata": {
        "raw_mimetype": "text/html"
      },
      "source": [
        "<!-- > $\\ldots$ when `na.exclude` is used the residuals and predictions are padded to the correct length by inserting `NA`s for cases omitted by `na.exclude`. -->"
      ],
      "id": "9c57e742-8970-4b70-96f8-a1f0cff620f0"
    },
    {
      "cell_type": "raw",
      "metadata": {
        "raw_mimetype": "text/html"
      },
      "source": [
        "<!-- We refit the parallel lines model below with `na.action = na.exclude`, then use the `predict` function to add the fitted values to the `penguins` data frame via the `transform` function. -->"
      ],
      "id": "c2251f58-5f86-4a95-9e54-08143e786106"
    },
    {
      "cell_type": "raw",
      "metadata": {
        "raw_mimetype": "text/html"
      },
      "source": [
        "<!-- ```{r} -->"
      ],
      "id": "864b8b5a-4be1-4c30-8daf-3092bccfca62"
    },
    {
      "cell_type": "raw",
      "metadata": {
        "raw_mimetype": "text/html"
      },
      "source": [
        "<!-- # refit parallel lines model with new na.action behavior -->"
      ],
      "id": "3fd4e1b4-3a1d-476e-97b6-f3a76b4027eb"
    },
    {
      "cell_type": "raw",
      "metadata": {
        "raw_mimetype": "text/html"
      },
      "source": [
        "<!-- lmodp <- lm(bill_length_mm ~ body_mass_g + species, data = penguins, na.action = na.exclude) -->"
      ],
      "id": "114be815-147a-40ce-b030-e72da94dd7a9"
    },
    {
      "cell_type": "raw",
      "metadata": {
        "raw_mimetype": "text/html"
      },
      "source": [
        "<!-- # add fitted values to penguins data frame -->"
      ],
      "id": "49171c6f-1336-4ee5-8549-0fb44bad5b80"
    },
    {
      "cell_type": "raw",
      "metadata": {
        "raw_mimetype": "text/html"
      },
      "source": [
        "<!-- penguins <- -->"
      ],
      "id": "f5d6c373-c1a0-4bc3-ac53-0030ff38ecfa"
    },
    {
      "cell_type": "raw",
      "metadata": {
        "raw_mimetype": "text/html"
      },
      "source": [
        "<!--   penguins |> -->"
      ],
      "id": "a1006d02-9190-4bd8-876f-cbfca311e0dd"
    },
    {
      "cell_type": "raw",
      "metadata": {
        "raw_mimetype": "text/html"
      },
      "source": [
        "<!--   transform(pl_fitted = predict(lmodp)) -->"
      ],
      "id": "c68fb5b6-970c-4a13-8099-c61f988c371a"
    },
    {
      "cell_type": "raw",
      "metadata": {
        "raw_mimetype": "text/html"
      },
      "source": [
        "<!-- ``` -->"
      ],
      "id": "8aa770c3-ee1c-4737-b7a4-fd0c53300700"
    },
    {
      "cell_type": "raw",
      "metadata": {
        "raw_mimetype": "text/html"
      },
      "source": [
        "<!-- --- -->"
      ],
      "id": "71918f03-ab78-4302-852f-10a7c8893e63"
    },
    {
      "cell_type": "raw",
      "metadata": {
        "raw_mimetype": "text/html"
      },
      "source": [
        "<!-- We now use the `geom_line` function to add the fitted lines for each `species` level to our scatter plot. Figure \\@ref(fig:pl-penguin-fit) displays the results from running the code below. The parallel lines model shown in Figure \\@ref(fig:pl-penguin-fit) fits the `penguins` data better than the simple linear regression model shown in Figure \\@ref(fig:slr-penguin-fit). -->"
      ],
      "id": "d4790520-9010-4c8d-b4db-e24a4f5ba73e"
    },
    {
      "cell_type": "raw",
      "metadata": {
        "raw_mimetype": "text/html"
      },
      "source": [
        "<!-- ```{r pl-penguin-fit, fig.cap=\"The fitted lines from the separate lines model for each level of `species` is added to the grouped scatter plot of `bill_length_mm` versus `body_mass_g`.\", warning = FALSE} -->"
      ],
      "id": "75557724-58f7-409c-84d3-fb3f891fe324"
    },
    {
      "cell_type": "raw",
      "metadata": {
        "raw_mimetype": "text/html"
      },
      "source": [
        "<!-- # create plot -->"
      ],
      "id": "80e76e75-35ae-4060-a3c1-b2684ed4eb73"
    },
    {
      "cell_type": "raw",
      "metadata": {
        "raw_mimetype": "text/html"
      },
      "source": [
        "<!-- # create scatterplot -->"
      ],
      "id": "153c27cb-9959-4549-9aea-adefa50f28c9"
    },
    {
      "cell_type": "raw",
      "metadata": {
        "raw_mimetype": "text/html"
      },
      "source": [
        "<!-- # customize labels -->"
      ],
      "id": "fcd24698-7fef-4393-9950-28694bc065d3"
    },
    {
      "cell_type": "raw",
      "metadata": {
        "raw_mimetype": "text/html"
      },
      "source": [
        "<!-- # add lines for each level of species -->"
      ],
      "id": "6cf03c33-7591-4dc6-99b0-f50725143974"
    },
    {
      "cell_type": "raw",
      "metadata": {
        "raw_mimetype": "text/html"
      },
      "source": [
        "<!-- ggplot(data = penguins) + -->"
      ],
      "id": "fa11c7dd-fd05-488a-984e-fa82202cf4b5"
    },
    {
      "cell_type": "raw",
      "metadata": {
        "raw_mimetype": "text/html"
      },
      "source": [
        "<!--   geom_point(aes(x = body_mass_g, y = bill_length_mm, -->"
      ],
      "id": "576512e2-b70f-47c9-8182-22a4576ff8b4"
    },
    {
      "cell_type": "raw",
      "metadata": {
        "raw_mimetype": "text/html"
      },
      "source": [
        "<!--                  shape = species, color = species)) + -->"
      ],
      "id": "88bbcdff-ce81-490e-85dd-04dc44873fb7"
    },
    {
      "cell_type": "raw",
      "metadata": {
        "raw_mimetype": "text/html"
      },
      "source": [
        "<!--   xlab(\"body mass (g)\") + ylab(\"bill length (mm)\") + -->"
      ],
      "id": "c4ef23f7-77f5-4d42-bbfb-216e552d0a43"
    },
    {
      "cell_type": "raw",
      "metadata": {
        "raw_mimetype": "text/html"
      },
      "source": [
        "<!--   geom_line(aes(x = body_mass_g, y = pl_fitted, color = species)) -->"
      ],
      "id": "79bd4a11-10fd-482b-846b-8b71b229d9a1"
    },
    {
      "cell_type": "raw",
      "metadata": {
        "raw_mimetype": "text/html"
      },
      "source": [
        "<!-- ``` -->"
      ],
      "id": "9e40565c-0eab-48bd-9066-6bc904e9a3bb"
    },
    {
      "cell_type": "raw",
      "metadata": {
        "raw_mimetype": "text/html"
      },
      "source": [
        "<!-- --- -->"
      ],
      "id": "4082f307-0ebc-4332-9af5-49ab85d7903d"
    },
    {
      "cell_type": "raw",
      "metadata": {
        "raw_mimetype": "text/html"
      },
      "source": [
        "<!-- We now fit a separate lines regression model to the `penguins` data. Specifically, we fit the model -->"
      ],
      "id": "1d5f8e79-140e-4543-b4b2-b005eee2d097"
    },
    {
      "cell_type": "raw",
      "metadata": {
        "raw_mimetype": "text/html"
      },
      "source": [
        "<!-- \\[ -->"
      ],
      "id": "e47cb4e0-5302-4d7f-9291-779a9bc398f2"
    },
    {
      "cell_type": "raw",
      "metadata": {
        "raw_mimetype": "text/html"
      },
      "source": [
        "<!-- \\begin{aligned} -->"
      ],
      "id": "40629332-55bf-450c-ac32-be511af3da15"
    },
    {
      "cell_type": "raw",
      "metadata": {
        "raw_mimetype": "text/html"
      },
      "source": [
        "<!-- &E(\\mathtt{bill\\_length\\_mm} \\mid \\mathtt{body\\_mass\\_g}, \\mathtt{species}) \\\\ -->"
      ],
      "id": "e4b751b9-849b-422d-ba36-82531ad67d39"
    },
    {
      "cell_type": "raw",
      "metadata": {
        "raw_mimetype": "text/html"
      },
      "source": [
        "<!-- &= \\beta_{0} + \\beta_1 \\mathtt{body\\_mass\\_g} + \\beta_2 D_C + \\beta_3 D_G + \\beta_4 \\mathtt{body\\_mass\\_g} D_C + \\beta_5 \\mathtt{body\\_mass\\_g} D_G , -->"
      ],
      "id": "d5fe5ada-6a28-4d3b-a7cb-30d5ea35376e"
    },
    {
      "cell_type": "raw",
      "metadata": {
        "raw_mimetype": "text/html"
      },
      "source": [
        "<!-- \\end{aligned} -->"
      ],
      "id": "93e4c4ea-f6b1-41b9-948a-751c0ca88e53"
    },
    {
      "cell_type": "raw",
      "metadata": {
        "raw_mimetype": "text/html"
      },
      "source": [
        "<!-- \\] -->"
      ],
      "id": "a5c99755-83b7-4947-a02b-288d6115ba0f"
    },
    {
      "cell_type": "raw",
      "metadata": {
        "raw_mimetype": "text/html"
      },
      "source": [
        "<!-- using the code below, using the `coef` function to extract the estimated coefficients. The terms with `:` are interaction variables, e.g., `body_mass_g:speciesChinstrap` is $\\hat{\\beta}_4$, the coefficient for the interaction between regressor $\\mathtt{body\\_mass\\_g} D_C$. -->"
      ],
      "id": "e5e033d3-cb34-4dbb-8dad-d1d2dd91826d"
    },
    {
      "cell_type": "raw",
      "metadata": {
        "raw_mimetype": "text/html"
      },
      "source": [
        "<!-- ```{r} -->"
      ],
      "id": "7bf3af91-9c57-465d-bc5d-74efaa4146ba"
    },
    {
      "cell_type": "raw",
      "metadata": {
        "raw_mimetype": "text/html"
      },
      "source": [
        "<!-- # fit separate lines model -->"
      ],
      "id": "02cc8a5d-7e90-47e1-965f-824cb74c7b4f"
    },
    {
      "cell_type": "raw",
      "metadata": {
        "raw_mimetype": "text/html"
      },
      "source": [
        "<!-- # na.omit = na.exclude used to change predict behavior -->"
      ],
      "id": "779a097e-d4f8-45e0-8ee2-226af6e4bfaa"
    },
    {
      "cell_type": "raw",
      "metadata": {
        "raw_mimetype": "text/html"
      },
      "source": [
        "<!-- lmods <- lm(bill_length_mm ~ body_mass_g + species + body_mass_g:species, -->"
      ],
      "id": "6a6d34a5-caec-4a89-99b5-db213b778d24"
    },
    {
      "cell_type": "raw",
      "metadata": {
        "raw_mimetype": "text/html"
      },
      "source": [
        "<!--             data = penguins, na.action = na.exclude) -->"
      ],
      "id": "2940b9c6-39df-4480-b13a-2031741da4df"
    },
    {
      "cell_type": "raw",
      "metadata": {
        "raw_mimetype": "text/html"
      },
      "source": [
        "<!-- # extract estimated coefficients -->"
      ],
      "id": "259c2f6a-b60c-4abf-b864-296a413d98c9"
    },
    {
      "cell_type": "raw",
      "metadata": {
        "raw_mimetype": "text/html"
      },
      "source": [
        "<!-- coef(lmods) -->"
      ],
      "id": "410e64e8-341d-433f-bef4-b8b0e89142e2"
    },
    {
      "cell_type": "raw",
      "metadata": {
        "raw_mimetype": "text/html"
      },
      "source": [
        "<!-- ``` -->"
      ],
      "id": "26a7c1ad-6de0-4439-a167-72cf84453988"
    },
    {
      "cell_type": "raw",
      "metadata": {
        "raw_mimetype": "text/html"
      },
      "source": [
        "<!-- Thus, the fitted separate lines model is -->"
      ],
      "id": "af792ec6-e526-479b-a174-3b5ee57a0391"
    },
    {
      "cell_type": "raw",
      "metadata": {
        "raw_mimetype": "text/html"
      },
      "source": [
        "<!-- \\[ -->"
      ],
      "id": "cf607179-f855-4c97-98ae-e7a12d85742b"
    },
    {
      "cell_type": "raw",
      "metadata": {
        "raw_mimetype": "text/html"
      },
      "source": [
        "<!-- \\begin{aligned} -->"
      ],
      "id": "1364e2fd-c2bf-46bd-ba05-2739c8dea11d"
    },
    {
      "cell_type": "raw",
      "metadata": {
        "raw_mimetype": "text/html"
      },
      "source": [
        "<!-- &\\hat{E}(\\mathtt{bill\\_length\\_mm} \\mid \\mathtt{body\\_mass\\_g}, \\mathtt{species}) \\\\ -->"
      ],
      "id": "eb9949c8-8f9d-41f9-b0f5-b132c3fa12c8"
    },
    {
      "cell_type": "raw",
      "metadata": {
        "raw_mimetype": "text/html"
      },
      "source": [
        "<!-- &= 26.99 + 0.003 \\mathtt{body\\_mass\\_g} + 5.18 D_C - 0.25 D_G \\\\ -->"
      ],
      "id": "29df4507-cb45-4e82-ab85-1739cb3fe786"
    },
    {
      "cell_type": "raw",
      "metadata": {
        "raw_mimetype": "text/html"
      },
      "source": [
        "<!-- &\\quad + 0.001 \\mathtt{body\\_mass\\_g} D_C + 0.0009 \\mathtt{body\\_mass\\_g} D_G, (\\#eq:sl-model-penguins) -->"
      ],
      "id": "d51d2613-d0ad-4fc3-a8cf-e5c1a72f2ad9"
    },
    {
      "cell_type": "raw",
      "metadata": {
        "raw_mimetype": "text/html"
      },
      "source": [
        "<!-- \\end{aligned} -->"
      ],
      "id": "4d20d4af-e16f-446c-bcc2-62ec7b71348a"
    },
    {
      "cell_type": "raw",
      "metadata": {
        "raw_mimetype": "text/html"
      },
      "source": [
        "<!-- \\] -->"
      ],
      "id": "7e53fa21-b7a8-4761-86ab-a26105b1c74c"
    },
    {
      "cell_type": "raw",
      "metadata": {
        "raw_mimetype": "text/html"
      },
      "source": [
        "<!-- --- -->"
      ],
      "id": "1a9699e8-1348-4a01-a577-45c74fcb7745"
    },
    {
      "cell_type": "raw",
      "metadata": {
        "raw_mimetype": "text/html"
      },
      "source": [
        "<!-- When an observation has `species` level `Adelie`, then Equation \\@ref(eq:sl-model-penguins) simplifies to -->"
      ],
      "id": "0c23ff8f-4cd3-43af-9744-2f6fab8e185a"
    },
    {
      "cell_type": "raw",
      "metadata": {
        "raw_mimetype": "text/html"
      },
      "source": [
        "<!-- \\[ -->"
      ],
      "id": "98520958-5c77-40ad-897f-3c963c9a1a4b"
    },
    {
      "cell_type": "raw",
      "metadata": {
        "raw_mimetype": "text/html"
      },
      "source": [
        "<!-- \\begin{aligned} -->"
      ],
      "id": "aa92a6cb-96bb-4f70-b776-14923da4394f"
    },
    {
      "cell_type": "raw",
      "metadata": {
        "raw_mimetype": "text/html"
      },
      "source": [
        "<!-- &\\hat{E}(\\mathtt{bill\\_length\\_mm} \\mid \\mathtt{body\\_mass\\_g}, \\mathtt{species}=\\mathtt{Adelie}) \\\\ -->"
      ],
      "id": "8cb01298-0e46-48b8-aca4-1dbdabd5440c"
    },
    {
      "cell_type": "raw",
      "metadata": {
        "raw_mimetype": "text/html"
      },
      "source": [
        "<!-- &=26.99 + 0.003 \\mathtt{body\\_mass\\_g} + 5.18 \\cdot 0 - 0.25 \\cdot 0\\\\ -->"
      ],
      "id": "7b98659c-ba4e-4744-b2b1-b75d771353ff"
    },
    {
      "cell_type": "raw",
      "metadata": {
        "raw_mimetype": "text/html"
      },
      "source": [
        "<!-- &\\quad + 0.001 \\cdot \\mathtt{body\\_mass\\_g} \\cdot 0 + 0.0009 \\cdot \\mathtt{body\\_mass\\_g} \\cdot 0\\\\ -->"
      ],
      "id": "dc723b22-9aa5-4a84-91b9-88b16e13047b"
    },
    {
      "cell_type": "raw",
      "metadata": {
        "raw_mimetype": "text/html"
      },
      "source": [
        "<!-- &= 26.99 + 0.003 \\mathtt{body\\_mass\\_g}. -->"
      ],
      "id": "d0779d2d-e133-4863-9108-d7b0c7e7d0a2"
    },
    {
      "cell_type": "raw",
      "metadata": {
        "raw_mimetype": "text/html"
      },
      "source": [
        "<!-- \\end{aligned} -->"
      ],
      "id": "d6f20066-0a85-4c4f-a851-1358643170dc"
    },
    {
      "cell_type": "raw",
      "metadata": {
        "raw_mimetype": "text/html"
      },
      "source": [
        "<!-- \\] -->"
      ],
      "id": "c996af48-5487-44f2-9f8f-7a5fa7d1dc03"
    },
    {
      "cell_type": "raw",
      "metadata": {
        "raw_mimetype": "text/html"
      },
      "source": [
        "<!-- When an observation has `species` level `Chinstrap`, then Equation \\@ref(eq:sl-model-penguins) simplifies to -->"
      ],
      "id": "bb2d9933-2a7a-4755-a92a-8ae468205afd"
    },
    {
      "cell_type": "raw",
      "metadata": {
        "raw_mimetype": "text/html"
      },
      "source": [
        "<!-- \\[ -->"
      ],
      "id": "76b44c3d-e5fc-4bf9-8f75-7fe52aa129d9"
    },
    {
      "cell_type": "raw",
      "metadata": {
        "raw_mimetype": "text/html"
      },
      "source": [
        "<!-- \\begin{aligned} -->"
      ],
      "id": "c2e4b80c-fdbd-4cf1-a34f-e12559a1373b"
    },
    {
      "cell_type": "raw",
      "metadata": {
        "raw_mimetype": "text/html"
      },
      "source": [
        "<!-- &\\hat{E}(\\mathtt{bill\\_length\\_mm} \\mid \\mathtt{body\\_mass\\_g}, \\mathtt{species}=\\mathtt{Chinstrap}) \\\\ -->"
      ],
      "id": "ec04c8ce-bcbc-4afa-9d9c-8b7d21ec7e9a"
    },
    {
      "cell_type": "raw",
      "metadata": {
        "raw_mimetype": "text/html"
      },
      "source": [
        "<!-- &=26.99 + 0.003 \\mathtt{body\\_mass\\_g} + 5.18 \\cdot 1 - 0.25 \\cdot 0 \\\\ -->"
      ],
      "id": "6467cba2-a7c5-4624-836c-16d8e2282bc2"
    },
    {
      "cell_type": "raw",
      "metadata": {
        "raw_mimetype": "text/html"
      },
      "source": [
        "<!-- &\\quad + 0.001 \\cdot \\mathtt{body\\_mass\\_g} \\cdot 1 + 0.0009 \\cdot \\mathtt{body\\_mass\\_g} \\cdot 0 \\\\ -->"
      ],
      "id": "f56630dd-adee-45b7-b57c-e339ef2794c4"
    },
    {
      "cell_type": "raw",
      "metadata": {
        "raw_mimetype": "text/html"
      },
      "source": [
        "<!-- &= 31.17 + 0.004 \\mathtt{body\\_mass\\_g}. -->"
      ],
      "id": "bfb37929-e675-450d-b57a-39092c942c8b"
    },
    {
      "cell_type": "raw",
      "metadata": {
        "raw_mimetype": "text/html"
      },
      "source": [
        "<!-- \\end{aligned} -->"
      ],
      "id": "2567ddb3-d778-4f4a-be0f-ae0e44c24ed9"
    },
    {
      "cell_type": "raw",
      "metadata": {
        "raw_mimetype": "text/html"
      },
      "source": [
        "<!-- \\] -->"
      ],
      "id": "b87a4524-0832-4460-999a-1ecde732f524"
    },
    {
      "cell_type": "raw",
      "metadata": {
        "raw_mimetype": "text/html"
      },
      "source": [
        "<!-- When an observation has `species` level `Gentoo`, then Equation \\@ref(eq:sl-model-penguins) simplifies to -->"
      ],
      "id": "12b5c021-a52b-44ea-8a1f-a0daa77e6686"
    },
    {
      "cell_type": "raw",
      "metadata": {
        "raw_mimetype": "text/html"
      },
      "source": [
        "<!-- \\[ -->"
      ],
      "id": "eb6bd79a-6bde-4ccc-9c20-c65fdc25350b"
    },
    {
      "cell_type": "raw",
      "metadata": {
        "raw_mimetype": "text/html"
      },
      "source": [
        "<!-- \\begin{aligned} -->"
      ],
      "id": "088a0e5c-f1aa-4429-95e4-3ab6409f899c"
    },
    {
      "cell_type": "raw",
      "metadata": {
        "raw_mimetype": "text/html"
      },
      "source": [
        "<!-- &\\hat{E}(\\mathtt{bill\\_length\\_mm} \\mid \\mathtt{body\\_mass\\_g}, \\mathtt{species}=\\mathtt{Chinstrap}) \\\\ -->"
      ],
      "id": "91c0f502-4e20-4003-8ea4-08967f262eed"
    },
    {
      "cell_type": "raw",
      "metadata": {
        "raw_mimetype": "text/html"
      },
      "source": [
        "<!-- &=26.99 + 0.003 \\mathtt{body\\_mass\\_g} + 5.18 \\cdot 0 - 0.25 \\cdot 1 \\\\ -->"
      ],
      "id": "716f9858-5939-4214-9307-4b11f144bf07"
    },
    {
      "cell_type": "raw",
      "metadata": {
        "raw_mimetype": "text/html"
      },
      "source": [
        "<!-- &\\quad + 0.001 \\cdot \\mathtt{body\\_mass\\_g} \\cdot 0 + 0.0009 \\cdot \\mathtt{body\\_mass\\_g} \\cdot 1 \\\\ -->"
      ],
      "id": "d6f8acc0-4210-4ed3-8f9e-123d663b51de"
    },
    {
      "cell_type": "raw",
      "metadata": {
        "raw_mimetype": "text/html"
      },
      "source": [
        "<!-- &= 26.74 + 0.004 \\mathtt{body\\_mass\\_g}. -->"
      ],
      "id": "9961272a-74f5-4ac3-a3aa-4e9f9dd2aa59"
    },
    {
      "cell_type": "raw",
      "metadata": {
        "raw_mimetype": "text/html"
      },
      "source": [
        "<!-- \\end{aligned} -->"
      ],
      "id": "e6c73b74-f176-4049-8937-604128c12722"
    },
    {
      "cell_type": "raw",
      "metadata": {
        "raw_mimetype": "text/html"
      },
      "source": [
        "<!-- \\] -->"
      ],
      "id": "f553e6f6-872f-4f06-8b85-919c7bfdba27"
    },
    {
      "cell_type": "raw",
      "metadata": {
        "raw_mimetype": "text/html"
      },
      "source": [
        "<!-- --- -->"
      ],
      "id": "49835c64-fd6c-49e2-87e5-33cae3d612f6"
    },
    {
      "cell_type": "raw",
      "metadata": {
        "raw_mimetype": "text/html"
      },
      "source": [
        "<!-- We use the code below to display the fitted lines for the separate lines model on the `penguins` data.  -->"
      ],
      "id": "02a3cb6b-af4e-4d93-83d7-8e1d2a2443dd"
    },
    {
      "cell_type": "raw",
      "metadata": {
        "raw_mimetype": "text/html"
      },
      "source": [
        "<!-- ```{r sl-penguin-fit, fig.cap=\"The fitted model for each level of `species` is added to the grouped scatter plot of `bill_length_mm` versus `body_mass_g`.\", warning = FALSE} -->"
      ],
      "id": "0a6b83f3-1da1-42c0-ad3e-c3e729303e06"
    },
    {
      "cell_type": "raw",
      "metadata": {
        "raw_mimetype": "text/html"
      },
      "source": [
        "<!-- # add separate lines fitted values to penguins data frame -->"
      ],
      "id": "3820f2fd-623f-4b69-9de4-fe91016553e8"
    },
    {
      "cell_type": "raw",
      "metadata": {
        "raw_mimetype": "text/html"
      },
      "source": [
        "<!-- penguins <- -->"
      ],
      "id": "54584135-f8c3-4643-9200-c29b212ee2b0"
    },
    {
      "cell_type": "raw",
      "metadata": {
        "raw_mimetype": "text/html"
      },
      "source": [
        "<!--   penguins |> -->"
      ],
      "id": "dd366e3a-5c72-47a5-82ac-e201d693c693"
    },
    {
      "cell_type": "raw",
      "metadata": {
        "raw_mimetype": "text/html"
      },
      "source": [
        "<!--   transform(sl_fitted = predict(lmods)) -->"
      ],
      "id": "4d94e480-038c-47f9-9927-f72f8e417540"
    },
    {
      "cell_type": "raw",
      "metadata": {
        "raw_mimetype": "text/html"
      },
      "source": [
        "<!-- # use geom_line to add fitted lines to plot -->"
      ],
      "id": "d9369d04-d615-476b-b22d-1f4c18af3423"
    },
    {
      "cell_type": "raw",
      "metadata": {
        "raw_mimetype": "text/html"
      },
      "source": [
        "<!-- ggplot(data = penguins) + -->"
      ],
      "id": "952d6b2f-7ef9-479c-847e-22d347e2095b"
    },
    {
      "cell_type": "raw",
      "metadata": {
        "raw_mimetype": "text/html"
      },
      "source": [
        "<!--   geom_point(aes(x = body_mass_g, y = bill_length_mm, shape = species, color = species)) + -->"
      ],
      "id": "1779dc74-ccb3-49e7-bda7-473b99e91858"
    },
    {
      "cell_type": "raw",
      "metadata": {
        "raw_mimetype": "text/html"
      },
      "source": [
        "<!--   xlab(\"body mass (g)\") + ylab(\"bill length (mm)\") + -->"
      ],
      "id": "ef7507a4-c42f-49d0-a72d-16b389200db3"
    },
    {
      "cell_type": "raw",
      "metadata": {
        "raw_mimetype": "text/html"
      },
      "source": [
        "<!--   geom_line(aes(x = body_mass_g, y = sl_fitted, col = species)) -->"
      ],
      "id": "60082ea3-0220-4f7d-ad2b-d5920347236f"
    },
    {
      "cell_type": "raw",
      "metadata": {
        "raw_mimetype": "text/html"
      },
      "source": [
        "<!-- ``` -->"
      ],
      "id": "7d846f40-da30-4f01-83d0-d529717912f2"
    },
    {
      "cell_type": "raw",
      "metadata": {
        "raw_mimetype": "text/html"
      },
      "source": [
        "<!-- - **Question:** Do the fitted lines match the observed data behavior reasonably well? -->"
      ],
      "id": "cd097738-0466-4f64-a801-9a479e9f9278"
    },
    {
      "cell_type": "raw",
      "metadata": {
        "raw_mimetype": "text/html"
      },
      "source": [
        "<!-- # Evaluating model fit -->"
      ],
      "id": "e8c932f3-f6e4-4cc7-b5e4-0b314f0c7cc4"
    },
    {
      "cell_type": "raw",
      "metadata": {
        "raw_mimetype": "text/html"
      },
      "source": [
        "<!-- The most basic statistic measuring the fit of a regression model is the **coefficient of determination**, which is defined as -->"
      ],
      "id": "7dafd74f-8d48-428e-86e0-279db3d82912"
    },
    {
      "cell_type": "raw",
      "metadata": {
        "raw_mimetype": "text/html"
      },
      "source": [
        "<!-- \\[ -->"
      ],
      "id": "d2ac99f7-dbce-4e22-a8d2-4b4e6674cc90"
    },
    {
      "cell_type": "raw",
      "metadata": {
        "raw_mimetype": "text/html"
      },
      "source": [
        "<!-- R^2 = 1 - \\frac{\\sum_{i=1}^n (Y_i-\\hat{Y}_i)^2}{\\sum_{i=1}^n (Y_i-\\bar{Y})^2},(\\#eq:rsquared) -->"
      ],
      "id": "46c6b99b-896f-4aea-903e-4e04a6d188d3"
    },
    {
      "cell_type": "raw",
      "metadata": {
        "raw_mimetype": "text/html"
      },
      "source": [
        "<!-- \\] -->"
      ],
      "id": "aa5fd46e-7173-40d6-a634-4d5220d5f61e"
    },
    {
      "cell_type": "raw",
      "metadata": {
        "raw_mimetype": "text/html"
      },
      "source": [
        "<!-- where $\\bar{Y}$ is the sample mean of the observed response values. -->"
      ],
      "id": "d603d5ff-65c1-49e2-b6b9-5b84dd8f58f0"
    },
    {
      "cell_type": "raw",
      "metadata": {
        "raw_mimetype": "text/html"
      },
      "source": [
        "<!-- --- -->"
      ],
      "id": "de46828e-1c1c-41d9-81d3-75cece4cd996"
    },
    {
      "cell_type": "raw",
      "metadata": {
        "raw_mimetype": "text/html"
      },
      "source": [
        "<!-- To interpret this statistic, we need to introduce some new \"sum-of-squares\" statistics similar to the RSS. -->"
      ],
      "id": "6194655b-8eb4-4c28-9006-d5da6ec9c1c6"
    },
    {
      "cell_type": "raw",
      "metadata": {
        "raw_mimetype": "text/html"
      },
      "source": [
        "<!-- The **total sum of squares** (corrected for the mean) is computed as -->"
      ],
      "id": "87b280ed-d70e-40f9-93d0-87bddba50736"
    },
    {
      "cell_type": "raw",
      "metadata": {
        "raw_mimetype": "text/html"
      },
      "source": [
        "<!-- \\[ -->"
      ],
      "id": "4318c3b3-acc7-4991-b057-c3e33884acc5"
    },
    {
      "cell_type": "raw",
      "metadata": {
        "raw_mimetype": "text/html"
      },
      "source": [
        "<!-- TSS = \\sum_{i=1}^n(Y_i-\\bar{Y})^2. (\\#eq:tss) -->"
      ],
      "id": "8f05a62f-d7f7-4041-80f0-774cf2d02056"
    },
    {
      "cell_type": "raw",
      "metadata": {
        "raw_mimetype": "text/html"
      },
      "source": [
        "<!-- \\] -->"
      ],
      "id": "38d17b14-5d58-40a3-8887-767a5f09013b"
    },
    {
      "cell_type": "raw",
      "metadata": {
        "raw_mimetype": "text/html"
      },
      "source": [
        "<!-- The TSS is the sum of the squared deviations of the response values from the sample mean. However, it has a more insightful interpretation. Consider the **constant mean model**, which is the model -->"
      ],
      "id": "17166f4c-c130-430b-8cd7-b74ae72c7093"
    },
    {
      "cell_type": "raw",
      "metadata": {
        "raw_mimetype": "text/html"
      },
      "source": [
        "<!-- \\[ -->"
      ],
      "id": "c72eb097-1e91-444f-acc5-d5e04ffca4c6"
    },
    {
      "cell_type": "raw",
      "metadata": {
        "raw_mimetype": "text/html"
      },
      "source": [
        "<!-- E(Y)=\\beta_0. (\\#eq:constant-mean-model) -->"
      ],
      "id": "99338036-15f2-4271-ac70-93c99949a073"
    },
    {
      "cell_type": "raw",
      "metadata": {
        "raw_mimetype": "text/html"
      },
      "source": [
        "<!-- \\] -->"
      ],
      "id": "3224b6be-f2f7-4df2-87d4-b496556f2f90"
    },
    {
      "cell_type": "raw",
      "metadata": {
        "raw_mimetype": "text/html"
      },
      "source": [
        "<!-- --- -->"
      ],
      "id": "6a5d48bf-fd3a-4965-8933-eb6f50d3e479"
    },
    {
      "cell_type": "raw",
      "metadata": {
        "raw_mimetype": "text/html"
      },
      "source": [
        "<!-- Using basic calculus, you can show that the OLS estimator of $\\beta_0$ for the model in Equation \\@ref(eq:constant-mean-model) is $\\hat{\\beta}_0=\\bar{Y}$. For the constant mean model, the fitted value of every observation is $\\hat{\\beta}_0$, i.e., $\\hat{Y}_i=\\hat{\\beta}_0$ for $i=1,2,\\ldots,n$. Thus, the RSS of the constant mean model is $\\sum_{i=1}^n(Y_i-\\hat{Y}_i)^2=\\sum_{i=1}^n(Y_i-\\bar{Y})^2$. Thus, *the TSS is the RSS for the constant mean model*. -->"
      ],
      "id": "5cd42b1f-d8b4-4819-b5c6-916600fb0f70"
    },
    {
      "cell_type": "raw",
      "metadata": {
        "raw_mimetype": "text/html"
      },
      "source": [
        "<!-- The **regression sum-of-squares** or **model sum-of-squares** is defined as -->"
      ],
      "id": "e7ceb819-e517-41d1-8e7d-1fd0fb014045"
    },
    {
      "cell_type": "raw",
      "metadata": {
        "raw_mimetype": "text/html"
      },
      "source": [
        "<!-- \\[ -->"
      ],
      "id": "54d98073-7698-4f08-8132-abb3942d3e59"
    },
    {
      "cell_type": "raw",
      "metadata": {
        "raw_mimetype": "text/html"
      },
      "source": [
        "<!-- SS_{reg} = \\sum_{i=1}^n(\\hat{Y}_i-\\bar{Y})^2. (\\#eq:ssreg) -->"
      ],
      "id": "a31bf2bd-7a1b-4675-bebf-cc5be1e98a3a"
    },
    {
      "cell_type": "raw",
      "metadata": {
        "raw_mimetype": "text/html"
      },
      "source": [
        "<!-- \\] -->"
      ],
      "id": "699fb22f-8324-43ab-aa6f-5963e0f0745d"
    },
    {
      "cell_type": "raw",
      "metadata": {
        "raw_mimetype": "text/html"
      },
      "source": [
        "<!-- Thus, SS~reg~ is the sum of the squared deviations between the fitted values of a model and the fitted values of the constant mean model. More helpfully, we have the following equation relating TSS, RSS, and SS~reg~: -->"
      ],
      "id": "9ca6ace9-e0f8-4b20-8d8e-5834f2570b99"
    },
    {
      "cell_type": "raw",
      "metadata": {
        "raw_mimetype": "text/html"
      },
      "source": [
        "<!-- \\[ -->"
      ],
      "id": "71195aa1-e011-46e2-8e14-9f51ef7a24ab"
    },
    {
      "cell_type": "raw",
      "metadata": {
        "raw_mimetype": "text/html"
      },
      "source": [
        "<!-- TSS = RSS + SS_{reg}.(\\#eq:ss-equality) -->"
      ],
      "id": "35dffbc3-58e8-45b5-af23-e6caf2c7506c"
    },
    {
      "cell_type": "raw",
      "metadata": {
        "raw_mimetype": "text/html"
      },
      "source": [
        "<!-- \\] -->"
      ],
      "id": "ad0504f2-d48f-4ff2-ab36-48fd274ec255"
    },
    {
      "cell_type": "raw",
      "metadata": {
        "raw_mimetype": "text/html"
      },
      "source": [
        "<!-- Thus, $SS_{reg}=TSS-RSS$. This means that *SS~reg~ measures the reduction in RSS when comparing the fitted model to the constant mean model*. -->"
      ],
      "id": "8ad535eb-d98d-4af8-92cb-3d8ad905fc09"
    },
    {
      "cell_type": "raw",
      "metadata": {
        "raw_mimetype": "text/html"
      },
      "source": [
        "<!-- --- -->"
      ],
      "id": "fbeac77f-15f6-4a7a-ac15-182c1839ab27"
    },
    {
      "cell_type": "raw",
      "metadata": {
        "raw_mimetype": "text/html"
      },
      "source": [
        "<!-- Comparing Equations \\@ref(eq:def-rss-slr), \\@ref(eq:rsquared), \\@ref(eq:tss), and \\@ref(eq:ssreg), we can express $R^2$ as: -->"
      ],
      "id": "47cb59a0-1bc4-4704-a144-fd173a5881c1"
    },
    {
      "cell_type": "raw",
      "metadata": {
        "raw_mimetype": "text/html"
      },
      "source": [
        "<!-- \\[ -->"
      ],
      "id": "122fde5c-44ba-4607-a80d-7bcbe560be09"
    },
    {
      "cell_type": "raw",
      "metadata": {
        "raw_mimetype": "text/html"
      },
      "source": [
        "<!-- \\begin{aligned} -->"
      ],
      "id": "40cd6668-b21f-4065-b8d0-172804717105"
    },
    {
      "cell_type": "raw",
      "metadata": {
        "raw_mimetype": "text/html"
      },
      "source": [
        "<!-- R^2 &= 1-\\frac{\\sum_{i=1}^n (Y_i-\\hat{Y}_i)^2}{\\sum_{i=1}^n (Y_i-\\bar{Y})^2} \\\\ -->"
      ],
      "id": "5a3c43ed-7902-4325-96b5-50b4cc4e5968"
    },
    {
      "cell_type": "raw",
      "metadata": {
        "raw_mimetype": "text/html"
      },
      "source": [
        "<!-- &= 1 - \\frac{RSS}{TSS} \\\\ -->"
      ],
      "id": "84e3280e-35eb-4b65-9cb1-d66a83a5aa94"
    },
    {
      "cell_type": "raw",
      "metadata": {
        "raw_mimetype": "text/html"
      },
      "source": [
        "<!-- &= \\frac{TSS - RSS}{TSS} \\\\ -->"
      ],
      "id": "3b330f7a-9384-4f61-8223-0509e21dc3e5"
    },
    {
      "cell_type": "raw",
      "metadata": {
        "raw_mimetype": "text/html"
      },
      "source": [
        "<!-- &= \\frac{SS_{reg}}{TSS} \\\\ -->"
      ],
      "id": "9bc7a62c-0644-43d9-ba65-bd67af6f8763"
    },
    {
      "cell_type": "raw",
      "metadata": {
        "raw_mimetype": "text/html"
      },
      "source": [
        "<!-- &= [\\mathrm{cor}(\\mathbf{y}, \\hat{\\mathbf{y}})]^2. -->"
      ],
      "id": "80e8178c-a1b3-488c-a436-4b2ae1dcd19b"
    },
    {
      "cell_type": "raw",
      "metadata": {
        "raw_mimetype": "text/html"
      },
      "source": [
        "<!-- \\end{aligned} -->"
      ],
      "id": "3310800b-6fbc-4145-a216-3532465d6fbc"
    },
    {
      "cell_type": "raw",
      "metadata": {
        "raw_mimetype": "text/html"
      },
      "source": [
        "<!-- (\\#eq:rsquared2) -->"
      ],
      "id": "d26514b3-505c-4269-a9e6-2f2f2e952ab3"
    },
    {
      "cell_type": "raw",
      "metadata": {
        "raw_mimetype": "text/html"
      },
      "source": [
        "<!-- \\] -->"
      ],
      "id": "635a4495-7565-4d0c-bdfb-d509decc6917"
    },
    {
      "cell_type": "raw",
      "metadata": {
        "raw_mimetype": "text/html"
      },
      "source": [
        "<!-- The last expression is the squared sample correlation between the observed and fitted values, and is a helpful way to express the coefficient of determination because it extends to regression models that are not linear. -->"
      ],
      "id": "85a700f6-fe02-48c9-a5ab-607c1024877f"
    },
    {
      "cell_type": "raw",
      "metadata": {
        "raw_mimetype": "text/html"
      },
      "source": [
        "<!-- --- -->"
      ],
      "id": "a836bdb6-f996-4fbf-909e-49c01a50d485"
    },
    {
      "cell_type": "raw",
      "metadata": {
        "raw_mimetype": "text/html"
      },
      "source": [
        "<!-- Looking at Equation \\@ref(eq:rsquared2) in particular, we can say that *the coefficient of determination is the proportional reduction in RSS when comparing the fitted model to the constant mean model*. -->"
      ],
      "id": "707ac09d-62e8-4d8b-8435-5d089b055097"
    },
    {
      "cell_type": "raw",
      "metadata": {
        "raw_mimetype": "text/html"
      },
      "source": [
        "<!-- Some comments about the coefficient of determination: -->"
      ],
      "id": "882b3f09-eed8-4299-8c8d-9a4bfdec519c"
    },
    {
      "cell_type": "raw",
      "metadata": {
        "raw_mimetype": "text/html"
      },
      "source": [
        "<!-- - $0\\leq R^2 \\leq 1$. -->"
      ],
      "id": "b6fe33bd-6a00-4797-afd6-c265a8ad2a5b"
    },
    {
      "cell_type": "raw",
      "metadata": {
        "raw_mimetype": "text/html"
      },
      "source": [
        "<!-- - $R^2=0$ for the constant mean model. -->"
      ],
      "id": "4a95b260-207a-43b6-bf27-9cc315db5b2d"
    },
    {
      "cell_type": "raw",
      "metadata": {
        "raw_mimetype": "text/html"
      },
      "source": [
        "<!-- - $R^2=1$ for a fitted model that perfectly fits the data (the fitted values match the observed response values). -->"
      ],
      "id": "0a070f90-617f-4133-8433-6128470c4b90"
    },
    {
      "cell_type": "raw",
      "metadata": {
        "raw_mimetype": "text/html"
      },
      "source": [
        "<!-- - Generally, larger values of $R^2$ suggest that the model explains a lot of the variation in the response variable. Smaller $R^2$ values suggest the fitted model does not explain a lot of the response variation. -->"
      ],
      "id": "3d488c61-9b0c-4f79-9b11-1b5b73a9d442"
    },
    {
      "cell_type": "raw",
      "metadata": {
        "raw_mimetype": "text/html"
      },
      "source": [
        "<!-- - The `Multiple R-squared` value printed by the `summary` of an `lm` object is $R^2$. -->"
      ],
      "id": "af04a8d4-e57d-42c0-b060-287b942335c3"
    },
    {
      "cell_type": "raw",
      "metadata": {
        "raw_mimetype": "text/html"
      },
      "source": [
        "<!-- - To extract $R^2$ from a fitted model, you can use the syntax `summary(lmod)$r.squared`, where `lmod` is your fitted model. -->"
      ],
      "id": "48c1ab91-2e4c-4d7d-b6bf-e914f21fcc96"
    },
    {
      "cell_type": "raw",
      "metadata": {
        "raw_mimetype": "text/html"
      },
      "source": [
        "<!-- --- -->"
      ],
      "id": "664f4ea4-1dad-48cd-8f0b-f1a342d6d1c4"
    },
    {
      "cell_type": "raw",
      "metadata": {
        "raw_mimetype": "text/html"
      },
      "source": [
        "<!-- Figure \\@ref(fig:rsquared-examples) provides examples of the $R^2$ value for various fitted simple linear regression models. The closer the points fall to a straight line, the larger $R^2$ tends to be. However, as shown in the bottom right panel of Figure \\@ref(fig:rsquared-examples), a poorly fit model can result in a lower $R^2$ model even if there is a clear relationship between the points (the points have a perfect quadratic relationship). -->"
      ],
      "id": "2d90df32-b979-48d1-b4d4-c2d2db845caa"
    },
    {
      "cell_type": "raw",
      "metadata": {
        "raw_mimetype": "text/html"
      },
      "source": [
        "<!-- ```{r rsquared-examples, fig.cap=\"The coefficient of determination values for 4 different data sets.\", echo = FALSE} -->"
      ],
      "id": "38d356c3-7953-4b9b-b4ab-ee2bd79dffd8"
    },
    {
      "cell_type": "raw",
      "metadata": {
        "raw_mimetype": "text/html"
      },
      "source": [
        "<!-- par(mfrow = c(2, 2)) -->"
      ],
      "id": "dd4f05f3-2659-4560-a96c-dd6f427eee12"
    },
    {
      "cell_type": "raw",
      "metadata": {
        "raw_mimetype": "text/html"
      },
      "source": [
        "<!-- set.seed(27) -->"
      ],
      "id": "549fd97f-2bb2-4d62-b0cd-01914575339c"
    },
    {
      "cell_type": "raw",
      "metadata": {
        "raw_mimetype": "text/html"
      },
      "source": [
        "<!-- x1 <- runif(25, 0, 10) -->"
      ],
      "id": "fb48680b-a41f-4f5e-97c4-385c270b172b"
    },
    {
      "cell_type": "raw",
      "metadata": {
        "raw_mimetype": "text/html"
      },
      "source": [
        "<!-- y1 <- 2 + 3 * x1 -->"
      ],
      "id": "b91b2f91-7813-4ea6-9a59-bde1dbb5fc2b"
    },
    {
      "cell_type": "raw",
      "metadata": {
        "raw_mimetype": "text/html"
      },
      "source": [
        "<!-- fit1 <- lm(y1 ~ x1) -->"
      ],
      "id": "a5178cdd-81e2-4150-8363-1ea80b03113a"
    },
    {
      "cell_type": "raw",
      "metadata": {
        "raw_mimetype": "text/html"
      },
      "source": [
        "<!-- plot(x1, 2 + 3 * x1, xlab = \"X\", ylab = \"Y\") -->"
      ],
      "id": "e23c3719-8e5a-4c0f-8a8d-d9e5697ecd57"
    },
    {
      "cell_type": "raw",
      "metadata": {
        "raw_mimetype": "text/html"
      },
      "source": [
        "<!-- abline(fit1) -->"
      ],
      "id": "ee541e4c-7577-4584-9e19-f8713cfa1df6"
    },
    {
      "cell_type": "raw",
      "metadata": {
        "raw_mimetype": "text/html"
      },
      "source": [
        "<!-- title(expression(R^2==1)) -->"
      ],
      "id": "84b5e43e-a831-4f4c-b367-ee12c505bcb3"
    },
    {
      "cell_type": "raw",
      "metadata": {
        "raw_mimetype": "text/html"
      },
      "source": [
        "<!-- x2 <- runif(25, 0, 10) -->"
      ],
      "id": "3e0a3395-5e05-4e40-980d-71c280e5106f"
    },
    {
      "cell_type": "raw",
      "metadata": {
        "raw_mimetype": "text/html"
      },
      "source": [
        "<!-- y2 <- rnorm(length(x2)) -->"
      ],
      "id": "5b2e1c44-446c-48c2-b3e3-bce47a062453"
    },
    {
      "cell_type": "raw",
      "metadata": {
        "raw_mimetype": "text/html"
      },
      "source": [
        "<!-- fit2 <- lm(y2 ~ x2) -->"
      ],
      "id": "bfe21e91-01b2-41ef-8161-c21e39b7a671"
    },
    {
      "cell_type": "raw",
      "metadata": {
        "raw_mimetype": "text/html"
      },
      "source": [
        "<!-- r2b <- round(summary(fit2)$r.squared, 2) -->"
      ],
      "id": "5ae960f4-a1ce-4195-b266-acf90aeed1fb"
    },
    {
      "cell_type": "raw",
      "metadata": {
        "raw_mimetype": "text/html"
      },
      "source": [
        "<!-- q2 <- bquote(R^2==.(format(r2b, digits = 2))) -->"
      ],
      "id": "1f8e0ade-b33b-480b-bbb6-2615af6568c0"
    },
    {
      "cell_type": "raw",
      "metadata": {
        "raw_mimetype": "text/html"
      },
      "source": [
        "<!-- plot(x2, y2, xlab = \"X\", ylab = \"Y\") -->"
      ],
      "id": "109068f5-d299-4715-9fdc-7ed8ba7b07f2"
    },
    {
      "cell_type": "raw",
      "metadata": {
        "raw_mimetype": "text/html"
      },
      "source": [
        "<!-- abline(fit2) -->"
      ],
      "id": "cacbc60b-efae-4bb9-ad56-cfa49eb741ef"
    },
    {
      "cell_type": "raw",
      "metadata": {
        "raw_mimetype": "text/html"
      },
      "source": [
        "<!-- title(q2) -->"
      ],
      "id": "3dd86ab3-270a-46a9-be15-00cddb4f28b8"
    },
    {
      "cell_type": "raw",
      "metadata": {
        "raw_mimetype": "text/html"
      },
      "source": [
        "<!-- x3 <- runif(25, 0, 10) -->"
      ],
      "id": "f2d3b8e9-96d2-425b-9f4b-6a94f5d69dac"
    },
    {
      "cell_type": "raw",
      "metadata": {
        "raw_mimetype": "text/html"
      },
      "source": [
        "<!-- y3 <- 3 - 2 * x3 + rnorm(length(x3), sd = 5) -->"
      ],
      "id": "7796342c-c775-40bd-8ed4-cf2a78c0a3cf"
    },
    {
      "cell_type": "raw",
      "metadata": {
        "raw_mimetype": "text/html"
      },
      "source": [
        "<!-- fit3 <- lm(y3 ~ x3) -->"
      ],
      "id": "d94871e8-96c4-40b8-88c8-3269018f84ed"
    },
    {
      "cell_type": "raw",
      "metadata": {
        "raw_mimetype": "text/html"
      },
      "source": [
        "<!-- r2c <- round(summary(fit3)$r.squared, 2) -->"
      ],
      "id": "869348ce-dbd1-4c2f-ba14-c72be3c12cbc"
    },
    {
      "cell_type": "raw",
      "metadata": {
        "raw_mimetype": "text/html"
      },
      "source": [
        "<!-- q3 <- bquote(R^2==.(format(r2c, digits = 2))) -->"
      ],
      "id": "56e50139-ec34-43b2-a99a-fc373d2f0a19"
    },
    {
      "cell_type": "raw",
      "metadata": {
        "raw_mimetype": "text/html"
      },
      "source": [
        "<!-- plot(x3, y3, xlab = \"X\", ylab = \"Y\") -->"
      ],
      "id": "72d33a81-8163-4156-9aa3-003252ddee4b"
    },
    {
      "cell_type": "raw",
      "metadata": {
        "raw_mimetype": "text/html"
      },
      "source": [
        "<!-- abline(fit3) -->"
      ],
      "id": "f1e6e786-719e-47c4-ad74-2be3c0fc2769"
    },
    {
      "cell_type": "raw",
      "metadata": {
        "raw_mimetype": "text/html"
      },
      "source": [
        "<!-- title(q3) -->"
      ],
      "id": "9c58b8ad-12aa-4d51-bdf1-92179e61e8cf"
    },
    {
      "cell_type": "raw",
      "metadata": {
        "raw_mimetype": "text/html"
      },
      "source": [
        "<!-- x4 <- runif(25, -10, 10) -->"
      ],
      "id": "4c4c5023-1604-44c5-a70c-bb1609ff115e"
    },
    {
      "cell_type": "raw",
      "metadata": {
        "raw_mimetype": "text/html"
      },
      "source": [
        "<!-- y4 <- 2 - 2 * x4 + 3 - x4^2 -->"
      ],
      "id": "db005f24-3f1f-4d42-b7fa-6cb351188e13"
    },
    {
      "cell_type": "raw",
      "metadata": {
        "raw_mimetype": "text/html"
      },
      "source": [
        "<!-- fit4 <- lm(y4 ~ x4) -->"
      ],
      "id": "0a878402-b485-4af0-8794-c4a49dde03b3"
    },
    {
      "cell_type": "raw",
      "metadata": {
        "raw_mimetype": "text/html"
      },
      "source": [
        "<!-- r2c <- round(summary(fit4)$r.squared, 2) -->"
      ],
      "id": "21413688-e9ca-4145-a431-774ace3d7ccd"
    },
    {
      "cell_type": "raw",
      "metadata": {
        "raw_mimetype": "text/html"
      },
      "source": [
        "<!-- q4 <- bquote(R^2==.(format(r2c, digits = 2))) -->"
      ],
      "id": "78c04b3b-443d-4020-969a-517a6d8748ee"
    },
    {
      "cell_type": "raw",
      "metadata": {
        "raw_mimetype": "text/html"
      },
      "source": [
        "<!-- plot(x4, y4, xlab = \"X\", ylab = \"Y\") -->"
      ],
      "id": "b2c46341-976e-4027-b601-468ee380016c"
    },
    {
      "cell_type": "raw",
      "metadata": {
        "raw_mimetype": "text/html"
      },
      "source": [
        "<!-- abline(fit4) -->"
      ],
      "id": "f2ba344b-cbf4-4828-8f9a-2cbf1c57717f"
    },
    {
      "cell_type": "raw",
      "metadata": {
        "raw_mimetype": "text/html"
      },
      "source": [
        "<!-- title(q4) -->"
      ],
      "id": "73c8ea2e-a524-45ee-9ea9-d5d2441aaf96"
    },
    {
      "cell_type": "raw",
      "metadata": {
        "raw_mimetype": "text/html"
      },
      "source": [
        "<!-- par(mfrow = c(1, 1)) -->"
      ],
      "id": "4bc072ec-1e22-4e60-b491-5fe1df846449"
    },
    {
      "cell_type": "raw",
      "metadata": {
        "raw_mimetype": "text/html"
      },
      "source": [
        "<!-- ``` -->"
      ],
      "id": "b6473d8c-bd27-48ef-a976-7b676bef9f4d"
    },
    {
      "cell_type": "raw",
      "metadata": {
        "raw_mimetype": "text/html"
      },
      "source": [
        "<!-- --- -->"
      ],
      "id": "6677d419-5166-468b-a164-0aa5a97ea7d3"
    },
    {
      "cell_type": "raw",
      "metadata": {
        "raw_mimetype": "text/html"
      },
      "source": [
        "<!-- The coefficient of determination for the parallel lines model fit to the `penguins` data in Section \\@ref(s:penguins-mlr2) is 0.81, as shown in the R output below. By adding the `body_mass_g` regressor and `species` predictor to the constant mean model of `bill_length_mm`, we reduced the RSS by 81%. -->"
      ],
      "id": "0df7ba74-8c8b-4bfe-bfbb-51ec14861510"
    },
    {
      "cell_type": "raw",
      "metadata": {
        "raw_mimetype": "text/html"
      },
      "source": [
        "<!-- ```{r} -->"
      ],
      "id": "314c0b36-adb1-46bf-8a65-2d90350faac2"
    },
    {
      "cell_type": "raw",
      "metadata": {
        "raw_mimetype": "text/html"
      },
      "source": [
        "<!-- summary(lmodp)$r.squared -->"
      ],
      "id": "8b773727-0937-4b6e-b83a-58c0f8e45ac0"
    },
    {
      "cell_type": "raw",
      "metadata": {
        "raw_mimetype": "text/html"
      },
      "source": [
        "<!-- ``` -->"
      ],
      "id": "a5f3d130-3bc7-4f90-ab12-fa8c29c51a16"
    },
    {
      "cell_type": "raw",
      "metadata": {
        "raw_mimetype": "text/html"
      },
      "source": [
        "<!-- It may seem sensible to choose between models based on the value of $R^2$. This is unwise for two reasons: -->"
      ],
      "id": "55a2ac27-b130-4ce3-a460-36d70fc89d4b"
    },
    {
      "cell_type": "raw",
      "metadata": {
        "raw_mimetype": "text/html"
      },
      "source": [
        "<!-- 1. $R^2$ never decreases as regressors are added to an existing model. Basically, you can increase $R^2$ by simply adding regressors to your existing model, even if they are non-sensical. -->"
      ],
      "id": "d35c7fda-7f65-4c49-aa96-5d109c39caf2"
    },
    {
      "cell_type": "raw",
      "metadata": {
        "raw_mimetype": "text/html"
      },
      "source": [
        "<!-- 2. $R^2$ doesn't tell you whether a model adequately describes the pattern of the observed data. $R^2$ is a useful statistic for measuring model fit when there is approximately a linear relationship between the response values and fitted values. -->"
      ],
      "id": "dd48404b-078a-430e-8625-120597210816"
    },
    {
      "cell_type": "raw",
      "metadata": {
        "raw_mimetype": "text/html"
      },
      "source": [
        "<!-- --- -->"
      ],
      "id": "fe1a7d24-b9c3-4619-a526-9c2cbc90bef8"
    },
    {
      "cell_type": "raw",
      "metadata": {
        "raw_mimetype": "text/html"
      },
      "source": [
        "<!-- Regarding point 1, consider what happens when we add a regressor of random values to the parallel lines model fit to the `penguins` data. The code below sets a random number seed so that we can get the same results each time we run the code, creates the regressor `noisyx` by sampling 344 values randomly drawn from a $\\mathsf{N}(0,1)$ distribution, adds `noisyx` as a regressor to the parallel lines regression model stored in `lmodp`, and then extracts the $R^2$ value. We use the `update` method to update our existing model. The `update` function takes an existing model as its first argument and then the `formula` for the updated model. The syntax `. ~ .` means \"keep the same response (on the left) and the same regressors (on the right)\". We can then add or subtract regressors using the typical `formula` syntax. We use this approach to add the `noisyx` regressor to the regressors already in `lmodp`. -->"
      ],
      "id": "983b3007-44dd-4171-a7c6-b776b8ecd922"
    },
    {
      "cell_type": "raw",
      "metadata": {
        "raw_mimetype": "text/html"
      },
      "source": [
        "<!-- ```{r} -->"
      ],
      "id": "0bdd4803-e605-49b0-a120-a50f42151bd3"
    },
    {
      "cell_type": "raw",
      "metadata": {
        "raw_mimetype": "text/html"
      },
      "source": [
        "<!-- set.seed(28) # for reproducibility -->"
      ],
      "id": "76a0487c-95fe-4ba9-99c6-abc0f8adb6ae"
    },
    {
      "cell_type": "raw",
      "metadata": {
        "raw_mimetype": "text/html"
      },
      "source": [
        "<!-- # create regressor of random noise -->"
      ],
      "id": "8cf8dc77-81bd-45f0-9bd7-dd7d497578a0"
    },
    {
      "cell_type": "raw",
      "metadata": {
        "raw_mimetype": "text/html"
      },
      "source": [
        "<!-- noisyx <- rnorm(344) -->"
      ],
      "id": "c5d654bd-f60c-4f6c-adfa-d232c182de9f"
    },
    {
      "cell_type": "raw",
      "metadata": {
        "raw_mimetype": "text/html"
      },
      "source": [
        "<!-- # add noisyx as regressor to lmodp -->"
      ],
      "id": "dbb19333-7657-4c0f-b39b-55ce5013507d"
    },
    {
      "cell_type": "raw",
      "metadata": {
        "raw_mimetype": "text/html"
      },
      "source": [
        "<!-- lmod_silly <- update(lmodp, . ~ . + noisyx) -->"
      ],
      "id": "730f2bf5-55ee-41e3-aed4-ffadf5665939"
    },
    {
      "cell_type": "raw",
      "metadata": {
        "raw_mimetype": "text/html"
      },
      "source": [
        "<!-- # extract R^2 from fitted model -->"
      ],
      "id": "30a0a2df-0eb7-4f20-b6f1-b05d68e157e2"
    },
    {
      "cell_type": "raw",
      "metadata": {
        "raw_mimetype": "text/html"
      },
      "source": [
        "<!-- summary(lmod_silly)$r.squared -->"
      ],
      "id": "34852e17-1f91-47d9-810a-bd7e88705830"
    },
    {
      "cell_type": "raw",
      "metadata": {
        "raw_mimetype": "text/html"
      },
      "source": [
        "<!-- ``` -->"
      ],
      "id": "3f05a676-7ab7-47c0-93fd-c4cb803d8bb0"
    },
    {
      "cell_type": "raw",
      "metadata": {
        "raw_mimetype": "text/html"
      },
      "source": [
        "<!-- The $R^2$ value increased from 0.8080 to 0.8088! So clearly, choosing the model with the largest $R^2$ can be a mistake, as it will tend to favor models with more regressors. -->"
      ],
      "id": "e8de862e-8c6e-430c-a7f7-6bb929f6f348"
    },
    {
      "cell_type": "raw",
      "metadata": {
        "raw_mimetype": "text/html"
      },
      "source": [
        "<!-- --- -->"
      ],
      "id": "353e6750-8bb0-4caa-95df-4f8da3faf581"
    },
    {
      "cell_type": "raw",
      "metadata": {
        "raw_mimetype": "text/html"
      },
      "source": [
        "<!-- Regarding point 2, $R^2$ can mislead you into thinking an inappropriate model fits better than it actually does. @anscombe1973graphs provided a canonical data set known as \"Anscombe's quartet\" that illustrates this point. The data set is comprised of 4 different data sets. When a simple linear regression model is fit to each data set, we find that $\\hat{\\beta}_0=3$, $\\hat{\\beta}_1=0.5$, and that $R^2=0.67$. However, as we will see, not all models describe the data particularly well! -->"
      ],
      "id": "8debcd25-63ce-4e60-aaa7-10f1bf187876"
    },
    {
      "cell_type": "raw",
      "metadata": {
        "raw_mimetype": "text/html"
      },
      "source": [
        "<!-- Anscombe's quartet is available as the `anscombe` data set in the **datasets** package. The data set includes `r nrow(anscombe)` observations of -->"
      ],
      "id": "54083508-dde8-446e-af93-700f13181f2b"
    },
    {
      "cell_type": "raw",
      "metadata": {
        "raw_mimetype": "text/html"
      },
      "source": [
        "<!-- `r ncol(anscombe)` variables. The variables are: -->"
      ],
      "id": "547f8e64-c98f-4b56-b6a2-d341b50a773b"
    },
    {
      "cell_type": "raw",
      "metadata": {
        "raw_mimetype": "text/html"
      },
      "source": [
        "<!-- -   `x1`, `x2`, `x3` `x4`: the regressor variable for each individual data set. -->"
      ],
      "id": "17957819-a284-41db-af5d-28c7f2e979e5"
    },
    {
      "cell_type": "raw",
      "metadata": {
        "raw_mimetype": "text/html"
      },
      "source": [
        "<!-- -   `y1`, `y2`, `y3` `y4`: the response variable for each individual data set. -->"
      ],
      "id": "87c0d1af-dbf9-4bf2-ba48-8f288ada553e"
    },
    {
      "cell_type": "raw",
      "metadata": {
        "raw_mimetype": "text/html"
      },
      "source": [
        "<!-- We fit the simple linear regression model to the four data sets in the code below, then extract the coefficients and $R^2$ to verify the information provided above. -->"
      ],
      "id": "05918d25-06b9-4c03-a180-9291bbf0ffd8"
    },
    {
      "cell_type": "raw",
      "metadata": {
        "raw_mimetype": "text/html"
      },
      "source": [
        "<!-- ```{r} -->"
      ],
      "id": "4f32d5e0-c365-44bd-aff4-6953aab57f9f"
    },
    {
      "cell_type": "raw",
      "metadata": {
        "raw_mimetype": "text/html"
      },
      "source": [
        "<!-- # fit model to first data set -->"
      ],
      "id": "4fdec0bb-cab1-44d2-91ad-e366b1c87c90"
    },
    {
      "cell_type": "raw",
      "metadata": {
        "raw_mimetype": "text/html"
      },
      "source": [
        "<!-- lmod_a1 <- lm(y1 ~ x1, data = anscombe) -->"
      ],
      "id": "1f7b9d18-6fe1-411c-8d95-5ada6c05e330"
    },
    {
      "cell_type": "raw",
      "metadata": {
        "raw_mimetype": "text/html"
      },
      "source": [
        "<!-- # extract coefficients from fitted model -->"
      ],
      "id": "a231051e-e770-4763-a28d-f1fa72ed7982"
    },
    {
      "cell_type": "raw",
      "metadata": {
        "raw_mimetype": "text/html"
      },
      "source": [
        "<!-- coef(lmod_a1) -->"
      ],
      "id": "be416009-a133-4d55-8d27-d6aba5dd598d"
    },
    {
      "cell_type": "raw",
      "metadata": {
        "raw_mimetype": "text/html"
      },
      "source": [
        "<!-- # extract R^2 from fitted model -->"
      ],
      "id": "4c6a8a63-639d-4a97-b3e0-afc5d6107eaf"
    },
    {
      "cell_type": "raw",
      "metadata": {
        "raw_mimetype": "text/html"
      },
      "source": [
        "<!-- summary(lmod_a1)$r.squared -->"
      ],
      "id": "4e511497-1a3c-4918-a3af-47b4a4ef97bd"
    },
    {
      "cell_type": "raw",
      "metadata": {
        "raw_mimetype": "text/html"
      },
      "source": [
        "<!-- # fit model to second data set -->"
      ],
      "id": "005fe6b3-761d-4c85-812c-a4ed29f3496e"
    },
    {
      "cell_type": "raw",
      "metadata": {
        "raw_mimetype": "text/html"
      },
      "source": [
        "<!-- lmod_a2 <- lm(y2 ~ x2, data = anscombe) -->"
      ],
      "id": "b72ce1de-30ec-4864-b248-8423a2f9126c"
    },
    {
      "cell_type": "raw",
      "metadata": {
        "raw_mimetype": "text/html"
      },
      "source": [
        "<!-- coef(lmod_a2) -->"
      ],
      "id": "9e4284e1-5ea6-4ca8-94e2-1cc5435f4b86"
    },
    {
      "cell_type": "raw",
      "metadata": {
        "raw_mimetype": "text/html"
      },
      "source": [
        "<!-- summary(lmod_a2)$r.squared -->"
      ],
      "id": "76ddcddf-e2a6-4fff-90eb-bf34a9afcd91"
    },
    {
      "cell_type": "raw",
      "metadata": {
        "raw_mimetype": "text/html"
      },
      "source": [
        "<!-- # fit model to third data set -->"
      ],
      "id": "7e694339-5a0e-443a-a504-c662f4bacc00"
    },
    {
      "cell_type": "raw",
      "metadata": {
        "raw_mimetype": "text/html"
      },
      "source": [
        "<!-- lmod_a3 <- lm(y3 ~ x3, data = anscombe) -->"
      ],
      "id": "02716117-fdcb-4ceb-91fb-e5b1e9dad317"
    },
    {
      "cell_type": "raw",
      "metadata": {
        "raw_mimetype": "text/html"
      },
      "source": [
        "<!-- coef(lmod_a3) -->"
      ],
      "id": "f34fd710-0ce9-43f8-8c76-a2c46985fff7"
    },
    {
      "cell_type": "raw",
      "metadata": {
        "raw_mimetype": "text/html"
      },
      "source": [
        "<!-- summary(lmod_a3)$r.squared -->"
      ],
      "id": "530edd22-2544-40ec-8587-776420a6a664"
    },
    {
      "cell_type": "raw",
      "metadata": {
        "raw_mimetype": "text/html"
      },
      "source": [
        "<!-- # fit model to fourth data set -->"
      ],
      "id": "0764f1ff-7d58-48f5-a7ac-be3badb997b1"
    },
    {
      "cell_type": "raw",
      "metadata": {
        "raw_mimetype": "text/html"
      },
      "source": [
        "<!-- lmod_a4 <- lm(y4 ~ x4, data = anscombe) -->"
      ],
      "id": "b1c51744-5f78-48bd-9bab-0cc8f45c799d"
    },
    {
      "cell_type": "raw",
      "metadata": {
        "raw_mimetype": "text/html"
      },
      "source": [
        "<!-- coef(lmod_a4) -->"
      ],
      "id": "6f144439-6849-4a07-8972-423aa99910d2"
    },
    {
      "cell_type": "raw",
      "metadata": {
        "raw_mimetype": "text/html"
      },
      "source": [
        "<!-- summary(lmod_a4)$r.squared -->"
      ],
      "id": "5a9a33e6-a3ac-4def-bbde-3623048f2d31"
    },
    {
      "cell_type": "raw",
      "metadata": {
        "raw_mimetype": "text/html"
      },
      "source": [
        "<!-- ``` -->"
      ],
      "id": "a4fd7956-2e63-4069-9342-f19b255344bf"
    },
    {
      "cell_type": "raw",
      "metadata": {
        "raw_mimetype": "text/html"
      },
      "source": [
        "<!-- Figure \\@ref(fig:anscombe-plots) provides a scatter plot each data set and overlays their fitted models. -->"
      ],
      "id": "a415d579-2999-4582-9aa9-331a8018e698"
    },
    {
      "cell_type": "raw",
      "metadata": {
        "raw_mimetype": "text/html"
      },
      "source": [
        "<!-- ```{r anscombe-plots, fig.cap=\"Scatter plots of the four Anscombe data sets along with their line of best fit.\", fig.asp = .5, echo = FALSE, message = FALSE} -->"
      ],
      "id": "83fe172f-5bf7-4701-ad02-1853e8b55c4b"
    },
    {
      "cell_type": "raw",
      "metadata": {
        "raw_mimetype": "text/html"
      },
      "source": [
        "<!-- # par(mfrow = c(1, 4)) -->"
      ],
      "id": "b23d6416-ad23-4f33-8b80-d22feabdd9ae"
    },
    {
      "cell_type": "raw",
      "metadata": {
        "raw_mimetype": "text/html"
      },
      "source": [
        "<!-- # plot(y1 ~ x1, data = anscombe) -->"
      ],
      "id": "44c417a0-c94c-4f6a-bf37-9c9211fb3c5f"
    },
    {
      "cell_type": "raw",
      "metadata": {
        "raw_mimetype": "text/html"
      },
      "source": [
        "<!-- # title(\"data set 1\") -->"
      ],
      "id": "577ffc12-9854-4d0e-a8c2-c24ee6660aba"
    },
    {
      "cell_type": "raw",
      "metadata": {
        "raw_mimetype": "text/html"
      },
      "source": [
        "<!-- # abline(lmod_a1) -->"
      ],
      "id": "ad4f6a0e-e600-44d6-abd9-f15368c16bef"
    },
    {
      "cell_type": "raw",
      "metadata": {
        "raw_mimetype": "text/html"
      },
      "source": [
        "<!-- # plot(y2 ~ x2, data = anscombe) -->"
      ],
      "id": "e5c8381d-e8dc-4580-aa11-f261cd525754"
    },
    {
      "cell_type": "raw",
      "metadata": {
        "raw_mimetype": "text/html"
      },
      "source": [
        "<!-- # title(\"data set 2\") -->"
      ],
      "id": "d043276e-99b1-4d2f-bc32-f56ad6d74014"
    },
    {
      "cell_type": "raw",
      "metadata": {
        "raw_mimetype": "text/html"
      },
      "source": [
        "<!-- # abline(lmod_a2) -->"
      ],
      "id": "b457d4d4-7265-48d0-bc83-b040e055e032"
    },
    {
      "cell_type": "raw",
      "metadata": {
        "raw_mimetype": "text/html"
      },
      "source": [
        "<!-- # plot(y3 ~ x3, data = anscombe) -->"
      ],
      "id": "d2484c0e-8a70-4862-8a4b-0c82b80782ff"
    },
    {
      "cell_type": "raw",
      "metadata": {
        "raw_mimetype": "text/html"
      },
      "source": [
        "<!-- # title(\"data set 3\") -->"
      ],
      "id": "ebee9d38-2c20-42ce-95b5-50a648ae139e"
    },
    {
      "cell_type": "raw",
      "metadata": {
        "raw_mimetype": "text/html"
      },
      "source": [
        "<!-- # abline(lmod_a3) -->"
      ],
      "id": "2ac11049-0058-498e-9ae6-7675c9b212c9"
    },
    {
      "cell_type": "raw",
      "metadata": {
        "raw_mimetype": "text/html"
      },
      "source": [
        "<!-- # plot(y4 ~ x4, data = anscombe) -->"
      ],
      "id": "5ee51737-5b8f-4c0d-bb9a-a44e042af250"
    },
    {
      "cell_type": "raw",
      "metadata": {
        "raw_mimetype": "text/html"
      },
      "source": [
        "<!-- # title(\"data set 4\") -->"
      ],
      "id": "ac454e62-2a9f-42a5-8b10-9d8a9ad8ed47"
    },
    {
      "cell_type": "raw",
      "metadata": {
        "raw_mimetype": "text/html"
      },
      "source": [
        "<!-- # abline(lmod_a4) -->"
      ],
      "id": "0c580adc-11de-4077-8da6-281be5951e64"
    },
    {
      "cell_type": "raw",
      "metadata": {
        "raw_mimetype": "text/html"
      },
      "source": [
        "<!-- # par(mfrow = c(1, 1)) -->"
      ],
      "id": "1f760123-8f1b-4b66-9242-59210e0249fa"
    },
    {
      "cell_type": "raw",
      "metadata": {
        "raw_mimetype": "text/html"
      },
      "source": [
        "<!-- adf = data.frame(x = unlist(anscombe[,1:4]), -->"
      ],
      "id": "91451a6b-c790-4b93-8e79-9cc695c8396a"
    },
    {
      "cell_type": "raw",
      "metadata": {
        "raw_mimetype": "text/html"
      },
      "source": [
        "<!--                  y = unlist(anscombe[,5:8]), -->"
      ],
      "id": "0069b894-2df3-4695-a909-46a22e03689e"
    },
    {
      "cell_type": "raw",
      "metadata": {
        "raw_mimetype": "text/html"
      },
      "source": [
        "<!--                  set = factor(rep(1:4, each = 11))) -->"
      ],
      "id": "c6b93363-9c89-412e-8042-2b0a471e2219"
    },
    {
      "cell_type": "raw",
      "metadata": {
        "raw_mimetype": "text/html"
      },
      "source": [
        "<!-- ggplot(adf, aes(x = x, y = y, group = set, col = set)) + -->"
      ],
      "id": "e0a98e33-d984-421f-a93b-a21cac04cce3"
    },
    {
      "cell_type": "raw",
      "metadata": {
        "raw_mimetype": "text/html"
      },
      "source": [
        "<!--   geom_point(col = \"black\") + -->"
      ],
      "id": "d90434e3-9619-4f24-b91a-5ce7cebbfba4"
    },
    {
      "cell_type": "raw",
      "metadata": {
        "raw_mimetype": "text/html"
      },
      "source": [
        "<!--   geom_smooth(aes(group = set), method = \"lm\", se = FALSE) + -->"
      ],
      "id": "e97770ee-2df2-4ab0-8fff-5acc89dcb7aa"
    },
    {
      "cell_type": "raw",
      "metadata": {
        "raw_mimetype": "text/html"
      },
      "source": [
        "<!--   facet_grid(. ~ set) + -->"
      ],
      "id": "a651be50-71f7-41dd-b0e5-5afe3ba69983"
    },
    {
      "cell_type": "raw",
      "metadata": {
        "raw_mimetype": "text/html"
      },
      "source": [
        "<!--   theme_bw() -->"
      ],
      "id": "ee274a0d-fef3-4653-890b-3c9c95d282a5"
    },
    {
      "cell_type": "raw",
      "metadata": {
        "raw_mimetype": "text/html"
      },
      "source": [
        "<!-- ``` -->"
      ],
      "id": "43cb93fe-b063-4935-86bd-9b94a76250bd"
    },
    {
      "cell_type": "raw",
      "metadata": {
        "raw_mimetype": "text/html"
      },
      "source": [
        "<!-- While the fitted model and $R^2$ value is essentially the same for each model, the fitted model is only appropriate for data set 1. The fitted model for the second data set fails to model the curve of the data. The third fitted model doesn't handle the outlier in the data. Lastly, the fourth data set has a single point on the far right side driving the model fit, so the fitted model is highly questionable. -->"
      ],
      "id": "88273bdb-773c-432c-a9ce-4adde2f6499b"
    },
    {
      "cell_type": "raw",
      "metadata": {
        "raw_mimetype": "text/html"
      },
      "source": [
        "<!-- To address the problem with $R^2$ that it cannot decrease as regressors are added to a model, @ezekiel1930methods proposed the adjusted R-squared statistic for measuring model fit. The adjusted $R^2$ statistic is defined as -->"
      ],
      "id": "3e616f32-48c4-4e6c-b370-446826caf132"
    },
    {
      "cell_type": "raw",
      "metadata": {
        "raw_mimetype": "text/html"
      },
      "source": [
        "<!-- \\[ -->"
      ],
      "id": "cfbd29fb-4614-410b-8ccf-e39c908b408a"
    },
    {
      "cell_type": "raw",
      "metadata": {
        "raw_mimetype": "text/html"
      },
      "source": [
        "<!-- R^2_a=1-(1-R^2)\\frac{n-1}{n-p}=1-\\frac{RSS/(n-p)}{TSS/(n-1)}. -->"
      ],
      "id": "8688ca4e-e89a-4b50-b19f-97123166465b"
    },
    {
      "cell_type": "raw",
      "metadata": {
        "raw_mimetype": "text/html"
      },
      "source": [
        "<!-- \\] -->"
      ],
      "id": "c5141c8b-6698-4756-973f-5c866b97ed98"
    },
    {
      "cell_type": "raw",
      "metadata": {
        "raw_mimetype": "text/html"
      },
      "source": [
        "<!-- Practically speaking, $R^2_a$ will only increase when a regressors substantively improves the fit of the model to the observed data. We favor models with larger values of $R^2_a$. To extract the adjusted R-squared from a fitted model, we can use the syntax `summary(lmod)$adj.R.squared`, where `lmod` is the fitted model. -->"
      ],
      "id": "e1cf6045-1c69-44d3-9128-ea53781c2db7"
    },
    {
      "cell_type": "raw",
      "metadata": {
        "raw_mimetype": "text/html"
      },
      "source": [
        "<!-- Using the code below, we extract the $R^2_a$ for the 4 models we previously fit to the `penguins` data. Specifically, we extract $R_a^2$ for the simple linear regression model fit in Section \\@ref(s:penguins-slr), the multiple linear regression model in Section \\@ref(s:penguins-mlr), and the parallel and separate lines models fit in Section \\@ref(s:penguins-mlr2). -->"
      ],
      "id": "7a4f57b9-c272-4a59-aa3f-5f0c17dc8955"
    },
    {
      "cell_type": "raw",
      "metadata": {
        "raw_mimetype": "text/html"
      },
      "source": [
        "<!-- ```{r} -->"
      ],
      "id": "939b49e4-a665-498a-88bd-074b5509da1a"
    },
    {
      "cell_type": "raw",
      "metadata": {
        "raw_mimetype": "text/html"
      },
      "source": [
        "<!-- # simple linear regression model -->"
      ],
      "id": "253879d7-ae55-4ca0-b195-719b67c4183d"
    },
    {
      "cell_type": "raw",
      "metadata": {
        "raw_mimetype": "text/html"
      },
      "source": [
        "<!-- summary(lmod)$adj.r.squared -->"
      ],
      "id": "574c9852-a5ea-451f-b8df-990056da8b21"
    },
    {
      "cell_type": "raw",
      "metadata": {
        "raw_mimetype": "text/html"
      },
      "source": [
        "<!-- # multiple linear regression model -->"
      ],
      "id": "ac17ccfe-a445-4036-9547-be31db725ad6"
    },
    {
      "cell_type": "raw",
      "metadata": {
        "raw_mimetype": "text/html"
      },
      "source": [
        "<!-- summary(mlmod)$adj.r.squared -->"
      ],
      "id": "85601d71-3342-47f7-a832-48f22bf08ac4"
    },
    {
      "cell_type": "raw",
      "metadata": {
        "raw_mimetype": "text/html"
      },
      "source": [
        "<!-- # parallel lines model -->"
      ],
      "id": "be0d4b19-f185-47d9-a429-ec405bb85bfd"
    },
    {
      "cell_type": "raw",
      "metadata": {
        "raw_mimetype": "text/html"
      },
      "source": [
        "<!-- summary(lmodp)$adj.r.squared -->"
      ],
      "id": "0a9e847d-fe0a-4d6b-9328-f079b8c813ab"
    },
    {
      "cell_type": "raw",
      "metadata": {
        "raw_mimetype": "text/html"
      },
      "source": [
        "<!-- # separate lines model -->"
      ],
      "id": "21c109ec-2805-4821-a976-e76c9173df22"
    },
    {
      "cell_type": "raw",
      "metadata": {
        "raw_mimetype": "text/html"
      },
      "source": [
        "<!-- summary(lmods)$adj.r.squared -->"
      ],
      "id": "26286f1a-2304-42ad-ad14-88103ee4b920"
    },
    {
      "cell_type": "raw",
      "metadata": {
        "raw_mimetype": "text/html"
      },
      "source": [
        "<!-- ``` -->"
      ],
      "id": "27c584eb-944a-48a3-81ee-970064fefe44"
    },
    {
      "cell_type": "raw",
      "metadata": {
        "raw_mimetype": "text/html"
      },
      "source": [
        "<!-- With an $R_a^2$ of 0.8070, the separate lines regression model appears to be slightly favored over the other 3 models fit to the `penguins` data. To confirm that this statistic is meaningful (i.e., that the model provides a reasonable fit to the data), we use the code below to create a scatter plot of the response versus fitted values shown in Figure \\@ref(fig:y-vs-yhat-penguins). The points in Figure \\@ref(fig:y-vs-yhat-penguins) follow a linear pattern, so the separate lines model seems to be a reasonable model for the `penguins` data. -->"
      ],
      "id": "a5029f73-33d3-464a-a722-b3de4a1c403d"
    },
    {
      "cell_type": "raw",
      "metadata": {
        "raw_mimetype": "text/html"
      },
      "source": [
        "<!-- ```{r y-vs-yhat-penguins, fig.cap=\"A scatter plot of the observed bill length versus the fitted values of the separate lines model for the `penguins` data.\"} -->"
      ],
      "id": "589bfe6f-1362-4244-818e-5ff5e682cd6f"
    },
    {
      "cell_type": "raw",
      "metadata": {
        "raw_mimetype": "text/html"
      },
      "source": [
        "<!-- plot(penguins$bill_length_mm ~ fitted(lmods), -->"
      ],
      "id": "2def0dd5-461e-4c43-a4e7-ab12e0a3b537"
    },
    {
      "cell_type": "raw",
      "metadata": {
        "raw_mimetype": "text/html"
      },
      "source": [
        "<!--      xlab = \"fitted values\", ylab = \"bill length (mm)\") -->"
      ],
      "id": "e23217c5-0f3c-4fb9-8dbd-01fb6af701dc"
    },
    {
      "cell_type": "raw",
      "metadata": {
        "raw_mimetype": "text/html"
      },
      "source": [
        "<!-- ``` -->"
      ],
      "id": "3cef6cae-d382-4081-97b4-340943038f34"
    },
    {
      "cell_type": "raw",
      "metadata": {
        "raw_mimetype": "text/html"
      },
      "source": [
        "<!-- # Summary -->"
      ],
      "id": "327bda10-833b-412f-b32d-8fe535d3288c"
    },
    {
      "cell_type": "raw",
      "metadata": {
        "raw_mimetype": "text/html"
      },
      "source": [
        "<!-- In this chapter, we learned: -->"
      ],
      "id": "44c68ce7-5dd4-4ab2-bed8-cb785b48733c"
    },
    {
      "cell_type": "raw",
      "metadata": {
        "raw_mimetype": "text/html"
      },
      "source": [
        "<!-- - What a linear model is. -->"
      ],
      "id": "1e4e490c-9296-489a-a647-5c5f35d08a8e"
    },
    {
      "cell_type": "raw",
      "metadata": {
        "raw_mimetype": "text/html"
      },
      "source": [
        "<!-- - What various objects are, such as coefficients, residuals, fitted values, etc. -->"
      ],
      "id": "098430ba-0de3-4067-aab2-8546eb2f8a9a"
    },
    {
      "cell_type": "raw",
      "metadata": {
        "raw_mimetype": "text/html"
      },
      "source": [
        "<!-- - How to estimate the coefficients of a linear model using ordinary least squares estimation. -->"
      ],
      "id": "4548e54d-fba4-465d-a878-724c962f84bd"
    },
    {
      "cell_type": "raw",
      "metadata": {
        "raw_mimetype": "text/html"
      },
      "source": [
        "<!-- - How to fit a linear model using R. -->"
      ],
      "id": "6a5ccfe9-1f72-417b-8763-e0705f3d9296"
    },
    {
      "cell_type": "raw",
      "metadata": {
        "raw_mimetype": "text/html"
      },
      "source": [
        "<!-- - How to include a categorical predictor in a linear model. -->"
      ],
      "id": "fe18f98d-5710-4c6f-9039-11d33df814fd"
    },
    {
      "cell_type": "raw",
      "metadata": {
        "raw_mimetype": "text/html"
      },
      "source": [
        "<!-- - How to evaluate the fit of a model. -->"
      ],
      "id": "687b6fbe-1118-4109-98bb-e10377f0fe6f"
    },
    {
      "cell_type": "raw",
      "metadata": {
        "raw_mimetype": "text/html"
      },
      "source": [
        "<!-- ## Summary of terms -->"
      ],
      "id": "0c3fb141-88b1-4e76-b199-2f96a19d8c8c"
    },
    {
      "cell_type": "raw",
      "metadata": {
        "raw_mimetype": "text/html"
      },
      "source": [
        "<!-- We have introduced many terms to define a linear model. It can be difficult to keep track of their notation, their purpose, whether they are observable, and whether they are treated as random variables or vectors. We discuss various terms below, and then summarize the discussion in Table \\@ref(tab:term-df). -->"
      ],
      "id": "15b09c1e-84d3-4018-b572-69e278bc9010"
    },
    {
      "cell_type": "raw",
      "metadata": {
        "raw_mimetype": "text/html"
      },
      "source": [
        "<!-- We've already talked about observing the response variable and the predictor/regressor variables. So these objects are observable. However, we have no way to measure the regression coefficients or the error. These are not observable. One way to distinguish observable versus non-observable variables is that observable variables are denoted using Phoenician letters (e.g., $X$ and $Y$) while non-observable variables are denoted using Greek letters (e.g., $\\beta_j$, $\\epsilon$, $\\sigma^2$). -->"
      ],
      "id": "8777ba73-e513-4956-af54-72c9ef872592"
    },
    {
      "cell_type": "raw",
      "metadata": {
        "raw_mimetype": "text/html"
      },
      "source": [
        "<!-- We treat the response variable as a random variable. Perhaps surprisingly, we treat the predictor and regressor variables as fixed, non-random variables. The regression coefficients are treated as fixed, non-random but unknown values. This is standard for parameters in a statistical model. The errors are also treated as random variables. In fact, since both the regressor variables and the regression coefficients are non-random, the only way for the responses in Equation \\@ref(eq:lmSystem) to be random variables is for the errors to be random. -->"
      ],
      "id": "e2ff7e19-0fba-4cc0-a1d6-a688393f25bd"
    },
    {
      "cell_type": "raw",
      "metadata": {
        "raw_mimetype": "text/html"
      },
      "source": [
        "<!-- ```{r term-df, echo = FALSE} -->"
      ],
      "id": "ba99e719-c229-4167-804b-714f97c43edb"
    },
    {
      "cell_type": "raw",
      "metadata": {
        "raw_mimetype": "text/html"
      },
      "source": [
        "<!-- term <- c(\"$Y$\", \"$Y_i$\", \"$\\\\mathbf{y}$\", \"$X$\", -->"
      ],
      "id": "23a54257-5b3d-4de0-a5e1-8924fa2286ec"
    },
    {
      "cell_type": "raw",
      "metadata": {
        "raw_mimetype": "text/html"
      },
      "source": [
        "<!--              \"$X_j$\", \"$x_{i,j}$\", \"$\\\\mathbf{X}$\", \"$\\\\mathbf{x}_i$\", \"$\\\\beta_j$\", \"$\\\\boldsymbol{\\\\beta}$\", \"$\\\\epsilon$\", \"$\\\\epsilon_i$\") -->"
      ],
      "id": "8dc1ba0e-0a8b-49e1-8ac4-0a43ee44edcf"
    },
    {
      "cell_type": "raw",
      "metadata": {
        "raw_mimetype": "text/html"
      },
      "source": [
        "<!-- description <- c(\"response variable\", \"response value for the $i$th observation\", \"the $n\\\\times 1$ column vector of response values\", \"regressor variable\", \"the $j$th regressor variable\", \"the value of the $j$th regressor variable for the $i$th observation\", \"the $n\\\\times p$ matrix of regressor values\", \"the $p\\\\times 1$ vector of regressor values for the $i$th observation\", \"the coefficient associated with the $j$th regressor variable\", \"the $p\\\\times 1$ column vector of regression coefficients\", \"the model error\", \"the error for the $i$th observation\") -->"
      ],
      "id": "06380b7b-f4b0-4d64-a36a-d9c8dfb65a50"
    },
    {
      "cell_type": "raw",
      "metadata": {
        "raw_mimetype": "text/html"
      },
      "source": [
        "<!-- observable <- c(\"Yes\", \"Yes\", \"Yes\", \"Yes\", \"Yes\", \"Yes\", \"Yes\", \"Yes\", \"No\", \"No\", \"No\", \"No\") -->"
      ],
      "id": "d985e419-71e6-4bc8-bed1-4195810229f5"
    },
    {
      "cell_type": "raw",
      "metadata": {
        "raw_mimetype": "text/html"
      },
      "source": [
        "<!-- random <- c(\"Yes\", \"Yes\", \"Yes\", \"No\", \"No\", \"No\", \"No\", \"No\", \"No\", \"No\", \"Yes\", \"Yes\") -->"
      ],
      "id": "70898c74-d13b-450b-b013-aeaaa7c3e562"
    },
    {
      "cell_type": "raw",
      "metadata": {
        "raw_mimetype": "text/html"
      },
      "source": [
        "<!-- term_df <- data.frame(term, description, observable, random) -->"
      ],
      "id": "4deaa4e6-2dd2-4a14-9eea-4e2371644f7d"
    },
    {
      "cell_type": "raw",
      "metadata": {
        "raw_mimetype": "text/html"
      },
      "source": [
        "<!-- kbl(term_df, -->"
      ],
      "id": "6053514a-78f2-4b96-a1d8-d8b4890dcd89"
    },
    {
      "cell_type": "raw",
      "metadata": {
        "raw_mimetype": "text/html"
      },
      "source": [
        "<!--     col.names = c(\"Term\", \"Description\", \"Observable?\", \"Random?\"), -->"
      ],
      "id": "b9f4f8c7-91fd-4d70-af96-47b59ca7e434"
    },
    {
      "cell_type": "raw",
      "metadata": {
        "raw_mimetype": "text/html"
      },
      "source": [
        "<!--     caption = \"An overview of terms used to define a linear model.\", -->"
      ],
      "id": "f7323c4b-f0c9-4324-b2b0-07f34f3a4327"
    },
    {
      "cell_type": "raw",
      "metadata": {
        "raw_mimetype": "text/html"
      },
      "source": [
        "<!--     booktabs = TRUE, -->"
      ],
      "id": "ebeb2890-805e-49ce-bd94-4e85b55fba4f"
    },
    {
      "cell_type": "raw",
      "metadata": {
        "raw_mimetype": "text/html"
      },
      "source": [
        "<!--     escape = FALSE) |> -->"
      ],
      "id": "c5f2d399-e8c7-4e19-b3e0-ab82ed8ee797"
    },
    {
      "cell_type": "raw",
      "metadata": {
        "raw_mimetype": "text/html"
      },
      "source": [
        "<!--   column_spec(2, width = \"2in\") |> -->"
      ],
      "id": "59352b87-c958-4e46-aa0d-ed566dc372ee"
    },
    {
      "cell_type": "raw",
      "metadata": {
        "raw_mimetype": "text/html"
      },
      "source": [
        "<!--   kable_styling(full_width = FALSE) -->"
      ],
      "id": "4e857b51-9e54-4f89-87bd-69c4cd48ba77"
    },
    {
      "cell_type": "raw",
      "metadata": {
        "raw_mimetype": "text/html"
      },
      "source": [
        "<!-- ``` -->"
      ],
      "id": "6f8f65c3-1f3f-4c16-ad42-77c19f96e2ca"
    },
    {
      "cell_type": "raw",
      "metadata": {
        "raw_mimetype": "text/html"
      },
      "source": [
        "<!-- ## Summary of functions -->"
      ],
      "id": "74c84c8b-25b7-4c4c-8280-c670b8009384"
    },
    {
      "cell_type": "raw",
      "metadata": {
        "raw_mimetype": "text/html"
      },
      "source": [
        "<!-- We have used many functions in this Chapter. We summarize some of the most important ones in Table \\@ref(tab:function-df). -->"
      ],
      "id": "f2a38b32-f69c-425e-82d4-65c87ec0b37e"
    },
    {
      "cell_type": "raw",
      "metadata": {
        "raw_mimetype": "text/html"
      },
      "source": [
        "<!-- ```{r function-df, echo = FALSE} -->"
      ],
      "id": "03cf442a-df21-46fa-ae8c-502b04e86e09"
    },
    {
      "cell_type": "raw",
      "metadata": {
        "raw_mimetype": "text/html"
      },
      "source": [
        "<!-- func <- c(\"`lm`\", \"`summary`\", \"`coef`\", \"`residuals`\", \"`fitted`\", \"`predict`\", \"`deviance`\", \"`sigma`\", \"`update`\") -->"
      ],
      "id": "e8cd5028-b13e-4fc6-ae3b-a1beb9e2aefe"
    },
    {
      "cell_type": "raw",
      "metadata": {
        "raw_mimetype": "text/html"
      },
      "source": [
        "<!-- purpose <- c(\"Fits a linear model based on a provided `formula`\", \"Provides summary information about the fitted model\", \"Extracts the vector of estimated regression coefficients from the fitted model\", \"Extracts the vector of residuals from the fitted model\", \"Extracts the vector of fitted values from the fitted model\", -->"
      ],
      "id": "a55ded7b-ab06-413e-9074-51da31ec205e"
    },
    {
      "cell_type": "raw",
      "metadata": {
        "raw_mimetype": "text/html"
      },
      "source": [
        "<!--              \"Computes the fitted values (or arbitrary predictions) based on a fitted model\", \"Extracts the RSS of a fitted model\", \"Extracts $\\\\hat{\\\\sigma}$ from the fitted model\", \"Updates a fitted model to remove or add regressors\") -->"
      ],
      "id": "441b025f-cf85-4b35-b458-2acb37333741"
    },
    {
      "cell_type": "raw",
      "metadata": {
        "raw_mimetype": "text/html"
      },
      "source": [
        "<!-- kbl(data.frame(func, purpose), -->"
      ],
      "id": "414105cf-2aa5-427f-9540-bc48f1d29bc0"
    },
    {
      "cell_type": "raw",
      "metadata": {
        "raw_mimetype": "text/html"
      },
      "source": [
        "<!--     col.names = c(\"Function\", \"Purpose\"), -->"
      ],
      "id": "f930a724-2cba-4e81-931f-74914ef923fd"
    },
    {
      "cell_type": "raw",
      "metadata": {
        "raw_mimetype": "text/html"
      },
      "source": [
        "<!--     caption = \"An overview of important functions discussed in this chapter.\", -->"
      ],
      "id": "a7c68c31-456f-4d78-9148-e4d66be81bbb"
    },
    {
      "cell_type": "raw",
      "metadata": {
        "raw_mimetype": "text/html"
      },
      "source": [
        "<!--     booktabs = TRUE, -->"
      ],
      "id": "50032689-e978-4b69-a60d-d591b279c187"
    },
    {
      "cell_type": "raw",
      "metadata": {
        "raw_mimetype": "text/html"
      },
      "source": [
        "<!--     escape = FALSE) |> -->"
      ],
      "id": "2fc4d87c-880e-4916-82b6-3e3171643213"
    },
    {
      "cell_type": "raw",
      "metadata": {
        "raw_mimetype": "text/html"
      },
      "source": [
        "<!--   column_spec(column = 2, width = \"3in\")  |> -->"
      ],
      "id": "86900e56-10f8-4cd1-8723-39bbc986495d"
    },
    {
      "cell_type": "raw",
      "metadata": {
        "raw_mimetype": "text/html"
      },
      "source": [
        "<!--   kable_styling(full_width = FALSE) -->"
      ],
      "id": "e3e73ba9-abc2-431e-8d73-178be3c61dc6"
    },
    {
      "cell_type": "raw",
      "metadata": {
        "raw_mimetype": "text/html"
      },
      "source": [
        "<!-- ``` -->"
      ],
      "id": "177d55e5-22c0-4c81-8ce6-2c7e5756f519"
    },
    {
      "cell_type": "raw",
      "metadata": {
        "raw_mimetype": "text/html"
      },
      "source": [
        "<!-- # Going Deeper -->"
      ],
      "id": "4f0af8c1-4c94-4f39-bc2a-6d3df2b6de6d"
    },
    {
      "cell_type": "raw",
      "metadata": {
        "raw_mimetype": "text/html"
      },
      "source": [
        "<!-- ## Degrees of freedom -->"
      ],
      "id": "5245b118-0b05-4a53-baf0-c266592b0821"
    },
    {
      "cell_type": "raw",
      "metadata": {
        "raw_mimetype": "text/html"
      },
      "source": [
        "<!-- The degrees of freedom of a statistics refers to the number of independent pieces of information that go into its calculation. -->"
      ],
      "id": "6e04990b-a701-4446-aacf-fc1a8bd5627b"
    },
    {
      "cell_type": "raw",
      "metadata": {
        "raw_mimetype": "text/html"
      },
      "source": [
        "<!-- Consider the sample mean -->"
      ],
      "id": "eba2cc1b-c068-4930-b50b-d8b520d8d84d"
    },
    {
      "cell_type": "raw",
      "metadata": {
        "raw_mimetype": "text/html"
      },
      "source": [
        "<!-- \\[\\bar{x}=\\sum_{i=1}^n x_i.\\] -->"
      ],
      "id": "d381593d-b36b-4400-8ec6-1076b81388c4"
    },
    {
      "cell_type": "raw",
      "metadata": {
        "raw_mimetype": "text/html"
      },
      "source": [
        "<!-- The calculation uses $n$ pieces of information to compute, but the statistic only has $n-1$ degrees of freedom. Once you know the sample mean, only $n-1$ values are  independent, while the last is constrained to be a certain value. -->"
      ],
      "id": "2a191182-f1ef-463d-b36e-9cc97da317fb"
    },
    {
      "cell_type": "raw",
      "metadata": {
        "raw_mimetype": "text/html"
      },
      "source": [
        "<!-- Let's say $n=3$ and $\\bar{x} = 10$. Then $x_1$ and $x_2$ can be any numbers, but the last value MUST equal $30 - x_1 - x_2$ so that $x_1 + x_2 + x_3 = 30$ (otherwise the sample mean won't equal 10). To be more specific, if $x_1 = 5$ and $x_2 = 25$, then $x_3$ must be 0, otherwise the sample mean won't be 10. -->"
      ],
      "id": "61877c0f-bd57-413e-aa09-e432b7d37719"
    },
    {
      "cell_type": "raw",
      "metadata": {
        "raw_mimetype": "text/html"
      },
      "source": [
        "<!-- ## Derivation of the OLS estimators of the simple linear regression model coefficients {#slr-derivation} -->"
      ],
      "id": "1480b254-fdf4-46ea-aecc-f8de0834f585"
    },
    {
      "cell_type": "raw",
      "metadata": {
        "raw_mimetype": "text/html"
      },
      "source": [
        "<!-- Assume a simple linear regression model with $n$ observations. The residual sum of squares for the simple linear  regression model is -->"
      ],
      "id": "ffc0356d-dbbe-4c32-a5e6-7164fde14169"
    },
    {
      "cell_type": "raw",
      "metadata": {
        "raw_mimetype": "text/html"
      },
      "source": [
        "<!-- \\[ -->"
      ],
      "id": "3755ef2b-1156-4c83-b449-459fed53b251"
    },
    {
      "cell_type": "raw",
      "metadata": {
        "raw_mimetype": "text/html"
      },
      "source": [
        "<!-- RSS(\\hat\\beta_0, \\hat\\beta_1) = \\sum_{i=1}^n(Y_i - \\hat\\beta_0 - \\hat\\beta_1x_i)^2. -->"
      ],
      "id": "c61cc088-fbc0-4638-a5f8-63ef7f9bd939"
    },
    {
      "cell_type": "raw",
      "metadata": {
        "raw_mimetype": "text/html"
      },
      "source": [
        "<!-- \\] -->"
      ],
      "id": "e7c26962-fb50-42a5-9efe-b399810a3843"
    },
    {
      "cell_type": "raw",
      "metadata": {
        "raw_mimetype": "text/html"
      },
      "source": [
        "<!-- **OLS estimator of $\\beta_0$** -->"
      ],
      "id": "79efe921-673b-4296-b782-3be70e0f902a"
    },
    {
      "cell_type": "raw",
      "metadata": {
        "raw_mimetype": "text/html"
      },
      "source": [
        "<!-- First, we take the partial derivative of the RSS with respect to $\\hat\\beta_0$ and simplify: -->"
      ],
      "id": "1c35ba4c-f7e2-4f72-97d1-94723f17533a"
    },
    {
      "cell_type": "raw",
      "metadata": {
        "raw_mimetype": "text/html"
      },
      "source": [
        "<!-- \\[ -->"
      ],
      "id": "657a3a11-e8d5-4908-9984-a7d4100249f0"
    },
    {
      "cell_type": "raw",
      "metadata": {
        "raw_mimetype": "text/html"
      },
      "source": [
        "<!-- \\begin{aligned} -->"
      ],
      "id": "ed7ff50c-2a80-4412-b42b-91ff348ca89b"
    },
    {
      "cell_type": "raw",
      "metadata": {
        "raw_mimetype": "text/html"
      },
      "source": [
        "<!-- \\frac{\\partial RSS(\\hat\\beta_0, \\hat\\beta_1)}{\\partial \\hat\\beta_0} &= \\frac{\\partial}{\\partial \\hat\\beta_0}\\sum_{i=1}^n(Y_i - \\hat\\beta_0 - \\hat\\beta_1x_i)^2 & \\tiny\\text{ (substituting the formula for the RSS)} \\\\ -->"
      ],
      "id": "c94dee5d-4afc-431e-bcf5-67e7af933ea8"
    },
    {
      "cell_type": "raw",
      "metadata": {
        "raw_mimetype": "text/html"
      },
      "source": [
        "<!-- &= \\sum_{i=1}^n \\frac{\\partial}{\\partial \\hat\\beta_0}(Y_i - \\hat\\beta_0 - \\hat\\beta_1x_i)^2  & \\tiny\\text{ (by the linearity property of derivatives)} \\\\ -->"
      ],
      "id": "f44ed091-de4f-4d8b-9b5d-7637a9bcdd3c"
    },
    {
      "cell_type": "raw",
      "metadata": {
        "raw_mimetype": "text/html"
      },
      "source": [
        "<!-- &= -2\\sum_{i=1}^n(Y_i - \\hat\\beta_0 - \\hat\\beta_1x_i). & \\tiny\\text{ (chain rule, factoring out -2)} -->"
      ],
      "id": "95f3d952-4742-4e21-a68f-3d89916e8ba2"
    },
    {
      "cell_type": "raw",
      "metadata": {
        "raw_mimetype": "text/html"
      },
      "source": [
        "<!-- \\end{aligned} -->"
      ],
      "id": "57c52350-1eaa-41fa-b138-0fa12101cf80"
    },
    {
      "cell_type": "raw",
      "metadata": {
        "raw_mimetype": "text/html"
      },
      "source": [
        "<!-- \\] -->"
      ],
      "id": "14ea55ef-b96b-414b-9809-9f6c1a73f7a0"
    },
    {
      "cell_type": "raw",
      "metadata": {
        "raw_mimetype": "text/html"
      },
      "source": [
        "<!-- Next, we set the partial derivative equal to zero and rearrange the terms to solve for $\\hat{\\beta}_0$: -->"
      ],
      "id": "4f3b35fb-dbd0-40e1-b350-7ad4700042e2"
    },
    {
      "cell_type": "raw",
      "metadata": {
        "raw_mimetype": "text/html"
      },
      "source": [
        "<!-- \\[ -->"
      ],
      "id": "e0d273a4-08cd-40b3-9147-d7f8fac9f2a0"
    },
    {
      "cell_type": "raw",
      "metadata": {
        "raw_mimetype": "text/html"
      },
      "source": [
        "<!-- \\begin{aligned} -->"
      ],
      "id": "a05a7287-aee9-4fa8-86d0-3c1943f50bb5"
    },
    {
      "cell_type": "raw",
      "metadata": {
        "raw_mimetype": "text/html"
      },
      "source": [
        "<!-- 0 &= \\frac{\\partial RSS(\\hat\\beta_0, \\hat\\beta_1)}{\\partial \\hat\\beta_0}  &  \\\\ -->"
      ],
      "id": "b207f81b-78bc-4dbf-ac43-ec46440c1d1a"
    },
    {
      "cell_type": "raw",
      "metadata": {
        "raw_mimetype": "text/html"
      },
      "source": [
        "<!-- 0 &= -2\\sum_{i=1}^n(Y_i - \\hat\\beta_0 - \\hat\\beta_1x_i) & \\tiny\\text{ (substitute partial deriviative)}\\\\ -->"
      ],
      "id": "368cf0ee-fbd4-4e3a-932a-ed8e05a78064"
    },
    {
      "cell_type": "raw",
      "metadata": {
        "raw_mimetype": "text/html"
      },
      "source": [
        "<!-- 0 &= \\sum_{i=1}^n(Y_i - \\hat\\beta_0 - \\hat\\beta_1x_i) & \\tiny\\text{ (divide both sides by -2)} \\\\ -->"
      ],
      "id": "57590a53-f8ba-409e-b3cb-e17e196bd5d9"
    },
    {
      "cell_type": "raw",
      "metadata": {
        "raw_mimetype": "text/html"
      },
      "source": [
        "<!-- 0 &= \\sum_{i=1}^n Y_i - \\sum_{i=1}^n\\hat\\beta_0 - \\sum_{i=1}^n\\hat\\beta_1x_i &\\tiny\\text{ (by linearity of sum)} \\\\ -->"
      ],
      "id": "5464acc2-31e1-475d-b733-85df06401e5b"
    },
    {
      "cell_type": "raw",
      "metadata": {
        "raw_mimetype": "text/html"
      },
      "source": [
        "<!-- 0 &= \\sum_{i=1}^n Y_i - n\\hat\\beta_0 - \\sum_{i=1}^n\\hat\\beta_1x_i & \\tiny(\\text{summing }\\hat\\beta_0\\ n\\text{ times equals }n\\hat\\beta_0) \\\\ -->"
      ],
      "id": "8015c76b-7427-44ef-ae48-4bef8a71dbc8"
    },
    {
      "cell_type": "raw",
      "metadata": {
        "raw_mimetype": "text/html"
      },
      "source": [
        "<!-- n\\hat\\beta_0 &= \\sum_{i=1}^n Y_i-\\sum_{i=1}^n\\hat\\beta_1x_i. &\\tiny\\text{ (algebra rearrange)} -->"
      ],
      "id": "a0048b69-1ba4-4dd2-b63a-c7714954701e"
    },
    {
      "cell_type": "raw",
      "metadata": {
        "raw_mimetype": "text/html"
      },
      "source": [
        "<!-- \\end{aligned} -->"
      ],
      "id": "1f58f5a9-bfe5-4b35-8d8d-341f8748efde"
    },
    {
      "cell_type": "raw",
      "metadata": {
        "raw_mimetype": "text/html"
      },
      "source": [
        "<!-- \\] -->"
      ],
      "id": "7148c95c-af24-4d22-b657-c932ebcaeacd"
    },
    {
      "cell_type": "raw",
      "metadata": {
        "raw_mimetype": "text/html"
      },
      "source": [
        "<!-- Finally, we divide both sides by $n$ to get the OLS estimator for $\\hat\\beta_0$ in terms of $\\hat\\beta_1$: -->"
      ],
      "id": "4e55b2a5-a92e-4d9a-8756-b7714387f6c0"
    },
    {
      "cell_type": "raw",
      "metadata": {
        "raw_mimetype": "text/html"
      },
      "source": [
        "<!-- \\[ -->"
      ],
      "id": "5dbdccb4-02da-4675-b194-12f4b8606ab9"
    },
    {
      "cell_type": "raw",
      "metadata": {
        "raw_mimetype": "text/html"
      },
      "source": [
        "<!-- \\hat\\beta_0 = \\bar Y-\\hat\\beta_1\\bar x -->"
      ],
      "id": "85c988ff-b9fd-4dae-a3ea-2390913fef46"
    },
    {
      "cell_type": "raw",
      "metadata": {
        "raw_mimetype": "text/html"
      },
      "source": [
        "<!-- \\] -->"
      ],
      "id": "c6ffeb52-0638-44b4-b127-b6b940b5467d"
    },
    {
      "cell_type": "raw",
      "metadata": {
        "raw_mimetype": "text/html"
      },
      "source": [
        "<!-- **OLS Estimator of $\\beta_1$** -->"
      ],
      "id": "1e0b6ba1-c313-4c6c-b6db-2413c1e38cae"
    },
    {
      "cell_type": "raw",
      "metadata": {
        "raw_mimetype": "text/html"
      },
      "source": [
        "<!-- Similar to the previous derivation, we differentiate the RSS with respect to the parameter estimate of interest, set the derivative equal to zero, and solve for the parameter. -->"
      ],
      "id": "7bf6aac9-adc5-4e1f-9dc8-177245b82639"
    },
    {
      "cell_type": "raw",
      "metadata": {
        "raw_mimetype": "text/html"
      },
      "source": [
        "<!-- We start by taking the partial derivative of the RSS with respect ot $\\hat{\\beta}_1$ and simplify. -->"
      ],
      "id": "0f203b72-693d-4b0f-aaf9-9b2d88377740"
    },
    {
      "cell_type": "raw",
      "metadata": {
        "raw_mimetype": "text/html"
      },
      "source": [
        "<!-- \\[ -->"
      ],
      "id": "59f6460a-efe1-4a10-99d4-613a61f3dd6d"
    },
    {
      "cell_type": "raw",
      "metadata": {
        "raw_mimetype": "text/html"
      },
      "source": [
        "<!-- \\begin{aligned} -->"
      ],
      "id": "3bc6fa8f-4ee4-4e05-98c9-0e7ca27ad6b0"
    },
    {
      "cell_type": "raw",
      "metadata": {
        "raw_mimetype": "text/html"
      },
      "source": [
        "<!-- \\frac{\\partial RSS(\\hat\\beta_0, \\hat\\beta_1)}{\\partial \\hat\\beta_1} &= \\frac{\\partial}{\\partial \\hat\\beta_1}\\sum_{i=1}^n (Y_i - \\hat\\beta_0 - \\hat\\beta_1x_i)^2 & \\tiny\\text{ (substitute formula for RSS)} \\\\ -->"
      ],
      "id": "dd9a4154-bdb6-474c-bf44-035fd4152dd0"
    },
    {
      "cell_type": "raw",
      "metadata": {
        "raw_mimetype": "text/html"
      },
      "source": [
        "<!-- &= \\sum_{i=1}^n \\frac{\\partial}{\\partial \\hat\\beta_1}(Y_i - \\hat\\beta_0 - \\hat\\beta_1x_i)^2 & \\tiny\\text{ (linearity property of derivatives)} \\\\ -->"
      ],
      "id": "bf87dd54-a33c-4a02-aea3-7f914746800b"
    },
    {
      "cell_type": "raw",
      "metadata": {
        "raw_mimetype": "text/html"
      },
      "source": [
        "<!-- &= -2\\sum_{i=1}^n(Y_i-\\hat\\beta_0-\\hat\\beta_1x_i)x_i & \\tiny\\text{ (chain rule, factor out -2)} -->"
      ],
      "id": "bf7271e7-1ec7-47b6-a163-7438b33af94e"
    },
    {
      "cell_type": "raw",
      "metadata": {
        "raw_mimetype": "text/html"
      },
      "source": [
        "<!-- \\end{aligned} -->"
      ],
      "id": "c5532a20-52ee-4aca-9498-1013eea2ef5d"
    },
    {
      "cell_type": "raw",
      "metadata": {
        "raw_mimetype": "text/html"
      },
      "source": [
        "<!-- \\] -->"
      ],
      "id": "4c80a0a3-edde-4d70-83f1-b5668e9a681e"
    },
    {
      "cell_type": "raw",
      "metadata": {
        "raw_mimetype": "text/html"
      },
      "source": [
        "<!-- We now set this derivative equal to 0 and rearrange the terms to solve for $\\hat{\\beta}_1$: -->"
      ],
      "id": "0489460c-07bf-4327-84da-25a3a984ce29"
    },
    {
      "cell_type": "raw",
      "metadata": {
        "raw_mimetype": "text/html"
      },
      "source": [
        "<!-- \\[ -->"
      ],
      "id": "df216abe-eb2f-4ea2-909e-d03056e297ef"
    },
    {
      "cell_type": "raw",
      "metadata": {
        "raw_mimetype": "text/html"
      },
      "source": [
        "<!-- \\begin{aligned} -->"
      ],
      "id": "009bebab-45df-4e4a-89b0-428b00ac84ea"
    },
    {
      "cell_type": "raw",
      "metadata": {
        "raw_mimetype": "text/html"
      },
      "source": [
        "<!-- 0 &= \\frac{\\partial RSS(\\hat\\beta_0, \\hat\\beta_1)}{\\partial \\hat\\beta_1} & \\\\ -->"
      ],
      "id": "7ef351d9-e752-4e86-b5ec-1ee21eb48ad5"
    },
    {
      "cell_type": "raw",
      "metadata": {
        "raw_mimetype": "text/html"
      },
      "source": [
        "<!-- 0 &= -2\\sum_{i=1}^n(Y_i-\\hat\\beta_0-\\hat\\beta_1x_i)x_i &\\tiny\\text{(substitute partial derivative})\\\\ -->"
      ],
      "id": "bc26af71-104c-486e-8f72-f61a9a68ba82"
    },
    {
      "cell_type": "raw",
      "metadata": {
        "raw_mimetype": "text/html"
      },
      "source": [
        "<!-- 0 &= \\sum_{i=1}^n(Y_i-(\\bar Y -\\hat \\beta_1\\bar x)-\\hat\\beta_1x_i)x_i &\\tiny\\text{(substitute OLS estimator of }\\hat\\beta_0, \\text{ divide both sides by -2}) \\\\ -->"
      ],
      "id": "8174f9cf-fc26-484f-afce-115ddae5f665"
    },
    {
      "cell_type": "raw",
      "metadata": {
        "raw_mimetype": "text/html"
      },
      "source": [
        "<!-- 0 &= \\sum_{i=1}^n x_iY_i -\\sum_{i=1}^n x_i\\bar Y+\\hat\\beta_1\\bar x\\sum_{i=1}^n x_i-\\hat\\beta_1\\sum_{i=1}^n x_i^2. &\\tiny\\text{(expand sum, use linearity of sum)} \\\\ -->"
      ],
      "id": "6186443a-71f0-490d-82a3-f8431ce6970a"
    },
    {
      "cell_type": "raw",
      "metadata": {
        "raw_mimetype": "text/html"
      },
      "source": [
        "<!-- \\end{aligned} -->"
      ],
      "id": "388c9ffa-0a70-4c81-8e49-a39b44242bae"
    },
    {
      "cell_type": "raw",
      "metadata": {
        "raw_mimetype": "text/html"
      },
      "source": [
        "<!-- \\] -->"
      ],
      "id": "4df0a630-545f-434a-b260-2d9c65e9b168"
    },
    {
      "cell_type": "raw",
      "metadata": {
        "raw_mimetype": "text/html"
      },
      "source": [
        "<!-- Continuing from the previous line, we move the terms involving $\\hat{\\beta}_1$ to the other side of the equality to get -->"
      ],
      "id": "2b8e427f-5667-4f2a-92eb-bd2ead115e35"
    },
    {
      "cell_type": "raw",
      "metadata": {
        "raw_mimetype": "text/html"
      },
      "source": [
        "<!-- \\[ -->"
      ],
      "id": "bfbe891c-c949-4634-92c7-f86d7321c124"
    },
    {
      "cell_type": "raw",
      "metadata": {
        "raw_mimetype": "text/html"
      },
      "source": [
        "<!-- \\begin{aligned} -->"
      ],
      "id": "402e999e-522c-496e-8547-03a2064491ea"
    },
    {
      "cell_type": "raw",
      "metadata": {
        "raw_mimetype": "text/html"
      },
      "source": [
        "<!-- \\hat\\beta_1\\sum_{i=1}^n x_i^2-\\hat\\beta_1\\bar x\\sum_{i=1}^n x_i &=\\sum_{i=1}^n x_iY_i -\\sum_{i=1}^n x_i\\bar Y & \\tiny\\text{(move estimator to other side)}\\\\ -->"
      ],
      "id": "592c1c4d-10fe-45ba-b9cf-cc0b7a990e81"
    },
    {
      "cell_type": "raw",
      "metadata": {
        "raw_mimetype": "text/html"
      },
      "source": [
        "<!-- \\hat\\beta_1\\sum_{i=1}^n x_i^2-\\hat\\beta_1\\frac{1}{n}\\sum_{i=1}^n  x_i\\sum_{i=1}^n x_i&=\\sum_{i=1}^n x_iY_i -\\sum_{i=1}^n x_i\\frac{1}{n}\\sum_{i=1}^n  Y_i  &\\tiny\\text{(rewrite using definition of sample means)} \\\\ -->"
      ],
      "id": "e6d30e08-6ae2-4bd2-8b27-7ee952c44e89"
    },
    {
      "cell_type": "raw",
      "metadata": {
        "raw_mimetype": "text/html"
      },
      "source": [
        "<!-- \\hat\\beta_1\\sum_{i=1}^n x_i^2-\\hat\\beta_1\\frac{1}{n}\\left(\\sum_{i=1}^n  x_i\\right)^2 &=\\sum_{i=1}^n x_iY_i -\\frac{1}{n}\\sum_{i=1}^n x_i\\sum_{i=1}^n  Y_i  & \\tiny\\text{(reorder and simplify)} \\\\ -->"
      ],
      "id": "f87eab1d-0346-4a8e-94cf-ccda3e93e4a7"
    },
    {
      "cell_type": "raw",
      "metadata": {
        "raw_mimetype": "text/html"
      },
      "source": [
        "<!-- \\hat\\beta_1\\left(\\sum_{i=1}^n x_i^2-\\frac{1}{n}\\left(\\sum_{i=1}^n  x_i\\right)^2\\right)&=\\sum_{i=1}^n x_iY_i -\\frac{1}{n}\\sum_{i=1}^n x_i\\sum_{i=1}^n  Y_i, & \\tiny\\text{(factoring)}\\\\ -->"
      ],
      "id": "6b4f2050-c5ee-4811-adc6-d800844709ae"
    },
    {
      "cell_type": "raw",
      "metadata": {
        "raw_mimetype": "text/html"
      },
      "source": [
        "<!-- \\end{aligned} -->"
      ],
      "id": "77b53dd7-8902-4e2d-9a18-3c23a6c2b310"
    },
    {
      "cell_type": "raw",
      "metadata": {
        "raw_mimetype": "text/html"
      },
      "source": [
        "<!-- \\] -->"
      ],
      "id": "240c07be-8625-4610-ace6-303eaa9b3ef7"
    },
    {
      "cell_type": "raw",
      "metadata": {
        "raw_mimetype": "text/html"
      },
      "source": [
        "<!-- which allows us to obtain -->"
      ],
      "id": "728f4078-2340-4174-a4af-2ef2f0710302"
    },
    {
      "cell_type": "raw",
      "metadata": {
        "raw_mimetype": "text/html"
      },
      "source": [
        "<!-- \\[ -->"
      ],
      "id": "4ac96e9d-421f-4a03-8e2b-477191893b93"
    },
    {
      "cell_type": "raw",
      "metadata": {
        "raw_mimetype": "text/html"
      },
      "source": [
        "<!-- \\hat\\beta_1=\\frac{\\sum_{i=1}^n x_iY_i -\\frac{1}{n}\\sum_{i=1}^n x_i\\sum_{i=1}^n  Y_i}{\\sum_{i=1}^n x_i^2-\\frac{1}{n}\\left(\\sum_{i=1}^n  x_i\\right)^2}. -->"
      ],
      "id": "a888087c-3c01-47fd-83eb-de2edc9bca6a"
    },
    {
      "cell_type": "raw",
      "metadata": {
        "raw_mimetype": "text/html"
      },
      "source": [
        "<!-- \\] -->"
      ],
      "id": "cd145a32-2ff1-4ff8-a16e-b330a508311f"
    },
    {
      "cell_type": "raw",
      "metadata": {
        "raw_mimetype": "text/html"
      },
      "source": [
        "<!-- Thus, we have the OLS estimators of the simple linear regression coefficients are -->"
      ],
      "id": "b1b67c73-2102-40d1-bca1-e369dcdaa376"
    },
    {
      "cell_type": "raw",
      "metadata": {
        "raw_mimetype": "text/html"
      },
      "source": [
        "<!-- \\[ -->"
      ],
      "id": "8c69d2ce-96ea-44d3-a21d-71dfbc902099"
    },
    {
      "cell_type": "raw",
      "metadata": {
        "raw_mimetype": "text/html"
      },
      "source": [
        "<!-- \\begin{aligned} -->"
      ],
      "id": "8e53607c-bad1-4a19-beeb-9b52f996ddc2"
    },
    {
      "cell_type": "raw",
      "metadata": {
        "raw_mimetype": "text/html"
      },
      "source": [
        "<!-- \\hat\\beta_0 &= \\bar Y-\\hat\\beta_1\\bar x, \\\\ -->"
      ],
      "id": "b9b934e6-97a3-4b19-8e96-34e57cdbe200"
    },
    {
      "cell_type": "raw",
      "metadata": {
        "raw_mimetype": "text/html"
      },
      "source": [
        "<!-- \\hat\\beta_1 & =\\frac{\\sum_{i=1}^n x_iY_i -\\frac{1}{n}\\sum_{i=1}^n x_i\\sum_{i=1}^n Y_i}{\\sum_{i=1}^n x_i^2-\\frac{1}{n}\\left(\\sum_{i=1}^n x_i\\right)^2}. -->"
      ],
      "id": "a0328ed1-f3ef-4f42-82fa-3933e7cfc642"
    },
    {
      "cell_type": "raw",
      "metadata": {
        "raw_mimetype": "text/html"
      },
      "source": [
        "<!-- \\end{aligned} -->"
      ],
      "id": "ae8bd43c-142b-48ec-8ba3-361ba9723e29"
    },
    {
      "cell_type": "raw",
      "metadata": {
        "raw_mimetype": "text/html"
      },
      "source": [
        "<!-- \\] -->"
      ],
      "id": "9f697600-5515-47e7-b8ee-488d1884fbe5"
    },
    {
      "cell_type": "raw",
      "metadata": {
        "raw_mimetype": "text/html"
      },
      "source": [
        "<!-- ## Unbiasedness of OLS estimators -->"
      ],
      "id": "8337cba1-81ee-426a-9b55-336accf8c926"
    },
    {
      "cell_type": "raw",
      "metadata": {
        "raw_mimetype": "text/html"
      },
      "source": [
        "<!-- We now show that the OLS estimators we derived in Section \\@ref(slr-derivation) are unbiased. An estimator is unbiased if the expected value is equal to the parameter it is estimating. -->"
      ],
      "id": "89fcf833-17d7-4fa5-9c69-8a6f065cf449"
    },
    {
      "cell_type": "raw",
      "metadata": {
        "raw_mimetype": "text/html"
      },
      "source": [
        "<!-- The OLS estimator assumes we know the value of the regressor variables for all observations. Thus, we must condition our expectation on knowing the regressor matrix $\\mathbf{X}$. Thus, we want to show that -->"
      ],
      "id": "3ac21349-5b3a-41b7-aede-5746fe4efe21"
    },
    {
      "cell_type": "raw",
      "metadata": {
        "raw_mimetype": "text/html"
      },
      "source": [
        "<!-- \\[ -->"
      ],
      "id": "886d56df-945d-49cd-b882-2fe685343b9b"
    },
    {
      "cell_type": "raw",
      "metadata": {
        "raw_mimetype": "text/html"
      },
      "source": [
        "<!-- E(\\hat{\\beta}_0\\mid \\mathbf{X})=\\beta_0, -->"
      ],
      "id": "9efa0182-503b-4bad-a896-f5a9e0aea720"
    },
    {
      "cell_type": "raw",
      "metadata": {
        "raw_mimetype": "text/html"
      },
      "source": [
        "<!-- \\] -->"
      ],
      "id": "f724adb8-359b-4458-98d0-b785adcbd579"
    },
    {
      "cell_type": "raw",
      "metadata": {
        "raw_mimetype": "text/html"
      },
      "source": [
        "<!-- where \"$\\mid \\mathbf{X}$\" is convenient notation to indicate that we are conditioning our expectation on knowing the regressor values for every observation. -->"
      ],
      "id": "4a551891-7154-481f-8ab2-32475fbaedd1"
    },
    {
      "cell_type": "raw",
      "metadata": {
        "raw_mimetype": "text/html"
      },
      "source": [
        "<!-- In Section \\@ref(s-slr-estimation), we noted that we assume $E(\\epsilon \\mid X)=0$, which is true for every error in our model, i.e. $E(\\epsilon_i \\mid X = x_i) = 0$ for $i=1,2,\\ldots,n$. Thus, -->"
      ],
      "id": "6ac6139d-87dd-45af-b093-ee4e4cdd4ec6"
    },
    {
      "cell_type": "raw",
      "metadata": {
        "raw_mimetype": "text/html"
      },
      "source": [
        "<!-- \\[ -->"
      ],
      "id": "736943e7-e009-4dd8-a229-d7f7c674707f"
    },
    {
      "cell_type": "raw",
      "metadata": {
        "raw_mimetype": "text/html"
      },
      "source": [
        "<!-- \\begin{aligned} -->"
      ],
      "id": "c9146bea-bda2-4982-b77f-694d0fcef0c8"
    },
    {
      "cell_type": "raw",
      "metadata": {
        "raw_mimetype": "text/html"
      },
      "source": [
        "<!-- E(Y_i\\mid X=x_i) &= E(\\beta_0 + \\beta_1 x_i +\\epsilon_i\\mid X = x_i) & \\tiny\\text{(substiute definition of $Y_i$)} \\\\ -->"
      ],
      "id": "11529310-da9c-46e9-8e6b-7683b2b1b9f2"
    },
    {
      "cell_type": "raw",
      "metadata": {
        "raw_mimetype": "text/html"
      },
      "source": [
        "<!-- &= E(\\beta_0\\mid X=x_i) + E(\\beta_1 x_i \\mid X = X_i) +E(\\epsilon_i | X=x_i) & \\tiny\\text{(linearity property of expectation)} \\\\ -->"
      ],
      "id": "2f3c13e3-4dc6-4d5f-859d-60e7c73008a6"
    },
    {
      "cell_type": "raw",
      "metadata": {
        "raw_mimetype": "text/html"
      },
      "source": [
        "<!-- &= \\beta_0+\\beta_1x_i +E(\\epsilon_i | X=x_i) & \\tiny\\text{(the $\\beta$s and $x_i$ are non-random values)} \\\\ -->"
      ],
      "id": "28d966bf-70e8-42ea-90bb-e16d107b91ed"
    },
    {
      "cell_type": "raw",
      "metadata": {
        "raw_mimetype": "text/html"
      },
      "source": [
        "<!-- &= \\beta_0+\\beta_1x_i + 0 & \\tiny\\text{(assumption about errors)} \\\\ -->"
      ],
      "id": "92642e46-f5f6-4324-abe7-c707019233d8"
    },
    {
      "cell_type": "raw",
      "metadata": {
        "raw_mimetype": "text/html"
      },
      "source": [
        "<!-- &= \\beta_0+\\beta_1x_i. & -->"
      ],
      "id": "ccd0982c-31bd-467a-a0a7-b75065daeba0"
    },
    {
      "cell_type": "raw",
      "metadata": {
        "raw_mimetype": "text/html"
      },
      "source": [
        "<!-- \\end{aligned} -->"
      ],
      "id": "f6f845e2-df8d-44c6-9f06-9629bfd6ee71"
    },
    {
      "cell_type": "raw",
      "metadata": {
        "raw_mimetype": "text/html"
      },
      "source": [
        "<!-- \\] -->"
      ],
      "id": "c9c2620c-e85d-4aa8-90dc-d4123081e9c1"
    },
    {
      "cell_type": "raw",
      "metadata": {
        "raw_mimetype": "text/html"
      },
      "source": [
        "<!-- In the derivations below, every sum is over all values of $i$, i.e., $\\sum \\equiv \\sum_{i=1}^n$. We drop the index for simplicity. -->"
      ],
      "id": "cdde15c3-5a50-420d-ac98-89045d2edd4d"
    },
    {
      "cell_type": "raw",
      "metadata": {
        "raw_mimetype": "text/html"
      },
      "source": [
        "<!-- Next, we note: -->"
      ],
      "id": "6dcdcc96-4d22-4c5d-8736-0634cda19141"
    },
    {
      "cell_type": "raw",
      "metadata": {
        "raw_mimetype": "text/html"
      },
      "source": [
        "<!-- \\[ -->"
      ],
      "id": "6b9fc844-54e5-482d-b829-ae2ccc9e2539"
    },
    {
      "cell_type": "raw",
      "metadata": {
        "raw_mimetype": "text/html"
      },
      "source": [
        "<!-- \\begin{aligned} -->"
      ],
      "id": "d19030fd-f58d-4caa-9cb7-53d48909e95d"
    },
    {
      "cell_type": "raw",
      "metadata": {
        "raw_mimetype": "text/html"
      },
      "source": [
        "<!-- E\\left(\\sum x_iY_i \\biggm| \\mathbf{X} \\right) &= \\sum E(x_iY_i \\mid \\mathbf{X}) &\\tiny\\text{ (by the linearity of the expectation operator)}\\\\ -->"
      ],
      "id": "8f5cb661-459c-4267-a489-4be61cb367d0"
    },
    {
      "cell_type": "raw",
      "metadata": {
        "raw_mimetype": "text/html"
      },
      "source": [
        "<!-- &=\\sum x_iE(Y_i\\mid \\mathbf{X})&\\tiny(x_i\\text{ is a fixed value, so it can be brought out})\\\\ -->"
      ],
      "id": "8c7009ee-7a54-4937-9496-29a050b936ac"
    },
    {
      "cell_type": "raw",
      "metadata": {
        "raw_mimetype": "text/html"
      },
      "source": [
        "<!-- &=\\sum x_i(\\beta_0+\\beta_1 x_i)&\\tiny\\text{(substitute expected value of }Y_i)\\\\ -->"
      ],
      "id": "d7d6385f-d6fd-4960-b06a-aeaa4bef4fe0"
    },
    {
      "cell_type": "raw",
      "metadata": {
        "raw_mimetype": "text/html"
      },
      "source": [
        "<!-- &=\\sum x_i\\beta_0+\\sum x_i\\beta_1 x_i&\\tiny\\text{(distribute sum)}\\\\ -->"
      ],
      "id": "8400d2bb-3d17-4f18-9c1f-ded2f816c1d2"
    },
    {
      "cell_type": "raw",
      "metadata": {
        "raw_mimetype": "text/html"
      },
      "source": [
        "<!-- &=\\beta_0\\sum x_i+\\beta_1\\sum x_i^2.&\\tiny\\text{(factor out constants)} -->"
      ],
      "id": "3b071ce8-7fc7-4523-92e3-2a8a8d983fef"
    },
    {
      "cell_type": "raw",
      "metadata": {
        "raw_mimetype": "text/html"
      },
      "source": [
        "<!-- \\end{aligned} -->"
      ],
      "id": "e355e995-17e8-4281-899d-01556a354bf7"
    },
    {
      "cell_type": "raw",
      "metadata": {
        "raw_mimetype": "text/html"
      },
      "source": [
        "<!-- \\] -->"
      ],
      "id": "b60f5c28-78ed-4dfd-bef5-32a184595d05"
    },
    {
      "cell_type": "raw",
      "metadata": {
        "raw_mimetype": "text/html"
      },
      "source": [
        "<!-- Also, -->"
      ],
      "id": "eff6b00c-a2a0-439c-b0ab-09ccc9e10ece"
    },
    {
      "cell_type": "raw",
      "metadata": {
        "raw_mimetype": "text/html"
      },
      "source": [
        "<!-- \\[ -->"
      ],
      "id": "63973674-ba0a-4e91-a625-360936707156"
    },
    {
      "cell_type": "raw",
      "metadata": {
        "raw_mimetype": "text/html"
      },
      "source": [
        "<!-- \\begin{aligned} -->"
      ],
      "id": "332b8691-44f1-4a11-851e-b5edbb7c0831"
    },
    {
      "cell_type": "raw",
      "metadata": {
        "raw_mimetype": "text/html"
      },
      "source": [
        "<!-- E(\\bar Y\\mid \\mathbf{X}) -->"
      ],
      "id": "7fc1bdca-1e9f-4636-8512-09b3058c18c2"
    },
    {
      "cell_type": "raw",
      "metadata": {
        "raw_mimetype": "text/html"
      },
      "source": [
        "<!-- &= E\\left(\\frac{1}{n}\\sum Y_i\\Biggm|\\mathbf{X} \\right)&\\tiny\\text{(definition of sample mean)}\\\\ -->"
      ],
      "id": "6f9a3916-e166-4943-b1ae-8dd0171e6dcf"
    },
    {
      "cell_type": "raw",
      "metadata": {
        "raw_mimetype": "text/html"
      },
      "source": [
        "<!-- &= \\frac{1}{n}E\\left(\\sum Y_i \\Bigm| \\mathbf{X}\\right)&\\tiny\\text{(factor out constant)}\\\\ -->"
      ],
      "id": "62b1e593-f19b-444a-bc9e-b083ff5281ab"
    },
    {
      "cell_type": "raw",
      "metadata": {
        "raw_mimetype": "text/html"
      },
      "source": [
        "<!-- &= \\frac{1}{n}\\sum E\\left(Y_i \\mid \\mathbf{X}\\right)&\\tiny\\text{(linearity of expectation)}\\\\ -->"
      ],
      "id": "8a7e650a-9d7e-4e43-8c77-c7853ba5faf0"
    },
    {
      "cell_type": "raw",
      "metadata": {
        "raw_mimetype": "text/html"
      },
      "source": [
        "<!-- &= \\frac{1}{n}\\sum(\\beta_0+\\beta_1 x_i)&\\tiny\\text{(substitute expected value of }Y_i)\\\\ -->"
      ],
      "id": "d4daf4ae-229b-435e-90f2-7ad0bb003584"
    },
    {
      "cell_type": "raw",
      "metadata": {
        "raw_mimetype": "text/html"
      },
      "source": [
        "<!-- &= \\frac{1}{n}\\left(\\sum\\beta_0+\\sum\\beta_1 x_i\\right)&\\tiny\\text{(distribute sum)}\\\\ -->"
      ],
      "id": "7ff5e39a-10db-4ab7-a955-643b1d1c8233"
    },
    {
      "cell_type": "raw",
      "metadata": {
        "raw_mimetype": "text/html"
      },
      "source": [
        "<!-- &= \\frac{1}{n}\\left(n\\beta_0+\\beta_1\\sum x_i\\right)&\\tiny\\text{(simplify, factor out constant)}\\\\ -->"
      ],
      "id": "87e6c684-edf8-42a2-9e07-3a7d0579ff18"
    },
    {
      "cell_type": "raw",
      "metadata": {
        "raw_mimetype": "text/html"
      },
      "source": [
        "<!-- &= \\beta_0+\\beta_1\\bar x. &\\tiny\\text{(simplify)} -->"
      ],
      "id": "fa9eba8d-7980-4e4d-8c0c-17dbc03524dd"
    },
    {
      "cell_type": "raw",
      "metadata": {
        "raw_mimetype": "text/html"
      },
      "source": [
        "<!-- \\end{aligned} -->"
      ],
      "id": "dd86ce14-74b7-48ba-83f9-77ed92b29694"
    },
    {
      "cell_type": "raw",
      "metadata": {
        "raw_mimetype": "text/html"
      },
      "source": [
        "<!-- \\] -->"
      ],
      "id": "92612e34-7661-4706-8c6e-cac4e1faeb84"
    },
    {
      "cell_type": "raw",
      "metadata": {
        "raw_mimetype": "text/html"
      },
      "source": [
        "<!-- To simplify our derivation below, define -->"
      ],
      "id": "2c73d4d8-3ab8-4af9-a99b-281a8fe518fb"
    },
    {
      "cell_type": "raw",
      "metadata": {
        "raw_mimetype": "text/html"
      },
      "source": [
        "<!-- \\[ -->"
      ],
      "id": "1f7e2223-f488-4fb9-b603-30a1d50e04c2"
    },
    {
      "cell_type": "raw",
      "metadata": {
        "raw_mimetype": "text/html"
      },
      "source": [
        "<!-- SSX = \\sum x_i^2-\\frac{1}{n}\\left(\\sum  x_i\\right)^2. -->"
      ],
      "id": "ba0d0767-858b-4ef6-99cf-b7ac08c45b51"
    },
    {
      "cell_type": "raw",
      "metadata": {
        "raw_mimetype": "text/html"
      },
      "source": [
        "<!-- \\] -->"
      ],
      "id": "90028b65-8b8d-4026-b141-c2511cb056bc"
    },
    {
      "cell_type": "raw",
      "metadata": {
        "raw_mimetype": "text/html"
      },
      "source": [
        "<!-- Thus, -->"
      ],
      "id": "8a3cf09b-8079-4ef7-9bb4-f768c39120dd"
    },
    {
      "cell_type": "raw",
      "metadata": {
        "raw_mimetype": "text/html"
      },
      "source": [
        "<!-- \\[ -->"
      ],
      "id": "e27339f0-0f62-4afb-89a2-24490c825e95"
    },
    {
      "cell_type": "raw",
      "metadata": {
        "raw_mimetype": "text/html"
      },
      "source": [
        "<!-- \\begin{aligned} -->"
      ],
      "id": "a37347ff-b7d6-4966-a182-db8ede47f186"
    },
    {
      "cell_type": "raw",
      "metadata": {
        "raw_mimetype": "text/html"
      },
      "source": [
        "<!-- &E(\\hat\\beta_1 \\mid \\mathbf{X}) &\\\\ -->"
      ],
      "id": "c4ab997b-0759-4c49-80af-2da2ce22cdcd"
    },
    {
      "cell_type": "raw",
      "metadata": {
        "raw_mimetype": "text/html"
      },
      "source": [
        "<!-- &= E\\left(\\frac{\\sum x_iY_i -\\frac{1}{n}\\sum x_i\\sum Y_i}{\\sum x_i^2-\\frac{1}{n}\\left(\\sum  x_i\\right)^2} \\Biggm| \\mathbf{X} \\right) &\\tiny\\text{(substitute OLS estimator)} \\\\ -->"
      ],
      "id": "111feda8-5b39-45c9-b2c8-ff11d4a3827d"
    },
    {
      "cell_type": "raw",
      "metadata": {
        "raw_mimetype": "text/html"
      },
      "source": [
        "<!-- &= \\frac{1}{SSX}E\\left(\\sum x_iY_i-\\frac{1}{n}\\sum x_i\\sum Y_i \\biggm| \\mathbf{X}\\right)&\\tiny\\text{(factor out constant denominator, substitute }SSX\\text{)} \\\\ -->"
      ],
      "id": "30606c1b-9da3-467b-9833-d97fa4456e5d"
    },
    {
      "cell_type": "raw",
      "metadata": {
        "raw_mimetype": "text/html"
      },
      "source": [
        "<!-- &= \\frac{1}{SSX}\\left[E\\left(\\sum x_iY_i\\Bigm|\\mathbf{X}\\right)-E\\left(\\frac{1}{n}\\sum x_i\\sum Y_i\\biggm|\\mathbf{X}\\right)\\right]&\\tiny\\text{(linearity of expectation)}\\\\ -->"
      ],
      "id": "49fd0d66-10d6-4749-a708-616b2a93f4de"
    },
    {
      "cell_type": "raw",
      "metadata": {
        "raw_mimetype": "text/html"
      },
      "source": [
        "<!-- &= \\frac{1}{SSX}\\left[E\\left(\\sum x_iY_i\\Bigm|\\mathbf{X}\\right)-\\left(\\sum x_i\\right)E\\left(\\bar Y\\mid \\mathbf{X}\\right)\\right]&\\tiny\\text{(factor out constant }\\sum x_i\\text{, use definition of}\\bar{Y})\\\\ -->"
      ],
      "id": "c7403031-bbd6-40c8-9f71-9e3b0043efdf"
    },
    {
      "cell_type": "raw",
      "metadata": {
        "raw_mimetype": "text/html"
      },
      "source": [
        "<!-- &= \\frac{1}{SSX}\\left[\\left(\\beta_0\\sum x_i + \\beta_1\\sum x_i^2\\right)-\\left(\\sum x_i\\right)(\\beta_0+\\beta_1\\bar x)\\right]&\\tiny\\text{(substitute previous derivations -->"
      ],
      "id": "ca7d6481-814d-46d6-a2ea-09f609b64c6d"
    },
    {
      "cell_type": "raw",
      "metadata": {
        "raw_mimetype": "text/html"
      },
      "source": [
        "<!-- )}\\\\ -->"
      ],
      "id": "835bd2e8-638a-43d6-973d-2a0d4b75ba90"
    },
    {
      "cell_type": "raw",
      "metadata": {
        "raw_mimetype": "text/html"
      },
      "source": [
        "<!-- &= \\frac{1}{SSX}\\left[\\beta_0\\sum x_i+\\beta_1\\sum x_i^2-\\beta_0\\sum x_i-\\beta_1\\bar x\\sum x_i\\right]&\\tiny\\text{(expand product and reorder)} \\\\ -->"
      ],
      "id": "5f9bd057-3e2c-41e7-80ea-8363d7205a78"
    },
    {
      "cell_type": "raw",
      "metadata": {
        "raw_mimetype": "text/html"
      },
      "source": [
        "<!-- &= \\frac{1}{SSX}\\left[\\beta_1\\sum x_i^2-\\beta_1\\bar x\\sum x_i\\right]&\\tiny\\text{(cancel terms)}\\\\ -->"
      ],
      "id": "c62745cc-57b5-4d90-8465-aec30607f553"
    },
    {
      "cell_type": "raw",
      "metadata": {
        "raw_mimetype": "text/html"
      },
      "source": [
        "<!-- &= \\frac{1}{SSX}\\left[\\beta_1\\sum x_i^2-\\beta_1\\frac{1}{n}\\sum x_i\\sum x_i\\right]&\\tiny\\text{(using definition of sample mean)}\\\\ -->"
      ],
      "id": "7715fb8d-50aa-40c6-9b8f-487c3218f62e"
    },
    {
      "cell_type": "raw",
      "metadata": {
        "raw_mimetype": "text/html"
      },
      "source": [
        "<!-- &= \\frac{1}{SSX}\\beta_1\\left[\\sum x_i^2-\\frac{1}{n}\\left(\\sum x_i\\right)^2\\right]&\\tiny\\text{(factor out }\\beta_1\\text{, simplify})\\\\ -->"
      ],
      "id": "2b236e45-d82a-4cf0-9836-29f58c702944"
    },
    {
      "cell_type": "raw",
      "metadata": {
        "raw_mimetype": "text/html"
      },
      "source": [
        "<!-- &= \\frac{1}{SSX}\\beta_1[SSX]&\\tiny\\text{(substitute }SSX\\text{)} \\\\ -->"
      ],
      "id": "0045ff97-9832-4ccc-8155-3697edeb6ebe"
    },
    {
      "cell_type": "raw",
      "metadata": {
        "raw_mimetype": "text/html"
      },
      "source": [
        "<!-- &=\\beta_1. &\\tiny\\text{(simplify)} -->"
      ],
      "id": "c1c41ed3-70f4-47bb-9bcd-1b9351f66a59"
    },
    {
      "cell_type": "raw",
      "metadata": {
        "raw_mimetype": "text/html"
      },
      "source": [
        "<!-- \\end{aligned} -->"
      ],
      "id": "de7c23b2-fa3d-4f6e-92e4-b1caa62aae23"
    },
    {
      "cell_type": "raw",
      "metadata": {
        "raw_mimetype": "text/html"
      },
      "source": [
        "<!-- \\] -->"
      ],
      "id": "b6402a90-0d46-4308-91d5-12eaf803ebfb"
    },
    {
      "cell_type": "raw",
      "metadata": {
        "raw_mimetype": "text/html"
      },
      "source": [
        "<!-- Therefore, $\\hat\\beta_1$ is an unbiased estimator of $\\beta_1$. -->"
      ],
      "id": "104fd23b-d78e-485b-b168-28c4c41ba02c"
    },
    {
      "cell_type": "raw",
      "metadata": {
        "raw_mimetype": "text/html"
      },
      "source": [
        "<!-- Next, we show that $\\hat\\beta_0$ is unbiased: -->"
      ],
      "id": "cbc01aa9-d1f8-4e18-8180-8eccc6fa1930"
    },
    {
      "cell_type": "raw",
      "metadata": {
        "raw_mimetype": "text/html"
      },
      "source": [
        "<!-- \\[ -->"
      ],
      "id": "764a5ec3-fba2-46c3-b800-5581b4cddd74"
    },
    {
      "cell_type": "raw",
      "metadata": {
        "raw_mimetype": "text/html"
      },
      "source": [
        "<!-- \\begin{aligned} -->"
      ],
      "id": "1ee84391-7c35-4dbc-9f49-c1540cdfedc8"
    },
    {
      "cell_type": "raw",
      "metadata": {
        "raw_mimetype": "text/html"
      },
      "source": [
        "<!-- E(\\hat\\beta_0\\mid \\mathbf{X}) &= E(\\bar Y - \\hat{\\beta}_1\\bar x\\mid \\mathbf{X}) &\\tiny\\text{(OLS estimator of }\\beta_0) \\\\ -->"
      ],
      "id": "a503bfb0-8f81-4fd0-9060-af904df6a7dd"
    },
    {
      "cell_type": "raw",
      "metadata": {
        "raw_mimetype": "text/html"
      },
      "source": [
        "<!-- &= E(\\bar{Y}\\mid \\mathbf{X}) - E(\\hat\\beta_1\\bar{x}\\mid \\mathbf{X}) &\\tiny\\text{(linearity of expectation})\\\\ -->"
      ],
      "id": "6f65f278-745c-48d4-98ad-b1f927e1635d"
    },
    {
      "cell_type": "raw",
      "metadata": {
        "raw_mimetype": "text/html"
      },
      "source": [
        "<!-- &= E(\\bar{Y}\\mid \\mathbf{X}) - \\bar{x}E(\\hat\\beta_1\\mid \\mathbf{X}) &\\tiny\\text{(factor out constant})\\\\ -->"
      ],
      "id": "54c2e0aa-8449-4a0a-9332-005d155ac8bc"
    },
    {
      "cell_type": "raw",
      "metadata": {
        "raw_mimetype": "text/html"
      },
      "source": [
        "<!-- &= \\beta_0 +\\beta_1\\bar x-\\bar x\\beta_1 &\\tiny\\text{(substitute previous derivations})\\\\ -->"
      ],
      "id": "ff9cd06b-006f-432e-aca3-de1ddb9093e6"
    },
    {
      "cell_type": "raw",
      "metadata": {
        "raw_mimetype": "text/html"
      },
      "source": [
        "<!-- &= \\beta_0. &\\tiny\\text{(cancel terms})\\\\ -->"
      ],
      "id": "6dcb3c9d-91ef-4bed-91cc-dadaf69e9357"
    },
    {
      "cell_type": "raw",
      "metadata": {
        "raw_mimetype": "text/html"
      },
      "source": [
        "<!-- \\end{aligned} -->"
      ],
      "id": "f11a93af-9729-4b05-babf-91d2d47807de"
    },
    {
      "cell_type": "raw",
      "metadata": {
        "raw_mimetype": "text/html"
      },
      "source": [
        "<!-- \\] -->"
      ],
      "id": "c4675d13-0669-4d69-bbb4-e36a67357e7e"
    },
    {
      "cell_type": "raw",
      "metadata": {
        "raw_mimetype": "text/html"
      },
      "source": [
        "<!-- Therefore, $\\hat\\beta_0$ is an unbiased estimator of $\\beta_0$. -->"
      ],
      "id": "98e9c163-6174-45ce-91da-e1e764616e0c"
    },
    {
      "cell_type": "raw",
      "metadata": {
        "raw_mimetype": "text/html"
      },
      "source": [
        "<!-- <!-- Next, we derive the variance of the OLS estimators conditional on the known regressor values, i.e., $\\mathrm{var}(\\hat\\beta_0 \\mid \\mathbf{X})$ and $\\mathrm{var}(\\hat\\beta_1 \\mid \\mathbf{X})$. -->"
      ],
      "id": "9f98e1a7-1241-42ad-adb7-031bda64f252"
    },
    {
      "cell_type": "markdown",
      "metadata": {},
      "source": [
        "–\\>"
      ],
      "id": "1b608916-8eb1-49df-af7b-bf3df55503da"
    },
    {
      "cell_type": "raw",
      "metadata": {
        "raw_mimetype": "text/html"
      },
      "source": [
        "<!-- <!-- First, we derive that -->"
      ],
      "id": "619b79e1-3563-4c48-b044-5d5635eed076"
    },
    {
      "cell_type": "markdown",
      "metadata": {},
      "source": [
        "–\\> <!-- <!-- \\[ --> –\\> <!-- <!-- \\begin{align} --> –\\>\n",
        "<!-- <!-- \\mathrm{var}(Y_i\\mid X = x_i) &= \\mathrm{var}(\\beta_0+\\beta_1x_i+\\epsilon_i\\mid X = x_i)&\\tiny\\text{(substitute model definition)} \\\\ -->\n",
        "–\\>\n",
        "<!-- <!-- &= \\mathrm{var}(\\epsilon_i\\mid X = x_i)&\\tiny(\\beta_0, \\beta_1, x_i\\text{ are fixed, so zero variance)} \\\\ -->\n",
        "–\\> <!-- <!-- &= \\sigma^2. &\\tiny\\text{(by assumption)} --> –\\>\n",
        "<!-- <!-- \\end{align} --> –\\> <!-- <!-- \\] --> –\\>"
      ],
      "id": "e3749568-61b2-424b-88d5-4b3630481fd4"
    },
    {
      "cell_type": "raw",
      "metadata": {
        "raw_mimetype": "text/html"
      },
      "source": [
        "<!-- <!-- Second, we derive that -->"
      ],
      "id": "67dcfdee-5f6b-430f-bb33-bcdb41deaff7"
    },
    {
      "cell_type": "markdown",
      "metadata": {},
      "source": [
        "–\\> <!-- <!-- \\[ --> –\\> <!-- <!-- \\begin{align} --> –\\>\n",
        "<!-- <!-- \\text{cov}(Y_i, Y_j\\mid \\mathbf{X}) &= \\text{cov}(\\beta_0+\\beta_1x_i+\\epsilon_i, \\beta_0+\\beta_1x_j+\\epsilon_j\\mid \\mathbf{X})&\\tiny\\text{(substitute model definition)} \\\\ -->\n",
        "–\\>\n",
        "<!-- <!-- &= \\text{cov}(\\epsilon_i,\\epsilon_j\\mid \\mathbf{X})&\\tiny\\text{(other values are fixed)} \\\\ -->\n",
        "–\\> <!-- <!-- &= 0.&\\tiny\\text{(errors are uncorrelated)} --> –\\>\n",
        "<!-- <!-- \\end{align} --> –\\> <!-- <!-- \\] --> –\\>"
      ],
      "id": "eafd0c31-48a1-4b5b-81db-b401a0113ab9"
    },
    {
      "cell_type": "raw",
      "metadata": {
        "raw_mimetype": "text/html"
      },
      "source": [
        "<!-- <!-- Next, to simplify the derivation, we use a different form of $\\hat\\beta_1$ from Equation \\@ref(eq:slr-beta1hat), namely, -->"
      ],
      "id": "b7864c8d-5b19-4fa9-9e7d-9293b060fefc"
    },
    {
      "cell_type": "markdown",
      "metadata": {},
      "source": [
        "–\\> <!-- <!-- \\[ --> –\\> <!-- <!-- \\begin{align} --> –\\>\n",
        "<!-- <!-- \\mathrm{var}(\\hat\\beta_1\\mid \\mathbf{X}) &=\\mathrm{var}\\left(\\frac{\\sum(x_i-\\bar x)Y_i}{\\sum(x_i-\\bar x)^2}\\mid \\mathbf{X}\\right)&\\tiny\\text{(expression for }\\hat\\beta_1)\\\\ -->\n",
        "–\\>\n",
        "<!-- <!-- &=\\frac{1}{\\left[\\sum(x_i-\\bar x)^2\\right]^2}\\mathrm{var}\\left(\\sum(x_i-\\bar x)Y_i\\Bigm| \\mathbf{X}\\right)&\\tiny\\text{(factor out constant denominator)}\\\\ -->\n",
        "–\\>\n",
        "<!-- <!-- &=\\frac{1}{\\left[\\sum(x_i-\\bar x)^2\\right]^2}\\biggl[\\sum\\mathrm{var}((x_i-\\bar x)Y_i\\mid \\mathbf{X})&\\\\ -->\n",
        "–\\>\n",
        "<!-- <!-- &\\qquad+\\sum_{i=1}^{n}\\sum_{i\\neq j}\\text{cov}((x_i-\\bar x)Y_i, (x_j-\\bar x)Y_j\\mid \\mathbf{X})\\biggr]&\\tiny\\text{(variance of a sum formula)}\\\\ -->\n",
        "–\\>\n",
        "<!-- <!-- &=\\frac{1}{\\left[\\sum(x_i-\\bar x)^2\\right]^2}\\biggl[\\sum(x_i-\\bar x)^2\\mathrm{var}(Y_i\\mid \\mathbf{X}) & \\\\ -->\n",
        "–\\>\n",
        "<!-- <!-- &\\qquad +\\sum_{i=1}^{n}\\sum_{i\\neq j}(x_i-\\bar x)(x_j-\\bar x)\\text{cov}(Y_i,Y_j\\mid \\mathbf{X})\\biggr]&\\tiny\\text{(factor out constants)}\\\\ -->\n",
        "–\\>\n",
        "<!-- <!-- &=\\frac{1}{\\left[\\sum(x_i-\\bar x)^2\\right]^2}\\left[\\sum(x_i-\\bar x)^2\\mathrm{var}(Y_i\\mid \\mathbf{X})\\right]&\\tiny\\text{(simplify using }\\text{cov}(Y_i, Y_j\\mid \\mathbf{X})=0 \\text{ for } i\\neq j)\\\\ -->\n",
        "–\\>\n",
        "<!-- <!-- &=\\frac{1}{\\left[\\sum(x_i-\\bar x)^2\\right]^2}\\left[\\sigma^2\\sum(x_i-\\bar x)^2\\right]&\\tiny\\text{(substitute known variance, factor out }\\sigma^2\\text{)}\\\\ -->\n",
        "–\\>\n",
        "<!-- <!-- &=\\frac{\\sigma^2}{\\sum(x_i-\\bar x)^2}.&\\tiny\\text{(cancel out numerator and denominator)}\\ -->\n",
        "–\\> <!-- <!-- \\end{align} --> –\\> <!-- <!-- \\] --> –\\>"
      ],
      "id": "122afb3f-4d69-4848-8f99-9ded05084f89"
    },
    {
      "cell_type": "raw",
      "metadata": {
        "raw_mimetype": "text/html"
      },
      "source": [
        "<!-- ## Manual calculation Penguins simple linear regression example -->"
      ],
      "id": "8bcb3996-14f6-4802-b4f1-4c3d9796cacf"
    },
    {
      "cell_type": "raw",
      "metadata": {
        "raw_mimetype": "text/html"
      },
      "source": [
        "<!-- In this section, we manually produce (i.e., without the `lm` function) the `penguins` simple linear regression example in Section \\@ref(s:penguins-slr). -->"
      ],
      "id": "e58baf18-4960-478e-afd6-47cfc57079d8"
    },
    {
      "cell_type": "raw",
      "metadata": {
        "raw_mimetype": "text/html"
      },
      "source": [
        "<!-- First, we will manually fit a simple linear regression model that regresses `bill_length_mm` on `body_mass_g`. -->"
      ],
      "id": "3ec9870c-be7b-4aa6-800b-312baebfef49"
    },
    {
      "cell_type": "raw",
      "metadata": {
        "raw_mimetype": "text/html"
      },
      "source": [
        "<!-- Using the `summary` function on the `penguins` data frame, we see that both `bill_length_mm` and `body_mass_g` have `NA` values. -->"
      ],
      "id": "3688fa5d-97a0-43e0-a6c8-54f162508308"
    },
    {
      "cell_type": "raw",
      "metadata": {
        "raw_mimetype": "text/html"
      },
      "source": [
        "<!-- ```{r} -->"
      ],
      "id": "da443b93-e321-44ab-853e-a7f56c5e9297"
    },
    {
      "cell_type": "raw",
      "metadata": {
        "raw_mimetype": "text/html"
      },
      "source": [
        "<!-- summary(penguins) -->"
      ],
      "id": "eab33764-2483-4254-8e40-90a348ac5ac4"
    },
    {
      "cell_type": "raw",
      "metadata": {
        "raw_mimetype": "text/html"
      },
      "source": [
        "<!-- ``` -->"
      ],
      "id": "06bb280d-c55b-4885-af0a-0b7ff9f01713"
    },
    {
      "cell_type": "raw",
      "metadata": {
        "raw_mimetype": "text/html"
      },
      "source": [
        "<!-- This is important to note because the `lm` function automatically removes any observation with `NA` values for any of the variables specified in the `formula` argument. In order to replicate our results, we must remove the same observations. -->"
      ],
      "id": "78e5422b-cf23-4ab8-8e97-e3931255f5f6"
    },
    {
      "cell_type": "raw",
      "metadata": {
        "raw_mimetype": "text/html"
      },
      "source": [
        "<!-- We want to remove the rows of `penguins` where either `body_mass_g` or `bill_length_mm` have `NA` values. We do that below using the `na.omit` function (selecting only the relevant variables) and assign the cleaned -->"
      ],
      "id": "a93b2513-aecf-4d40-8b3c-8577abf77c6d"
    },
    {
      "cell_type": "raw",
      "metadata": {
        "raw_mimetype": "text/html"
      },
      "source": [
        "<!-- object the name `penguins_clean`. -->"
      ],
      "id": "f7039275-e076-4fd1-8ce5-b1be1e775055"
    },
    {
      "cell_type": "raw",
      "metadata": {
        "raw_mimetype": "text/html"
      },
      "source": [
        "<!-- ```{r} -->"
      ],
      "id": "c6753dd7-d031-4f7e-a108-cd833afe8da3"
    },
    {
      "cell_type": "raw",
      "metadata": {
        "raw_mimetype": "text/html"
      },
      "source": [
        "<!-- # remove rows of penguins where bill_length_mm or body_mass_g have NA values -->"
      ],
      "id": "f88c43e5-b6e1-4b3e-80fc-a9029d795f6a"
    },
    {
      "cell_type": "raw",
      "metadata": {
        "raw_mimetype": "text/html"
      },
      "source": [
        "<!-- penguins_clean <- -->"
      ],
      "id": "22b5cf0f-312b-4765-8879-e36a3f4d30d4"
    },
    {
      "cell_type": "raw",
      "metadata": {
        "raw_mimetype": "text/html"
      },
      "source": [
        "<!--   penguins |> -->"
      ],
      "id": "22c6b0bf-3569-4b0b-8fec-f561b2cffd05"
    },
    {
      "cell_type": "raw",
      "metadata": {
        "raw_mimetype": "text/html"
      },
      "source": [
        "<!--   subset(select = c(\"bill_length_mm\", \"body_mass_g\")) |> -->"
      ],
      "id": "6c32720e-e2fe-4d5e-b700-c64c4ee2f2a6"
    },
    {
      "cell_type": "raw",
      "metadata": {
        "raw_mimetype": "text/html"
      },
      "source": [
        "<!--   na.omit() -->"
      ],
      "id": "c7280ba0-0c0e-4f5f-85cc-44d1fa9b844a"
    },
    {
      "cell_type": "raw",
      "metadata": {
        "raw_mimetype": "text/html"
      },
      "source": [
        "<!-- ``` -->"
      ],
      "id": "abe231a2-4aad-47aa-8433-fd34d08a4e88"
    },
    {
      "cell_type": "raw",
      "metadata": {
        "raw_mimetype": "text/html"
      },
      "source": [
        "<!-- We extract the `bill_length_mm` variable from the `penguins` data frame and assign it the name `y` since it will be the response variable. We extract the `body_mass_g` variable from the `penguins` data frame and -->"
      ],
      "id": "1a80a0b7-aa0f-4d82-a611-8d6a26d40a87"
    },
    {
      "cell_type": "raw",
      "metadata": {
        "raw_mimetype": "text/html"
      },
      "source": [
        "<!-- assign it the name `x` since it will be the regressor variable. We also determine the number of observations and assign that value the name `n`. -->"
      ],
      "id": "1d8d3597-5c9f-4712-909b-3083621e6353"
    },
    {
      "cell_type": "raw",
      "metadata": {
        "raw_mimetype": "text/html"
      },
      "source": [
        "<!-- ```{r} -->"
      ],
      "id": "d53ae68f-72a1-4541-8250-f9daddead125"
    },
    {
      "cell_type": "raw",
      "metadata": {
        "raw_mimetype": "text/html"
      },
      "source": [
        "<!-- # extract response and regressor from penguins_clean -->"
      ],
      "id": "33b9a357-6767-4f2d-853c-9cf407c9c447"
    },
    {
      "cell_type": "raw",
      "metadata": {
        "raw_mimetype": "text/html"
      },
      "source": [
        "<!-- y <- penguins_clean$bill_length_mm -->"
      ],
      "id": "d67b5dad-0d81-4eef-b59f-f0ca836ebaf8"
    },
    {
      "cell_type": "raw",
      "metadata": {
        "raw_mimetype": "text/html"
      },
      "source": [
        "<!-- x <- penguins_clean$body_mass_g -->"
      ],
      "id": "24149b6f-3834-4d89-9902-37e36691ac82"
    },
    {
      "cell_type": "raw",
      "metadata": {
        "raw_mimetype": "text/html"
      },
      "source": [
        "<!-- # determine number of observations -->"
      ],
      "id": "6b026f92-71bc-4d43-af88-6fbf304d2351"
    },
    {
      "cell_type": "raw",
      "metadata": {
        "raw_mimetype": "text/html"
      },
      "source": [
        "<!-- n <- length(y) -->"
      ],
      "id": "96f3b66e-0937-48b7-a04b-77205bb64cbc"
    },
    {
      "cell_type": "raw",
      "metadata": {
        "raw_mimetype": "text/html"
      },
      "source": [
        "<!-- ``` -->"
      ],
      "id": "a695d4e0-5e18-4e61-8125-916af30c0352"
    },
    {
      "cell_type": "raw",
      "metadata": {
        "raw_mimetype": "text/html"
      },
      "source": [
        "<!-- We now compute $\\hat{\\beta}_1$ and $\\hat{\\beta}_0$ using Equations \\@ref(eq:slr-beta1hat) and \\@ref(eq:slr-beta0hat). Note that placing `()` around the assignment operations will both perform the assignment and print the results. -->"
      ],
      "id": "0bc4b565-2c6b-4aad-bd85-5199121bb919"
    },
    {
      "cell_type": "raw",
      "metadata": {
        "raw_mimetype": "text/html"
      },
      "source": [
        "<!-- ```{r} -->"
      ],
      "id": "dd34e976-b13b-41af-97f6-2230cdc32a3b"
    },
    {
      "cell_type": "raw",
      "metadata": {
        "raw_mimetype": "text/html"
      },
      "source": [
        "<!-- # compute OLS estimate of beta1 -->"
      ],
      "id": "8e28c287-acda-4269-aa90-60bccff56332"
    },
    {
      "cell_type": "raw",
      "metadata": {
        "raw_mimetype": "text/html"
      },
      "source": [
        "<!-- (b1 <- (sum(x * y) - sum(x) * sum(y) / n)/(sum(x^2) - sum(x)^2/n)) -->"
      ],
      "id": "4be510fb-5fe8-4fc2-bcfa-ce998a970944"
    },
    {
      "cell_type": "raw",
      "metadata": {
        "raw_mimetype": "text/html"
      },
      "source": [
        "<!-- # compute OLS estimate of beta0 -->"
      ],
      "id": "1ebbe42a-96f3-4502-9a99-8d5d1c7cfc56"
    },
    {
      "cell_type": "raw",
      "metadata": {
        "raw_mimetype": "text/html"
      },
      "source": [
        "<!-- (b0 <- mean(y) - b1 * mean(x)) -->"
      ],
      "id": "1c1d5ec8-2413-4667-be88-72d1b51b01f4"
    },
    {
      "cell_type": "raw",
      "metadata": {
        "raw_mimetype": "text/html"
      },
      "source": [
        "<!-- ``` -->"
      ],
      "id": "b77ad495-2968-4831-a5aa-0564b1c8e5ac"
    },
    {
      "cell_type": "raw",
      "metadata": {
        "raw_mimetype": "text/html"
      },
      "source": [
        "<!-- The estimated value of $\\beta_0$ is $\\hat{\\beta}_0=26.90$ and the estimated value of $\\beta_1$ is $\\hat{\\beta}_1=0.004$. -->"
      ],
      "id": "3b043897-b8da-4704-98d4-6fc66ebbb8c4"
    },
    {
      "cell_type": "raw",
      "metadata": {
        "raw_mimetype": "text/html"
      },
      "source": [
        "<!-- We can also compute the residuals, the fitted values, the RSS, and the estimated error variance. Using the code below, the RSS for our model is 6564.49 and the estimated error variance if $\\hat{\\sigma}^2=19.31$. -->"
      ],
      "id": "c868330d-67b1-439f-84a8-deb433e2f559"
    },
    {
      "cell_type": "raw",
      "metadata": {
        "raw_mimetype": "text/html"
      },
      "source": [
        "<!-- ```{r} -->"
      ],
      "id": "31c16b17-f749-48e1-9495-20ba13d2899f"
    },
    {
      "cell_type": "raw",
      "metadata": {
        "raw_mimetype": "text/html"
      },
      "source": [
        "<!-- yhat <- b0 + b1 * x # compute fitted values -->"
      ],
      "id": "96a5cc92-653d-4f00-b478-565b988b9b95"
    },
    {
      "cell_type": "raw",
      "metadata": {
        "raw_mimetype": "text/html"
      },
      "source": [
        "<!-- ehat <- y - yhat # compute residuals -->"
      ],
      "id": "6f7817a3-eee5-4eb9-a2a1-0887279ffe68"
    },
    {
      "cell_type": "raw",
      "metadata": {
        "raw_mimetype": "text/html"
      },
      "source": [
        "<!-- (rss <- sum(ehat^2)) # sum of the squared residuals -->"
      ],
      "id": "eee2bad1-c96f-4631-a772-3cf571a7adc0"
    },
    {
      "cell_type": "raw",
      "metadata": {
        "raw_mimetype": "text/html"
      },
      "source": [
        "<!-- (sigmasqhat <- rss/(n-2)) # estimated error variance -->"
      ],
      "id": "e50988d8-4e1e-43ef-9e0c-15b67ff08d4e"
    },
    {
      "cell_type": "raw",
      "metadata": {
        "raw_mimetype": "text/html"
      },
      "source": [
        "<!-- ``` -->"
      ],
      "id": "cd94ec9f-110e-4989-866d-bfc4c350de29"
    },
    {
      "cell_type": "raw",
      "metadata": {
        "raw_mimetype": "text/html"
      },
      "source": [
        "<!-- ## Derivation of the OLS estimator for the multiple linear regression model coefficients {#mlr-derivation} -->"
      ],
      "id": "fc3407dd-f92d-4aa1-bd5b-026ebc158f9d"
    },
    {
      "cell_type": "raw",
      "metadata": {
        "raw_mimetype": "text/html"
      },
      "source": [
        "<!-- We want to determine the value of $\\hat{\\boldsymbol{\\beta}}$ that will minimize -->"
      ],
      "id": "d0de51ab-3f9b-4a1f-bc47-27ecee919363"
    },
    {
      "cell_type": "raw",
      "metadata": {
        "raw_mimetype": "text/html"
      },
      "source": [
        "<!-- \\[ -->"
      ],
      "id": "4d22ee68-cfa9-44a9-8872-cc5ac5a74fdf"
    },
    {
      "cell_type": "raw",
      "metadata": {
        "raw_mimetype": "text/html"
      },
      "source": [
        "<!-- \\begin{aligned} -->"
      ],
      "id": "f0048f53-fc0f-4b06-929b-c07a056079d6"
    },
    {
      "cell_type": "raw",
      "metadata": {
        "raw_mimetype": "text/html"
      },
      "source": [
        "<!-- RSS(\\hat{\\boldsymbol{\\beta}}) &=\\sum_{i=1}^n \\hat{\\epsilon_i}^2 \\\\ -->"
      ],
      "id": "8de66bed-4b8e-4fdd-b87d-6bfcd4aa2e1a"
    },
    {
      "cell_type": "raw",
      "metadata": {
        "raw_mimetype": "text/html"
      },
      "source": [
        "<!-- &= \\hat{\\boldsymbol{\\epsilon}}^T\\hat{\\boldsymbol{\\epsilon}} \\\\ -->"
      ],
      "id": "39478762-ebc2-4b4b-bacf-69e85cac37e3"
    },
    {
      "cell_type": "raw",
      "metadata": {
        "raw_mimetype": "text/html"
      },
      "source": [
        "<!-- &= (\\mathbf{y} - \\mathbf{X}\\hat{\\boldsymbol{\\beta}})^T(\\mathbf{y} - \\mathbf{X}\\hat{\\boldsymbol{\\beta}}) \\\\ -->"
      ],
      "id": "5d1982e5-a711-40d1-9ffa-ad321fee7987"
    },
    {
      "cell_type": "raw",
      "metadata": {
        "raw_mimetype": "text/html"
      },
      "source": [
        "<!-- &= \\mathbf{y}^T\\mathbf{y}-2\\hat{\\boldsymbol{\\beta}}^T\\mathbf{X}^T\\mathbf{y}+\\hat{\\boldsymbol{\\beta}}^T\\mathbf{X}^T\\mathbf{X}\\hat{\\boldsymbol{\\beta}}, -->"
      ],
      "id": "b2567cc0-d288-4ebe-8a64-63e7bda9990e"
    },
    {
      "cell_type": "raw",
      "metadata": {
        "raw_mimetype": "text/html"
      },
      "source": [
        "<!-- \\end{aligned} -->"
      ],
      "id": "a21e5b1d-2074-44a7-abe6-ccd5a04bdad0"
    },
    {
      "cell_type": "raw",
      "metadata": {
        "raw_mimetype": "text/html"
      },
      "source": [
        "<!-- \\] -->"
      ],
      "id": "89771cd6-732b-49dd-97df-f24191f2845e"
    },
    {
      "cell_type": "raw",
      "metadata": {
        "raw_mimetype": "text/html"
      },
      "source": [
        "<!-- where the second term in the last line comes from the fact that $\\hat{\\boldsymbol{\\beta}}^T\\mathbf{X}^T\\mathbf{y}$ is a $1\\times 1$ matrix, and is thus symmetric. Consequently, $\\hat{\\boldsymbol{\\beta}}^T\\mathbf{X}^T\\mathbf{y}=(\\hat{\\boldsymbol{\\beta}}^T\\mathbf{X}^T\\mathbf{y})^T=\\mathbf{y}^T\\mathbf{X}\\hat{\\boldsymbol{\\beta}}$. -->"
      ],
      "id": "510027c3-cb44-48e0-82f5-a632325cb23f"
    },
    {
      "cell_type": "raw",
      "metadata": {
        "raw_mimetype": "text/html"
      },
      "source": [
        "<!-- To find the local extrema of $RSS(\\hat{\\boldsymbol{\\beta}})$, we set its derivative with respect to $\\hat{\\boldsymbol{\\beta}}$ equal to 0, and solve for $\\hat{\\boldsymbol{\\beta}})$. -->"
      ],
      "id": "ddd2ce38-5762-4f96-a5c7-d99bf5b43e14"
    },
    {
      "cell_type": "raw",
      "metadata": {
        "raw_mimetype": "text/html"
      },
      "source": [
        "<!-- Using the results in Appendix \\@ref(matrix-derivatives), -->"
      ],
      "id": "dd5166e9-0aef-419b-95ff-697f8bf37b26"
    },
    {
      "cell_type": "raw",
      "metadata": {
        "raw_mimetype": "text/html"
      },
      "source": [
        "<!-- we see that -->"
      ],
      "id": "e1466a98-929c-4d30-b8ce-6ef436c5e88f"
    },
    {
      "cell_type": "raw",
      "metadata": {
        "raw_mimetype": "text/html"
      },
      "source": [
        "<!-- \\[ -->"
      ],
      "id": "3c1c002b-73f4-4daa-b078-62005bb3194f"
    },
    {
      "cell_type": "raw",
      "metadata": {
        "raw_mimetype": "text/html"
      },
      "source": [
        "<!-- \\frac{\\partial RSS(\\hat{\\boldsymbol{\\beta}})}{\\partial\\hat{\\boldsymbol{\\beta}}} = -2\\mathbf{X}^T\\mathbf{y} + 2\\mathbf{X}^T\\mathbf{X}\\hat{\\boldsymbol{\\beta}}. -->"
      ],
      "id": "633d2533-45f7-4dc7-be4d-10dafdb0b577"
    },
    {
      "cell_type": "raw",
      "metadata": {
        "raw_mimetype": "text/html"
      },
      "source": [
        "<!-- \\] -->"
      ],
      "id": "c2ce89f1-e3d7-48b5-ba85-dc7dcba25218"
    },
    {
      "cell_type": "raw",
      "metadata": {
        "raw_mimetype": "text/html"
      },
      "source": [
        "<!-- Setting $\\partial RSS(\\hat{\\boldsymbol{\\beta}})/\\partial\\hat{\\boldsymbol{\\beta}}=0$ and using some simple algebra, we derive the **normal equations** -->"
      ],
      "id": "09876d6e-ac7a-40ae-b91d-471bd3460a21"
    },
    {
      "cell_type": "raw",
      "metadata": {
        "raw_mimetype": "text/html"
      },
      "source": [
        "<!-- \\[\\mathbf{X}^T\\mathbf{X}\\hat{\\boldsymbol{\\beta}}=\\mathbf{X}^T\\mathbf{y}.\\] -->"
      ],
      "id": "719189d7-d85a-4b8b-9a23-48b6793ddfbc"
    },
    {
      "cell_type": "raw",
      "metadata": {
        "raw_mimetype": "text/html"
      },
      "source": [
        "<!-- Assuming the $\\mathbf{X}^T\\mathbf{X}$ is invertible, which it will be when $\\mathbf{X}$ is full-rank, our solution is -->"
      ],
      "id": "ad1c0972-a38a-4c38-b656-2853330668de"
    },
    {
      "cell_type": "raw",
      "metadata": {
        "raw_mimetype": "text/html"
      },
      "source": [
        "<!-- \\[\\hat{\\boldsymbol{\\beta}}=(\\mathbf{X}^T\\mathbf{X})^{-1}\\mathbf{X}^T\\mathbf{y}.\\] -->"
      ],
      "id": "b2e1a5e1-b694-4fa7-8afe-96ea8e48f656"
    },
    {
      "cell_type": "raw",
      "metadata": {
        "raw_mimetype": "text/html"
      },
      "source": [
        "<!-- To show that the OLS estimator of $\\boldsymbol{\\beta}$ minimizes $RSS(\\hat{\\boldsymbol{\\beta}})$, we technically need to show that the Hessian matrix of $RSS(\\hat{\\boldsymbol{\\beta}})$, the matrix of second-order partial derivatives, is positive definite. In our context, the Hessian matrix is -->"
      ],
      "id": "1e1bd233-c33a-48dc-8848-e438323e964c"
    },
    {
      "cell_type": "raw",
      "metadata": {
        "raw_mimetype": "text/html"
      },
      "source": [
        "<!-- \\[ -->"
      ],
      "id": "1bdeb8e6-b928-4d05-afb7-b28aec2ef1d5"
    },
    {
      "cell_type": "raw",
      "metadata": {
        "raw_mimetype": "text/html"
      },
      "source": [
        "<!-- \\begin{aligned} -->"
      ],
      "id": "5046286e-fcfd-4523-b3fe-8c02b64e37b1"
    },
    {
      "cell_type": "raw",
      "metadata": {
        "raw_mimetype": "text/html"
      },
      "source": [
        "<!-- \\frac{\\partial^2 RSS(\\hat{\\boldsymbol{\\beta}})}{\\partial \\hat{\\boldsymbol{\\beta}}^2} &= \\frac{\\partial}{\\partial \\hat{\\boldsymbol{\\beta}}}(-2\\mathbf{X}^T\\mathbf{y} + 2\\mathbf{X}^T\\mathbf{X}\\hat{\\boldsymbol{\\beta}}) \\\\ -->"
      ],
      "id": "676df624-0a2b-4d4d-b2bf-600a33f1775c"
    },
    {
      "cell_type": "raw",
      "metadata": {
        "raw_mimetype": "text/html"
      },
      "source": [
        "<!-- &= 2\\mathbf{X}^T\\mathbf{X}. -->"
      ],
      "id": "0fe5ddfb-d6e1-4c9e-983e-c1f0ca3e2e87"
    },
    {
      "cell_type": "raw",
      "metadata": {
        "raw_mimetype": "text/html"
      },
      "source": [
        "<!-- \\end{aligned} -->"
      ],
      "id": "dfb2dda9-67d5-4760-9fc2-63ef8651cae0"
    },
    {
      "cell_type": "raw",
      "metadata": {
        "raw_mimetype": "text/html"
      },
      "source": [
        "<!-- \\] -->"
      ],
      "id": "263f373a-7ee3-4fe1-b3c9-a6ca3e78f871"
    },
    {
      "cell_type": "raw",
      "metadata": {
        "raw_mimetype": "text/html"
      },
      "source": [
        "<!-- The $p\\times p$ matrix $2\\mathbf{X}^T\\mathbf{X}$ is positive definite, but it is beyond the scope of the course to prove this. -->"
      ],
      "id": "9130a3be-18c0-4199-a6ec-57899f0d0db6"
    },
    {
      "cell_type": "raw",
      "metadata": {
        "raw_mimetype": "text/html"
      },
      "source": [
        "<!-- Therefore, the OLS estimator of $\\boldsymbol{\\beta}$, -->"
      ],
      "id": "b39edc99-5574-4219-935f-e2ed86ff2796"
    },
    {
      "cell_type": "raw",
      "metadata": {
        "raw_mimetype": "text/html"
      },
      "source": [
        "<!-- \\[\\hat{\\boldsymbol{\\beta}}=(\\mathbf{X}^T\\mathbf{X})^{-1}\\mathbf{X}^T\\mathbf{y}\\] -->"
      ],
      "id": "26ed955f-eeeb-4530-bbb9-9bada6540478"
    },
    {
      "cell_type": "raw",
      "metadata": {
        "raw_mimetype": "text/html"
      },
      "source": [
        "<!-- minimizes the RSS. -->"
      ],
      "id": "d4d8f1c4-ed87-4248-b3d3-93070c47a956"
    },
    {
      "cell_type": "raw",
      "metadata": {
        "raw_mimetype": "text/html"
      },
      "source": [
        "<!-- ## Manual calculation of Penguins multiple linear regression example -->"
      ],
      "id": "72a1eab1-e535-4016-8a4d-99a2fea34fc3"
    },
    {
      "cell_type": "raw",
      "metadata": {
        "raw_mimetype": "text/html"
      },
      "source": [
        "<!-- We manually verify the calculations for the `penguins` example given in Section \\@ref{s:penguins-mlr}, where we fit the multiple linear regression model regressing `bill_length_mm` on `body_mass_g` and `flipper_length_mm`. We refit the model below, specifying the argument `y = TRUE` so we can get the response vector used in the model. -->"
      ],
      "id": "296f67c2-eb56-4b3c-ad04-b6a602c1c944"
    },
    {
      "cell_type": "raw",
      "metadata": {
        "raw_mimetype": "text/html"
      },
      "source": [
        "<!-- ```{r} -->"
      ],
      "id": "395562a9-513a-4503-9a0b-b7c1669b77b1"
    },
    {
      "cell_type": "raw",
      "metadata": {
        "raw_mimetype": "text/html"
      },
      "source": [
        "<!-- # fit regression model, retaining the y vector -->"
      ],
      "id": "5807fd77-d8a5-4241-a02c-58350a5e8bc5"
    },
    {
      "cell_type": "raw",
      "metadata": {
        "raw_mimetype": "text/html"
      },
      "source": [
        "<!-- mlmod <- lm(bill_length_mm ~ body_mass_g + flipper_length_mm, -->"
      ],
      "id": "d8dd1aad-4093-4235-89c3-be40f7c3146c"
    },
    {
      "cell_type": "raw",
      "metadata": {
        "raw_mimetype": "text/html"
      },
      "source": [
        "<!--             data = penguins, y = TRUE) -->"
      ],
      "id": "fd6add51-fa7d-4ce4-b422-0c2f16056b10"
    },
    {
      "cell_type": "raw",
      "metadata": {
        "raw_mimetype": "text/html"
      },
      "source": [
        "<!-- ``` -->"
      ],
      "id": "e7a28b3c-c7fa-441b-ad0b-603a863ee3c2"
    },
    {
      "cell_type": "raw",
      "metadata": {
        "raw_mimetype": "text/html"
      },
      "source": [
        "<!-- We can use `model.matrix` to extract the $\\mathbf{X}$ matrix from our fitted model. And because we specified `y = TRUE` in our call to `lm`, we can also extract `y` from the fitted model using the code below. -->"
      ],
      "id": "76c4ad3f-09b1-49b8-afac-b7fa3225a405"
    },
    {
      "cell_type": "raw",
      "metadata": {
        "raw_mimetype": "text/html"
      },
      "source": [
        "<!-- ```{r} -->"
      ],
      "id": "73eadefc-295a-4afe-8fda-0e0694652f5b"
    },
    {
      "cell_type": "raw",
      "metadata": {
        "raw_mimetype": "text/html"
      },
      "source": [
        "<!-- # extract X matrix from fitted model -->"
      ],
      "id": "7663cb05-cf55-48d8-8afe-f8efa77868e7"
    },
    {
      "cell_type": "raw",
      "metadata": {
        "raw_mimetype": "text/html"
      },
      "source": [
        "<!-- X <- model.matrix(mlmod) -->"
      ],
      "id": "95f78024-a0e7-4f4b-bb45-4de2db5bee2b"
    },
    {
      "cell_type": "raw",
      "metadata": {
        "raw_mimetype": "text/html"
      },
      "source": [
        "<!-- # extract y vector from fitted model -->"
      ],
      "id": "30607402-a0e4-4335-a5b1-fe18f09e0a79"
    },
    {
      "cell_type": "raw",
      "metadata": {
        "raw_mimetype": "text/html"
      },
      "source": [
        "<!-- y <- mlmod$y -->"
      ],
      "id": "8f4c5cfe-8eca-4fc5-a87d-a0bead0877b1"
    },
    {
      "cell_type": "raw",
      "metadata": {
        "raw_mimetype": "text/html"
      },
      "source": [
        "<!-- ``` -->"
      ],
      "id": "a798cf7d-7354-4b42-89b9-e6fdf52763d9"
    },
    {
      "cell_type": "raw",
      "metadata": {
        "raw_mimetype": "text/html"
      },
      "source": [
        "<!-- We’ll need to learn a few new commands in R to do the calculations: -->"
      ],
      "id": "5d285524-ef46-4807-b8a0-b687d7cf151d"
    },
    {
      "cell_type": "raw",
      "metadata": {
        "raw_mimetype": "text/html"
      },
      "source": [
        "<!-- - `t` is the transpose of a matrix. -->"
      ],
      "id": "2e8b4fe4-4780-4f0a-9e4e-50119b69cec8"
    },
    {
      "cell_type": "raw",
      "metadata": {
        "raw_mimetype": "text/html"
      },
      "source": [
        "<!-- - `%*%` is the multiplication operator for two matrices. -->"
      ],
      "id": "68369bce-f258-4c93-9690-ae68f20fbcad"
    },
    {
      "cell_type": "raw",
      "metadata": {
        "raw_mimetype": "text/html"
      },
      "source": [
        "<!-- - `solve(A, b)` computes $\\mathbf{A}^{-1}\\mathbf{b}$. -->"
      ],
      "id": "dbc2a415-1b75-4dd8-9af1-32f16666d694"
    },
    {
      "cell_type": "raw",
      "metadata": {
        "raw_mimetype": "text/html"
      },
      "source": [
        "<!-- Thus, we compute $\\hat{\\boldsymbol{\\beta}}$ using the code below, which matches the estimate from the `lm` function. -->"
      ],
      "id": "87662ac2-60ca-40b0-a7a4-54786e65a6f3"
    },
    {
      "cell_type": "raw",
      "metadata": {
        "raw_mimetype": "text/html"
      },
      "source": [
        "<!-- ```{r} -->"
      ],
      "id": "75726836-cac2-4a52-a722-c6bea812eff9"
    },
    {
      "cell_type": "raw",
      "metadata": {
        "raw_mimetype": "text/html"
      },
      "source": [
        "<!-- # manually calculate betahat -->"
      ],
      "id": "1eaf2789-96d3-4c59-8543-23a13e78d64a"
    },
    {
      "cell_type": "raw",
      "metadata": {
        "raw_mimetype": "text/html"
      },
      "source": [
        "<!-- solve(t(X) %*% X, t(X) %*% y) -->"
      ],
      "id": "8ea091ed-a05a-420c-8053-0e1f28e8b737"
    },
    {
      "cell_type": "raw",
      "metadata": {
        "raw_mimetype": "text/html"
      },
      "source": [
        "<!-- # betahat from lm function -->"
      ],
      "id": "e097654e-7ca6-4a63-8697-150a631863b5"
    },
    {
      "cell_type": "raw",
      "metadata": {
        "raw_mimetype": "text/html"
      },
      "source": [
        "<!-- coef(mlmod) -->"
      ],
      "id": "6e38e8b7-efcc-4345-b7a7-8f26e0122d11"
    },
    {
      "cell_type": "raw",
      "metadata": {
        "raw_mimetype": "text/html"
      },
      "source": [
        "<!-- ``` -->"
      ],
      "id": "a85f520e-f690-42bf-b2ea-dbc7505e618f"
    },
    {
      "cell_type": "markdown",
      "metadata": {},
      "source": [
        "# References\n",
        "\n",
        "Anscombe, Francis J. 1973. “Graphs in Statistical Analysis.” The\n",
        "American Statistician 27 (1): 17–21.\n",
        "\n",
        "Ezekiel, Mordecai. 1930. “Methods of Correlation Analysis.”\n",
        "\n",
        "Gorman, Kristen B., Tony D. Williams, and William R. Fraser. 2014.\n",
        "“Ecological Sexual Dimorphism and Environmental Variability Within a\n",
        "Community of Antarctic Penguins (Genus Pygoscelis).” PLOS ONE 9 (3):\n",
        "1–14. https://doi.org/10.1371/journal.pone.0090081.\n",
        "\n",
        "Weisberg, Sanford. 2014. Applied Linear Regression. Fourth. Hoboken NJ:\n",
        "Wiley. http://z.umn.edu/alr4ed.\n",
        "\n",
        "Wilkinson, GN, and CE Rogers. 1973. “Symbolic Description of Factorial\n",
        "Models for Analysis of Variance.” Journal of the Royal Statistical\n",
        "Society: Series C (Applied Statistics) 22 (3): 392–99."
      ],
      "id": "4c96058a-8918-4e0b-ac97-74e0026fa691"
    }
  ],
  "nbformat": 4,
  "nbformat_minor": 5,
  "metadata": {
    "kernelspec": {
      "name": "ir",
      "display_name": "R",
      "language": "R"
    },
    "language_info": {
      "name": "R",
      "codemirror_mode": "r",
      "file_extension": ".r",
      "mimetype": "text/x-r-source",
      "pygments_lexer": "r",
      "version": "4.2.2"
    }
  }
}