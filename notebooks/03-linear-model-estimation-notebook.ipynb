{
  "cells": [
    {
      "cell_type": "markdown",
      "metadata": {},
      "source": [
        "# Chapter 3 - Linear Model Estimation\n",
        "\n",
        "Joshua French\n",
        "\n",
        "<a href=\"https://colab.research.google.com/github/jfrench/LinearRegression/blob/master/notebooks/03-linear-model-estimation-notebook.ipynb\">\n",
        "<img src=\"https://colab.research.google.com/assets/colab-badge.svg\">\n",
        "</a>"
      ],
      "id": "4d95cdf2-dbfb-4d20-99e1-1e870ca22930"
    },
    {
      "cell_type": "code",
      "execution_count": null,
      "metadata": {},
      "outputs": [],
      "source": [
        "if(!require(palmerpenguins, quietly = TRUE)) {\n",
        "  install.packages(\"palmerpenguins\", repos = \"https://cran.rstudio.com/\")\n",
        "  library(palmerpenguins)\n",
        "}\n",
        "if(!require(ggplot2, quietly = TRUE)) {\n",
        "  install.packages(\"ggplot2\", repos = \"https://cran.rstudio.com/\")\n",
        "  library(ggplot2)\n",
        "}"
      ],
      "id": "1e189d76-4f33-4e88-8609-f7124b334f65"
    },
    {
      "cell_type": "markdown",
      "metadata": {},
      "source": [
        "# A simple motivating example\n",
        "\n",
        "Suppose you observe data related to the heights of 5 mothers and their\n",
        "adult daughters. The data are in the table below.\n",
        "\n",
        "| observation | mother | daughter |\n",
        "|------------:|-------:|---------:|\n",
        "|           1 |   57.5 |     61.5 |\n",
        "|           2 |   60.5 |     63.5 |\n",
        "|           3 |   63.5 |     63.5 |\n",
        "|           4 |   66.5 |     66.5 |\n",
        "|           5 |   69.5 |     66.5 |\n",
        "\n",
        "Would it be reasonable to use a mother’s height to predict the height of\n",
        "her adult daughter? Consider the plot below."
      ],
      "id": "37cf365a-141d-4c08-80eb-683887031bd0"
    },
    {
      "cell_type": "code",
      "execution_count": null,
      "metadata": {},
      "outputs": [
        {
          "output_type": "display_data",
          "metadata": {},
          "data": {
            "image/png": "[encoded data removed]"
          }
        }
      ],
      "source": [
        "x <- c(57.5, 50.5, 63.5, 66.5, 69.5) # mothers' heights\n",
        "y <- c(61.5, 63.5, 63.5, 66.5, 66.5) # daughters' heights\n",
        "plot(y ~ x, pch = 19, xlab = \"mother's height (in)\", ylab = \"daughter's height (in)\")"
      ],
      "id": "4bab551d-be77-4fea-af21-c67e5de4da6f"
    },
    {
      "cell_type": "markdown",
      "metadata": {},
      "source": [
        "A **regression analysis** is the process of building a model describing\n",
        "the typical relationship between a set of observed variables.\n",
        "\n",
        "In the present context, we want to model the height of adult daughters\n",
        "using their height of their mothers. The model we build is known as a\n",
        "**regression model**.\n",
        "\n",
        "The variables in a regression analysis may be divided into two types:\n",
        "\n",
        "-   The response variable.\n",
        "-   The predictor variables.\n",
        "\n",
        "The outcome variable we are trying to predict is known as the **response\n",
        "variable**.\n",
        "\n",
        "-   Response variables are also known as **outcome**, **output**, or\n",
        "    **dependent** variables.\n",
        "-   The response variable is denoted by $Y$.\n",
        "\n",
        "The variables available to model the response variable are known as\n",
        "**predictors variables**:\n",
        "\n",
        "-   They are also called **explanatory**, **regressor**, **input**,\n",
        "    **dependent** variables or simply as **features**.\n",
        "-   Following the convention of Weisberg (2014), we use the term\n",
        "    **regressor** to refer to the variables used in our regression\n",
        "    model, whether that is the original predictor variable, some\n",
        "    transformation of a predictor, some combination of predictors, etc.\n",
        "-   Every predictor can be a regressor but not all regressors are a\n",
        "    predictor.\n",
        "-   The regressor variables are denoted as $X_1, X_2, \\ldots, X_{p-1}$.\n",
        "\n",
        "A regression analysis assumes:\n",
        "\n",
        "-   We have observed variables $X_1, X_2, \\ldots, X_{p-1}$ and $Y$ for\n",
        "    each of $n$ subjects from some population.\n",
        "-   $x_{i,j}$ denotes the value of $X_j$ for observation $i$.\n",
        "-   $Y_i$ denotes the value of $Y$ for observation $i$.\n",
        "-   If there is only a single regressor, we can denote the single\n",
        "    regressor as $X$ and the observed values of $X$ as\n",
        "    $x_1, x_2, \\ldots, x_n$.\n",
        "\n",
        "For the height data, the 5 pairs of observed data are denoted\n",
        "$$(x_1, Y_1), (x_2, Y_2), \\ldots, (x_5, Y_5),$$ with $(x_i, Y_i)$\n",
        "denoting the data for observation $i$.\n",
        "\n",
        "-   $x_i$ denotes the mother’s height for observation $i$.\n",
        "-   $Y_i$ denotes the daughter’s height for observation $i$.\n",
        "\n",
        "Suppose we want to find the straight line that best fits the plot of\n",
        "mother and daughter heights.\n",
        "\n",
        "How do we determine the “best fitting” model?\n",
        "\n",
        "Consider these potential “best fitting” lines which are drawn on the\n",
        "scatter plot of the height data. Which one is best?"
      ],
      "id": "036361a9-6fbd-4ab3-8645-ac14860ebbdc"
    },
    {
      "cell_type": "code",
      "execution_count": null,
      "metadata": {},
      "outputs": [
        {
          "output_type": "display_data",
          "metadata": {},
          "data": {
            "image/png": "[encoded data removed]"
          }
        }
      ],
      "source": [],
      "id": "29fc37fb-c70e-450e-bff2-1c2c64fae7fc"
    },
    {
      "cell_type": "markdown",
      "metadata": {},
      "source": [
        "# Estimation of the simple linear regression model\n",
        "\n",
        "**Parameter estimation** is the process of using observed data to\n",
        "estimate values for the regression coefficients.\n",
        "\n",
        "There are many different methods of parameter estimation in statistics:\n",
        "\n",
        "-   Method-of-moments.\n",
        "-   Maximum likelihood.\n",
        "-   Bayesian.\n",
        "-   Etc.\n",
        "\n",
        "The most common parameter estimation method for linear models is the\n",
        "**least squares method**, which is commonly called **Ordinary Least\n",
        "Squares (OLS)** estimation.\n",
        "\n",
        "OLS estimation estimates the regression coefficients with the values\n",
        "that minimize the residual sum of squares (RSS), which we will define\n",
        "shortly.\n",
        "\n",
        "## Model definition, fitted values, residuals, and RSS\n",
        "\n",
        "The regression model for $Y$ as a function of $X$, denoted\n",
        "$E(Y \\mid X)$, is the expected value of $Y$ conditional on the regressor\n",
        "$X$.\n",
        "\n",
        "The **simple linear regression model** for a response variable assumes\n",
        "the mean of $Y$ conditional on a single regressor $X$ is $$\n",
        "E(Y\\mid X) = \\beta_0 + \\beta_1 X.\n",
        "$$\n",
        "\n",
        "The response variable $Y$ is modeled as $$\n",
        "\\begin{aligned}\n",
        "Y &= E(Y \\mid X) + \\epsilon \\\\\n",
        "&= \\beta_0 + \\beta_1 X + \\epsilon,\n",
        "\\end{aligned}\n",
        "(\\#eq:slr-model-Y)\n",
        "$$ where $\\epsilon$ is known as the model error.\n",
        "\n",
        "The error term $\\epsilon$ is literally the deviation of the response\n",
        "variable from its mean.\n",
        "\n",
        "-   We typically assume that conditional on the regressor variable, the\n",
        "    error term has mean 0 and variance $\\sigma^2$.\n",
        "-   This is written as $$\n",
        "    E(\\epsilon \\mid X) = 0\n",
        "    $$ and $$\n",
        "    \\mathrm{var}(\\epsilon \\mid X) = \\sigma^2.\n",
        "    $$\n",
        "\n",
        "The observed data are modeled as $$\n",
        "\\begin{aligned}\n",
        "Y_i &= \\beta_0 + \\beta_1 x_i + \\epsilon \\\\\n",
        "&= E(Y\\mid X = x_i) + \\epsilon_i,\n",
        "\\end{aligned}\n",
        "$$ for $i=1$, $2$,$\\ldots$,$n$, where $\\epsilon_i$ denotes the error for\n",
        "observation $i$.\n",
        "\n",
        "The **estimated regression model** is defined as $$\n",
        "\\hat{E}(Y|X) = \\hat{\\beta}_0 + \\hat{\\beta}_1 X,\n",
        "$$ where $\\hat{\\beta}_j$ denotes the estimated value of $\\beta_j$ for\n",
        "$j=0,1$.\n",
        "\n",
        "The $i$th **fitted value** is defined as $$\n",
        "\\hat{Y}_i = \\hat{E}(Y|X = x_i) = \\hat{\\beta}_0 + \\hat{\\beta}_1 x_i. $$\n",
        "\n",
        "-   The $i$th fitted value is the estimated mean of $Y$ when the\n",
        "    regressor $X=x_i$.\n",
        "\n",
        "The $i$th **residual** is defined as $$\n",
        "\\hat{\\epsilon}_i = Y_i - \\hat{Y}_i. (\\#eq:def-residual-slr)\n",
        "$$\n",
        "\n",
        "-   The $i$th residual is the difference between the response and\n",
        "    estimated mean response of observation $i$.\n",
        "\n",
        "The **residual sum of squares (RSS)** of a regression model is the sum\n",
        "of its squared residuals. The RSS for a simple linear regression model,\n",
        "as a function of the estimated regression coefficients $\\hat{\\beta}_0$\n",
        "and $\\hat{\\beta}_1$, is defined as $$\n",
        "RSS(\\hat{\\beta}_0, \\hat{\\beta}_1) = \\sum_{i=1}^n \\hat{\\epsilon}_i^2. (\\#eq:def-rss-slr)\n",
        "$$\n",
        "\n",
        "Using the various objects defined above, there are many equivalent\n",
        "expressions for the RSS.\n",
        "\n",
        "$$\n",
        "\\begin{aligned}\n",
        "RSS(\\hat{\\beta}_0, \\hat{\\beta}_1) &= \\sum_{i=1}^n \\hat{\\epsilon}_i^2 \\\\\n",
        "&= \\sum_{i=1}^n (Y_i - \\hat{Y}_i)^2 & \\\\\n",
        "&= \\sum_{i=1}^n (Y_i - \\hat{E}(Y|X=x_i))^2 \\\\\n",
        "&= \\sum_{i=1}^n (Y_i - (\\hat{\\beta}_0 + \\hat{\\beta}_1 x_i))^2.\n",
        "\\end{aligned}\n",
        "(\\#eq:equiv-def-rss-slr)\n",
        "$$\n",
        "\n",
        "The **fitted model** is the estimated model that minimizes the RSS, and\n",
        "is written as $$\n",
        "\\hat{Y}=\\hat{E}(Y|X) = \\hat{\\beta}_0 + \\hat{\\beta}_1 X. (\\#eq:def-fitted-model-slr)\n",
        "$$\n",
        "\n",
        "-   $\\hat{Y}$ is used for brevity.\n",
        "-   $\\hat{E}(Y|X)$ is used for clarity.\n",
        "\n",
        "In a simple linear regression context, the fitted model is known as the\n",
        "**line of best fit**."
      ],
      "id": "fd1b0819-2bbf-41bb-8027-8ac391e934df"
    },
    {
      "cell_type": "code",
      "execution_count": null,
      "metadata": {},
      "outputs": [
        {
          "output_type": "display_data",
          "metadata": {},
          "data": {
            "image/png": "[encoded data removed]"
          }
        }
      ],
      "source": [],
      "id": "72698ed9-cc55-48b3-b5f9-199447b125c3"
    },
    {
      "cell_type": "markdown",
      "metadata": {},
      "source": [
        "In the graphic above, we visualize the response values, fitted values,\n",
        "residuals, and fitted model in a simple linear regression context. Note\n",
        "that:\n",
        "\n",
        "-   The fitted model is shown as the dashed grey line and minimizes the\n",
        "    RSS.\n",
        "-   The response values, shown as black dots, are the observed values of\n",
        "    $Y$.\n",
        "-   The fitted values, shown as blue x’s, are the values returned by\n",
        "    evaluating the fitted model at the observed regressor values.\n",
        "-   The residuals, shown as solid orange lines, indicate the distance\n",
        "    and direction between the observed responses and their corresponding\n",
        "    fitted value. If the response is larger than the fitted value then\n",
        "    the residual is positive, otherwise it is negative.\n",
        "-   The RSS is the sum of the squared vertical distances between the\n",
        "    response and fitted values.\n",
        "\n",
        "## OLS estimators of the simple linear regression parameters\n",
        "\n",
        "The estimators of $\\beta_0$ and $\\beta_1$ that minimize the RSS for a\n",
        "simple linear regression model can be obtained analytically using basic\n",
        "calculus (as long as $x_1,\\ldots,x_n$ are not all equal to the same\n",
        "number).\n",
        "\n",
        "Define:\n",
        "\n",
        "-   $\\bar{x}=\\frac{1}{n}\\sum_{i=1}^n x_i$.\n",
        "-   $\\bar{Y} = \\frac{1}{n}\\sum_{i=1}^n Y_i$.\n",
        "\n",
        "The OLS estimators of the simple linear regression coefficients that\n",
        "minimize the RSS are $$\n",
        "\\begin{aligned}\n",
        "\\hat{\\beta}_1 &= \\frac{\\sum_{i=1}^n x_i Y_i - \\frac{1}{n} \\biggl(\\sum_{i=1}^n x_i\\biggr)\\biggl(\\sum_{i=1}^n Y_i\\biggr)}{\\sum_{i=1}^n x_i^2 - \\frac{1}{n} \\biggl(\\sum_{i=1}^n x_i\\biggr)^2} \\notag \\\\\n",
        "&= \\frac{\\sum_{i=1}^n (x_i - \\bar{x})(Y_i - \\bar{Y})}{\\sum_{i=1}^n (x_i - \\bar{x})^2} \\notag \\\\\n",
        "&= \\frac{\\sum_{i=1}^n (x_i - \\bar{x})Y_i}{\\sum_{i=1}^n (x_i - \\bar{x})x_i}\n",
        "\\end{aligned}\n",
        "$$ and $$\n",
        "\\hat{\\beta}_0 = \\bar{Y} - \\hat{\\beta}_1 \\bar{x}.\n",
        "$$\n",
        "\n",
        "The most common estimator of the error variance is $$\n",
        "\\hat{\\sigma}^2 = \\frac{RSS}{\\mathrm{df}_{RSS}}.\n",
        "$$\n",
        "\n",
        "-   $\\mathrm{df}_{RSS}$ is the **degrees of freedom** of the RSS.\n",
        "-   For simply linear regression, $\\mathrm{df}_{RSS}=n-2$.\n",
        "\n",
        "# Penguins simple linear regression example\n",
        "\n",
        "The `penguins` data set provides data related to various penguin species\n",
        "measured in the Palmer Archipelago (Antarctica), originally provided by\n",
        "Gorman et al. (2014). We start by loading the data into memory."
      ],
      "id": "4fcb4bb5-3e6f-43c7-aace-af26a70d6190"
    },
    {
      "cell_type": "code",
      "execution_count": null,
      "metadata": {},
      "outputs": [
        {
          "output_type": "stream",
          "name": "stdout",
          "text": [
            "# A tibble: 6 × 8\n",
            "  species island    bill_length_mm bill_depth_mm flipper_l…¹ body_…² sex    year\n",
            "  <fct>   <fct>              <dbl>         <dbl>       <int>   <int> <fct> <int>\n",
            "1 Adelie  Torgersen           39.1          18.7         181    3750 male   2007\n",
            "2 Adelie  Torgersen           39.5          17.4         186    3800 fema…  2007\n",
            "3 Adelie  Torgersen           40.3          18           195    3250 fema…  2007\n",
            "4 Adelie  Torgersen           NA            NA            NA      NA <NA>   2007\n",
            "5 Adelie  Torgersen           36.7          19.3         193    3450 fema…  2007\n",
            "6 Adelie  Torgersen           39.3          20.6         190    3650 male   2007\n",
            "# … with abbreviated variable names ¹​flipper_length_mm, ²​body_mass_g"
          ]
        }
      ],
      "source": [
        "data(penguins, package = \"palmerpenguins\")\n",
        "head(penguins)"
      ],
      "id": "f7d606c4-3058-4795-9311-abe32982d5f2"
    },
    {
      "cell_type": "markdown",
      "metadata": {},
      "source": [
        "The data set includes 344 observations of 8 variables. The variables\n",
        "are:\n",
        "\n",
        "-   `species`: a `factor` indicating the penguin species.\n",
        "-   `island`: a `factor` indicating the island the penguin was observed.\n",
        "-   `bill_length_mm`: a `numeric` variable indicating the bill length in\n",
        "    millimeters.\n",
        "-   `bill_depth_mm`: a `numeric` variable indicating the bill depth in\n",
        "    millimeters.\n",
        "-   `flipper_length_mm`: an `integer` variable indicating the flipper\n",
        "    length in millimeters\n",
        "-   `body_mass_g`: an `integer` variable indicating the body mass in\n",
        "    grams.\n",
        "-   `sex`: a `factor` indicating the penguin sex (`female`, `male`).\n",
        "-   `year`: an integer denoting the study year the penguin was observed\n",
        "    (`2007`, `2008`, or `2009`).\n",
        "\n",
        "We begin by creating a scatter plot of `bill_length_mm` versus\n",
        "`body_mass_g`."
      ],
      "id": "fdd8ae8b-74d7-44a6-865b-0621b3196771"
    },
    {
      "cell_type": "code",
      "execution_count": null,
      "metadata": {},
      "outputs": [
        {
          "output_type": "display_data",
          "metadata": {},
          "data": {
            "image/png": "[encoded data removed]"
          }
        }
      ],
      "source": [
        "plot(bill_length_mm ~ body_mass_g, data = penguins,\n",
        "     ylab = \"bill length (mm)\", xlab = \"body mass (g)\",\n",
        "     main = \"Penguin size measurements\")"
      ],
      "id": "678caabf-9d4d-4f68-9de6-fdf7001ae9fe"
    },
    {
      "cell_type": "markdown",
      "metadata": {},
      "source": [
        "**Questions:**\n",
        "\n",
        "-   Is there a positive/negative association between body mass and bill\n",
        "    length?\n",
        "-   Is the relationship approximately linear?\n",
        "\n",
        "We will build a simple linear regression model that regresses\n",
        "`bill_length_mm` on `body_mass_g`.\n",
        "\n",
        "We want to estimate the parameters of the model $$\n",
        "E(\\mathtt{bill\\_length\\_mm}\\mid \\mathtt{body\\_mass\\_g})=\\beta_0+\\beta_1\\,\\mathtt{body\\_mass\\_g}.\n",
        "$$\n",
        "\n",
        "The `lm` function uses OLS estimation to fit a linear model to data. The\n",
        "function has two main arguments:\n",
        "\n",
        "-   `data`: the data frame in which the model variables are stored. This\n",
        "    can be omitted if the variables are already stored in memory.\n",
        "-   `formula`: a Wilkinson and Rogers (1973) style formula describing\n",
        "    the linear regression model. For complete details, run\n",
        "    `?stats:formula` in the Console. If `y` is the response variable and\n",
        "    `x` is an available numeric predictor, then `formula = y ~ x` tells\n",
        "    `lm` to fit the simple linear regression model\n",
        "    $E(Y|X)=\\beta_0+\\beta_1 X$."
      ],
      "id": "1fd6029c-82cf-40cc-8d86-4fd3f6a8f497"
    },
    {
      "cell_type": "code",
      "execution_count": null,
      "metadata": {},
      "outputs": [
        {
          "output_type": "stream",
          "name": "stdout",
          "text": [
            "[1] \"lm\""
          ]
        }
      ],
      "source": [
        "lmod <- lm(bill_length_mm ~ body_mass_g, data = penguins) # fit model\n",
        "class(lmod) # class of lmod"
      ],
      "id": "3aaecdb7-bf83-4f2e-8054-f556a91343ed"
    },
    {
      "cell_type": "markdown",
      "metadata": {},
      "source": [
        "The `summary` function is commonly used to summarize the results of our\n",
        "fitted model.\n",
        "\n",
        "When an `lm` object is supplied to the `summary` function, it returns:\n",
        "\n",
        "-   `Call`: the function call used to fit the model.\n",
        "-   `Residuals`: A 5-number summary of the\n",
        "    $\\hat{\\epsilon}_1, \\ldots, \\hat{\\epsilon}_n$.\n",
        "-   `Coefficients`: A table that lists:\n",
        "    -   The regressors in the fitted model.\n",
        "    -   `Estimate`: the estimated coefficient for each regressor.\n",
        "    -   `Std. Error`: the *estimated* standard error of the estimated\n",
        "        coefficients.\n",
        "    -   `t value`: the computed test statistic associated with testing\n",
        "        $H_0: \\beta_j = 0$ versus $H_a: \\beta_j \\neq 0$ for each\n",
        "        regression coefficient in the model.\n",
        "    -   `Pr(>|t|)`: the associated p-value of each test.\n",
        "-   Various summary statistics:\n",
        "    -   `Residual standard error` is the value of $\\hat{\\sigma}$, the\n",
        "        estimate of the error standard deviation. The degrees of freedom\n",
        "        is $\\mathrm{df}_{RSS}$, the number of observations minus the\n",
        "        number of estimated coefficients in the model.\n",
        "    -   `Multiple R-squared` is an estimate of model fit.\n",
        "    -   `Adjusted R-squared` is a modified version of\n",
        "        `Multiple R-squared`.\n",
        "    -   `F-statistic` is the test statistic for the test that compares\n",
        "        the model with an only an intercept to the fitted model. The\n",
        "        `DF` (degrees of freedom) values relate to the statistic under\n",
        "        the null hypothesis, and the `p-value` is the p-value for the\n",
        "        test.\n",
        "\n",
        "We use the `summary` function on `lmod` to produce the output below."
      ],
      "id": "a982d998-df2d-46c5-ae8e-2a321c837ca2"
    },
    {
      "cell_type": "code",
      "execution_count": null,
      "metadata": {},
      "outputs": [
        {
          "output_type": "stream",
          "name": "stdout",
          "text": [
            "\n",
            "Call:\n",
            "lm(formula = bill_length_mm ~ body_mass_g, data = penguins)\n",
            "\n",
            "Residuals:\n",
            "     Min       1Q   Median       3Q      Max \n",
            "-10.1251  -3.0434  -0.8089   2.0711  16.1109 \n",
            "\n",
            "Coefficients:\n",
            "             Estimate Std. Error t value Pr(>|t|)    \n",
            "(Intercept) 2.690e+01  1.269e+00   21.19   <2e-16 ***\n",
            "body_mass_g 4.051e-03  2.967e-04   13.65   <2e-16 ***\n",
            "---\n",
            "Signif. codes:  0 '***' 0.001 '**' 0.01 '*' 0.05 '.' 0.1 ' ' 1\n",
            "\n",
            "Residual standard error: 4.394 on 340 degrees of freedom\n",
            "  (2 observations deleted due to missingness)\n",
            "Multiple R-squared:  0.3542,    Adjusted R-squared:  0.3523 \n",
            "F-statistic: 186.4 on 1 and 340 DF,  p-value: < 2.2e-16"
          ]
        }
      ],
      "source": [
        "# summarize results stored in lmod\n",
        "summary(lmod)"
      ],
      "id": "f790641d-596c-4418-b29a-587cfa1ea872"
    },
    {
      "cell_type": "markdown",
      "metadata": {},
      "source": [
        "Using the output above, we see that the estimated parameters are\n",
        "$\\hat{\\beta}_0=26.9$ and $\\hat{\\beta}_1=0.004$.\n",
        "\n",
        "Our fitted model is $$\n",
        "\\widehat{\\mathtt{bill\\_length\\_mm}}=26.9+0.004 \\,\\mathtt{body\\_mass\\_g}.\n",
        "$$\n",
        "\n",
        "In the context of a simple linear regression model:\n",
        "\n",
        "-   The intercept term is the expected response when the value of the\n",
        "    regressor is zero.\n",
        "-   The slope is the expected change in the response when the regressor\n",
        "    increases by 1 unit.\n",
        "\n",
        "Thus, based on the model we fit to the `penguins` data, we can make the\n",
        "following interpretations:\n",
        "\n",
        "-   $\\hat{\\beta}_1$: If a penguin has a body mass 1 gram larger than\n",
        "    another penguin, we expect the larger penguin’s bill length to be\n",
        "    0.004 millimeters longer.\n",
        "\n",
        "-   $\\hat{\\beta}_0$: A penguin with a body mass of 0 grams is expected\n",
        "    to have a bill length of 26.9 millimeters.\n",
        "\n",
        "-   **Question:** Does the intercept term make sense physically?\n",
        "\n",
        "The `abline` function can be used to automatically overlay the fitted\n",
        "model on the observed data."
      ],
      "id": "60282284-d2c0-4483-a5e3-1f6f68999291"
    },
    {
      "cell_type": "code",
      "execution_count": null,
      "metadata": {},
      "outputs": [
        {
          "output_type": "display_data",
          "metadata": {},
          "data": {
            "image/png": "[encoded data removed]"
          }
        }
      ],
      "source": [
        "plot(bill_length_mm ~ body_mass_g,\n",
        "     data = penguins, main = \"Penguin size measurements\",\n",
        "     ylab = \"bill length (mm)\", xlab = \"body mass (g)\")\n",
        "# draw fitted line of plot\n",
        "abline(lmod)"
      ],
      "id": "3c2dd240-4841-4731-a1d5-4293e6f39ddd"
    },
    {
      "cell_type": "markdown",
      "metadata": {},
      "source": [
        "R provides many additional methods (generic functions that do something\n",
        "specific when applied to a certain type of object) for `lm` objects.\n",
        "Commonly used ones include:"
      ],
      "id": "316083ec-e70a-4ba3-918e-cbe2362fe170"
    },
    {
      "cell_type": "code",
      "execution_count": null,
      "metadata": {},
      "outputs": [
        {
          "output_type": "stream",
          "name": "stdout",
          "text": [
            " (Intercept)  body_mass_g \n",
            "26.898872424  0.004051417 "
          ]
        },
        {
          "output_type": "stream",
          "name": "stdout",
          "text": [
            "         1          2          3          5          6          7 \n",
            "-2.9916846 -2.7942554  0.2340237 -4.1762596 -2.3865430 -2.6852575 "
          ]
        },
        {
          "output_type": "stream",
          "name": "stdout",
          "text": [
            "       1        2        3        5        6        7 \n",
            "42.09168 42.29426 40.06598 40.87626 41.68654 41.58526 "
          ]
        },
        {
          "output_type": "stream",
          "name": "stdout",
          "text": [
            "       1        2        3        5        6        7 \n",
            "42.09168 42.29426 40.06598 40.87626 41.68654 41.58526 "
          ]
        },
        {
          "output_type": "stream",
          "name": "stdout",
          "text": [
            "[1] 6564.494"
          ]
        },
        {
          "output_type": "stream",
          "name": "stdout",
          "text": [
            "[1] 340"
          ]
        },
        {
          "output_type": "stream",
          "name": "stdout",
          "text": [
            "[1] 19.30734"
          ]
        }
      ],
      "source": [
        "(coeffs <- coef(lmod)) # extract, assign, and print coefficients"
      ],
      "id": "43b70e9f-9f01-461a-8baf-abfdf0f4245d"
    },
    {
      "cell_type": "markdown",
      "metadata": {},
      "source": [
        "**Question:**\n",
        "\n",
        "-   What is the RSS of the fitted model?"
      ],
      "id": "861f3f46-b276-4364-84d0-9314743c8fcd"
    },
    {
      "cell_type": "raw",
      "metadata": {
        "raw_mimetype": "text/html"
      },
      "source": [
        "<!-- # Defining a linear model -->"
      ],
      "id": "7f69bae3-9840-4f74-9e0b-f75f98b9663a"
    },
    {
      "cell_type": "raw",
      "metadata": {
        "raw_mimetype": "text/html"
      },
      "source": [
        "<!-- - $Y$ denotes the response variable. -->"
      ],
      "id": "f1886c4e-52b2-4d0c-93d7-317717f2e7bc"
    },
    {
      "cell_type": "raw",
      "metadata": {
        "raw_mimetype": "text/html"
      },
      "source": [
        "<!--     - The response variable is treated as a random variable. -->"
      ],
      "id": "3db2fd41-90ba-4469-967b-5644a9aa1c2d"
    },
    {
      "cell_type": "raw",
      "metadata": {
        "raw_mimetype": "text/html"
      },
      "source": [
        "<!--     - We will observe realizations of this random variable for each observation in our data set. -->"
      ],
      "id": "3ae96efd-3a6d-42ea-a88b-fd27d023c59b"
    },
    {
      "cell_type": "raw",
      "metadata": {
        "raw_mimetype": "text/html"
      },
      "source": [
        "<!-- - $X$ denotes a single regressor variable. $X_1, X_2, \\ldots, X_{p-1}$ denote distinct regressor variables if we are performing regression with multiple regressor variables. -->"
      ],
      "id": "1522733c-018e-486e-a119-32841b2fb56f"
    },
    {
      "cell_type": "raw",
      "metadata": {
        "raw_mimetype": "text/html"
      },
      "source": [
        "<!--     - The regressor variables are treated as non-random variables. -->"
      ],
      "id": "7fb02c7d-b263-4bf7-b6b7-44d492971dbb"
    },
    {
      "cell_type": "raw",
      "metadata": {
        "raw_mimetype": "text/html"
      },
      "source": [
        "<!--     - The observed values of the regressor variables are treated as fixed, known values. -->"
      ],
      "id": "bfa00b97-964d-4501-9c08-ca3c8e7ad573"
    },
    {
      "cell_type": "raw",
      "metadata": {
        "raw_mimetype": "text/html"
      },
      "source": [
        "<!-- - $\\mathbb{X}=\\{X_0, X_1,\\ldots,X_{p-1}\\}$ denotes the collection of all regressors under consideration, though this notation is really only needed in the context of multiple regression. $X_0$ is usually the constant regressor 1, which is needed to include an intercept in the regression model. -->"
      ],
      "id": "4e87ce41-8ceb-46ac-95a4-54028cdc0f04"
    },
    {
      "cell_type": "raw",
      "metadata": {
        "raw_mimetype": "text/html"
      },
      "source": [
        "<!-- - $\\beta_0$, $\\beta_1$, $\\ldots$, $\\beta_{p-1}$ denote **regression coefficients**. -->"
      ],
      "id": "fb3a0312-e6b2-40c5-bd49-13f5f144a5c2"
    },
    {
      "cell_type": "raw",
      "metadata": {
        "raw_mimetype": "text/html"
      },
      "source": [
        "<!--     - Regression coefficients are statistical parameters that we will estimate from our data. -->"
      ],
      "id": "fad0f198-bd0b-4cfb-b7eb-e9a231271f10"
    },
    {
      "cell_type": "raw",
      "metadata": {
        "raw_mimetype": "text/html"
      },
      "source": [
        "<!--     - The regression coefficients are treated as fixed, non-random but unknown values. -->"
      ],
      "id": "6df9ba42-4b5a-483b-8e82-9af6449e59f6"
    },
    {
      "cell_type": "raw",
      "metadata": {
        "raw_mimetype": "text/html"
      },
      "source": [
        "<!--     - Regression coefficients are not observable. -->"
      ],
      "id": "375dff84-c3be-4d58-b89a-e881c82ced88"
    },
    {
      "cell_type": "raw",
      "metadata": {
        "raw_mimetype": "text/html"
      },
      "source": [
        "<!-- - $\\epsilon$ denotes model **error**. -->"
      ],
      "id": "cbc539a0-a145-46ea-bb79-ab4e0f9ee28f"
    },
    {
      "cell_type": "raw",
      "metadata": {
        "raw_mimetype": "text/html"
      },
      "source": [
        "<!--     - The model error is more accurately described as random variation of each observation from the regression model. -->"
      ],
      "id": "ce5118d3-d727-493c-a208-cdfc89465ed3"
    },
    {
      "cell_type": "raw",
      "metadata": {
        "raw_mimetype": "text/html"
      },
      "source": [
        "<!--     - The error is treated as a random variable. -->"
      ],
      "id": "5a6177bb-9eff-41e4-b3f2-874fb9b7df25"
    },
    {
      "cell_type": "raw",
      "metadata": {
        "raw_mimetype": "text/html"
      },
      "source": [
        "<!--     - The error is assumed to have mean 0 for all values of the regressors. We write this as $E(\\epsilon \\mid \\mathbb{X}) = 0$, which is read as, \"The expected value of $\\epsilon$ conditional on knowing all the regressor values equals 0\". The notation \"$\\mid \\mathbb{X}$\" extends the notation used in Equation \\@ref(eq:slr-equation) to multiple regressors. -->"
      ],
      "id": "355c51cc-45cc-444d-a08e-ad0b0b220744"
    },
    {
      "cell_type": "raw",
      "metadata": {
        "raw_mimetype": "text/html"
      },
      "source": [
        "<!--     - The variance of the errors is assumed to be a constant value for all values of the regressors. We write this assumption as $\\mathrm{var}(\\epsilon \\mid \\mathbb{X})=\\sigma^2$. -->"
      ],
      "id": "fa7eb1ed-c614-4a7b-aa39-6b322b653b2f"
    },
    {
      "cell_type": "raw",
      "metadata": {
        "raw_mimetype": "text/html"
      },
      "source": [
        "<!--     - The error is never observable (except in the context of a simulation study where the experimenter literally defines the true model). -->"
      ],
      "id": "9de2bd9e-eb69-4350-a2fc-1890b25f4de0"
    },
    {
      "cell_type": "raw",
      "metadata": {
        "raw_mimetype": "text/html"
      },
      "source": [
        "<!-- ## Standard definition of linear model -->"
      ],
      "id": "f6cfd9d9-f847-4c33-bbfb-c8a66c4e66c5"
    },
    {
      "cell_type": "raw",
      "metadata": {
        "raw_mimetype": "text/html"
      },
      "source": [
        "<!-- In general, a linear regression model can have an arbitrary number of regressors. A **multiple linear regression** model has two or more regressors. -->"
      ],
      "id": "23ea9a2f-1a05-41dd-a1d3-ba59beb9288a"
    },
    {
      "cell_type": "raw",
      "metadata": {
        "raw_mimetype": "text/html"
      },
      "source": [
        "<!-- A **linear model** for $Y$ is defined by the equation -->"
      ],
      "id": "b382caaa-40f5-4509-9ec6-3b03a8527d7f"
    },
    {
      "cell_type": "raw",
      "metadata": {
        "raw_mimetype": "text/html"
      },
      "source": [
        "<!-- \\[ -->"
      ],
      "id": "d4dff104-5c75-4368-85d9-7b4ecd0a556d"
    },
    {
      "cell_type": "raw",
      "metadata": {
        "raw_mimetype": "text/html"
      },
      "source": [
        "<!-- \\begin{aligned} -->"
      ],
      "id": "caab8e9a-cdb7-46b3-bdd0-0ee97bb2cb7c"
    },
    {
      "cell_type": "raw",
      "metadata": {
        "raw_mimetype": "text/html"
      },
      "source": [
        "<!-- Y &= \\beta_0 + \\beta_1 X_1 + \\beta_2 X_2 + \\cdots + \\beta_{p-1} -->"
      ],
      "id": "fa550508-df7c-4cba-96f0-75b74afddda8"
    },
    {
      "cell_type": "raw",
      "metadata": {
        "raw_mimetype": "text/html"
      },
      "source": [
        "<!-- X_{p-1} + \\epsilon \\\\ -->"
      ],
      "id": "07c4fb82-92af-4fa9-a484-088ad4399407"
    },
    {
      "cell_type": "raw",
      "metadata": {
        "raw_mimetype": "text/html"
      },
      "source": [
        "<!-- &= E(Y \\mid \\mathbb{X}) + \\epsilon. -->"
      ],
      "id": "8917235a-982a-4c6a-b399-6615c53cc331"
    },
    {
      "cell_type": "raw",
      "metadata": {
        "raw_mimetype": "text/html"
      },
      "source": [
        "<!-- \\end{aligned} -->"
      ],
      "id": "13f03748-421e-4c75-bd90-677ce6b3cb67"
    },
    {
      "cell_type": "raw",
      "metadata": {
        "raw_mimetype": "text/html"
      },
      "source": [
        "<!-- (\\#eq:lmdef) -->"
      ],
      "id": "8a7b0b06-1d95-4bd7-b996-82bd550f9671"
    },
    {
      "cell_type": "raw",
      "metadata": {
        "raw_mimetype": "text/html"
      },
      "source": [
        "<!-- \\] -->"
      ],
      "id": "989c2759-5c3c-463f-8cbc-c1f637878026"
    },
    {
      "cell_type": "raw",
      "metadata": {
        "raw_mimetype": "text/html"
      },
      "source": [
        "<!-- We write the linear model in this way to emphasize the fact *the response value equals the expected response for that combination of regressor values plus some error*. It should be clear from comparing Equation \\@ref(eq:lmdef) with the previous line that -->"
      ],
      "id": "9a91c9eb-7d87-4ecd-9eb5-a29cddec4109"
    },
    {
      "cell_type": "raw",
      "metadata": {
        "raw_mimetype": "text/html"
      },
      "source": [
        "<!-- \\[ -->"
      ],
      "id": "0d9b13d2-4776-4dc1-a580-d684c0528473"
    },
    {
      "cell_type": "raw",
      "metadata": {
        "raw_mimetype": "text/html"
      },
      "source": [
        "<!-- E(Y \\mid \\mathbb{X}) = \\beta_0 + \\beta_1 X_1 + \\beta_2 X_2 + \\cdots + \\beta_{p-1} X_{p-1}, -->"
      ],
      "id": "f21b4de7-6cfa-4579-9c20-6b4338dce5bf"
    },
    {
      "cell_type": "raw",
      "metadata": {
        "raw_mimetype": "text/html"
      },
      "source": [
        "<!-- \\] -->"
      ],
      "id": "9c9dca62-4efc-42d4-87e7-a4b80d0adc77"
    },
    {
      "cell_type": "raw",
      "metadata": {
        "raw_mimetype": "text/html"
      },
      "source": [
        "<!-- --- -->"
      ],
      "id": "039e2a8b-a393-4abf-98f6-647515d78a9b"
    },
    {
      "cell_type": "raw",
      "metadata": {
        "raw_mimetype": "text/html"
      },
      "source": [
        "<!-- More generally, one can say that a regression model is linear if the mean function can be written as a linear combination of the regression coefficients and known values created from our regressor variables, i.e., -->"
      ],
      "id": "1c165dfa-7ad8-42e0-b604-c254dbc7c6f1"
    },
    {
      "cell_type": "raw",
      "metadata": {
        "raw_mimetype": "text/html"
      },
      "source": [
        "<!-- \\[ -->"
      ],
      "id": "248cf9ee-c144-4712-a445-a64548097e78"
    },
    {
      "cell_type": "raw",
      "metadata": {
        "raw_mimetype": "text/html"
      },
      "source": [
        "<!-- E(Y \\mid \\mathbb{X}) = \\sum_{j=0}^{p-1} c_j \\beta_j, (\\#eq:lmdef-cj) -->"
      ],
      "id": "1dc0412f-d3de-454d-8af4-75d10cdb5ffb"
    },
    {
      "cell_type": "raw",
      "metadata": {
        "raw_mimetype": "text/html"
      },
      "source": [
        "<!-- \\] -->"
      ],
      "id": "e3e63cc8-c544-4671-a42b-21d6442c81ed"
    },
    {
      "cell_type": "raw",
      "metadata": {
        "raw_mimetype": "text/html"
      },
      "source": [
        "<!-- where $c_0, c_1, \\ldots, c_{p-1}$ are known functions of -->"
      ],
      "id": "9a2e4266-8e62-4534-b55c-b0c90d3d6f4d"
    },
    {
      "cell_type": "raw",
      "metadata": {
        "raw_mimetype": "text/html"
      },
      "source": [
        "<!-- the regressor variables, e.g., $c_1 = X_1 X_2 X_3$, $c_3 = X_2^2$, -->"
      ],
      "id": "973ce4cb-4ce3-4b20-bcff-8e79ab537268"
    },
    {
      "cell_type": "raw",
      "metadata": {
        "raw_mimetype": "text/html"
      },
      "source": [
        "<!-- $c_8 = \\ln(X_1)/X_2^2$, etc. Thus, if $g_0,\\ldots,g_{p-1}$ are functions of $\\mathbb{X}$, then we can say that the regression model is linear if -->"
      ],
      "id": "c6e7a8ac-ee42-4832-b779-667244814fc7"
    },
    {
      "cell_type": "raw",
      "metadata": {
        "raw_mimetype": "text/html"
      },
      "source": [
        "<!-- it can be written as -->"
      ],
      "id": "7f1efd49-5401-44fa-8dcc-d28f146613b0"
    },
    {
      "cell_type": "raw",
      "metadata": {
        "raw_mimetype": "text/html"
      },
      "source": [
        "<!-- \\[ -->"
      ],
      "id": "d64e12cd-8cea-49d8-9cfd-470c7c86e7d2"
    },
    {
      "cell_type": "raw",
      "metadata": {
        "raw_mimetype": "text/html"
      },
      "source": [
        "<!-- E(Y\\mid \\mathbb{X}) = \\sum_{j=0}^{p-1} g_j(\\mathbb{X})\\beta_j. -->"
      ],
      "id": "0bd634e6-b913-4d45-b6f6-4371f1ec0cc9"
    },
    {
      "cell_type": "raw",
      "metadata": {
        "raw_mimetype": "text/html"
      },
      "source": [
        "<!-- \\] -->"
      ],
      "id": "54751901-838f-4dbd-ae81-4b9ae91594a2"
    },
    {
      "cell_type": "raw",
      "metadata": {
        "raw_mimetype": "text/html"
      },
      "source": [
        "<!-- --- -->"
      ],
      "id": "93ac2ae0-de04-460b-b58f-74ebff2b5ebc"
    },
    {
      "cell_type": "raw",
      "metadata": {
        "raw_mimetype": "text/html"
      },
      "source": [
        "<!-- A model is linear because of its *form*, not the shape it produces. Many of the linear model examples given below do not result in a straight line or surface, but are curved. Some examples of linear regression models are: -->"
      ],
      "id": "872ac753-907e-49e4-a996-4796a024b441"
    },
    {
      "cell_type": "raw",
      "metadata": {
        "raw_mimetype": "text/html"
      },
      "source": [
        "<!-- -   $E(Y|X) = \\beta_0$. -->"
      ],
      "id": "48c95fc1-5a7b-4a0b-ae02-42bc46eaae3b"
    },
    {
      "cell_type": "raw",
      "metadata": {
        "raw_mimetype": "text/html"
      },
      "source": [
        "<!-- -   $E(Y|X) = \\beta_0 + +\\beta_1 X + \\beta_2 X^2$. -->"
      ],
      "id": "afd76fd4-566c-4165-9267-07b9c37f6fd4"
    },
    {
      "cell_type": "raw",
      "metadata": {
        "raw_mimetype": "text/html"
      },
      "source": [
        "<!-- -   $E(Y|X_1, X_2) = \\beta_0 + \\beta_1 X_1 + \\beta_2 X_2$. -->"
      ],
      "id": "6f59d79e-e41e-423b-8f3f-1fe30fd4955b"
    },
    {
      "cell_type": "raw",
      "metadata": {
        "raw_mimetype": "text/html"
      },
      "source": [
        "<!-- -   $E(Y|X_1, X_2) = \\beta_0 + \\beta_1 X_1 + \\beta_2 X_2 + \\beta_3 X_1 X_2$. -->"
      ],
      "id": "1dc2d58a-1c15-4f38-8458-853eb171cd2c"
    },
    {
      "cell_type": "raw",
      "metadata": {
        "raw_mimetype": "text/html"
      },
      "source": [
        "<!-- -   $E(Y|X_1, X_2) = \\beta_0 + \\beta_1 \\ln(X_1) + \\beta_2 X_2^{-1}$. -->"
      ],
      "id": "757d2a47-aadb-4964-8ed3-0ef42e274f63"
    },
    {
      "cell_type": "raw",
      "metadata": {
        "raw_mimetype": "text/html"
      },
      "source": [
        "<!-- -   $E(\\ln(Y)|X_1, X_2) = \\beta_0 + \\beta_1 X_1 + \\beta_2 X_2$. -->"
      ],
      "id": "e9b88b00-d214-499c-bbbe-72a575f6860a"
    },
    {
      "cell_type": "raw",
      "metadata": {
        "raw_mimetype": "text/html"
      },
      "source": [
        "<!-- -   $E(Y^{-1}|X_1, X_2) = \\beta_0 + \\beta_1 X_1 + \\beta_2 X_2$. -->"
      ],
      "id": "f93c78ee-bce3-4926-b441-8218ebc3708a"
    },
    {
      "cell_type": "raw",
      "metadata": {
        "raw_mimetype": "text/html"
      },
      "source": [
        "<!-- Some examples of non-linear regression models are: -->"
      ],
      "id": "15cc5df4-4fd2-441c-9174-0fea0a3d9832"
    },
    {
      "cell_type": "raw",
      "metadata": {
        "raw_mimetype": "text/html"
      },
      "source": [
        "<!-- -   $E(Y|X) = \\beta_0 + e^{\\beta_1 X}$. -->"
      ],
      "id": "2b27fa4f-6dbd-460a-901c-2ad9f124b6f5"
    },
    {
      "cell_type": "raw",
      "metadata": {
        "raw_mimetype": "text/html"
      },
      "source": [
        "<!-- -   $E(Y|X) = \\beta_0 + \\beta_1 X/(\\beta_2 + X)$. -->"
      ],
      "id": "f81f8fd1-41f3-4044-b059-7019db1633ec"
    },
    {
      "cell_type": "raw",
      "metadata": {
        "raw_mimetype": "text/html"
      },
      "source": [
        "<!-- The latter regression models are non-linear models because there is no way to express them using the expression in Equation \\@ref(eq:lmdef-cj). -->"
      ],
      "id": "e059e995-c2be-4c09-a196-3baf1360672d"
    },
    {
      "cell_type": "raw",
      "metadata": {
        "raw_mimetype": "text/html"
      },
      "source": [
        "<!-- # Estimation of the multiple linear regression model -->"
      ],
      "id": "58afee7e-06d1-4f26-b65c-7f811f7eca62"
    },
    {
      "cell_type": "raw",
      "metadata": {
        "raw_mimetype": "text/html"
      },
      "source": [
        "<!-- Suppose we want to estimate the parameters of a linear model with 1 or more regressors, i.e., when we use the model -->"
      ],
      "id": "930064e5-e9bb-424d-b896-cd38dbe313bb"
    },
    {
      "cell_type": "raw",
      "metadata": {
        "raw_mimetype": "text/html"
      },
      "source": [
        "<!-- \\[ -->"
      ],
      "id": "6f27ecb0-baec-4b92-9038-cc237d1af2fc"
    },
    {
      "cell_type": "raw",
      "metadata": {
        "raw_mimetype": "text/html"
      },
      "source": [
        "<!-- Y=\\beta_0 + \\beta_1 X_1 + \\cdots + \\beta_{p-1} X_{p-1} + \\epsilon. -->"
      ],
      "id": "adfc9765-caf2-4e2b-b499-fccd953ea312"
    },
    {
      "cell_type": "raw",
      "metadata": {
        "raw_mimetype": "text/html"
      },
      "source": [
        "<!-- \\] -->"
      ],
      "id": "3f278e74-8941-4efc-99f5-2581831bcfaa"
    },
    {
      "cell_type": "raw",
      "metadata": {
        "raw_mimetype": "text/html"
      },
      "source": [
        "<!-- The system of equations relating the responses, the regressors, and the errors for all $n$ observations can be written as -->"
      ],
      "id": "3ba4f550-588a-4055-b58e-44abd428943c"
    },
    {
      "cell_type": "raw",
      "metadata": {
        "raw_mimetype": "text/html"
      },
      "source": [
        "<!-- \\[ -->"
      ],
      "id": "39f5803c-45d0-4ea6-921b-dcf05b8eb4c5"
    },
    {
      "cell_type": "raw",
      "metadata": {
        "raw_mimetype": "text/html"
      },
      "source": [
        "<!-- Y_i = \\beta_0 + \\beta_1 x_{i,1} + \\beta_2 x_{i,2} + \\cdots + \\beta_{p-1} x_{i,p-1} + \\epsilon_i,\\quad i=1,2,\\ldots,n. -->"
      ],
      "id": "0fb70597-e2fe-463c-8958-7bf8e25ac609"
    },
    {
      "cell_type": "raw",
      "metadata": {
        "raw_mimetype": "text/html"
      },
      "source": [
        "<!-- (\\#eq:lmSystem) -->"
      ],
      "id": "643c03f2-3c35-444d-a228-8acb88efd319"
    },
    {
      "cell_type": "raw",
      "metadata": {
        "raw_mimetype": "text/html"
      },
      "source": [
        "<!-- \\] -->"
      ],
      "id": "ed3ab3e0-d60e-4e93-a301-35a23d62af0c"
    },
    {
      "cell_type": "raw",
      "metadata": {
        "raw_mimetype": "text/html"
      },
      "source": [
        "<!-- ## Using matrix notation to represent a linear model -->"
      ],
      "id": "ae67d8f0-9c0b-4fea-8bad-5d28eee3f0e6"
    },
    {
      "cell_type": "raw",
      "metadata": {
        "raw_mimetype": "text/html"
      },
      "source": [
        "<!-- We can simplify the linear model described in Equation \\@ref(eq:lmSystem) using matrix notation. It may be useful to refer to Appendix \\@ref(overview-of-matrix-facts) for a brief overview of matrix-related information. -->"
      ],
      "id": "942f2c1f-db61-47a0-9446-9d5e2f0a1119"
    },
    {
      "cell_type": "raw",
      "metadata": {
        "raw_mimetype": "text/html"
      },
      "source": [
        "<!-- We use the following notation: -->"
      ],
      "id": "d09fe456-2c1f-4502-9d75-c12f55dbf4bc"
    },
    {
      "cell_type": "raw",
      "metadata": {
        "raw_mimetype": "text/html"
      },
      "source": [
        "<!-- -   $\\mathbf{y} = [Y_1, Y_2, \\ldots, Y_n]$ denotes the column vector containing the $n$ observed response values. -->"
      ],
      "id": "64cd4a6f-a93e-4ecb-a433-a108bb9b51ae"
    },
    {
      "cell_type": "raw",
      "metadata": {
        "raw_mimetype": "text/html"
      },
      "source": [
        "<!-- -   $\\mathbf{X}$ denotes the matrix containing a column of 1s and the observed regressor values for $X_1, X_2, \\ldots, X_{p-1}$. This may be written as -->"
      ],
      "id": "25891b3c-87e9-49b4-9db1-7e79c539ab76"
    },
    {
      "cell_type": "raw",
      "metadata": {
        "raw_mimetype": "text/html"
      },
      "source": [
        "<!--     \\[\\mathbf{X} = \\begin{bmatrix} -->"
      ],
      "id": "9aa3b726-458f-45d2-a362-9bb90b95d0ac"
    },
    {
      "cell_type": "raw",
      "metadata": {
        "raw_mimetype": "text/html"
      },
      "source": [
        "<!--     1 & x_{1,1} & x_{1,2} & \\cdots & x_{1,p-1} \\\\ -->"
      ],
      "id": "dafede83-bc89-43a3-b637-ec8a4d378705"
    },
    {
      "cell_type": "raw",
      "metadata": {
        "raw_mimetype": "text/html"
      },
      "source": [
        "<!--     1 & x_{2,1} & x_{2,2} & \\cdots & x_{2,p-1} \\\\ -->"
      ],
      "id": "801d5a1a-d8b5-497a-805c-d980fa0937b0"
    },
    {
      "cell_type": "raw",
      "metadata": {
        "raw_mimetype": "text/html"
      },
      "source": [
        "<!--     \\vdots & \\vdots & \\vdots & \\vdots & \\vdots \\\\ -->"
      ],
      "id": "8e5dfaf0-e5ca-4807-b0bc-d8ecc52c4941"
    },
    {
      "cell_type": "raw",
      "metadata": {
        "raw_mimetype": "text/html"
      },
      "source": [
        "<!--     1 & x_{n,1} & x_{n,2} & \\cdots & x_{n,p-1} -->"
      ],
      "id": "41bbe0f5-6af8-4e37-a5bf-b02aae2bd8b0"
    },
    {
      "cell_type": "raw",
      "metadata": {
        "raw_mimetype": "text/html"
      },
      "source": [
        "<!--     \\end{bmatrix}.\\] -->"
      ],
      "id": "9d37de11-2f44-4283-af9d-6983064cf1e1"
    },
    {
      "cell_type": "raw",
      "metadata": {
        "raw_mimetype": "text/html"
      },
      "source": [
        "<!-- -   $\\boldsymbol{\\beta} = [\\beta_0, \\beta_1, \\ldots, \\beta_{p-1}]$ denotes the column vector containing the $p$ regression coefficients. -->"
      ],
      "id": "6276c9d1-1342-42f1-95b2-78c61c6a6c11"
    },
    {
      "cell_type": "raw",
      "metadata": {
        "raw_mimetype": "text/html"
      },
      "source": [
        "<!-- -   $\\boldsymbol{\\epsilon} = [\\epsilon_1, \\epsilon_2, \\ldots, \\epsilon_n]$ denotes the column vector contained the $n$ errors. -->"
      ],
      "id": "dcce005c-0340-421d-b543-7583ad7bfe0d"
    },
    {
      "cell_type": "raw",
      "metadata": {
        "raw_mimetype": "text/html"
      },
      "source": [
        "<!-- --- -->"
      ],
      "id": "cf339649-bd75-4de8-b85c-e04fcdb24e8a"
    },
    {
      "cell_type": "raw",
      "metadata": {
        "raw_mimetype": "text/html"
      },
      "source": [
        "<!-- The system of equations defining the linear model in Equation \\@ref(eq:lmSystem) can be written as -->"
      ],
      "id": "a8732c12-a3b4-4dd2-816f-fe44c5d8b6d0"
    },
    {
      "cell_type": "raw",
      "metadata": {
        "raw_mimetype": "text/html"
      },
      "source": [
        "<!-- \\[ -->"
      ],
      "id": "9a44bb7d-07d4-4baa-b23e-34f38e10dfd3"
    },
    {
      "cell_type": "raw",
      "metadata": {
        "raw_mimetype": "text/html"
      },
      "source": [
        "<!-- \\mathbf{y} = \\mathbf{X}\\boldsymbol{\\beta} + \\boldsymbol{\\epsilon}. -->"
      ],
      "id": "562bb826-9ca9-4132-9156-7cdb76e06673"
    },
    {
      "cell_type": "raw",
      "metadata": {
        "raw_mimetype": "text/html"
      },
      "source": [
        "<!-- \\] -->"
      ],
      "id": "aecc4c1f-36e4-41a7-bad3-d4bc25d9fdca"
    },
    {
      "cell_type": "raw",
      "metadata": {
        "raw_mimetype": "text/html"
      },
      "source": [
        "<!-- Thus, matrix notation can be used to represent a system of linear equations. A model that cannot be represented as a system of linear equations using matrices is not a linear model. -->"
      ],
      "id": "dd990d20-8a26-4655-9631-33aa7e23a99e"
    },
    {
      "cell_type": "raw",
      "metadata": {
        "raw_mimetype": "text/html"
      },
      "source": [
        "<!-- ## Residuals, fitted values, and RSS for multiple linear regression  -->"
      ],
      "id": "0124f472-cc86-4a08-bfeb-994bb2298084"
    },
    {
      "cell_type": "raw",
      "metadata": {
        "raw_mimetype": "text/html"
      },
      "source": [
        "<!-- We now discuss of residuals, fitted values, and RSS for the multiple linear regression context using matrix notation. -->"
      ],
      "id": "e5f9cf2a-222e-4f5d-97f2-830801d74120"
    },
    {
      "cell_type": "raw",
      "metadata": {
        "raw_mimetype": "text/html"
      },
      "source": [
        "<!-- The vector of estimated values for the coefficients contained in $\\boldsymbol{\\beta}$ is denoted -->"
      ],
      "id": "05aedaae-dd16-41f2-bb30-e197d5fa592c"
    },
    {
      "cell_type": "raw",
      "metadata": {
        "raw_mimetype": "text/html"
      },
      "source": [
        "<!-- \\[ -->"
      ],
      "id": "6c1d2d55-d135-40f5-bdc5-6f49bdadea29"
    },
    {
      "cell_type": "raw",
      "metadata": {
        "raw_mimetype": "text/html"
      },
      "source": [
        "<!-- \\hat{\\boldsymbol{\\beta}}=[\\hat{\\beta}_0,\\hat{\\beta}_1,\\ldots,\\hat{\\beta}_{p-1}]. (\\#eq:def-beta-matrix) -->"
      ],
      "id": "3ee0ba50-0dbb-4a98-8162-88830af4cfc0"
    },
    {
      "cell_type": "raw",
      "metadata": {
        "raw_mimetype": "text/html"
      },
      "source": [
        "<!-- \\] -->"
      ],
      "id": "ac1b9f9a-e2a4-4ac4-a304-2cdc056da719"
    },
    {
      "cell_type": "raw",
      "metadata": {
        "raw_mimetype": "text/html"
      },
      "source": [
        "<!-- The vector of regressor values for the $i$th observation is denoted -->"
      ],
      "id": "8ceb80fe-8803-4452-8907-bd47ea917b77"
    },
    {
      "cell_type": "raw",
      "metadata": {
        "raw_mimetype": "text/html"
      },
      "source": [
        "<!-- \\[ -->"
      ],
      "id": "cd9b5baa-210c-49e4-8cfb-0abf32702e02"
    },
    {
      "cell_type": "raw",
      "metadata": {
        "raw_mimetype": "text/html"
      },
      "source": [
        "<!-- \\mathbf{x}_i=[1,x_{i,1},\\ldots,x_{i,p-1}], (\\#eq:def-ith-regressor-matrix) -->"
      ],
      "id": "0a9af2e0-3498-4c3c-bcd8-d88c0825b68c"
    },
    {
      "cell_type": "raw",
      "metadata": {
        "raw_mimetype": "text/html"
      },
      "source": [
        "<!-- \\] -->"
      ],
      "id": "6558fdc1-7835-4ded-880c-bfc8eaee705a"
    },
    {
      "cell_type": "raw",
      "metadata": {
        "raw_mimetype": "text/html"
      },
      "source": [
        "<!-- * **Question:** Why do we include a vector of $1$'s? -->"
      ],
      "id": "0788f99f-0627-45ba-9e64-ca9b7d7c6a9a"
    },
    {
      "cell_type": "raw",
      "metadata": {
        "raw_mimetype": "text/html"
      },
      "source": [
        "<!-- --- -->"
      ],
      "id": "ff954bb0-2ae0-4492-abce-9ca23119c72f"
    },
    {
      "cell_type": "raw",
      "metadata": {
        "raw_mimetype": "text/html"
      },
      "source": [
        "<!-- Extending the original definition of a fitted value in Equation \\@ref(eq:def-fitted-value-slr), the $i$th **fitted value** in the context of multiple linear regression is defined as -->"
      ],
      "id": "66dbcd8d-4ded-428d-805c-6d09ceb664b8"
    },
    {
      "cell_type": "raw",
      "metadata": {
        "raw_mimetype": "text/html"
      },
      "source": [
        "<!-- \\[ -->"
      ],
      "id": "b2c3afa4-70f4-434b-97de-222a911a3800"
    },
    {
      "cell_type": "raw",
      "metadata": {
        "raw_mimetype": "text/html"
      },
      "source": [
        "<!-- \\begin{aligned} -->"
      ],
      "id": "ae9cbf2b-a530-4d92-b687-80dc146a1b34"
    },
    {
      "cell_type": "raw",
      "metadata": {
        "raw_mimetype": "text/html"
      },
      "source": [
        "<!-- \\hat{Y}_i &= \\hat{E}(Y \\mid \\mathbb{X} = \\mathbf{x}_i) \\\\ -->"
      ],
      "id": "83d0b552-60ed-42fa-9d9a-da758d00a529"
    },
    {
      "cell_type": "raw",
      "metadata": {
        "raw_mimetype": "text/html"
      },
      "source": [
        "<!-- &= \\hat{\\beta}_0 + \\hat{\\beta}_1 x_{i,1} + \\cdots + \\hat{\\beta}_{p-1} x_{i,p-1} \\\\ -->"
      ],
      "id": "52f64b75-9ec9-478d-8da3-d5efaed3a946"
    },
    {
      "cell_type": "raw",
      "metadata": {
        "raw_mimetype": "text/html"
      },
      "source": [
        "<!-- &= \\mathbf{x}_i^T\\hat{\\boldsymbol{\\beta}}. -->"
      ],
      "id": "39248e92-6c40-4f79-bde9-c15ae0536c99"
    },
    {
      "cell_type": "raw",
      "metadata": {
        "raw_mimetype": "text/html"
      },
      "source": [
        "<!-- \\end{aligned} -->"
      ],
      "id": "6401834e-e5cf-4b37-a4a7-bc3a6bf838ed"
    },
    {
      "cell_type": "raw",
      "metadata": {
        "raw_mimetype": "text/html"
      },
      "source": [
        "<!-- (\\#eq:def-fitted-value-matrix) -->"
      ],
      "id": "d13b9f2f-eaef-400c-adfd-f5b9d579d875"
    },
    {
      "cell_type": "raw",
      "metadata": {
        "raw_mimetype": "text/html"
      },
      "source": [
        "<!-- \\] -->"
      ],
      "id": "5bf22e9e-5ea0-4430-86b8-ce3057b88e9a"
    },
    {
      "cell_type": "raw",
      "metadata": {
        "raw_mimetype": "text/html"
      },
      "source": [
        "<!-- The notation \"$\\mathbb{X} = \\mathbf{x}_i$\" is a concise way of saying \"$X_0 = 1, X_1=x_{i,1}, \\ldots, X_{p-1}=x_{i,p-1}$\". -->"
      ],
      "id": "ccc3461c-eb2c-4388-80d5-ac84da26653e"
    },
    {
      "cell_type": "raw",
      "metadata": {
        "raw_mimetype": "text/html"
      },
      "source": [
        "<!-- The column vector of fitted values is defined as -->"
      ],
      "id": "ba2190b6-8211-47f2-b0cc-236e8f92582f"
    },
    {
      "cell_type": "raw",
      "metadata": {
        "raw_mimetype": "text/html"
      },
      "source": [
        "<!-- \\[ -->"
      ],
      "id": "dd9f4242-b63d-42fa-898c-82a5ad7696dc"
    },
    {
      "cell_type": "raw",
      "metadata": {
        "raw_mimetype": "text/html"
      },
      "source": [
        "<!-- \\hat{\\mathbf{y}} = [\\hat{Y}_1,\\ldots,\\hat{Y}_n], (\\#eq:def-fitted-values-matrix) -->"
      ],
      "id": "c2f5f8d6-35ee-4966-a0c3-7824eccf2032"
    },
    {
      "cell_type": "raw",
      "metadata": {
        "raw_mimetype": "text/html"
      },
      "source": [
        "<!-- \\] -->"
      ],
      "id": "8a952b18-b3ef-4512-b58b-7df3deff5319"
    },
    {
      "cell_type": "raw",
      "metadata": {
        "raw_mimetype": "text/html"
      },
      "source": [
        "<!-- and can be computed as -->"
      ],
      "id": "e584f8ee-d128-4f56-b51d-0f50e642820a"
    },
    {
      "cell_type": "raw",
      "metadata": {
        "raw_mimetype": "text/html"
      },
      "source": [
        "<!-- \\[ -->"
      ],
      "id": "a66a1110-329c-4d9b-9a6c-cd178350febe"
    },
    {
      "cell_type": "raw",
      "metadata": {
        "raw_mimetype": "text/html"
      },
      "source": [
        "<!-- \\hat{\\mathbf{y}} = \\mathbf{X}\\hat{\\boldsymbol{\\beta}}. (\\#eq:compute-yhat) -->"
      ],
      "id": "dcad0afd-cd3c-4cbb-a42e-0b6d93e90ad3"
    },
    {
      "cell_type": "raw",
      "metadata": {
        "raw_mimetype": "text/html"
      },
      "source": [
        "<!-- \\] -->"
      ],
      "id": "6f292509-ec25-4543-a142-58b864518ddb"
    },
    {
      "cell_type": "raw",
      "metadata": {
        "raw_mimetype": "text/html"
      },
      "source": [
        "<!-- --- -->"
      ],
      "id": "13668093-ce73-46e9-bc4a-7dc9b9c16b10"
    },
    {
      "cell_type": "raw",
      "metadata": {
        "raw_mimetype": "text/html"
      },
      "source": [
        "<!-- Extending the original definition of a residual in Equation \\@ref(eq:def-residual-slr), -->"
      ],
      "id": "5f227852-2e43-4785-a0f0-4ed37d168bd1"
    },
    {
      "cell_type": "raw",
      "metadata": {
        "raw_mimetype": "text/html"
      },
      "source": [
        "<!-- the $i$th **residual** in the context of multiple linear regression can be written as -->"
      ],
      "id": "71272fbc-e097-4aa8-9c57-7d94064b936b"
    },
    {
      "cell_type": "raw",
      "metadata": {
        "raw_mimetype": "text/html"
      },
      "source": [
        "<!-- \\[ -->"
      ],
      "id": "6bcae354-e6fa-4b0b-ac55-28b9834acd0e"
    },
    {
      "cell_type": "raw",
      "metadata": {
        "raw_mimetype": "text/html"
      },
      "source": [
        "<!-- \\begin{aligned} -->"
      ],
      "id": "1486366a-0368-4b16-aaa9-e2437341b6ba"
    },
    {
      "cell_type": "raw",
      "metadata": {
        "raw_mimetype": "text/html"
      },
      "source": [
        "<!-- \\hat{\\epsilon}_i = Y_i - \\hat{Y}_i=Y_i-\\mathbf{x}_i^T\\hat{\\boldsymbol{\\beta}}, -->"
      ],
      "id": "0145f102-4e87-4cf3-9c02-4ced5979ee24"
    },
    {
      "cell_type": "raw",
      "metadata": {
        "raw_mimetype": "text/html"
      },
      "source": [
        "<!-- \\end{aligned} -->"
      ],
      "id": "9d1593c5-6eab-4611-8f20-79907b2731a7"
    },
    {
      "cell_type": "raw",
      "metadata": {
        "raw_mimetype": "text/html"
      },
      "source": [
        "<!-- \\] -->"
      ],
      "id": "f5ec3753-a578-4656-b133-bce2365b71fd"
    },
    {
      "cell_type": "raw",
      "metadata": {
        "raw_mimetype": "text/html"
      },
      "source": [
        "<!-- using Equation \\@ref(eq:def-fitted-value-matrix). -->"
      ],
      "id": "4a0333be-dfaf-4b17-a8df-8220e7a19171"
    },
    {
      "cell_type": "raw",
      "metadata": {
        "raw_mimetype": "text/html"
      },
      "source": [
        "<!-- The column vector of residuals is defined as -->"
      ],
      "id": "a53ef3b5-f4c1-4a5a-ab94-b08ec9a1bc3e"
    },
    {
      "cell_type": "raw",
      "metadata": {
        "raw_mimetype": "text/html"
      },
      "source": [
        "<!-- \\[ -->"
      ],
      "id": "445766b6-3c50-4030-b131-ad5f0cfd64da"
    },
    {
      "cell_type": "raw",
      "metadata": {
        "raw_mimetype": "text/html"
      },
      "source": [
        "<!-- \\hat{\\boldsymbol{\\epsilon}} = [\\hat{\\epsilon}_1,\\ldots,\\hat{\\epsilon}_n]. (\\#eq:def-residuals-matrix) -->"
      ],
      "id": "0dad1efe-11be-421f-af87-e18b0b9b6bbc"
    },
    {
      "cell_type": "raw",
      "metadata": {
        "raw_mimetype": "text/html"
      },
      "source": [
        "<!-- \\] -->"
      ],
      "id": "ede108b6-909e-4b16-8584-c69fbe537266"
    },
    {
      "cell_type": "raw",
      "metadata": {
        "raw_mimetype": "text/html"
      },
      "source": [
        "<!-- Using Equations \\@ref(eq:def-fitted-values-matrix) and \\@ref(eq:compute-yhat), equivalent expressions for the residual vector are -->"
      ],
      "id": "912047c3-2abc-450d-8000-4b074b0fcdd9"
    },
    {
      "cell_type": "raw",
      "metadata": {
        "raw_mimetype": "text/html"
      },
      "source": [
        "<!-- \\[ -->"
      ],
      "id": "d806c18b-8531-44b5-a0fb-ebd62b49582f"
    },
    {
      "cell_type": "raw",
      "metadata": {
        "raw_mimetype": "text/html"
      },
      "source": [
        "<!-- \\hat{\\boldsymbol{\\epsilon}}=\\mathbf{y}-\\hat{\\mathbf{y}}=\\mathbf{y}-\\mathbf{X}\\hat{\\boldsymbol{\\beta}}.(\\#eq:epsilonhat-expressions) -->"
      ],
      "id": "5831db9d-263a-451b-b3e0-6f3ac9c56f76"
    },
    {
      "cell_type": "raw",
      "metadata": {
        "raw_mimetype": "text/html"
      },
      "source": [
        "<!-- \\] -->"
      ],
      "id": "2200cd58-27cf-405e-a4ac-98eaecb14361"
    },
    {
      "cell_type": "raw",
      "metadata": {
        "raw_mimetype": "text/html"
      },
      "source": [
        "<!-- --- -->"
      ],
      "id": "9eb4bc57-6cba-4eff-bfd8-bb04a9d7b8e7"
    },
    {
      "cell_type": "raw",
      "metadata": {
        "raw_mimetype": "text/html"
      },
      "source": [
        "<!-- The RSS for a multiple linear regression model, as a function of the estimated regression coefficients, is -->"
      ],
      "id": "f210bc8d-d483-4405-a0c7-4faf7c16c879"
    },
    {
      "cell_type": "raw",
      "metadata": {
        "raw_mimetype": "text/html"
      },
      "source": [
        "<!-- \\[ -->"
      ],
      "id": "435283d0-ce59-45c4-be31-bf6b15ce538a"
    },
    {
      "cell_type": "raw",
      "metadata": {
        "raw_mimetype": "text/html"
      },
      "source": [
        "<!-- \\begin{aligned} -->"
      ],
      "id": "d6806af0-06ce-4941-a981-8658933563a3"
    },
    {
      "cell_type": "raw",
      "metadata": {
        "raw_mimetype": "text/html"
      },
      "source": [
        "<!-- RSS(\\hat{\\boldsymbol{\\beta}}) &= \\sum_{i=1}^n \\hat{\\epsilon}_i^2 \\\\ -->"
      ],
      "id": "68355ef3-12ae-4741-ba39-2a7ea624c2ab"
    },
    {
      "cell_type": "raw",
      "metadata": {
        "raw_mimetype": "text/html"
      },
      "source": [
        "<!-- &= \\hat{\\boldsymbol{\\epsilon}}^T \\hat{\\boldsymbol{\\epsilon}} \\\\ -->"
      ],
      "id": "7ee13998-7c5c-43a7-99b4-d9ccefc2db33"
    },
    {
      "cell_type": "raw",
      "metadata": {
        "raw_mimetype": "text/html"
      },
      "source": [
        "<!-- &= (\\mathbf{y} - \\hat{\\mathbf{y}})^T (\\mathbf{y} - \\hat{\\mathbf{y}}) \\\\ -->"
      ],
      "id": "ec1e0c19-32fa-474b-9857-1927f59878ea"
    },
    {
      "cell_type": "raw",
      "metadata": {
        "raw_mimetype": "text/html"
      },
      "source": [
        "<!-- & = (\\mathbf{y} - \\mathbf{X}\\hat{\\boldsymbol{\\beta}})^T (\\mathbf{y} - \\hat{\\boldsymbol{\\beta}}). -->"
      ],
      "id": "f7c5f875-3070-4813-a92e-2342061022de"
    },
    {
      "cell_type": "raw",
      "metadata": {
        "raw_mimetype": "text/html"
      },
      "source": [
        "<!-- \\end{aligned} (\\#eq:def-rss-matrix) -->"
      ],
      "id": "6523821c-4911-46a7-9a76-78b60b56a914"
    },
    {
      "cell_type": "raw",
      "metadata": {
        "raw_mimetype": "text/html"
      },
      "source": [
        "<!-- \\] -->"
      ],
      "id": "6a01a1f3-774f-4c82-83ce-172f258579c0"
    },
    {
      "cell_type": "raw",
      "metadata": {
        "raw_mimetype": "text/html"
      },
      "source": [
        "<!-- The various expressions in Equation \\@ref(eq:def-rss-matrix) are equivalent (cf. Equation \\@ref(eq:epsilonhat-expressions)). -->"
      ],
      "id": "4b48faac-29dc-4af9-966e-3409c60de664"
    },
    {
      "cell_type": "raw",
      "metadata": {
        "raw_mimetype": "text/html"
      },
      "source": [
        "<!-- ## OLS estimator of the regression coefficients -->"
      ],
      "id": "6546164b-f988-41e5-a9ba-1e0b550632ff"
    },
    {
      "cell_type": "raw",
      "metadata": {
        "raw_mimetype": "text/html"
      },
      "source": [
        "<!-- The OLS estimator of the regression coefficient vector, $\\boldsymbol{\\beta}$, is -->"
      ],
      "id": "46dbc2c5-4067-42f2-8918-fe71d0a79b87"
    },
    {
      "cell_type": "raw",
      "metadata": {
        "raw_mimetype": "text/html"
      },
      "source": [
        "<!-- \\[ -->"
      ],
      "id": "a0b81ae1-63f5-43b5-982b-ebce01a491fc"
    },
    {
      "cell_type": "raw",
      "metadata": {
        "raw_mimetype": "text/html"
      },
      "source": [
        "<!-- \\hat{\\boldsymbol{\\beta}} = (\\mathbf{X}^T\\mathbf{X})^{-1}\\mathbf{X}^T\\mathbf{y}. (\\#eq:betahat) -->"
      ],
      "id": "89d2c21c-112c-4ad8-a9c7-b43cb9cf3a20"
    },
    {
      "cell_type": "raw",
      "metadata": {
        "raw_mimetype": "text/html"
      },
      "source": [
        "<!-- \\] -->"
      ],
      "id": "c4c6b5c1-2d63-4ba3-97f0-79e519758877"
    },
    {
      "cell_type": "raw",
      "metadata": {
        "raw_mimetype": "text/html"
      },
      "source": [
        "<!-- Equation \\@ref(eq:betahat) assumes that $\\mathbf{X}$ has full-rank ($n>p$ and none of the columns of $\\mathbf{X}$ are linear combinations of other columns in $\\mathbf{X}$), which is a very mild assumption.  -->"
      ],
      "id": "944066ba-ca39-4ea3-932b-61d230e5b651"
    },
    {
      "cell_type": "raw",
      "metadata": {
        "raw_mimetype": "text/html"
      },
      "source": [
        "<!-- --- -->"
      ],
      "id": "95ed5d07-e694-43e4-9e68-13d8946acafa"
    },
    {
      "cell_type": "raw",
      "metadata": {
        "raw_mimetype": "text/html"
      },
      "source": [
        "<!-- The general estimator of the $\\sigma^2$ in the context of multiple linear regression is -->"
      ],
      "id": "5a9cb484-b187-4ea1-bde3-2dc23ec8d0de"
    },
    {
      "cell_type": "raw",
      "metadata": {
        "raw_mimetype": "text/html"
      },
      "source": [
        "<!-- \\[ -->"
      ],
      "id": "b1245231-2714-428f-9357-ef6a70707229"
    },
    {
      "cell_type": "raw",
      "metadata": {
        "raw_mimetype": "text/html"
      },
      "source": [
        "<!-- \\hat{\\sigma}^2 = \\frac{RSS}{n-p}, -->"
      ],
      "id": "b7ade6b3-cdbd-428b-ac4b-636bfd326318"
    },
    {
      "cell_type": "raw",
      "metadata": {
        "raw_mimetype": "text/html"
      },
      "source": [
        "<!-- \\] -->"
      ],
      "id": "0cce348d-8bec-42c5-bdc7-ef94a1e1cbcc"
    },
    {
      "cell_type": "raw",
      "metadata": {
        "raw_mimetype": "text/html"
      },
      "source": [
        "<!-- which is consistent with the previous definition given in Equation \\@ref(eq:sigmasq-hat). -->"
      ],
      "id": "8824f205-2922-4572-b67f-6fe45cedaebf"
    },
    {
      "cell_type": "raw",
      "metadata": {
        "raw_mimetype": "text/html"
      },
      "source": [
        "<!-- # Penguins multiple linear regression example -->"
      ],
      "id": "621cd6d6-0591-40cf-904b-931f6dd15f0a"
    },
    {
      "cell_type": "raw",
      "metadata": {
        "raw_mimetype": "text/html"
      },
      "source": [
        "<!-- We will fit a multiple linear regression model regressing `bill_length_mm` on `body_mass_g` and `flipper_length_mm`, and will once again do so using the `lm` function. -->"
      ],
      "id": "825d02cc-90ff-4a19-9090-22b1ad7afc55"
    },
    {
      "cell_type": "raw",
      "metadata": {
        "raw_mimetype": "text/html"
      },
      "source": [
        "<!-- Before we do that, we provide some additional discussion of the of the `formula` argument of the `lm` function. This will be very important as we discuss more complicated models. Assume `y` is the response variable and `x`, `x1`, `x2`, `x3` are available numeric predictors. Then: -->"
      ],
      "id": "1a0805b1-b4fd-4cca-92b1-b9dadfaf8255"
    },
    {
      "cell_type": "raw",
      "metadata": {
        "raw_mimetype": "text/html"
      },
      "source": [
        "<!--   -   `y ~ x` describes the simple linear regression model $E(Y|X)=\\beta_0+\\beta_1 X$. -->"
      ],
      "id": "37d7ff91-6149-4f7d-a897-979f67e059da"
    },
    {
      "cell_type": "raw",
      "metadata": {
        "raw_mimetype": "text/html"
      },
      "source": [
        "<!--   -   `y ~ x1 + x2` describes the multiple linear regression model $E(Y|X_1, X_2)=\\beta_0+\\beta_1 X_1 + \\beta_2 X_2$. -->"
      ],
      "id": "433ed269-7088-42b4-a533-7444fe96826f"
    },
    {
      "cell_type": "raw",
      "metadata": {
        "raw_mimetype": "text/html"
      },
      "source": [
        "<!--   -   `y ~ x1 + x2 + x1:x2` and `y ~ x1 * x2` describe the multiple linear regression model -->"
      ],
      "id": "6939b545-1c24-456e-b7ee-a476eeee5b15"
    },
    {
      "cell_type": "raw",
      "metadata": {
        "raw_mimetype": "text/html"
      },
      "source": [
        "<!--   $E(Y|X_1, X_2)=\\beta_0+\\beta_1 X_1 + \\beta_2 X_2 + \\beta_3 X_1 X_2$. -->"
      ],
      "id": "486a6fbc-6592-44d7-8462-9fded31ae0dc"
    },
    {
      "cell_type": "raw",
      "metadata": {
        "raw_mimetype": "text/html"
      },
      "source": [
        "<!--   -   `y ~ -1 + x1 + x2` describe a multiple linear regression model without an intercept, in this case, -->"
      ],
      "id": "adf31d25-b5bf-4c03-be95-7c863d64c593"
    },
    {
      "cell_type": "raw",
      "metadata": {
        "raw_mimetype": "text/html"
      },
      "source": [
        "<!--   $E(Y|X_1, X_2)=\\beta_1 X_1 + \\beta_2 X_2$. The `-1` tells R not to include an intercept in the fitted model. -->"
      ],
      "id": "af32173e-d7a1-40fb-8179-3c769ee55c1e"
    },
    {
      "cell_type": "raw",
      "metadata": {
        "raw_mimetype": "text/html"
      },
      "source": [
        "<!--   -   `y ~ x + I(x^2)` describe the multiple linear regression model $E(Y|X)=\\beta_0+\\beta_1 X + \\beta_2 X^2$. The `I()` function is a special function that tells R to create a regressor based on the syntax inside the `()` and include that regressor in the model. -->"
      ],
      "id": "a50f2329-4ae3-4785-a264-2e9692174058"
    },
    {
      "cell_type": "raw",
      "metadata": {
        "raw_mimetype": "text/html"
      },
      "source": [
        "<!-- --- -->"
      ],
      "id": "63fa18da-614d-4863-9f84-f1f55b301618"
    },
    {
      "cell_type": "raw",
      "metadata": {
        "raw_mimetype": "text/html"
      },
      "source": [
        "<!-- In the code below, we fit the linear model regressing `bill_length_mm` on `body_mass_g` and `flipper_length_mm` and then use the `coef` and `deviance` functions to extract the estimated coefficients and RSS of the fitted model, respectively. -->"
      ],
      "id": "7e775ef0-98f7-402a-a722-27063ad7af5c"
    },
    {
      "cell_type": "raw",
      "metadata": {
        "raw_mimetype": "text/html"
      },
      "source": [
        "<!-- ```{r} -->"
      ],
      "id": "18c0d45a-b2f0-4c8a-88d3-dff1a0a830b0"
    },
    {
      "cell_type": "raw",
      "metadata": {
        "raw_mimetype": "text/html"
      },
      "source": [
        "<!-- # fit model -->"
      ],
      "id": "7ce6de4e-3285-45d3-816b-added1a5d50d"
    },
    {
      "cell_type": "raw",
      "metadata": {
        "raw_mimetype": "text/html"
      },
      "source": [
        "<!-- mlmod <- lm(bill_length_mm ~ body_mass_g + flipper_length_mm, data = penguins) -->"
      ],
      "id": "6072f4b3-2550-4c71-92bd-5f5278280682"
    },
    {
      "cell_type": "raw",
      "metadata": {
        "raw_mimetype": "text/html"
      },
      "source": [
        "<!-- # extract estimated coefficients -->"
      ],
      "id": "48d06025-2310-4edf-a59d-f1d1e7cf73bb"
    },
    {
      "cell_type": "raw",
      "metadata": {
        "raw_mimetype": "text/html"
      },
      "source": [
        "<!-- coef(mlmod) -->"
      ],
      "id": "8e18ce52-714f-4918-b5bd-f05f2ae772da"
    },
    {
      "cell_type": "raw",
      "metadata": {
        "raw_mimetype": "text/html"
      },
      "source": [
        "<!-- # extract RSS -->"
      ],
      "id": "68690b61-df3c-4144-a47b-fb068c72c4ba"
    },
    {
      "cell_type": "raw",
      "metadata": {
        "raw_mimetype": "text/html"
      },
      "source": [
        "<!-- deviance(mlmod) -->"
      ],
      "id": "c5ef98d6-dbfc-4adc-9a5a-7433f7397a1f"
    },
    {
      "cell_type": "raw",
      "metadata": {
        "raw_mimetype": "text/html"
      },
      "source": [
        "<!-- ``` -->"
      ],
      "id": "a9d53bf9-8ed6-484a-864c-316d507cbb57"
    },
    {
      "cell_type": "raw",
      "metadata": {
        "raw_mimetype": "text/html"
      },
      "source": [
        "<!-- The fitted model is -->"
      ],
      "id": "e1c438fc-5eb6-46ba-98b3-278be12daeb2"
    },
    {
      "cell_type": "raw",
      "metadata": {
        "raw_mimetype": "text/html"
      },
      "source": [
        "<!-- \\[ -->"
      ],
      "id": "70f7c8fc-0632-4771-9920-b39091b77968"
    },
    {
      "cell_type": "raw",
      "metadata": {
        "raw_mimetype": "text/html"
      },
      "source": [
        "<!-- \\widehat{\\mathtt{bill\\_length\\_mm}}=-3.44+0.0007 \\,\\mathtt{body\\_mass\\_g}+0.22\\,\\mathtt{flipper\\_length\\_mm}. -->"
      ],
      "id": "4d95fdfe-ec54-468d-ab4c-9cfca24bf354"
    },
    {
      "cell_type": "raw",
      "metadata": {
        "raw_mimetype": "text/html"
      },
      "source": [
        "<!-- \\] -->"
      ],
      "id": "b97d3673-80e4-4819-b057-00a1043e388d"
    },
    {
      "cell_type": "raw",
      "metadata": {
        "raw_mimetype": "text/html"
      },
      "source": [
        "<!-- - **Question:** What is the RSS? How does it compare to the simple linear model we used before? -->"
      ],
      "id": "0f7b687c-f189-4dcb-aaa9-47803efaef33"
    },
    {
      "cell_type": "raw",
      "metadata": {
        "raw_mimetype": "text/html"
      },
      "source": [
        "<!-- # Types of linear models -->"
      ],
      "id": "54fff170-f9cc-4a95-854a-120ca1ea09c0"
    },
    {
      "cell_type": "raw",
      "metadata": {
        "raw_mimetype": "text/html"
      },
      "source": [
        "<!-- - **Simple**: a model with an intercept and a single regressor. -->"
      ],
      "id": "a3d140e6-2d1d-4da3-a7d8-6ad3ca84619d"
    },
    {
      "cell_type": "raw",
      "metadata": {
        "raw_mimetype": "text/html"
      },
      "source": [
        "<!-- - **Multiple**: a model with 2 or more regressors. -->"
      ],
      "id": "49492ce0-2eff-45bf-bfee-5324edad13f3"
    },
    {
      "cell_type": "raw",
      "metadata": {
        "raw_mimetype": "text/html"
      },
      "source": [
        "<!-- - **Polynomial**: a model with squared, cubic, quartic predictors, etc. E.g, $E(Y\\mid X) = \\beta_0 + \\beta_1 X + \\beta_2 X^2 + \\beta_3 X^3$ is a 4th-degree polynomial. -->"
      ],
      "id": "7e822516-cbf0-452a-a083-b9e750bc684c"
    },
    {
      "cell_type": "raw",
      "metadata": {
        "raw_mimetype": "text/html"
      },
      "source": [
        "<!-- - **First-order**: a model in which each predictor is used to create no more than one regressor. -->"
      ],
      "id": "9601c3ac-3cc2-4848-b76d-392eb4628442"
    },
    {
      "cell_type": "raw",
      "metadata": {
        "raw_mimetype": "text/html"
      },
      "source": [
        "<!-- - **Main effect**: a model in which none of the regressors are functions of more than one predictor. A predictor can be used more than once, but each regressor is only a function of one predictor. E.g., if $X_1$ and $X_2$ are different predictors, then the regression model $E(Y\\mid X_1, X_2) = \\beta_0 + \\beta_1 X_1 + \\beta_2 X_1^2 + \\beta_3 X_2$ would be a main effect model, but not a first-order model since $X_1$ was used to create two regressors. -->"
      ],
      "id": "352f5a97-c11c-4c94-82ca-26d0f507da55"
    },
    {
      "cell_type": "raw",
      "metadata": {
        "raw_mimetype": "text/html"
      },
      "source": [
        "<!-- - **Interaction**: a model in which some of the regressors are functions of more than 1 predictor. E.g., if $X_1$ and $X_2$ are different predictors, then the regression model $E(Y\\mid X_1, X_2) = \\beta_0 + \\beta_1 X_1 + \\beta_2 X_2 + \\beta_3 X_1X_2$ is a very simple interaction model since the third regressor is the product of $X_1$ and $X_2$. -->"
      ],
      "id": "e6d4f326-4c5a-41dd-980e-2d5344ac4499"
    },
    {
      "cell_type": "raw",
      "metadata": {
        "raw_mimetype": "text/html"
      },
      "source": [
        "<!-- - **Analysis of variance (ANOVA)**: a model for which all predictors used in the model are categorical. -->"
      ],
      "id": "2edebaff-b197-4c19-9b58-4b8427074abb"
    },
    {
      "cell_type": "raw",
      "metadata": {
        "raw_mimetype": "text/html"
      },
      "source": [
        "<!-- - **Analysis of covariance (ANCOVA)**: a model that uses at least one numeric predictor and at least one categorical predictor. -->"
      ],
      "id": "947b5fe4-8fe1-4f48-99d8-47e6cec9e8fd"
    },
    {
      "cell_type": "raw",
      "metadata": {
        "raw_mimetype": "text/html"
      },
      "source": [
        "<!-- - **Generalized (GLM)**: a \"generalized\" linear regression model in which the responses do not come from a normal distribution. -->"
      ],
      "id": "5bf40f5a-d570-49ed-848d-8e42b032461b"
    },
    {
      "cell_type": "raw",
      "metadata": {
        "raw_mimetype": "text/html"
      },
      "source": [
        "<!-- # Categorical predictors -->"
      ],
      "id": "5209e6e9-459e-4112-8f3a-60028274b492"
    },
    {
      "cell_type": "raw",
      "metadata": {
        "raw_mimetype": "text/html"
      },
      "source": [
        "<!-- Categorical  predictors can greatly improve the explanatory power or predictive capability of a fitted model when different patterns exist for different levels of the variables. We discuss two basic uses of categorical predictors in linear regression models. We will briefly introduce the: -->"
      ],
      "id": "e6c20294-cac5-4f99-88f5-4498c55070f2"
    },
    {
      "cell_type": "raw",
      "metadata": {
        "raw_mimetype": "text/html"
      },
      "source": [
        "<!-- - **parallel lines regression model**, which is a main effect regression model that has a single numeric regressor and a single categorical predictor. The model produces parallel lines for each level of the categorical variable. -->"
      ],
      "id": "787dc5d8-3aee-47d1-b8f9-ea0742a9ed4f"
    },
    {
      "cell_type": "raw",
      "metadata": {
        "raw_mimetype": "text/html"
      },
      "source": [
        "<!-- - **separate lines regression model**, which adds an interaction term between the numeric regressor and categorical predictor of the parallel lines regression model. The model produces separate lines for each level of the categorical variable. -->"
      ],
      "id": "9285a176-4cfb-460a-b98f-658bd277260b"
    },
    {
      "cell_type": "raw",
      "metadata": {
        "raw_mimetype": "text/html"
      },
      "source": [
        "<!-- ## Indicator variables -->"
      ],
      "id": "1c7994b2-32e7-4a05-95e8-6226e9d37d67"
    },
    {
      "cell_type": "raw",
      "metadata": {
        "raw_mimetype": "text/html"
      },
      "source": [
        "<!-- In order to compute $\\hat{\\boldsymbol{\\beta}}$ using Equation \\@ref(eq:betahat), both $\\mathbf{X}$ and $\\mathbf{y}$ must contain numeric values. How can we use a categorical predictor in our regression model when its values are not numeric? To do so, we must transform the categorical predictor into one or more **indicator** or **dummy variables**, which we explain in more detail below. -->"
      ],
      "id": "4cea7505-6c71-4edf-b3e2-076cf727fd8b"
    },
    {
      "cell_type": "raw",
      "metadata": {
        "raw_mimetype": "text/html"
      },
      "source": [
        "<!-- An **indicator function** is a function that takes the value 1 if a certain property is true and 0 otherwise. An **indicator variable** is the variable that results from applying an indicator function to each observation of a variable. Many notations exist for indicator functions. We use the notation, -->"
      ],
      "id": "93bc7134-a332-4fb3-bcba-402f30721af7"
    },
    {
      "cell_type": "raw",
      "metadata": {
        "raw_mimetype": "text/html"
      },
      "source": [
        "<!-- \\[ -->"
      ],
      "id": "e24c0018-1186-43d0-8dbd-dec11d7bf5fc"
    },
    {
      "cell_type": "raw",
      "metadata": {
        "raw_mimetype": "text/html"
      },
      "source": [
        "<!-- I_S(x) = -->"
      ],
      "id": "4f9db938-ec7d-4856-b0f1-6ca4c89f7f7a"
    },
    {
      "cell_type": "raw",
      "metadata": {
        "raw_mimetype": "text/html"
      },
      "source": [
        "<!-- \\begin{cases} -->"
      ],
      "id": "59029845-7f5f-45e2-bf59-a8f52ca445ab"
    },
    {
      "cell_type": "raw",
      "metadata": {
        "raw_mimetype": "text/html"
      },
      "source": [
        "<!-- 1 & \\textrm{if}\\;x \\in S\\\\ -->"
      ],
      "id": "edb39613-7448-4ecd-a7e6-deae198fa39e"
    },
    {
      "cell_type": "raw",
      "metadata": {
        "raw_mimetype": "text/html"
      },
      "source": [
        "<!-- 0 & \\textrm{if}\\;x \\notin S -->"
      ],
      "id": "9dec50df-4829-44e4-8572-27d296f704aa"
    },
    {
      "cell_type": "raw",
      "metadata": {
        "raw_mimetype": "text/html"
      },
      "source": [
        "<!-- \\end{cases}, -->"
      ],
      "id": "c5a3c3eb-87da-4d5a-a313-f21bffaa2603"
    },
    {
      "cell_type": "raw",
      "metadata": {
        "raw_mimetype": "text/html"
      },
      "source": [
        "<!-- \\] -->"
      ],
      "id": "4c871cec-2e38-46b0-8e2b-94872405bb28"
    },
    {
      "cell_type": "raw",
      "metadata": {
        "raw_mimetype": "text/html"
      },
      "source": [
        "<!-- which is shorthand for a function that returns 1 if $x$ is in the set $S$ and 0 otherwise. -->"
      ],
      "id": "ddf64c24-18a9-4101-93fa-e98884a6a8a7"
    },
    {
      "cell_type": "raw",
      "metadata": {
        "raw_mimetype": "text/html"
      },
      "source": [
        "<!-- --- -->"
      ],
      "id": "c68879fd-8589-4d07-88ca-763dc09abf51"
    },
    {
      "cell_type": "raw",
      "metadata": {
        "raw_mimetype": "text/html"
      },
      "source": [
        "<!-- Let $C$ denote a categorical predictor with levels $L_1$ and $L_2$. The $C$ stands for \"categorical\", while the $L$ stands for \"level\". Let $c_i$ denote the value of $C$ for observation $i$. -->"
      ],
      "id": "4196d0a7-393e-48da-bf93-e03f87c7756b"
    },
    {
      "cell_type": "raw",
      "metadata": {
        "raw_mimetype": "text/html"
      },
      "source": [
        "<!-- Let $D_j$ denote the indicator (dummy) variable for factor level $L_j$ of $C$. The value of $D_j$ for observation $i$ is denoted $d_{i,j}$, with -->"
      ],
      "id": "7ad705b1-87e7-4c2b-95c9-5f9d38f1c09b"
    },
    {
      "cell_type": "raw",
      "metadata": {
        "raw_mimetype": "text/html"
      },
      "source": [
        "<!-- \\[ -->"
      ],
      "id": "a713d118-0379-4a08-969a-5507bf818ae5"
    },
    {
      "cell_type": "raw",
      "metadata": {
        "raw_mimetype": "text/html"
      },
      "source": [
        "<!-- d_{i,j} = I_{\\{L_j\\}}(c_i), -->"
      ],
      "id": "b48097a1-a469-4cd8-aaff-1c00bec5efd5"
    },
    {
      "cell_type": "raw",
      "metadata": {
        "raw_mimetype": "text/html"
      },
      "source": [
        "<!-- \\] -->"
      ],
      "id": "922b2616-3246-4123-b7c1-f3b79a7b6174"
    },
    {
      "cell_type": "raw",
      "metadata": {
        "raw_mimetype": "text/html"
      },
      "source": [
        "<!-- i.e., $d_{i,j}$ is 1 if $c_i$ has factor level $L_j$ and 0 otherwise. -->"
      ],
      "id": "8237267a-e731-4a13-9855-3ca5783cc3d7"
    },
    {
      "cell_type": "raw",
      "metadata": {
        "raw_mimetype": "text/html"
      },
      "source": [
        "<!-- ## Parallel and separate lines models -->"
      ],
      "id": "dc91beee-03cc-4fce-8f3c-3929df4cc3a7"
    },
    {
      "cell_type": "raw",
      "metadata": {
        "raw_mimetype": "text/html"
      },
      "source": [
        "<!-- Assume we want to build a linear regression model using a single numeric regressor $X$ and a two-level categorical predictor $C$. -->"
      ],
      "id": "ba144cf9-511d-46a3-af16-59b9dcbccb50"
    },
    {
      "cell_type": "raw",
      "metadata": {
        "raw_mimetype": "text/html"
      },
      "source": [
        "<!-- The standard simple linear regression model is -->"
      ],
      "id": "de092411-3c79-4676-a0be-a6022a79792c"
    },
    {
      "cell_type": "raw",
      "metadata": {
        "raw_mimetype": "text/html"
      },
      "source": [
        "<!-- \\[E(Y\\mid X)=\\beta_0 + \\beta_1 X.\\] -->"
      ],
      "id": "ec994990-d2c0-473f-8f38-aafe15631ebc"
    },
    {
      "cell_type": "raw",
      "metadata": {
        "raw_mimetype": "text/html"
      },
      "source": [
        "<!-- To create a parallel lines regression model, we add regressor $D_2$ to the simple linear regression model. Thus, the parallel lines regression model is -->"
      ],
      "id": "d1a6cf87-8178-4805-9430-30e23c227761"
    },
    {
      "cell_type": "raw",
      "metadata": {
        "raw_mimetype": "text/html"
      },
      "source": [
        "<!-- \\[ -->"
      ],
      "id": "3ac4b48f-ca62-4101-804a-354ef571a8a6"
    },
    {
      "cell_type": "raw",
      "metadata": {
        "raw_mimetype": "text/html"
      },
      "source": [
        "<!-- E(Y\\mid X,C)=\\beta_{0}+\\beta_1 X+\\beta_2 D_2. (\\#eq:parallel-lines-model) -->"
      ],
      "id": "3cc5c40b-2052-4ec9-929a-0b784a9acfb5"
    },
    {
      "cell_type": "raw",
      "metadata": {
        "raw_mimetype": "text/html"
      },
      "source": [
        "<!-- \\] -->"
      ],
      "id": "a7842a5a-be98-4dce-9015-2a7ad421e2f7"
    },
    {
      "cell_type": "raw",
      "metadata": {
        "raw_mimetype": "text/html"
      },
      "source": [
        "<!-- Since $D_2=0$ when $C=L_1$ and $D_2=1$ when $C=L_2$, we see that the model in Equation \\@ref(eq:parallel-lines-model) simplifies to -->"
      ],
      "id": "deaaaf8f-ff00-4e55-8107-e15fc3fc8024"
    },
    {
      "cell_type": "raw",
      "metadata": {
        "raw_mimetype": "text/html"
      },
      "source": [
        "<!-- \\[ -->"
      ],
      "id": "9714ca80-2e5d-4d2c-8ee8-2d0b87f3a7b7"
    },
    {
      "cell_type": "raw",
      "metadata": {
        "raw_mimetype": "text/html"
      },
      "source": [
        "<!-- E(Y\\mid X, C) = -->"
      ],
      "id": "3943074e-163f-46e6-b7da-618002d460ea"
    },
    {
      "cell_type": "raw",
      "metadata": {
        "raw_mimetype": "text/html"
      },
      "source": [
        "<!-- \\begin{cases} -->"
      ],
      "id": "b40e29a4-eec4-4173-a845-903a303119c1"
    },
    {
      "cell_type": "raw",
      "metadata": {
        "raw_mimetype": "text/html"
      },
      "source": [
        "<!--   \\beta_0+\\beta_1 X & \\mathrm{if}\\;C = L_1 \\\\ -->"
      ],
      "id": "83deb39c-a10f-44e5-87bc-56300dcfb393"
    },
    {
      "cell_type": "raw",
      "metadata": {
        "raw_mimetype": "text/html"
      },
      "source": [
        "<!--   (\\beta_0 + \\beta_2) +\\beta_1 X & \\mathrm{if}\\;C = L_2 -->"
      ],
      "id": "99c47134-1b1d-4091-96fa-7cdc875d952c"
    },
    {
      "cell_type": "raw",
      "metadata": {
        "raw_mimetype": "text/html"
      },
      "source": [
        "<!-- \\end{cases}. -->"
      ],
      "id": "b3b75886-4b14-4429-9f2f-ba27ee3a0a16"
    },
    {
      "cell_type": "raw",
      "metadata": {
        "raw_mimetype": "text/html"
      },
      "source": [
        "<!-- \\] -->"
      ],
      "id": "23a0b18e-c0b4-4533-a0c1-aa4ff3c5ad5f"
    },
    {
      "cell_type": "raw",
      "metadata": {
        "raw_mimetype": "text/html"
      },
      "source": [
        "<!-- - **Question:** What will the vertical distance between the lines be? -->"
      ],
      "id": "d46577db-732f-48ac-a807-70c2269fe077"
    },
    {
      "cell_type": "raw",
      "metadata": {
        "raw_mimetype": "text/html"
      },
      "source": [
        "<!-- --- -->"
      ],
      "id": "5ded0317-957f-4b3f-8b06-0854c92ea217"
    },
    {
      "cell_type": "raw",
      "metadata": {
        "raw_mimetype": "text/html"
      },
      "source": [
        "<!-- To create a separate lines regression model, we add regressor $D_2$ and the interaction regressor $X D_2$ to our simple linear regression model. Thus, the separate lines regression model is -->"
      ],
      "id": "883fb685-0405-4033-9014-a4778e0d5eab"
    },
    {
      "cell_type": "raw",
      "metadata": {
        "raw_mimetype": "text/html"
      },
      "source": [
        "<!-- \\[ -->"
      ],
      "id": "5d6760e8-8489-4193-885f-7528e4924a57"
    },
    {
      "cell_type": "raw",
      "metadata": {
        "raw_mimetype": "text/html"
      },
      "source": [
        "<!-- E(Y\\mid X,C)=\\beta_0+\\beta_1 X+\\beta_2 D_2 + \\beta_{3} XD_2, -->"
      ],
      "id": "53955b14-1157-419c-a1f0-a8d6b4c85c49"
    },
    {
      "cell_type": "raw",
      "metadata": {
        "raw_mimetype": "text/html"
      },
      "source": [
        "<!-- \\] -->"
      ],
      "id": "240fa91a-7cbc-4fd8-8007-6a880ce4209f"
    },
    {
      "cell_type": "raw",
      "metadata": {
        "raw_mimetype": "text/html"
      },
      "source": [
        "<!-- which, similar to the previous model, simplifies to -->"
      ],
      "id": "429ca0c3-ffeb-4365-8c71-cea08cb9445c"
    },
    {
      "cell_type": "raw",
      "metadata": {
        "raw_mimetype": "text/html"
      },
      "source": [
        "<!-- \\[ -->"
      ],
      "id": "be6a2fd9-021d-4a88-8d3d-b36d35e53463"
    },
    {
      "cell_type": "raw",
      "metadata": {
        "raw_mimetype": "text/html"
      },
      "source": [
        "<!-- E(Y\\mid X, C) = -->"
      ],
      "id": "97fc132f-b1e6-4b6f-8587-33e22eac56ef"
    },
    {
      "cell_type": "raw",
      "metadata": {
        "raw_mimetype": "text/html"
      },
      "source": [
        "<!-- \\begin{cases} -->"
      ],
      "id": "a0b6fa44-45c1-478b-8dd5-44e6fc3ee719"
    },
    {
      "cell_type": "raw",
      "metadata": {
        "raw_mimetype": "text/html"
      },
      "source": [
        "<!--   \\beta_{0}+\\beta_1 X & \\mathrm{if}\\;C = L_1 \\\\ -->"
      ],
      "id": "f2c9cc4d-65f1-4207-b407-8ac652d2aa60"
    },
    {
      "cell_type": "raw",
      "metadata": {
        "raw_mimetype": "text/html"
      },
      "source": [
        "<!--   (\\beta_{0} + \\beta_{2}) +(\\beta_1 + \\beta_{3}) X & \\mathrm{if}\\;C = L_2 -->"
      ],
      "id": "a6e1549f-7e77-409f-a9a4-0f4c85b13248"
    },
    {
      "cell_type": "raw",
      "metadata": {
        "raw_mimetype": "text/html"
      },
      "source": [
        "<!-- \\end{cases}. -->"
      ],
      "id": "49b302c7-b669-4aaf-91b4-b1fd6d419d92"
    },
    {
      "cell_type": "raw",
      "metadata": {
        "raw_mimetype": "text/html"
      },
      "source": [
        "<!-- \\] -->"
      ],
      "id": "a87240a6-1a6f-4da1-be2a-5a01ca0e2fd1"
    },
    {
      "cell_type": "raw",
      "metadata": {
        "raw_mimetype": "text/html"
      },
      "source": [
        "<!-- ## Extensions -->"
      ],
      "id": "352b5e50-a092-4017-bc17-a974859e7252"
    },
    {
      "cell_type": "raw",
      "metadata": {
        "raw_mimetype": "text/html"
      },
      "source": [
        "<!-- We have presented the most basic regression models that include a categorical predictor. If you had a categorical predictor $C$ with $K$ levels $L_1, L_2, \\ldots, L_K$, then you could add indicator variables $D_2, D_3, \\ldots, L_K$ to a simple linear regression model to create a parallel lines model for each level of $C$. Similarly, you could add regressors $D_2, D_3, \\ldots, D_K, X D_2, X D_3, \\ldots, X D_K$ to a simple linear regression model to create a separate lines model for each level of $C$. -->"
      ],
      "id": "a7305381-c412-42b4-9709-521aa5b268e8"
    },
    {
      "cell_type": "raw",
      "metadata": {
        "raw_mimetype": "text/html"
      },
      "source": [
        "<!-- It is easy to imagine using multiple categorical predictors in a model, interacting one or more categorical predictors with one or more numeric regressors in model, etc. These models can be fit easily using R (as we'll see below), though interpretation becomes more challenging. -->"
      ],
      "id": "26629fb7-b1c2-4e18-abd9-ca2edc254479"
    },
    {
      "cell_type": "raw",
      "metadata": {
        "raw_mimetype": "text/html"
      },
      "source": [
        "<!-- ## Avoiding an easy mistake -->"
      ],
      "id": "19ab7972-fc5e-4845-8eed-c324c3bde06b"
    },
    {
      "cell_type": "raw",
      "metadata": {
        "raw_mimetype": "text/html"
      },
      "source": [
        "<!-- Why didn't we add $D_1$ to the parallel lines model? Or $D_1$ and $D_1 X$ to the separate lines model? First, we notice that we don't *need* to add them. E.g., if an observation doesn't havel level $L_2$ ($D_2=0$), then it must have level $L_1$. More importantly, we didn't do this because it will create linear dependencies in the columns of the regressor matrix $\\mathbf{X}$. -->"
      ],
      "id": "47b4c60c-e28a-43d0-8593-572f7e4de07c"
    },
    {
      "cell_type": "raw",
      "metadata": {
        "raw_mimetype": "text/html"
      },
      "source": [
        "<!-- Let $\\mathbf{d}_1=[d_{1,1}, d_{2,1}, \\ldots, d_{n,1}]$ be the column vector of observed values for indicator variable $D_1$ and $\\mathbf{d}_2$ be the column vector for $D_2$. Then for a two-level categorical variable, $\\mathbf{d}_1 + \\mathbf{d}_2$ is an $n\\times 1$ vector of 1s, meaning that $D_1$ and $D_2$ will be linearly dependent with the intercept column of our $\\mathbf{X}$ matrix. Thus, adding $D_1$ to the parallel lines model would result in $\\mathbf{X}$ having linearly dependent columns, which creates estimation problems. -->"
      ],
      "id": "70ee96e4-75df-4fb0-9698-321eb7cac39e"
    },
    {
      "cell_type": "raw",
      "metadata": {
        "raw_mimetype": "text/html"
      },
      "source": [
        "<!-- For a categorical predictor with $K$ levels, we only need indicator variables for $K-1$ levels of the categorical predictor. The level without an indicator variable in the regression model is known as the **reference level**, which is explained in Chapter  \\@ref(interp-chapter). Technically, you can choose any level to be your reference level, but R automatically chooses the first level of a categorical (`factor`) variable to be the reference level, so we adopt that convention. -->"
      ],
      "id": "33df9236-9ef0-44ca-9df9-11459dcab672"
    },
    {
      "cell_type": "raw",
      "metadata": {
        "raw_mimetype": "text/html"
      },
      "source": [
        "<!-- # Penguins example with categorical predictor -->"
      ],
      "id": "6356f8f3-74e3-46ee-8b21-2d5b906137dd"
    },
    {
      "cell_type": "raw",
      "metadata": {
        "raw_mimetype": "text/html"
      },
      "source": [
        "<!-- We return once again to the `penguins` data previously introduced. We use the code below to produce Figure \\@ref(fig:penguins-grouped-scatter), which displays the grouped scatter plot of `bill_length_mm` versus `body_mass_g` that distinguishes the `species` of each observation. -->"
      ],
      "id": "1e699483-98ab-4246-8394-9a65285ed7dc"
    },
    {
      "cell_type": "raw",
      "metadata": {
        "raw_mimetype": "text/html"
      },
      "source": [
        "<!-- ```{r penguins-grouped-scatter, fig.cap=\"A grouped scatter plot of body mass versus bill length that distinguishes penguin species.\", warning = FALSE} -->"
      ],
      "id": "e81d50c7-834e-4fcc-925c-39a56b231744"
    },
    {
      "cell_type": "raw",
      "metadata": {
        "raw_mimetype": "text/html"
      },
      "source": [
        "<!-- library(ggplot2) # load package -->"
      ],
      "id": "dd252a6c-ff5a-417c-8c0d-d0d4f110c732"
    },
    {
      "cell_type": "raw",
      "metadata": {
        "raw_mimetype": "text/html"
      },
      "source": [
        "<!-- # create grouped scatterplot -->"
      ],
      "id": "db6f92d7-3d93-4fee-93c1-15757be2f6a8"
    },
    {
      "cell_type": "raw",
      "metadata": {
        "raw_mimetype": "text/html"
      },
      "source": [
        "<!-- ggplot(data = penguins) + -->"
      ],
      "id": "5c564aeb-4ff0-4f46-9b7f-69339e5ddd4e"
    },
    {
      "cell_type": "raw",
      "metadata": {
        "raw_mimetype": "text/html"
      },
      "source": [
        "<!--   geom_point(aes(x = body_mass_g, y = bill_length_mm, shape = species, color = species)) + -->"
      ],
      "id": "6f380151-b3f5-4136-85bb-138a5e92295b"
    },
    {
      "cell_type": "raw",
      "metadata": {
        "raw_mimetype": "text/html"
      },
      "source": [
        "<!--   xlab(\"body mass (g)\") + ylab(\"bill length (mm)\") -->"
      ],
      "id": "5f687156-5737-457c-9110-5b03ee252b4a"
    },
    {
      "cell_type": "raw",
      "metadata": {
        "raw_mimetype": "text/html"
      },
      "source": [
        "<!-- ``` -->"
      ],
      "id": "8cb19318-41a7-423e-b8c5-c31fdb94c3cb"
    },
    {
      "cell_type": "raw",
      "metadata": {
        "raw_mimetype": "text/html"
      },
      "source": [
        "<!-- - **Question:** Does the relationship between bill length and body mass change depending on the species of penguin? -->"
      ],
      "id": "d3e7d9f7-fbad-4aba-b04a-980a3a88da92"
    },
    {
      "cell_type": "raw",
      "metadata": {
        "raw_mimetype": "text/html"
      },
      "source": [
        "<!-- --- -->"
      ],
      "id": "1a771e4a-e858-4774-a0ae-439e2064466e"
    },
    {
      "cell_type": "raw",
      "metadata": {
        "raw_mimetype": "text/html"
      },
      "source": [
        "<!-- How do you use a categorical variable in R's `lm` function? Recall that we should represent our categorical variables as a `factor` in R. The `lm` function will automatically convert a `factor` variable to the correct number of indicator variables when you include the `factor` variable in your `formula` argument. R will automatically choose the reference level to be the first level of the `factor` variable. To add a main effect term for a categorical predictor, we simply add the term to our `lm` formula. To create an interaction term, we use `:` between the interacting variables. E.g., if `c` is a `factor` variable and `x` is a `numeric` variable, you can use the notation `c:x` in your `formula` to get all the interactions between `c` and `x`. -->"
      ],
      "id": "11ac8505-4f37-4ebc-9575-972c417e1306"
    },
    {
      "cell_type": "raw",
      "metadata": {
        "raw_mimetype": "text/html"
      },
      "source": [
        "<!-- In our present context, the categorical predictor of interest is `species`, which has the levels `Adelie`, `Chinstrap`, and `Gentoo`. The `species` variable is already a `factor`. Since the variable has 3 levels, it will be transformed into 2 indicator variables by R. The first level of species is `Adelie`, so R will treat that level as the reference level, and automatically create indicator variables for the levels `Chinstrap` and `Gentoo`. (Reminder: to determine the level order of a `factor` variable `c`, run the commend `levels(c)`, or in this case `levels(penguins$species)`.) -->"
      ],
      "id": "dbb1b815-b7b3-4e06-9b45-9f19b830e086"
    },
    {
      "cell_type": "raw",
      "metadata": {
        "raw_mimetype": "text/html"
      },
      "source": [
        "<!-- Let $D_C$ denote the indicator variable for the `Chinstrap` level and $D_G$ denote the indicator variable for the `Gentoo` level. To fit the parallel lines regression model -->"
      ],
      "id": "5a5172ef-24ca-4bfb-bfe4-6e6a2a229a87"
    },
    {
      "cell_type": "raw",
      "metadata": {
        "raw_mimetype": "text/html"
      },
      "source": [
        "<!-- \\[E(\\mathtt{bill\\_length\\_mm} \\mid \\mathtt{body\\_mass\\_g}, \\mathtt{species}) = \\beta_{0} + \\beta_1 \\mathtt{body\\_mass\\_g} + \\beta_2 D_C + \\beta_3 D_G,\\] -->"
      ],
      "id": "05a28578-5dee-4a14-b292-d4608d3b82d5"
    },
    {
      "cell_type": "raw",
      "metadata": {
        "raw_mimetype": "text/html"
      },
      "source": [
        "<!-- we run the code below. The `coef` function is used to extract the estimated coefficients from our fitted model in `lmodp`. -->"
      ],
      "id": "696e46d0-c573-4423-9e74-e9fe1b414662"
    },
    {
      "cell_type": "raw",
      "metadata": {
        "raw_mimetype": "text/html"
      },
      "source": [
        "<!-- --- -->"
      ],
      "id": "7fd562fb-ff78-4b36-8d6f-0f2a5a6c90ff"
    },
    {
      "cell_type": "raw",
      "metadata": {
        "raw_mimetype": "text/html"
      },
      "source": [
        "<!-- ```{r} -->"
      ],
      "id": "ac716f32-5d1f-4947-b34a-2b33a283c111"
    },
    {
      "cell_type": "raw",
      "metadata": {
        "raw_mimetype": "text/html"
      },
      "source": [
        "<!-- # fit parallel lines model -->"
      ],
      "id": "129573d1-1cad-45ce-885d-a4253035d40e"
    },
    {
      "cell_type": "raw",
      "metadata": {
        "raw_mimetype": "text/html"
      },
      "source": [
        "<!-- lmodp <- lm(bill_length_mm ~ body_mass_g + species, data = penguins) -->"
      ],
      "id": "a9908afb-c0fd-4920-85b0-a1925bdd09b9"
    },
    {
      "cell_type": "raw",
      "metadata": {
        "raw_mimetype": "text/html"
      },
      "source": [
        "<!-- # extract coefficients -->"
      ],
      "id": "9be33781-0531-4756-963a-f7b1e9d1fad6"
    },
    {
      "cell_type": "raw",
      "metadata": {
        "raw_mimetype": "text/html"
      },
      "source": [
        "<!-- coef(lmodp) -->"
      ],
      "id": "3c0b9949-27e2-4e39-8cab-6e510096b918"
    },
    {
      "cell_type": "raw",
      "metadata": {
        "raw_mimetype": "text/html"
      },
      "source": [
        "<!-- ``` -->"
      ],
      "id": "2265d6b7-0861-4d5f-b047-12f536adf274"
    },
    {
      "cell_type": "raw",
      "metadata": {
        "raw_mimetype": "text/html"
      },
      "source": [
        "<!-- Thus, the fitted parallel lines model is -->"
      ],
      "id": "3bc21bc4-87af-4d94-8c58-f348116f0c52"
    },
    {
      "cell_type": "raw",
      "metadata": {
        "raw_mimetype": "text/html"
      },
      "source": [
        "<!-- \\[ -->"
      ],
      "id": "ffc87534-a2c8-4423-b1ba-1b3adcff33d9"
    },
    {
      "cell_type": "raw",
      "metadata": {
        "raw_mimetype": "text/html"
      },
      "source": [
        "<!-- \\begin{aligned} -->"
      ],
      "id": "86bb6f3b-6ec3-4838-bdb1-4e27f586da4a"
    },
    {
      "cell_type": "raw",
      "metadata": {
        "raw_mimetype": "text/html"
      },
      "source": [
        "<!-- &\\hat{E}(\\mathtt{bill\\_length\\_mm} \\mid \\mathtt{body\\_mass\\_g}, \\mathtt{species}) \\\\ -->"
      ],
      "id": "2a218b30-b99d-460c-9aa9-f123bc800f7c"
    },
    {
      "cell_type": "raw",
      "metadata": {
        "raw_mimetype": "text/html"
      },
      "source": [
        "<!-- &= 24.92 + 0.004 \\mathtt{body\\_mass\\_g} + 9.92 D_C + 3.56 D_G. -->"
      ],
      "id": "bcd81282-dd76-4363-9654-69ba762701f0"
    },
    {
      "cell_type": "raw",
      "metadata": {
        "raw_mimetype": "text/html"
      },
      "source": [
        "<!-- \\end{aligned} -->"
      ],
      "id": "45116fbc-315e-46fa-a9ea-680218509d11"
    },
    {
      "cell_type": "raw",
      "metadata": {
        "raw_mimetype": "text/html"
      },
      "source": [
        "<!-- (\\#eq:pl-model-penguins) -->"
      ],
      "id": "047c3061-6947-489f-9d9f-5c629625e99d"
    },
    {
      "cell_type": "raw",
      "metadata": {
        "raw_mimetype": "text/html"
      },
      "source": [
        "<!-- \\] -->"
      ],
      "id": "e1f3c1bc-cc54-4a04-aada-835820df74be"
    },
    {
      "cell_type": "raw",
      "metadata": {
        "raw_mimetype": "text/html"
      },
      "source": [
        "<!-- Note that `speciesChinstrap` and `speciesGentoo` are the indicator variables related to the `Chinstrap` and `Gentoo` levels of `species`, respectively, i.e., they represent $D_C$ and $D_G$. When an observation has `species` level `Adelie`, then Equation \\@ref(eq:pl-model-penguins) simplifies to -->"
      ],
      "id": "3fd8d611-13d3-4d82-be31-5d208904c888"
    },
    {
      "cell_type": "raw",
      "metadata": {
        "raw_mimetype": "text/html"
      },
      "source": [
        "<!-- \\[ -->"
      ],
      "id": "fb2ea502-8362-4c55-8fe7-8f1f24741d20"
    },
    {
      "cell_type": "raw",
      "metadata": {
        "raw_mimetype": "text/html"
      },
      "source": [
        "<!-- \\begin{aligned} -->"
      ],
      "id": "8160ca7f-9f4b-4915-a474-340ff1b4648d"
    },
    {
      "cell_type": "raw",
      "metadata": {
        "raw_mimetype": "text/html"
      },
      "source": [
        "<!-- &\\hat{E}(\\mathtt{bill\\_length\\_mm} \\mid \\mathtt{body\\_mass\\_g}, \\mathtt{species}=\\mathtt{Adelie}) \\\\ -->"
      ],
      "id": "ec8bf4f6-e302-4968-b8b7-a5edf6dd49a9"
    },
    {
      "cell_type": "raw",
      "metadata": {
        "raw_mimetype": "text/html"
      },
      "source": [
        "<!-- &=24.92 + 0.004 \\mathtt{body\\_mass\\_g} + 9.92 \\cdot 0 + 3.56 \\cdot 0 \\\\ -->"
      ],
      "id": "f62a48f4-371e-4fac-b46e-7fd71be13b26"
    },
    {
      "cell_type": "raw",
      "metadata": {
        "raw_mimetype": "text/html"
      },
      "source": [
        "<!-- &= 24.92 + 0.004 \\mathtt{body\\_mass\\_g}. -->"
      ],
      "id": "915d371a-489c-4ffd-91bf-da263f0342ce"
    },
    {
      "cell_type": "raw",
      "metadata": {
        "raw_mimetype": "text/html"
      },
      "source": [
        "<!-- \\end{aligned} -->"
      ],
      "id": "64303724-95dd-416d-8a52-4e8661c7a1db"
    },
    {
      "cell_type": "raw",
      "metadata": {
        "raw_mimetype": "text/html"
      },
      "source": [
        "<!-- \\] -->"
      ],
      "id": "20a0fc0d-e000-4d72-8708-94246f7fd583"
    },
    {
      "cell_type": "raw",
      "metadata": {
        "raw_mimetype": "text/html"
      },
      "source": [
        "<!-- --- -->"
      ],
      "id": "792415e6-342f-4695-a775-a33a20d63d46"
    },
    {
      "cell_type": "raw",
      "metadata": {
        "raw_mimetype": "text/html"
      },
      "source": [
        "<!-- When an observation has `species` level `Chinstrap`, then Equation \\@ref(eq:pl-model-penguins) simplifies to -->"
      ],
      "id": "967bb7d0-52f4-485a-9e91-451a1ce983a7"
    },
    {
      "cell_type": "raw",
      "metadata": {
        "raw_mimetype": "text/html"
      },
      "source": [
        "<!-- \\[ -->"
      ],
      "id": "300da047-7fbb-4a5f-b407-24168e3f950c"
    },
    {
      "cell_type": "raw",
      "metadata": {
        "raw_mimetype": "text/html"
      },
      "source": [
        "<!-- \\begin{aligned} -->"
      ],
      "id": "c948f042-140d-43c8-965d-48507b60bcac"
    },
    {
      "cell_type": "raw",
      "metadata": {
        "raw_mimetype": "text/html"
      },
      "source": [
        "<!-- &\\hat{E}(\\mathtt{bill\\_length\\_mm} \\mid \\mathtt{body\\_mass\\_g}, \\mathtt{species}=\\mathtt{Chinstrap}) \\\\ -->"
      ],
      "id": "b80bb54a-b75f-4ead-9f66-b655be5b2f5d"
    },
    {
      "cell_type": "raw",
      "metadata": {
        "raw_mimetype": "text/html"
      },
      "source": [
        "<!-- &=24.92 + 0.004 \\mathtt{body\\_mass\\_g} + 9.92 \\cdot 1 + 3.56 \\cdot 0 \\\\ -->"
      ],
      "id": "b183bea1-644a-42f4-8f6a-e79bbdbb431c"
    },
    {
      "cell_type": "raw",
      "metadata": {
        "raw_mimetype": "text/html"
      },
      "source": [
        "<!-- &= 34.84 + 0.004 \\mathtt{body\\_mass\\_g}. -->"
      ],
      "id": "8dd96d69-fc63-4543-95ff-60002314459a"
    },
    {
      "cell_type": "raw",
      "metadata": {
        "raw_mimetype": "text/html"
      },
      "source": [
        "<!-- \\end{aligned} -->"
      ],
      "id": "5b9712ca-e545-4701-9f1d-1bdf071c69af"
    },
    {
      "cell_type": "raw",
      "metadata": {
        "raw_mimetype": "text/html"
      },
      "source": [
        "<!-- \\] -->"
      ],
      "id": "556264ff-d849-4cb4-be07-8ff2e5b5540e"
    },
    {
      "cell_type": "raw",
      "metadata": {
        "raw_mimetype": "text/html"
      },
      "source": [
        "<!-- Lastly, when an observation has `species` level `Gentoo`, then Equation \\@ref(eq:pl-model-penguins) simplifies to -->"
      ],
      "id": "5c130d11-a662-4276-a64a-bcf159cb9feb"
    },
    {
      "cell_type": "raw",
      "metadata": {
        "raw_mimetype": "text/html"
      },
      "source": [
        "<!-- \\[ -->"
      ],
      "id": "da73cbc0-dd6a-42c4-bdc3-48ace41a8699"
    },
    {
      "cell_type": "raw",
      "metadata": {
        "raw_mimetype": "text/html"
      },
      "source": [
        "<!-- \\begin{aligned} -->"
      ],
      "id": "a85c2cfd-eeea-4ff0-99fa-0d93f2db2018"
    },
    {
      "cell_type": "raw",
      "metadata": {
        "raw_mimetype": "text/html"
      },
      "source": [
        "<!-- &\\hat{E}(\\mathtt{bill\\_length\\_mm} \\mid \\mathtt{body\\_mass\\_g}, \\mathtt{species}=\\mathtt{Gentoo}) \\\\ -->"
      ],
      "id": "47e8f317-a738-472a-b1e4-8941a161ba75"
    },
    {
      "cell_type": "raw",
      "metadata": {
        "raw_mimetype": "text/html"
      },
      "source": [
        "<!-- &=24.92 + 0.004 \\mathtt{body\\_mass\\_g} + 9.92 \\cdot 0 + 3.56 \\cdot 1 \\\\ -->"
      ],
      "id": "71a368ed-8fb0-4b76-97a8-f3dc11d436ef"
    },
    {
      "cell_type": "raw",
      "metadata": {
        "raw_mimetype": "text/html"
      },
      "source": [
        "<!-- &= 28.48 + 0.004 \\mathtt{body\\_mass\\_g}. -->"
      ],
      "id": "b9aac900-fbee-4644-ac04-ac88b97f6de3"
    },
    {
      "cell_type": "raw",
      "metadata": {
        "raw_mimetype": "text/html"
      },
      "source": [
        "<!-- \\end{aligned} -->"
      ],
      "id": "8abf1159-7bb6-4ddc-81f7-aa68aff7a871"
    },
    {
      "cell_type": "raw",
      "metadata": {
        "raw_mimetype": "text/html"
      },
      "source": [
        "<!-- \\] -->"
      ],
      "id": "42d9e776-6890-4117-b00d-f190c653c8de"
    },
    {
      "cell_type": "raw",
      "metadata": {
        "raw_mimetype": "text/html"
      },
      "source": [
        "<!-- --- -->"
      ],
      "id": "6d496981-233f-434b-871d-f9b24593c4ba"
    },
    {
      "cell_type": "raw",
      "metadata": {
        "raw_mimetype": "text/html"
      },
      "source": [
        "<!-- Adding fitted lines for each `species` level to the scatter plot in Figure \\@ref(fig:penguins-grouped-scatter) is a bit more difficult than before. One technique is to use `predict` to get the fitted values of each observation, use the `transform` function to add those values as a column to the original the data frame, then use `geom_line` to connect the fitted values from each group. -->"
      ],
      "id": "44181272-83b3-4bc9-93af-c5533aa10dbd"
    },
    {
      "cell_type": "raw",
      "metadata": {
        "raw_mimetype": "text/html"
      },
      "source": [
        "<!-- We start by adding our fitted values to the `penguins` data frame. We use the `predict` function to obtained the fitted values of our fitted model and then use the `transform` function to add those values as the `pl_fitted` variable in the `penguins` data frame. -->"
      ],
      "id": "c338f278-7513-48e6-b31a-1508fe76d8c2"
    },
    {
      "cell_type": "raw",
      "metadata": {
        "raw_mimetype": "text/html"
      },
      "source": [
        "<!-- ```{r, error=TRUE} -->"
      ],
      "id": "af361a43-a324-4af1-8b68-5b9c183cb710"
    },
    {
      "cell_type": "raw",
      "metadata": {
        "raw_mimetype": "text/html"
      },
      "source": [
        "<!-- penguins <- -->"
      ],
      "id": "96157450-3685-401c-988c-46550066fbbb"
    },
    {
      "cell_type": "raw",
      "metadata": {
        "raw_mimetype": "text/html"
      },
      "source": [
        "<!--   penguins |> -->"
      ],
      "id": "1698a8b6-81c2-4efe-9651-6a3089e9662b"
    },
    {
      "cell_type": "raw",
      "metadata": {
        "raw_mimetype": "text/html"
      },
      "source": [
        "<!--   transform(pl_fitted = predict(lmodp)) -->"
      ],
      "id": "0650f0cc-0bf6-4fdc-a61f-00a8c159ca5f"
    },
    {
      "cell_type": "raw",
      "metadata": {
        "raw_mimetype": "text/html"
      },
      "source": [
        "<!-- ``` -->"
      ],
      "id": "fc6c8189-6657-4426-a7bd-b1ca85c0352f"
    },
    {
      "cell_type": "raw",
      "metadata": {
        "raw_mimetype": "text/html"
      },
      "source": [
        "<!-- - **Question:** Why are we getting this error? -->"
      ],
      "id": "3200637e-c2c6-4f78-bd24-51da090869e1"
    },
    {
      "cell_type": "raw",
      "metadata": {
        "raw_mimetype": "text/html"
      },
      "source": [
        "<!-- --- -->"
      ],
      "id": "1c40a076-4efc-4ca0-bf2c-0c8ce874e923"
    },
    {
      "cell_type": "raw",
      "metadata": {
        "raw_mimetype": "text/html"
      },
      "source": [
        "<!-- To handle this error, we refit our model while setting the `na.action` argument to `na.exclude`. As stated Details section of the documentation for the `lm` function (run `?lm` in the Console): -->"
      ],
      "id": "44940744-8b9c-44a1-ab29-1cbd9039cb04"
    },
    {
      "cell_type": "raw",
      "metadata": {
        "raw_mimetype": "text/html"
      },
      "source": [
        "<!-- > $\\ldots$ when `na.exclude` is used the residuals and predictions are padded to the correct length by inserting `NA`s for cases omitted by `na.exclude`. -->"
      ],
      "id": "6506f734-3728-43fd-9c85-5d56fdae20e7"
    },
    {
      "cell_type": "raw",
      "metadata": {
        "raw_mimetype": "text/html"
      },
      "source": [
        "<!-- We refit the parallel lines model below with `na.action = na.exclude`, then use the `predict` function to add the fitted values to the `penguins` data frame via the `transform` function. -->"
      ],
      "id": "6c244174-865e-412c-a0c6-c15349dc058b"
    },
    {
      "cell_type": "raw",
      "metadata": {
        "raw_mimetype": "text/html"
      },
      "source": [
        "<!-- ```{r} -->"
      ],
      "id": "9a563c05-fda2-44cb-a0b1-d6014d674b34"
    },
    {
      "cell_type": "raw",
      "metadata": {
        "raw_mimetype": "text/html"
      },
      "source": [
        "<!-- # refit parallel lines model with new na.action behavior -->"
      ],
      "id": "62257230-1936-4b97-b9b5-c310bcee298b"
    },
    {
      "cell_type": "raw",
      "metadata": {
        "raw_mimetype": "text/html"
      },
      "source": [
        "<!-- lmodp <- lm(bill_length_mm ~ body_mass_g + species, data = penguins, na.action = na.exclude) -->"
      ],
      "id": "7debf19f-572f-4914-bc1f-0d8c01fdbdea"
    },
    {
      "cell_type": "raw",
      "metadata": {
        "raw_mimetype": "text/html"
      },
      "source": [
        "<!-- # add fitted values to penguins data frame -->"
      ],
      "id": "cd8f086a-089a-4a09-a874-7b659237c8d0"
    },
    {
      "cell_type": "raw",
      "metadata": {
        "raw_mimetype": "text/html"
      },
      "source": [
        "<!-- penguins <- -->"
      ],
      "id": "d45ff50f-0805-4479-a991-76d8cef7e0c1"
    },
    {
      "cell_type": "raw",
      "metadata": {
        "raw_mimetype": "text/html"
      },
      "source": [
        "<!--   penguins |> -->"
      ],
      "id": "e247073b-a876-42a3-a5b1-2ff4ea4e1ce6"
    },
    {
      "cell_type": "raw",
      "metadata": {
        "raw_mimetype": "text/html"
      },
      "source": [
        "<!--   transform(pl_fitted = predict(lmodp)) -->"
      ],
      "id": "7b5e62ec-0cc9-494f-80c9-37ffc2e3f691"
    },
    {
      "cell_type": "raw",
      "metadata": {
        "raw_mimetype": "text/html"
      },
      "source": [
        "<!-- ``` -->"
      ],
      "id": "7b66d290-e343-4fd9-aff0-57b9cd987c2c"
    },
    {
      "cell_type": "raw",
      "metadata": {
        "raw_mimetype": "text/html"
      },
      "source": [
        "<!-- --- -->"
      ],
      "id": "4e9e21e2-3100-45a3-acd3-4d9838eacfb2"
    },
    {
      "cell_type": "raw",
      "metadata": {
        "raw_mimetype": "text/html"
      },
      "source": [
        "<!-- We now use the `geom_line` function to add the fitted lines for each `species` level to our scatter plot. Figure \\@ref(fig:pl-penguin-fit) displays the results from running the code below. The parallel lines model shown in Figure \\@ref(fig:pl-penguin-fit) fits the `penguins` data better than the simple linear regression model shown in Figure \\@ref(fig:slr-penguin-fit). -->"
      ],
      "id": "139fbe29-0df8-4f70-b18c-0785c184015a"
    },
    {
      "cell_type": "raw",
      "metadata": {
        "raw_mimetype": "text/html"
      },
      "source": [
        "<!-- ```{r pl-penguin-fit, fig.cap=\"The fitted lines from the separate lines model for each level of `species` is added to the grouped scatter plot of `bill_length_mm` versus `body_mass_g`.\", warning = FALSE} -->"
      ],
      "id": "baf2b073-6a05-42b3-b0ec-23cc69df831f"
    },
    {
      "cell_type": "raw",
      "metadata": {
        "raw_mimetype": "text/html"
      },
      "source": [
        "<!-- # create plot -->"
      ],
      "id": "ada126a6-b7af-4150-a4c8-ee4e94883424"
    },
    {
      "cell_type": "raw",
      "metadata": {
        "raw_mimetype": "text/html"
      },
      "source": [
        "<!-- # create scatterplot -->"
      ],
      "id": "7bd52847-3d78-4185-89fa-f6bf98449c92"
    },
    {
      "cell_type": "raw",
      "metadata": {
        "raw_mimetype": "text/html"
      },
      "source": [
        "<!-- # customize labels -->"
      ],
      "id": "8039c6ba-1645-48d4-8984-a8fbb0dedc6e"
    },
    {
      "cell_type": "raw",
      "metadata": {
        "raw_mimetype": "text/html"
      },
      "source": [
        "<!-- # add lines for each level of species -->"
      ],
      "id": "54e6bc4e-b614-4810-847c-381b5c76f314"
    },
    {
      "cell_type": "raw",
      "metadata": {
        "raw_mimetype": "text/html"
      },
      "source": [
        "<!-- ggplot(data = penguins) + -->"
      ],
      "id": "58a5431b-5869-41ce-a19c-4fd9a352009a"
    },
    {
      "cell_type": "raw",
      "metadata": {
        "raw_mimetype": "text/html"
      },
      "source": [
        "<!--   geom_point(aes(x = body_mass_g, y = bill_length_mm, -->"
      ],
      "id": "fd9ddada-7c27-42cb-a457-fd49ff22ff2c"
    },
    {
      "cell_type": "raw",
      "metadata": {
        "raw_mimetype": "text/html"
      },
      "source": [
        "<!--                  shape = species, color = species)) + -->"
      ],
      "id": "903b5dc0-186d-46a5-8d68-0ee534c6b32b"
    },
    {
      "cell_type": "raw",
      "metadata": {
        "raw_mimetype": "text/html"
      },
      "source": [
        "<!--   xlab(\"body mass (g)\") + ylab(\"bill length (mm)\") + -->"
      ],
      "id": "41c97738-73a7-4e9c-9cb6-b567b03d6a55"
    },
    {
      "cell_type": "raw",
      "metadata": {
        "raw_mimetype": "text/html"
      },
      "source": [
        "<!--   geom_line(aes(x = body_mass_g, y = pl_fitted, color = species)) -->"
      ],
      "id": "c071eca2-4302-4daa-9d8c-3c9ad9949751"
    },
    {
      "cell_type": "raw",
      "metadata": {
        "raw_mimetype": "text/html"
      },
      "source": [
        "<!-- ``` -->"
      ],
      "id": "a764b190-5442-467b-8a49-2828ac268870"
    },
    {
      "cell_type": "raw",
      "metadata": {
        "raw_mimetype": "text/html"
      },
      "source": [
        "<!-- --- -->"
      ],
      "id": "a68ec208-cddc-45d0-8a33-414f88c573ea"
    },
    {
      "cell_type": "raw",
      "metadata": {
        "raw_mimetype": "text/html"
      },
      "source": [
        "<!-- We now fit a separate lines regression model to the `penguins` data. Specifically, we fit the model -->"
      ],
      "id": "4de62f80-888f-4334-9926-6ebfcd019496"
    },
    {
      "cell_type": "raw",
      "metadata": {
        "raw_mimetype": "text/html"
      },
      "source": [
        "<!-- \\[ -->"
      ],
      "id": "b11a0043-d7d4-4ee8-808a-4fc79c4cd943"
    },
    {
      "cell_type": "raw",
      "metadata": {
        "raw_mimetype": "text/html"
      },
      "source": [
        "<!-- \\begin{aligned} -->"
      ],
      "id": "93cbbd80-1243-4d8f-ad32-fc4d9328d097"
    },
    {
      "cell_type": "raw",
      "metadata": {
        "raw_mimetype": "text/html"
      },
      "source": [
        "<!-- &E(\\mathtt{bill\\_length\\_mm} \\mid \\mathtt{body\\_mass\\_g}, \\mathtt{species}) \\\\ -->"
      ],
      "id": "5cb4d901-8359-420d-af4f-84207fe6384c"
    },
    {
      "cell_type": "raw",
      "metadata": {
        "raw_mimetype": "text/html"
      },
      "source": [
        "<!-- &= \\beta_{0} + \\beta_1 \\mathtt{body\\_mass\\_g} + \\beta_2 D_C + \\beta_3 D_G + \\beta_4 \\mathtt{body\\_mass\\_g} D_C + \\beta_5 \\mathtt{body\\_mass\\_g} D_G , -->"
      ],
      "id": "bf1e59f2-d467-487a-8da1-6fafa53f0106"
    },
    {
      "cell_type": "raw",
      "metadata": {
        "raw_mimetype": "text/html"
      },
      "source": [
        "<!-- \\end{aligned} -->"
      ],
      "id": "a42d1611-92d7-4bf5-9484-9b7435aa85bf"
    },
    {
      "cell_type": "raw",
      "metadata": {
        "raw_mimetype": "text/html"
      },
      "source": [
        "<!-- \\] -->"
      ],
      "id": "a9625e7b-1d76-4ce2-a796-6ee4d0cc935e"
    },
    {
      "cell_type": "raw",
      "metadata": {
        "raw_mimetype": "text/html"
      },
      "source": [
        "<!-- using the code below, using the `coef` function to extract the estimated coefficients. The terms with `:` are interaction variables, e.g., `body_mass_g:speciesChinstrap` is $\\hat{\\beta}_4$, the coefficient for the interaction between regressor $\\mathtt{body\\_mass\\_g} D_C$. -->"
      ],
      "id": "9addc7c8-4878-4a45-b96a-c7ac26515157"
    },
    {
      "cell_type": "raw",
      "metadata": {
        "raw_mimetype": "text/html"
      },
      "source": [
        "<!-- ```{r} -->"
      ],
      "id": "786c96a6-5d4c-4c45-b83d-a6f817b248dc"
    },
    {
      "cell_type": "raw",
      "metadata": {
        "raw_mimetype": "text/html"
      },
      "source": [
        "<!-- # fit separate lines model -->"
      ],
      "id": "33a302aa-471a-4da3-aabb-1c127d8fc141"
    },
    {
      "cell_type": "raw",
      "metadata": {
        "raw_mimetype": "text/html"
      },
      "source": [
        "<!-- # na.omit = na.exclude used to change predict behavior -->"
      ],
      "id": "2d59d65e-5903-4d6f-8369-e02c87a0e7d5"
    },
    {
      "cell_type": "raw",
      "metadata": {
        "raw_mimetype": "text/html"
      },
      "source": [
        "<!-- lmods <- lm(bill_length_mm ~ body_mass_g + species + body_mass_g:species, -->"
      ],
      "id": "7af0c876-3dc0-4a45-9309-fc22866c9ee4"
    },
    {
      "cell_type": "raw",
      "metadata": {
        "raw_mimetype": "text/html"
      },
      "source": [
        "<!--             data = penguins, na.action = na.exclude) -->"
      ],
      "id": "9b3bbe1a-ad6e-452f-a45e-2643737a7c44"
    },
    {
      "cell_type": "raw",
      "metadata": {
        "raw_mimetype": "text/html"
      },
      "source": [
        "<!-- # extract estimated coefficients -->"
      ],
      "id": "8947a48d-3077-4364-8d12-4abaf0ddcb36"
    },
    {
      "cell_type": "raw",
      "metadata": {
        "raw_mimetype": "text/html"
      },
      "source": [
        "<!-- coef(lmods) -->"
      ],
      "id": "ccdf25d1-1f8a-4818-b7db-b87d9696e0f4"
    },
    {
      "cell_type": "raw",
      "metadata": {
        "raw_mimetype": "text/html"
      },
      "source": [
        "<!-- ``` -->"
      ],
      "id": "e61a7a36-4a59-4260-8457-b963c9411e6e"
    },
    {
      "cell_type": "raw",
      "metadata": {
        "raw_mimetype": "text/html"
      },
      "source": [
        "<!-- Thus, the fitted separate lines model is -->"
      ],
      "id": "9fb3d57e-a018-4424-9129-d9cc10355c78"
    },
    {
      "cell_type": "raw",
      "metadata": {
        "raw_mimetype": "text/html"
      },
      "source": [
        "<!-- \\[ -->"
      ],
      "id": "340bcaa5-b326-4e32-a7aa-9ececc306b44"
    },
    {
      "cell_type": "raw",
      "metadata": {
        "raw_mimetype": "text/html"
      },
      "source": [
        "<!-- \\begin{aligned} -->"
      ],
      "id": "58d7f86a-e30c-4983-9abb-6483ff8572b5"
    },
    {
      "cell_type": "raw",
      "metadata": {
        "raw_mimetype": "text/html"
      },
      "source": [
        "<!-- &\\hat{E}(\\mathtt{bill\\_length\\_mm} \\mid \\mathtt{body\\_mass\\_g}, \\mathtt{species}) \\\\ -->"
      ],
      "id": "af4da68f-e96c-4e2f-94dd-663c554892a3"
    },
    {
      "cell_type": "raw",
      "metadata": {
        "raw_mimetype": "text/html"
      },
      "source": [
        "<!-- &= 26.99 + 0.003 \\mathtt{body\\_mass\\_g} + 5.18 D_C - 0.25 D_G \\\\ -->"
      ],
      "id": "b08df3be-7efc-4cdf-ab8a-021524a1c46e"
    },
    {
      "cell_type": "raw",
      "metadata": {
        "raw_mimetype": "text/html"
      },
      "source": [
        "<!-- &\\quad + 0.001 \\mathtt{body\\_mass\\_g} D_C + 0.0009 \\mathtt{body\\_mass\\_g} D_G, (\\#eq:sl-model-penguins) -->"
      ],
      "id": "a6000da4-c2f5-48ed-834c-7da6e9ae6a13"
    },
    {
      "cell_type": "raw",
      "metadata": {
        "raw_mimetype": "text/html"
      },
      "source": [
        "<!-- \\end{aligned} -->"
      ],
      "id": "b1a662ca-d2d2-48ac-896a-e7ceeb4a8e00"
    },
    {
      "cell_type": "raw",
      "metadata": {
        "raw_mimetype": "text/html"
      },
      "source": [
        "<!-- \\] -->"
      ],
      "id": "4344a06f-f867-440b-a34c-06d613da2907"
    },
    {
      "cell_type": "raw",
      "metadata": {
        "raw_mimetype": "text/html"
      },
      "source": [
        "<!-- --- -->"
      ],
      "id": "4241f736-ed2c-4fa3-adbc-346aa40db17d"
    },
    {
      "cell_type": "raw",
      "metadata": {
        "raw_mimetype": "text/html"
      },
      "source": [
        "<!-- When an observation has `species` level `Adelie`, then Equation \\@ref(eq:sl-model-penguins) simplifies to -->"
      ],
      "id": "1ca030df-fcf3-4463-8759-8e7d9b52446d"
    },
    {
      "cell_type": "raw",
      "metadata": {
        "raw_mimetype": "text/html"
      },
      "source": [
        "<!-- \\[ -->"
      ],
      "id": "a5551131-a71f-4cc9-9206-d547eece1f66"
    },
    {
      "cell_type": "raw",
      "metadata": {
        "raw_mimetype": "text/html"
      },
      "source": [
        "<!-- \\begin{aligned} -->"
      ],
      "id": "0e32e117-5a37-4da4-8cc2-2ba23363cd22"
    },
    {
      "cell_type": "raw",
      "metadata": {
        "raw_mimetype": "text/html"
      },
      "source": [
        "<!-- &\\hat{E}(\\mathtt{bill\\_length\\_mm} \\mid \\mathtt{body\\_mass\\_g}, \\mathtt{species}=\\mathtt{Adelie}) \\\\ -->"
      ],
      "id": "272e194e-5234-4171-afcf-72f3f0013ba9"
    },
    {
      "cell_type": "raw",
      "metadata": {
        "raw_mimetype": "text/html"
      },
      "source": [
        "<!-- &=26.99 + 0.003 \\mathtt{body\\_mass\\_g} + 5.18 \\cdot 0 - 0.25 \\cdot 0\\\\ -->"
      ],
      "id": "0c4ee8fe-51ea-4341-8963-ad49a03b83d3"
    },
    {
      "cell_type": "raw",
      "metadata": {
        "raw_mimetype": "text/html"
      },
      "source": [
        "<!-- &\\quad + 0.001 \\cdot \\mathtt{body\\_mass\\_g} \\cdot 0 + 0.0009 \\cdot \\mathtt{body\\_mass\\_g} \\cdot 0\\\\ -->"
      ],
      "id": "3309807c-45f0-45a9-89b1-c7d58a1d373e"
    },
    {
      "cell_type": "raw",
      "metadata": {
        "raw_mimetype": "text/html"
      },
      "source": [
        "<!-- &= 26.99 + 0.003 \\mathtt{body\\_mass\\_g}. -->"
      ],
      "id": "6518671b-0c78-44c1-a4fc-5a6cef86f73f"
    },
    {
      "cell_type": "raw",
      "metadata": {
        "raw_mimetype": "text/html"
      },
      "source": [
        "<!-- \\end{aligned} -->"
      ],
      "id": "738e9d0c-fa97-49a4-82b2-a2e09df68a8d"
    },
    {
      "cell_type": "raw",
      "metadata": {
        "raw_mimetype": "text/html"
      },
      "source": [
        "<!-- \\] -->"
      ],
      "id": "c6fa6743-4fa0-48d6-8273-43ed14f5b0e0"
    },
    {
      "cell_type": "raw",
      "metadata": {
        "raw_mimetype": "text/html"
      },
      "source": [
        "<!-- When an observation has `species` level `Chinstrap`, then Equation \\@ref(eq:sl-model-penguins) simplifies to -->"
      ],
      "id": "cb406829-9c09-4b3b-b65c-098e12a309f2"
    },
    {
      "cell_type": "raw",
      "metadata": {
        "raw_mimetype": "text/html"
      },
      "source": [
        "<!-- \\[ -->"
      ],
      "id": "47e62f36-30ea-479d-800a-147e6371d404"
    },
    {
      "cell_type": "raw",
      "metadata": {
        "raw_mimetype": "text/html"
      },
      "source": [
        "<!-- \\begin{aligned} -->"
      ],
      "id": "efdd35ac-6505-4976-a132-000da9999d1f"
    },
    {
      "cell_type": "raw",
      "metadata": {
        "raw_mimetype": "text/html"
      },
      "source": [
        "<!-- &\\hat{E}(\\mathtt{bill\\_length\\_mm} \\mid \\mathtt{body\\_mass\\_g}, \\mathtt{species}=\\mathtt{Chinstrap}) \\\\ -->"
      ],
      "id": "2ca14431-bf68-46cc-90cf-1a8e2f750473"
    },
    {
      "cell_type": "raw",
      "metadata": {
        "raw_mimetype": "text/html"
      },
      "source": [
        "<!-- &=26.99 + 0.003 \\mathtt{body\\_mass\\_g} + 5.18 \\cdot 1 - 0.25 \\cdot 0 \\\\ -->"
      ],
      "id": "4d953190-0242-4b8d-b9d8-51681fece556"
    },
    {
      "cell_type": "raw",
      "metadata": {
        "raw_mimetype": "text/html"
      },
      "source": [
        "<!-- &\\quad + 0.001 \\cdot \\mathtt{body\\_mass\\_g} \\cdot 1 + 0.0009 \\cdot \\mathtt{body\\_mass\\_g} \\cdot 0 \\\\ -->"
      ],
      "id": "b4a66ec0-2032-47a2-9e4f-2916f1164264"
    },
    {
      "cell_type": "raw",
      "metadata": {
        "raw_mimetype": "text/html"
      },
      "source": [
        "<!-- &= 31.17 + 0.004 \\mathtt{body\\_mass\\_g}. -->"
      ],
      "id": "0f1e242b-33ba-4d21-b9d1-bd0041f4aeae"
    },
    {
      "cell_type": "raw",
      "metadata": {
        "raw_mimetype": "text/html"
      },
      "source": [
        "<!-- \\end{aligned} -->"
      ],
      "id": "74cab4ce-6c10-4176-ab92-639e814a97d5"
    },
    {
      "cell_type": "raw",
      "metadata": {
        "raw_mimetype": "text/html"
      },
      "source": [
        "<!-- \\] -->"
      ],
      "id": "cee4eae9-ee14-47b3-8a53-7eb622db4434"
    },
    {
      "cell_type": "raw",
      "metadata": {
        "raw_mimetype": "text/html"
      },
      "source": [
        "<!-- When an observation has `species` level `Gentoo`, then Equation \\@ref(eq:sl-model-penguins) simplifies to -->"
      ],
      "id": "f37803a5-259c-4c3b-a69f-0a10a6b674d4"
    },
    {
      "cell_type": "raw",
      "metadata": {
        "raw_mimetype": "text/html"
      },
      "source": [
        "<!-- \\[ -->"
      ],
      "id": "e2f0a902-6813-488f-8467-055cdcbd042d"
    },
    {
      "cell_type": "raw",
      "metadata": {
        "raw_mimetype": "text/html"
      },
      "source": [
        "<!-- \\begin{aligned} -->"
      ],
      "id": "053079df-e3ce-4e42-b34e-18907589aa02"
    },
    {
      "cell_type": "raw",
      "metadata": {
        "raw_mimetype": "text/html"
      },
      "source": [
        "<!-- &\\hat{E}(\\mathtt{bill\\_length\\_mm} \\mid \\mathtt{body\\_mass\\_g}, \\mathtt{species}=\\mathtt{Chinstrap}) \\\\ -->"
      ],
      "id": "6688d3b1-2b23-420b-91b1-7eb79d5ef5cd"
    },
    {
      "cell_type": "raw",
      "metadata": {
        "raw_mimetype": "text/html"
      },
      "source": [
        "<!-- &=26.99 + 0.003 \\mathtt{body\\_mass\\_g} + 5.18 \\cdot 0 - 0.25 \\cdot 1 \\\\ -->"
      ],
      "id": "22b6c2f4-e507-42cf-8248-5c9f4623da61"
    },
    {
      "cell_type": "raw",
      "metadata": {
        "raw_mimetype": "text/html"
      },
      "source": [
        "<!-- &\\quad + 0.001 \\cdot \\mathtt{body\\_mass\\_g} \\cdot 0 + 0.0009 \\cdot \\mathtt{body\\_mass\\_g} \\cdot 1 \\\\ -->"
      ],
      "id": "861a22bb-b404-4617-8c9e-c6461eb17d57"
    },
    {
      "cell_type": "raw",
      "metadata": {
        "raw_mimetype": "text/html"
      },
      "source": [
        "<!-- &= 26.74 + 0.004 \\mathtt{body\\_mass\\_g}. -->"
      ],
      "id": "d94e3675-821c-4641-988e-8b1af1ebfb0d"
    },
    {
      "cell_type": "raw",
      "metadata": {
        "raw_mimetype": "text/html"
      },
      "source": [
        "<!-- \\end{aligned} -->"
      ],
      "id": "c8d40ae3-d13b-4204-8563-45f0406a120d"
    },
    {
      "cell_type": "raw",
      "metadata": {
        "raw_mimetype": "text/html"
      },
      "source": [
        "<!-- \\] -->"
      ],
      "id": "e33b0b08-8c8b-403d-b32e-4c58ca3a93bb"
    },
    {
      "cell_type": "raw",
      "metadata": {
        "raw_mimetype": "text/html"
      },
      "source": [
        "<!-- --- -->"
      ],
      "id": "55578299-3012-4f36-b30e-3a610d2bbd08"
    },
    {
      "cell_type": "raw",
      "metadata": {
        "raw_mimetype": "text/html"
      },
      "source": [
        "<!-- We use the code below to display the fitted lines for the separate lines model on the `penguins` data.  -->"
      ],
      "id": "f6a75c8f-0071-422e-b918-063befa8f296"
    },
    {
      "cell_type": "raw",
      "metadata": {
        "raw_mimetype": "text/html"
      },
      "source": [
        "<!-- ```{r sl-penguin-fit, fig.cap=\"The fitted model for each level of `species` is added to the grouped scatter plot of `bill_length_mm` versus `body_mass_g`.\", warning = FALSE} -->"
      ],
      "id": "37290857-13b1-4ee3-9b42-45f078b0add4"
    },
    {
      "cell_type": "raw",
      "metadata": {
        "raw_mimetype": "text/html"
      },
      "source": [
        "<!-- # add separate lines fitted values to penguins data frame -->"
      ],
      "id": "a7bbe3b1-0c71-4a2c-8057-006b7f80afb0"
    },
    {
      "cell_type": "raw",
      "metadata": {
        "raw_mimetype": "text/html"
      },
      "source": [
        "<!-- penguins <- -->"
      ],
      "id": "4321e1fa-18ba-4350-9fe5-09a509a2a620"
    },
    {
      "cell_type": "raw",
      "metadata": {
        "raw_mimetype": "text/html"
      },
      "source": [
        "<!--   penguins |> -->"
      ],
      "id": "eed86be0-72e4-4b56-8946-b9637f7e0223"
    },
    {
      "cell_type": "raw",
      "metadata": {
        "raw_mimetype": "text/html"
      },
      "source": [
        "<!--   transform(sl_fitted = predict(lmods)) -->"
      ],
      "id": "3265f7aa-3253-431a-9524-d8c03fe11a6f"
    },
    {
      "cell_type": "raw",
      "metadata": {
        "raw_mimetype": "text/html"
      },
      "source": [
        "<!-- # use geom_line to add fitted lines to plot -->"
      ],
      "id": "23fc1657-da06-4467-9ea2-8d8c527e81ff"
    },
    {
      "cell_type": "raw",
      "metadata": {
        "raw_mimetype": "text/html"
      },
      "source": [
        "<!-- ggplot(data = penguins) + -->"
      ],
      "id": "eb178a6c-471e-453c-8c4c-03003401b32b"
    },
    {
      "cell_type": "raw",
      "metadata": {
        "raw_mimetype": "text/html"
      },
      "source": [
        "<!--   geom_point(aes(x = body_mass_g, y = bill_length_mm, shape = species, color = species)) + -->"
      ],
      "id": "0e228abc-b24c-4413-b632-1c3ec270ec5c"
    },
    {
      "cell_type": "raw",
      "metadata": {
        "raw_mimetype": "text/html"
      },
      "source": [
        "<!--   xlab(\"body mass (g)\") + ylab(\"bill length (mm)\") + -->"
      ],
      "id": "1be830ab-70c8-432d-9027-490adc8d35e8"
    },
    {
      "cell_type": "raw",
      "metadata": {
        "raw_mimetype": "text/html"
      },
      "source": [
        "<!--   geom_line(aes(x = body_mass_g, y = sl_fitted, col = species)) -->"
      ],
      "id": "9440e9b6-fcc9-4683-abaf-a0838356ab65"
    },
    {
      "cell_type": "raw",
      "metadata": {
        "raw_mimetype": "text/html"
      },
      "source": [
        "<!-- ``` -->"
      ],
      "id": "45a222ed-fd68-4781-b798-461fab4b9f99"
    },
    {
      "cell_type": "raw",
      "metadata": {
        "raw_mimetype": "text/html"
      },
      "source": [
        "<!-- - **Question:** Do the fitted lines match the observed data behavior reasonably well? -->"
      ],
      "id": "907bc71e-dba0-48ee-abca-1f13972ae7f1"
    },
    {
      "cell_type": "raw",
      "metadata": {
        "raw_mimetype": "text/html"
      },
      "source": [
        "<!-- # Evaluating model fit -->"
      ],
      "id": "ad7de588-d009-472b-aa0d-cb30794580e3"
    },
    {
      "cell_type": "raw",
      "metadata": {
        "raw_mimetype": "text/html"
      },
      "source": [
        "<!-- The most basic statistic measuring the fit of a regression model is the **coefficient of determination**, which is defined as -->"
      ],
      "id": "19df4daf-363e-4fba-b025-dff9bd64e3df"
    },
    {
      "cell_type": "raw",
      "metadata": {
        "raw_mimetype": "text/html"
      },
      "source": [
        "<!-- \\[ -->"
      ],
      "id": "6aba2f95-e086-4105-9be1-44cef0946a84"
    },
    {
      "cell_type": "raw",
      "metadata": {
        "raw_mimetype": "text/html"
      },
      "source": [
        "<!-- R^2 = 1 - \\frac{\\sum_{i=1}^n (Y_i-\\hat{Y}_i)^2}{\\sum_{i=1}^n (Y_i-\\bar{Y})^2},(\\#eq:rsquared) -->"
      ],
      "id": "d824aa8d-46f9-4a8b-bd20-65a059e5749a"
    },
    {
      "cell_type": "raw",
      "metadata": {
        "raw_mimetype": "text/html"
      },
      "source": [
        "<!-- \\] -->"
      ],
      "id": "ba49b348-8ec1-44a0-a5d1-f1460e30bc71"
    },
    {
      "cell_type": "raw",
      "metadata": {
        "raw_mimetype": "text/html"
      },
      "source": [
        "<!-- where $\\bar{Y}$ is the sample mean of the observed response values. -->"
      ],
      "id": "c107570a-ce5e-4c96-ae51-541f582a7029"
    },
    {
      "cell_type": "raw",
      "metadata": {
        "raw_mimetype": "text/html"
      },
      "source": [
        "<!-- --- -->"
      ],
      "id": "b5ef6b2c-260f-4718-a111-24c52088cbf6"
    },
    {
      "cell_type": "raw",
      "metadata": {
        "raw_mimetype": "text/html"
      },
      "source": [
        "<!-- To interpret this statistic, we need to introduce some new \"sum-of-squares\" statistics similar to the RSS. -->"
      ],
      "id": "b5282396-8290-4255-9a81-e9b14188d7e3"
    },
    {
      "cell_type": "raw",
      "metadata": {
        "raw_mimetype": "text/html"
      },
      "source": [
        "<!-- The **total sum of squares** (corrected for the mean) is computed as -->"
      ],
      "id": "9bd67126-3dfb-4cb0-baae-83be196aa50e"
    },
    {
      "cell_type": "raw",
      "metadata": {
        "raw_mimetype": "text/html"
      },
      "source": [
        "<!-- \\[ -->"
      ],
      "id": "63a15eb8-bb73-4ae9-9242-55333765a877"
    },
    {
      "cell_type": "raw",
      "metadata": {
        "raw_mimetype": "text/html"
      },
      "source": [
        "<!-- TSS = \\sum_{i=1}^n(Y_i-\\bar{Y})^2. (\\#eq:tss) -->"
      ],
      "id": "15bca9e3-9755-4a24-8a68-1581ce104670"
    },
    {
      "cell_type": "raw",
      "metadata": {
        "raw_mimetype": "text/html"
      },
      "source": [
        "<!-- \\] -->"
      ],
      "id": "3f610722-7af8-4d48-9a67-269e4d76e70b"
    },
    {
      "cell_type": "raw",
      "metadata": {
        "raw_mimetype": "text/html"
      },
      "source": [
        "<!-- The TSS is the sum of the squared deviations of the response values from the sample mean. However, it has a more insightful interpretation. Consider the **constant mean model**, which is the model -->"
      ],
      "id": "0c98f2f7-fdd2-4888-92c3-6af5d1a08df3"
    },
    {
      "cell_type": "raw",
      "metadata": {
        "raw_mimetype": "text/html"
      },
      "source": [
        "<!-- \\[ -->"
      ],
      "id": "8c2bdfac-ebaf-451f-a5c6-7d49e91e6759"
    },
    {
      "cell_type": "raw",
      "metadata": {
        "raw_mimetype": "text/html"
      },
      "source": [
        "<!-- E(Y)=\\beta_0. (\\#eq:constant-mean-model) -->"
      ],
      "id": "a8c214b0-c7af-4c48-b1ef-8f683f977f4c"
    },
    {
      "cell_type": "raw",
      "metadata": {
        "raw_mimetype": "text/html"
      },
      "source": [
        "<!-- \\] -->"
      ],
      "id": "684e23f9-b83f-40ba-99aa-9a3e9220b4c6"
    },
    {
      "cell_type": "raw",
      "metadata": {
        "raw_mimetype": "text/html"
      },
      "source": [
        "<!-- --- -->"
      ],
      "id": "46809e1a-a3fc-4f73-adaa-953f3f0b9fc5"
    },
    {
      "cell_type": "raw",
      "metadata": {
        "raw_mimetype": "text/html"
      },
      "source": [
        "<!-- Using basic calculus, you can show that the OLS estimator of $\\beta_0$ for the model in Equation \\@ref(eq:constant-mean-model) is $\\hat{\\beta}_0=\\bar{Y}$. For the constant mean model, the fitted value of every observation is $\\hat{\\beta}_0$, i.e., $\\hat{Y}_i=\\hat{\\beta}_0$ for $i=1,2,\\ldots,n$. Thus, the RSS of the constant mean model is $\\sum_{i=1}^n(Y_i-\\hat{Y}_i)^2=\\sum_{i=1}^n(Y_i-\\bar{Y})^2$. Thus, *the TSS is the RSS for the constant mean model*. -->"
      ],
      "id": "22700736-e405-48cd-bbc9-14131a7a309f"
    },
    {
      "cell_type": "raw",
      "metadata": {
        "raw_mimetype": "text/html"
      },
      "source": [
        "<!-- The **regression sum-of-squares** or **model sum-of-squares** is defined as -->"
      ],
      "id": "1437ac98-55e6-4471-a82b-7703ba667d34"
    },
    {
      "cell_type": "raw",
      "metadata": {
        "raw_mimetype": "text/html"
      },
      "source": [
        "<!-- \\[ -->"
      ],
      "id": "2db0c530-681b-4195-9edc-aa5e7c5b4a6e"
    },
    {
      "cell_type": "raw",
      "metadata": {
        "raw_mimetype": "text/html"
      },
      "source": [
        "<!-- SS_{reg} = \\sum_{i=1}^n(\\hat{Y}_i-\\bar{Y})^2. (\\#eq:ssreg) -->"
      ],
      "id": "27d7f499-d9c8-4138-9afe-826504013954"
    },
    {
      "cell_type": "raw",
      "metadata": {
        "raw_mimetype": "text/html"
      },
      "source": [
        "<!-- \\] -->"
      ],
      "id": "ca18bf85-9663-49f0-bfcf-7885704c2e3b"
    },
    {
      "cell_type": "raw",
      "metadata": {
        "raw_mimetype": "text/html"
      },
      "source": [
        "<!-- Thus, SS~reg~ is the sum of the squared deviations between the fitted values of a model and the fitted values of the constant mean model. More helpfully, we have the following equation relating TSS, RSS, and SS~reg~: -->"
      ],
      "id": "b812a24a-1884-4fa1-832b-598e42bc6607"
    },
    {
      "cell_type": "raw",
      "metadata": {
        "raw_mimetype": "text/html"
      },
      "source": [
        "<!-- \\[ -->"
      ],
      "id": "78b62e5f-5256-4011-9a27-36ac86910abe"
    },
    {
      "cell_type": "raw",
      "metadata": {
        "raw_mimetype": "text/html"
      },
      "source": [
        "<!-- TSS = RSS + SS_{reg}.(\\#eq:ss-equality) -->"
      ],
      "id": "9901d259-cc84-4d8a-ab6d-624bc7088805"
    },
    {
      "cell_type": "raw",
      "metadata": {
        "raw_mimetype": "text/html"
      },
      "source": [
        "<!-- \\] -->"
      ],
      "id": "5a34ce88-7b4d-46d5-9dde-e66485767dba"
    },
    {
      "cell_type": "raw",
      "metadata": {
        "raw_mimetype": "text/html"
      },
      "source": [
        "<!-- Thus, $SS_{reg}=TSS-RSS$. This means that *SS~reg~ measures the reduction in RSS when comparing the fitted model to the constant mean model*. -->"
      ],
      "id": "ff1ed6c3-718b-4209-bf12-4b157d84739d"
    },
    {
      "cell_type": "raw",
      "metadata": {
        "raw_mimetype": "text/html"
      },
      "source": [
        "<!-- --- -->"
      ],
      "id": "70969eca-8c4b-4553-abcd-b118d5aad7fe"
    },
    {
      "cell_type": "raw",
      "metadata": {
        "raw_mimetype": "text/html"
      },
      "source": [
        "<!-- Comparing Equations \\@ref(eq:def-rss-slr), \\@ref(eq:rsquared), \\@ref(eq:tss), and \\@ref(eq:ssreg), we can express $R^2$ as: -->"
      ],
      "id": "f6bcb4bb-8f11-4378-92e5-139cd4279670"
    },
    {
      "cell_type": "raw",
      "metadata": {
        "raw_mimetype": "text/html"
      },
      "source": [
        "<!-- \\[ -->"
      ],
      "id": "298b1c97-b9bf-44ef-8d57-12feda69144f"
    },
    {
      "cell_type": "raw",
      "metadata": {
        "raw_mimetype": "text/html"
      },
      "source": [
        "<!-- \\begin{aligned} -->"
      ],
      "id": "66fa8b14-ac5e-4732-8307-105bb40b3cfe"
    },
    {
      "cell_type": "raw",
      "metadata": {
        "raw_mimetype": "text/html"
      },
      "source": [
        "<!-- R^2 &= 1-\\frac{\\sum_{i=1}^n (Y_i-\\hat{Y}_i)^2}{\\sum_{i=1}^n (Y_i-\\bar{Y})^2} \\\\ -->"
      ],
      "id": "1aa22fd2-c8ce-42db-9dcb-587af465e4f1"
    },
    {
      "cell_type": "raw",
      "metadata": {
        "raw_mimetype": "text/html"
      },
      "source": [
        "<!-- &= 1 - \\frac{RSS}{TSS} \\\\ -->"
      ],
      "id": "0a594e9f-2cc7-4d1d-a3e4-c86d6a22fe9a"
    },
    {
      "cell_type": "raw",
      "metadata": {
        "raw_mimetype": "text/html"
      },
      "source": [
        "<!-- &= \\frac{TSS - RSS}{TSS} \\\\ -->"
      ],
      "id": "daed9e36-75d9-4bb7-bf11-81f8502d8e10"
    },
    {
      "cell_type": "raw",
      "metadata": {
        "raw_mimetype": "text/html"
      },
      "source": [
        "<!-- &= \\frac{SS_{reg}}{TSS} \\\\ -->"
      ],
      "id": "3adde9d8-c905-4ae4-b6e6-0f13794145e5"
    },
    {
      "cell_type": "raw",
      "metadata": {
        "raw_mimetype": "text/html"
      },
      "source": [
        "<!-- &= [\\mathrm{cor}(\\mathbf{y}, \\hat{\\mathbf{y}})]^2. -->"
      ],
      "id": "f4b0093b-d3c1-4d79-b5ac-0ec56939b9ee"
    },
    {
      "cell_type": "raw",
      "metadata": {
        "raw_mimetype": "text/html"
      },
      "source": [
        "<!-- \\end{aligned} -->"
      ],
      "id": "b9caf529-a3e9-4476-9f6b-4886b925c3cd"
    },
    {
      "cell_type": "raw",
      "metadata": {
        "raw_mimetype": "text/html"
      },
      "source": [
        "<!-- (\\#eq:rsquared2) -->"
      ],
      "id": "eaa5692b-0daf-48f6-9e9e-ff969d7890a7"
    },
    {
      "cell_type": "raw",
      "metadata": {
        "raw_mimetype": "text/html"
      },
      "source": [
        "<!-- \\] -->"
      ],
      "id": "c9d9e58b-aed0-4397-9af0-b927da8ecf73"
    },
    {
      "cell_type": "raw",
      "metadata": {
        "raw_mimetype": "text/html"
      },
      "source": [
        "<!-- The last expression is the squared sample correlation between the observed and fitted values, and is a helpful way to express the coefficient of determination because it extends to regression models that are not linear. -->"
      ],
      "id": "c8e0a728-4388-4747-ae11-aaaed45a4de9"
    },
    {
      "cell_type": "raw",
      "metadata": {
        "raw_mimetype": "text/html"
      },
      "source": [
        "<!-- --- -->"
      ],
      "id": "d81fac74-3e89-483f-aa7c-91a693047a4c"
    },
    {
      "cell_type": "raw",
      "metadata": {
        "raw_mimetype": "text/html"
      },
      "source": [
        "<!-- Looking at Equation \\@ref(eq:rsquared2) in particular, we can say that *the coefficient of determination is the proportional reduction in RSS when comparing the fitted model to the constant mean model*. -->"
      ],
      "id": "5dc34fee-4388-4b92-bcbc-1ca57a2ea0c1"
    },
    {
      "cell_type": "raw",
      "metadata": {
        "raw_mimetype": "text/html"
      },
      "source": [
        "<!-- Some comments about the coefficient of determination: -->"
      ],
      "id": "9573ef55-f7f5-4177-b9f1-7b15f9147271"
    },
    {
      "cell_type": "raw",
      "metadata": {
        "raw_mimetype": "text/html"
      },
      "source": [
        "<!-- - $0\\leq R^2 \\leq 1$. -->"
      ],
      "id": "5236c483-a17d-4c51-8755-da86ef890fbe"
    },
    {
      "cell_type": "raw",
      "metadata": {
        "raw_mimetype": "text/html"
      },
      "source": [
        "<!-- - $R^2=0$ for the constant mean model. -->"
      ],
      "id": "96332017-2694-4702-aca2-97eb298673fa"
    },
    {
      "cell_type": "raw",
      "metadata": {
        "raw_mimetype": "text/html"
      },
      "source": [
        "<!-- - $R^2=1$ for a fitted model that perfectly fits the data (the fitted values match the observed response values). -->"
      ],
      "id": "df65fb67-3e1d-44c0-8223-411b8bd8abbf"
    },
    {
      "cell_type": "raw",
      "metadata": {
        "raw_mimetype": "text/html"
      },
      "source": [
        "<!-- - Generally, larger values of $R^2$ suggest that the model explains a lot of the variation in the response variable. Smaller $R^2$ values suggest the fitted model does not explain a lot of the response variation. -->"
      ],
      "id": "06f66a2b-ee65-46d5-8a23-c97d112b410a"
    },
    {
      "cell_type": "raw",
      "metadata": {
        "raw_mimetype": "text/html"
      },
      "source": [
        "<!-- - The `Multiple R-squared` value printed by the `summary` of an `lm` object is $R^2$. -->"
      ],
      "id": "43332120-249b-43ba-951d-e5b8f7e3ddf4"
    },
    {
      "cell_type": "raw",
      "metadata": {
        "raw_mimetype": "text/html"
      },
      "source": [
        "<!-- - To extract $R^2$ from a fitted model, you can use the syntax `summary(lmod)$r.squared`, where `lmod` is your fitted model. -->"
      ],
      "id": "09c0042d-edf1-480f-b181-62a1cdbc4cd9"
    },
    {
      "cell_type": "raw",
      "metadata": {
        "raw_mimetype": "text/html"
      },
      "source": [
        "<!-- --- -->"
      ],
      "id": "fc5f26e1-7d35-4419-be49-4304ae5d9e43"
    },
    {
      "cell_type": "raw",
      "metadata": {
        "raw_mimetype": "text/html"
      },
      "source": [
        "<!-- Figure \\@ref(fig:rsquared-examples) provides examples of the $R^2$ value for various fitted simple linear regression models. The closer the points fall to a straight line, the larger $R^2$ tends to be. However, as shown in the bottom right panel of Figure \\@ref(fig:rsquared-examples), a poorly fit model can result in a lower $R^2$ model even if there is a clear relationship between the points (the points have a perfect quadratic relationship). -->"
      ],
      "id": "762d08e8-849a-47db-b903-f9309c4ffd40"
    },
    {
      "cell_type": "raw",
      "metadata": {
        "raw_mimetype": "text/html"
      },
      "source": [
        "<!-- ```{r rsquared-examples, fig.cap=\"The coefficient of determination values for 4 different data sets.\", echo = FALSE} -->"
      ],
      "id": "dec36285-4d88-4773-86f3-50544ac827dc"
    },
    {
      "cell_type": "raw",
      "metadata": {
        "raw_mimetype": "text/html"
      },
      "source": [
        "<!-- par(mfrow = c(2, 2)) -->"
      ],
      "id": "b3483366-8695-4c57-be50-707a7986892e"
    },
    {
      "cell_type": "raw",
      "metadata": {
        "raw_mimetype": "text/html"
      },
      "source": [
        "<!-- set.seed(27) -->"
      ],
      "id": "caa6f3f3-93cf-45e8-a725-330dcfa8f932"
    },
    {
      "cell_type": "raw",
      "metadata": {
        "raw_mimetype": "text/html"
      },
      "source": [
        "<!-- x1 <- runif(25, 0, 10) -->"
      ],
      "id": "6fc8730a-80b8-4282-aa76-111d13bcc658"
    },
    {
      "cell_type": "raw",
      "metadata": {
        "raw_mimetype": "text/html"
      },
      "source": [
        "<!-- y1 <- 2 + 3 * x1 -->"
      ],
      "id": "d79b0c0f-a628-425f-ab75-3dec767b2611"
    },
    {
      "cell_type": "raw",
      "metadata": {
        "raw_mimetype": "text/html"
      },
      "source": [
        "<!-- fit1 <- lm(y1 ~ x1) -->"
      ],
      "id": "57863864-178a-4353-a630-8ae5a1528d03"
    },
    {
      "cell_type": "raw",
      "metadata": {
        "raw_mimetype": "text/html"
      },
      "source": [
        "<!-- plot(x1, 2 + 3 * x1, xlab = \"X\", ylab = \"Y\") -->"
      ],
      "id": "7cc6d11a-7d47-4211-bde1-a952cbff042b"
    },
    {
      "cell_type": "raw",
      "metadata": {
        "raw_mimetype": "text/html"
      },
      "source": [
        "<!-- abline(fit1) -->"
      ],
      "id": "821d82c6-dc0f-4201-b2e5-b34f8dffdf0b"
    },
    {
      "cell_type": "raw",
      "metadata": {
        "raw_mimetype": "text/html"
      },
      "source": [
        "<!-- title(expression(R^2==1)) -->"
      ],
      "id": "4ef590a2-86e6-4fd6-82ef-44c55ce18057"
    },
    {
      "cell_type": "raw",
      "metadata": {
        "raw_mimetype": "text/html"
      },
      "source": [
        "<!-- x2 <- runif(25, 0, 10) -->"
      ],
      "id": "764a92c1-835a-4312-851e-df1ef06ea93e"
    },
    {
      "cell_type": "raw",
      "metadata": {
        "raw_mimetype": "text/html"
      },
      "source": [
        "<!-- y2 <- rnorm(length(x2)) -->"
      ],
      "id": "6a4b52a7-c9e0-40da-9425-d536d1c28a99"
    },
    {
      "cell_type": "raw",
      "metadata": {
        "raw_mimetype": "text/html"
      },
      "source": [
        "<!-- fit2 <- lm(y2 ~ x2) -->"
      ],
      "id": "8f7244f6-b804-4929-bb16-452324fa6928"
    },
    {
      "cell_type": "raw",
      "metadata": {
        "raw_mimetype": "text/html"
      },
      "source": [
        "<!-- r2b <- round(summary(fit2)$r.squared, 2) -->"
      ],
      "id": "6b582411-04ca-4ec4-9813-747a0b55a45d"
    },
    {
      "cell_type": "raw",
      "metadata": {
        "raw_mimetype": "text/html"
      },
      "source": [
        "<!-- q2 <- bquote(R^2==.(format(r2b, digits = 2))) -->"
      ],
      "id": "a994cf74-e5f5-415a-8858-be00ff6e6463"
    },
    {
      "cell_type": "raw",
      "metadata": {
        "raw_mimetype": "text/html"
      },
      "source": [
        "<!-- plot(x2, y2, xlab = \"X\", ylab = \"Y\") -->"
      ],
      "id": "4ac3db9b-24d6-4643-8fc7-c116199de7fc"
    },
    {
      "cell_type": "raw",
      "metadata": {
        "raw_mimetype": "text/html"
      },
      "source": [
        "<!-- abline(fit2) -->"
      ],
      "id": "ba18b16a-c32a-4963-ae66-bcbd3d5ffada"
    },
    {
      "cell_type": "raw",
      "metadata": {
        "raw_mimetype": "text/html"
      },
      "source": [
        "<!-- title(q2) -->"
      ],
      "id": "2f96db4a-9c90-45cc-bb1b-c82d9c1fe270"
    },
    {
      "cell_type": "raw",
      "metadata": {
        "raw_mimetype": "text/html"
      },
      "source": [
        "<!-- x3 <- runif(25, 0, 10) -->"
      ],
      "id": "22dd2872-13f5-4008-8421-70dc62fed0d8"
    },
    {
      "cell_type": "raw",
      "metadata": {
        "raw_mimetype": "text/html"
      },
      "source": [
        "<!-- y3 <- 3 - 2 * x3 + rnorm(length(x3), sd = 5) -->"
      ],
      "id": "f56d8b19-9b86-4af3-99e2-3d5c7aa9f02d"
    },
    {
      "cell_type": "raw",
      "metadata": {
        "raw_mimetype": "text/html"
      },
      "source": [
        "<!-- fit3 <- lm(y3 ~ x3) -->"
      ],
      "id": "c0afef56-9a1f-4f92-91c9-160f8b0431a2"
    },
    {
      "cell_type": "raw",
      "metadata": {
        "raw_mimetype": "text/html"
      },
      "source": [
        "<!-- r2c <- round(summary(fit3)$r.squared, 2) -->"
      ],
      "id": "fe068dba-8917-42b7-80a2-cbd2f10dc9a1"
    },
    {
      "cell_type": "raw",
      "metadata": {
        "raw_mimetype": "text/html"
      },
      "source": [
        "<!-- q3 <- bquote(R^2==.(format(r2c, digits = 2))) -->"
      ],
      "id": "5e7fc955-ed04-4462-8d2d-2b265a4dbd49"
    },
    {
      "cell_type": "raw",
      "metadata": {
        "raw_mimetype": "text/html"
      },
      "source": [
        "<!-- plot(x3, y3, xlab = \"X\", ylab = \"Y\") -->"
      ],
      "id": "5c033933-b429-4ee8-b47b-d338b36f6c63"
    },
    {
      "cell_type": "raw",
      "metadata": {
        "raw_mimetype": "text/html"
      },
      "source": [
        "<!-- abline(fit3) -->"
      ],
      "id": "b680eb3e-036a-4f2e-b2a0-2ca8dcc61bbc"
    },
    {
      "cell_type": "raw",
      "metadata": {
        "raw_mimetype": "text/html"
      },
      "source": [
        "<!-- title(q3) -->"
      ],
      "id": "ebbee037-d4f6-4849-8c95-19a4fd5ad6ae"
    },
    {
      "cell_type": "raw",
      "metadata": {
        "raw_mimetype": "text/html"
      },
      "source": [
        "<!-- x4 <- runif(25, -10, 10) -->"
      ],
      "id": "4908984d-7ba7-44d0-b2a8-8c0445d05ab9"
    },
    {
      "cell_type": "raw",
      "metadata": {
        "raw_mimetype": "text/html"
      },
      "source": [
        "<!-- y4 <- 2 - 2 * x4 + 3 - x4^2 -->"
      ],
      "id": "a080770e-0290-456a-ad89-15ca56ef95c4"
    },
    {
      "cell_type": "raw",
      "metadata": {
        "raw_mimetype": "text/html"
      },
      "source": [
        "<!-- fit4 <- lm(y4 ~ x4) -->"
      ],
      "id": "6d9e8f31-9baf-4cc8-990e-ae3b76d9fd6c"
    },
    {
      "cell_type": "raw",
      "metadata": {
        "raw_mimetype": "text/html"
      },
      "source": [
        "<!-- r2c <- round(summary(fit4)$r.squared, 2) -->"
      ],
      "id": "231634c3-2497-4273-8ad1-b521ad3fc493"
    },
    {
      "cell_type": "raw",
      "metadata": {
        "raw_mimetype": "text/html"
      },
      "source": [
        "<!-- q4 <- bquote(R^2==.(format(r2c, digits = 2))) -->"
      ],
      "id": "e03e2061-eced-4734-9ea1-56f0eab7bc75"
    },
    {
      "cell_type": "raw",
      "metadata": {
        "raw_mimetype": "text/html"
      },
      "source": [
        "<!-- plot(x4, y4, xlab = \"X\", ylab = \"Y\") -->"
      ],
      "id": "0135f035-24c2-4481-bcb8-b04b568ff2af"
    },
    {
      "cell_type": "raw",
      "metadata": {
        "raw_mimetype": "text/html"
      },
      "source": [
        "<!-- abline(fit4) -->"
      ],
      "id": "eef77132-8809-4550-9e95-04c7fb7ac8b1"
    },
    {
      "cell_type": "raw",
      "metadata": {
        "raw_mimetype": "text/html"
      },
      "source": [
        "<!-- title(q4) -->"
      ],
      "id": "39293a11-7382-4404-b1a3-d515d92989ee"
    },
    {
      "cell_type": "raw",
      "metadata": {
        "raw_mimetype": "text/html"
      },
      "source": [
        "<!-- par(mfrow = c(1, 1)) -->"
      ],
      "id": "a951321f-5c8e-4fa3-9727-bbc08cd7c6cd"
    },
    {
      "cell_type": "raw",
      "metadata": {
        "raw_mimetype": "text/html"
      },
      "source": [
        "<!-- ``` -->"
      ],
      "id": "64fb2bf0-8f22-47f4-8c19-e75a42d737bd"
    },
    {
      "cell_type": "raw",
      "metadata": {
        "raw_mimetype": "text/html"
      },
      "source": [
        "<!-- --- -->"
      ],
      "id": "6272d510-c22b-43d9-a2c1-778754e9ca42"
    },
    {
      "cell_type": "raw",
      "metadata": {
        "raw_mimetype": "text/html"
      },
      "source": [
        "<!-- The coefficient of determination for the parallel lines model fit to the `penguins` data in Section \\@ref(s:penguins-mlr2) is 0.81, as shown in the R output below. By adding the `body_mass_g` regressor and `species` predictor to the constant mean model of `bill_length_mm`, we reduced the RSS by 81%. -->"
      ],
      "id": "0f806cdf-6dc6-460a-8544-a584700d11eb"
    },
    {
      "cell_type": "raw",
      "metadata": {
        "raw_mimetype": "text/html"
      },
      "source": [
        "<!-- ```{r} -->"
      ],
      "id": "c4e4bbdd-abcf-4528-98c3-77f7d1d77513"
    },
    {
      "cell_type": "raw",
      "metadata": {
        "raw_mimetype": "text/html"
      },
      "source": [
        "<!-- summary(lmodp)$r.squared -->"
      ],
      "id": "81b0fc2e-a3ab-4ceb-994c-c365de724257"
    },
    {
      "cell_type": "raw",
      "metadata": {
        "raw_mimetype": "text/html"
      },
      "source": [
        "<!-- ``` -->"
      ],
      "id": "02676ae0-53d9-4731-8b94-6bd6d1a0266e"
    },
    {
      "cell_type": "raw",
      "metadata": {
        "raw_mimetype": "text/html"
      },
      "source": [
        "<!-- It may seem sensible to choose between models based on the value of $R^2$. This is unwise for two reasons: -->"
      ],
      "id": "6b9b3b81-ed84-463f-a4d9-fa8d3e6a45c9"
    },
    {
      "cell_type": "raw",
      "metadata": {
        "raw_mimetype": "text/html"
      },
      "source": [
        "<!-- 1. $R^2$ never decreases as regressors are added to an existing model. Basically, you can increase $R^2$ by simply adding regressors to your existing model, even if they are non-sensical. -->"
      ],
      "id": "d120556b-023b-43fe-bcb8-ec0229b7d8bf"
    },
    {
      "cell_type": "raw",
      "metadata": {
        "raw_mimetype": "text/html"
      },
      "source": [
        "<!-- 2. $R^2$ doesn't tell you whether a model adequately describes the pattern of the observed data. $R^2$ is a useful statistic for measuring model fit when there is approximately a linear relationship between the response values and fitted values. -->"
      ],
      "id": "c1bf6615-157a-4023-9eaa-96fc790111b8"
    },
    {
      "cell_type": "raw",
      "metadata": {
        "raw_mimetype": "text/html"
      },
      "source": [
        "<!-- --- -->"
      ],
      "id": "2600b0bd-fef1-4c48-ae12-1b2af6e55165"
    },
    {
      "cell_type": "raw",
      "metadata": {
        "raw_mimetype": "text/html"
      },
      "source": [
        "<!-- Regarding point 1, consider what happens when we add a regressor of random values to the parallel lines model fit to the `penguins` data. The code below sets a random number seed so that we can get the same results each time we run the code, creates the regressor `noisyx` by sampling 344 values randomly drawn from a $\\mathsf{N}(0,1)$ distribution, adds `noisyx` as a regressor to the parallel lines regression model stored in `lmodp`, and then extracts the $R^2$ value. We use the `update` method to update our existing model. The `update` function takes an existing model as its first argument and then the `formula` for the updated model. The syntax `. ~ .` means \"keep the same response (on the left) and the same regressors (on the right)\". We can then add or subtract regressors using the typical `formula` syntax. We use this approach to add the `noisyx` regressor to the regressors already in `lmodp`. -->"
      ],
      "id": "2435982c-9e13-42b6-8038-5ef34671b747"
    },
    {
      "cell_type": "raw",
      "metadata": {
        "raw_mimetype": "text/html"
      },
      "source": [
        "<!-- ```{r} -->"
      ],
      "id": "c5ee9214-d578-4271-a634-e948f534ffe6"
    },
    {
      "cell_type": "raw",
      "metadata": {
        "raw_mimetype": "text/html"
      },
      "source": [
        "<!-- set.seed(28) # for reproducibility -->"
      ],
      "id": "0ac93b7c-91cb-4940-8ee8-a93f153da129"
    },
    {
      "cell_type": "raw",
      "metadata": {
        "raw_mimetype": "text/html"
      },
      "source": [
        "<!-- # create regressor of random noise -->"
      ],
      "id": "a522cc10-175b-4790-9cef-fa68c8b21f02"
    },
    {
      "cell_type": "raw",
      "metadata": {
        "raw_mimetype": "text/html"
      },
      "source": [
        "<!-- noisyx <- rnorm(344) -->"
      ],
      "id": "58ac957c-b030-41ca-b784-9e745eda52df"
    },
    {
      "cell_type": "raw",
      "metadata": {
        "raw_mimetype": "text/html"
      },
      "source": [
        "<!-- # add noisyx as regressor to lmodp -->"
      ],
      "id": "02ed39d0-0ac3-4cd4-9156-7bfd818682ba"
    },
    {
      "cell_type": "raw",
      "metadata": {
        "raw_mimetype": "text/html"
      },
      "source": [
        "<!-- lmod_silly <- update(lmodp, . ~ . + noisyx) -->"
      ],
      "id": "1aa89590-dcf3-4993-963c-0d7ad2d073a0"
    },
    {
      "cell_type": "raw",
      "metadata": {
        "raw_mimetype": "text/html"
      },
      "source": [
        "<!-- # extract R^2 from fitted model -->"
      ],
      "id": "2ea72fb1-0e2c-4791-8c3b-a8634b235d8d"
    },
    {
      "cell_type": "raw",
      "metadata": {
        "raw_mimetype": "text/html"
      },
      "source": [
        "<!-- summary(lmod_silly)$r.squared -->"
      ],
      "id": "4ac28605-e635-45aa-aac1-ec1f6208193d"
    },
    {
      "cell_type": "raw",
      "metadata": {
        "raw_mimetype": "text/html"
      },
      "source": [
        "<!-- ``` -->"
      ],
      "id": "8943ec99-58ae-479c-b037-4ecb1d659341"
    },
    {
      "cell_type": "raw",
      "metadata": {
        "raw_mimetype": "text/html"
      },
      "source": [
        "<!-- The $R^2$ value increased from 0.8080 to 0.8088! So clearly, choosing the model with the largest $R^2$ can be a mistake, as it will tend to favor models with more regressors. -->"
      ],
      "id": "8d46b8f8-3cce-4d4e-8bed-97fd75965296"
    },
    {
      "cell_type": "raw",
      "metadata": {
        "raw_mimetype": "text/html"
      },
      "source": [
        "<!-- --- -->"
      ],
      "id": "f6ea8aee-fb42-418b-86ec-2492cbb4ba5b"
    },
    {
      "cell_type": "raw",
      "metadata": {
        "raw_mimetype": "text/html"
      },
      "source": [
        "<!-- Regarding point 2, $R^2$ can mislead you into thinking an inappropriate model fits better than it actually does. @anscombe1973graphs provided a canonical data set known as \"Anscombe's quartet\" that illustrates this point. The data set is comprised of 4 different data sets. When a simple linear regression model is fit to each data set, we find that $\\hat{\\beta}_0=3$, $\\hat{\\beta}_1=0.5$, and that $R^2=0.67$. However, as we will see, not all models describe the data particularly well! -->"
      ],
      "id": "6839972f-016b-4c7c-9f9d-f144ac801c03"
    },
    {
      "cell_type": "raw",
      "metadata": {
        "raw_mimetype": "text/html"
      },
      "source": [
        "<!-- Anscombe's quartet is available as the `anscombe` data set in the **datasets** package. The data set includes 11 observations of -->"
      ],
      "id": "652e6abf-66fe-4f95-ace3-5007aa106b53"
    },
    {
      "cell_type": "raw",
      "metadata": {
        "raw_mimetype": "text/html"
      },
      "source": [
        "<!-- 8 variables. The variables are: -->"
      ],
      "id": "6b2aac57-be4e-4399-ac94-496ca6056d27"
    },
    {
      "cell_type": "raw",
      "metadata": {
        "raw_mimetype": "text/html"
      },
      "source": [
        "<!-- -   `x1`, `x2`, `x3` `x4`: the regressor variable for each individual data set. -->"
      ],
      "id": "bdad31ea-934e-470d-abcf-abcc1ffd165a"
    },
    {
      "cell_type": "raw",
      "metadata": {
        "raw_mimetype": "text/html"
      },
      "source": [
        "<!-- -   `y1`, `y2`, `y3` `y4`: the response variable for each individual data set. -->"
      ],
      "id": "eb829936-99b6-47c1-acc9-18e9b9857b4f"
    },
    {
      "cell_type": "raw",
      "metadata": {
        "raw_mimetype": "text/html"
      },
      "source": [
        "<!-- We fit the simple linear regression model to the four data sets in the code below, then extract the coefficients and $R^2$ to verify the information provided above. -->"
      ],
      "id": "eb5ba798-0d9b-4c9b-a1a3-b9f1abce8cef"
    },
    {
      "cell_type": "raw",
      "metadata": {
        "raw_mimetype": "text/html"
      },
      "source": [
        "<!-- ```{r} -->"
      ],
      "id": "ee844996-3b68-42b1-972c-a931553e48e5"
    },
    {
      "cell_type": "raw",
      "metadata": {
        "raw_mimetype": "text/html"
      },
      "source": [
        "<!-- # fit model to first data set -->"
      ],
      "id": "8e8058a0-fe08-48c6-8ef0-357d7d5e56ce"
    },
    {
      "cell_type": "raw",
      "metadata": {
        "raw_mimetype": "text/html"
      },
      "source": [
        "<!-- lmod_a1 <- lm(y1 ~ x1, data = anscombe) -->"
      ],
      "id": "064c5beb-5e2c-4b3f-84c4-9a0454823337"
    },
    {
      "cell_type": "raw",
      "metadata": {
        "raw_mimetype": "text/html"
      },
      "source": [
        "<!-- # extract coefficients from fitted model -->"
      ],
      "id": "b38249f5-2bbf-44cd-b053-5f7990af878b"
    },
    {
      "cell_type": "raw",
      "metadata": {
        "raw_mimetype": "text/html"
      },
      "source": [
        "<!-- coef(lmod_a1) -->"
      ],
      "id": "682eb9dd-2562-4c40-8772-eb211e46207d"
    },
    {
      "cell_type": "raw",
      "metadata": {
        "raw_mimetype": "text/html"
      },
      "source": [
        "<!-- # extract R^2 from fitted model -->"
      ],
      "id": "36b308d3-afe1-4ef3-b589-d83a8b5673be"
    },
    {
      "cell_type": "raw",
      "metadata": {
        "raw_mimetype": "text/html"
      },
      "source": [
        "<!-- summary(lmod_a1)$r.squared -->"
      ],
      "id": "484360f4-7bea-41e6-9994-9fa5ae2e30fe"
    },
    {
      "cell_type": "raw",
      "metadata": {
        "raw_mimetype": "text/html"
      },
      "source": [
        "<!-- # fit model to second data set -->"
      ],
      "id": "97124aae-01b2-41c8-8289-5c641cc998c8"
    },
    {
      "cell_type": "raw",
      "metadata": {
        "raw_mimetype": "text/html"
      },
      "source": [
        "<!-- lmod_a2 <- lm(y2 ~ x2, data = anscombe) -->"
      ],
      "id": "adb1c9d2-acf3-4c04-bf3c-01e2af753727"
    },
    {
      "cell_type": "raw",
      "metadata": {
        "raw_mimetype": "text/html"
      },
      "source": [
        "<!-- coef(lmod_a2) -->"
      ],
      "id": "dd5cbdab-f40b-4366-a9c6-b9913b2bbbf9"
    },
    {
      "cell_type": "raw",
      "metadata": {
        "raw_mimetype": "text/html"
      },
      "source": [
        "<!-- summary(lmod_a2)$r.squared -->"
      ],
      "id": "a5e09354-4ba3-4ed7-bc71-6067b8e665c2"
    },
    {
      "cell_type": "raw",
      "metadata": {
        "raw_mimetype": "text/html"
      },
      "source": [
        "<!-- # fit model to third data set -->"
      ],
      "id": "4853ad76-7ce0-4303-9276-3d46a180ad33"
    },
    {
      "cell_type": "raw",
      "metadata": {
        "raw_mimetype": "text/html"
      },
      "source": [
        "<!-- lmod_a3 <- lm(y3 ~ x3, data = anscombe) -->"
      ],
      "id": "1facc109-0812-4c16-b7ad-6c64117fc72f"
    },
    {
      "cell_type": "raw",
      "metadata": {
        "raw_mimetype": "text/html"
      },
      "source": [
        "<!-- coef(lmod_a3) -->"
      ],
      "id": "3d9e97cc-5e45-4fbe-8a59-201ca4c77dd9"
    },
    {
      "cell_type": "raw",
      "metadata": {
        "raw_mimetype": "text/html"
      },
      "source": [
        "<!-- summary(lmod_a3)$r.squared -->"
      ],
      "id": "2d007772-de68-47b4-9a18-31bbd468dad7"
    },
    {
      "cell_type": "raw",
      "metadata": {
        "raw_mimetype": "text/html"
      },
      "source": [
        "<!-- # fit model to fourth data set -->"
      ],
      "id": "842d7f35-7e85-45da-b866-0fe584db9ba0"
    },
    {
      "cell_type": "raw",
      "metadata": {
        "raw_mimetype": "text/html"
      },
      "source": [
        "<!-- lmod_a4 <- lm(y4 ~ x4, data = anscombe) -->"
      ],
      "id": "75ac8c70-1a64-420a-8f1b-e06306473212"
    },
    {
      "cell_type": "raw",
      "metadata": {
        "raw_mimetype": "text/html"
      },
      "source": [
        "<!-- coef(lmod_a4) -->"
      ],
      "id": "606dd626-037d-4461-8cff-4dbc53ecd5e2"
    },
    {
      "cell_type": "raw",
      "metadata": {
        "raw_mimetype": "text/html"
      },
      "source": [
        "<!-- summary(lmod_a4)$r.squared -->"
      ],
      "id": "08f66a71-aa0d-4a15-90ca-c3f5101d7277"
    },
    {
      "cell_type": "raw",
      "metadata": {
        "raw_mimetype": "text/html"
      },
      "source": [
        "<!-- ``` -->"
      ],
      "id": "18e3b3df-75e5-475d-8ab2-363988613b64"
    },
    {
      "cell_type": "raw",
      "metadata": {
        "raw_mimetype": "text/html"
      },
      "source": [
        "<!-- Figure \\@ref(fig:anscombe-plots) provides a scatter plot each data set and overlays their fitted models. -->"
      ],
      "id": "0825a39f-fdc0-43b9-8f3d-0a233a1e8c9b"
    },
    {
      "cell_type": "raw",
      "metadata": {
        "raw_mimetype": "text/html"
      },
      "source": [
        "<!-- ```{r anscombe-plots, fig.cap=\"Scatter plots of the four Anscombe data sets along with their line of best fit.\", fig.asp = .5, echo = FALSE, message = FALSE} -->"
      ],
      "id": "9cdab01e-0194-4551-a409-71ba9a71ee44"
    },
    {
      "cell_type": "raw",
      "metadata": {
        "raw_mimetype": "text/html"
      },
      "source": [
        "<!-- # par(mfrow = c(1, 4)) -->"
      ],
      "id": "2c6b4f33-401d-4892-8596-310862960d3d"
    },
    {
      "cell_type": "raw",
      "metadata": {
        "raw_mimetype": "text/html"
      },
      "source": [
        "<!-- # plot(y1 ~ x1, data = anscombe) -->"
      ],
      "id": "cbbd8d30-959a-4ca2-a8a4-4ccbbd4d1fb7"
    },
    {
      "cell_type": "raw",
      "metadata": {
        "raw_mimetype": "text/html"
      },
      "source": [
        "<!-- # title(\"data set 1\") -->"
      ],
      "id": "cd727f4b-d31d-4337-a675-3b2110abab5a"
    },
    {
      "cell_type": "raw",
      "metadata": {
        "raw_mimetype": "text/html"
      },
      "source": [
        "<!-- # abline(lmod_a1) -->"
      ],
      "id": "71364deb-d21f-44e2-851f-0a620c295ae3"
    },
    {
      "cell_type": "raw",
      "metadata": {
        "raw_mimetype": "text/html"
      },
      "source": [
        "<!-- # plot(y2 ~ x2, data = anscombe) -->"
      ],
      "id": "462c5078-8650-4f8e-81b9-f0eaf5c0b173"
    },
    {
      "cell_type": "raw",
      "metadata": {
        "raw_mimetype": "text/html"
      },
      "source": [
        "<!-- # title(\"data set 2\") -->"
      ],
      "id": "5fc939d1-e260-46df-8855-99b76fd1f396"
    },
    {
      "cell_type": "raw",
      "metadata": {
        "raw_mimetype": "text/html"
      },
      "source": [
        "<!-- # abline(lmod_a2) -->"
      ],
      "id": "4bed7b93-e9de-4d47-9e38-c0df1403e602"
    },
    {
      "cell_type": "raw",
      "metadata": {
        "raw_mimetype": "text/html"
      },
      "source": [
        "<!-- # plot(y3 ~ x3, data = anscombe) -->"
      ],
      "id": "0e7a7453-c0ab-4d0d-9002-6d6887e2340e"
    },
    {
      "cell_type": "raw",
      "metadata": {
        "raw_mimetype": "text/html"
      },
      "source": [
        "<!-- # title(\"data set 3\") -->"
      ],
      "id": "de9f4946-0aef-446b-8aea-38b3584a9a6c"
    },
    {
      "cell_type": "raw",
      "metadata": {
        "raw_mimetype": "text/html"
      },
      "source": [
        "<!-- # abline(lmod_a3) -->"
      ],
      "id": "3a78c838-6a6c-426e-92ba-bfe9dcc75066"
    },
    {
      "cell_type": "raw",
      "metadata": {
        "raw_mimetype": "text/html"
      },
      "source": [
        "<!-- # plot(y4 ~ x4, data = anscombe) -->"
      ],
      "id": "4921e833-d329-4c9e-94f5-3e32c6aa8733"
    },
    {
      "cell_type": "raw",
      "metadata": {
        "raw_mimetype": "text/html"
      },
      "source": [
        "<!-- # title(\"data set 4\") -->"
      ],
      "id": "fcdadb7c-54cf-42fe-9c5a-ec09845cb888"
    },
    {
      "cell_type": "raw",
      "metadata": {
        "raw_mimetype": "text/html"
      },
      "source": [
        "<!-- # abline(lmod_a4) -->"
      ],
      "id": "fa4a3c94-77af-4738-9e70-48c7f3bd1af7"
    },
    {
      "cell_type": "raw",
      "metadata": {
        "raw_mimetype": "text/html"
      },
      "source": [
        "<!-- # par(mfrow = c(1, 1)) -->"
      ],
      "id": "5e88f499-0223-4bde-b4da-d98596285ab1"
    },
    {
      "cell_type": "raw",
      "metadata": {
        "raw_mimetype": "text/html"
      },
      "source": [
        "<!-- adf = data.frame(x = unlist(anscombe[,1:4]), -->"
      ],
      "id": "bf8fdf72-818d-4281-a1d4-45d74fbac0f1"
    },
    {
      "cell_type": "raw",
      "metadata": {
        "raw_mimetype": "text/html"
      },
      "source": [
        "<!--                  y = unlist(anscombe[,5:8]), -->"
      ],
      "id": "0440e14a-faac-416c-9a79-068dde6ca9f5"
    },
    {
      "cell_type": "raw",
      "metadata": {
        "raw_mimetype": "text/html"
      },
      "source": [
        "<!--                  set = factor(rep(1:4, each = 11))) -->"
      ],
      "id": "379642c2-e7f0-42ba-b711-5337dfbdd4da"
    },
    {
      "cell_type": "raw",
      "metadata": {
        "raw_mimetype": "text/html"
      },
      "source": [
        "<!-- ggplot(adf, aes(x = x, y = y, group = set, col = set)) + -->"
      ],
      "id": "2b309a10-14ee-48d5-98ac-68b9ba3661da"
    },
    {
      "cell_type": "raw",
      "metadata": {
        "raw_mimetype": "text/html"
      },
      "source": [
        "<!--   geom_point(col = \"black\") + -->"
      ],
      "id": "dd3faeda-2780-4986-a641-71692db252b2"
    },
    {
      "cell_type": "raw",
      "metadata": {
        "raw_mimetype": "text/html"
      },
      "source": [
        "<!--   geom_smooth(aes(group = set), method = \"lm\", se = FALSE) + -->"
      ],
      "id": "366817d0-b8a1-4a30-8098-ccb572b2094c"
    },
    {
      "cell_type": "raw",
      "metadata": {
        "raw_mimetype": "text/html"
      },
      "source": [
        "<!--   facet_grid(. ~ set) + -->"
      ],
      "id": "a213cb74-8411-4719-9d73-3f52ae07d064"
    },
    {
      "cell_type": "raw",
      "metadata": {
        "raw_mimetype": "text/html"
      },
      "source": [
        "<!--   theme_bw() -->"
      ],
      "id": "976b59b9-ba64-4ed8-aaa6-a783a91b3df4"
    },
    {
      "cell_type": "raw",
      "metadata": {
        "raw_mimetype": "text/html"
      },
      "source": [
        "<!-- ``` -->"
      ],
      "id": "52e2bb09-ffd2-473c-9f7c-0034e0bf5fb0"
    },
    {
      "cell_type": "raw",
      "metadata": {
        "raw_mimetype": "text/html"
      },
      "source": [
        "<!-- While the fitted model and $R^2$ value is essentially the same for each model, the fitted model is only appropriate for data set 1. The fitted model for the second data set fails to model the curve of the data. The third fitted model doesn't handle the outlier in the data. Lastly, the fourth data set has a single point on the far right side driving the model fit, so the fitted model is highly questionable. -->"
      ],
      "id": "c76dfe2d-3f0a-4cde-a637-f17dca9ae886"
    },
    {
      "cell_type": "raw",
      "metadata": {
        "raw_mimetype": "text/html"
      },
      "source": [
        "<!-- To address the problem with $R^2$ that it cannot decrease as regressors are added to a model, @ezekiel1930methods proposed the adjusted R-squared statistic for measuring model fit. The adjusted $R^2$ statistic is defined as -->"
      ],
      "id": "0c63739b-08aa-4917-9a7d-da1acd0295d5"
    },
    {
      "cell_type": "raw",
      "metadata": {
        "raw_mimetype": "text/html"
      },
      "source": [
        "<!-- \\[ -->"
      ],
      "id": "e78c83f4-c229-40d6-a150-79db8dc8e447"
    },
    {
      "cell_type": "raw",
      "metadata": {
        "raw_mimetype": "text/html"
      },
      "source": [
        "<!-- R^2_a=1-(1-R^2)\\frac{n-1}{n-p}=1-\\frac{RSS/(n-p)}{TSS/(n-1)}. -->"
      ],
      "id": "e0796057-1936-4931-abb2-f9b14d993625"
    },
    {
      "cell_type": "raw",
      "metadata": {
        "raw_mimetype": "text/html"
      },
      "source": [
        "<!-- \\] -->"
      ],
      "id": "10643268-1e44-483e-bb82-ba16b54cd28b"
    },
    {
      "cell_type": "raw",
      "metadata": {
        "raw_mimetype": "text/html"
      },
      "source": [
        "<!-- Practically speaking, $R^2_a$ will only increase when a regressors substantively improves the fit of the model to the observed data. We favor models with larger values of $R^2_a$. To extract the adjusted R-squared from a fitted model, we can use the syntax `summary(lmod)$adj.R.squared`, where `lmod` is the fitted model. -->"
      ],
      "id": "6ee988b6-bde8-4636-bb88-d22c4567a465"
    },
    {
      "cell_type": "raw",
      "metadata": {
        "raw_mimetype": "text/html"
      },
      "source": [
        "<!-- Using the code below, we extract the $R^2_a$ for the 4 models we previously fit to the `penguins` data. Specifically, we extract $R_a^2$ for the simple linear regression model fit in Section \\@ref(s:penguins-slr), the multiple linear regression model in Section \\@ref(s:penguins-mlr), and the parallel and separate lines models fit in Section \\@ref(s:penguins-mlr2). -->"
      ],
      "id": "7cab87d3-3139-4bca-a84a-15d049729d48"
    },
    {
      "cell_type": "raw",
      "metadata": {
        "raw_mimetype": "text/html"
      },
      "source": [
        "<!-- ```{r} -->"
      ],
      "id": "caf3baef-b3ca-4454-b51b-2600ace02b63"
    },
    {
      "cell_type": "raw",
      "metadata": {
        "raw_mimetype": "text/html"
      },
      "source": [
        "<!-- # simple linear regression model -->"
      ],
      "id": "bc0d7cf2-8f95-4cc1-8e05-bb369501aed0"
    },
    {
      "cell_type": "raw",
      "metadata": {
        "raw_mimetype": "text/html"
      },
      "source": [
        "<!-- summary(lmod)$adj.r.squared -->"
      ],
      "id": "9f398e79-7ebb-4144-956a-909531fd1596"
    },
    {
      "cell_type": "raw",
      "metadata": {
        "raw_mimetype": "text/html"
      },
      "source": [
        "<!-- # multiple linear regression model -->"
      ],
      "id": "c0f63d10-53de-44c0-905f-82fcb00fe4de"
    },
    {
      "cell_type": "raw",
      "metadata": {
        "raw_mimetype": "text/html"
      },
      "source": [
        "<!-- summary(mlmod)$adj.r.squared -->"
      ],
      "id": "5b505c4b-d9d7-4e71-9d27-58191e298702"
    },
    {
      "cell_type": "raw",
      "metadata": {
        "raw_mimetype": "text/html"
      },
      "source": [
        "<!-- # parallel lines model -->"
      ],
      "id": "bc0ee8b9-ae5d-4e42-be4e-bd5d17035521"
    },
    {
      "cell_type": "raw",
      "metadata": {
        "raw_mimetype": "text/html"
      },
      "source": [
        "<!-- summary(lmodp)$adj.r.squared -->"
      ],
      "id": "d6857f30-786e-4e92-b64b-841c4c39ba57"
    },
    {
      "cell_type": "raw",
      "metadata": {
        "raw_mimetype": "text/html"
      },
      "source": [
        "<!-- # separate lines model -->"
      ],
      "id": "ec82674c-2a1e-47be-99e5-87478ba98464"
    },
    {
      "cell_type": "raw",
      "metadata": {
        "raw_mimetype": "text/html"
      },
      "source": [
        "<!-- summary(lmods)$adj.r.squared -->"
      ],
      "id": "2d451198-b4df-4e65-98dd-9a282a960a4b"
    },
    {
      "cell_type": "raw",
      "metadata": {
        "raw_mimetype": "text/html"
      },
      "source": [
        "<!-- ``` -->"
      ],
      "id": "09397f40-07b8-4e65-b3bb-6d2fddade7b2"
    },
    {
      "cell_type": "raw",
      "metadata": {
        "raw_mimetype": "text/html"
      },
      "source": [
        "<!-- With an $R_a^2$ of 0.8070, the separate lines regression model appears to be slightly favored over the other 3 models fit to the `penguins` data. To confirm that this statistic is meaningful (i.e., that the model provides a reasonable fit to the data), we use the code below to create a scatter plot of the response versus fitted values shown in Figure \\@ref(fig:y-vs-yhat-penguins). The points in Figure \\@ref(fig:y-vs-yhat-penguins) follow a linear pattern, so the separate lines model seems to be a reasonable model for the `penguins` data. -->"
      ],
      "id": "28d82910-79d9-4d84-9e2e-9299e372af3d"
    },
    {
      "cell_type": "raw",
      "metadata": {
        "raw_mimetype": "text/html"
      },
      "source": [
        "<!-- ```{r y-vs-yhat-penguins, fig.cap=\"A scatter plot of the observed bill length versus the fitted values of the separate lines model for the `penguins` data.\"} -->"
      ],
      "id": "82a886b9-4f60-466a-871f-492efa3b789b"
    },
    {
      "cell_type": "raw",
      "metadata": {
        "raw_mimetype": "text/html"
      },
      "source": [
        "<!-- plot(penguins$bill_length_mm ~ fitted(lmods), -->"
      ],
      "id": "8beece6f-78cb-4e3d-9c01-d74f863d4ac3"
    },
    {
      "cell_type": "raw",
      "metadata": {
        "raw_mimetype": "text/html"
      },
      "source": [
        "<!--      xlab = \"fitted values\", ylab = \"bill length (mm)\") -->"
      ],
      "id": "a3c6e101-2cbb-42f9-bf18-8134fc0757ad"
    },
    {
      "cell_type": "raw",
      "metadata": {
        "raw_mimetype": "text/html"
      },
      "source": [
        "<!-- ``` -->"
      ],
      "id": "6673e63e-78cf-49e1-b667-1e76fe948922"
    },
    {
      "cell_type": "raw",
      "metadata": {
        "raw_mimetype": "text/html"
      },
      "source": [
        "<!-- # Summary -->"
      ],
      "id": "ed7d4d6e-f52a-44e4-9416-c22744a4dd91"
    },
    {
      "cell_type": "raw",
      "metadata": {
        "raw_mimetype": "text/html"
      },
      "source": [
        "<!-- In this chapter, we learned: -->"
      ],
      "id": "61a8eba6-97cd-4cbd-a032-52252d78f1ea"
    },
    {
      "cell_type": "raw",
      "metadata": {
        "raw_mimetype": "text/html"
      },
      "source": [
        "<!-- - What a linear model is. -->"
      ],
      "id": "6e5562dc-b0dc-4aaa-9b37-cb774bf5f771"
    },
    {
      "cell_type": "raw",
      "metadata": {
        "raw_mimetype": "text/html"
      },
      "source": [
        "<!-- - What various objects are, such as coefficients, residuals, fitted values, etc. -->"
      ],
      "id": "6736338e-eaef-4dd6-a74e-eb5933889fb1"
    },
    {
      "cell_type": "raw",
      "metadata": {
        "raw_mimetype": "text/html"
      },
      "source": [
        "<!-- - How to estimate the coefficients of a linear model using ordinary least squares estimation. -->"
      ],
      "id": "38b7533f-44ff-4b67-8499-674e922c24b2"
    },
    {
      "cell_type": "raw",
      "metadata": {
        "raw_mimetype": "text/html"
      },
      "source": [
        "<!-- - How to fit a linear model using R. -->"
      ],
      "id": "7c90ee55-9b29-4b5d-98db-ac39c8c48b26"
    },
    {
      "cell_type": "raw",
      "metadata": {
        "raw_mimetype": "text/html"
      },
      "source": [
        "<!-- - How to include a categorical predictor in a linear model. -->"
      ],
      "id": "b9088039-4a03-4fb2-8ad0-1494a7251688"
    },
    {
      "cell_type": "raw",
      "metadata": {
        "raw_mimetype": "text/html"
      },
      "source": [
        "<!-- - How to evaluate the fit of a model. -->"
      ],
      "id": "6570fd31-fd3a-4675-b51a-df6529f19d74"
    },
    {
      "cell_type": "raw",
      "metadata": {
        "raw_mimetype": "text/html"
      },
      "source": [
        "<!-- ## Summary of terms -->"
      ],
      "id": "a4b09baa-47a1-40e9-99b4-c16cbbab868c"
    },
    {
      "cell_type": "raw",
      "metadata": {
        "raw_mimetype": "text/html"
      },
      "source": [
        "<!-- We have introduced many terms to define a linear model. It can be difficult to keep track of their notation, their purpose, whether they are observable, and whether they are treated as random variables or vectors. We discuss various terms below, and then summarize the discussion in Table \\@ref(tab:term-df). -->"
      ],
      "id": "b86e2454-4ec8-4727-bd9c-b5e23f0584cd"
    },
    {
      "cell_type": "raw",
      "metadata": {
        "raw_mimetype": "text/html"
      },
      "source": [
        "<!-- We've already talked about observing the response variable and the predictor/regressor variables. So these objects are observable. However, we have no way to measure the regression coefficients or the error. These are not observable. One way to distinguish observable versus non-observable variables is that observable variables are denoted using Phoenician letters (e.g., $X$ and $Y$) while non-observable variables are denoted using Greek letters (e.g., $\\beta_j$, $\\epsilon$, $\\sigma^2$). -->"
      ],
      "id": "32797cea-1933-4f43-8e2d-770bbc2d9433"
    },
    {
      "cell_type": "raw",
      "metadata": {
        "raw_mimetype": "text/html"
      },
      "source": [
        "<!-- We treat the response variable as a random variable. Perhaps surprisingly, we treat the predictor and regressor variables as fixed, non-random variables. The regression coefficients are treated as fixed, non-random but unknown values. This is standard for parameters in a statistical model. The errors are also treated as random variables. In fact, since both the regressor variables and the regression coefficients are non-random, the only way for the responses in Equation \\@ref(eq:lmSystem) to be random variables is for the errors to be random. -->"
      ],
      "id": "954910b8-c55b-483d-a768-b171abec6504"
    },
    {
      "cell_type": "raw",
      "metadata": {
        "raw_mimetype": "text/html"
      },
      "source": [
        "<!-- ```{r term-df, echo = FALSE} -->"
      ],
      "id": "07bce612-af22-4cb8-90a4-805f4ae33c26"
    },
    {
      "cell_type": "raw",
      "metadata": {
        "raw_mimetype": "text/html"
      },
      "source": [
        "<!-- term <- c(\"$Y$\", \"$Y_i$\", \"$\\\\mathbf{y}$\", \"$X$\", -->"
      ],
      "id": "dc31f48d-a14d-44bb-884d-3b08e77926cb"
    },
    {
      "cell_type": "raw",
      "metadata": {
        "raw_mimetype": "text/html"
      },
      "source": [
        "<!--              \"$X_j$\", \"$x_{i,j}$\", \"$\\\\mathbf{X}$\", \"$\\\\mathbf{x}_i$\", \"$\\\\beta_j$\", \"$\\\\boldsymbol{\\\\beta}$\", \"$\\\\epsilon$\", \"$\\\\epsilon_i$\") -->"
      ],
      "id": "750975c8-2b56-470e-9380-cbfb77ea14e0"
    },
    {
      "cell_type": "raw",
      "metadata": {
        "raw_mimetype": "text/html"
      },
      "source": [
        "<!-- description <- c(\"response variable\", \"response value for the $i$th observation\", \"the $n\\\\times 1$ column vector of response values\", \"regressor variable\", \"the $j$th regressor variable\", \"the value of the $j$th regressor variable for the $i$th observation\", \"the $n\\\\times p$ matrix of regressor values\", \"the $p\\\\times 1$ vector of regressor values for the $i$th observation\", \"the coefficient associated with the $j$th regressor variable\", \"the $p\\\\times 1$ column vector of regression coefficients\", \"the model error\", \"the error for the $i$th observation\") -->"
      ],
      "id": "7a3e6ef3-a3b3-428a-9552-e1e836199ca5"
    },
    {
      "cell_type": "raw",
      "metadata": {
        "raw_mimetype": "text/html"
      },
      "source": [
        "<!-- observable <- c(\"Yes\", \"Yes\", \"Yes\", \"Yes\", \"Yes\", \"Yes\", \"Yes\", \"Yes\", \"No\", \"No\", \"No\", \"No\") -->"
      ],
      "id": "6ca19ba2-dbca-47f7-8c22-820c7dff2d01"
    },
    {
      "cell_type": "raw",
      "metadata": {
        "raw_mimetype": "text/html"
      },
      "source": [
        "<!-- random <- c(\"Yes\", \"Yes\", \"Yes\", \"No\", \"No\", \"No\", \"No\", \"No\", \"No\", \"No\", \"Yes\", \"Yes\") -->"
      ],
      "id": "c89a34ad-a988-470d-a542-aea48fe5eb3e"
    },
    {
      "cell_type": "raw",
      "metadata": {
        "raw_mimetype": "text/html"
      },
      "source": [
        "<!-- term_df <- data.frame(term, description, observable, random) -->"
      ],
      "id": "83c94af3-072b-4271-b833-c80a9faa2daa"
    },
    {
      "cell_type": "raw",
      "metadata": {
        "raw_mimetype": "text/html"
      },
      "source": [
        "<!-- kbl(term_df, -->"
      ],
      "id": "7e0d050a-f24b-47bb-b0f5-6309b2f701c6"
    },
    {
      "cell_type": "raw",
      "metadata": {
        "raw_mimetype": "text/html"
      },
      "source": [
        "<!--     col.names = c(\"Term\", \"Description\", \"Observable?\", \"Random?\"), -->"
      ],
      "id": "7a45edb8-69e8-4e0f-a8f4-e831184b9449"
    },
    {
      "cell_type": "raw",
      "metadata": {
        "raw_mimetype": "text/html"
      },
      "source": [
        "<!--     caption = \"An overview of terms used to define a linear model.\", -->"
      ],
      "id": "3a2e354d-a736-45b5-bc52-110556b693ff"
    },
    {
      "cell_type": "raw",
      "metadata": {
        "raw_mimetype": "text/html"
      },
      "source": [
        "<!--     booktabs = TRUE, -->"
      ],
      "id": "c541660e-8253-427b-8e95-083599f9dc61"
    },
    {
      "cell_type": "raw",
      "metadata": {
        "raw_mimetype": "text/html"
      },
      "source": [
        "<!--     escape = FALSE) |> -->"
      ],
      "id": "2df01e34-f75f-454b-b0fa-84a4f4bef4fd"
    },
    {
      "cell_type": "raw",
      "metadata": {
        "raw_mimetype": "text/html"
      },
      "source": [
        "<!--   column_spec(2, width = \"2in\") |> -->"
      ],
      "id": "8e331518-daa7-49db-9adc-efbea5e61bc2"
    },
    {
      "cell_type": "raw",
      "metadata": {
        "raw_mimetype": "text/html"
      },
      "source": [
        "<!--   kable_styling(full_width = FALSE) -->"
      ],
      "id": "a21a507e-10d9-4aca-90cb-f97d76761b0a"
    },
    {
      "cell_type": "raw",
      "metadata": {
        "raw_mimetype": "text/html"
      },
      "source": [
        "<!-- ``` -->"
      ],
      "id": "26349907-a2a3-4fab-9b43-41d32756eeb7"
    },
    {
      "cell_type": "raw",
      "metadata": {
        "raw_mimetype": "text/html"
      },
      "source": [
        "<!-- ## Summary of functions -->"
      ],
      "id": "413c23fa-826b-4062-8bdb-6fe19b12f407"
    },
    {
      "cell_type": "raw",
      "metadata": {
        "raw_mimetype": "text/html"
      },
      "source": [
        "<!-- We have used many functions in this Chapter. We summarize some of the most important ones in Table \\@ref(tab:function-df). -->"
      ],
      "id": "d82d8dbc-69c7-4a04-a515-516da6bb5436"
    },
    {
      "cell_type": "raw",
      "metadata": {
        "raw_mimetype": "text/html"
      },
      "source": [
        "<!-- ```{r function-df, echo = FALSE} -->"
      ],
      "id": "e8c7dc78-e749-4d27-b73b-461dbdb8cff6"
    },
    {
      "cell_type": "raw",
      "metadata": {
        "raw_mimetype": "text/html"
      },
      "source": [
        "<!-- func <- c(\"`lm`\", \"`summary`\", \"`coef`\", \"`residuals`\", \"`fitted`\", \"`predict`\", \"`deviance`\", \"`sigma`\", \"`update`\") -->"
      ],
      "id": "964b6fbb-5456-4f8e-94cb-700399f773de"
    },
    {
      "cell_type": "raw",
      "metadata": {
        "raw_mimetype": "text/html"
      },
      "source": [
        "<!-- purpose <- c(\"Fits a linear model based on a provided `formula`\", \"Provides summary information about the fitted model\", \"Extracts the vector of estimated regression coefficients from the fitted model\", \"Extracts the vector of residuals from the fitted model\", \"Extracts the vector of fitted values from the fitted model\", -->"
      ],
      "id": "d0dbb5b9-123d-4fb3-8afc-42fde643c8db"
    },
    {
      "cell_type": "raw",
      "metadata": {
        "raw_mimetype": "text/html"
      },
      "source": [
        "<!--              \"Computes the fitted values (or arbitrary predictions) based on a fitted model\", \"Extracts the RSS of a fitted model\", \"Extracts $\\\\hat{\\\\sigma}$ from the fitted model\", \"Updates a fitted model to remove or add regressors\") -->"
      ],
      "id": "129f4536-7a3a-40c4-be05-2d2aba9e08a5"
    },
    {
      "cell_type": "raw",
      "metadata": {
        "raw_mimetype": "text/html"
      },
      "source": [
        "<!-- kbl(data.frame(func, purpose), -->"
      ],
      "id": "0ed2822f-3051-4000-9869-0394a4beb1b3"
    },
    {
      "cell_type": "raw",
      "metadata": {
        "raw_mimetype": "text/html"
      },
      "source": [
        "<!--     col.names = c(\"Function\", \"Purpose\"), -->"
      ],
      "id": "335a18ff-e848-407c-b645-1acde07d4e23"
    },
    {
      "cell_type": "raw",
      "metadata": {
        "raw_mimetype": "text/html"
      },
      "source": [
        "<!--     caption = \"An overview of important functions discussed in this chapter.\", -->"
      ],
      "id": "085f2e96-7934-47f2-8727-a2cc2f71a7c1"
    },
    {
      "cell_type": "raw",
      "metadata": {
        "raw_mimetype": "text/html"
      },
      "source": [
        "<!--     booktabs = TRUE, -->"
      ],
      "id": "cc6f3aed-b0e6-4327-a1f5-826c030b375d"
    },
    {
      "cell_type": "raw",
      "metadata": {
        "raw_mimetype": "text/html"
      },
      "source": [
        "<!--     escape = FALSE) |> -->"
      ],
      "id": "6b0e1f11-45a9-4a71-984b-4bce2c2c7c30"
    },
    {
      "cell_type": "raw",
      "metadata": {
        "raw_mimetype": "text/html"
      },
      "source": [
        "<!--   column_spec(column = 2, width = \"3in\")  |> -->"
      ],
      "id": "5c779dda-9069-4bb3-9d53-380acaccdefa"
    },
    {
      "cell_type": "raw",
      "metadata": {
        "raw_mimetype": "text/html"
      },
      "source": [
        "<!--   kable_styling(full_width = FALSE) -->"
      ],
      "id": "52b886fe-8c2f-46b5-bd27-068371f57c39"
    },
    {
      "cell_type": "raw",
      "metadata": {
        "raw_mimetype": "text/html"
      },
      "source": [
        "<!-- ``` -->"
      ],
      "id": "6a18b373-a3d9-4cc5-bcb0-231f8837b088"
    },
    {
      "cell_type": "raw",
      "metadata": {
        "raw_mimetype": "text/html"
      },
      "source": [
        "<!-- # Going Deeper -->"
      ],
      "id": "fba527ac-f574-4924-961f-7313c04e3295"
    },
    {
      "cell_type": "raw",
      "metadata": {
        "raw_mimetype": "text/html"
      },
      "source": [
        "<!-- ## Degrees of freedom -->"
      ],
      "id": "dbcc3417-9a32-40b1-9ce0-55315a937127"
    },
    {
      "cell_type": "raw",
      "metadata": {
        "raw_mimetype": "text/html"
      },
      "source": [
        "<!-- The degrees of freedom of a statistics refers to the number of independent pieces of information that go into its calculation. -->"
      ],
      "id": "bd77ab6f-eed3-4374-8675-7a7af3d117a7"
    },
    {
      "cell_type": "raw",
      "metadata": {
        "raw_mimetype": "text/html"
      },
      "source": [
        "<!-- Consider the sample mean -->"
      ],
      "id": "7ebe294c-37f6-41d2-a7da-f1d3a9422ce9"
    },
    {
      "cell_type": "raw",
      "metadata": {
        "raw_mimetype": "text/html"
      },
      "source": [
        "<!-- \\[\\bar{x}=\\sum_{i=1}^n x_i.\\] -->"
      ],
      "id": "d73f9f58-f5ab-4723-8bf9-df428fd74363"
    },
    {
      "cell_type": "raw",
      "metadata": {
        "raw_mimetype": "text/html"
      },
      "source": [
        "<!-- The calculation uses $n$ pieces of information to compute, but the statistic only has $n-1$ degrees of freedom. Once you know the sample mean, only $n-1$ values are  independent, while the last is constrained to be a certain value. -->"
      ],
      "id": "a560bb52-2cd9-4979-b064-e26f5c1145c9"
    },
    {
      "cell_type": "raw",
      "metadata": {
        "raw_mimetype": "text/html"
      },
      "source": [
        "<!-- Let's say $n=3$ and $\\bar{x} = 10$. Then $x_1$ and $x_2$ can be any numbers, but the last value MUST equal $30 - x_1 - x_2$ so that $x_1 + x_2 + x_3 = 30$ (otherwise the sample mean won't equal 10). To be more specific, if $x_1 = 5$ and $x_2 = 25$, then $x_3$ must be 0, otherwise the sample mean won't be 10. -->"
      ],
      "id": "2c575390-643e-41d2-a9f4-4755480dfcb4"
    },
    {
      "cell_type": "raw",
      "metadata": {
        "raw_mimetype": "text/html"
      },
      "source": [
        "<!-- ## Derivation of the OLS estimators of the simple linear regression model coefficients {#slr-derivation} -->"
      ],
      "id": "71ecb5b0-7cb2-4448-80b2-0fe376b8a11b"
    },
    {
      "cell_type": "raw",
      "metadata": {
        "raw_mimetype": "text/html"
      },
      "source": [
        "<!-- Assume a simple linear regression model with $n$ observations. The residual sum of squares for the simple linear  regression model is -->"
      ],
      "id": "4611702b-7c5b-4474-bc3a-21d388e74f52"
    },
    {
      "cell_type": "raw",
      "metadata": {
        "raw_mimetype": "text/html"
      },
      "source": [
        "<!-- \\[ -->"
      ],
      "id": "76a7da44-cab8-4c77-b6e4-d4724ea16a4f"
    },
    {
      "cell_type": "raw",
      "metadata": {
        "raw_mimetype": "text/html"
      },
      "source": [
        "<!-- RSS(\\hat\\beta_0, \\hat\\beta_1) = \\sum_{i=1}^n(Y_i - \\hat\\beta_0 - \\hat\\beta_1x_i)^2. -->"
      ],
      "id": "098843e0-a08b-4399-8d2f-9f45e4faa567"
    },
    {
      "cell_type": "raw",
      "metadata": {
        "raw_mimetype": "text/html"
      },
      "source": [
        "<!-- \\] -->"
      ],
      "id": "da7f9f6c-ebfd-4f9c-ae3f-5d1b686fc50e"
    },
    {
      "cell_type": "raw",
      "metadata": {
        "raw_mimetype": "text/html"
      },
      "source": [
        "<!-- **OLS estimator of $\\beta_0$** -->"
      ],
      "id": "753c8c6d-be87-4ed6-a0cb-3e464cba9a76"
    },
    {
      "cell_type": "raw",
      "metadata": {
        "raw_mimetype": "text/html"
      },
      "source": [
        "<!-- First, we take the partial derivative of the RSS with respect to $\\hat\\beta_0$ and simplify: -->"
      ],
      "id": "0041abad-2153-41d8-b18c-9324304d0c00"
    },
    {
      "cell_type": "raw",
      "metadata": {
        "raw_mimetype": "text/html"
      },
      "source": [
        "<!-- \\[ -->"
      ],
      "id": "7ab8f7b4-0948-4155-bdfb-64abe98bc381"
    },
    {
      "cell_type": "raw",
      "metadata": {
        "raw_mimetype": "text/html"
      },
      "source": [
        "<!-- \\begin{aligned} -->"
      ],
      "id": "be49baa6-c52f-4832-bfd9-e607e40b23b9"
    },
    {
      "cell_type": "raw",
      "metadata": {
        "raw_mimetype": "text/html"
      },
      "source": [
        "<!-- \\frac{\\partial RSS(\\hat\\beta_0, \\hat\\beta_1)}{\\partial \\hat\\beta_0} &= \\frac{\\partial}{\\partial \\hat\\beta_0}\\sum_{i=1}^n(Y_i - \\hat\\beta_0 - \\hat\\beta_1x_i)^2 & \\tiny\\text{ (substituting the formula for the RSS)} \\\\ -->"
      ],
      "id": "a83f77e8-52eb-4258-8aff-b247c83a77a5"
    },
    {
      "cell_type": "raw",
      "metadata": {
        "raw_mimetype": "text/html"
      },
      "source": [
        "<!-- &= \\sum_{i=1}^n \\frac{\\partial}{\\partial \\hat\\beta_0}(Y_i - \\hat\\beta_0 - \\hat\\beta_1x_i)^2  & \\tiny\\text{ (by the linearity property of derivatives)} \\\\ -->"
      ],
      "id": "b5ee73b0-4961-4097-874e-176794752c3d"
    },
    {
      "cell_type": "raw",
      "metadata": {
        "raw_mimetype": "text/html"
      },
      "source": [
        "<!-- &= -2\\sum_{i=1}^n(Y_i - \\hat\\beta_0 - \\hat\\beta_1x_i). & \\tiny\\text{ (chain rule, factoring out -2)} -->"
      ],
      "id": "b789369f-d37b-4527-8528-060a3c22c0ea"
    },
    {
      "cell_type": "raw",
      "metadata": {
        "raw_mimetype": "text/html"
      },
      "source": [
        "<!-- \\end{aligned} -->"
      ],
      "id": "646e8076-0e9a-45b4-9eee-46110b5d3b66"
    },
    {
      "cell_type": "raw",
      "metadata": {
        "raw_mimetype": "text/html"
      },
      "source": [
        "<!-- \\] -->"
      ],
      "id": "1a16835d-e741-42ae-b735-7bc26b34a2a9"
    },
    {
      "cell_type": "raw",
      "metadata": {
        "raw_mimetype": "text/html"
      },
      "source": [
        "<!-- Next, we set the partial derivative equal to zero and rearrange the terms to solve for $\\hat{\\beta}_0$: -->"
      ],
      "id": "914ee14c-b8d3-4bb8-abb9-055d8dd98d3d"
    },
    {
      "cell_type": "raw",
      "metadata": {
        "raw_mimetype": "text/html"
      },
      "source": [
        "<!-- \\[ -->"
      ],
      "id": "897e0659-79d4-4415-8961-0e6e9e4b6b78"
    },
    {
      "cell_type": "raw",
      "metadata": {
        "raw_mimetype": "text/html"
      },
      "source": [
        "<!-- \\begin{aligned} -->"
      ],
      "id": "abefaa9d-84fa-4cc7-af35-4934e0094b6e"
    },
    {
      "cell_type": "raw",
      "metadata": {
        "raw_mimetype": "text/html"
      },
      "source": [
        "<!-- 0 &= \\frac{\\partial RSS(\\hat\\beta_0, \\hat\\beta_1)}{\\partial \\hat\\beta_0}  &  \\\\ -->"
      ],
      "id": "a1a54f31-3122-4637-82a5-9e05ff611569"
    },
    {
      "cell_type": "raw",
      "metadata": {
        "raw_mimetype": "text/html"
      },
      "source": [
        "<!-- 0 &= -2\\sum_{i=1}^n(Y_i - \\hat\\beta_0 - \\hat\\beta_1x_i) & \\tiny\\text{ (substitute partial deriviative)}\\\\ -->"
      ],
      "id": "74c4006d-93f0-43f9-b63a-567a243ec203"
    },
    {
      "cell_type": "raw",
      "metadata": {
        "raw_mimetype": "text/html"
      },
      "source": [
        "<!-- 0 &= \\sum_{i=1}^n(Y_i - \\hat\\beta_0 - \\hat\\beta_1x_i) & \\tiny\\text{ (divide both sides by -2)} \\\\ -->"
      ],
      "id": "970ec2cc-28fe-404a-b38b-150a30173850"
    },
    {
      "cell_type": "raw",
      "metadata": {
        "raw_mimetype": "text/html"
      },
      "source": [
        "<!-- 0 &= \\sum_{i=1}^n Y_i - \\sum_{i=1}^n\\hat\\beta_0 - \\sum_{i=1}^n\\hat\\beta_1x_i &\\tiny\\text{ (by linearity of sum)} \\\\ -->"
      ],
      "id": "510aa266-3fc0-47ec-a9b2-a2833d8afa18"
    },
    {
      "cell_type": "raw",
      "metadata": {
        "raw_mimetype": "text/html"
      },
      "source": [
        "<!-- 0 &= \\sum_{i=1}^n Y_i - n\\hat\\beta_0 - \\sum_{i=1}^n\\hat\\beta_1x_i & \\tiny(\\text{summing }\\hat\\beta_0\\ n\\text{ times equals }n\\hat\\beta_0) \\\\ -->"
      ],
      "id": "4fe63cd8-da39-4cb9-bcf1-00f994d5510a"
    },
    {
      "cell_type": "raw",
      "metadata": {
        "raw_mimetype": "text/html"
      },
      "source": [
        "<!-- n\\hat\\beta_0 &= \\sum_{i=1}^n Y_i-\\sum_{i=1}^n\\hat\\beta_1x_i. &\\tiny\\text{ (algebra rearrange)} -->"
      ],
      "id": "4bd75afe-bc5d-41fd-834e-9814b12d5f64"
    },
    {
      "cell_type": "raw",
      "metadata": {
        "raw_mimetype": "text/html"
      },
      "source": [
        "<!-- \\end{aligned} -->"
      ],
      "id": "23c88a3c-d956-4196-a544-96c8fdefc242"
    },
    {
      "cell_type": "raw",
      "metadata": {
        "raw_mimetype": "text/html"
      },
      "source": [
        "<!-- \\] -->"
      ],
      "id": "f415b856-e349-499a-902a-126be78a0d33"
    },
    {
      "cell_type": "raw",
      "metadata": {
        "raw_mimetype": "text/html"
      },
      "source": [
        "<!-- Finally, we divide both sides by $n$ to get the OLS estimator for $\\hat\\beta_0$ in terms of $\\hat\\beta_1$: -->"
      ],
      "id": "ab55805e-b153-409e-b0c4-e6b101449a86"
    },
    {
      "cell_type": "raw",
      "metadata": {
        "raw_mimetype": "text/html"
      },
      "source": [
        "<!-- \\[ -->"
      ],
      "id": "51fd1af8-986d-4881-baa9-20444f168135"
    },
    {
      "cell_type": "raw",
      "metadata": {
        "raw_mimetype": "text/html"
      },
      "source": [
        "<!-- \\hat\\beta_0 = \\bar Y-\\hat\\beta_1\\bar x -->"
      ],
      "id": "21f3dc93-721a-4303-b6ea-2f254bcab55a"
    },
    {
      "cell_type": "raw",
      "metadata": {
        "raw_mimetype": "text/html"
      },
      "source": [
        "<!-- \\] -->"
      ],
      "id": "d2a4e673-2d24-476f-89b1-a1ec345daf95"
    },
    {
      "cell_type": "raw",
      "metadata": {
        "raw_mimetype": "text/html"
      },
      "source": [
        "<!-- **OLS Estimator of $\\beta_1$** -->"
      ],
      "id": "4d45524f-1072-4b5e-a924-564db925e51e"
    },
    {
      "cell_type": "raw",
      "metadata": {
        "raw_mimetype": "text/html"
      },
      "source": [
        "<!-- Similar to the previous derivation, we differentiate the RSS with respect to the parameter estimate of interest, set the derivative equal to zero, and solve for the parameter. -->"
      ],
      "id": "5ad70988-e006-40de-b94d-27bb81f100f4"
    },
    {
      "cell_type": "raw",
      "metadata": {
        "raw_mimetype": "text/html"
      },
      "source": [
        "<!-- We start by taking the partial derivative of the RSS with respect ot $\\hat{\\beta}_1$ and simplify. -->"
      ],
      "id": "ed33f78b-1d70-452e-805d-091db14df460"
    },
    {
      "cell_type": "raw",
      "metadata": {
        "raw_mimetype": "text/html"
      },
      "source": [
        "<!-- \\[ -->"
      ],
      "id": "1f4b80e6-b02e-434f-9461-ccb28571b818"
    },
    {
      "cell_type": "raw",
      "metadata": {
        "raw_mimetype": "text/html"
      },
      "source": [
        "<!-- \\begin{aligned} -->"
      ],
      "id": "dd387663-3464-4b4d-aa2f-982048cba596"
    },
    {
      "cell_type": "raw",
      "metadata": {
        "raw_mimetype": "text/html"
      },
      "source": [
        "<!-- \\frac{\\partial RSS(\\hat\\beta_0, \\hat\\beta_1)}{\\partial \\hat\\beta_1} &= \\frac{\\partial}{\\partial \\hat\\beta_1}\\sum_{i=1}^n (Y_i - \\hat\\beta_0 - \\hat\\beta_1x_i)^2 & \\tiny\\text{ (substitute formula for RSS)} \\\\ -->"
      ],
      "id": "c8392b19-9708-41da-b428-bc1a3a65bd83"
    },
    {
      "cell_type": "raw",
      "metadata": {
        "raw_mimetype": "text/html"
      },
      "source": [
        "<!-- &= \\sum_{i=1}^n \\frac{\\partial}{\\partial \\hat\\beta_1}(Y_i - \\hat\\beta_0 - \\hat\\beta_1x_i)^2 & \\tiny\\text{ (linearity property of derivatives)} \\\\ -->"
      ],
      "id": "5d6d4a0e-8651-4d74-888d-46b9a8fd5eec"
    },
    {
      "cell_type": "raw",
      "metadata": {
        "raw_mimetype": "text/html"
      },
      "source": [
        "<!-- &= -2\\sum_{i=1}^n(Y_i-\\hat\\beta_0-\\hat\\beta_1x_i)x_i & \\tiny\\text{ (chain rule, factor out -2)} -->"
      ],
      "id": "45b0a2c4-f6a1-4cf4-a072-cb835509c144"
    },
    {
      "cell_type": "raw",
      "metadata": {
        "raw_mimetype": "text/html"
      },
      "source": [
        "<!-- \\end{aligned} -->"
      ],
      "id": "9ad28c38-6d6f-4202-843e-de313976d3d1"
    },
    {
      "cell_type": "raw",
      "metadata": {
        "raw_mimetype": "text/html"
      },
      "source": [
        "<!-- \\] -->"
      ],
      "id": "31f224f8-5866-41b5-b95c-3a4817882437"
    },
    {
      "cell_type": "raw",
      "metadata": {
        "raw_mimetype": "text/html"
      },
      "source": [
        "<!-- We now set this derivative equal to 0 and rearrange the terms to solve for $\\hat{\\beta}_1$: -->"
      ],
      "id": "b83e8733-68f6-4e90-8140-930850de0066"
    },
    {
      "cell_type": "raw",
      "metadata": {
        "raw_mimetype": "text/html"
      },
      "source": [
        "<!-- \\[ -->"
      ],
      "id": "35691763-89ac-4100-9a70-af11abf1b548"
    },
    {
      "cell_type": "raw",
      "metadata": {
        "raw_mimetype": "text/html"
      },
      "source": [
        "<!-- \\begin{aligned} -->"
      ],
      "id": "d33c8b1e-8651-4cb3-8e51-a0b33e37480e"
    },
    {
      "cell_type": "raw",
      "metadata": {
        "raw_mimetype": "text/html"
      },
      "source": [
        "<!-- 0 &= \\frac{\\partial RSS(\\hat\\beta_0, \\hat\\beta_1)}{\\partial \\hat\\beta_1} & \\\\ -->"
      ],
      "id": "7ce02292-63e8-4b8f-b8d8-1a0e62b49e71"
    },
    {
      "cell_type": "raw",
      "metadata": {
        "raw_mimetype": "text/html"
      },
      "source": [
        "<!-- 0 &= -2\\sum_{i=1}^n(Y_i-\\hat\\beta_0-\\hat\\beta_1x_i)x_i &\\tiny\\text{(substitute partial derivative})\\\\ -->"
      ],
      "id": "f93701e2-f747-4d30-a9d5-869589cdaca8"
    },
    {
      "cell_type": "raw",
      "metadata": {
        "raw_mimetype": "text/html"
      },
      "source": [
        "<!-- 0 &= \\sum_{i=1}^n(Y_i-(\\bar Y -\\hat \\beta_1\\bar x)-\\hat\\beta_1x_i)x_i &\\tiny\\text{(substitute OLS estimator of }\\hat\\beta_0, \\text{ divide both sides by -2}) \\\\ -->"
      ],
      "id": "3d76cdfc-361f-4510-839a-d8f1339aaa0e"
    },
    {
      "cell_type": "raw",
      "metadata": {
        "raw_mimetype": "text/html"
      },
      "source": [
        "<!-- 0 &= \\sum_{i=1}^n x_iY_i -\\sum_{i=1}^n x_i\\bar Y+\\hat\\beta_1\\bar x\\sum_{i=1}^n x_i-\\hat\\beta_1\\sum_{i=1}^n x_i^2. &\\tiny\\text{(expand sum, use linearity of sum)} \\\\ -->"
      ],
      "id": "0f91820e-2df2-4032-8447-4b7d929e9b45"
    },
    {
      "cell_type": "raw",
      "metadata": {
        "raw_mimetype": "text/html"
      },
      "source": [
        "<!-- \\end{aligned} -->"
      ],
      "id": "e048cb6a-7bc9-4c85-9ce9-178daef0b772"
    },
    {
      "cell_type": "raw",
      "metadata": {
        "raw_mimetype": "text/html"
      },
      "source": [
        "<!-- \\] -->"
      ],
      "id": "c5182f02-2e0a-438c-94e6-603f418371f8"
    },
    {
      "cell_type": "raw",
      "metadata": {
        "raw_mimetype": "text/html"
      },
      "source": [
        "<!-- Continuing from the previous line, we move the terms involving $\\hat{\\beta}_1$ to the other side of the equality to get -->"
      ],
      "id": "08e9efb7-a369-484a-adc9-08e837d55f2d"
    },
    {
      "cell_type": "raw",
      "metadata": {
        "raw_mimetype": "text/html"
      },
      "source": [
        "<!-- \\[ -->"
      ],
      "id": "847b5e2c-ce72-43cb-b54c-06301f24960d"
    },
    {
      "cell_type": "raw",
      "metadata": {
        "raw_mimetype": "text/html"
      },
      "source": [
        "<!-- \\begin{aligned} -->"
      ],
      "id": "6944de4d-d5f9-433b-bb1b-081a800d9a2a"
    },
    {
      "cell_type": "raw",
      "metadata": {
        "raw_mimetype": "text/html"
      },
      "source": [
        "<!-- \\hat\\beta_1\\sum_{i=1}^n x_i^2-\\hat\\beta_1\\bar x\\sum_{i=1}^n x_i &=\\sum_{i=1}^n x_iY_i -\\sum_{i=1}^n x_i\\bar Y & \\tiny\\text{(move estimator to other side)}\\\\ -->"
      ],
      "id": "df6f0068-a3d0-40d8-8b0d-d233de921686"
    },
    {
      "cell_type": "raw",
      "metadata": {
        "raw_mimetype": "text/html"
      },
      "source": [
        "<!-- \\hat\\beta_1\\sum_{i=1}^n x_i^2-\\hat\\beta_1\\frac{1}{n}\\sum_{i=1}^n  x_i\\sum_{i=1}^n x_i&=\\sum_{i=1}^n x_iY_i -\\sum_{i=1}^n x_i\\frac{1}{n}\\sum_{i=1}^n  Y_i  &\\tiny\\text{(rewrite using definition of sample means)} \\\\ -->"
      ],
      "id": "72762951-f1fc-41d1-9052-cdc78f2865b9"
    },
    {
      "cell_type": "raw",
      "metadata": {
        "raw_mimetype": "text/html"
      },
      "source": [
        "<!-- \\hat\\beta_1\\sum_{i=1}^n x_i^2-\\hat\\beta_1\\frac{1}{n}\\left(\\sum_{i=1}^n  x_i\\right)^2 &=\\sum_{i=1}^n x_iY_i -\\frac{1}{n}\\sum_{i=1}^n x_i\\sum_{i=1}^n  Y_i  & \\tiny\\text{(reorder and simplify)} \\\\ -->"
      ],
      "id": "3268d3aa-1739-4829-9501-a81bb35f0c9d"
    },
    {
      "cell_type": "raw",
      "metadata": {
        "raw_mimetype": "text/html"
      },
      "source": [
        "<!-- \\hat\\beta_1\\left(\\sum_{i=1}^n x_i^2-\\frac{1}{n}\\left(\\sum_{i=1}^n  x_i\\right)^2\\right)&=\\sum_{i=1}^n x_iY_i -\\frac{1}{n}\\sum_{i=1}^n x_i\\sum_{i=1}^n  Y_i, & \\tiny\\text{(factoring)}\\\\ -->"
      ],
      "id": "987a9c9b-cef4-45a7-a705-eac9728c4379"
    },
    {
      "cell_type": "raw",
      "metadata": {
        "raw_mimetype": "text/html"
      },
      "source": [
        "<!-- \\end{aligned} -->"
      ],
      "id": "f0927b62-6f88-4f1f-9ff4-22e165f2853a"
    },
    {
      "cell_type": "raw",
      "metadata": {
        "raw_mimetype": "text/html"
      },
      "source": [
        "<!-- \\] -->"
      ],
      "id": "09bb4fa8-7f05-450f-a3fe-689146b29f87"
    },
    {
      "cell_type": "raw",
      "metadata": {
        "raw_mimetype": "text/html"
      },
      "source": [
        "<!-- which allows us to obtain -->"
      ],
      "id": "78ad2e13-b1c4-4b5a-b07c-2acf1994b5ca"
    },
    {
      "cell_type": "raw",
      "metadata": {
        "raw_mimetype": "text/html"
      },
      "source": [
        "<!-- \\[ -->"
      ],
      "id": "ffdb9b96-80fc-4fa0-be09-a1dbba182718"
    },
    {
      "cell_type": "raw",
      "metadata": {
        "raw_mimetype": "text/html"
      },
      "source": [
        "<!-- \\hat\\beta_1=\\frac{\\sum_{i=1}^n x_iY_i -\\frac{1}{n}\\sum_{i=1}^n x_i\\sum_{i=1}^n  Y_i}{\\sum_{i=1}^n x_i^2-\\frac{1}{n}\\left(\\sum_{i=1}^n  x_i\\right)^2}. -->"
      ],
      "id": "cfcea2aa-4979-4579-998f-dfb8e1e59807"
    },
    {
      "cell_type": "raw",
      "metadata": {
        "raw_mimetype": "text/html"
      },
      "source": [
        "<!-- \\] -->"
      ],
      "id": "42294893-cfcd-4af1-a5db-f4d11870ccba"
    },
    {
      "cell_type": "raw",
      "metadata": {
        "raw_mimetype": "text/html"
      },
      "source": [
        "<!-- Thus, we have the OLS estimators of the simple linear regression coefficients are -->"
      ],
      "id": "57929e71-e9f1-4c77-8e1f-96b8403ca90d"
    },
    {
      "cell_type": "raw",
      "metadata": {
        "raw_mimetype": "text/html"
      },
      "source": [
        "<!-- \\[ -->"
      ],
      "id": "4ea09e24-0371-4b28-a3a9-0109afdeba9a"
    },
    {
      "cell_type": "raw",
      "metadata": {
        "raw_mimetype": "text/html"
      },
      "source": [
        "<!-- \\begin{aligned} -->"
      ],
      "id": "9d4a1157-3745-45fb-ba03-2dd0630e4c1d"
    },
    {
      "cell_type": "raw",
      "metadata": {
        "raw_mimetype": "text/html"
      },
      "source": [
        "<!-- \\hat\\beta_0 &= \\bar Y-\\hat\\beta_1\\bar x, \\\\ -->"
      ],
      "id": "7efa5471-3356-4712-8e6b-bfd4f099a4ee"
    },
    {
      "cell_type": "raw",
      "metadata": {
        "raw_mimetype": "text/html"
      },
      "source": [
        "<!-- \\hat\\beta_1 & =\\frac{\\sum_{i=1}^n x_iY_i -\\frac{1}{n}\\sum_{i=1}^n x_i\\sum_{i=1}^n Y_i}{\\sum_{i=1}^n x_i^2-\\frac{1}{n}\\left(\\sum_{i=1}^n x_i\\right)^2}. -->"
      ],
      "id": "fdff4d08-d737-4aef-844b-b9fc4cf5497d"
    },
    {
      "cell_type": "raw",
      "metadata": {
        "raw_mimetype": "text/html"
      },
      "source": [
        "<!-- \\end{aligned} -->"
      ],
      "id": "7834984e-6f48-40ee-9bcb-71e4e52cef5b"
    },
    {
      "cell_type": "raw",
      "metadata": {
        "raw_mimetype": "text/html"
      },
      "source": [
        "<!-- \\] -->"
      ],
      "id": "6816427a-9d47-4ec4-928a-33c4d6c189dd"
    },
    {
      "cell_type": "raw",
      "metadata": {
        "raw_mimetype": "text/html"
      },
      "source": [
        "<!-- ## Unbiasedness of OLS estimators -->"
      ],
      "id": "e410ba8f-5984-4c22-8569-a091cf3de975"
    },
    {
      "cell_type": "raw",
      "metadata": {
        "raw_mimetype": "text/html"
      },
      "source": [
        "<!-- We now show that the OLS estimators we derived in Section \\@ref(slr-derivation) are unbiased. An estimator is unbiased if the expected value is equal to the parameter it is estimating. -->"
      ],
      "id": "e8e3a093-33ca-4a74-9a1e-6f88f63c5c90"
    },
    {
      "cell_type": "raw",
      "metadata": {
        "raw_mimetype": "text/html"
      },
      "source": [
        "<!-- The OLS estimator assumes we know the value of the regressor variables for all observations. Thus, we must condition our expectation on knowing the regressor matrix $\\mathbf{X}$. Thus, we want to show that -->"
      ],
      "id": "91edaa8c-9d5c-405d-8c1d-2268efbff71b"
    },
    {
      "cell_type": "raw",
      "metadata": {
        "raw_mimetype": "text/html"
      },
      "source": [
        "<!-- \\[ -->"
      ],
      "id": "b07a4460-a30f-4ee3-b0c6-0b564b94ec77"
    },
    {
      "cell_type": "raw",
      "metadata": {
        "raw_mimetype": "text/html"
      },
      "source": [
        "<!-- E(\\hat{\\beta}_0\\mid \\mathbf{X})=\\beta_0, -->"
      ],
      "id": "4949ad06-8e4c-473a-b164-c4c845ad56d0"
    },
    {
      "cell_type": "raw",
      "metadata": {
        "raw_mimetype": "text/html"
      },
      "source": [
        "<!-- \\] -->"
      ],
      "id": "ad7ae372-c9f5-4b8b-ab5d-f6fe9aab72d2"
    },
    {
      "cell_type": "raw",
      "metadata": {
        "raw_mimetype": "text/html"
      },
      "source": [
        "<!-- where \"$\\mid \\mathbf{X}$\" is convenient notation to indicate that we are conditioning our expectation on knowing the regressor values for every observation. -->"
      ],
      "id": "f916a699-a24d-44e2-9fb3-912777c9b1db"
    },
    {
      "cell_type": "raw",
      "metadata": {
        "raw_mimetype": "text/html"
      },
      "source": [
        "<!-- In Section \\@ref(s-slr-estimation), we noted that we assume $E(\\epsilon \\mid X)=0$, which is true for every error in our model, i.e. $E(\\epsilon_i \\mid X = x_i) = 0$ for $i=1,2,\\ldots,n$. Thus, -->"
      ],
      "id": "f8e49a58-ea0c-4b60-bcf6-236ca9955fed"
    },
    {
      "cell_type": "raw",
      "metadata": {
        "raw_mimetype": "text/html"
      },
      "source": [
        "<!-- \\[ -->"
      ],
      "id": "9f294001-6022-43e2-9352-43b9dba931cb"
    },
    {
      "cell_type": "raw",
      "metadata": {
        "raw_mimetype": "text/html"
      },
      "source": [
        "<!-- \\begin{aligned} -->"
      ],
      "id": "b3b5c101-4bc3-4799-a6fa-ce58021d0c55"
    },
    {
      "cell_type": "raw",
      "metadata": {
        "raw_mimetype": "text/html"
      },
      "source": [
        "<!-- E(Y_i\\mid X=x_i) &= E(\\beta_0 + \\beta_1 x_i +\\epsilon_i\\mid X = x_i) & \\tiny\\text{(substiute definition of $Y_i$)} \\\\ -->"
      ],
      "id": "42c1ca4b-580d-44e7-8ef1-555cf3d42399"
    },
    {
      "cell_type": "raw",
      "metadata": {
        "raw_mimetype": "text/html"
      },
      "source": [
        "<!-- &= E(\\beta_0\\mid X=x_i) + E(\\beta_1 x_i \\mid X = X_i) +E(\\epsilon_i | X=x_i) & \\tiny\\text{(linearity property of expectation)} \\\\ -->"
      ],
      "id": "7f111dd6-3d0c-4b3d-a21a-7cbb28a77fb8"
    },
    {
      "cell_type": "raw",
      "metadata": {
        "raw_mimetype": "text/html"
      },
      "source": [
        "<!-- &= \\beta_0+\\beta_1x_i +E(\\epsilon_i | X=x_i) & \\tiny\\text{(the $\\beta$s and $x_i$ are non-random values)} \\\\ -->"
      ],
      "id": "9e9decb7-7316-41c7-b7d1-95536db29aed"
    },
    {
      "cell_type": "raw",
      "metadata": {
        "raw_mimetype": "text/html"
      },
      "source": [
        "<!-- &= \\beta_0+\\beta_1x_i + 0 & \\tiny\\text{(assumption about errors)} \\\\ -->"
      ],
      "id": "71522a77-7548-434e-bc17-520c2b349dc0"
    },
    {
      "cell_type": "raw",
      "metadata": {
        "raw_mimetype": "text/html"
      },
      "source": [
        "<!-- &= \\beta_0+\\beta_1x_i. & -->"
      ],
      "id": "4c8bd86d-08ed-4783-a83d-6e2e05b4f9a3"
    },
    {
      "cell_type": "raw",
      "metadata": {
        "raw_mimetype": "text/html"
      },
      "source": [
        "<!-- \\end{aligned} -->"
      ],
      "id": "f020f0ca-ea8b-4f31-882a-a1008363d93e"
    },
    {
      "cell_type": "raw",
      "metadata": {
        "raw_mimetype": "text/html"
      },
      "source": [
        "<!-- \\] -->"
      ],
      "id": "9cd68341-6c45-4d85-8e80-afd7f63a5d3e"
    },
    {
      "cell_type": "raw",
      "metadata": {
        "raw_mimetype": "text/html"
      },
      "source": [
        "<!-- In the derivations below, every sum is over all values of $i$, i.e., $\\sum \\equiv \\sum_{i=1}^n$. We drop the index for simplicity. -->"
      ],
      "id": "32490813-fcc9-45dd-b0a0-38b3fac3cd64"
    },
    {
      "cell_type": "raw",
      "metadata": {
        "raw_mimetype": "text/html"
      },
      "source": [
        "<!-- Next, we note: -->"
      ],
      "id": "61e67957-c31d-464c-a3ca-ee9ce6507086"
    },
    {
      "cell_type": "raw",
      "metadata": {
        "raw_mimetype": "text/html"
      },
      "source": [
        "<!-- \\[ -->"
      ],
      "id": "4c0a9ae0-7316-42a3-8156-7e4cfc36e8da"
    },
    {
      "cell_type": "raw",
      "metadata": {
        "raw_mimetype": "text/html"
      },
      "source": [
        "<!-- \\begin{aligned} -->"
      ],
      "id": "e38d556e-98d8-4acf-b0da-6a5f35fd9cba"
    },
    {
      "cell_type": "raw",
      "metadata": {
        "raw_mimetype": "text/html"
      },
      "source": [
        "<!-- E\\left(\\sum x_iY_i \\biggm| \\mathbf{X} \\right) &= \\sum E(x_iY_i \\mid \\mathbf{X}) &\\tiny\\text{ (by the linearity of the expectation operator)}\\\\ -->"
      ],
      "id": "49e5123c-1100-4f2f-a9d1-76efc45bf5f8"
    },
    {
      "cell_type": "raw",
      "metadata": {
        "raw_mimetype": "text/html"
      },
      "source": [
        "<!-- &=\\sum x_iE(Y_i\\mid \\mathbf{X})&\\tiny(x_i\\text{ is a fixed value, so it can be brought out})\\\\ -->"
      ],
      "id": "e21475b6-3f53-4857-b841-e74c25ae8f79"
    },
    {
      "cell_type": "raw",
      "metadata": {
        "raw_mimetype": "text/html"
      },
      "source": [
        "<!-- &=\\sum x_i(\\beta_0+\\beta_1 x_i)&\\tiny\\text{(substitute expected value of }Y_i)\\\\ -->"
      ],
      "id": "0015a242-1118-41ec-8ae7-d4a50556a2d3"
    },
    {
      "cell_type": "raw",
      "metadata": {
        "raw_mimetype": "text/html"
      },
      "source": [
        "<!-- &=\\sum x_i\\beta_0+\\sum x_i\\beta_1 x_i&\\tiny\\text{(distribute sum)}\\\\ -->"
      ],
      "id": "3d54e28c-b5dc-4dbc-8140-e9f198d6014a"
    },
    {
      "cell_type": "raw",
      "metadata": {
        "raw_mimetype": "text/html"
      },
      "source": [
        "<!-- &=\\beta_0\\sum x_i+\\beta_1\\sum x_i^2.&\\tiny\\text{(factor out constants)} -->"
      ],
      "id": "616d7c19-f029-49c1-9c85-385de2dab2e9"
    },
    {
      "cell_type": "raw",
      "metadata": {
        "raw_mimetype": "text/html"
      },
      "source": [
        "<!-- \\end{aligned} -->"
      ],
      "id": "51c199e0-1959-42d7-ba3b-3241c2c1dc36"
    },
    {
      "cell_type": "raw",
      "metadata": {
        "raw_mimetype": "text/html"
      },
      "source": [
        "<!-- \\] -->"
      ],
      "id": "b646606c-3390-4879-babf-ef500d98219b"
    },
    {
      "cell_type": "raw",
      "metadata": {
        "raw_mimetype": "text/html"
      },
      "source": [
        "<!-- Also, -->"
      ],
      "id": "ba314afb-ce7d-4e80-bddf-ca365bdbdaf6"
    },
    {
      "cell_type": "raw",
      "metadata": {
        "raw_mimetype": "text/html"
      },
      "source": [
        "<!-- \\[ -->"
      ],
      "id": "34b6895b-f59c-4cd8-95d0-cc0691100613"
    },
    {
      "cell_type": "raw",
      "metadata": {
        "raw_mimetype": "text/html"
      },
      "source": [
        "<!-- \\begin{aligned} -->"
      ],
      "id": "bebad801-dcc2-4308-8002-8d6ac0777b2a"
    },
    {
      "cell_type": "raw",
      "metadata": {
        "raw_mimetype": "text/html"
      },
      "source": [
        "<!-- E(\\bar Y\\mid \\mathbf{X}) -->"
      ],
      "id": "df2f3429-6904-4608-a5dd-21c3adc21d5e"
    },
    {
      "cell_type": "raw",
      "metadata": {
        "raw_mimetype": "text/html"
      },
      "source": [
        "<!-- &= E\\left(\\frac{1}{n}\\sum Y_i\\Biggm|\\mathbf{X} \\right)&\\tiny\\text{(definition of sample mean)}\\\\ -->"
      ],
      "id": "d4fbeafb-113d-459b-8210-03f5b776f414"
    },
    {
      "cell_type": "raw",
      "metadata": {
        "raw_mimetype": "text/html"
      },
      "source": [
        "<!-- &= \\frac{1}{n}E\\left(\\sum Y_i \\Bigm| \\mathbf{X}\\right)&\\tiny\\text{(factor out constant)}\\\\ -->"
      ],
      "id": "6a0c14ac-9349-422e-9440-1398efc81674"
    },
    {
      "cell_type": "raw",
      "metadata": {
        "raw_mimetype": "text/html"
      },
      "source": [
        "<!-- &= \\frac{1}{n}\\sum E\\left(Y_i \\mid \\mathbf{X}\\right)&\\tiny\\text{(linearity of expectation)}\\\\ -->"
      ],
      "id": "9487a5e3-6d4f-4e68-b337-5e0218ddc565"
    },
    {
      "cell_type": "raw",
      "metadata": {
        "raw_mimetype": "text/html"
      },
      "source": [
        "<!-- &= \\frac{1}{n}\\sum(\\beta_0+\\beta_1 x_i)&\\tiny\\text{(substitute expected value of }Y_i)\\\\ -->"
      ],
      "id": "fa207631-3a74-453b-98fd-ee634737f910"
    },
    {
      "cell_type": "raw",
      "metadata": {
        "raw_mimetype": "text/html"
      },
      "source": [
        "<!-- &= \\frac{1}{n}\\left(\\sum\\beta_0+\\sum\\beta_1 x_i\\right)&\\tiny\\text{(distribute sum)}\\\\ -->"
      ],
      "id": "5f398997-98cd-4978-b4b9-6cb2d171cbc6"
    },
    {
      "cell_type": "raw",
      "metadata": {
        "raw_mimetype": "text/html"
      },
      "source": [
        "<!-- &= \\frac{1}{n}\\left(n\\beta_0+\\beta_1\\sum x_i\\right)&\\tiny\\text{(simplify, factor out constant)}\\\\ -->"
      ],
      "id": "26dd6a2b-7f25-4b64-b89f-b625bc5f84a2"
    },
    {
      "cell_type": "raw",
      "metadata": {
        "raw_mimetype": "text/html"
      },
      "source": [
        "<!-- &= \\beta_0+\\beta_1\\bar x. &\\tiny\\text{(simplify)} -->"
      ],
      "id": "4edb156c-2544-4704-a17c-32b4fdd1bb36"
    },
    {
      "cell_type": "raw",
      "metadata": {
        "raw_mimetype": "text/html"
      },
      "source": [
        "<!-- \\end{aligned} -->"
      ],
      "id": "b8d9b145-612a-4c8a-b02e-48393eb7c802"
    },
    {
      "cell_type": "raw",
      "metadata": {
        "raw_mimetype": "text/html"
      },
      "source": [
        "<!-- \\] -->"
      ],
      "id": "fdafcfb4-2002-40f7-b429-c72c27050f88"
    },
    {
      "cell_type": "raw",
      "metadata": {
        "raw_mimetype": "text/html"
      },
      "source": [
        "<!-- To simplify our derivation below, define -->"
      ],
      "id": "5b976d94-93d7-4aba-b684-56a7804745e4"
    },
    {
      "cell_type": "raw",
      "metadata": {
        "raw_mimetype": "text/html"
      },
      "source": [
        "<!-- \\[ -->"
      ],
      "id": "dafbad16-7a18-4788-9636-6a493874f201"
    },
    {
      "cell_type": "raw",
      "metadata": {
        "raw_mimetype": "text/html"
      },
      "source": [
        "<!-- SSX = \\sum x_i^2-\\frac{1}{n}\\left(\\sum  x_i\\right)^2. -->"
      ],
      "id": "dbe27305-f8b6-4bb4-b0dd-3199aaefc5ff"
    },
    {
      "cell_type": "raw",
      "metadata": {
        "raw_mimetype": "text/html"
      },
      "source": [
        "<!-- \\] -->"
      ],
      "id": "39278312-cde6-49b1-b6b2-5bd7325aed7c"
    },
    {
      "cell_type": "raw",
      "metadata": {
        "raw_mimetype": "text/html"
      },
      "source": [
        "<!-- Thus, -->"
      ],
      "id": "c2af76f2-6ebb-4395-a3fd-2dcda3c34db5"
    },
    {
      "cell_type": "raw",
      "metadata": {
        "raw_mimetype": "text/html"
      },
      "source": [
        "<!-- \\[ -->"
      ],
      "id": "b5fe9c94-54b4-4a8b-a084-2f323db27095"
    },
    {
      "cell_type": "raw",
      "metadata": {
        "raw_mimetype": "text/html"
      },
      "source": [
        "<!-- \\begin{aligned} -->"
      ],
      "id": "52968dc7-9992-463f-9522-ffe3825fc539"
    },
    {
      "cell_type": "raw",
      "metadata": {
        "raw_mimetype": "text/html"
      },
      "source": [
        "<!-- &E(\\hat\\beta_1 \\mid \\mathbf{X}) &\\\\ -->"
      ],
      "id": "99e55645-5c18-4908-a39e-cf35a3ad3cc3"
    },
    {
      "cell_type": "raw",
      "metadata": {
        "raw_mimetype": "text/html"
      },
      "source": [
        "<!-- &= E\\left(\\frac{\\sum x_iY_i -\\frac{1}{n}\\sum x_i\\sum Y_i}{\\sum x_i^2-\\frac{1}{n}\\left(\\sum  x_i\\right)^2} \\Biggm| \\mathbf{X} \\right) &\\tiny\\text{(substitute OLS estimator)} \\\\ -->"
      ],
      "id": "2450897e-3927-445a-8e16-3362b4fa1935"
    },
    {
      "cell_type": "raw",
      "metadata": {
        "raw_mimetype": "text/html"
      },
      "source": [
        "<!-- &= \\frac{1}{SSX}E\\left(\\sum x_iY_i-\\frac{1}{n}\\sum x_i\\sum Y_i \\biggm| \\mathbf{X}\\right)&\\tiny\\text{(factor out constant denominator, substitute }SSX\\text{)} \\\\ -->"
      ],
      "id": "139d35f2-78ec-4e3e-b8d0-807a52414f40"
    },
    {
      "cell_type": "raw",
      "metadata": {
        "raw_mimetype": "text/html"
      },
      "source": [
        "<!-- &= \\frac{1}{SSX}\\left[E\\left(\\sum x_iY_i\\Bigm|\\mathbf{X}\\right)-E\\left(\\frac{1}{n}\\sum x_i\\sum Y_i\\biggm|\\mathbf{X}\\right)\\right]&\\tiny\\text{(linearity of expectation)}\\\\ -->"
      ],
      "id": "9c4aea40-0249-4ae9-944f-5c1ca0562d94"
    },
    {
      "cell_type": "raw",
      "metadata": {
        "raw_mimetype": "text/html"
      },
      "source": [
        "<!-- &= \\frac{1}{SSX}\\left[E\\left(\\sum x_iY_i\\Bigm|\\mathbf{X}\\right)-\\left(\\sum x_i\\right)E\\left(\\bar Y\\mid \\mathbf{X}\\right)\\right]&\\tiny\\text{(factor out constant }\\sum x_i\\text{, use definition of}\\bar{Y})\\\\ -->"
      ],
      "id": "20cf92d8-bac1-44ed-adde-b55bee00f2b3"
    },
    {
      "cell_type": "raw",
      "metadata": {
        "raw_mimetype": "text/html"
      },
      "source": [
        "<!-- &= \\frac{1}{SSX}\\left[\\left(\\beta_0\\sum x_i + \\beta_1\\sum x_i^2\\right)-\\left(\\sum x_i\\right)(\\beta_0+\\beta_1\\bar x)\\right]&\\tiny\\text{(substitute previous derivations -->"
      ],
      "id": "5f3f3855-9236-4596-b785-1927ed4cfd4b"
    },
    {
      "cell_type": "raw",
      "metadata": {
        "raw_mimetype": "text/html"
      },
      "source": [
        "<!-- )}\\\\ -->"
      ],
      "id": "c87c659c-bc5f-47d6-b606-e367b9e6b69b"
    },
    {
      "cell_type": "raw",
      "metadata": {
        "raw_mimetype": "text/html"
      },
      "source": [
        "<!-- &= \\frac{1}{SSX}\\left[\\beta_0\\sum x_i+\\beta_1\\sum x_i^2-\\beta_0\\sum x_i-\\beta_1\\bar x\\sum x_i\\right]&\\tiny\\text{(expand product and reorder)} \\\\ -->"
      ],
      "id": "0ade1f54-cf27-4de1-ac55-6c1bc700a7d4"
    },
    {
      "cell_type": "raw",
      "metadata": {
        "raw_mimetype": "text/html"
      },
      "source": [
        "<!-- &= \\frac{1}{SSX}\\left[\\beta_1\\sum x_i^2-\\beta_1\\bar x\\sum x_i\\right]&\\tiny\\text{(cancel terms)}\\\\ -->"
      ],
      "id": "dc593c11-9f35-4a7a-be6d-61ca27f286c5"
    },
    {
      "cell_type": "raw",
      "metadata": {
        "raw_mimetype": "text/html"
      },
      "source": [
        "<!-- &= \\frac{1}{SSX}\\left[\\beta_1\\sum x_i^2-\\beta_1\\frac{1}{n}\\sum x_i\\sum x_i\\right]&\\tiny\\text{(using definition of sample mean)}\\\\ -->"
      ],
      "id": "011b548b-707b-4bd6-a62d-a0cdd9399a7a"
    },
    {
      "cell_type": "raw",
      "metadata": {
        "raw_mimetype": "text/html"
      },
      "source": [
        "<!-- &= \\frac{1}{SSX}\\beta_1\\left[\\sum x_i^2-\\frac{1}{n}\\left(\\sum x_i\\right)^2\\right]&\\tiny\\text{(factor out }\\beta_1\\text{, simplify})\\\\ -->"
      ],
      "id": "ba0a8f7e-92f4-4536-b4da-9cca19ec9796"
    },
    {
      "cell_type": "raw",
      "metadata": {
        "raw_mimetype": "text/html"
      },
      "source": [
        "<!-- &= \\frac{1}{SSX}\\beta_1[SSX]&\\tiny\\text{(substitute }SSX\\text{)} \\\\ -->"
      ],
      "id": "b62b5f3a-1b24-4c82-82a6-56c2c23ee94f"
    },
    {
      "cell_type": "raw",
      "metadata": {
        "raw_mimetype": "text/html"
      },
      "source": [
        "<!-- &=\\beta_1. &\\tiny\\text{(simplify)} -->"
      ],
      "id": "5ee4dec2-3870-4fc3-827c-89cf9c41f897"
    },
    {
      "cell_type": "raw",
      "metadata": {
        "raw_mimetype": "text/html"
      },
      "source": [
        "<!-- \\end{aligned} -->"
      ],
      "id": "05fe6af4-72dc-4f21-bc54-6a3089543061"
    },
    {
      "cell_type": "raw",
      "metadata": {
        "raw_mimetype": "text/html"
      },
      "source": [
        "<!-- \\] -->"
      ],
      "id": "9ff0ca12-62b6-4c13-84ab-0e60cb2e23c9"
    },
    {
      "cell_type": "raw",
      "metadata": {
        "raw_mimetype": "text/html"
      },
      "source": [
        "<!-- Therefore, $\\hat\\beta_1$ is an unbiased estimator of $\\beta_1$. -->"
      ],
      "id": "e24964c0-1354-451b-a266-19aac30242ae"
    },
    {
      "cell_type": "raw",
      "metadata": {
        "raw_mimetype": "text/html"
      },
      "source": [
        "<!-- Next, we show that $\\hat\\beta_0$ is unbiased: -->"
      ],
      "id": "3a97570c-e8a6-4183-a7da-db2029608b82"
    },
    {
      "cell_type": "raw",
      "metadata": {
        "raw_mimetype": "text/html"
      },
      "source": [
        "<!-- \\[ -->"
      ],
      "id": "fc0e0d78-fbaa-42b8-a1dd-1197eb71255a"
    },
    {
      "cell_type": "raw",
      "metadata": {
        "raw_mimetype": "text/html"
      },
      "source": [
        "<!-- \\begin{aligned} -->"
      ],
      "id": "c1ede4c5-b7db-4805-8104-c913c0d34887"
    },
    {
      "cell_type": "raw",
      "metadata": {
        "raw_mimetype": "text/html"
      },
      "source": [
        "<!-- E(\\hat\\beta_0\\mid \\mathbf{X}) &= E(\\bar Y - \\hat{\\beta}_1\\bar x\\mid \\mathbf{X}) &\\tiny\\text{(OLS estimator of }\\beta_0) \\\\ -->"
      ],
      "id": "fd7d22b1-28df-4d6d-8a41-d17b2300de7c"
    },
    {
      "cell_type": "raw",
      "metadata": {
        "raw_mimetype": "text/html"
      },
      "source": [
        "<!-- &= E(\\bar{Y}\\mid \\mathbf{X}) - E(\\hat\\beta_1\\bar{x}\\mid \\mathbf{X}) &\\tiny\\text{(linearity of expectation})\\\\ -->"
      ],
      "id": "97984319-bf3a-4e14-969a-0a6cd7bf2afa"
    },
    {
      "cell_type": "raw",
      "metadata": {
        "raw_mimetype": "text/html"
      },
      "source": [
        "<!-- &= E(\\bar{Y}\\mid \\mathbf{X}) - \\bar{x}E(\\hat\\beta_1\\mid \\mathbf{X}) &\\tiny\\text{(factor out constant})\\\\ -->"
      ],
      "id": "a79927d0-4152-4c2e-9521-5e2341869bbd"
    },
    {
      "cell_type": "raw",
      "metadata": {
        "raw_mimetype": "text/html"
      },
      "source": [
        "<!-- &= \\beta_0 +\\beta_1\\bar x-\\bar x\\beta_1 &\\tiny\\text{(substitute previous derivations})\\\\ -->"
      ],
      "id": "2a46c6bc-e77c-4779-bc92-373e951d9cf3"
    },
    {
      "cell_type": "raw",
      "metadata": {
        "raw_mimetype": "text/html"
      },
      "source": [
        "<!-- &= \\beta_0. &\\tiny\\text{(cancel terms})\\\\ -->"
      ],
      "id": "1c8ca747-6f4e-46e6-9785-67f52383c0ac"
    },
    {
      "cell_type": "raw",
      "metadata": {
        "raw_mimetype": "text/html"
      },
      "source": [
        "<!-- \\end{aligned} -->"
      ],
      "id": "8a8683c3-0110-443f-ac7d-de1fbeeca72e"
    },
    {
      "cell_type": "raw",
      "metadata": {
        "raw_mimetype": "text/html"
      },
      "source": [
        "<!-- \\] -->"
      ],
      "id": "d6fbb583-ee30-44ff-a9b1-84de1dc29036"
    },
    {
      "cell_type": "raw",
      "metadata": {
        "raw_mimetype": "text/html"
      },
      "source": [
        "<!-- Therefore, $\\hat\\beta_0$ is an unbiased estimator of $\\beta_0$. -->"
      ],
      "id": "50dba6a7-e5f3-49ea-bc19-7e6cce929e74"
    },
    {
      "cell_type": "raw",
      "metadata": {
        "raw_mimetype": "text/html"
      },
      "source": [
        "<!-- <!-- Next, we derive the variance of the OLS estimators conditional on the known regressor values, i.e., $\\mathrm{var}(\\hat\\beta_0 \\mid \\mathbf{X})$ and $\\mathrm{var}(\\hat\\beta_1 \\mid \\mathbf{X})$. -->"
      ],
      "id": "0e283107-aedc-44f6-b3c4-f534d773f91d"
    },
    {
      "cell_type": "markdown",
      "metadata": {},
      "source": [
        "–\\>"
      ],
      "id": "f819c2c0-8465-4df1-8563-e6083e6c6f6a"
    },
    {
      "cell_type": "raw",
      "metadata": {
        "raw_mimetype": "text/html"
      },
      "source": [
        "<!-- <!-- First, we derive that -->"
      ],
      "id": "966b3359-bfeb-42d3-8cb4-5f7a4c5a4bed"
    },
    {
      "cell_type": "markdown",
      "metadata": {},
      "source": [
        "–\\> <!-- <!-- \\[ --> –\\> <!-- <!-- \\begin{align} --> –\\>\n",
        "<!-- <!-- \\mathrm{var}(Y_i\\mid X = x_i) &= \\mathrm{var}(\\beta_0+\\beta_1x_i+\\epsilon_i\\mid X = x_i)&\\tiny\\text{(substitute model definition)} \\\\ -->\n",
        "–\\>\n",
        "<!-- <!-- &= \\mathrm{var}(\\epsilon_i\\mid X = x_i)&\\tiny(\\beta_0, \\beta_1, x_i\\text{ are fixed, so zero variance)} \\\\ -->\n",
        "–\\> <!-- <!-- &= \\sigma^2. &\\tiny\\text{(by assumption)} --> –\\>\n",
        "<!-- <!-- \\end{align} --> –\\> <!-- <!-- \\] --> –\\>"
      ],
      "id": "8da3cd20-3e88-4d8e-bbed-a147439e5ce9"
    },
    {
      "cell_type": "raw",
      "metadata": {
        "raw_mimetype": "text/html"
      },
      "source": [
        "<!-- <!-- Second, we derive that -->"
      ],
      "id": "febd5116-3899-4161-bb07-07b598d969b4"
    },
    {
      "cell_type": "markdown",
      "metadata": {},
      "source": [
        "–\\> <!-- <!-- \\[ --> –\\> <!-- <!-- \\begin{align} --> –\\>\n",
        "<!-- <!-- \\text{cov}(Y_i, Y_j\\mid \\mathbf{X}) &= \\text{cov}(\\beta_0+\\beta_1x_i+\\epsilon_i, \\beta_0+\\beta_1x_j+\\epsilon_j\\mid \\mathbf{X})&\\tiny\\text{(substitute model definition)} \\\\ -->\n",
        "–\\>\n",
        "<!-- <!-- &= \\text{cov}(\\epsilon_i,\\epsilon_j\\mid \\mathbf{X})&\\tiny\\text{(other values are fixed)} \\\\ -->\n",
        "–\\> <!-- <!-- &= 0.&\\tiny\\text{(errors are uncorrelated)} --> –\\>\n",
        "<!-- <!-- \\end{align} --> –\\> <!-- <!-- \\] --> –\\>"
      ],
      "id": "6913a6d8-9f9f-4b16-8ef1-b0ded369795e"
    },
    {
      "cell_type": "raw",
      "metadata": {
        "raw_mimetype": "text/html"
      },
      "source": [
        "<!-- <!-- Next, to simplify the derivation, we use a different form of $\\hat\\beta_1$ from Equation \\@ref(eq:slr-beta1hat), namely, -->"
      ],
      "id": "285dac88-272e-47f6-b708-d54023907ac2"
    },
    {
      "cell_type": "markdown",
      "metadata": {},
      "source": [
        "–\\> <!-- <!-- \\[ --> –\\> <!-- <!-- \\begin{align} --> –\\>\n",
        "<!-- <!-- \\mathrm{var}(\\hat\\beta_1\\mid \\mathbf{X}) &=\\mathrm{var}\\left(\\frac{\\sum(x_i-\\bar x)Y_i}{\\sum(x_i-\\bar x)^2}\\mid \\mathbf{X}\\right)&\\tiny\\text{(expression for }\\hat\\beta_1)\\\\ -->\n",
        "–\\>\n",
        "<!-- <!-- &=\\frac{1}{\\left[\\sum(x_i-\\bar x)^2\\right]^2}\\mathrm{var}\\left(\\sum(x_i-\\bar x)Y_i\\Bigm| \\mathbf{X}\\right)&\\tiny\\text{(factor out constant denominator)}\\\\ -->\n",
        "–\\>\n",
        "<!-- <!-- &=\\frac{1}{\\left[\\sum(x_i-\\bar x)^2\\right]^2}\\biggl[\\sum\\mathrm{var}((x_i-\\bar x)Y_i\\mid \\mathbf{X})&\\\\ -->\n",
        "–\\>\n",
        "<!-- <!-- &\\qquad+\\sum_{i=1}^{n}\\sum_{i\\neq j}\\text{cov}((x_i-\\bar x)Y_i, (x_j-\\bar x)Y_j\\mid \\mathbf{X})\\biggr]&\\tiny\\text{(variance of a sum formula)}\\\\ -->\n",
        "–\\>\n",
        "<!-- <!-- &=\\frac{1}{\\left[\\sum(x_i-\\bar x)^2\\right]^2}\\biggl[\\sum(x_i-\\bar x)^2\\mathrm{var}(Y_i\\mid \\mathbf{X}) & \\\\ -->\n",
        "–\\>\n",
        "<!-- <!-- &\\qquad +\\sum_{i=1}^{n}\\sum_{i\\neq j}(x_i-\\bar x)(x_j-\\bar x)\\text{cov}(Y_i,Y_j\\mid \\mathbf{X})\\biggr]&\\tiny\\text{(factor out constants)}\\\\ -->\n",
        "–\\>\n",
        "<!-- <!-- &=\\frac{1}{\\left[\\sum(x_i-\\bar x)^2\\right]^2}\\left[\\sum(x_i-\\bar x)^2\\mathrm{var}(Y_i\\mid \\mathbf{X})\\right]&\\tiny\\text{(simplify using }\\text{cov}(Y_i, Y_j\\mid \\mathbf{X})=0 \\text{ for } i\\neq j)\\\\ -->\n",
        "–\\>\n",
        "<!-- <!-- &=\\frac{1}{\\left[\\sum(x_i-\\bar x)^2\\right]^2}\\left[\\sigma^2\\sum(x_i-\\bar x)^2\\right]&\\tiny\\text{(substitute known variance, factor out }\\sigma^2\\text{)}\\\\ -->\n",
        "–\\>\n",
        "<!-- <!-- &=\\frac{\\sigma^2}{\\sum(x_i-\\bar x)^2}.&\\tiny\\text{(cancel out numerator and denominator)}\\ -->\n",
        "–\\> <!-- <!-- \\end{align} --> –\\> <!-- <!-- \\] --> –\\>"
      ],
      "id": "b98af9f0-a48f-4b1c-8b57-0169d5fb0c85"
    },
    {
      "cell_type": "raw",
      "metadata": {
        "raw_mimetype": "text/html"
      },
      "source": [
        "<!-- ## Manual calculation Penguins simple linear regression example -->"
      ],
      "id": "b7641360-6f52-4f68-bf99-fd80ecb53ba3"
    },
    {
      "cell_type": "raw",
      "metadata": {
        "raw_mimetype": "text/html"
      },
      "source": [
        "<!-- In this section, we manually produce (i.e., without the `lm` function) the `penguins` simple linear regression example in Section \\@ref(s:penguins-slr). -->"
      ],
      "id": "5113dbc0-c5ee-4bbf-8e1f-940780b24acb"
    },
    {
      "cell_type": "raw",
      "metadata": {
        "raw_mimetype": "text/html"
      },
      "source": [
        "<!-- First, we will manually fit a simple linear regression model that regresses `bill_length_mm` on `body_mass_g`. -->"
      ],
      "id": "e8265618-95d6-4b98-9d55-323cf9b9cfeb"
    },
    {
      "cell_type": "raw",
      "metadata": {
        "raw_mimetype": "text/html"
      },
      "source": [
        "<!-- Using the `summary` function on the `penguins` data frame, we see that both `bill_length_mm` and `body_mass_g` have `NA` values. -->"
      ],
      "id": "1c9baac7-11c9-42e7-af8d-0fa7a03463f0"
    },
    {
      "cell_type": "raw",
      "metadata": {
        "raw_mimetype": "text/html"
      },
      "source": [
        "<!-- ```{r} -->"
      ],
      "id": "749400f2-071a-40fb-9195-2d394b9a30bd"
    },
    {
      "cell_type": "raw",
      "metadata": {
        "raw_mimetype": "text/html"
      },
      "source": [
        "<!-- summary(penguins) -->"
      ],
      "id": "aca0426e-0529-400b-818e-ce57698e5aaa"
    },
    {
      "cell_type": "raw",
      "metadata": {
        "raw_mimetype": "text/html"
      },
      "source": [
        "<!-- ``` -->"
      ],
      "id": "5a06fdee-3967-4bd5-a5a6-e1825436d5c5"
    },
    {
      "cell_type": "raw",
      "metadata": {
        "raw_mimetype": "text/html"
      },
      "source": [
        "<!-- This is important to note because the `lm` function automatically removes any observation with `NA` values for any of the variables specified in the `formula` argument. In order to replicate our results, we must remove the same observations. -->"
      ],
      "id": "e57ab9d3-9898-4d62-a562-42b57d594aed"
    },
    {
      "cell_type": "raw",
      "metadata": {
        "raw_mimetype": "text/html"
      },
      "source": [
        "<!-- We want to remove the rows of `penguins` where either `body_mass_g` or `bill_length_mm` have `NA` values. We do that below using the `na.omit` function (selecting only the relevant variables) and assign the cleaned -->"
      ],
      "id": "951e6134-cfd1-443f-88c6-bd3a2cacfae2"
    },
    {
      "cell_type": "raw",
      "metadata": {
        "raw_mimetype": "text/html"
      },
      "source": [
        "<!-- object the name `penguins_clean`. -->"
      ],
      "id": "68eaf2ae-d632-4840-b144-1ed530caf6de"
    },
    {
      "cell_type": "raw",
      "metadata": {
        "raw_mimetype": "text/html"
      },
      "source": [
        "<!-- ```{r} -->"
      ],
      "id": "f8bd42c7-df4e-4d96-bb00-e4b40ebd84e2"
    },
    {
      "cell_type": "raw",
      "metadata": {
        "raw_mimetype": "text/html"
      },
      "source": [
        "<!-- # remove rows of penguins where bill_length_mm or body_mass_g have NA values -->"
      ],
      "id": "43cffeae-ac6d-464f-b5d0-374aa40c167a"
    },
    {
      "cell_type": "raw",
      "metadata": {
        "raw_mimetype": "text/html"
      },
      "source": [
        "<!-- penguins_clean <- -->"
      ],
      "id": "1a94ebd8-0572-4449-825f-6b9a8683b7a9"
    },
    {
      "cell_type": "raw",
      "metadata": {
        "raw_mimetype": "text/html"
      },
      "source": [
        "<!--   penguins |> -->"
      ],
      "id": "049373a7-5c5f-48af-a8b9-7fdf1edd1315"
    },
    {
      "cell_type": "raw",
      "metadata": {
        "raw_mimetype": "text/html"
      },
      "source": [
        "<!--   subset(select = c(\"bill_length_mm\", \"body_mass_g\")) |> -->"
      ],
      "id": "19a05b98-84ab-4232-819a-2b727f8352d0"
    },
    {
      "cell_type": "raw",
      "metadata": {
        "raw_mimetype": "text/html"
      },
      "source": [
        "<!--   na.omit() -->"
      ],
      "id": "b80351a1-f187-4375-a14d-292f7d34706f"
    },
    {
      "cell_type": "raw",
      "metadata": {
        "raw_mimetype": "text/html"
      },
      "source": [
        "<!-- ``` -->"
      ],
      "id": "e7fa834c-d7bb-4cfa-84cc-5d4d2e63df6c"
    },
    {
      "cell_type": "raw",
      "metadata": {
        "raw_mimetype": "text/html"
      },
      "source": [
        "<!-- We extract the `bill_length_mm` variable from the `penguins` data frame and assign it the name `y` since it will be the response variable. We extract the `body_mass_g` variable from the `penguins` data frame and -->"
      ],
      "id": "c5acf17e-96b8-48d6-8adb-78c0b37957dd"
    },
    {
      "cell_type": "raw",
      "metadata": {
        "raw_mimetype": "text/html"
      },
      "source": [
        "<!-- assign it the name `x` since it will be the regressor variable. We also determine the number of observations and assign that value the name `n`. -->"
      ],
      "id": "b2c87b66-38b2-4799-809c-81865a834a6d"
    },
    {
      "cell_type": "raw",
      "metadata": {
        "raw_mimetype": "text/html"
      },
      "source": [
        "<!-- ```{r} -->"
      ],
      "id": "b18758e2-23c0-4519-81e2-4a2ac958d76b"
    },
    {
      "cell_type": "raw",
      "metadata": {
        "raw_mimetype": "text/html"
      },
      "source": [
        "<!-- # extract response and regressor from penguins_clean -->"
      ],
      "id": "4878b16f-ffbe-48a2-8114-f72b5b71ece9"
    },
    {
      "cell_type": "raw",
      "metadata": {
        "raw_mimetype": "text/html"
      },
      "source": [
        "<!-- y <- penguins_clean$bill_length_mm -->"
      ],
      "id": "dc6f1aea-2542-4239-91f7-7d939a94f2f7"
    },
    {
      "cell_type": "raw",
      "metadata": {
        "raw_mimetype": "text/html"
      },
      "source": [
        "<!-- x <- penguins_clean$body_mass_g -->"
      ],
      "id": "193aedce-aa3a-49fb-b441-20cc78da3852"
    },
    {
      "cell_type": "raw",
      "metadata": {
        "raw_mimetype": "text/html"
      },
      "source": [
        "<!-- # determine number of observations -->"
      ],
      "id": "bfeb3858-e972-4ef5-b8bd-448232c999bc"
    },
    {
      "cell_type": "raw",
      "metadata": {
        "raw_mimetype": "text/html"
      },
      "source": [
        "<!-- n <- length(y) -->"
      ],
      "id": "8f28b0ae-3626-4cf9-ad79-af81ccec8cbf"
    },
    {
      "cell_type": "raw",
      "metadata": {
        "raw_mimetype": "text/html"
      },
      "source": [
        "<!-- ``` -->"
      ],
      "id": "1fccc124-687e-4e3b-ad88-527500ec697d"
    },
    {
      "cell_type": "raw",
      "metadata": {
        "raw_mimetype": "text/html"
      },
      "source": [
        "<!-- We now compute $\\hat{\\beta}_1$ and $\\hat{\\beta}_0$ using Equations \\@ref(eq:slr-beta1hat) and \\@ref(eq:slr-beta0hat). Note that placing `()` around the assignment operations will both perform the assignment and print the results. -->"
      ],
      "id": "3948cc9b-68d7-4db0-bda5-cb6da32b24ae"
    },
    {
      "cell_type": "raw",
      "metadata": {
        "raw_mimetype": "text/html"
      },
      "source": [
        "<!-- ```{r} -->"
      ],
      "id": "733afd2a-3950-4f3c-b589-31ae8897b561"
    },
    {
      "cell_type": "raw",
      "metadata": {
        "raw_mimetype": "text/html"
      },
      "source": [
        "<!-- # compute OLS estimate of beta1 -->"
      ],
      "id": "d1735038-babc-4927-a0de-b9982eaed43f"
    },
    {
      "cell_type": "raw",
      "metadata": {
        "raw_mimetype": "text/html"
      },
      "source": [
        "<!-- (b1 <- (sum(x * y) - sum(x) * sum(y) / n)/(sum(x^2) - sum(x)^2/n)) -->"
      ],
      "id": "52a2dd57-cc7f-4298-b481-2bf365cda2a0"
    },
    {
      "cell_type": "raw",
      "metadata": {
        "raw_mimetype": "text/html"
      },
      "source": [
        "<!-- # compute OLS estimate of beta0 -->"
      ],
      "id": "3b899c6b-0254-4e79-831f-c7135ede487b"
    },
    {
      "cell_type": "raw",
      "metadata": {
        "raw_mimetype": "text/html"
      },
      "source": [
        "<!-- (b0 <- mean(y) - b1 * mean(x)) -->"
      ],
      "id": "d3f6e132-e738-4523-b41d-54061f6d5142"
    },
    {
      "cell_type": "raw",
      "metadata": {
        "raw_mimetype": "text/html"
      },
      "source": [
        "<!-- ``` -->"
      ],
      "id": "862534e2-497e-40c0-b4a6-7f5517bfed24"
    },
    {
      "cell_type": "raw",
      "metadata": {
        "raw_mimetype": "text/html"
      },
      "source": [
        "<!-- The estimated value of $\\beta_0$ is $\\hat{\\beta}_0=26.90$ and the estimated value of $\\beta_1$ is $\\hat{\\beta}_1=0.004$. -->"
      ],
      "id": "549fe951-b0b5-4b8e-9183-21d8cc871a17"
    },
    {
      "cell_type": "raw",
      "metadata": {
        "raw_mimetype": "text/html"
      },
      "source": [
        "<!-- We can also compute the residuals, the fitted values, the RSS, and the estimated error variance. Using the code below, the RSS for our model is 6564.49 and the estimated error variance if $\\hat{\\sigma}^2=19.31$. -->"
      ],
      "id": "1f034ba1-33dc-417f-a58a-c031b3b6d1a5"
    },
    {
      "cell_type": "raw",
      "metadata": {
        "raw_mimetype": "text/html"
      },
      "source": [
        "<!-- ```{r} -->"
      ],
      "id": "c7b3e211-3077-4bb4-b77e-37795d47e9af"
    },
    {
      "cell_type": "raw",
      "metadata": {
        "raw_mimetype": "text/html"
      },
      "source": [
        "<!-- yhat <- b0 + b1 * x # compute fitted values -->"
      ],
      "id": "4575e73f-0a58-4b45-92f4-43ce3b906b69"
    },
    {
      "cell_type": "raw",
      "metadata": {
        "raw_mimetype": "text/html"
      },
      "source": [
        "<!-- ehat <- y - yhat # compute residuals -->"
      ],
      "id": "e0202e37-6eb6-453c-b352-501a64b993b1"
    },
    {
      "cell_type": "raw",
      "metadata": {
        "raw_mimetype": "text/html"
      },
      "source": [
        "<!-- (rss <- sum(ehat^2)) # sum of the squared residuals -->"
      ],
      "id": "7c3a71ec-eef0-4d64-b5f2-164e7c229c2e"
    },
    {
      "cell_type": "raw",
      "metadata": {
        "raw_mimetype": "text/html"
      },
      "source": [
        "<!-- (sigmasqhat <- rss/(n-2)) # estimated error variance -->"
      ],
      "id": "fcba52c6-6fac-401e-93d7-1490d918cd80"
    },
    {
      "cell_type": "raw",
      "metadata": {
        "raw_mimetype": "text/html"
      },
      "source": [
        "<!-- ``` -->"
      ],
      "id": "5d02688e-22db-4bc4-b0e8-1ca8ef11a52b"
    },
    {
      "cell_type": "raw",
      "metadata": {
        "raw_mimetype": "text/html"
      },
      "source": [
        "<!-- ## Derivation of the OLS estimator for the multiple linear regression model coefficients {#mlr-derivation} -->"
      ],
      "id": "2ddee658-3ef4-452f-a219-427c1fea5a00"
    },
    {
      "cell_type": "raw",
      "metadata": {
        "raw_mimetype": "text/html"
      },
      "source": [
        "<!-- We want to determine the value of $\\hat{\\boldsymbol{\\beta}}$ that will minimize -->"
      ],
      "id": "b8112f90-ebf3-4ebb-9a54-fa5bc0710da6"
    },
    {
      "cell_type": "raw",
      "metadata": {
        "raw_mimetype": "text/html"
      },
      "source": [
        "<!-- \\[ -->"
      ],
      "id": "3374effe-607a-4602-8dfa-8c4543d80148"
    },
    {
      "cell_type": "raw",
      "metadata": {
        "raw_mimetype": "text/html"
      },
      "source": [
        "<!-- \\begin{aligned} -->"
      ],
      "id": "28533aa2-874a-4461-960c-f400008ab013"
    },
    {
      "cell_type": "raw",
      "metadata": {
        "raw_mimetype": "text/html"
      },
      "source": [
        "<!-- RSS(\\hat{\\boldsymbol{\\beta}}) &=\\sum_{i=1}^n \\hat{\\epsilon_i}^2 \\\\ -->"
      ],
      "id": "5823e93c-57bb-4bfb-a4f0-488b9ef439ec"
    },
    {
      "cell_type": "raw",
      "metadata": {
        "raw_mimetype": "text/html"
      },
      "source": [
        "<!-- &= \\hat{\\boldsymbol{\\epsilon}}^T\\hat{\\boldsymbol{\\epsilon}} \\\\ -->"
      ],
      "id": "ff9d4b00-f348-4e17-b251-738618a97426"
    },
    {
      "cell_type": "raw",
      "metadata": {
        "raw_mimetype": "text/html"
      },
      "source": [
        "<!-- &= (\\mathbf{y} - \\mathbf{X}\\hat{\\boldsymbol{\\beta}})^T(\\mathbf{y} - \\mathbf{X}\\hat{\\boldsymbol{\\beta}}) \\\\ -->"
      ],
      "id": "774162f4-0458-4dc0-bbd7-91b5ba46c197"
    },
    {
      "cell_type": "raw",
      "metadata": {
        "raw_mimetype": "text/html"
      },
      "source": [
        "<!-- &= \\mathbf{y}^T\\mathbf{y}-2\\hat{\\boldsymbol{\\beta}}^T\\mathbf{X}^T\\mathbf{y}+\\hat{\\boldsymbol{\\beta}}^T\\mathbf{X}^T\\mathbf{X}\\hat{\\boldsymbol{\\beta}}, -->"
      ],
      "id": "f2a4c0ca-0067-4c7f-a169-1e11284a9b6f"
    },
    {
      "cell_type": "raw",
      "metadata": {
        "raw_mimetype": "text/html"
      },
      "source": [
        "<!-- \\end{aligned} -->"
      ],
      "id": "fe3900bf-73e4-4500-917b-8b18fc9f96de"
    },
    {
      "cell_type": "raw",
      "metadata": {
        "raw_mimetype": "text/html"
      },
      "source": [
        "<!-- \\] -->"
      ],
      "id": "c9860b70-bf8a-4baf-b7ff-585ae76532f4"
    },
    {
      "cell_type": "raw",
      "metadata": {
        "raw_mimetype": "text/html"
      },
      "source": [
        "<!-- where the second term in the last line comes from the fact that $\\hat{\\boldsymbol{\\beta}}^T\\mathbf{X}^T\\mathbf{y}$ is a $1\\times 1$ matrix, and is thus symmetric. Consequently, $\\hat{\\boldsymbol{\\beta}}^T\\mathbf{X}^T\\mathbf{y}=(\\hat{\\boldsymbol{\\beta}}^T\\mathbf{X}^T\\mathbf{y})^T=\\mathbf{y}^T\\mathbf{X}\\hat{\\boldsymbol{\\beta}}$. -->"
      ],
      "id": "ef2a8b48-5d3d-4fde-a9b1-37ff336293f1"
    },
    {
      "cell_type": "raw",
      "metadata": {
        "raw_mimetype": "text/html"
      },
      "source": [
        "<!-- To find the local extrema of $RSS(\\hat{\\boldsymbol{\\beta}})$, we set its derivative with respect to $\\hat{\\boldsymbol{\\beta}}$ equal to 0, and solve for $\\hat{\\boldsymbol{\\beta}})$. -->"
      ],
      "id": "b0e19b82-8d00-49fc-a680-84a759742d72"
    },
    {
      "cell_type": "raw",
      "metadata": {
        "raw_mimetype": "text/html"
      },
      "source": [
        "<!-- Using the results in Appendix \\@ref(matrix-derivatives), -->"
      ],
      "id": "03986270-f72c-4132-90d5-f5784fe7972d"
    },
    {
      "cell_type": "raw",
      "metadata": {
        "raw_mimetype": "text/html"
      },
      "source": [
        "<!-- we see that -->"
      ],
      "id": "56c20e9b-39cb-46b2-83a6-b5eb35e4c7d9"
    },
    {
      "cell_type": "raw",
      "metadata": {
        "raw_mimetype": "text/html"
      },
      "source": [
        "<!-- \\[ -->"
      ],
      "id": "ca93bebb-bd1f-4d80-bb0d-8a3ca322bc83"
    },
    {
      "cell_type": "raw",
      "metadata": {
        "raw_mimetype": "text/html"
      },
      "source": [
        "<!-- \\frac{\\partial RSS(\\hat{\\boldsymbol{\\beta}})}{\\partial\\hat{\\boldsymbol{\\beta}}} = -2\\mathbf{X}^T\\mathbf{y} + 2\\mathbf{X}^T\\mathbf{X}\\hat{\\boldsymbol{\\beta}}. -->"
      ],
      "id": "c94226f6-e625-4a09-9292-c2637208d4cc"
    },
    {
      "cell_type": "raw",
      "metadata": {
        "raw_mimetype": "text/html"
      },
      "source": [
        "<!-- \\] -->"
      ],
      "id": "bd1b764d-09e9-49c0-b501-99c4544317d8"
    },
    {
      "cell_type": "raw",
      "metadata": {
        "raw_mimetype": "text/html"
      },
      "source": [
        "<!-- Setting $\\partial RSS(\\hat{\\boldsymbol{\\beta}})/\\partial\\hat{\\boldsymbol{\\beta}}=0$ and using some simple algebra, we derive the **normal equations** -->"
      ],
      "id": "187043cb-45c5-4947-9854-dfb1fbe0b5e3"
    },
    {
      "cell_type": "raw",
      "metadata": {
        "raw_mimetype": "text/html"
      },
      "source": [
        "<!-- \\[\\mathbf{X}^T\\mathbf{X}\\hat{\\boldsymbol{\\beta}}=\\mathbf{X}^T\\mathbf{y}.\\] -->"
      ],
      "id": "40ac95d2-3cbc-4830-b6c9-d4ad8343173c"
    },
    {
      "cell_type": "raw",
      "metadata": {
        "raw_mimetype": "text/html"
      },
      "source": [
        "<!-- Assuming the $\\mathbf{X}^T\\mathbf{X}$ is invertible, which it will be when $\\mathbf{X}$ is full-rank, our solution is -->"
      ],
      "id": "92a08448-8b2d-4fec-923e-5a4f3ecdfae9"
    },
    {
      "cell_type": "raw",
      "metadata": {
        "raw_mimetype": "text/html"
      },
      "source": [
        "<!-- \\[\\hat{\\boldsymbol{\\beta}}=(\\mathbf{X}^T\\mathbf{X})^{-1}\\mathbf{X}^T\\mathbf{y}.\\] -->"
      ],
      "id": "83870f56-4aef-4a3f-89fe-49a211dbbf4f"
    },
    {
      "cell_type": "raw",
      "metadata": {
        "raw_mimetype": "text/html"
      },
      "source": [
        "<!-- To show that the OLS estimator of $\\boldsymbol{\\beta}$ minimizes $RSS(\\hat{\\boldsymbol{\\beta}})$, we technically need to show that the Hessian matrix of $RSS(\\hat{\\boldsymbol{\\beta}})$, the matrix of second-order partial derivatives, is positive definite. In our context, the Hessian matrix is -->"
      ],
      "id": "a8140385-4dd3-49ab-92d1-78a790fbcc10"
    },
    {
      "cell_type": "raw",
      "metadata": {
        "raw_mimetype": "text/html"
      },
      "source": [
        "<!-- \\[ -->"
      ],
      "id": "23001099-b26f-4707-a4ff-95b506d1c3f7"
    },
    {
      "cell_type": "raw",
      "metadata": {
        "raw_mimetype": "text/html"
      },
      "source": [
        "<!-- \\begin{aligned} -->"
      ],
      "id": "86b45673-986c-4604-96ce-af01dc1e5f82"
    },
    {
      "cell_type": "raw",
      "metadata": {
        "raw_mimetype": "text/html"
      },
      "source": [
        "<!-- \\frac{\\partial^2 RSS(\\hat{\\boldsymbol{\\beta}})}{\\partial \\hat{\\boldsymbol{\\beta}}^2} &= \\frac{\\partial}{\\partial \\hat{\\boldsymbol{\\beta}}}(-2\\mathbf{X}^T\\mathbf{y} + 2\\mathbf{X}^T\\mathbf{X}\\hat{\\boldsymbol{\\beta}}) \\\\ -->"
      ],
      "id": "324a2b99-32e5-4804-98af-562afe77f012"
    },
    {
      "cell_type": "raw",
      "metadata": {
        "raw_mimetype": "text/html"
      },
      "source": [
        "<!-- &= 2\\mathbf{X}^T\\mathbf{X}. -->"
      ],
      "id": "9e2e8fb7-e303-47e8-8c01-d669aafcfdba"
    },
    {
      "cell_type": "raw",
      "metadata": {
        "raw_mimetype": "text/html"
      },
      "source": [
        "<!-- \\end{aligned} -->"
      ],
      "id": "e4dd7705-ec25-4b73-9081-e9ccedbd743c"
    },
    {
      "cell_type": "raw",
      "metadata": {
        "raw_mimetype": "text/html"
      },
      "source": [
        "<!-- \\] -->"
      ],
      "id": "408c1159-87d5-4176-bb14-ade987f1c2cb"
    },
    {
      "cell_type": "raw",
      "metadata": {
        "raw_mimetype": "text/html"
      },
      "source": [
        "<!-- The $p\\times p$ matrix $2\\mathbf{X}^T\\mathbf{X}$ is positive definite, but it is beyond the scope of the course to prove this. -->"
      ],
      "id": "1e5c9bbf-1f04-4b9e-a734-b86e86576551"
    },
    {
      "cell_type": "raw",
      "metadata": {
        "raw_mimetype": "text/html"
      },
      "source": [
        "<!-- Therefore, the OLS estimator of $\\boldsymbol{\\beta}$, -->"
      ],
      "id": "f9d789a4-adf9-4798-94c8-4d4459ce29f2"
    },
    {
      "cell_type": "raw",
      "metadata": {
        "raw_mimetype": "text/html"
      },
      "source": [
        "<!-- \\[\\hat{\\boldsymbol{\\beta}}=(\\mathbf{X}^T\\mathbf{X})^{-1}\\mathbf{X}^T\\mathbf{y}\\] -->"
      ],
      "id": "faf49ca0-5b0c-4931-a87c-b651f0b898b8"
    },
    {
      "cell_type": "raw",
      "metadata": {
        "raw_mimetype": "text/html"
      },
      "source": [
        "<!-- minimizes the RSS. -->"
      ],
      "id": "37fb8c8d-2f4f-4b1b-8d10-8da636ec5a73"
    },
    {
      "cell_type": "raw",
      "metadata": {
        "raw_mimetype": "text/html"
      },
      "source": [
        "<!-- ## Manual calculation of Penguins multiple linear regression example -->"
      ],
      "id": "b147a9e6-1491-4d26-afb0-888734e7d9ac"
    },
    {
      "cell_type": "raw",
      "metadata": {
        "raw_mimetype": "text/html"
      },
      "source": [
        "<!-- We manually verify the calculations for the `penguins` example given in Section \\@ref{s:penguins-mlr}, where we fit the multiple linear regression model regressing `bill_length_mm` on `body_mass_g` and `flipper_length_mm`. We refit the model below, specifying the argument `y = TRUE` so we can get the response vector used in the model. -->"
      ],
      "id": "03a1a4f6-1bc3-4ec7-92b6-cda3b2c41efb"
    },
    {
      "cell_type": "raw",
      "metadata": {
        "raw_mimetype": "text/html"
      },
      "source": [
        "<!-- ```{r} -->"
      ],
      "id": "defa3d54-67fc-4d1d-9c6c-896fdcd6888e"
    },
    {
      "cell_type": "raw",
      "metadata": {
        "raw_mimetype": "text/html"
      },
      "source": [
        "<!-- # fit regression model, retaining the y vector -->"
      ],
      "id": "617e662e-23e4-4210-b69b-5e17c5a41f8a"
    },
    {
      "cell_type": "raw",
      "metadata": {
        "raw_mimetype": "text/html"
      },
      "source": [
        "<!-- mlmod <- lm(bill_length_mm ~ body_mass_g + flipper_length_mm, -->"
      ],
      "id": "135f518b-9dda-49cb-9526-878bfd802ff4"
    },
    {
      "cell_type": "raw",
      "metadata": {
        "raw_mimetype": "text/html"
      },
      "source": [
        "<!--             data = penguins, y = TRUE) -->"
      ],
      "id": "d3afa687-ad9b-4197-bf88-21f3e7590f88"
    },
    {
      "cell_type": "raw",
      "metadata": {
        "raw_mimetype": "text/html"
      },
      "source": [
        "<!-- ``` -->"
      ],
      "id": "bb179526-2eb6-4cbc-961f-fadab721b0f9"
    },
    {
      "cell_type": "raw",
      "metadata": {
        "raw_mimetype": "text/html"
      },
      "source": [
        "<!-- We can use `model.matrix` to extract the $\\mathbf{X}$ matrix from our fitted model. And because we specified `y = TRUE` in our call to `lm`, we can also extract `y` from the fitted model using the code below. -->"
      ],
      "id": "079dde39-989c-4c7e-9ad9-625ebc1aa00d"
    },
    {
      "cell_type": "raw",
      "metadata": {
        "raw_mimetype": "text/html"
      },
      "source": [
        "<!-- ```{r} -->"
      ],
      "id": "7ba8774f-c185-477c-b2b4-7cbadab03609"
    },
    {
      "cell_type": "raw",
      "metadata": {
        "raw_mimetype": "text/html"
      },
      "source": [
        "<!-- # extract X matrix from fitted model -->"
      ],
      "id": "f2ff06e8-0086-45b9-9e59-990ee497cdd2"
    },
    {
      "cell_type": "raw",
      "metadata": {
        "raw_mimetype": "text/html"
      },
      "source": [
        "<!-- X <- model.matrix(mlmod) -->"
      ],
      "id": "7e95c43a-3003-4a3e-9693-8b93838dd2fb"
    },
    {
      "cell_type": "raw",
      "metadata": {
        "raw_mimetype": "text/html"
      },
      "source": [
        "<!-- # extract y vector from fitted model -->"
      ],
      "id": "8a9d32d2-fd0f-4b53-998e-90cb3458dee8"
    },
    {
      "cell_type": "raw",
      "metadata": {
        "raw_mimetype": "text/html"
      },
      "source": [
        "<!-- y <- mlmod$y -->"
      ],
      "id": "d67632dc-7b34-4131-ba6d-11d5d89202bb"
    },
    {
      "cell_type": "raw",
      "metadata": {
        "raw_mimetype": "text/html"
      },
      "source": [
        "<!-- ``` -->"
      ],
      "id": "4a9509bc-b7e9-4723-8a37-06c4e1397e83"
    },
    {
      "cell_type": "raw",
      "metadata": {
        "raw_mimetype": "text/html"
      },
      "source": [
        "<!-- We’ll need to learn a few new commands in R to do the calculations: -->"
      ],
      "id": "f981ac5d-c94d-4cc6-9bec-e8fc28e09743"
    },
    {
      "cell_type": "raw",
      "metadata": {
        "raw_mimetype": "text/html"
      },
      "source": [
        "<!-- - `t` is the transpose of a matrix. -->"
      ],
      "id": "85f6c9a7-5f9c-4933-ae3d-91f28ca1f5c7"
    },
    {
      "cell_type": "raw",
      "metadata": {
        "raw_mimetype": "text/html"
      },
      "source": [
        "<!-- - `%*%` is the multiplication operator for two matrices. -->"
      ],
      "id": "9705439e-82d2-4964-927d-bf9afb0187df"
    },
    {
      "cell_type": "raw",
      "metadata": {
        "raw_mimetype": "text/html"
      },
      "source": [
        "<!-- - `solve(A, b)` computes $\\mathbf{A}^{-1}\\mathbf{b}$. -->"
      ],
      "id": "f7836454-9714-48b7-954e-c281f7a07c1e"
    },
    {
      "cell_type": "raw",
      "metadata": {
        "raw_mimetype": "text/html"
      },
      "source": [
        "<!-- Thus, we compute $\\hat{\\boldsymbol{\\beta}}$ using the code below, which matches the estimate from the `lm` function. -->"
      ],
      "id": "418976f6-f85e-4155-b061-1261c412c696"
    },
    {
      "cell_type": "raw",
      "metadata": {
        "raw_mimetype": "text/html"
      },
      "source": [
        "<!-- ```{r} -->"
      ],
      "id": "c1a9d0bd-8543-4ecc-8e24-22a1ee70cf67"
    },
    {
      "cell_type": "raw",
      "metadata": {
        "raw_mimetype": "text/html"
      },
      "source": [
        "<!-- # manually calculate betahat -->"
      ],
      "id": "4c6df8b2-81f1-4d5d-92a7-81e5dc8bba1b"
    },
    {
      "cell_type": "raw",
      "metadata": {
        "raw_mimetype": "text/html"
      },
      "source": [
        "<!-- solve(t(X) %*% X, t(X) %*% y) -->"
      ],
      "id": "c907878d-b1e5-485f-aed5-e838c6c53239"
    },
    {
      "cell_type": "raw",
      "metadata": {
        "raw_mimetype": "text/html"
      },
      "source": [
        "<!-- # betahat from lm function -->"
      ],
      "id": "f9e1d934-36a0-4507-bfcb-25f86e179f0c"
    },
    {
      "cell_type": "raw",
      "metadata": {
        "raw_mimetype": "text/html"
      },
      "source": [
        "<!-- coef(mlmod) -->"
      ],
      "id": "8d09dcfa-0ce7-4489-9d21-a911d6699121"
    },
    {
      "cell_type": "raw",
      "metadata": {
        "raw_mimetype": "text/html"
      },
      "source": [
        "<!-- ``` -->"
      ],
      "id": "eec893db-69d9-4752-9f6b-660d1e0822a7"
    },
    {
      "cell_type": "markdown",
      "metadata": {},
      "source": [
        "# References\n",
        "\n",
        "Anscombe, Francis J. 1973. “Graphs in Statistical Analysis.” The\n",
        "American Statistician 27 (1): 17–21.\n",
        "\n",
        "Ezekiel, Mordecai. 1930. “Methods of Correlation Analysis.”\n",
        "\n",
        "Gorman, Kristen B., Tony D. Williams, and William R. Fraser. 2014.\n",
        "“Ecological Sexual Dimorphism and Environmental Variability Within a\n",
        "Community of Antarctic Penguins (Genus Pygoscelis).” PLOS ONE 9 (3):\n",
        "1–14. https://doi.org/10.1371/journal.pone.0090081.\n",
        "\n",
        "Weisberg, Sanford. 2014. Applied Linear Regression. Fourth. Hoboken NJ:\n",
        "Wiley. http://z.umn.edu/alr4ed.\n",
        "\n",
        "Wilkinson, GN, and CE Rogers. 1973. “Symbolic Description of Factorial\n",
        "Models for Analysis of Variance.” Journal of the Royal Statistical\n",
        "Society: Series C (Applied Statistics) 22 (3): 392–99."
      ],
      "id": "df77144f-c534-4607-98b9-70580cc006d1"
    }
  ],
  "nbformat": 4,
  "nbformat_minor": 5,
  "metadata": {
    "kernelspec": {
      "display_name": "Python 3",
      "language": "python",
      "name": "python3"
    }
  }
}