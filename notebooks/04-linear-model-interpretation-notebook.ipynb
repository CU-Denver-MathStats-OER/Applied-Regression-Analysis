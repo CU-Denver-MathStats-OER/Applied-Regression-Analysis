{
  "cells": [
    {
      "cell_type": "markdown",
      "metadata": {},
      "source": [
        "# Chapter 4 - Linear Model Interpretation\n",
        "\n",
        "Joshua French\n",
        "\n",
        "To open this information in an interactive Colab notebook, click the Open in Colab graphic below.\n",
        "\n",
        "<a href=\"https://colab.research.google.com/github/jfrench/LinearRegression/blob/master/notebooks/04-linear-model-interpretation-notebook.ipynb\"> <img src=\"https://colab.research.google.com/assets/colab-badge.svg\"> </a>\n",
        "\n",
        "------------------------------------------------------------------------"
      ],
      "id": "642d7c1f-96a1-4756-aab8-59f0fbf93a2e"
    },
    {
      "cell_type": "code",
      "execution_count": 1,
      "metadata": {},
      "outputs": [],
      "source": [
        "if(!require(palmerpenguins, quietly = TRUE)) {\n",
        "  install.packages(\"palmerpenguins\", repos = \"https://cran.rstudio.com/\")\n",
        "  library(palmerpenguins)\n",
        "}"
      ],
      "id": "04357713-5af5-4066-a1cd-ab5899723ad9"
    },
    {
      "cell_type": "code",
      "execution_count": 2,
      "metadata": {},
      "outputs": [],
      "source": [
        "if(!require(car, quietly = TRUE)) {\n",
        "  install.packages(\"car\", repos = \"https://cran.rstudio.com/\")\n",
        "  library(car)\n",
        "}"
      ],
      "id": "bd8f7fff-f2c3-4357-b56b-88c2727662dd"
    },
    {
      "cell_type": "code",
      "execution_count": 3,
      "metadata": {},
      "outputs": [],
      "source": [
        "if(!require(effects, quietly = TRUE)) {\n",
        "  install.packages(\"effects\", repos = \"https://cran.rstudio.com/\")\n",
        "  library(effects)\n",
        "}"
      ],
      "id": "20d341d9-ca3c-4112-a81a-9df3c2b4ec5e"
    },
    {
      "cell_type": "markdown",
      "metadata": {},
      "source": [
        "# Interpretation of coefficients\n",
        "\n",
        "The standard approach to interpreting the coefficients of a fitted linear model is to consider the expected change in the response in relation to changes in the regressors in the model.\n",
        "\n",
        "Consider the typical multiple linear regression model of the response\n",
        "\n",
        "$$\n",
        "Y=\\beta_0+\\beta_1 X_1 +\\ldots + \\beta_{p-1}X_{p-1}+\\epsilon.\n",
        "$$\n",
        "\n",
        "-   We treat the values of our regressor variables as being fixed, known values\n",
        "-   The error term is treated as a random variable\n",
        "-   Consequently, the response variable is also a random variable.\n",
        "\n",
        "**Random Error Assumption**\n",
        "\n",
        "------------------------------------------------------------------------\n",
        "\n",
        "We assume that the errors all have mean 0, conditional on the values of the regressor variables.\n",
        "\n",
        "$$\n",
        "E(\\epsilon \\mid X_1, X_2, \\ldots, X_{p-1})=0.\n",
        "$$ Or, using alternative notation:\n",
        "\n",
        "$$\n",
        "E(\\epsilon \\mid \\mathbb{X})=0.\n",
        "$$\n",
        "\n",
        "**Expected Value of Response**\n",
        "\n",
        "------------------------------------------------------------------------\n",
        "\n",
        "Using the assumption of mean zero errors, we have:\n",
        "\n",
        "</br> </br> </br> </br> </br> </br> </br>\n",
        "\n",
        "Note: All the coefficient $\\beta_i$ terms are fixed, non-random.\n",
        "\n",
        "**Interpretation for simple linear regression**\n",
        "\n",
        "------------------------------------------------------------------------\n",
        "\n",
        "Suppose we have a simple linear regression model, so that $$\n",
        "E(Y\\mid X)=\\beta_0 + \\beta_1 X.\n",
        "$$ The interpretations of the coefficients are:\n",
        "\n",
        "-   $\\beta_0$ is the expected response when the regressor is 0, i.e., $\\beta_0=E(Y\\mid X=0)$.\n",
        "-   $\\beta_1$ is the expected change in the response when the regressor increases 1 unit, i.e., $\\beta_1=E(Y\\mid X=x^*+1)-E(Y\\mid X=x^*)$, where $x^*$ is a fixed, real number.\n",
        "\n",
        "**Interpretation of Intercept**\n",
        "\n",
        "------------------------------------------------------------------------\n",
        "\n",
        "The intercept term $\\beta_0$ is the expected value of the response when $X= 0$.\n",
        "\n",
        "</br> </br> </br>\n",
        "\n",
        "**Interpretation of Slope**\n",
        "\n",
        "------------------------------------------------------------------------\n",
        "\n",
        "Similarly, for $\\beta_1$, we notice that\n",
        "\n",
        "</br> </br> </br> </br> </br> </br> </br>\n",
        "\n",
        "Thus, $\\beta_1$ literally equals the change in the expected response when the regressor increases by 1 unit.\n",
        "\n",
        "It may not make sense to say “we increase $X$ by 1 unit” or “when $X$ increases by 1 unit”. For example??\n",
        "\n",
        "To illustrate the interpretations given above, we interpret the simple linear regression model fit to the `penguins` data. The fitted simple linear regression model of `body_mass_g` regressed on `body_mass_g` is $$\n",
        "\\hat{E}(\\mathtt{bill\\_length\\_mm}\\mid \\mathtt{body\\_mass\\_g})=26.9+0.004 \\,\\mathtt{body\\_mass\\_g}.\n",
        "$$\n",
        "\n",
        "Some basic interpretations of the coefficients are:\n",
        "\n",
        "</br> </br> </br> </br> </br> </br> </br>"
      ],
      "id": "f696bc52-fc50-482e-a30c-c24587730d7e"
    },
    {
      "cell_type": "raw",
      "metadata": {
        "raw_mimetype": "text/html"
      },
      "source": [
        "<!-- **Rescaling Predictors to aid Interpretation** -->"
      ],
      "id": "23aea2bb-ec7e-4c29-a808-902135d442ed"
    },
    {
      "cell_type": "raw",
      "metadata": {
        "raw_mimetype": "text/html"
      },
      "source": [
        "<!-- --- -->"
      ],
      "id": "786234d1-3bd1-429e-a009-af8bafa70645"
    },
    {
      "cell_type": "raw",
      "metadata": {
        "raw_mimetype": "text/html"
      },
      "source": [
        "<!-- * A weight difference of 1 gram is negligible in the context of penguin weights. -->"
      ],
      "id": "7f9a57f8-acaa-44a0-82dc-382df54f3522"
    },
    {
      "cell_type": "raw",
      "metadata": {
        "raw_mimetype": "text/html"
      },
      "source": [
        "<!-- * A bill length change of 0.004 mm is unlikely to be noticed. -->"
      ],
      "id": "dc0cdc7b-ee5e-4ae3-8ca2-91d061a835f1"
    },
    {
      "cell_type": "raw",
      "metadata": {
        "raw_mimetype": "text/html"
      },
      "source": [
        "<!-- In the code below, we divide the `body_mass_g` variable by 1000 to convert the variable from grams to kilograms.  -->"
      ],
      "id": "a0188b31-1cdf-4ff2-867d-ef05545d6f39"
    },
    {
      "cell_type": "raw",
      "metadata": {
        "raw_mimetype": "text/html"
      },
      "source": [
        "<!-- We then fit the model regressing `bill_length_mm` on `body_mass_kg` and extract the -->"
      ],
      "id": "6badadd2-b10a-4e29-bf9a-785f757b86ad"
    },
    {
      "cell_type": "raw",
      "metadata": {
        "raw_mimetype": "text/html"
      },
      "source": [
        "<!-- estimated coefficients. -->"
      ],
      "id": "ec7a6932-a631-4ac2-bca1-187667bbff37"
    },
    {
      "cell_type": "raw",
      "metadata": {
        "raw_mimetype": "text/html"
      },
      "source": [
        "<!-- ```{r} -->"
      ],
      "id": "493deade-6391-4fcb-aef4-e37ad2b025f7"
    },
    {
      "cell_type": "raw",
      "metadata": {
        "raw_mimetype": "text/html"
      },
      "source": [
        "<!-- # load penguins data -->"
      ],
      "id": "10686b01-aa40-4703-a2cc-a15c7b620193"
    },
    {
      "cell_type": "raw",
      "metadata": {
        "raw_mimetype": "text/html"
      },
      "source": [
        "<!-- data(penguins, package = \"palmerpenguins\") -->"
      ],
      "id": "c4526d28-c2e9-4cfe-8a38-2ecdedd12dbd"
    },
    {
      "cell_type": "raw",
      "metadata": {
        "raw_mimetype": "text/html"
      },
      "source": [
        "<!-- # transform body mass variable from g to kg -->"
      ],
      "id": "eda921d1-5223-4c6f-980f-63e156f3743f"
    },
    {
      "cell_type": "raw",
      "metadata": {
        "raw_mimetype": "text/html"
      },
      "source": [
        "<!-- penguins <- penguins |> transform(body_mass_kg = body_mass_g/1000) -->"
      ],
      "id": "523d6c21-74bb-420e-abe9-20314d9182c9"
    },
    {
      "cell_type": "raw",
      "metadata": {
        "raw_mimetype": "text/html"
      },
      "source": [
        "<!-- # fit model with body_mass_kg -->"
      ],
      "id": "e034b237-1549-41bb-a577-04a544072c0b"
    },
    {
      "cell_type": "raw",
      "metadata": {
        "raw_mimetype": "text/html"
      },
      "source": [
        "<!-- slmod_scaled <- lm(bill_length_mm ~ body_mass_kg, data = penguins) -->"
      ],
      "id": "71a400d7-5519-4da4-9ae9-03d6ce2850d8"
    },
    {
      "cell_type": "raw",
      "metadata": {
        "raw_mimetype": "text/html"
      },
      "source": [
        "<!-- # extract coefficients -->"
      ],
      "id": "7bdc28c8-e37a-427c-8ebd-5f40d9a9f385"
    },
    {
      "cell_type": "raw",
      "metadata": {
        "raw_mimetype": "text/html"
      },
      "source": [
        "<!-- coefficients(slmod_scaled) -->"
      ],
      "id": "a2fb669b-a86f-4a02-8f48-ab3cb55aa9bd"
    },
    {
      "cell_type": "raw",
      "metadata": {
        "raw_mimetype": "text/html"
      },
      "source": [
        "<!-- ``` -->"
      ],
      "id": "ea44ebbb-0ff6-429b-ac83-af5738ae960f"
    },
    {
      "cell_type": "raw",
      "metadata": {
        "raw_mimetype": "text/html"
      },
      "source": [
        "<!-- **Question** -->"
      ],
      "id": "0e6bba47-e96e-457d-83d2-187ced4f9a4f"
    },
    {
      "cell_type": "raw",
      "metadata": {
        "raw_mimetype": "text/html"
      },
      "source": [
        "<!-- - How do we reinterpret the model in the context of kilograms? -->"
      ],
      "id": "fc8da560-9657-485d-b6c9-f499e0cb7cc7"
    },
    {
      "cell_type": "raw",
      "metadata": {
        "raw_mimetype": "text/html"
      },
      "source": [
        "<!-- Dividing `body_mass_g` by 1000 resulted in the estimated -->"
      ],
      "id": "a1c73d5c-2c53-4a00-bee7-10d574effe91"
    },
    {
      "cell_type": "raw",
      "metadata": {
        "raw_mimetype": "text/html"
      },
      "source": [
        "<!-- coefficient changing by a factor of 1000.  -->"
      ],
      "id": "61753581-9c37-4037-b51e-01957e9c7973"
    },
    {
      "cell_type": "raw",
      "metadata": {
        "raw_mimetype": "text/html"
      },
      "source": [
        "<!-- More generally, if -->"
      ],
      "id": "97211bbb-1c56-407f-8e9d-3ec0e7b9deb6"
    },
    {
      "cell_type": "raw",
      "metadata": {
        "raw_mimetype": "text/html"
      },
      "source": [
        "<!-- $\\hat{\\beta}_j$ is the estimated coefficient for $X_j$, then the -->"
      ],
      "id": "d91bf2e6-f785-4b73-a73e-06906adfa3cd"
    },
    {
      "cell_type": "raw",
      "metadata": {
        "raw_mimetype": "text/html"
      },
      "source": [
        "<!-- regressor $(X_j + a)/c$ will have an estimated coefficient of -->"
      ],
      "id": "08503dea-66d9-4165-b95f-b1c3bd671df7"
    },
    {
      "cell_type": "raw",
      "metadata": {
        "raw_mimetype": "text/html"
      },
      "source": [
        "<!-- $c\\hat{\\beta}_j$, where $a$ and $c$ are fixed, real numbers and assuming -->"
      ],
      "id": "15e57f07-bbb0-47d5-b1ad-6286375759e8"
    },
    {
      "cell_type": "raw",
      "metadata": {
        "raw_mimetype": "text/html"
      },
      "source": [
        "<!-- nothing else in the fitted model changes. -->"
      ],
      "id": "666cd352-e632-4739-943f-7711feabdd6b"
    },
    {
      "cell_type": "raw",
      "metadata": {
        "raw_mimetype": "text/html"
      },
      "source": [
        "<!-- **Interpretation for first-order multiple linear regression models** -->"
      ],
      "id": "70b8023d-16dd-40dc-b2a1-f45097f90622"
    },
    {
      "cell_type": "raw",
      "metadata": {
        "raw_mimetype": "text/html"
      },
      "source": [
        "<!-- --- -->"
      ],
      "id": "18bfba8e-fa62-4d9e-886b-58b90eaef8ec"
    },
    {
      "cell_type": "raw",
      "metadata": {
        "raw_mimetype": "text/html"
      },
      "source": [
        "<!-- Suppose we have a multiple linear regression model with $p-1$ *numeric* -->"
      ],
      "id": "d62b50ab-f2a4-4393-8291-93e0dbbd3604"
    },
    {
      "cell_type": "raw",
      "metadata": {
        "raw_mimetype": "text/html"
      },
      "source": [
        "<!-- regressors, so that  -->"
      ],
      "id": "fa2a789a-c8b2-4f7c-947c-1b6d069c140f"
    },
    {
      "cell_type": "raw",
      "metadata": {
        "raw_mimetype": "text/html"
      },
      "source": [
        "<!-- $$ -->"
      ],
      "id": "fab6225a-ddc6-4b9e-a486-7fbc622b2172"
    },
    {
      "cell_type": "raw",
      "metadata": {
        "raw_mimetype": "text/html"
      },
      "source": [
        "<!-- E(Y\\mid X_1,\\ldots,X_{p-1})=\\beta_0 + \\beta_1 X_1 + \\cdots + \\beta_{p-1} X_{p-1}. -->"
      ],
      "id": "842740c2-7c43-41ae-a11b-fedd6023e077"
    },
    {
      "cell_type": "raw",
      "metadata": {
        "raw_mimetype": "text/html"
      },
      "source": [
        "<!-- $$  -->"
      ],
      "id": "967abb93-070d-473a-81f1-05d246321cfc"
    },
    {
      "cell_type": "raw",
      "metadata": {
        "raw_mimetype": "text/html"
      },
      "source": [
        "<!-- Relying on the definition of $\\mathbb{X}$, we denote the set of -->"
      ],
      "id": "5928cc72-2b58-46aa-9743-142fa6cd21d2"
    },
    {
      "cell_type": "raw",
      "metadata": {
        "raw_mimetype": "text/html"
      },
      "source": [
        "<!-- regressors without $X_j$ as -->"
      ],
      "id": "b407f6ca-966a-43ee-84af-62c8a4c7f1d3"
    },
    {
      "cell_type": "raw",
      "metadata": {
        "raw_mimetype": "text/html"
      },
      "source": [
        "<!-- $\\mathbb{X}_{-j} = \\mathbb{X}\\setminus\\{X_j\\}$. -->"
      ],
      "id": "00355a83-efce-4f91-a4ef-c255c28110a1"
    },
    {
      "cell_type": "raw",
      "metadata": {
        "raw_mimetype": "text/html"
      },
      "source": [
        "<!-- The interpretations of the coefficients from the model in Equation are: -->"
      ],
      "id": "5c24c1b1-5afc-4553-b569-511f96508bc4"
    },
    {
      "cell_type": "raw",
      "metadata": {
        "raw_mimetype": "text/html"
      },
      "source": [
        "<!-- -   $\\beta_0$ is the expected response when all regressors are 0, i.e., -->"
      ],
      "id": "4f4d2eb8-775d-456d-9d72-d2566be30db7"
    },
    {
      "cell_type": "raw",
      "metadata": {
        "raw_mimetype": "text/html"
      },
      "source": [
        "<!--     $\\beta_0=E(Y\\mid X_1=0,\\ldots,X_{p-1}=0)$. -->"
      ],
      "id": "a0880f51-345e-40bd-a0cd-3e200fd038e5"
    },
    {
      "cell_type": "raw",
      "metadata": {
        "raw_mimetype": "text/html"
      },
      "source": [
        "<!-- -   $\\beta_j$, $j = 1,\\ldots,p-1$, represents the expected change in the -->"
      ],
      "id": "e3ea5d7f-2d2d-43da-b16d-df4c215a3537"
    },
    {
      "cell_type": "raw",
      "metadata": {
        "raw_mimetype": "text/html"
      },
      "source": [
        "<!--     response when regressor $j$ increases 1 unit and the other -->"
      ],
      "id": "4162f991-cd4b-4795-a7dd-eb176f7e05fa"
    },
    {
      "cell_type": "raw",
      "metadata": {
        "raw_mimetype": "text/html"
      },
      "source": [
        "<!--     regressors stay the same, i.e., -->"
      ],
      "id": "429eb5bb-9e5b-4548-bbd7-11e381a33c9d"
    },
    {
      "cell_type": "raw",
      "metadata": {
        "raw_mimetype": "text/html"
      },
      "source": [
        "<!--     $\\beta_j=E(Y\\mid \\mathbb{X}_{-j} = \\mathbf{x}^*_{-j}, X_{j+1} = x_{j}^*+1)-E(Y\\mid \\mathbb{X}_{-j} = \\mathbf{x}^*_{-j}, X_{j+1} = x_{j}^*)$ -->"
      ],
      "id": "8fb1f56d-31e3-4ae5-a313-745030957250"
    },
    {
      "cell_type": "raw",
      "metadata": {
        "raw_mimetype": "text/html"
      },
      "source": [
        "<!--     where -->"
      ],
      "id": "2b6b677f-1cec-4753-a72e-c2a531b43ed9"
    },
    {
      "cell_type": "raw",
      "metadata": {
        "raw_mimetype": "text/html"
      },
      "source": [
        "<!--     $\\mathbf{x}_{-j}^*=[x^*_1,\\ldots,x_{j-1}^*,x_{j+1}^*,\\ldots,x_{p-1}^*]\\in \\mathbb{R}^{p-2}$ -->"
      ],
      "id": "58a3def4-e71b-417c-9332-7f210a94c9b0"
    },
    {
      "cell_type": "raw",
      "metadata": {
        "raw_mimetype": "text/html"
      },
      "source": [
        "<!--     is a vector with $p-2$ fixed values (the number of regressors -->"
      ],
      "id": "826de1aa-35cb-45ae-af06-7b8571d8da4c"
    },
    {
      "cell_type": "raw",
      "metadata": {
        "raw_mimetype": "text/html"
      },
      "source": [
        "<!--     excluding $X_j$) and $x_j^*$ is a fixed real number. The -->"
      ],
      "id": "8b2b08a6-0abe-488a-8f12-bafb6d012be2"
    },
    {
      "cell_type": "raw",
      "metadata": {
        "raw_mimetype": "text/html"
      },
      "source": [
        "<!--     non-intercept coefficients of a multiple linear regression model are -->"
      ],
      "id": "d0b6eb29-1704-47a0-93bd-c0ab3cda3a82"
    },
    {
      "cell_type": "raw",
      "metadata": {
        "raw_mimetype": "text/html"
      },
      "source": [
        "<!--     known as *partial slopes*. -->"
      ],
      "id": "1a026524-b6c0-4479-bdb6-f74a8560ce2a"
    },
    {
      "cell_type": "raw",
      "metadata": {
        "raw_mimetype": "text/html"
      },
      "source": [
        "<!-- Regarding the interpretation of $\\beta_0$, from the regression model:  -->"
      ],
      "id": "34349239-b3fe-4b78-92c3-6eaf9c509df9"
    },
    {
      "cell_type": "raw",
      "metadata": {
        "raw_mimetype": "text/html"
      },
      "source": [
        "<!-- $$ -->"
      ],
      "id": "5f6fdcac-a48a-4354-afaa-25419159cd36"
    },
    {
      "cell_type": "raw",
      "metadata": {
        "raw_mimetype": "text/html"
      },
      "source": [
        "<!-- \\begin{aligned} -->"
      ],
      "id": "1a86b567-cb23-4b39-81fe-fccd2a221a96"
    },
    {
      "cell_type": "raw",
      "metadata": {
        "raw_mimetype": "text/html"
      },
      "source": [
        "<!-- E(Y\\mid X_1=0,\\ldots,X_{p-1}=0) &= \\beta_0 + \\beta_1 \\cdot 0 + \\cdots + \\beta_{p-1} \\cdot 0\\\\ -->"
      ],
      "id": "6d38a327-f189-4fe4-97ce-4f1e350ed910"
    },
    {
      "cell_type": "raw",
      "metadata": {
        "raw_mimetype": "text/html"
      },
      "source": [
        "<!-- &= \\beta_0. -->"
      ],
      "id": "c148a4cf-18c3-4a0b-a4f6-2ab78c69480c"
    },
    {
      "cell_type": "raw",
      "metadata": {
        "raw_mimetype": "text/html"
      },
      "source": [
        "<!-- \\end{aligned} -->"
      ],
      "id": "823c15c4-6aed-4f68-943d-e52d3fafa9e7"
    },
    {
      "cell_type": "raw",
      "metadata": {
        "raw_mimetype": "text/html"
      },
      "source": [
        "<!-- $$ -->"
      ],
      "id": "d37799f8-4fe8-4738-b7c0-8206024d72ce"
    },
    {
      "cell_type": "raw",
      "metadata": {
        "raw_mimetype": "text/html"
      },
      "source": [
        "<!-- **Question:**  -->"
      ],
      "id": "1c0df613-5304-4a73-b6db-bfb50a6e3452"
    },
    {
      "cell_type": "raw",
      "metadata": {
        "raw_mimetype": "text/html"
      },
      "source": [
        "<!-- - Does the interpretation of the intercept always make sense? -->"
      ],
      "id": "f63c933f-85cd-4ce0-ada3-dee9a08c3efc"
    },
    {
      "cell_type": "raw",
      "metadata": {
        "raw_mimetype": "text/html"
      },
      "source": [
        "<!-- - What if $X_1$ was heart rate? -->"
      ],
      "id": "bd165eed-d97f-4365-8c0f-441243a1dcd9"
    },
    {
      "cell_type": "raw",
      "metadata": {
        "raw_mimetype": "text/html"
      },
      "source": [
        "<!-- **Issues Interpreting Polynomial Models** -->"
      ],
      "id": "10534c87-f489-428f-9dab-df51c8fc4c41"
    },
    {
      "cell_type": "raw",
      "metadata": {
        "raw_mimetype": "text/html"
      },
      "source": [
        "<!-- --- -->"
      ],
      "id": "5173b8bb-f060-4269-95cf-a4bc04541bd2"
    },
    {
      "cell_type": "raw",
      "metadata": {
        "raw_mimetype": "text/html"
      },
      "source": [
        "<!-- In multiple regression models, a single predictor can be used more than once in the model.  -->"
      ],
      "id": "3bee787c-1d85-4566-844a-3f4978e474f8"
    },
    {
      "cell_type": "raw",
      "metadata": {
        "raw_mimetype": "text/html"
      },
      "source": [
        "<!-- E.g., in the 2nd-degree polynomial regression model: -->"
      ],
      "id": "9d9e3f69-995d-44bc-85db-5cce1dca8272"
    },
    {
      "cell_type": "raw",
      "metadata": {
        "raw_mimetype": "text/html"
      },
      "source": [
        "<!-- $$E(Y\\mid X) = \\beta_0 + \\beta_1 X + \\beta_2 X^2,$$  -->"
      ],
      "id": "5f1476db-d45f-4c79-852f-766f3d6b720b"
    },
    {
      "cell_type": "raw",
      "metadata": {
        "raw_mimetype": "text/html"
      },
      "source": [
        "<!-- $X$ is used in both the second and third terms.  -->"
      ],
      "id": "ca0774b3-5bfb-4eeb-a548-e628a500de52"
    },
    {
      "cell_type": "raw",
      "metadata": {
        "raw_mimetype": "text/html"
      },
      "source": [
        "<!-- **Questions** -->"
      ],
      "id": "859607b5-0c76-4ca5-9544-30b029bcdb98"
    },
    {
      "cell_type": "raw",
      "metadata": {
        "raw_mimetype": "text/html"
      },
      "source": [
        "<!-- * How does this affect the interpretation of $\\beta_1$? -->"
      ],
      "id": "73862097-f747-470a-98c3-e5c1a997e7cc"
    },
    {
      "cell_type": "raw",
      "metadata": {
        "raw_mimetype": "text/html"
      },
      "source": [
        "<!-- * Is is possible to increase $X$ while keeping $X^2$ fixed? -->"
      ],
      "id": "2e3f4c49-3053-4fea-afde-daa43e6a1e5d"
    },
    {
      "cell_type": "raw",
      "metadata": {
        "raw_mimetype": "text/html"
      },
      "source": [
        "<!-- The standard interpretation we discussed is applicable to first-order linear regression models. -->"
      ],
      "id": "fa7c2d62-abd6-4539-be29-1c8a3a453d42"
    },
    {
      "cell_type": "raw",
      "metadata": {
        "raw_mimetype": "text/html"
      },
      "source": [
        "<!-- *First-order linear regression model:* no regressor is a function of any other regressor. -->"
      ],
      "id": "910a30d1-b727-4271-93e9-aeec10a631c4"
    },
    {
      "cell_type": "raw",
      "metadata": {
        "raw_mimetype": "text/html"
      },
      "source": [
        "<!-- **Penguins Example Revisited** -->"
      ],
      "id": "11402532-56cb-49d8-8228-3054189d86ea"
    },
    {
      "cell_type": "raw",
      "metadata": {
        "raw_mimetype": "text/html"
      },
      "source": [
        "<!-- --- -->"
      ],
      "id": "54ff1f04-0b4e-4411-a5b2-6ca76408c91a"
    },
    {
      "cell_type": "raw",
      "metadata": {
        "raw_mimetype": "text/html"
      },
      "source": [
        "<!-- We interpret the first-order multiple linear regression model fit to the `penguins` data. The fitted multiple linear regression -->"
      ],
      "id": "26fb9b9b-585f-4269-a1b9-0d48da34db6e"
    },
    {
      "cell_type": "raw",
      "metadata": {
        "raw_mimetype": "text/html"
      },
      "source": [
        "<!-- model is: -->"
      ],
      "id": "5e0ccee2-cbd3-4a82-99cc-6bcffc22166e"
    },
    {
      "cell_type": "raw",
      "metadata": {
        "raw_mimetype": "text/html"
      },
      "source": [
        "<!-- $$ -->"
      ],
      "id": "2e962204-90ff-459f-9f31-c8a811c19c2a"
    },
    {
      "cell_type": "raw",
      "metadata": {
        "raw_mimetype": "text/html"
      },
      "source": [
        "<!-- \\begin{aligned} -->"
      ],
      "id": "15e28dc3-71ce-43b6-ab0b-bf7031a0798b"
    },
    {
      "cell_type": "raw",
      "metadata": {
        "raw_mimetype": "text/html"
      },
      "source": [
        "<!-- &\\hat{E}(\\mathtt{bill\\_length\\_mm}\\mid \\mathtt{body\\_mass\\_g}, \\mathtt{flipper\\_length\\_mm})\\\\ -->"
      ],
      "id": "b75b91a8-3297-494d-adc9-c381cba5ee6e"
    },
    {
      "cell_type": "raw",
      "metadata": {
        "raw_mimetype": "text/html"
      },
      "source": [
        "<!-- &=-3.44+0.0007 \\,\\mathtt{body\\_mass\\_g}+0.22\\,\\mathtt{flipper\\_length\\_mm}. -->"
      ],
      "id": "f17c6202-7e67-42f2-b4e1-2e808d05ddad"
    },
    {
      "cell_type": "raw",
      "metadata": {
        "raw_mimetype": "text/html"
      },
      "source": [
        "<!-- \\end{aligned} -->"
      ],
      "id": "2b6f40e5-bf90-444d-8629-445dca5fba91"
    },
    {
      "cell_type": "raw",
      "metadata": {
        "raw_mimetype": "text/html"
      },
      "source": [
        "<!-- $$ -->"
      ],
      "id": "7379029a-83fd-4725-bba6-cd9bab90fac8"
    },
    {
      "cell_type": "raw",
      "metadata": {
        "raw_mimetype": "text/html"
      },
      "source": [
        "<!-- Some basic interpretations of the coefficients are: -->"
      ],
      "id": "7806e415-1b53-4d9c-8adc-78cdd4191e1e"
    },
    {
      "cell_type": "raw",
      "metadata": {
        "raw_mimetype": "text/html"
      },
      "source": [
        "<!-- -   *Intercept:* We expect a penguin with a body mass of 0 grams and a -->"
      ],
      "id": "f08cc1a4-e411-42a9-84d2-7fd715ee57e0"
    },
    {
      "cell_type": "raw",
      "metadata": {
        "raw_mimetype": "text/html"
      },
      "source": [
        "<!--     flipper length of 0 mm to to have a bill length of -3.44 mm. -->"
      ],
      "id": "a96ac21f-39bc-421b-896e-b0e36fb6b945"
    },
    {
      "cell_type": "raw",
      "metadata": {
        "raw_mimetype": "text/html"
      },
      "source": [
        "<!-- -   `body_mass_g`: If we increase body mass by 1 gram, we expect bill length to increase 0.0007 mm *holding all else constant*. -->"
      ],
      "id": "6b3f473e-fdf4-49f3-9ee9-c2233a239e76"
    },
    {
      "cell_type": "raw",
      "metadata": {
        "raw_mimetype": "text/html"
      },
      "source": [
        "<!-- -   `flipper_length_mm`: If we increase flipper length by 1 mm, we expect the bill length to increase 0.22 mm *holding all else constant*. -->"
      ],
      "id": "7c74ab41-2cee-4563-829a-f3fe87da1b86"
    },
    {
      "cell_type": "raw",
      "metadata": {
        "raw_mimetype": "text/html"
      },
      "source": [
        "<!-- **Roles of regressor variables** -->"
      ],
      "id": "09913fbf-2b37-44af-a6ca-d01efc644917"
    },
    {
      "cell_type": "raw",
      "metadata": {
        "raw_mimetype": "text/html"
      },
      "source": [
        "<!-- --- -->"
      ],
      "id": "ac48f661-127b-44b5-926f-33dbb1391411"
    },
    {
      "cell_type": "raw",
      "metadata": {
        "raw_mimetype": "text/html"
      },
      "source": [
        "<!-- Did you notice that the estimated coefficients for the intercept and the -->"
      ],
      "id": "df2570d4-78cb-44cb-9028-b45656a3405c"
    },
    {
      "cell_type": "raw",
      "metadata": {
        "raw_mimetype": "text/html"
      },
      "source": [
        "<!-- `body_mass_g` regressor changed between the simple model and the multiple regression model? -->"
      ],
      "id": "b8678200-a3bf-4047-a3fa-9688e87b663f"
    },
    {
      "cell_type": "raw",
      "metadata": {
        "raw_mimetype": "text/html"
      },
      "source": [
        "<!-- |Regression Model | Intercept Coef.| Body Mass Coef.| -->"
      ],
      "id": "df3e5d65-e642-41e8-93ef-33ee012206a6"
    },
    {
      "cell_type": "raw",
      "metadata": {
        "raw_mimetype": "text/html"
      },
      "source": [
        "<!-- |:----------------|---------------:|---------------:| -->"
      ],
      "id": "93e9cc11-e83f-4d3b-a6f7-2a42dd996eb4"
    },
    {
      "cell_type": "raw",
      "metadata": {
        "raw_mimetype": "text/html"
      },
      "source": [
        "<!-- |Simple Linear    |           26.90|           0.004| -->"
      ],
      "id": "b78db3ce-28d1-4d49-8111-a325dce91363"
    },
    {
      "cell_type": "raw",
      "metadata": {
        "raw_mimetype": "text/html"
      },
      "source": [
        "<!-- |Multiple         |           -3.44|           0.0007| -->"
      ],
      "id": "391f8f00-5acc-4a76-863f-c35349f3f0f4"
    },
    {
      "cell_type": "raw",
      "metadata": {
        "raw_mimetype": "text/html"
      },
      "source": [
        "<!-- * Why? -->"
      ],
      "id": "3b532080-c7f1-4ee5-b305-19b7bc9c29b1"
    },
    {
      "cell_type": "raw",
      "metadata": {
        "raw_mimetype": "text/html"
      },
      "source": [
        "<!-- The role a regressor plays in a regression model depends on what other -->"
      ],
      "id": "7ede6920-db40-4f9a-b59a-25be04ce292c"
    },
    {
      "cell_type": "raw",
      "metadata": {
        "raw_mimetype": "text/html"
      },
      "source": [
        "<!-- regressors are in the model.  -->"
      ],
      "id": "bac09e06-1aad-4153-afb2-df8391311132"
    },
    {
      "cell_type": "raw",
      "metadata": {
        "raw_mimetype": "text/html"
      },
      "source": [
        "<!-- - Generally, we can't provide a definitive interpretation of a -->"
      ],
      "id": "63782929-a7bc-4663-bee7-0dfd10e4f8bc"
    },
    {
      "cell_type": "raw",
      "metadata": {
        "raw_mimetype": "text/html"
      },
      "source": [
        "<!-- regressor's role in a fitted model without knowing what other regressors -->"
      ],
      "id": "a6e825ba-09e4-4b22-b2bf-2db6b9f7ffb2"
    },
    {
      "cell_type": "raw",
      "metadata": {
        "raw_mimetype": "text/html"
      },
      "source": [
        "<!-- are in the model. -->"
      ],
      "id": "29c36269-ac81-4ec8-b582-20846df216e0"
    },
    {
      "cell_type": "raw",
      "metadata": {
        "raw_mimetype": "text/html"
      },
      "source": [
        "<!-- - When interpreting a regressor, it is common to -->"
      ],
      "id": "9275649e-7656-4a2a-9492-7fad0243c7c6"
    },
    {
      "cell_type": "raw",
      "metadata": {
        "raw_mimetype": "text/html"
      },
      "source": [
        "<!-- include something like *after accounting for the other variables in -->"
      ],
      "id": "50eac58c-1de0-445b-8176-1770ca21220c"
    },
    {
      "cell_type": "raw",
      "metadata": {
        "raw_mimetype": "text/html"
      },
      "source": [
        "<!-- the model*. -->"
      ],
      "id": "9bbcccda-3c46-4401-87a4-69358bf69684"
    },
    {
      "cell_type": "raw",
      "metadata": {
        "raw_mimetype": "text/html"
      },
      "source": [
        "<!-- If our model had different variables, then our interpretation would be -->"
      ],
      "id": "edcf1687-5003-4476-ae8f-3c6a097640dc"
    },
    {
      "cell_type": "raw",
      "metadata": {
        "raw_mimetype": "text/html"
      },
      "source": [
        "<!-- different! -->"
      ],
      "id": "49e41923-2396-402a-ab74-48397982eb4e"
    },
    {
      "cell_type": "raw",
      "metadata": {
        "raw_mimetype": "text/html"
      },
      "source": [
        "<!-- Mathematically, why do the estimated coefficients change -->"
      ],
      "id": "4f0264ce-4421-4aeb-87ee-6f176812e7a4"
    },
    {
      "cell_type": "raw",
      "metadata": {
        "raw_mimetype": "text/html"
      },
      "source": [
        "<!-- as we add or remove regressors from a model? -->"
      ],
      "id": "c1d319b3-8f4c-4746-987d-3b0028c6a2c7"
    },
    {
      "cell_type": "raw",
      "metadata": {
        "raw_mimetype": "text/html"
      },
      "source": [
        "<!-- - If a regressor is correlated with other regressors in a model, then adding or removing that regressor will impact the estimated coefficients in the new model. -->"
      ],
      "id": "5045391d-962f-4fd8-8e50-5cb55cee207f"
    },
    {
      "cell_type": "raw",
      "metadata": {
        "raw_mimetype": "text/html"
      },
      "source": [
        "<!-- - The more correlated the regressors are, the more they tend to affect -->"
      ],
      "id": "02be5389-68b7-4d6e-a19b-ad65ee7d7c44"
    },
    {
      "cell_type": "raw",
      "metadata": {
        "raw_mimetype": "text/html"
      },
      "source": [
        "<!-- each others' estimated coefficients.  -->"
      ],
      "id": "573b5726-4327-49a3-b808-527ff081da8f"
    },
    {
      "cell_type": "raw",
      "metadata": {
        "raw_mimetype": "text/html"
      },
      "source": [
        "<!-- - A regressor will impact the estimated coefficients of the other regressors in a model unless it is *orthogonal* to the other regressors. -->"
      ],
      "id": "5b292953-7abb-4a32-b14b-6fdade68843f"
    },
    {
      "cell_type": "raw",
      "metadata": {
        "raw_mimetype": "text/html"
      },
      "source": [
        "<!-- *Note:* Orthogonality is related to correlation, but there are important differences. -->"
      ],
      "id": "8ee66e8d-aa0d-411d-bd20-cb09c4c5cc98"
    },
    {
      "cell_type": "raw",
      "metadata": {
        "raw_mimetype": "text/html"
      },
      "source": [
        "<!-- # Effect plots -->"
      ],
      "id": "ba57503b-127c-436e-b037-1a14d9c5d69d"
    },
    {
      "cell_type": "raw",
      "metadata": {
        "raw_mimetype": "text/html"
      },
      "source": [
        "<!-- An effect plot is a visual display that aids in helping us intuitively -->"
      ],
      "id": "3d37e164-a7d9-4e00-9c88-f24dd0a8fb5e"
    },
    {
      "cell_type": "raw",
      "metadata": {
        "raw_mimetype": "text/html"
      },
      "source": [
        "<!-- interpret the impact of a *predictor* in a model. As stated by -->"
      ],
      "id": "8c0f0536-ebe5-4067-9033-c45412cfcd16"
    },
    {
      "cell_type": "raw",
      "metadata": {
        "raw_mimetype": "text/html"
      },
      "source": [
        "<!-- Fox et al. (2020): -->"
      ],
      "id": "53a20d4c-dd0e-41e3-8a59-d58d227290e6"
    },
    {
      "cell_type": "raw",
      "metadata": {
        "raw_mimetype": "text/html"
      },
      "source": [
        "<!-- > Summarization of the effects of predictors using tables of coefficient -->"
      ],
      "id": "f86f1268-1027-46a3-b2db-e40098c96f54"
    },
    {
      "cell_type": "raw",
      "metadata": {
        "raw_mimetype": "text/html"
      },
      "source": [
        "<!-- > estimates is often incomplete. Effects, and particularly plots of -->"
      ],
      "id": "ec4429ae-ecd2-468e-8e9b-4b36012566ba"
    },
    {
      "cell_type": "raw",
      "metadata": {
        "raw_mimetype": "text/html"
      },
      "source": [
        "<!-- > effects, can in many instances reveal the relationship of the response -->"
      ],
      "id": "62bdb343-3129-4d36-ab32-12e39382c3a3"
    },
    {
      "cell_type": "raw",
      "metadata": {
        "raw_mimetype": "text/html"
      },
      "source": [
        "<!-- > to the predictors more clearly. This conclusion is especially true for -->"
      ],
      "id": "0a129966-881a-4679-9bec-01d5da1c0e19"
    },
    {
      "cell_type": "raw",
      "metadata": {
        "raw_mimetype": "text/html"
      },
      "source": [
        "<!-- > models with linear predictors that include interactions and -->"
      ],
      "id": "ef57030a-dcbe-4b9e-919f-83f9cf14c806"
    },
    {
      "cell_type": "raw",
      "metadata": {
        "raw_mimetype": "text/html"
      },
      "source": [
        "<!-- > multiple-coefficient terms such as regression splines and polynomials -->"
      ],
      "id": "2426b428-b064-4439-a6a7-7c5e9ebc913f"
    },
    {
      "cell_type": "raw",
      "metadata": {
        "raw_mimetype": "text/html"
      },
      "source": [
        "<!-- > .... -->"
      ],
      "id": "a5b6a402-e436-4811-851c-6934b952dd57"
    },
    {
      "cell_type": "raw",
      "metadata": {
        "raw_mimetype": "text/html"
      },
      "source": [
        "<!-- An *effect plot* is a plot of the estimated mean response as a function of a *focal predictor* with the other *predictors* being held at \"typical values\".  -->"
      ],
      "id": "2327917b-1b13-417b-97fc-01d573d02c73"
    },
    {
      "cell_type": "raw",
      "metadata": {
        "raw_mimetype": "text/html"
      },
      "source": [
        "<!-- *Recall:* the difference between predictors and regressors. -->"
      ],
      "id": "81ceb3db-fb21-44d0-93f5-00377f0f04d9"
    },
    {
      "cell_type": "raw",
      "metadata": {
        "raw_mimetype": "text/html"
      },
      "source": [
        "<!-- - A *predictor* variable is a variable available to model the response variable.  -->"
      ],
      "id": "caade48d-5913-4a86-85cc-47d11d74ba60"
    },
    {
      "cell_type": "raw",
      "metadata": {
        "raw_mimetype": "text/html"
      },
      "source": [
        "<!-- - A *regressor* variable is a variable used in our regression model, whether that is an unmodified predictor variable, some transformation of a predictor, some combination of predictors, etc. -->"
      ],
      "id": "26279d51-0c93-43fa-aeab-d02fc90254a2"
    },
    {
      "cell_type": "raw",
      "metadata": {
        "raw_mimetype": "text/html"
      },
      "source": [
        "<!-- **First-Order Model Effects Plot** -->"
      ],
      "id": "727e505b-149f-4afd-b034-ad565ddfb932"
    },
    {
      "cell_type": "raw",
      "metadata": {
        "raw_mimetype": "text/html"
      },
      "source": [
        "<!-- --- -->"
      ],
      "id": "f119f8d1-1685-4db2-b67e-79e9c98e3ff4"
    },
    {
      "cell_type": "raw",
      "metadata": {
        "raw_mimetype": "text/html"
      },
      "source": [
        "<!-- In a first-order linear model, none of the regressors interact, i.e., none of the regressors are functions of each other. Fox et al. (2020) use the terminology *fixed group* to refer to the group of predictors that do not interact with the focal predictor.  -->"
      ],
      "id": "2bfcaca2-cf95-4812-92c8-d0a1bb25b771"
    },
    {
      "cell_type": "raw",
      "metadata": {
        "raw_mimetype": "text/html"
      },
      "source": [
        "<!-- To create our effect plot, we must first find the equation for the estimated mean response as a function of a focal predictor while holding the other predictors at their \"typical\" values. We set numeric fixed group predictors equal to their sample means when finding this function. -->"
      ],
      "id": "01fbb243-02f8-4653-866a-fcd626e1f6a5"
    },
    {
      "cell_type": "raw",
      "metadata": {
        "raw_mimetype": "text/html"
      },
      "source": [
        "<!-- We now construct effect plots for the estimated regression model of the -->"
      ],
      "id": "08577258-e5b2-43ab-9d67-3ab854f21d15"
    },
    {
      "cell_type": "raw",
      "metadata": {
        "raw_mimetype": "text/html"
      },
      "source": [
        "<!-- `penguins` data that regressed `bill_length_mm` on `body_mass_g` and `flipper_length_mm`. The fitted model is  -->"
      ],
      "id": "9d84129e-99ae-4ec3-a426-f294ec0070e8"
    },
    {
      "cell_type": "raw",
      "metadata": {
        "raw_mimetype": "text/html"
      },
      "source": [
        "<!-- $$ -->"
      ],
      "id": "789f9b51-8e1b-4791-b8f5-918aa24e0cd3"
    },
    {
      "cell_type": "raw",
      "metadata": {
        "raw_mimetype": "text/html"
      },
      "source": [
        "<!-- \\begin{aligned} -->"
      ],
      "id": "612b724c-214f-46a1-ab22-2d67254bfa93"
    },
    {
      "cell_type": "raw",
      "metadata": {
        "raw_mimetype": "text/html"
      },
      "source": [
        "<!-- &\\hat{E}(\\mathtt{bill\\_length\\_mm}\\mid \\mathtt{body\\_mass\\_g}, \\mathtt{flipper\\_length\\_mm})\\\\ -->"
      ],
      "id": "aaae0bcd-ff6b-4adc-bbe1-cdf7b976f79f"
    },
    {
      "cell_type": "raw",
      "metadata": {
        "raw_mimetype": "text/html"
      },
      "source": [
        "<!-- &=-3.44+0.0007 \\,\\mathtt{body\\_mass\\_g}+0.22\\,\\mathtt{flipper\\_length\\_mm}. -->"
      ],
      "id": "f55b7a9c-2759-444b-926e-092117b4d87f"
    },
    {
      "cell_type": "raw",
      "metadata": {
        "raw_mimetype": "text/html"
      },
      "source": [
        "<!-- \\end{aligned} -->"
      ],
      "id": "c93e2809-ec5b-4005-a081-6b557101a57e"
    },
    {
      "cell_type": "raw",
      "metadata": {
        "raw_mimetype": "text/html"
      },
      "source": [
        "<!-- $$ -->"
      ],
      "id": "5fe369ea-08ee-4ade-b0e0-29bc3cc18b1d"
    },
    {
      "cell_type": "raw",
      "metadata": {
        "raw_mimetype": "text/html"
      },
      "source": [
        "<!-- We fit this model in R below. -->"
      ],
      "id": "9d012185-5627-4a48-896c-adf08b697d06"
    },
    {
      "cell_type": "raw",
      "metadata": {
        "raw_mimetype": "text/html"
      },
      "source": [
        "<!-- ```{r} -->"
      ],
      "id": "05c884e0-3401-49c4-ac7f-c083c8ed8352"
    },
    {
      "cell_type": "raw",
      "metadata": {
        "raw_mimetype": "text/html"
      },
      "source": [
        "<!-- # load penguins data since it hasn't been loaded in this chapter -->"
      ],
      "id": "10262c55-dc9f-4437-b787-d47975b777eb"
    },
    {
      "cell_type": "raw",
      "metadata": {
        "raw_mimetype": "text/html"
      },
      "source": [
        "<!-- data(penguins, package = \"palmerpenguins\") -->"
      ],
      "id": "06c4b30b-4edc-481b-9284-97a4b18e4b88"
    },
    {
      "cell_type": "raw",
      "metadata": {
        "raw_mimetype": "text/html"
      },
      "source": [
        "<!-- # refit multiple linear regression model -->"
      ],
      "id": "460ecd72-744c-4703-9fe6-8ef663cba12c"
    },
    {
      "cell_type": "raw",
      "metadata": {
        "raw_mimetype": "text/html"
      },
      "source": [
        "<!-- mlmod <- lm(bill_length_mm ~ body_mass_g + flipper_length_mm, data = penguins) -->"
      ],
      "id": "04a70633-1959-4192-b6b8-a8c0daaa3e5f"
    },
    {
      "cell_type": "raw",
      "metadata": {
        "raw_mimetype": "text/html"
      },
      "source": [
        "<!-- # extract estimated coefficients -->"
      ],
      "id": "7761cb6a-9334-4078-b103-1a34136638ef"
    },
    {
      "cell_type": "raw",
      "metadata": {
        "raw_mimetype": "text/html"
      },
      "source": [
        "<!-- coef(mlmod) -->"
      ],
      "id": "315ebd66-db97-4074-82cb-bbfacc317aa1"
    },
    {
      "cell_type": "raw",
      "metadata": {
        "raw_mimetype": "text/html"
      },
      "source": [
        "<!-- ``` -->"
      ],
      "id": "1857c7bf-2568-417b-8869-da837ac93230"
    },
    {
      "cell_type": "raw",
      "metadata": {
        "raw_mimetype": "text/html"
      },
      "source": [
        "<!-- There are two predictors in the model, so we can create effect plots for both variables using the sample mean as a reference value.  -->"
      ],
      "id": "803ab2e9-f6a8-4658-ab40-a6880c86fb16"
    },
    {
      "cell_type": "raw",
      "metadata": {
        "raw_mimetype": "text/html"
      },
      "source": [
        "<!-- ```{r} -->"
      ],
      "id": "ba2f6b2d-c8f6-413b-8701-146140599817"
    },
    {
      "cell_type": "raw",
      "metadata": {
        "raw_mimetype": "text/html"
      },
      "source": [
        "<!-- colMeans(mlmod$model) -->"
      ],
      "id": "f1b8b64e-b96b-4b99-869b-38e0d748e73d"
    },
    {
      "cell_type": "raw",
      "metadata": {
        "raw_mimetype": "text/html"
      },
      "source": [
        "<!-- ``` -->"
      ],
      "id": "353d9db8-73b4-42c9-80c5-5ac013cfd7cf"
    },
    {
      "cell_type": "raw",
      "metadata": {
        "raw_mimetype": "text/html"
      },
      "source": [
        "<!-- The effect plot for $\\mathtt{body\\_mass\\_g}$ (on the response -->"
      ],
      "id": "597a977d-4d2e-4f59-a4f7-6b362c8b1431"
    },
    {
      "cell_type": "raw",
      "metadata": {
        "raw_mimetype": "text/html"
      },
      "source": [
        "<!-- $\\mathtt{bill\\_length\\_mm}$) is a plot of  -->"
      ],
      "id": "a3cdacab-df4d-4b2c-9cae-2086d96c3790"
    },
    {
      "cell_type": "raw",
      "metadata": {
        "raw_mimetype": "text/html"
      },
      "source": [
        "<!-- $$ -->"
      ],
      "id": "ae532cfe-04e6-434b-a3ae-7ab3dc7dcd07"
    },
    {
      "cell_type": "raw",
      "metadata": {
        "raw_mimetype": "text/html"
      },
      "source": [
        "<!-- \\begin{aligned} -->"
      ],
      "id": "9797519a-9ef5-4559-9e3f-d11d2efcba5a"
    },
    {
      "cell_type": "raw",
      "metadata": {
        "raw_mimetype": "text/html"
      },
      "source": [
        "<!-- &\\hat{E}(\\mathtt{bill\\_length\\_mm}\\mid \\mathtt{body\\_mass\\_g}, \\mathtt{flipper\\_length\\_mm} = 200.92)\\\\ -->"
      ],
      "id": "df28f5ad-12b9-4268-bc60-605bb0e32ccc"
    },
    {
      "cell_type": "raw",
      "metadata": {
        "raw_mimetype": "text/html"
      },
      "source": [
        "<!-- &=-3.44+0.0007 \\,\\mathtt{body\\_mass\\_g}+0.22\\cdot 200.92 \\\\ -->"
      ],
      "id": "cf1b7d4c-4aa6-4817-8a09-807cb1420333"
    },
    {
      "cell_type": "raw",
      "metadata": {
        "raw_mimetype": "text/html"
      },
      "source": [
        "<!-- &=41.14+0.0007 \\,\\mathtt{body\\_mass\\_g} -->"
      ],
      "id": "52d0c3fd-bddb-42c5-a7dd-14e150ae5596"
    },
    {
      "cell_type": "raw",
      "metadata": {
        "raw_mimetype": "text/html"
      },
      "source": [
        "<!-- \\end{aligned} -->"
      ],
      "id": "31d85406-a950-4d84-b02b-1d267f138139"
    },
    {
      "cell_type": "raw",
      "metadata": {
        "raw_mimetype": "text/html"
      },
      "source": [
        "<!-- $$  -->"
      ],
      "id": "0324ac8b-73cb-4315-8289-533a04f85d2e"
    },
    {
      "cell_type": "raw",
      "metadata": {
        "raw_mimetype": "text/html"
      },
      "source": [
        "<!-- as a function of $\\mathtt{body\\_mass\\_g}$.  -->"
      ],
      "id": "410610b3-240b-4da4-9435-d246b681e401"
    },
    {
      "cell_type": "raw",
      "metadata": {
        "raw_mimetype": "text/html"
      },
      "source": [
        "<!-- Note: we used exact values -->"
      ],
      "id": "4457666b-96e7-4807-92e9-e0d3a87bc669"
    },
    {
      "cell_type": "raw",
      "metadata": {
        "raw_mimetype": "text/html"
      },
      "source": [
        "<!-- in the calculation above. The intercept will be 40.76 instead of 41.14 -->"
      ],
      "id": "5cf59b78-758c-4175-9e7e-06c254b135fe"
    },
    {
      "cell_type": "raw",
      "metadata": {
        "raw_mimetype": "text/html"
      },
      "source": [
        "<!-- if we use the rounded values. Similarly, the effect plot for -->"
      ],
      "id": "26c8dd09-b355-410d-99fc-0efd90193d3f"
    },
    {
      "cell_type": "raw",
      "metadata": {
        "raw_mimetype": "text/html"
      },
      "source": [
        "<!-- $\\mathtt{flipper\\_length\\_mm}$ is a plot of $$ -->"
      ],
      "id": "720115de-1009-43bf-9c12-a94e23620890"
    },
    {
      "cell_type": "raw",
      "metadata": {
        "raw_mimetype": "text/html"
      },
      "source": [
        "<!-- \\begin{aligned} -->"
      ],
      "id": "f2b7d779-bbf3-4294-91e3-507e2f56c961"
    },
    {
      "cell_type": "raw",
      "metadata": {
        "raw_mimetype": "text/html"
      },
      "source": [
        "<!-- &\\hat{E}(\\mathtt{bill\\_length\\_mm}\\mid \\mathtt{body\\_mass\\_g} = 4201.75,\\mathtt{flipper\\_length\\_mm}) \\\\ -->"
      ],
      "id": "00786a2c-4764-4be3-aef6-ecc7d32693f8"
    },
    {
      "cell_type": "raw",
      "metadata": {
        "raw_mimetype": "text/html"
      },
      "source": [
        "<!-- &=-3.44+0.0007 \\cdot 4201.75+0.22\\,\\mathtt{flipper\\_length\\_mm} \\\\ -->"
      ],
      "id": "98081cf4-161e-44ac-adcc-4e909674914a"
    },
    {
      "cell_type": "raw",
      "metadata": {
        "raw_mimetype": "text/html"
      },
      "source": [
        "<!-- &=-0.65 + 0.22\\,\\mathtt{flipper\\_length\\_mm} -->"
      ],
      "id": "2ba53b78-4551-499c-bacf-50abe3920ff5"
    },
    {
      "cell_type": "raw",
      "metadata": {
        "raw_mimetype": "text/html"
      },
      "source": [
        "<!-- \\end{aligned} -->"
      ],
      "id": "6783b9e3-dc62-4c1f-b379-b0772e99fbdf"
    },
    {
      "cell_type": "raw",
      "metadata": {
        "raw_mimetype": "text/html"
      },
      "source": [
        "<!-- $$ as a function of $\\mathtt{flipper\\_length\\_mm}$. -->"
      ],
      "id": "1420de56-9903-4b1e-8529-bc868fc4a078"
    },
    {
      "cell_type": "raw",
      "metadata": {
        "raw_mimetype": "text/html"
      },
      "source": [
        "<!-- The `effects` R package can be used to generate effect -->"
      ],
      "id": "9f120d15-cf4f-4902-a34b-caf124d32d53"
    },
    {
      "cell_type": "raw",
      "metadata": {
        "raw_mimetype": "text/html"
      },
      "source": [
        "<!-- plots for the predictors of a fitted linear model.  -->"
      ],
      "id": "1b7d4fd3-414c-486e-ae6e-3a8db37e7ece"
    },
    {
      "cell_type": "raw",
      "metadata": {
        "raw_mimetype": "text/html"
      },
      "source": [
        "<!-- - We use the `effects::predictorEffect` function to compute the information needed to draw the plot.  -->"
      ],
      "id": "3a4e504f-a8f2-40a8-8877-922796c2ed85"
    },
    {
      "cell_type": "raw",
      "metadata": {
        "raw_mimetype": "text/html"
      },
      "source": [
        "<!-- - We use the `plot` function to display the information. -->"
      ],
      "id": "c4659ad7-a8ea-48d1-b565-672c594008c5"
    },
    {
      "cell_type": "raw",
      "metadata": {
        "raw_mimetype": "text/html"
      },
      "source": [
        "<!-- The `predictorEffect` function computes the estimated mean response for -->"
      ],
      "id": "607c35dd-0db8-4a2f-bdb4-4ab5cb8f523d"
    },
    {
      "cell_type": "raw",
      "metadata": {
        "raw_mimetype": "text/html"
      },
      "source": [
        "<!-- different values of the focal predictor while holding the other -->"
      ],
      "id": "b082db3e-3860-40ef-b3d3-1b3c6f369ffd"
    },
    {
      "cell_type": "raw",
      "metadata": {
        "raw_mimetype": "text/html"
      },
      "source": [
        "<!-- predictors at their typical values. The main arguments of -->"
      ],
      "id": "498fc467-7018-4d4d-b8b0-f3332db99584"
    },
    {
      "cell_type": "raw",
      "metadata": {
        "raw_mimetype": "text/html"
      },
      "source": [
        "<!-- `predictorEffect` are: -->"
      ],
      "id": "44b73a4f-fcc6-4cd9-a7c8-23258d4d32cb"
    },
    {
      "cell_type": "raw",
      "metadata": {
        "raw_mimetype": "text/html"
      },
      "source": [
        "<!-- -   `predictor`: the name of the predictor we want to plot. This is the -->"
      ],
      "id": "19831683-fed0-4e1f-8b5e-1e5a117dd371"
    },
    {
      "cell_type": "raw",
      "metadata": {
        "raw_mimetype": "text/html"
      },
      "source": [
        "<!--     \"focal predictor\". -->"
      ],
      "id": "ad0ed738-aa13-489e-954b-775d36dc33ab"
    },
    {
      "cell_type": "raw",
      "metadata": {
        "raw_mimetype": "text/html"
      },
      "source": [
        "<!-- -   `mod`: the fitted model. The function works with `lm` objects and many other types of fitted models. -->"
      ],
      "id": "9df803e4-2bab-4f3f-bc02-03dee341efc3"
    },
    {
      "cell_type": "raw",
      "metadata": {
        "raw_mimetype": "text/html"
      },
      "source": [
        "<!-- We load the **effects** package. -->"
      ],
      "id": "a4f74901-2c27-4db5-bc02-b5f32f04926d"
    },
    {
      "cell_type": "raw",
      "metadata": {
        "raw_mimetype": "text/html"
      },
      "source": [
        "<!-- ```{r} -->"
      ],
      "id": "76c7cd38-7abe-4b0d-b2aa-602f2d9bee2a"
    },
    {
      "cell_type": "raw",
      "metadata": {
        "raw_mimetype": "text/html"
      },
      "source": [
        "<!-- library(effects) -->"
      ],
      "id": "ef5ed233-5215-403f-a7f8-45b731ee6f5d"
    },
    {
      "cell_type": "raw",
      "metadata": {
        "raw_mimetype": "text/html"
      },
      "source": [
        "<!-- ``` -->"
      ],
      "id": "50623da8-eb3d-4555-8cfb-439de12a8596"
    },
    {
      "cell_type": "raw",
      "metadata": {
        "raw_mimetype": "text/html"
      },
      "source": [
        "<!-- We now draw the effects plot for `body_mass_g`. -->"
      ],
      "id": "caa0afa4-957e-429b-b375-13da22aee8fe"
    },
    {
      "cell_type": "raw",
      "metadata": {
        "raw_mimetype": "text/html"
      },
      "source": [
        "<!-- ```{r} -->"
      ],
      "id": "3d364454-de7d-4ca8-a8df-6eac6b8dfa9a"
    },
    {
      "cell_type": "raw",
      "metadata": {
        "raw_mimetype": "text/html"
      },
      "source": [
        "<!-- plot(predictorEffect(\"body_mass_g\", mlmod)) -->"
      ],
      "id": "50ac240e-3919-40fc-9ce3-476b4116ce05"
    },
    {
      "cell_type": "raw",
      "metadata": {
        "raw_mimetype": "text/html"
      },
      "source": [
        "<!-- ``` -->"
      ],
      "id": "9a44c87d-afe9-469a-855c-91d9fd1f84ff"
    },
    {
      "cell_type": "raw",
      "metadata": {
        "raw_mimetype": "text/html"
      },
      "source": [
        "<!-- There is a clear positive association between `body_mass_g` and `bill_length_mm` -->"
      ],
      "id": "305b4004-1f76-4907-a797-717e18d0246d"
    },
    {
      "cell_type": "raw",
      "metadata": {
        "raw_mimetype": "text/html"
      },
      "source": [
        "<!-- after accounting for the `flipper_length_mm` variable. -->"
      ],
      "id": "d69985e3-5d5a-4a58-a497-decdca08a2a0"
    },
    {
      "cell_type": "raw",
      "metadata": {
        "raw_mimetype": "text/html"
      },
      "source": [
        "<!-- The shaded area indicates the 95% confidence interval bands for the estimated mean -->"
      ],
      "id": "06c687a8-fc5e-4188-a23b-015e8f5f15d7"
    },
    {
      "cell_type": "raw",
      "metadata": {
        "raw_mimetype": "text/html"
      },
      "source": [
        "<!-- response.  -->"
      ],
      "id": "a8341a07-f65c-4a67-aad5-1e363eb123c9"
    },
    {
      "cell_type": "raw",
      "metadata": {
        "raw_mimetype": "text/html"
      },
      "source": [
        "<!-- We next create an effect plot for `flipper_length_mm` using the code below. -->"
      ],
      "id": "61ee4dda-7835-4f9f-a90e-99f09a4a6bac"
    },
    {
      "cell_type": "raw",
      "metadata": {
        "raw_mimetype": "text/html"
      },
      "source": [
        "<!-- ```{r} -->"
      ],
      "id": "53310e18-15e7-4a84-a70f-56a775022683"
    },
    {
      "cell_type": "raw",
      "metadata": {
        "raw_mimetype": "text/html"
      },
      "source": [
        "<!-- plot(predictorEffect(\"flipper_length_mm\", mlmod)) -->"
      ],
      "id": "8023fef8-666f-4c00-aaee-c5062279f4fc"
    },
    {
      "cell_type": "raw",
      "metadata": {
        "raw_mimetype": "text/html"
      },
      "source": [
        "<!-- ``` -->"
      ],
      "id": "c28c8a2b-ddd7-42f6-9cf8-69ab3fe488c3"
    },
    {
      "cell_type": "raw",
      "metadata": {
        "raw_mimetype": "text/html"
      },
      "source": [
        "<!-- There is a clear positive association between `flipper_length_mm` and -->"
      ],
      "id": "856a1c14-e226-4121-92bc-124df665e075"
    },
    {
      "cell_type": "raw",
      "metadata": {
        "raw_mimetype": "text/html"
      },
      "source": [
        "<!-- `bill_length_mm` after accounting for `body_mass_g`. -->"
      ],
      "id": "ed714abe-5b76-4f75-bfdc-7474a0b908b0"
    },
    {
      "cell_type": "raw",
      "metadata": {
        "raw_mimetype": "text/html"
      },
      "source": [
        "<!-- Alternatively, we could use `effects::allEffects` to compute the -->"
      ],
      "id": "32b55229-ea87-407e-ba3f-13b77de11b35"
    },
    {
      "cell_type": "raw",
      "metadata": {
        "raw_mimetype": "text/html"
      },
      "source": [
        "<!-- necessary effect plot information for all predictors simultaneously, but it is harder to control figure sizing. -->"
      ],
      "id": "990d6c7d-e605-4a86-ad55-8bef0c94cb8c"
    },
    {
      "cell_type": "raw",
      "metadata": {
        "raw_mimetype": "text/html"
      },
      "source": [
        "<!-- ```{r} -->"
      ],
      "id": "bff85a92-8b6a-4706-b851-476f5ec3d0b1"
    },
    {
      "cell_type": "raw",
      "metadata": {
        "raw_mimetype": "text/html"
      },
      "source": [
        "<!-- plot(allEffects(mlmod)) -->"
      ],
      "id": "52419bf9-c58b-4ecd-8479-41c8792887b9"
    },
    {
      "cell_type": "raw",
      "metadata": {
        "raw_mimetype": "text/html"
      },
      "source": [
        "<!-- ``` -->"
      ],
      "id": "983487bd-c467-4e23-865b-16631431d81e"
    },
    {
      "cell_type": "raw",
      "metadata": {
        "raw_mimetype": "text/html"
      },
      "source": [
        "<!-- # Interpretation for categorical predictors -->"
      ],
      "id": "d0fea50c-f0ab-4fa7-bc53-d822c4a74cc6"
    },
    {
      "cell_type": "raw",
      "metadata": {
        "raw_mimetype": "text/html"
      },
      "source": [
        "<!-- **Coefficient interpretation for parallel lines models** -->"
      ],
      "id": "8c29ad72-87a9-473f-8c8e-5c9850061795"
    },
    {
      "cell_type": "raw",
      "metadata": {
        "raw_mimetype": "text/html"
      },
      "source": [
        "<!-- --- -->"
      ],
      "id": "bb8181f5-6fa1-44ba-bcca-38c5e61fde5c"
    },
    {
      "cell_type": "raw",
      "metadata": {
        "raw_mimetype": "text/html"
      },
      "source": [
        "<!-- Consider a parallel lines model with numeric regressor $X$ and -->"
      ],
      "id": "c5b2f5cc-961d-4b67-93c6-6e68353530e2"
    },
    {
      "cell_type": "raw",
      "metadata": {
        "raw_mimetype": "text/html"
      },
      "source": [
        "<!-- categorical predictor $C$ with levels $L_1$, $L_2$, and $L_3$. Predictor $C$ -->"
      ],
      "id": "0e1eaa36-a7f4-429d-888b-58be0f7dc187"
    },
    {
      "cell_type": "raw",
      "metadata": {
        "raw_mimetype": "text/html"
      },
      "source": [
        "<!-- must be transformed into two indicator variables, $D_2$ and $D_3$, for -->"
      ],
      "id": "4a1a8b0c-8b68-42c0-afed-e704abb200bb"
    },
    {
      "cell_type": "raw",
      "metadata": {
        "raw_mimetype": "text/html"
      },
      "source": [
        "<!-- category levels $L_2$ and $L_3$, to be included in our linear model. -->"
      ],
      "id": "c3840e26-cb8a-4769-a509-c7b6c5707a7c"
    },
    {
      "cell_type": "raw",
      "metadata": {
        "raw_mimetype": "text/html"
      },
      "source": [
        "<!-- $L_1$ is the reference level. The parallel lines model is formulated as -->"
      ],
      "id": "83629b24-f3fc-457c-a662-2d2f6fa93d7f"
    },
    {
      "cell_type": "raw",
      "metadata": {
        "raw_mimetype": "text/html"
      },
      "source": [
        "<!-- $$ -->"
      ],
      "id": "08312774-d533-4ec2-b2a0-b89af1b3ef3a"
    },
    {
      "cell_type": "raw",
      "metadata": {
        "raw_mimetype": "text/html"
      },
      "source": [
        "<!-- E(Y \\mid X, C) = \\beta_{int} + \\beta_{X} X + \\beta_{L_2} D_2 +  \\beta_{L_3} D_3 -->"
      ],
      "id": "0a50fc94-ade8-4417-bdff-c2d4c3fb9746"
    },
    {
      "cell_type": "raw",
      "metadata": {
        "raw_mimetype": "text/html"
      },
      "source": [
        "<!-- $$  -->"
      ],
      "id": "0e8377e4-f415-477a-9e1b-42668f756efb"
    },
    {
      "cell_type": "raw",
      "metadata": {
        "raw_mimetype": "text/html"
      },
      "source": [
        "<!-- We replaced the usual $\\beta_0$, $\\beta_1$, $\\beta_2$, and -->"
      ],
      "id": "09edd20d-0a48-4e38-8cca-fa315bfa6429"
    },
    {
      "cell_type": "raw",
      "metadata": {
        "raw_mimetype": "text/html"
      },
      "source": [
        "<!-- $\\beta_3$ with notation the indicates the regressor each coefficient is -->"
      ],
      "id": "222f4970-e217-4c76-bdbd-68176e8caaab"
    },
    {
      "cell_type": "raw",
      "metadata": {
        "raw_mimetype": "text/html"
      },
      "source": [
        "<!-- associated with. -->"
      ],
      "id": "e4047f67-cbbc-4bb6-997b-b40d77993dd3"
    },
    {
      "cell_type": "raw",
      "metadata": {
        "raw_mimetype": "text/html"
      },
      "source": [
        "<!-- When an observation has level $L_1$ and $X=0$, then the expected -->"
      ],
      "id": "6830db9b-b31e-4575-a104-76c3c76d5bae"
    },
    {
      "cell_type": "raw",
      "metadata": {
        "raw_mimetype": "text/html"
      },
      "source": [
        "<!-- response is  -->"
      ],
      "id": "09144938-9ede-44e4-8d5a-dac3d794f4d5"
    },
    {
      "cell_type": "raw",
      "metadata": {
        "raw_mimetype": "text/html"
      },
      "source": [
        "<!-- ::: {.content-visible unless-format=\"pdf\"} -->"
      ],
      "id": "12f573fa-a257-4a44-bd9a-078709a17835"
    },
    {
      "cell_type": "raw",
      "metadata": {
        "raw_mimetype": "text/html"
      },
      "source": [
        "<!-- </br>   -->"
      ],
      "id": "0ddfb626-fc18-49f5-b1e9-8729c8afeb32"
    },
    {
      "cell_type": "raw",
      "metadata": {
        "raw_mimetype": "text/html"
      },
      "source": [
        "<!-- </br>   -->"
      ],
      "id": "544b60d1-65b8-48c4-98ca-0652c2a25aaa"
    },
    {
      "cell_type": "raw",
      "metadata": {
        "raw_mimetype": "text/html"
      },
      "source": [
        "<!-- </br>   -->"
      ],
      "id": "20168566-ae24-4c37-b818-1c47286b8cc3"
    },
    {
      "cell_type": "raw",
      "metadata": {
        "raw_mimetype": "text/html"
      },
      "source": [
        "<!-- </br>   -->"
      ],
      "id": "e0fc586c-6b17-4732-92c1-12ae41f9aa83"
    },
    {
      "cell_type": "raw",
      "metadata": {
        "raw_mimetype": "text/html"
      },
      "source": [
        "<!-- </br>   -->"
      ],
      "id": "246b178e-a60c-4877-b8d9-da8fb80610f2"
    },
    {
      "cell_type": "raw",
      "metadata": {
        "raw_mimetype": "text/html"
      },
      "source": [
        "<!-- </br>   -->"
      ],
      "id": "c8d46808-79b0-4af5-8034-5c6217c71726"
    },
    {
      "cell_type": "raw",
      "metadata": {
        "raw_mimetype": "text/html"
      },
      "source": [
        "<!-- </br>   -->"
      ],
      "id": "e33ac260-db6a-4daf-bb64-ccbb95498ee7"
    },
    {
      "cell_type": "raw",
      "metadata": {
        "raw_mimetype": "text/html"
      },
      "source": [
        "<!-- ::: -->"
      ],
      "id": "417b4064-fa67-402c-ad68-9c3612e4decf"
    },
    {
      "cell_type": "raw",
      "metadata": {
        "raw_mimetype": "text/html"
      },
      "source": [
        "<!-- ::: {.content-hidden unless-format=\"pdf\"} -->"
      ],
      "id": "3341c0bb-1dcd-4285-91af-447989d8ff63"
    },
    {
      "cell_type": "raw",
      "metadata": {
        "raw_mimetype": "text/html"
      },
      "source": [
        "<!-- $$ -->"
      ],
      "id": "794359af-6c79-4e9d-92c2-a708aff61b14"
    },
    {
      "cell_type": "raw",
      "metadata": {
        "raw_mimetype": "text/html"
      },
      "source": [
        "<!-- \\begin{aligned} -->"
      ],
      "id": "28635a4e-d23d-4261-8708-ef6578f513da"
    },
    {
      "cell_type": "raw",
      "metadata": {
        "raw_mimetype": "text/html"
      },
      "source": [
        "<!-- E(Y|X = 0, C=L_1) &= \\beta_{int} + \\beta_X \\cdot 0 + \\beta_{L_2} \\cdot 0 + \\beta_{L_3} \\cdot 0 \\\\ -->"
      ],
      "id": "846ea6bf-7e5a-4b49-915e-3420af8858b1"
    },
    {
      "cell_type": "raw",
      "metadata": {
        "raw_mimetype": "text/html"
      },
      "source": [
        "<!-- &= \\beta_{int}. -->"
      ],
      "id": "004c894b-4010-4c6a-84e7-4cf7bc288678"
    },
    {
      "cell_type": "raw",
      "metadata": {
        "raw_mimetype": "text/html"
      },
      "source": [
        "<!-- \\end{aligned} -->"
      ],
      "id": "b69ceb9f-8302-4505-b0eb-eeaff3d2b6a4"
    },
    {
      "cell_type": "raw",
      "metadata": {
        "raw_mimetype": "text/html"
      },
      "source": [
        "<!-- $$  -->"
      ],
      "id": "fe294f7c-a7c2-4c25-ac7c-4ab35b57c8ed"
    },
    {
      "cell_type": "raw",
      "metadata": {
        "raw_mimetype": "text/html"
      },
      "source": [
        "<!-- ::: -->"
      ],
      "id": "8c53ffe9-9881-4da6-9716-cd341638f817"
    },
    {
      "cell_type": "raw",
      "metadata": {
        "raw_mimetype": "text/html"
      },
      "source": [
        "<!-- Thus, $\\beta_{int}$ is the expected response for an observation with -->"
      ],
      "id": "0de8e228-3811-41ce-88c1-47fc4b6ddc09"
    },
    {
      "cell_type": "raw",
      "metadata": {
        "raw_mimetype": "text/html"
      },
      "source": [
        "<!-- level $L_1$ when $X=0$. -->"
      ],
      "id": "6275fac7-0022-4645-a154-d5deecb17873"
    },
    {
      "cell_type": "raw",
      "metadata": {
        "raw_mimetype": "text/html"
      },
      "source": [
        "<!-- When an observation has a fixed level $L_j$ and $X$ increases from $x^*$ to $x^*+1$, then the change in the expected response is  -->"
      ],
      "id": "6ede0b1e-ab4e-43db-967f-32cafaf1c28d"
    },
    {
      "cell_type": "raw",
      "metadata": {
        "raw_mimetype": "text/html"
      },
      "source": [
        "<!-- ::: {.content-visible unless-format=\"pdf\"} -->"
      ],
      "id": "63671558-7eb9-4a50-b070-82839f59d466"
    },
    {
      "cell_type": "raw",
      "metadata": {
        "raw_mimetype": "text/html"
      },
      "source": [
        "<!-- </br>   -->"
      ],
      "id": "e8324b27-2ff3-4aaf-a5b8-ab8a9e5fcd6b"
    },
    {
      "cell_type": "raw",
      "metadata": {
        "raw_mimetype": "text/html"
      },
      "source": [
        "<!-- </br>   -->"
      ],
      "id": "21965c8d-a403-408b-a32f-03cd840253d3"
    },
    {
      "cell_type": "raw",
      "metadata": {
        "raw_mimetype": "text/html"
      },
      "source": [
        "<!-- </br>   -->"
      ],
      "id": "787881a0-b9d1-4609-83fd-b0d685e02e75"
    },
    {
      "cell_type": "raw",
      "metadata": {
        "raw_mimetype": "text/html"
      },
      "source": [
        "<!-- </br>   -->"
      ],
      "id": "af3f6694-252f-43a2-b23a-fabde36c6d3c"
    },
    {
      "cell_type": "raw",
      "metadata": {
        "raw_mimetype": "text/html"
      },
      "source": [
        "<!-- </br>   -->"
      ],
      "id": "35e813f4-78ae-412f-a0c3-6818fbde8d71"
    },
    {
      "cell_type": "raw",
      "metadata": {
        "raw_mimetype": "text/html"
      },
      "source": [
        "<!-- </br>   -->"
      ],
      "id": "3b3e029e-40c4-46c5-bd6c-0f9e4d4b3d21"
    },
    {
      "cell_type": "raw",
      "metadata": {
        "raw_mimetype": "text/html"
      },
      "source": [
        "<!-- </br>   -->"
      ],
      "id": "2e250a7c-57c9-4453-8ca3-a9225cd51f5b"
    },
    {
      "cell_type": "raw",
      "metadata": {
        "raw_mimetype": "text/html"
      },
      "source": [
        "<!-- ::: -->"
      ],
      "id": "7a09bc61-9fd2-4e2b-9aa2-2bc9f9140180"
    },
    {
      "cell_type": "raw",
      "metadata": {
        "raw_mimetype": "text/html"
      },
      "source": [
        "<!-- ::: {.content-hidden unless-format=\"pdf\"} -->"
      ],
      "id": "67ab4596-fa1e-436e-80b5-10069e866d5b"
    },
    {
      "cell_type": "raw",
      "metadata": {
        "raw_mimetype": "text/html"
      },
      "source": [
        "<!-- $$ -->"
      ],
      "id": "5d5e38de-58b2-4905-a689-533fafae949a"
    },
    {
      "cell_type": "raw",
      "metadata": {
        "raw_mimetype": "text/html"
      },
      "source": [
        "<!-- E(Y|X = x^* + 1, C=L_j) - E(Y|X = x^*, C=L_j)= \\beta_X. -->"
      ],
      "id": "c263ec19-67b8-4088-82df-66f8487284b7"
    },
    {
      "cell_type": "raw",
      "metadata": {
        "raw_mimetype": "text/html"
      },
      "source": [
        "<!-- $$  -->"
      ],
      "id": "52b1ae9b-ef7c-4563-928d-02bd7e02fe36"
    },
    {
      "cell_type": "raw",
      "metadata": {
        "raw_mimetype": "text/html"
      },
      "source": [
        "<!-- ::: -->"
      ],
      "id": "03f029c8-0415-43a4-b888-e2cc1bf77ad2"
    },
    {
      "cell_type": "raw",
      "metadata": {
        "raw_mimetype": "text/html"
      },
      "source": [
        "<!-- Thus, $\\beta_X$ is the expected change in the response for an -->"
      ],
      "id": "3e6060f4-d411-4fa3-b1d4-2b088a263b07"
    },
    {
      "cell_type": "raw",
      "metadata": {
        "raw_mimetype": "text/html"
      },
      "source": [
        "<!-- observation with fixed level $L_j$ when $X$ increases by 1 unit. -->"
      ],
      "id": "47538367-22e9-480a-b5f0-3e4044c8518f"
    },
    {
      "cell_type": "raw",
      "metadata": {
        "raw_mimetype": "text/html"
      },
      "source": [
        "<!-- When an observation has level $L_2$, the expected response is  -->"
      ],
      "id": "6fe8fe56-eaf8-425b-9b59-a2c61959dbcc"
    },
    {
      "cell_type": "raw",
      "metadata": {
        "raw_mimetype": "text/html"
      },
      "source": [
        "<!-- ::: {.content-visible unless-format=\"pdf\"} -->"
      ],
      "id": "ae3b1751-8f02-433d-9ff1-dc4e2a569748"
    },
    {
      "cell_type": "raw",
      "metadata": {
        "raw_mimetype": "text/html"
      },
      "source": [
        "<!-- </br>   -->"
      ],
      "id": "53aec1cd-fa8e-40de-9c8b-6c3d8e2e9145"
    },
    {
      "cell_type": "raw",
      "metadata": {
        "raw_mimetype": "text/html"
      },
      "source": [
        "<!-- </br>   -->"
      ],
      "id": "2dbb612e-b167-4225-b85f-6c5295356f9f"
    },
    {
      "cell_type": "raw",
      "metadata": {
        "raw_mimetype": "text/html"
      },
      "source": [
        "<!-- </br>   -->"
      ],
      "id": "0cb41b3f-4eec-4f3d-8d97-5ff5ec7c0bda"
    },
    {
      "cell_type": "raw",
      "metadata": {
        "raw_mimetype": "text/html"
      },
      "source": [
        "<!-- </br>   -->"
      ],
      "id": "8abdeb5b-46e7-43a5-a877-5516a2bbc4f4"
    },
    {
      "cell_type": "raw",
      "metadata": {
        "raw_mimetype": "text/html"
      },
      "source": [
        "<!-- </br>   -->"
      ],
      "id": "e7007b57-0732-47b8-a9c5-5aa3b7e981db"
    },
    {
      "cell_type": "raw",
      "metadata": {
        "raw_mimetype": "text/html"
      },
      "source": [
        "<!-- </br>   -->"
      ],
      "id": "ab9093b9-d6e5-4f59-af9e-78e24f4de34b"
    },
    {
      "cell_type": "raw",
      "metadata": {
        "raw_mimetype": "text/html"
      },
      "source": [
        "<!-- </br>   -->"
      ],
      "id": "99d7c524-e156-4c59-855b-59cb7ca7050a"
    },
    {
      "cell_type": "raw",
      "metadata": {
        "raw_mimetype": "text/html"
      },
      "source": [
        "<!-- </br>   -->"
      ],
      "id": "2b375f36-dedf-4fab-bd6e-884b6749cd51"
    },
    {
      "cell_type": "raw",
      "metadata": {
        "raw_mimetype": "text/html"
      },
      "source": [
        "<!-- </br>   -->"
      ],
      "id": "eba6e42d-25ba-40bc-9cd7-d72f8a40d0b9"
    },
    {
      "cell_type": "raw",
      "metadata": {
        "raw_mimetype": "text/html"
      },
      "source": [
        "<!-- </br>   -->"
      ],
      "id": "4e5292ee-6274-4a86-9c05-e17565c7b809"
    },
    {
      "cell_type": "raw",
      "metadata": {
        "raw_mimetype": "text/html"
      },
      "source": [
        "<!-- ::: -->"
      ],
      "id": "61dbb6bf-74c6-471e-ba96-8ee239aa9c1a"
    },
    {
      "cell_type": "raw",
      "metadata": {
        "raw_mimetype": "text/html"
      },
      "source": [
        "<!-- ::: {.content-hidden unless-format=\"pdf\"} -->"
      ],
      "id": "a0bdbbef-5281-4c21-a90e-4873041375ff"
    },
    {
      "cell_type": "raw",
      "metadata": {
        "raw_mimetype": "text/html"
      },
      "source": [
        "<!-- $$ -->"
      ],
      "id": "90beef99-4b59-499a-9cde-1e8113f2c5d9"
    },
    {
      "cell_type": "raw",
      "metadata": {
        "raw_mimetype": "text/html"
      },
      "source": [
        "<!-- \\begin{aligned} -->"
      ],
      "id": "33378bb8-c4b1-4dc9-acbf-0d8dacae15a1"
    },
    {
      "cell_type": "raw",
      "metadata": {
        "raw_mimetype": "text/html"
      },
      "source": [
        "<!-- E(Y\\mid X = x^*, C=L_2) &= \\beta_{int} + \\beta_X x^* + \\beta_{L_2} \\cdot 1 + \\beta_{L_3} \\cdot 0 \\\\ -->"
      ],
      "id": "e2d21206-9140-448e-b5a8-ce4a40494ea8"
    },
    {
      "cell_type": "raw",
      "metadata": {
        "raw_mimetype": "text/html"
      },
      "source": [
        "<!-- &= \\beta_{int} + \\beta_X x^* + \\beta_{L_2}. -->"
      ],
      "id": "c5b31fe3-f202-4406-9cfd-a8d50ad505a3"
    },
    {
      "cell_type": "raw",
      "metadata": {
        "raw_mimetype": "text/html"
      },
      "source": [
        "<!-- \\end{aligned} -->"
      ],
      "id": "7ccc23dd-2bcf-41f4-b8b4-f2ac0e35f179"
    },
    {
      "cell_type": "raw",
      "metadata": {
        "raw_mimetype": "text/html"
      },
      "source": [
        "<!-- $$  -->"
      ],
      "id": "abebd4d9-d02c-4efa-95dd-b777fd254ec9"
    },
    {
      "cell_type": "raw",
      "metadata": {
        "raw_mimetype": "text/html"
      },
      "source": [
        "<!-- Thus,  -->"
      ],
      "id": "b70b596f-3e5f-4111-a89d-687a7144181f"
    },
    {
      "cell_type": "raw",
      "metadata": {
        "raw_mimetype": "text/html"
      },
      "source": [
        "<!-- $$ -->"
      ],
      "id": "106df272-eb2d-4511-bf52-4f9bcad1e5df"
    },
    {
      "cell_type": "raw",
      "metadata": {
        "raw_mimetype": "text/html"
      },
      "source": [
        "<!-- \\begin{aligned} -->"
      ],
      "id": "8fa991f1-2363-4585-a0a1-8f2f2490ed53"
    },
    {
      "cell_type": "raw",
      "metadata": {
        "raw_mimetype": "text/html"
      },
      "source": [
        "<!-- & E(Y\\mid X=x^*, C=L_2) - E(Y\\mid X=x^*, C=L_1) \\\\ -->"
      ],
      "id": "ff6ca501-fea4-4bed-97cc-21d6b8286a6e"
    },
    {
      "cell_type": "raw",
      "metadata": {
        "raw_mimetype": "text/html"
      },
      "source": [
        "<!-- &= (\\beta_{int} + \\beta_X x^* + \\beta_{L_2}) - (\\beta_{int} + \\beta_X x^*) \\\\ -->"
      ],
      "id": "68a7934a-f8cf-4438-bc1f-f15bf5cfc40c"
    },
    {
      "cell_type": "raw",
      "metadata": {
        "raw_mimetype": "text/html"
      },
      "source": [
        "<!-- &=  \\beta_{L_2}. -->"
      ],
      "id": "cdebe640-0dfd-4384-88fc-ed7b31edbeec"
    },
    {
      "cell_type": "raw",
      "metadata": {
        "raw_mimetype": "text/html"
      },
      "source": [
        "<!-- \\end{aligned} -->"
      ],
      "id": "968d8596-9df6-49d4-b653-2e0c24fdfed1"
    },
    {
      "cell_type": "raw",
      "metadata": {
        "raw_mimetype": "text/html"
      },
      "source": [
        "<!-- $$  -->"
      ],
      "id": "56483731-16ee-4e0c-911d-a188975c0708"
    },
    {
      "cell_type": "raw",
      "metadata": {
        "raw_mimetype": "text/html"
      },
      "source": [
        "<!-- ::: -->"
      ],
      "id": "27b042cd-595a-4208-89d9-d519cedf26b6"
    },
    {
      "cell_type": "raw",
      "metadata": {
        "raw_mimetype": "text/html"
      },
      "source": [
        "<!-- Thus, $\\beta_{L_2}$ is the expected change in the response for a -->"
      ],
      "id": "dfef7bb3-7ba7-4c54-82ef-a8495ab4bd22"
    },
    {
      "cell_type": "raw",
      "metadata": {
        "raw_mimetype": "text/html"
      },
      "source": [
        "<!-- fixed value of $X$ when comparing on observation having level $L_1$ to -->"
      ],
      "id": "99397e5d-ea96-4f36-b335-b53dd8eb333b"
    },
    {
      "cell_type": "raw",
      "metadata": {
        "raw_mimetype": "text/html"
      },
      "source": [
        "<!-- level $L_2$ of predictor $C$. More specifically, $\\beta_{L_2}$ indicates -->"
      ],
      "id": "5322557f-6ec8-494a-9929-1daa0eb9ad58"
    },
    {
      "cell_type": "raw",
      "metadata": {
        "raw_mimetype": "text/html"
      },
      "source": [
        "<!-- the distance between the estimated regression lines for observations -->"
      ],
      "id": "93064460-a6e8-4092-a97a-ea85501edcb9"
    },
    {
      "cell_type": "raw",
      "metadata": {
        "raw_mimetype": "text/html"
      },
      "source": [
        "<!-- having levels $L_1$ and $L_2$.  -->"
      ],
      "id": "30ad9ed5-a1dd-4b79-a644-f4d3542935bb"
    },
    {
      "cell_type": "raw",
      "metadata": {
        "raw_mimetype": "text/html"
      },
      "source": [
        "<!-- To summarize, assuming categorical predictor $C$ has $K$ levels instead of 3: -->"
      ],
      "id": "1b05cc41-7a4c-4453-8344-6db6bd5ee23d"
    },
    {
      "cell_type": "raw",
      "metadata": {
        "raw_mimetype": "text/html"
      },
      "source": [
        "<!-- -   $\\beta_{int}$ represents the expected response for observations -->"
      ],
      "id": "259dcc9d-10fe-4dff-aae9-b7f613b702a4"
    },
    {
      "cell_type": "raw",
      "metadata": {
        "raw_mimetype": "text/html"
      },
      "source": [
        "<!--     having the reference level when the numeric regressor $X = 0$. -->"
      ],
      "id": "50228aac-fcf1-467f-99ea-51dfc21bda3a"
    },
    {
      "cell_type": "raw",
      "metadata": {
        "raw_mimetype": "text/html"
      },
      "source": [
        "<!-- -   $\\beta_X$ is the expected change in the response when $X$ increases -->"
      ],
      "id": "c2109ac3-957e-4ff7-b66d-74ab9285aafa"
    },
    {
      "cell_type": "raw",
      "metadata": {
        "raw_mimetype": "text/html"
      },
      "source": [
        "<!--     by 1 unit for a fixed level of $C$. -->"
      ],
      "id": "ea5a22f0-8830-4b0e-9564-2ac3c999bf4d"
    },
    {
      "cell_type": "raw",
      "metadata": {
        "raw_mimetype": "text/html"
      },
      "source": [
        "<!-- -   $\\beta_{L_j}$, for $j=2,\\ldots,K$, represents the expected change in -->"
      ],
      "id": "82a82b66-8835-4e7b-931f-c5228fe43e2c"
    },
    {
      "cell_type": "raw",
      "metadata": {
        "raw_mimetype": "text/html"
      },
      "source": [
        "<!--     the response when comparing observations having level $L_1$ and -->"
      ],
      "id": "9aa00cb2-4e18-4dca-860c-624d2ec140c8"
    },
    {
      "cell_type": "raw",
      "metadata": {
        "raw_mimetype": "text/html"
      },
      "source": [
        "<!--     $L_j$ with $X$ fixed at the same value. -->"
      ],
      "id": "5cb66894-f8f1-467d-b843-d9b8e0339bf9"
    },
    {
      "cell_type": "raw",
      "metadata": {
        "raw_mimetype": "text/html"
      },
      "source": [
        "<!-- We previously fit a parallel lines model to the `penguins` data that used both `body_mass_g` and `species` to explain the behavior of `bill_length_mm`. Letting $D_C$ denote the indicator variable for the `Chinstrap` level and $D_G$ denote the indicator variable for the `Gentoo` level, the fitted parallel lines model was  -->"
      ],
      "id": "5eab89a1-4907-450e-87c6-e70a20871d66"
    },
    {
      "cell_type": "raw",
      "metadata": {
        "raw_mimetype": "text/html"
      },
      "source": [
        "<!-- $$ -->"
      ],
      "id": "f6b15b58-3f93-4604-8bab-11fa897d6b81"
    },
    {
      "cell_type": "raw",
      "metadata": {
        "raw_mimetype": "text/html"
      },
      "source": [
        "<!-- \\begin{aligned} -->"
      ],
      "id": "fbe95e6f-1415-4e0b-a03c-0762d79d7c9e"
    },
    {
      "cell_type": "raw",
      "metadata": {
        "raw_mimetype": "text/html"
      },
      "source": [
        "<!-- &\\hat{E}(\\mathtt{bill\\_length\\_mm} \\mid \\mathtt{body\\_mass\\_g}, \\mathtt{species})\\\\ -->"
      ],
      "id": "0f41328d-19cd-48aa-9b61-03960482c7b7"
    },
    {
      "cell_type": "raw",
      "metadata": {
        "raw_mimetype": "text/html"
      },
      "source": [
        "<!-- &= 24.92 + 0.004 \\mathtt{body\\_mass\\_g} + 9.92 D_C + 3.56 D_G. -->"
      ],
      "id": "4398ce25-397f-4b59-94c4-e40a7371ae13"
    },
    {
      "cell_type": "raw",
      "metadata": {
        "raw_mimetype": "text/html"
      },
      "source": [
        "<!-- \\end{aligned} -->"
      ],
      "id": "46331d21-0f16-4d3e-8477-292aae9ff337"
    },
    {
      "cell_type": "raw",
      "metadata": {
        "raw_mimetype": "text/html"
      },
      "source": [
        "<!-- $$  -->"
      ],
      "id": "ebbdf7c2-14d9-44c6-b5a8-25e1bc989aa5"
    },
    {
      "cell_type": "raw",
      "metadata": {
        "raw_mimetype": "text/html"
      },
      "source": [
        "<!-- In the context of this model: -->"
      ],
      "id": "9c8ba826-9fc9-471d-890b-12b1c4a35336"
    },
    {
      "cell_type": "raw",
      "metadata": {
        "raw_mimetype": "text/html"
      },
      "source": [
        "<!-- -   The expected bill length for an Adelie penguin with a body mass of 0 -->"
      ],
      "id": "d982a72c-a3a1-4ec1-bdcf-a765733a3185"
    },
    {
      "cell_type": "raw",
      "metadata": {
        "raw_mimetype": "text/html"
      },
      "source": [
        "<!--     grams is 24.92 mm. -->"
      ],
      "id": "f0d6d3fa-04e1-4820-af90-8291d817a0db"
    },
    {
      "cell_type": "raw",
      "metadata": {
        "raw_mimetype": "text/html"
      },
      "source": [
        "<!-- -   If two penguins are of the same species, but one penguin has a body -->"
      ],
      "id": "f47c81dc-b18e-4867-bcfa-6b2453fd1898"
    },
    {
      "cell_type": "raw",
      "metadata": {
        "raw_mimetype": "text/html"
      },
      "source": [
        "<!--     mass 1 gram larger, then the larger penguin is expected to have a -->"
      ],
      "id": "179064ff-c8d7-4cd9-808d-02e31ddd7402"
    },
    {
      "cell_type": "raw",
      "metadata": {
        "raw_mimetype": "text/html"
      },
      "source": [
        "<!--     bill length 0.004 mm longer than the smaller penguin. -->"
      ],
      "id": "82c5674c-c3a6-4863-b851-80199c4bea2b"
    },
    {
      "cell_type": "raw",
      "metadata": {
        "raw_mimetype": "text/html"
      },
      "source": [
        "<!-- -   A Chinstrap penguin is expected to have a bill length 9.92 mm longer -->"
      ],
      "id": "210dd55d-73c2-4ddf-9340-8b17446ecff4"
    },
    {
      "cell_type": "raw",
      "metadata": {
        "raw_mimetype": "text/html"
      },
      "source": [
        "<!--     than an Adelie penguin, assuming their body mass is the same. -->"
      ],
      "id": "7d0a15a8-220f-4b3a-8a9e-49e33acba8ed"
    },
    {
      "cell_type": "raw",
      "metadata": {
        "raw_mimetype": "text/html"
      },
      "source": [
        "<!-- -   A Gentoo penguin is expected to have a bill length 3.56 mm longer -->"
      ],
      "id": "836a824d-8941-4698-9097-eb0333382e55"
    },
    {
      "cell_type": "raw",
      "metadata": {
        "raw_mimetype": "text/html"
      },
      "source": [
        "<!--     than an Adelie penguin, assuming their body mass is the same. -->"
      ],
      "id": "ead4eb28-94b7-4492-a07e-594c81fa38e9"
    },
    {
      "cell_type": "raw",
      "metadata": {
        "raw_mimetype": "text/html"
      },
      "source": [
        "<!-- **Effect plots for fitted models with non-interacting categorical predictors** -->"
      ],
      "id": "559b22da-dd83-434f-848b-b783e2c2bd78"
    },
    {
      "cell_type": "raw",
      "metadata": {
        "raw_mimetype": "text/html"
      },
      "source": [
        "<!-- --- -->"
      ],
      "id": "54af1602-3fee-4f9c-ab43-7dad568e664e"
    },
    {
      "cell_type": "raw",
      "metadata": {
        "raw_mimetype": "text/html"
      },
      "source": [
        "<!-- How do we create an effect plot for a numeric focal predictor when a -->"
      ],
      "id": "a7b3d0c5-61e6-446b-9caa-8229eed13d34"
    },
    {
      "cell_type": "raw",
      "metadata": {
        "raw_mimetype": "text/html"
      },
      "source": [
        "<!-- non-interacting categorical predictor is in the model (such as for the -->"
      ],
      "id": "c675512f-13d3-4d18-928a-09c4698cf28f"
    },
    {
      "cell_type": "raw",
      "metadata": {
        "raw_mimetype": "text/html"
      },
      "source": [
        "<!-- parallel lines model we have been discussing)?  -->"
      ],
      "id": "1951218f-a21c-493f-9192-a04ff2f369ab"
    },
    {
      "cell_type": "raw",
      "metadata": {
        "raw_mimetype": "text/html"
      },
      "source": [
        "<!-- - First, determine the fitted model as a function of the focal predictor for each level of the categorical predictor.  -->"
      ],
      "id": "5d3e8d4e-5913-4ac0-9f18-1bc47c298b08"
    },
    {
      "cell_type": "raw",
      "metadata": {
        "raw_mimetype": "text/html"
      },
      "source": [
        "<!-- - Then, we compute the weighted average of the equation with the weights being proportional to the number of observations in each group. -->"
      ],
      "id": "dbcbdbbc-bccd-4857-8f33-d854a7ade79b"
    },
    {
      "cell_type": "raw",
      "metadata": {
        "raw_mimetype": "text/html"
      },
      "source": [
        "<!-- Let's construct an effect plot for the `body_mass_g` predictor in the -->"
      ],
      "id": "c32f90a7-623a-4b8a-a488-bd2ffca396cf"
    },
    {
      "cell_type": "raw",
      "metadata": {
        "raw_mimetype": "text/html"
      },
      "source": [
        "<!-- context of the `penguins` parallel lines model discussed in the previous -->"
      ],
      "id": "e97648d5-d83e-4719-9ee7-b3ca6b3d47a6"
    },
    {
      "cell_type": "raw",
      "metadata": {
        "raw_mimetype": "text/html"
      },
      "source": [
        "<!-- section. We previously determined that the fitted parallel lines model simplified to: -->"
      ],
      "id": "05e86463-1194-4100-800f-c88b799dc40c"
    },
    {
      "cell_type": "raw",
      "metadata": {
        "raw_mimetype": "text/html"
      },
      "source": [
        "<!-- $$ -->"
      ],
      "id": "e87bfb56-4b15-4311-9a74-971a2c1a60a9"
    },
    {
      "cell_type": "raw",
      "metadata": {
        "raw_mimetype": "text/html"
      },
      "source": [
        "<!-- \\begin{aligned} -->"
      ],
      "id": "2cf9dbf8-f7ff-4cf0-9d69-85c9240ee0e3"
    },
    {
      "cell_type": "raw",
      "metadata": {
        "raw_mimetype": "text/html"
      },
      "source": [
        "<!-- &\\hat{E}(\\mathtt{bill\\_length\\_mm} \\mid \\mathtt{body\\_mass\\_g}, \\mathtt{species}=\\mathtt{Adelie}) \\\\ -->"
      ],
      "id": "7d900029-e215-4ab1-9968-2a0d510ac989"
    },
    {
      "cell_type": "raw",
      "metadata": {
        "raw_mimetype": "text/html"
      },
      "source": [
        "<!-- &= 24.92 + 0.004 \\mathtt{body\\_mass\\_g} \\\\ -->"
      ],
      "id": "92b6f479-477e-4782-8d47-faaf00f46b05"
    },
    {
      "cell_type": "raw",
      "metadata": {
        "raw_mimetype": "text/html"
      },
      "source": [
        "<!-- &\\hat{E}(\\mathtt{bill\\_length\\_mm} \\mid \\mathtt{body\\_mass\\_g}, \\mathtt{species}=\\mathtt{Chinstrap}) \\\\ -->"
      ],
      "id": "72b2c229-1428-45fb-a3d9-985cdf25e3fa"
    },
    {
      "cell_type": "raw",
      "metadata": {
        "raw_mimetype": "text/html"
      },
      "source": [
        "<!-- &= 34.84 + 0.004 \\mathtt{body\\_mass\\_g} \\\\ -->"
      ],
      "id": "b0d2893b-80d0-493e-8be8-1b7df76db98f"
    },
    {
      "cell_type": "raw",
      "metadata": {
        "raw_mimetype": "text/html"
      },
      "source": [
        "<!-- &\\hat{E}(\\mathtt{bill\\_length\\_mm} \\mid \\mathtt{body\\_mass\\_g}, \\mathtt{species}=\\mathtt{Gentoo}) \\\\ -->"
      ],
      "id": "896288cc-6469-4ac0-a10e-80af3f0f01b6"
    },
    {
      "cell_type": "raw",
      "metadata": {
        "raw_mimetype": "text/html"
      },
      "source": [
        "<!-- &= 28.48 + 0.004 \\mathtt{body\\_mass\\_g}. -->"
      ],
      "id": "2f4d0e96-82c3-4b30-aa89-203a8d32b3c4"
    },
    {
      "cell_type": "raw",
      "metadata": {
        "raw_mimetype": "text/html"
      },
      "source": [
        "<!-- \\end{aligned} -->"
      ],
      "id": "c777f476-0d58-48e3-8a01-9072e8f7f480"
    },
    {
      "cell_type": "raw",
      "metadata": {
        "raw_mimetype": "text/html"
      },
      "source": [
        "<!-- $$  -->"
      ],
      "id": "6011ab4f-0d0e-43a5-aeda-4e641e07e14d"
    },
    {
      "cell_type": "raw",
      "metadata": {
        "raw_mimetype": "text/html"
      },
      "source": [
        "<!-- We recreate the fitted model producing these equations in R using the -->"
      ],
      "id": "ebf5e3da-bfea-48fc-aa45-726a28331eab"
    },
    {
      "cell_type": "raw",
      "metadata": {
        "raw_mimetype": "text/html"
      },
      "source": [
        "<!-- code below. -->"
      ],
      "id": "939779f2-3697-4bf8-925b-4246c0f7f05f"
    },
    {
      "cell_type": "raw",
      "metadata": {
        "raw_mimetype": "text/html"
      },
      "source": [
        "<!-- ```{r} -->"
      ],
      "id": "d8b7b784-64dc-4e42-807d-7f69c114137d"
    },
    {
      "cell_type": "raw",
      "metadata": {
        "raw_mimetype": "text/html"
      },
      "source": [
        "<!-- # refit the parallel lines model -->"
      ],
      "id": "5bd30b0e-38fd-49f6-8b5f-f94caa8a7651"
    },
    {
      "cell_type": "raw",
      "metadata": {
        "raw_mimetype": "text/html"
      },
      "source": [
        "<!-- lmodp <- lm(bill_length_mm ~ body_mass_g + species, data = penguins) -->"
      ],
      "id": "71fbdffc-60c6-4963-a42f-bb6cd8bc4450"
    },
    {
      "cell_type": "raw",
      "metadata": {
        "raw_mimetype": "text/html"
      },
      "source": [
        "<!-- # double-check coefficients -->"
      ],
      "id": "1a2bd37f-606c-4daa-adf0-3cf25c640966"
    },
    {
      "cell_type": "raw",
      "metadata": {
        "raw_mimetype": "text/html"
      },
      "source": [
        "<!-- coef(lmodp) -->"
      ],
      "id": "98e52828-fbcb-4f1b-ac2a-34f292bb4c57"
    },
    {
      "cell_type": "raw",
      "metadata": {
        "raw_mimetype": "text/html"
      },
      "source": [
        "<!-- ``` -->"
      ],
      "id": "6dc7534b-074b-42c5-8e1b-e05aecf7f436"
    },
    {
      "cell_type": "raw",
      "metadata": {
        "raw_mimetype": "text/html"
      },
      "source": [
        "<!-- The code below determines the number of observations with each level of -->"
      ],
      "id": "1f26f493-7698-4aa0-af6e-4e101b389619"
    },
    {
      "cell_type": "raw",
      "metadata": {
        "raw_mimetype": "text/html"
      },
      "source": [
        "<!-- `species` for the data used in the fitted model `lmodp`.  -->"
      ],
      "id": "dd615511-9a3d-4ff0-9ba0-62e51a5edb0c"
    },
    {
      "cell_type": "raw",
      "metadata": {
        "raw_mimetype": "text/html"
      },
      "source": [
        "<!-- ```{r} -->"
      ],
      "id": "9a95f792-cb6a-47d7-a56e-ff8b632b5361"
    },
    {
      "cell_type": "raw",
      "metadata": {
        "raw_mimetype": "text/html"
      },
      "source": [
        "<!-- table(lmodp$model$species) -->"
      ],
      "id": "cb56a6dc-2432-47ea-b8a9-4038b0c2ee1e"
    },
    {
      "cell_type": "raw",
      "metadata": {
        "raw_mimetype": "text/html"
      },
      "source": [
        "<!-- print(paste('Total:', length(lmodp$model$species))) -->"
      ],
      "id": "60db590d-485a-4666-869b-da3488ea2e33"
    },
    {
      "cell_type": "raw",
      "metadata": {
        "raw_mimetype": "text/html"
      },
      "source": [
        "<!-- ``` -->"
      ],
      "id": "22a66153-ce89-49e1-948c-a07d21f4e0fa"
    },
    {
      "cell_type": "raw",
      "metadata": {
        "raw_mimetype": "text/html"
      },
      "source": [
        "<!-- The equation used to create the effect plot of `body_mass_g` is the -->"
      ],
      "id": "0579f7c8-821f-4fad-a81a-6b7ddd33ab69"
    },
    {
      "cell_type": "raw",
      "metadata": {
        "raw_mimetype": "text/html"
      },
      "source": [
        "<!-- weighted average of the response, with weights proportional to the number of observational having each level of the categorical predictor. Specifically,  -->"
      ],
      "id": "56c60450-b09d-45f9-a7b4-a292f03f0102"
    },
    {
      "cell_type": "raw",
      "metadata": {
        "raw_mimetype": "text/html"
      },
      "source": [
        "<!-- $$ -->"
      ],
      "id": "f840e624-bebd-485d-8916-d9b9eb41b390"
    },
    {
      "cell_type": "raw",
      "metadata": {
        "raw_mimetype": "text/html"
      },
      "source": [
        "<!-- \\begin{aligned} -->"
      ],
      "id": "089855e1-742f-4dc4-9e04-80fe99898f96"
    },
    {
      "cell_type": "raw",
      "metadata": {
        "raw_mimetype": "text/html"
      },
      "source": [
        "<!-- & \\hat{E}(\\mathtt{bill\\_length\\_mm} \\mid \\mathtt{body\\_mass\\_g}, \\mathtt{species}=\\mathtt{typical}) \\\\ -->"
      ],
      "id": "1102c8d8-527c-4661-bd7f-907107aaa881"
    },
    {
      "cell_type": "raw",
      "metadata": {
        "raw_mimetype": "text/html"
      },
      "source": [
        "<!-- &= \\frac{151}{342}(24.92 + 0.004 \\mathtt{body\\_mass\\_g})\\\\ -->"
      ],
      "id": "fe1eace4-caef-4f04-a33b-1f29ae58236a"
    },
    {
      "cell_type": "raw",
      "metadata": {
        "raw_mimetype": "text/html"
      },
      "source": [
        "<!-- &\\quad + \\frac{68}{342}(34.84 + 0.004 \\mathtt{body\\_mass\\_g})\\\\ -->"
      ],
      "id": "cf852e75-7998-4299-bc2a-852ba047830b"
    },
    {
      "cell_type": "raw",
      "metadata": {
        "raw_mimetype": "text/html"
      },
      "source": [
        "<!-- &\\quad + \\frac{123}{342}(28.48 + 0.004 \\mathtt{body\\_mass\\_g}) \\\\ -->"
      ],
      "id": "fa394810-1cc6-4a9c-94fb-11bdc58abd2a"
    },
    {
      "cell_type": "raw",
      "metadata": {
        "raw_mimetype": "text/html"
      },
      "source": [
        "<!-- &=28.17 + 0.004 \\mathtt{body\\_mass\\_g}. -->"
      ],
      "id": "a6f2c026-af8a-4044-9078-963c1951bb08"
    },
    {
      "cell_type": "raw",
      "metadata": {
        "raw_mimetype": "text/html"
      },
      "source": [
        "<!-- \\end{aligned} -->"
      ],
      "id": "d0c9e4a6-313c-4e9f-bb62-90d5d7c9d3a0"
    },
    {
      "cell_type": "raw",
      "metadata": {
        "raw_mimetype": "text/html"
      },
      "source": [
        "<!-- $$  -->"
      ],
      "id": "45c21499-7ecd-452b-96cf-8d4e9f8f2068"
    },
    {
      "cell_type": "raw",
      "metadata": {
        "raw_mimetype": "text/html"
      },
      "source": [
        "<!-- The following code produces the effect plot for `body_mass_g` for the fitted parallel lines model. The association between `bill_length_mm` and `body_mass_g` is positive after accounting for `species`. -->"
      ],
      "id": "2b5d109f-150b-49c9-9b5c-99470bb2bd84"
    },
    {
      "cell_type": "raw",
      "metadata": {
        "raw_mimetype": "text/html"
      },
      "source": [
        "<!-- ```{r} -->"
      ],
      "id": "17bb802f-8215-48ff-8d69-a69c5cfb09c2"
    },
    {
      "cell_type": "raw",
      "metadata": {
        "raw_mimetype": "text/html"
      },
      "source": [
        "<!-- # draw effect plot for body_mass_g -->"
      ],
      "id": "fd6b7cff-d4f2-4a02-b61c-aeb9beb45780"
    },
    {
      "cell_type": "raw",
      "metadata": {
        "raw_mimetype": "text/html"
      },
      "source": [
        "<!-- plot(predictorEffect(\"body_mass_g\", lmodp)) -->"
      ],
      "id": "a5af9374-bc1d-4bf9-b8c7-168604a6c0cb"
    },
    {
      "cell_type": "raw",
      "metadata": {
        "raw_mimetype": "text/html"
      },
      "source": [
        "<!-- ``` -->"
      ],
      "id": "b2ec0341-3eee-4fba-875d-d353bbe581ef"
    },
    {
      "cell_type": "raw",
      "metadata": {
        "raw_mimetype": "text/html"
      },
      "source": [
        "<!-- An effect plot for a categorical predictor, assuming all other -->"
      ],
      "id": "379eb39f-dfdf-4a09-a243-a545d3f4300e"
    },
    {
      "cell_type": "raw",
      "metadata": {
        "raw_mimetype": "text/html"
      },
      "source": [
        "<!-- predictors in the model are non-interacting numerical predictors (i.e., -->"
      ],
      "id": "3c47aebb-bc6c-47df-9a27-c8edd958d1d4"
    },
    {
      "cell_type": "raw",
      "metadata": {
        "raw_mimetype": "text/html"
      },
      "source": [
        "<!-- fixed group predictors), is a plot of the estimated mean response for -->"
      ],
      "id": "33f08c2b-c8c6-4465-aded-ce501439a928"
    },
    {
      "cell_type": "raw",
      "metadata": {
        "raw_mimetype": "text/html"
      },
      "source": [
        "<!-- each level of the categorical variable when the fixed group group -->"
      ],
      "id": "d1c8293a-80fa-4b3e-a936-e138fec0de88"
    },
    {
      "cell_type": "raw",
      "metadata": {
        "raw_mimetype": "text/html"
      },
      "source": [
        "<!-- predictors are held at their sample mean. The sample mean is: -->"
      ],
      "id": "bb188d65-ef38-4bc4-89c5-f4ab2b0c9d2e"
    },
    {
      "cell_type": "raw",
      "metadata": {
        "raw_mimetype": "text/html"
      },
      "source": [
        "<!-- ```{r} -->"
      ],
      "id": "a94ecbb9-2f27-4e4d-983a-113c27b93541"
    },
    {
      "cell_type": "raw",
      "metadata": {
        "raw_mimetype": "text/html"
      },
      "source": [
        "<!-- # sample mean of body_mass_g variable used to fit lmodp -->"
      ],
      "id": "9f1b69ed-ca91-49fb-bab8-6c3dfb24c682"
    },
    {
      "cell_type": "raw",
      "metadata": {
        "raw_mimetype": "text/html"
      },
      "source": [
        "<!-- mean(lmodp$model$body_mass_g) -->"
      ],
      "id": "94073648-5bb2-4e68-938b-24b4ef74a76b"
    },
    {
      "cell_type": "raw",
      "metadata": {
        "raw_mimetype": "text/html"
      },
      "source": [
        "<!-- ``` -->"
      ],
      "id": "772ba69f-d799-4ec5-9816-fad08780c22a"
    },
    {
      "cell_type": "raw",
      "metadata": {
        "raw_mimetype": "text/html"
      },
      "source": [
        "<!-- The estimated mean for the Adelie species when `body_mass_g` is fixed at 4201.75 is -->"
      ],
      "id": "7ab8841e-613f-411f-8f31-d19314e24acd"
    },
    {
      "cell_type": "raw",
      "metadata": {
        "raw_mimetype": "text/html"
      },
      "source": [
        "<!-- $$ -->"
      ],
      "id": "c95ed02d-4033-4722-9f08-f4b2647486cd"
    },
    {
      "cell_type": "raw",
      "metadata": {
        "raw_mimetype": "text/html"
      },
      "source": [
        "<!-- \\begin{aligned} -->"
      ],
      "id": "924af7e6-4be8-4026-a249-7375b060626e"
    },
    {
      "cell_type": "raw",
      "metadata": {
        "raw_mimetype": "text/html"
      },
      "source": [
        "<!-- &\\hat{E}(\\mathtt{bill\\_length\\_mm} \\mid \\mathtt{body\\_mass\\_g} = 4201.75, \\mathtt{species}=\\mathtt{Adelie}) \\\\ -->"
      ],
      "id": "32f706b4-0aec-4dcf-908c-6a158313c928"
    },
    {
      "cell_type": "raw",
      "metadata": {
        "raw_mimetype": "text/html"
      },
      "source": [
        "<!-- &= 24.92 + 0.004 \\cdot 4201.75 \\\\ -->"
      ],
      "id": "52c0c4e1-cd69-4dc8-8d3a-320985bfa03e"
    },
    {
      "cell_type": "raw",
      "metadata": {
        "raw_mimetype": "text/html"
      },
      "source": [
        "<!-- &= 40.67. -->"
      ],
      "id": "ecd47b31-a312-43ff-b3ae-aef723233f98"
    },
    {
      "cell_type": "raw",
      "metadata": {
        "raw_mimetype": "text/html"
      },
      "source": [
        "<!-- \\end{aligned} -->"
      ],
      "id": "9849a628-fcce-49a5-8c6c-8f65c87e5e96"
    },
    {
      "cell_type": "raw",
      "metadata": {
        "raw_mimetype": "text/html"
      },
      "source": [
        "<!-- $$  -->"
      ],
      "id": "0338a291-2889-4825-94c1-54ad73114ded"
    },
    {
      "cell_type": "raw",
      "metadata": {
        "raw_mimetype": "text/html"
      },
      "source": [
        "<!-- Similarly, -->"
      ],
      "id": "6ca89005-ce76-4a2e-9939-2d617c258d64"
    },
    {
      "cell_type": "raw",
      "metadata": {
        "raw_mimetype": "text/html"
      },
      "source": [
        "<!-- $$ -->"
      ],
      "id": "29be894c-35a6-4b5f-9020-b4a0eac4a032"
    },
    {
      "cell_type": "raw",
      "metadata": {
        "raw_mimetype": "text/html"
      },
      "source": [
        "<!-- \\hat{E}(\\mathtt{bill\\_length\\_mm} \\mid \\mathtt{body\\_mass\\_g} = 4201.75, \\mathtt{species}=\\mathtt{Chinstrap}) = 50.59 -->"
      ],
      "id": "4243c7a4-9952-4dec-9dff-d8dda7a09635"
    },
    {
      "cell_type": "raw",
      "metadata": {
        "raw_mimetype": "text/html"
      },
      "source": [
        "<!-- $$ -->"
      ],
      "id": "151ac84a-e5ab-443f-901c-ab75e0a58f06"
    },
    {
      "cell_type": "raw",
      "metadata": {
        "raw_mimetype": "text/html"
      },
      "source": [
        "<!-- And, -->"
      ],
      "id": "cccf3878-b545-4bec-9351-611a4a1357ee"
    },
    {
      "cell_type": "raw",
      "metadata": {
        "raw_mimetype": "text/html"
      },
      "source": [
        "<!-- $$\\hat{E}(\\mathtt{bill\\_length\\_mm} \\mid \\mathtt{body\\_mass\\_g} = 4201.75, \\mathtt{species}=\\mathtt{Gentoo}) = 44.23$$ -->"
      ],
      "id": "7ad4dccb-d6cf-42a7-8936-655623460942"
    },
    {
      "cell_type": "raw",
      "metadata": {
        "raw_mimetype": "text/html"
      },
      "source": [
        "<!-- The code below produces the effect plot for `species`. The confidence bands for the estimated mean response are shown by the vertical bars. -->"
      ],
      "id": "f50e3a04-1676-435a-899c-a249b5f8e406"
    },
    {
      "cell_type": "raw",
      "metadata": {
        "raw_mimetype": "text/html"
      },
      "source": [
        "<!-- ```{r} -->"
      ],
      "id": "f5eaf95d-15c7-4193-95d1-c6e491a37490"
    },
    {
      "cell_type": "raw",
      "metadata": {
        "raw_mimetype": "text/html"
      },
      "source": [
        "<!-- plot(predictorEffect(\"species\", lmodp)) -->"
      ],
      "id": "4298a291-3041-4c3b-8fff-18a4f2bf11a6"
    },
    {
      "cell_type": "raw",
      "metadata": {
        "raw_mimetype": "text/html"
      },
      "source": [
        "<!-- ``` -->"
      ],
      "id": "ae553946-9a1f-42e3-b0b5-2df36e045b12"
    },
    {
      "cell_type": "raw",
      "metadata": {
        "raw_mimetype": "text/html"
      },
      "source": [
        "<!-- **Coefficient interpretation for separate lines models** -->"
      ],
      "id": "c8afb425-17e5-4b9f-bc6e-9ff0c51393db"
    },
    {
      "cell_type": "raw",
      "metadata": {
        "raw_mimetype": "text/html"
      },
      "source": [
        "<!-- --- -->"
      ],
      "id": "fa9e4028-d65b-43b8-8fd4-f566ba30e468"
    },
    {
      "cell_type": "raw",
      "metadata": {
        "raw_mimetype": "text/html"
      },
      "source": [
        "<!-- Consider a separate lines model with numeric regressor $X$ and -->"
      ],
      "id": "fcc511a4-38ec-4383-8df0-0f100e450902"
    },
    {
      "cell_type": "raw",
      "metadata": {
        "raw_mimetype": "text/html"
      },
      "source": [
        "<!-- categorical predictor $C$ with levels $L_1$, $L_2$, and $L_3$. The -->"
      ],
      "id": "28233ff1-d460-4d49-9521-c94f25c910ce"
    },
    {
      "cell_type": "raw",
      "metadata": {
        "raw_mimetype": "text/html"
      },
      "source": [
        "<!-- predictor $C$ will be transformed into two indicator variables, $D_2$ -->"
      ],
      "id": "f205dbcf-3e86-4063-b3dd-40a35206bf78"
    },
    {
      "cell_type": "raw",
      "metadata": {
        "raw_mimetype": "text/html"
      },
      "source": [
        "<!-- and $D_3$, for category levels $L_2$ and $L_3$, with $L_1$ being the -->"
      ],
      "id": "1095cbfb-3d09-4321-a3a1-e0b943bd07d6"
    },
    {
      "cell_type": "raw",
      "metadata": {
        "raw_mimetype": "text/html"
      },
      "source": [
        "<!-- reference level. The separate lines model is formulated as: -->"
      ],
      "id": "7e0ae08b-5986-4d68-9bd1-b4c5bd78fc48"
    },
    {
      "cell_type": "raw",
      "metadata": {
        "raw_mimetype": "text/html"
      },
      "source": [
        "<!-- $$ -->"
      ],
      "id": "9b8a827c-7118-48b8-a150-e08dda7c31a1"
    },
    {
      "cell_type": "raw",
      "metadata": {
        "raw_mimetype": "text/html"
      },
      "source": [
        "<!-- E(Y \\mid X, C) = \\beta_{int} + \\beta_{X} X + \\beta_{L_2} D_2 +  \\beta_{L_3} D_3 + \\beta_{XL_2} XD_2+\\beta_{XL_3}XD_3 -->"
      ],
      "id": "acc75ee5-e49b-4c71-91b4-0eb510683369"
    },
    {
      "cell_type": "raw",
      "metadata": {
        "raw_mimetype": "text/html"
      },
      "source": [
        "<!-- $$ -->"
      ],
      "id": "d0424ccc-4bd9-4e39-be87-89bcf2a8f600"
    },
    {
      "cell_type": "raw",
      "metadata": {
        "raw_mimetype": "text/html"
      },
      "source": [
        "<!-- When an observation has level $L_1$ and $X=x^*$, then the expected -->"
      ],
      "id": "f4361d32-22d7-4f90-ba0d-831e47aaba00"
    },
    {
      "cell_type": "raw",
      "metadata": {
        "raw_mimetype": "text/html"
      },
      "source": [
        "<!-- response is  -->"
      ],
      "id": "0cc3b03f-a77e-4785-be0a-d0798f32b670"
    },
    {
      "cell_type": "raw",
      "metadata": {
        "raw_mimetype": "text/html"
      },
      "source": [
        "<!-- ::: {.content-visible unless-format=\"pdf\"} -->"
      ],
      "id": "afe0bccf-6d4b-4d64-bc0f-6cd4e097465d"
    },
    {
      "cell_type": "raw",
      "metadata": {
        "raw_mimetype": "text/html"
      },
      "source": [
        "<!-- </br>   -->"
      ],
      "id": "4bbc6a23-6bbe-441a-946d-97f7bab95021"
    },
    {
      "cell_type": "raw",
      "metadata": {
        "raw_mimetype": "text/html"
      },
      "source": [
        "<!-- </br>   -->"
      ],
      "id": "f298492c-a64e-455e-86fd-f70701cc9cc6"
    },
    {
      "cell_type": "raw",
      "metadata": {
        "raw_mimetype": "text/html"
      },
      "source": [
        "<!-- </br>   -->"
      ],
      "id": "759830d6-fb30-4e91-96c8-37d26076304f"
    },
    {
      "cell_type": "raw",
      "metadata": {
        "raw_mimetype": "text/html"
      },
      "source": [
        "<!-- </br>   -->"
      ],
      "id": "72f71410-5ad3-4676-85ce-2c032e08f689"
    },
    {
      "cell_type": "raw",
      "metadata": {
        "raw_mimetype": "text/html"
      },
      "source": [
        "<!-- </br>   -->"
      ],
      "id": "f4625193-c636-4ea8-9400-c838c21e4818"
    },
    {
      "cell_type": "raw",
      "metadata": {
        "raw_mimetype": "text/html"
      },
      "source": [
        "<!-- </br>   -->"
      ],
      "id": "92c70227-f764-42d3-86ad-44053c08b5d5"
    },
    {
      "cell_type": "raw",
      "metadata": {
        "raw_mimetype": "text/html"
      },
      "source": [
        "<!-- </br>   -->"
      ],
      "id": "ad01cc04-5cc9-4fee-96ed-25f32a9222d6"
    },
    {
      "cell_type": "raw",
      "metadata": {
        "raw_mimetype": "text/html"
      },
      "source": [
        "<!-- ::: -->"
      ],
      "id": "b14d4736-0166-4341-a552-2951317fc997"
    },
    {
      "cell_type": "raw",
      "metadata": {
        "raw_mimetype": "text/html"
      },
      "source": [
        "<!-- ::: {.content-hidden unless-format=\"pdf\"} -->"
      ],
      "id": "4e18663d-cbfd-4695-be20-ffce2e16a7ab"
    },
    {
      "cell_type": "raw",
      "metadata": {
        "raw_mimetype": "text/html"
      },
      "source": [
        "<!-- $$ -->"
      ],
      "id": "dc512504-3313-4bfe-8df9-12b3dcf6730d"
    },
    {
      "cell_type": "raw",
      "metadata": {
        "raw_mimetype": "text/html"
      },
      "source": [
        "<!-- \\begin{aligned} -->"
      ],
      "id": "27c64181-b0e3-486f-a994-e148c3317119"
    },
    {
      "cell_type": "raw",
      "metadata": {
        "raw_mimetype": "text/html"
      },
      "source": [
        "<!-- &E(Y\\mid X = x^*, C=L_1) \\\\ -->"
      ],
      "id": "08f66c44-928e-4262-8a3f-b0598fd8e388"
    },
    {
      "cell_type": "raw",
      "metadata": {
        "raw_mimetype": "text/html"
      },
      "source": [
        "<!-- &= \\beta_{int} + \\beta_X \\cdot x^* + \\beta_{L_2} \\cdot 0 + \\beta_{L_3} \\cdot 0  + \\beta_{X L_2} \\cdot x^* \\cdot 0 + \\beta_{X L_3}\\cdot x^* \\cdot 0 \\\\ -->"
      ],
      "id": "ed0225b3-50e4-4deb-84e3-dfdf8689408e"
    },
    {
      "cell_type": "raw",
      "metadata": {
        "raw_mimetype": "text/html"
      },
      "source": [
        "<!-- &= \\beta_{int} + \\beta_X x^*. -->"
      ],
      "id": "df0a3fa8-bc90-43b5-93a4-a036b080deda"
    },
    {
      "cell_type": "raw",
      "metadata": {
        "raw_mimetype": "text/html"
      },
      "source": [
        "<!-- \\end{aligned} -->"
      ],
      "id": "140cfd4e-12ea-4361-a053-4142412631bb"
    },
    {
      "cell_type": "raw",
      "metadata": {
        "raw_mimetype": "text/html"
      },
      "source": [
        "<!-- $$ -->"
      ],
      "id": "30f9395a-76d5-493f-a1cb-6118d15da3b8"
    },
    {
      "cell_type": "raw",
      "metadata": {
        "raw_mimetype": "text/html"
      },
      "source": [
        "<!-- ::: -->"
      ],
      "id": "84615cd8-1f28-40a6-8a41-c6cc04b28be8"
    },
    {
      "cell_type": "raw",
      "metadata": {
        "raw_mimetype": "text/html"
      },
      "source": [
        "<!-- We can verify that: -->"
      ],
      "id": "43cd6d86-6da5-45f3-9f77-30905437c6dc"
    },
    {
      "cell_type": "raw",
      "metadata": {
        "raw_mimetype": "text/html"
      },
      "source": [
        "<!-- -   $\\beta_{int} = E(Y\\mid X = 0, C=L_1)$. -->"
      ],
      "id": "c2d9dbab-4137-4b60-b497-8811d602a08b"
    },
    {
      "cell_type": "raw",
      "metadata": {
        "raw_mimetype": "text/html"
      },
      "source": [
        "<!-- -   $\\beta_{X} = E(Y\\mid X = x^* + 1, C=L_1) - E(Y\\mid X = x^*, C=L_1)$. -->"
      ],
      "id": "b3203073-c432-4632-ba39-66f8a85294b3"
    },
    {
      "cell_type": "raw",
      "metadata": {
        "raw_mimetype": "text/html"
      },
      "source": [
        "<!-- Similarly, when $C=L_2$,  -->"
      ],
      "id": "50c11846-6f0a-4e2d-81a0-c88c43e42121"
    },
    {
      "cell_type": "raw",
      "metadata": {
        "raw_mimetype": "text/html"
      },
      "source": [
        "<!-- ::: {.content-visible unless-format=\"pdf\"} -->"
      ],
      "id": "6094295c-29ab-441c-8aea-291a4994c2fa"
    },
    {
      "cell_type": "raw",
      "metadata": {
        "raw_mimetype": "text/html"
      },
      "source": [
        "<!-- </br>   -->"
      ],
      "id": "e0f07eb0-eef9-4771-b73c-fdfd75d7ddfc"
    },
    {
      "cell_type": "raw",
      "metadata": {
        "raw_mimetype": "text/html"
      },
      "source": [
        "<!-- </br>   -->"
      ],
      "id": "d6ba7294-d1d8-4be6-9e77-5e3dbd7f3f08"
    },
    {
      "cell_type": "raw",
      "metadata": {
        "raw_mimetype": "text/html"
      },
      "source": [
        "<!-- </br>   -->"
      ],
      "id": "3efd4b37-8f7c-4a12-a34b-99c627ac145a"
    },
    {
      "cell_type": "raw",
      "metadata": {
        "raw_mimetype": "text/html"
      },
      "source": [
        "<!-- </br>   -->"
      ],
      "id": "a29ad218-8203-4b9b-a16c-769a99430487"
    },
    {
      "cell_type": "raw",
      "metadata": {
        "raw_mimetype": "text/html"
      },
      "source": [
        "<!-- </br>   -->"
      ],
      "id": "6d529893-b680-452d-8408-37fcc1376558"
    },
    {
      "cell_type": "raw",
      "metadata": {
        "raw_mimetype": "text/html"
      },
      "source": [
        "<!-- </br>   -->"
      ],
      "id": "c64c2d55-4763-4e74-a935-aa6ea20e02ad"
    },
    {
      "cell_type": "raw",
      "metadata": {
        "raw_mimetype": "text/html"
      },
      "source": [
        "<!-- </br>   -->"
      ],
      "id": "eebde95b-1ad8-4afb-8b9e-0a6cb6d01e10"
    },
    {
      "cell_type": "raw",
      "metadata": {
        "raw_mimetype": "text/html"
      },
      "source": [
        "<!-- ::: -->"
      ],
      "id": "f130585f-c188-48de-83fe-430a8420d64b"
    },
    {
      "cell_type": "raw",
      "metadata": {
        "raw_mimetype": "text/html"
      },
      "source": [
        "<!-- ::: {.content-hidden unless-format=\"pdf\"} -->"
      ],
      "id": "466bea67-be6c-476b-9a17-aba90cae6619"
    },
    {
      "cell_type": "raw",
      "metadata": {
        "raw_mimetype": "text/html"
      },
      "source": [
        "<!-- $$ -->"
      ],
      "id": "5447de9d-f0d9-4121-bda3-1df46a09aba8"
    },
    {
      "cell_type": "raw",
      "metadata": {
        "raw_mimetype": "text/html"
      },
      "source": [
        "<!-- \\begin{aligned} -->"
      ],
      "id": "c60dcab7-add8-4a90-826f-8ff35c3549da"
    },
    {
      "cell_type": "raw",
      "metadata": {
        "raw_mimetype": "text/html"
      },
      "source": [
        "<!-- & E(Y|X = x^*, C=L_2) \\\\ -->"
      ],
      "id": "cd8a210e-1009-4102-94cf-7a7bc49c35d5"
    },
    {
      "cell_type": "raw",
      "metadata": {
        "raw_mimetype": "text/html"
      },
      "source": [
        "<!-- &= \\beta_{int} + \\beta_X \\cdot x^* + \\beta_{L_2} \\cdot 1 + \\beta_{L_3} \\cdot 0  + \\beta_{X L_2} \\cdot x^* \\cdot 1 + \\beta_{X L_3}\\cdot x^* \\cdot 0 \\\\ -->"
      ],
      "id": "f4d8c62d-8525-4bd5-8896-8119826f8cd3"
    },
    {
      "cell_type": "raw",
      "metadata": {
        "raw_mimetype": "text/html"
      },
      "source": [
        "<!-- &= \\beta_{int} + \\beta_X x^* + \\beta_{L_2} + \\beta_{XL_2}x^*\\\\ -->"
      ],
      "id": "4b5862e9-197b-4c01-a300-aff765c4dcd6"
    },
    {
      "cell_type": "raw",
      "metadata": {
        "raw_mimetype": "text/html"
      },
      "source": [
        "<!-- &= (\\beta_{int} + \\beta_{L_2}) + (\\beta_X + \\beta_{XL_2})x^* -->"
      ],
      "id": "3d02b006-0d73-4dc6-942b-8b1141768162"
    },
    {
      "cell_type": "raw",
      "metadata": {
        "raw_mimetype": "text/html"
      },
      "source": [
        "<!-- \\end{aligned} -->"
      ],
      "id": "c6fc084d-de22-4947-a94e-0d1377e86af7"
    },
    {
      "cell_type": "raw",
      "metadata": {
        "raw_mimetype": "text/html"
      },
      "source": [
        "<!-- $$ -->"
      ],
      "id": "0003fdf1-0437-425b-88b9-fbd8efd4356e"
    },
    {
      "cell_type": "raw",
      "metadata": {
        "raw_mimetype": "text/html"
      },
      "source": [
        "<!-- ::: -->"
      ],
      "id": "513f27aa-6bfc-4460-a079-54fdcf937a8d"
    },
    {
      "cell_type": "raw",
      "metadata": {
        "raw_mimetype": "text/html"
      },
      "source": [
        "<!-- Following this same pattern, when $C=L_3$ we have  -->"
      ],
      "id": "81caa314-c924-4434-a2b7-ed9d1be6dbd1"
    },
    {
      "cell_type": "raw",
      "metadata": {
        "raw_mimetype": "text/html"
      },
      "source": [
        "<!-- $$ -->"
      ],
      "id": "17d5f2f6-b33a-4cd7-991a-b510c57973bb"
    },
    {
      "cell_type": "raw",
      "metadata": {
        "raw_mimetype": "text/html"
      },
      "source": [
        "<!-- E(Y|X = x^*, C=L_3) = (\\beta_{int} + \\beta_{L_3}) + (\\beta_X + \\beta_{XL_3})x^* -->"
      ],
      "id": "969486ec-d7fe-473d-b693-b6b6af503530"
    },
    {
      "cell_type": "raw",
      "metadata": {
        "raw_mimetype": "text/html"
      },
      "source": [
        "<!-- $$ -->"
      ],
      "id": "ff4a3188-ef13-4c5f-a7bf-9505f4d198a3"
    },
    {
      "cell_type": "raw",
      "metadata": {
        "raw_mimetype": "text/html"
      },
      "source": [
        "<!-- We can verify that for $j=2,3$, -->"
      ],
      "id": "0f5a508b-4c7f-4306-b484-21b06844e6c2"
    },
    {
      "cell_type": "raw",
      "metadata": {
        "raw_mimetype": "text/html"
      },
      "source": [
        "<!-- $$\\beta_{L_j}= E(Y\\mid X = 0, C=L_j) - E(Y\\mid X = 0, C=L_1)$$  -->"
      ],
      "id": "69aa0acb-11f9-4382-a15c-e312eb96f6f6"
    },
    {
      "cell_type": "raw",
      "metadata": {
        "raw_mimetype": "text/html"
      },
      "source": [
        "<!-- And,  -->"
      ],
      "id": "4e7786a6-2b85-40b3-9fd9-33b18ff74c79"
    },
    {
      "cell_type": "raw",
      "metadata": {
        "raw_mimetype": "text/html"
      },
      "source": [
        "<!-- $$ -->"
      ],
      "id": "49ff631b-ed69-423a-b85c-43bfd500f68d"
    },
    {
      "cell_type": "raw",
      "metadata": {
        "raw_mimetype": "text/html"
      },
      "source": [
        "<!-- \\begin{aligned} -->"
      ],
      "id": "b2614beb-4258-4531-8683-9843576e5a0f"
    },
    {
      "cell_type": "raw",
      "metadata": {
        "raw_mimetype": "text/html"
      },
      "source": [
        "<!-- & \\beta_{XL_j} \\\\ -->"
      ],
      "id": "4004ba89-9013-4f6d-9e84-4e49277f11a6"
    },
    {
      "cell_type": "raw",
      "metadata": {
        "raw_mimetype": "text/html"
      },
      "source": [
        "<!-- &= [E(Y\\mid X = x^*+1, C=L_j) - E(Y\\mid X = x^*, C=L_j)]\\\\ -->"
      ],
      "id": "6ce33e16-25a3-4bce-9370-0204765aa706"
    },
    {
      "cell_type": "raw",
      "metadata": {
        "raw_mimetype": "text/html"
      },
      "source": [
        "<!-- &\\quad-[E(Y\\mid X = x^*+1, C=L_1) - E(Y\\mid X = x^*, C=L_1)]. -->"
      ],
      "id": "e21b2ac2-6441-46f2-b7f3-007c306bf71b"
    },
    {
      "cell_type": "raw",
      "metadata": {
        "raw_mimetype": "text/html"
      },
      "source": [
        "<!-- \\end{aligned} -->"
      ],
      "id": "ef864b2f-9c2a-468d-a9c3-f3bb96025fd0"
    },
    {
      "cell_type": "raw",
      "metadata": {
        "raw_mimetype": "text/html"
      },
      "source": [
        "<!-- $$ -->"
      ],
      "id": "dc62bcda-2ec4-4580-92d2-a2a5a4269d84"
    },
    {
      "cell_type": "raw",
      "metadata": {
        "raw_mimetype": "text/html"
      },
      "source": [
        "<!-- To summarize the interpretation of the coefficients in separate lines -->"
      ],
      "id": "730ed68e-ae5c-4544-8e0f-ec7ee643dcc7"
    },
    {
      "cell_type": "raw",
      "metadata": {
        "raw_mimetype": "text/html"
      },
      "source": [
        "<!-- models, assuming categorical predictor $C$ has $K$ levels instead of 3: -->"
      ],
      "id": "4f65ba57-f1d9-4d51-9477-47dc181fa1d5"
    },
    {
      "cell_type": "raw",
      "metadata": {
        "raw_mimetype": "text/html"
      },
      "source": [
        "<!-- -   $\\beta_{int}$ represents the expected response for observations -->"
      ],
      "id": "d0ed85fc-6840-4299-b8fd-280e7d225da0"
    },
    {
      "cell_type": "raw",
      "metadata": {
        "raw_mimetype": "text/html"
      },
      "source": [
        "<!--     having the reference level when the numeric regressor $X = 0$. -->"
      ],
      "id": "f457ceb6-24a5-4d23-84b0-07c15ed99df4"
    },
    {
      "cell_type": "raw",
      "metadata": {
        "raw_mimetype": "text/html"
      },
      "source": [
        "<!-- -   $\\beta_{L_j}$, for $j=2,\\ldots,K$, represents the expected change in -->"
      ],
      "id": "30a0e147-18c9-45c9-bfd2-bfe0ffeb7831"
    },
    {
      "cell_type": "raw",
      "metadata": {
        "raw_mimetype": "text/html"
      },
      "source": [
        "<!--     the response when comparing observations having level $L_1$ and -->"
      ],
      "id": "ec91218e-5870-4d70-9216-f6c36668167a"
    },
    {
      "cell_type": "raw",
      "metadata": {
        "raw_mimetype": "text/html"
      },
      "source": [
        "<!--     $L_j$ with $X=0$. -->"
      ],
      "id": "7ea7b375-85e1-4bf2-a7b6-98781678ebb5"
    },
    {
      "cell_type": "raw",
      "metadata": {
        "raw_mimetype": "text/html"
      },
      "source": [
        "<!-- -   $\\beta_X$ represents the expected change in the response when $X$ -->"
      ],
      "id": "52376662-036c-4e36-a731-438857442711"
    },
    {
      "cell_type": "raw",
      "metadata": {
        "raw_mimetype": "text/html"
      },
      "source": [
        "<!--     increases by 1 unit for observations having the reference level. -->"
      ],
      "id": "4927dd4d-c5a5-413a-92cc-fc7a44a7f061"
    },
    {
      "cell_type": "raw",
      "metadata": {
        "raw_mimetype": "text/html"
      },
      "source": [
        "<!-- -   $\\beta_X L_j$, for $j=2,\\ldots,K$, represents the difference in the -->"
      ],
      "id": "af7dfc08-0420-46b1-8ee1-dda3d7a13c7a"
    },
    {
      "cell_type": "raw",
      "metadata": {
        "raw_mimetype": "text/html"
      },
      "source": [
        "<!--     expected response between observations having the reference level in -->"
      ],
      "id": "296e2a49-52ec-4236-a5f5-4c7c1473b6b5"
    },
    {
      "cell_type": "raw",
      "metadata": {
        "raw_mimetype": "text/html"
      },
      "source": [
        "<!--     comparison to level $L_j$ when $X$ increases by 1 unit. More simply, -->"
      ],
      "id": "9acf9fd5-5a07-4a5b-a005-010de276df6e"
    },
    {
      "cell_type": "raw",
      "metadata": {
        "raw_mimetype": "text/html"
      },
      "source": [
        "<!--     these terms represent the difference in the rate of change for -->"
      ],
      "id": "46b7c9d9-aed2-4ef1-86db-b61238d844d3"
    },
    {
      "cell_type": "raw",
      "metadata": {
        "raw_mimetype": "text/html"
      },
      "source": [
        "<!--     observations having level $L_j$ compared to the reference level. -->"
      ],
      "id": "8f801079-b1c7-422c-8ee9-f88372043f54"
    },
    {
      "cell_type": "raw",
      "metadata": {
        "raw_mimetype": "text/html"
      },
      "source": [
        "<!-- We illustrate these interpretation using the separate lines model to the -->"
      ],
      "id": "7459a927-280f-4dda-8b50-5e0a02dd58d4"
    },
    {
      "cell_type": "raw",
      "metadata": {
        "raw_mimetype": "text/html"
      },
      "source": [
        "<!-- `penguins` data. The fitted separate lines model was,  -->"
      ],
      "id": "a93ce136-5ca3-46ad-a1c2-e075f09e4807"
    },
    {
      "cell_type": "raw",
      "metadata": {
        "raw_mimetype": "text/html"
      },
      "source": [
        "<!-- $$ -->"
      ],
      "id": "a230ee03-8d2a-4ae7-b45b-3a684a1b04a3"
    },
    {
      "cell_type": "raw",
      "metadata": {
        "raw_mimetype": "text/html"
      },
      "source": [
        "<!-- \\begin{aligned} -->"
      ],
      "id": "92e0a0fb-6c89-4a3d-91a2-18f218e5ec42"
    },
    {
      "cell_type": "raw",
      "metadata": {
        "raw_mimetype": "text/html"
      },
      "source": [
        "<!-- &\\hat{E}(\\mathtt{bill\\_length\\_mm} \\mid \\mathtt{body\\_mass\\_g}, \\mathtt{species}) \\\\ -->"
      ],
      "id": "14d2bcc2-b303-4092-9719-f0985654edb4"
    },
    {
      "cell_type": "raw",
      "metadata": {
        "raw_mimetype": "text/html"
      },
      "source": [
        "<!-- &= 26.99 + 0.003 \\mathtt{body\\_mass\\_g} + 5.18 D_C - 0.25 D_G \\\\ -->"
      ],
      "id": "6f7fb376-a094-46d2-8bb9-d84f53a7b657"
    },
    {
      "cell_type": "raw",
      "metadata": {
        "raw_mimetype": "text/html"
      },
      "source": [
        "<!-- &\\quad + 0.001 D_C \\mathtt{body\\_mass\\_g} + 0.0009 D_G \\mathtt{body\\_mass\\_g}. -->"
      ],
      "id": "058558aa-4213-46ca-b33c-ac45386f4a50"
    },
    {
      "cell_type": "raw",
      "metadata": {
        "raw_mimetype": "text/html"
      },
      "source": [
        "<!-- \\end{aligned} -->"
      ],
      "id": "ddd99760-7bff-40bb-b1f2-fd0c5c2927b4"
    },
    {
      "cell_type": "raw",
      "metadata": {
        "raw_mimetype": "text/html"
      },
      "source": [
        "<!-- $$  -->"
      ],
      "id": "a77ff837-2a36-40cb-a55a-1771061dd057"
    },
    {
      "cell_type": "raw",
      "metadata": {
        "raw_mimetype": "text/html"
      },
      "source": [
        "<!-- In the context of this model: -->"
      ],
      "id": "31a1efb0-dc2c-45f1-8ba9-66949456c43f"
    },
    {
      "cell_type": "raw",
      "metadata": {
        "raw_mimetype": "text/html"
      },
      "source": [
        "<!-- -   The expected bill length for an Adelie penguin with a body mass of 0 -->"
      ],
      "id": "1248f8ef-4f18-4a36-ab07-f305f72af8d6"
    },
    {
      "cell_type": "raw",
      "metadata": {
        "raw_mimetype": "text/html"
      },
      "source": [
        "<!--     grams is 26.99 mm. -->"
      ],
      "id": "a712ccca-3d84-4e43-b644-bf073e2d29b2"
    },
    {
      "cell_type": "raw",
      "metadata": {
        "raw_mimetype": "text/html"
      },
      "source": [
        "<!-- -   If an Adelie penguin has a body mass 1 gram larger than another -->"
      ],
      "id": "dc131d0b-d239-468f-bfb9-2330efdb2502"
    },
    {
      "cell_type": "raw",
      "metadata": {
        "raw_mimetype": "text/html"
      },
      "source": [
        "<!--     Adelie penguin, then the larger penguin is expected to have a bill -->"
      ],
      "id": "57c250aa-6a50-4c00-8882-e7345e077869"
    },
    {
      "cell_type": "raw",
      "metadata": {
        "raw_mimetype": "text/html"
      },
      "source": [
        "<!--     length 0.003 mm longer than the smaller penguin. -->"
      ],
      "id": "774b92ed-33e2-4970-93d7-9e6c90f8680c"
    },
    {
      "cell_type": "raw",
      "metadata": {
        "raw_mimetype": "text/html"
      },
      "source": [
        "<!-- -   A Chinstrap penguin is expected to have a bill length 5.18 mm longer -->"
      ],
      "id": "e1b598f7-d575-4f8f-9ed5-3d8fe608ef34"
    },
    {
      "cell_type": "raw",
      "metadata": {
        "raw_mimetype": "text/html"
      },
      "source": [
        "<!--     than an Adelie penguin when both have a body mass of 0 grams. -->"
      ],
      "id": "eb6b5f90-c15a-413e-adc6-c4e34c14cca6"
    },
    {
      "cell_type": "raw",
      "metadata": {
        "raw_mimetype": "text/html"
      },
      "source": [
        "<!-- -   A Gentoo penguin is expected to have a bill length 0.25 mm shorter -->"
      ],
      "id": "32b90fd4-6e6d-4d4d-a564-96d7e842cff7"
    },
    {
      "cell_type": "raw",
      "metadata": {
        "raw_mimetype": "text/html"
      },
      "source": [
        "<!--     than an Adelie penguin when both have a body mass of 0 grams. -->"
      ],
      "id": "6cefea61-788b-4584-a4c3-d577e4d01e11"
    },
    {
      "cell_type": "raw",
      "metadata": {
        "raw_mimetype": "text/html"
      },
      "source": [
        "<!-- -   For each 1 gram increase in body mass, we expect the change in bill -->"
      ],
      "id": "4368b7b6-061c-43cc-8081-1e52c02ef48b"
    },
    {
      "cell_type": "raw",
      "metadata": {
        "raw_mimetype": "text/html"
      },
      "source": [
        "<!--     length by Chinstrap penguins to be 0.001 mm larger than the -->"
      ],
      "id": "1a8d16b6-eaec-495d-a82e-e27fee8b4e40"
    },
    {
      "cell_type": "raw",
      "metadata": {
        "raw_mimetype": "text/html"
      },
      "source": [
        "<!--     corresponding change in bill length by Adelie penguins. -->"
      ],
      "id": "f450bc09-636d-4aba-b8bf-51fe22ffe8be"
    },
    {
      "cell_type": "raw",
      "metadata": {
        "raw_mimetype": "text/html"
      },
      "source": [
        "<!-- -   For each 1 gram increase in body mass, we expect the change in bill -->"
      ],
      "id": "5948a6db-95e6-4c41-a020-cfc57bbf95a2"
    },
    {
      "cell_type": "raw",
      "metadata": {
        "raw_mimetype": "text/html"
      },
      "source": [
        "<!--     length by Gentoo penguins to be 0.0009 mm larger than the -->"
      ],
      "id": "6a6e533b-e64e-45a2-b7aa-bbd16e967a96"
    },
    {
      "cell_type": "raw",
      "metadata": {
        "raw_mimetype": "text/html"
      },
      "source": [
        "<!--     corresponding change in bill length by Adelie penguins. -->"
      ],
      "id": "02cecd66-6b8e-4f6f-9583-bcefa374f943"
    },
    {
      "cell_type": "raw",
      "metadata": {
        "raw_mimetype": "text/html"
      },
      "source": [
        "<!-- **Effect plots for interacting categorical predictors** -->"
      ],
      "id": "a29c7a0d-553c-444d-91f2-3da884175f09"
    },
    {
      "cell_type": "raw",
      "metadata": {
        "raw_mimetype": "text/html"
      },
      "source": [
        "<!-- --- -->"
      ],
      "id": "e52a37e9-b4e0-4932-bfd0-e4385a42bfd4"
    },
    {
      "cell_type": "raw",
      "metadata": {
        "raw_mimetype": "text/html"
      },
      "source": [
        "<!-- We now discuss construction of effect plots for a separate lines model, -->"
      ],
      "id": "ca450c7b-8057-4111-a598-27bfcd3b854e"
    },
    {
      "cell_type": "raw",
      "metadata": {
        "raw_mimetype": "text/html"
      },
      "source": [
        "<!-- which has an interaction between a categorical and numeric predictor. -->"
      ],
      "id": "22451b55-bf44-4739-b771-0bbc97c69f93"
    },
    {
      "cell_type": "raw",
      "metadata": {
        "raw_mimetype": "text/html"
      },
      "source": [
        "<!-- Fox et al. (2020) also discuss predictors in the *conditioning group*, which is the set of predictors that interact with the focal predictor. -->"
      ],
      "id": "c7ac07ce-09e8-4155-acb5-d1f0339fa41b"
    },
    {
      "cell_type": "raw",
      "metadata": {
        "raw_mimetype": "text/html"
      },
      "source": [
        "<!-- When some predictors interact with the focal predictor, the effect plot -->"
      ],
      "id": "e1decd44-968a-44aa-89ba-12dc1e6cb72e"
    },
    {
      "cell_type": "raw",
      "metadata": {
        "raw_mimetype": "text/html"
      },
      "source": [
        "<!-- of the focal predictor is a plot of the estimated mean response when the -->"
      ],
      "id": "bfe7becf-e2e2-4ce8-9bcc-ea2c2900a61c"
    },
    {
      "cell_type": "raw",
      "metadata": {
        "raw_mimetype": "text/html"
      },
      "source": [
        "<!-- fixed group predictors are held at their typical values and the -->"
      ],
      "id": "b510f474-177b-4aa2-b589-9212ecc8bb78"
    },
    {
      "cell_type": "raw",
      "metadata": {
        "raw_mimetype": "text/html"
      },
      "source": [
        "<!-- conditioning group predictors vary over different combinations of -->"
      ],
      "id": "93e2f63c-bb8d-4819-9a68-b80922bbd143"
    },
    {
      "cell_type": "raw",
      "metadata": {
        "raw_mimetype": "text/html"
      },
      "source": [
        "<!-- discrete values.  -->"
      ],
      "id": "079597d7-c03e-47c3-99f1-2d6b697f81e4"
    },
    {
      "cell_type": "raw",
      "metadata": {
        "raw_mimetype": "text/html"
      },
      "source": [
        "<!-- By default, to compute the -->"
      ],
      "id": "2248399d-1863-4d07-a406-c3e7137626c9"
    },
    {
      "cell_type": "raw",
      "metadata": {
        "raw_mimetype": "text/html"
      },
      "source": [
        "<!-- estimated mean response as a function of the focal predictor, we: -->"
      ],
      "id": "56e33e8e-8d52-40a3-9cf5-9d61f7e61b80"
    },
    {
      "cell_type": "raw",
      "metadata": {
        "raw_mimetype": "text/html"
      },
      "source": [
        "<!-- -   Hold the numeric fixed group predictors at their sample means. -->"
      ],
      "id": "1e80a1f7-83c3-48ad-b11b-ebaf0a10e4f8"
    },
    {
      "cell_type": "raw",
      "metadata": {
        "raw_mimetype": "text/html"
      },
      "source": [
        "<!-- -   Average the estimated mean response equation across the different -->"
      ],
      "id": "c1faede5-2005-4c1e-b97d-bee17291b49b"
    },
    {
      "cell_type": "raw",
      "metadata": {
        "raw_mimetype": "text/html"
      },
      "source": [
        "<!--     levels of a fixed group categorical predictor, with weights equal to -->"
      ],
      "id": "bfd44ae8-c849-4f8e-8fe2-fdc5b8233a37"
    },
    {
      "cell_type": "raw",
      "metadata": {
        "raw_mimetype": "text/html"
      },
      "source": [
        "<!--     the number of observations with each level. -->"
      ],
      "id": "b57a017c-3454-4f77-b6b1-dbb7870914d6"
    },
    {
      "cell_type": "raw",
      "metadata": {
        "raw_mimetype": "text/html"
      },
      "source": [
        "<!-- -   Compute the estimated mean response function for 5 discrete -->"
      ],
      "id": "3d8f59b2-6930-437b-8fd0-86940b31471a"
    },
    {
      "cell_type": "raw",
      "metadata": {
        "raw_mimetype": "text/html"
      },
      "source": [
        "<!--     values of numeric predictors in the conditioning group. -->"
      ],
      "id": "04a4f84e-9df4-4d7b-9ee5-6917beb81e10"
    },
    {
      "cell_type": "raw",
      "metadata": {
        "raw_mimetype": "text/html"
      },
      "source": [
        "<!-- -   Compute the estimated mean response function for different levels -->"
      ],
      "id": "2ee865f0-dd4f-4c0e-b033-3bf09956e2ce"
    },
    {
      "cell_type": "raw",
      "metadata": {
        "raw_mimetype": "text/html"
      },
      "source": [
        "<!--     of a categorical predictor in the conditioning group. -->"
      ],
      "id": "9895493a-2449-477e-9ed2-b6eedc15d745"
    },
    {
      "cell_type": "raw",
      "metadata": {
        "raw_mimetype": "text/html"
      },
      "source": [
        "<!-- We provide examples of the effect plots for the `body_mass_g` and -->"
      ],
      "id": "4f304939-d234-4af3-929e-1ac03633a143"
    },
    {
      "cell_type": "raw",
      "metadata": {
        "raw_mimetype": "text/html"
      },
      "source": [
        "<!-- `species` predictors for the separate lines model fit to the `penguins` -->"
      ],
      "id": "7a417637-74bc-41ba-aa9c-e3d10e804831"
    },
    {
      "cell_type": "raw",
      "metadata": {
        "raw_mimetype": "text/html"
      },
      "source": [
        "<!-- data. We first run the code below to fit the separate lines model we previously fit: -->"
      ],
      "id": "45140111-d8eb-4284-9565-87460ab4da5c"
    },
    {
      "cell_type": "raw",
      "metadata": {
        "raw_mimetype": "text/html"
      },
      "source": [
        "<!-- ```{r} -->"
      ],
      "id": "bc45dee6-a4db-45a4-b016-b87a5d212528"
    },
    {
      "cell_type": "raw",
      "metadata": {
        "raw_mimetype": "text/html"
      },
      "source": [
        "<!-- # fit separate lines model -->"
      ],
      "id": "e18fa3a4-0a13-488c-9a67-4d70f09912c2"
    },
    {
      "cell_type": "raw",
      "metadata": {
        "raw_mimetype": "text/html"
      },
      "source": [
        "<!-- lmods <- lm(bill_length_mm ~ body_mass_g + species + body_mass_g:species, -->"
      ],
      "id": "b781ac77-7b68-47f2-a780-b5f481fa0017"
    },
    {
      "cell_type": "raw",
      "metadata": {
        "raw_mimetype": "text/html"
      },
      "source": [
        "<!--             data = penguins) -->"
      ],
      "id": "5e6c9bd2-1c77-4a62-aab7-cb29e651f5c7"
    },
    {
      "cell_type": "raw",
      "metadata": {
        "raw_mimetype": "text/html"
      },
      "source": [
        "<!-- # extract estimated coefficients -->"
      ],
      "id": "8b7896cd-44c5-47d3-80bc-617511027acc"
    },
    {
      "cell_type": "raw",
      "metadata": {
        "raw_mimetype": "text/html"
      },
      "source": [
        "<!-- coef(lmods) -->"
      ],
      "id": "1267b4f9-7da6-4c19-a327-a2535b183f7f"
    },
    {
      "cell_type": "raw",
      "metadata": {
        "raw_mimetype": "text/html"
      },
      "source": [
        "<!-- ``` -->"
      ],
      "id": "c054ccfb-9195-4bc8-8c5e-eac2248cd6ba"
    },
    {
      "cell_type": "raw",
      "metadata": {
        "raw_mimetype": "text/html"
      },
      "source": [
        "<!-- We previously determined that the model simplifies depending on the level of species: -->"
      ],
      "id": "e5b98b09-4d39-4cf0-a728-1b7d3df442fa"
    },
    {
      "cell_type": "raw",
      "metadata": {
        "raw_mimetype": "text/html"
      },
      "source": [
        "<!-- $$ -->"
      ],
      "id": "9363f4ca-58d3-4bf9-a0ce-f618fa831f53"
    },
    {
      "cell_type": "raw",
      "metadata": {
        "raw_mimetype": "text/html"
      },
      "source": [
        "<!-- \\begin{aligned} -->"
      ],
      "id": "3009c92a-04b3-4801-b873-eab5f00cb259"
    },
    {
      "cell_type": "raw",
      "metadata": {
        "raw_mimetype": "text/html"
      },
      "source": [
        "<!-- &\\hat{E}(\\mathtt{bill\\_length\\_mm} \\mid \\mathtt{body\\_mass\\_g}, \\mathtt{species}=\\mathtt{Adelie}) \\\\ -->"
      ],
      "id": "1c7bbebc-0aa0-4493-aedf-4f3ea759e33e"
    },
    {
      "cell_type": "raw",
      "metadata": {
        "raw_mimetype": "text/html"
      },
      "source": [
        "<!-- &= 26.99 + 0.003 \\mathtt{body\\_mass\\_g},\\\\ -->"
      ],
      "id": "49564cc5-887f-4f9f-8609-597cd3588eec"
    },
    {
      "cell_type": "raw",
      "metadata": {
        "raw_mimetype": "text/html"
      },
      "source": [
        "<!-- &\\hat{E}(\\mathtt{bill\\_length\\_mm} \\mid \\mathtt{body\\_mass\\_g}, \\mathtt{species}=\\mathtt{Chinstrap}) \\\\ -->"
      ],
      "id": "24eb1dea-6725-4fce-a22e-052af5eb75c4"
    },
    {
      "cell_type": "raw",
      "metadata": {
        "raw_mimetype": "text/html"
      },
      "source": [
        "<!-- &= 31.17 + 0.004 \\mathtt{body\\_mass\\_g},\\\\ -->"
      ],
      "id": "dbaa465f-ead5-4334-84a3-f9ac8567d241"
    },
    {
      "cell_type": "raw",
      "metadata": {
        "raw_mimetype": "text/html"
      },
      "source": [
        "<!-- &\\hat{E}(\\mathtt{bill\\_length\\_mm} \\mid \\mathtt{body\\_mass\\_g}, \\mathtt{species}=\\mathtt{Chinstrap}) \\\\ -->"
      ],
      "id": "f7148a69-e1ad-4c9a-b74c-98238e34635b"
    },
    {
      "cell_type": "raw",
      "metadata": {
        "raw_mimetype": "text/html"
      },
      "source": [
        "<!-- &= 26.74 + 0.004 \\mathtt{body\\_mass\\_g}. -->"
      ],
      "id": "572b19b9-2a7d-462a-b2b4-621b80631b76"
    },
    {
      "cell_type": "raw",
      "metadata": {
        "raw_mimetype": "text/html"
      },
      "source": [
        "<!-- \\end{aligned} -->"
      ],
      "id": "c070ab6b-5c55-49db-b1de-cb7bef370e7e"
    },
    {
      "cell_type": "raw",
      "metadata": {
        "raw_mimetype": "text/html"
      },
      "source": [
        "<!-- $$ -->"
      ],
      "id": "7978fb7f-59b9-4164-8114-2185e9cb34ae"
    },
    {
      "cell_type": "raw",
      "metadata": {
        "raw_mimetype": "text/html"
      },
      "source": [
        "<!-- The effect plot of `body_mass_g` for the separate lines model is displayed using the code below.  -->"
      ],
      "id": "b1a49fb5-6929-483b-a229-626a034f5745"
    },
    {
      "cell_type": "raw",
      "metadata": {
        "raw_mimetype": "text/html"
      },
      "source": [
        "<!-- - The `axes` argument to rotates the x-axis labels (otherwise the text overlaps) -->"
      ],
      "id": "9afc2239-2f71-44a6-8bbd-36ad81c70632"
    },
    {
      "cell_type": "raw",
      "metadata": {
        "raw_mimetype": "text/html"
      },
      "source": [
        "<!-- - The `lines` argument displays all three lines in one graphic instead of a -->"
      ],
      "id": "d8a3c954-0945-475e-b453-5fc363b749ee"
    },
    {
      "cell_type": "raw",
      "metadata": {
        "raw_mimetype": "text/html"
      },
      "source": [
        "<!-- separate panel for each level of `species`.  -->"
      ],
      "id": "1de33c36-6185-401d-beda-5d299c5017c3"
    },
    {
      "cell_type": "raw",
      "metadata": {
        "raw_mimetype": "text/html"
      },
      "source": [
        "<!-- ```{r} -->"
      ],
      "id": "05c58cd9-8707-4c2f-a17d-4fdade129730"
    },
    {
      "cell_type": "raw",
      "metadata": {
        "raw_mimetype": "text/html"
      },
      "source": [
        "<!-- # effect plot of body mass for separate lines model -->"
      ],
      "id": "b89fff4d-10dd-4d0f-bac3-b7fd115f20bb"
    },
    {
      "cell_type": "raw",
      "metadata": {
        "raw_mimetype": "text/html"
      },
      "source": [
        "<!-- # axes ... rotates the x-axis labels 90 degrees -->"
      ],
      "id": "12050b47-dab4-4898-b0de-cba7b7ad6e8c"
    },
    {
      "cell_type": "raw",
      "metadata": {
        "raw_mimetype": "text/html"
      },
      "source": [
        "<!-- # lines ... plots the effect of body mass in one graphic -->"
      ],
      "id": "d07d77f7-5006-426d-b9f1-2e1f78b30138"
    },
    {
      "cell_type": "raw",
      "metadata": {
        "raw_mimetype": "text/html"
      },
      "source": [
        "<!-- plot(predictorEffect(\"body_mass_g\", lmods), -->"
      ],
      "id": "38a0e5d3-3ede-48ff-9abf-cbfd1b08ad90"
    },
    {
      "cell_type": "raw",
      "metadata": {
        "raw_mimetype": "text/html"
      },
      "source": [
        "<!--      axes = list(x = list(rotate = 90)), -->"
      ],
      "id": "08356a9e-533e-40e8-a6eb-538ec7e2b7b1"
    },
    {
      "cell_type": "raw",
      "metadata": {
        "raw_mimetype": "text/html"
      },
      "source": [
        "<!--      lines = list(multiline = TRUE)) -->"
      ],
      "id": "02911ff5-1000-46f0-85a2-f50546cc7150"
    },
    {
      "cell_type": "raw",
      "metadata": {
        "raw_mimetype": "text/html"
      },
      "source": [
        "<!-- ``` -->"
      ],
      "id": "de2d0643-fa6e-4031-8700-1760e0d22656"
    },
    {
      "cell_type": "raw",
      "metadata": {
        "raw_mimetype": "text/html"
      },
      "source": [
        "<!-- Interpretation: -->"
      ],
      "id": "e9884322-1b0d-4eab-94f9-88fbcc8c6fef"
    },
    {
      "cell_type": "raw",
      "metadata": {
        "raw_mimetype": "text/html"
      },
      "source": [
        "<!-- - Chinstrap penguins tend to have the largest bill lengths for a given value of body mass and the bill lengths increase more quickly as a function of body mass then for the Adelie and Gentoo penguins. -->"
      ],
      "id": "eff70e18-9058-42d2-9540-e31b68cc4e5d"
    },
    {
      "cell_type": "raw",
      "metadata": {
        "raw_mimetype": "text/html"
      },
      "source": [
        "<!-- - Adelie penguins tend to have the smallest bill length for a fixed value of body mass and the bill length tends to increase more slowly as body mass increases -->"
      ],
      "id": "2f1799cb-45f4-452f-9690-8fbc5b2259f0"
    },
    {
      "cell_type": "raw",
      "metadata": {
        "raw_mimetype": "text/html"
      },
      "source": [
        "<!-- compared to the other two types of penguins. -->"
      ],
      "id": "7d3c5036-d8bb-4bbb-b966-51f4bbb0ecaa"
    },
    {
      "cell_type": "raw",
      "metadata": {
        "raw_mimetype": "text/html"
      },
      "source": [
        "<!-- The effect plot of `species` for the separate lines model will be a plot -->"
      ],
      "id": "c37b7c27-70b5-4dd4-a395-9b1685a58f61"
    },
    {
      "cell_type": "raw",
      "metadata": {
        "raw_mimetype": "text/html"
      },
      "source": [
        "<!-- of the estimated mean response for each level of `species` when varying `body_mass_g` over 5 discrete values.  -->"
      ],
      "id": "319321cd-6660-4b2d-9135-e10e000208d4"
    },
    {
      "cell_type": "raw",
      "metadata": {
        "raw_mimetype": "text/html"
      },
      "source": [
        "<!-- By specifying `lines = list(multiline = TRUE)`, the estimated mean responses for each level of `species` are connected for each discrete value of -->"
      ],
      "id": "09ff3f7a-4c57-4339-b3de-8bf2c8c2d025"
    },
    {
      "cell_type": "raw",
      "metadata": {
        "raw_mimetype": "text/html"
      },
      "source": [
        "<!-- `body_mass_g`.  -->"
      ],
      "id": "08d3e969-b1f6-4215-a9df-3abab2786c39"
    },
    {
      "cell_type": "raw",
      "metadata": {
        "raw_mimetype": "text/html"
      },
      "source": [
        "<!-- This plot allows us to determine the effect of `species` on `bill_length_mm` when we vary `body_mass_g` over 5 discrete values. -->"
      ],
      "id": "2751d599-0b9a-4608-8d5f-f543093d6d32"
    },
    {
      "cell_type": "raw",
      "metadata": {
        "raw_mimetype": "text/html"
      },
      "source": [
        "<!-- ```{r} -->"
      ],
      "id": "eca47ea4-6a34-47df-afd3-6bc37a51cd35"
    },
    {
      "cell_type": "raw",
      "metadata": {
        "raw_mimetype": "text/html"
      },
      "source": [
        "<!-- # effect plot of body mass for separate lines model -->"
      ],
      "id": "79879ffd-4ed3-4647-97be-14db79c02d30"
    },
    {
      "cell_type": "raw",
      "metadata": {
        "raw_mimetype": "text/html"
      },
      "source": [
        "<!-- # axes ... rotates the x-axis labels 90 degrees -->"
      ],
      "id": "9d458fea-2cb3-4016-917b-9de69a1086b0"
    },
    {
      "cell_type": "raw",
      "metadata": {
        "raw_mimetype": "text/html"
      },
      "source": [
        "<!-- # lines ... plots the effect of species in one graphic -->"
      ],
      "id": "231f51fa-a560-4ef7-940d-ccd9a9b5887a"
    },
    {
      "cell_type": "raw",
      "metadata": {
        "raw_mimetype": "text/html"
      },
      "source": [
        "<!-- plot(predictorEffect(\"species\", lmods), -->"
      ],
      "id": "57f3b674-9c03-4a8a-a75f-bd33d180d89e"
    },
    {
      "cell_type": "raw",
      "metadata": {
        "raw_mimetype": "text/html"
      },
      "source": [
        "<!--      axes = list(x = list(rotate = 90)), -->"
      ],
      "id": "e8e89875-87f5-4785-a266-94248557c579"
    },
    {
      "cell_type": "raw",
      "metadata": {
        "raw_mimetype": "text/html"
      },
      "source": [
        "<!--      lines=list(multiline = FALSE)) -->"
      ],
      "id": "be636c5d-554e-46a5-ab6b-037c91015800"
    },
    {
      "cell_type": "raw",
      "metadata": {
        "raw_mimetype": "text/html"
      },
      "source": [
        "<!-- ``` -->"
      ],
      "id": "69a6a8f3-3fbc-492d-96c3-229c952d7386"
    },
    {
      "cell_type": "raw",
      "metadata": {
        "raw_mimetype": "text/html"
      },
      "source": [
        "<!-- Interpretation: When varying `body_mass_g` across -->"
      ],
      "id": "48b5f005-b2f3-420c-944b-652b59b27348"
    },
    {
      "cell_type": "raw",
      "metadata": {
        "raw_mimetype": "text/html"
      },
      "source": [
        "<!-- the values 2700, 3600, 4500, 5300, and 6300 g, we see greater changes in -->"
      ],
      "id": "318b343c-2598-4198-b988-48cd18ff320f"
    },
    {
      "cell_type": "raw",
      "metadata": {
        "raw_mimetype": "text/html"
      },
      "source": [
        "<!-- the estimated mean of `bill_lengh_mm` for Chinstrap penguins in -->"
      ],
      "id": "6054ac4a-b49d-4e94-89b4-474d9d26eaa2"
    },
    {
      "cell_type": "raw",
      "metadata": {
        "raw_mimetype": "text/html"
      },
      "source": [
        "<!-- comparison to Adelie and Gentoo penguins. -->"
      ],
      "id": "3e5a7059-72b6-4db9-b3c4-e1d1afa72f98"
    },
    {
      "cell_type": "raw",
      "metadata": {
        "raw_mimetype": "text/html"
      },
      "source": [
        "<!-- For more details about how to construct effect plots, run the following code to access the \"vignette\". -->"
      ],
      "id": "d3ee700d-c982-4e1f-be23-7efc6c646470"
    },
    {
      "cell_type": "raw",
      "metadata": {
        "raw_mimetype": "text/html"
      },
      "source": [
        "<!-- ```{r} -->"
      ],
      "id": "e9f0a394-bf84-4390-9b15-2755afaca921"
    },
    {
      "cell_type": "raw",
      "metadata": {
        "raw_mimetype": "text/html"
      },
      "source": [
        "<!-- #| eval: false -->"
      ],
      "id": "1e241b48-77c8-4322-8695-65c185a182ae"
    },
    {
      "cell_type": "raw",
      "metadata": {
        "raw_mimetype": "text/html"
      },
      "source": [
        "<!-- vignette(\"predictor-effects-gallery\", package = \"effects\") -->"
      ],
      "id": "ae4e5bb5-a494-4b9d-8764-c1a7e7f3ad40"
    },
    {
      "cell_type": "raw",
      "metadata": {
        "raw_mimetype": "text/html"
      },
      "source": [
        "<!-- ``` -->"
      ],
      "id": "523805c8-cf75-48d1-ad60-cc7f1e3741ae"
    },
    {
      "cell_type": "raw",
      "metadata": {
        "raw_mimetype": "text/html"
      },
      "source": [
        "<!-- # Added-variable and leverage plots -->"
      ],
      "id": "865256dd-30e9-417b-9bbc-3598c95f5012"
    },
    {
      "cell_type": "raw",
      "metadata": {
        "raw_mimetype": "text/html"
      },
      "source": [
        "<!-- **Added-variable plots** -->"
      ],
      "id": "04da4522-a04f-4903-abab-1042aca30642"
    },
    {
      "cell_type": "raw",
      "metadata": {
        "raw_mimetype": "text/html"
      },
      "source": [
        "<!-- --- -->"
      ],
      "id": "5b429966-2cc6-41b0-9a5c-7a44e218d353"
    },
    {
      "cell_type": "raw",
      "metadata": {
        "raw_mimetype": "text/html"
      },
      "source": [
        "<!-- As we saw before, an *effect plot* is a plot -->"
      ],
      "id": "9e4f0c80-f1a1-4a02-aee6-ff61fff833bb"
    },
    {
      "cell_type": "raw",
      "metadata": {
        "raw_mimetype": "text/html"
      },
      "source": [
        "<!-- of the estimated mean relationship between the response and a focal -->"
      ],
      "id": "87ff8dd1-2bcf-4290-9fe2-ebcbf1e722f8"
    },
    {
      "cell_type": "raw",
      "metadata": {
        "raw_mimetype": "text/html"
      },
      "source": [
        "<!-- predictor while holding the model's predictors at typical values, -->"
      ],
      "id": "92f780f7-e599-4264-b1fd-242344773dd6"
    },
    {
      "cell_type": "raw",
      "metadata": {
        "raw_mimetype": "text/html"
      },
      "source": [
        "<!-- An *added-variable plot* or *partial regression plot* displays the -->"
      ],
      "id": "02a241fa-248f-440f-a54c-fb012f76c910"
    },
    {
      "cell_type": "raw",
      "metadata": {
        "raw_mimetype": "text/html"
      },
      "source": [
        "<!-- marginal effect of a regressor on the response after accounting for the -->"
      ],
      "id": "da8bd1df-bec9-4352-ace1-e491724d9874"
    },
    {
      "cell_type": "raw",
      "metadata": {
        "raw_mimetype": "text/html"
      },
      "source": [
        "<!-- other regressors in the model. An added-variable plot is a plot of two sets of residuals against one other. -->"
      ],
      "id": "d72dd069-4561-4b68-b34f-ba3e02be24b9"
    },
    {
      "cell_type": "raw",
      "metadata": {
        "raw_mimetype": "text/html"
      },
      "source": [
        "<!-- We create an added-variable plot for regressor $X_j$ in the following -->"
      ],
      "id": "c3775935-ebf7-4332-a833-774ecd87bd10"
    },
    {
      "cell_type": "raw",
      "metadata": {
        "raw_mimetype": "text/html"
      },
      "source": [
        "<!-- way: -->"
      ],
      "id": "00aac2f9-72e6-4ee9-81ec-2349bcc2b8da"
    },
    {
      "cell_type": "raw",
      "metadata": {
        "raw_mimetype": "text/html"
      },
      "source": [
        "<!-- 1.  Compute the residuals of the model regressing the response $Y$ on -->"
      ],
      "id": "8c327d14-0f7e-4b9d-baac-7cea169ea7ac"
    },
    {
      "cell_type": "raw",
      "metadata": {
        "raw_mimetype": "text/html"
      },
      "source": [
        "<!--     all regressors except $X_j$. We denote these residuals -->"
      ],
      "id": "fc0e68a0-d24b-43e1-9bbf-09a186ed54fa"
    },
    {
      "cell_type": "raw",
      "metadata": {
        "raw_mimetype": "text/html"
      },
      "source": [
        "<!--     $\\hat{\\boldsymbol{\\epsilon}}(Y\\mid \\mathbb{X}_{-j})$. These -->"
      ],
      "id": "e7b34986-2cb8-4e4b-8758-7c3fb40a2e95"
    },
    {
      "cell_type": "raw",
      "metadata": {
        "raw_mimetype": "text/html"
      },
      "source": [
        "<!--     residuals represent the part of the response variable not explained -->"
      ],
      "id": "2ea6aa99-afbc-46b5-9459-84ebec587608"
    },
    {
      "cell_type": "raw",
      "metadata": {
        "raw_mimetype": "text/html"
      },
      "source": [
        "<!--     by the regressors in $\\mathbb{X}_{-j}$. -->"
      ],
      "id": "43f1e211-d2e9-483b-8e6e-89fba16c1784"
    },
    {
      "cell_type": "raw",
      "metadata": {
        "raw_mimetype": "text/html"
      },
      "source": [
        "<!-- 2.  Compute the residuals of the model regressing the regressor $X_j$ on -->"
      ],
      "id": "d8abf366-67c2-4594-b1be-019974ec1f6f"
    },
    {
      "cell_type": "raw",
      "metadata": {
        "raw_mimetype": "text/html"
      },
      "source": [
        "<!--     all regressors except $X_j$. We denote these residuals -->"
      ],
      "id": "4a98b19c-465a-4eff-bbe3-9d8c906baa37"
    },
    {
      "cell_type": "raw",
      "metadata": {
        "raw_mimetype": "text/html"
      },
      "source": [
        "<!--     $\\hat{\\boldsymbol{\\epsilon}}(X_j \\mid \\mathbb{X}_{-j})$. These -->"
      ],
      "id": "3db0e01e-57c7-4755-b2ff-270ef364aa62"
    },
    {
      "cell_type": "raw",
      "metadata": {
        "raw_mimetype": "text/html"
      },
      "source": [
        "<!--     residuals represent the part of the $X_j$ not explained by the -->"
      ],
      "id": "c216a036-d81d-41df-9eab-b0d9c6843477"
    },
    {
      "cell_type": "raw",
      "metadata": {
        "raw_mimetype": "text/html"
      },
      "source": [
        "<!--     regressors in $\\mathbb{X}_{-j}$. Alternatively, these residuals -->"
      ],
      "id": "1826a21e-3a2f-4b29-b074-842c85fa05f9"
    },
    {
      "cell_type": "raw",
      "metadata": {
        "raw_mimetype": "text/html"
      },
      "source": [
        "<!--     represent the amount of additional information $X_j$ provides after -->"
      ],
      "id": "65cd8c2e-b993-4a0d-a369-e83133b89737"
    },
    {
      "cell_type": "raw",
      "metadata": {
        "raw_mimetype": "text/html"
      },
      "source": [
        "<!--     accounting for the regressors in $\\mathbb{X}_{-j}$. -->"
      ],
      "id": "0cd05599-5d5f-4c63-9988-f7b9bb51602b"
    },
    {
      "cell_type": "raw",
      "metadata": {
        "raw_mimetype": "text/html"
      },
      "source": [
        "<!-- 3.  The added-variable plot for $X_j$ is a plot of -->"
      ],
      "id": "0a5bac0b-d861-468c-83c5-a0d7ba409501"
    },
    {
      "cell_type": "raw",
      "metadata": {
        "raw_mimetype": "text/html"
      },
      "source": [
        "<!--     $\\hat{\\boldsymbol{\\epsilon}}(Y\\mid \\mathbb{X}_{-j})$ on the y-axis -->"
      ],
      "id": "6fa89f86-ecd7-49fb-8269-25b25c2f8b5f"
    },
    {
      "cell_type": "raw",
      "metadata": {
        "raw_mimetype": "text/html"
      },
      "source": [
        "<!--     and $\\hat{\\boldsymbol{\\epsilon}}(X_j \\mid \\mathbb{X}_{-j})$ on the -->"
      ],
      "id": "8756bb30-bd71-4413-8988-0bddc069ffb1"
    },
    {
      "cell_type": "raw",
      "metadata": {
        "raw_mimetype": "text/html"
      },
      "source": [
        "<!--     x-axis. -->"
      ],
      "id": "62f8d87b-f47a-44fa-ac20-000b564373b6"
    },
    {
      "cell_type": "raw",
      "metadata": {
        "raw_mimetype": "text/html"
      },
      "source": [
        "<!-- Added-variable plots allow us to visualize the impact a regressor has -->"
      ],
      "id": "93823252-8142-4929-a925-b3ef76c5aa42"
    },
    {
      "cell_type": "raw",
      "metadata": {
        "raw_mimetype": "text/html"
      },
      "source": [
        "<!-- when added to an existing regression model. We can use the -->"
      ],
      "id": "70f34a0c-ba95-413b-a58a-b50b55246b11"
    },
    {
      "cell_type": "raw",
      "metadata": {
        "raw_mimetype": "text/html"
      },
      "source": [
        "<!-- added-variable plot for $X_j$ to visually estimate the partial slope -->"
      ],
      "id": "3a002952-3595-423a-8234-9834c3731369"
    },
    {
      "cell_type": "raw",
      "metadata": {
        "raw_mimetype": "text/html"
      },
      "source": [
        "<!-- $\\hat{\\beta}_{j}$. The simple linear -->"
      ],
      "id": "954c4dfa-eee6-4816-a2e9-08136b83c20c"
    },
    {
      "cell_type": "raw",
      "metadata": {
        "raw_mimetype": "text/html"
      },
      "source": [
        "<!-- regression line that minimizes the RSS for the added-variable plot of -->"
      ],
      "id": "53d21577-18cc-44cc-ae63-6ba7baaf0352"
    },
    {
      "cell_type": "raw",
      "metadata": {
        "raw_mimetype": "text/html"
      },
      "source": [
        "<!-- $X_j$ will have slope $\\hat{\\beta}_j$. -->"
      ],
      "id": "90cc2f94-39cb-480f-b3d9-a2630a146d7b"
    },
    {
      "cell_type": "raw",
      "metadata": {
        "raw_mimetype": "text/html"
      },
      "source": [
        "<!-- We can use an added-variable plot in several ways: -->"
      ],
      "id": "98c8ff2d-090a-436c-938a-bd92fedd59fa"
    },
    {
      "cell_type": "raw",
      "metadata": {
        "raw_mimetype": "text/html"
      },
      "source": [
        "<!-- 1.  To assess the marginal relationship between $X_j$ and $Y$ after -->"
      ],
      "id": "7db6f1bb-f591-4ac7-9b8f-785a33496c8f"
    },
    {
      "cell_type": "raw",
      "metadata": {
        "raw_mimetype": "text/html"
      },
      "source": [
        "<!--     accounting for all of the other variables in the model. -->"
      ],
      "id": "38044592-1d10-4023-aefc-d2e4f799a34c"
    },
    {
      "cell_type": "raw",
      "metadata": {
        "raw_mimetype": "text/html"
      },
      "source": [
        "<!-- 2.  To assess the strength of this marginal relationship. -->"
      ],
      "id": "6e18a9d8-7710-496f-ac45-bde12e380103"
    },
    {
      "cell_type": "raw",
      "metadata": {
        "raw_mimetype": "text/html"
      },
      "source": [
        "<!-- 3.  To identify deficiencies in our fitted model. -->"
      ],
      "id": "e6ff0090-ea0f-4479-8992-13b5194861a5"
    },
    {
      "cell_type": "raw",
      "metadata": {
        "raw_mimetype": "text/html"
      },
      "source": [
        "<!-- 4.  To identify outliers and observations influential in determining the -->"
      ],
      "id": "c1a90419-b0ef-4d0b-8e55-2ef607c25bfe"
    },
    {
      "cell_type": "raw",
      "metadata": {
        "raw_mimetype": "text/html"
      },
      "source": [
        "<!--     estimated partial slope. -->"
      ],
      "id": "ba254926-a692-4327-9c20-f51c79eeb29e"
    },
    {
      "cell_type": "raw",
      "metadata": {
        "raw_mimetype": "text/html"
      },
      "source": [
        "<!-- In regards to point 1 and 2: -->"
      ],
      "id": "364ece99-d774-44d8-86b2-3606cd66a82d"
    },
    {
      "cell_type": "raw",
      "metadata": {
        "raw_mimetype": "text/html"
      },
      "source": [
        "<!-- -   If the added-variable plot for $X_j$ is essentially a scatter of -->"
      ],
      "id": "e232792a-e91d-4631-a1e9-0b5d30d48e07"
    },
    {
      "cell_type": "raw",
      "metadata": {
        "raw_mimetype": "text/html"
      },
      "source": [
        "<!--     points with slope zero, then $X_j$ can do little to explain $Y$ -->"
      ],
      "id": "4959f9ea-bdb5-4d4c-8c84-ec5a7a99f443"
    },
    {
      "cell_type": "raw",
      "metadata": {
        "raw_mimetype": "text/html"
      },
      "source": [
        "<!--     after accounting for the other regressors. -->"
      ],
      "id": "55cf143e-c95a-4b59-a567-2439bdac8824"
    },
    {
      "cell_type": "raw",
      "metadata": {
        "raw_mimetype": "text/html"
      },
      "source": [
        "<!-- -   If the points in an added-variable plot for $X_j$ have a linear -->"
      ],
      "id": "37ab101b-2d3a-45f2-8aa2-fa4b0064431a"
    },
    {
      "cell_type": "raw",
      "metadata": {
        "raw_mimetype": "text/html"
      },
      "source": [
        "<!--     relationship, then adding $X_j$ to the model regressing $Y$ on -->"
      ],
      "id": "55140e05-9ae4-47b1-ab18-2de67945e114"
    },
    {
      "cell_type": "raw",
      "metadata": {
        "raw_mimetype": "text/html"
      },
      "source": [
        "<!--     $\\mathbb{X}_{-j}$ is expected to improve our model's ability to -->"
      ],
      "id": "e6bb0a82-de66-41ce-8e08-2a3b92451d85"
    },
    {
      "cell_type": "raw",
      "metadata": {
        "raw_mimetype": "text/html"
      },
      "source": [
        "<!--     predict the behavior of $Y$.  -->"
      ],
      "id": "c550ebdb-3c1b-4050-a2ba-8a09b63a247e"
    },
    {
      "cell_type": "raw",
      "metadata": {
        "raw_mimetype": "text/html"
      },
      "source": [
        "<!-- -   If the points in an added-variable plot for $X_j$ are curved, it -->"
      ],
      "id": "c0a3dc47-a66f-4efd-82b5-540609f47f53"
    },
    {
      "cell_type": "raw",
      "metadata": {
        "raw_mimetype": "text/html"
      },
      "source": [
        "<!--     indicates that that there is a deficiency in the fitted model -->"
      ],
      "id": "723398fb-c2aa-4b4d-aac1-e201fe4a0aee"
    },
    {
      "cell_type": "raw",
      "metadata": {
        "raw_mimetype": "text/html"
      },
      "source": [
        "<!--     (likely because we need to include one or more additional regressors -->"
      ],
      "id": "22077d6c-82ce-45f0-bdb7-ee112d555206"
    },
    {
      "cell_type": "raw",
      "metadata": {
        "raw_mimetype": "text/html"
      },
      "source": [
        "<!--     to the model). -->"
      ],
      "id": "1c031655-3c76-4e03-a6aa-ca8e056d5752"
    },
    {
      "cell_type": "raw",
      "metadata": {
        "raw_mimetype": "text/html"
      },
      "source": [
        "<!-- ```{r} -->"
      ],
      "id": "0f6f3eb0-a366-4fe7-83e1-0525d5bd1eac"
    },
    {
      "cell_type": "raw",
      "metadata": {
        "raw_mimetype": "text/html"
      },
      "source": [
        "<!-- #| echo: false -->"
      ],
      "id": "25f6e66d-a5b7-463d-af3f-7304cdf3e64b"
    },
    {
      "cell_type": "raw",
      "metadata": {
        "raw_mimetype": "text/html"
      },
      "source": [
        "<!-- #| eval: true -->"
      ],
      "id": "07db755a-c94e-4a15-8987-b7bd86212639"
    },
    {
      "cell_type": "raw",
      "metadata": {
        "raw_mimetype": "text/html"
      },
      "source": [
        "<!-- #| output: true -->"
      ],
      "id": "3f878539-70c4-402f-b69c-00981fc0ea21"
    },
    {
      "cell_type": "raw",
      "metadata": {
        "raw_mimetype": "text/html"
      },
      "source": [
        "<!-- par(mfrow = c(1, 3), pty = \"s\") -->"
      ],
      "id": "ed5cef12-44f3-4952-aadb-6aa1a8cfd9ec"
    },
    {
      "cell_type": "raw",
      "metadata": {
        "raw_mimetype": "text/html"
      },
      "source": [
        "<!-- set.seed(71) -->"
      ],
      "id": "766b9a74-8601-46be-91a8-ff0b13ad9a20"
    },
    {
      "cell_type": "raw",
      "metadata": {
        "raw_mimetype": "text/html"
      },
      "source": [
        "<!-- x <- runif(30, -1, 1) -->"
      ],
      "id": "ae559397-06ae-41ff-9f18-a634821b1e00"
    },
    {
      "cell_type": "raw",
      "metadata": {
        "raw_mimetype": "text/html"
      },
      "source": [
        "<!-- y1 <- rnorm(30) -->"
      ],
      "id": "ab0f5e66-64e0-4df1-ae78-cc1764f6484c"
    },
    {
      "cell_type": "raw",
      "metadata": {
        "raw_mimetype": "text/html"
      },
      "source": [
        "<!-- y2 <- 0.2 + 0.3 * x + rnorm(30, sd = 0.05) -->"
      ],
      "id": "a9c29d1d-7c1f-4f6a-9ce7-f702e6db2f1b"
    },
    {
      "cell_type": "raw",
      "metadata": {
        "raw_mimetype": "text/html"
      },
      "source": [
        "<!-- y3 <- 0.2 + 0.6 * x + 0.6 * x^2 + rnorm(30, sd = 0.1) -->"
      ],
      "id": "dd872be9-a3f3-4da2-a2f8-c98bf40753bb"
    },
    {
      "cell_type": "raw",
      "metadata": {
        "raw_mimetype": "text/html"
      },
      "source": [
        "<!-- plot(y1 ~ x, ylab = \"Y | others\", -->"
      ],
      "id": "578c8322-b1bb-49c7-9cf5-49a287482d27"
    },
    {
      "cell_type": "raw",
      "metadata": {
        "raw_mimetype": "text/html"
      },
      "source": [
        "<!--      xlab = expression(paste(X[j], \" | others\"))) -->"
      ],
      "id": "cc9521ba-6dbb-448b-925d-376dca0d8572"
    },
    {
      "cell_type": "raw",
      "metadata": {
        "raw_mimetype": "text/html"
      },
      "source": [
        "<!-- title(\"(a)\") -->"
      ],
      "id": "d7ddb64b-531e-42ad-98cb-ff8b440c254c"
    },
    {
      "cell_type": "raw",
      "metadata": {
        "raw_mimetype": "text/html"
      },
      "source": [
        "<!-- plot(y2 ~ x, ylab = \"Y | others\", -->"
      ],
      "id": "ec4f8d83-fe7b-4464-b89a-41bd21a574f6"
    },
    {
      "cell_type": "raw",
      "metadata": {
        "raw_mimetype": "text/html"
      },
      "source": [
        "<!--      xlab = expression(paste(X[j], \" | others\"))) -->"
      ],
      "id": "fab62119-8f09-4d57-8163-6c0d328b823d"
    },
    {
      "cell_type": "raw",
      "metadata": {
        "raw_mimetype": "text/html"
      },
      "source": [
        "<!-- title(\"(b)\") -->"
      ],
      "id": "8a7b6aaa-e4e8-4488-ad14-379896d0031b"
    },
    {
      "cell_type": "raw",
      "metadata": {
        "raw_mimetype": "text/html"
      },
      "source": [
        "<!-- plot(y3 ~ x, ylab = \"Y | others\", -->"
      ],
      "id": "4f6aab46-1e07-4d37-a887-779660501196"
    },
    {
      "cell_type": "raw",
      "metadata": {
        "raw_mimetype": "text/html"
      },
      "source": [
        "<!--      xlab = expression(paste(X[j], \" | others\"))) -->"
      ],
      "id": "f0fff404-f460-4914-837d-48d546915986"
    },
    {
      "cell_type": "raw",
      "metadata": {
        "raw_mimetype": "text/html"
      },
      "source": [
        "<!-- title(\"(c)\") -->"
      ],
      "id": "acfdd161-5f32-4a74-89b5-1dff7cdd1aac"
    },
    {
      "cell_type": "raw",
      "metadata": {
        "raw_mimetype": "text/html"
      },
      "source": [
        "<!-- par(mfrow = c(1, 1)) -->"
      ],
      "id": "02ca45fc-9a2a-4c03-9345-e874b004b2a0"
    },
    {
      "cell_type": "raw",
      "metadata": {
        "raw_mimetype": "text/html"
      },
      "source": [
        "<!-- ``` -->"
      ],
      "id": "c76c3c5c-b1ce-416f-bde5-bfd24c936862"
    },
    {
      "cell_type": "raw",
      "metadata": {
        "raw_mimetype": "text/html"
      },
      "source": [
        "<!-- **Question** -->"
      ],
      "id": "3d9e0ad5-0231-44f3-a4cc-b6bda0321374"
    },
    {
      "cell_type": "raw",
      "metadata": {
        "raw_mimetype": "text/html"
      },
      "source": [
        "<!-- - What do the three plots tell us about our model? -->"
      ],
      "id": "c028b3aa-963a-4096-b289-6da6eca35d44"
    },
    {
      "cell_type": "raw",
      "metadata": {
        "raw_mimetype": "text/html"
      },
      "source": [
        "<!-- From the **car** package, the `avPlot` function will -->"
      ],
      "id": "2a130bff-c86f-4e2d-95bb-ba809534eabf"
    },
    {
      "cell_type": "raw",
      "metadata": {
        "raw_mimetype": "text/html"
      },
      "source": [
        "<!-- produce an added-variable plot for a single regressor while the -->"
      ],
      "id": "f4e7c994-9260-457e-8d10-a167e38e7319"
    },
    {
      "cell_type": "raw",
      "metadata": {
        "raw_mimetype": "text/html"
      },
      "source": [
        "<!-- `avPlots` function will produce added-variable plots for one or more -->"
      ],
      "id": "a259e0e9-ac98-430b-9602-dd47eceec4e8"
    },
    {
      "cell_type": "raw",
      "metadata": {
        "raw_mimetype": "text/html"
      },
      "source": [
        "<!-- regressors. -->"
      ],
      "id": "90d489c7-dd83-4729-9407-aaba1e833df9"
    },
    {
      "cell_type": "raw",
      "metadata": {
        "raw_mimetype": "text/html"
      },
      "source": [
        "<!-- The main arguments to the `avPlot` function are: -->"
      ],
      "id": "e6b52720-6082-470f-9f3e-a1386bbcdb01"
    },
    {
      "cell_type": "raw",
      "metadata": {
        "raw_mimetype": "text/html"
      },
      "source": [
        "<!-- -   `model`: the fitted `lm` (or `glm`) object. -->"
      ],
      "id": "bd8dee6a-f896-4690-a44c-6e683fd584ab"
    },
    {
      "cell_type": "raw",
      "metadata": {
        "raw_mimetype": "text/html"
      },
      "source": [
        "<!-- -   `variable`: the regressor for which to create an added-variable -->"
      ],
      "id": "3a307b1e-70d9-473b-97ac-6ee002d41ca1"
    },
    {
      "cell_type": "raw",
      "metadata": {
        "raw_mimetype": "text/html"
      },
      "source": [
        "<!--     plot. -->"
      ],
      "id": "a40814e9-bbe1-4735-b1be-252394f42711"
    },
    {
      "cell_type": "raw",
      "metadata": {
        "raw_mimetype": "text/html"
      },
      "source": [
        "<!-- -   `id`: a logical value indicating whether unusual observations should -->"
      ],
      "id": "70fa6901-7ace-49da-baff-383f88b533ff"
    },
    {
      "cell_type": "raw",
      "metadata": {
        "raw_mimetype": "text/html"
      },
      "source": [
        "<!--     be identified. By default, the value is `TRUE`, which means the 2 -->"
      ],
      "id": "5ff5097b-67db-4d09-b681-96c03532834b"
    },
    {
      "cell_type": "raw",
      "metadata": {
        "raw_mimetype": "text/html"
      },
      "source": [
        "<!--     points with the largest residuals and the 2 points with the largest -->"
      ],
      "id": "9d2bcab7-effe-47f3-b246-0609b77cc464"
    },
    {
      "cell_type": "raw",
      "metadata": {
        "raw_mimetype": "text/html"
      },
      "source": [
        "<!--     partial leverage are identified, though this can be customized. -->"
      ],
      "id": "a1a39266-27e6-481a-ac95-7f87c97a0642"
    },
    {
      "cell_type": "raw",
      "metadata": {
        "raw_mimetype": "text/html"
      },
      "source": [
        "<!-- The `avPlots` function replaces the `variable` argument with the `terms` -->"
      ],
      "id": "51f03e45-0887-464f-8f14-a47dd2505de4"
    },
    {
      "cell_type": "raw",
      "metadata": {
        "raw_mimetype": "text/html"
      },
      "source": [
        "<!-- argument. -->"
      ],
      "id": "fbfe671e-3ba3-47a3-a0d2-caadcd72ab43"
    },
    {
      "cell_type": "raw",
      "metadata": {
        "raw_mimetype": "text/html"
      },
      "source": [
        "<!-- The `terms` argument should be a one-sided formula to indicate -->"
      ],
      "id": "58e873b2-5c8e-48cd-ad0a-15445bc9459b"
    },
    {
      "cell_type": "raw",
      "metadata": {
        "raw_mimetype": "text/html"
      },
      "source": [
        "<!-- the regressors for which we want to construct added-variable plots (one -->"
      ],
      "id": "7fd2addd-7a6a-4a01-8929-545407472cd1"
    },
    {
      "cell_type": "raw",
      "metadata": {
        "raw_mimetype": "text/html"
      },
      "source": [
        "<!-- plot for each term). -->"
      ],
      "id": "93cec969-d522-4a6a-80c3-36c0b37dbd01"
    },
    {
      "cell_type": "raw",
      "metadata": {
        "raw_mimetype": "text/html"
      },
      "source": [
        "<!-- We now create and interpret added-variable plots for the model -->"
      ],
      "id": "9583f36e-ec85-4c64-8c5f-82c47abf4136"
    },
    {
      "cell_type": "raw",
      "metadata": {
        "raw_mimetype": "text/html"
      },
      "source": [
        "<!-- regressing `bill_length_mm` on `body_mass_g` and `flipper_length_mm`. -->"
      ],
      "id": "00046041-ca17-4613-aac2-dd0c863d4d67"
    },
    {
      "cell_type": "raw",
      "metadata": {
        "raw_mimetype": "text/html"
      },
      "source": [
        "<!-- ```{r} -->"
      ],
      "id": "efd7d3b5-b34e-480f-8409-439c713398a1"
    },
    {
      "cell_type": "raw",
      "metadata": {
        "raw_mimetype": "text/html"
      },
      "source": [
        "<!-- library(car) -->"
      ],
      "id": "cff8472a-2334-4099-9e77-1da85351ca4b"
    },
    {
      "cell_type": "raw",
      "metadata": {
        "raw_mimetype": "text/html"
      },
      "source": [
        "<!-- # create added-variable plots for all regressors in mlmod -->"
      ],
      "id": "27a4ddf5-cd0e-4a02-b419-13652fafaf23"
    },
    {
      "cell_type": "raw",
      "metadata": {
        "raw_mimetype": "text/html"
      },
      "source": [
        "<!-- avPlots(mlmod) -->"
      ],
      "id": "4311f667-f8e3-4bc4-bdff-74a454e8fc04"
    },
    {
      "cell_type": "raw",
      "metadata": {
        "raw_mimetype": "text/html"
      },
      "source": [
        "<!-- ``` -->"
      ],
      "id": "2786c08c-1543-460a-953a-a86f4406e004"
    },
    {
      "cell_type": "raw",
      "metadata": {
        "raw_mimetype": "text/html"
      },
      "source": [
        "<!-- The blue line is the simple linear regression model that minimizes the RSS of the points.  -->"
      ],
      "id": "902c895d-8e28-4f6b-a1c3-f80d7fc7288d"
    },
    {
      "cell_type": "raw",
      "metadata": {
        "raw_mimetype": "text/html"
      },
      "source": [
        "<!-- **Question:** -->"
      ],
      "id": "4bfaa0f3-ad17-43fc-9b25-647a493f7294"
    },
    {
      "cell_type": "raw",
      "metadata": {
        "raw_mimetype": "text/html"
      },
      "source": [
        "<!-- - Which variable seems to have more explanatory power? -->"
      ],
      "id": "9dc5eb1f-e4bc-4e02-b968-86df11f09d54"
    },
    {
      "cell_type": "raw",
      "metadata": {
        "raw_mimetype": "text/html"
      },
      "source": [
        "<!-- To create the added-variable plots for all regressors in the parallel lines model from `penguins` data, we use the fitted model:  -->"
      ],
      "id": "6bc04f96-bbb5-4c37-80ec-235525a28fc2"
    },
    {
      "cell_type": "raw",
      "metadata": {
        "raw_mimetype": "text/html"
      },
      "source": [
        "<!-- $$ -->"
      ],
      "id": "912ff2d2-1fe2-4bde-aaa6-7002112e169f"
    },
    {
      "cell_type": "raw",
      "metadata": {
        "raw_mimetype": "text/html"
      },
      "source": [
        "<!-- \\begin{aligned} -->"
      ],
      "id": "86849f86-37f9-4189-9e27-350cc455f829"
    },
    {
      "cell_type": "raw",
      "metadata": {
        "raw_mimetype": "text/html"
      },
      "source": [
        "<!-- &\\hat{E}(\\mathtt{bill\\_length\\_mm} \\mid \\mathtt{body\\_mass\\_g}, \\mathtt{species})\\\\ -->"
      ],
      "id": "2d1a0f86-cb29-483a-b169-98394dbb56ec"
    },
    {
      "cell_type": "raw",
      "metadata": {
        "raw_mimetype": "text/html"
      },
      "source": [
        "<!-- &= 24.92 + 0.004 \\mathtt{body\\_mass\\_g} + 9.92 D_C + 3.56 D_G, -->"
      ],
      "id": "4f6330b9-aa97-4ddc-a934-6eac931fc9e7"
    },
    {
      "cell_type": "raw",
      "metadata": {
        "raw_mimetype": "text/html"
      },
      "source": [
        "<!-- \\end{aligned} -->"
      ],
      "id": "7581dabc-e7ba-4655-906f-ddcb8e9d29a3"
    },
    {
      "cell_type": "raw",
      "metadata": {
        "raw_mimetype": "text/html"
      },
      "source": [
        "<!-- $$  -->"
      ],
      "id": "5d1dfb98-2970-41dc-bcfb-7390f068621a"
    },
    {
      "cell_type": "raw",
      "metadata": {
        "raw_mimetype": "text/html"
      },
      "source": [
        "<!-- where $D_C$ and $D_G$ are indicator variables for the Chinstrap and -->"
      ],
      "id": "f61de9e5-e1ec-41a9-af19-326b1fc65511"
    },
    {
      "cell_type": "raw",
      "metadata": {
        "raw_mimetype": "text/html"
      },
      "source": [
        "<!-- Gentoo penguin species (Adelie penguins are the reference species). -->"
      ],
      "id": "ccd250b2-7c47-4a20-a639-0a39a5a2a73e"
    },
    {
      "cell_type": "raw",
      "metadata": {
        "raw_mimetype": "text/html"
      },
      "source": [
        "<!-- ```{r avplots-lmodp, fig.cap = \"The added-variable plots for all regressors in the parallel lines model fit to the `penguins` data.\"} -->"
      ],
      "id": "ed533005-e870-4ef6-a6b4-1f1b31706149"
    },
    {
      "cell_type": "raw",
      "metadata": {
        "raw_mimetype": "text/html"
      },
      "source": [
        "<!-- avPlots(lmodp) -->"
      ],
      "id": "2539ae22-c47d-4663-89fc-d7af4e66c1e1"
    },
    {
      "cell_type": "raw",
      "metadata": {
        "raw_mimetype": "text/html"
      },
      "source": [
        "<!-- ``` -->"
      ],
      "id": "41607fd1-6ba2-4ae9-87ff-8748c33251af"
    },
    {
      "cell_type": "raw",
      "metadata": {
        "raw_mimetype": "text/html"
      },
      "source": [
        "<!-- **Question:**  -->"
      ],
      "id": "87cd1b5e-6325-4b2d-8b17-4fdbd55aad20"
    },
    {
      "cell_type": "raw",
      "metadata": {
        "raw_mimetype": "text/html"
      },
      "source": [
        "<!-- - How should we interpret the relative strength of the linear relationships? -->"
      ],
      "id": "0a079759-8d31-4c8e-8920-90fb31936240"
    },
    {
      "cell_type": "raw",
      "metadata": {
        "raw_mimetype": "text/html"
      },
      "source": [
        "<!-- - Is there any clustering apparent? -->"
      ],
      "id": "32923a0c-7317-462d-abac-c7bc7bd853cb"
    },
    {
      "cell_type": "raw",
      "metadata": {
        "raw_mimetype": "text/html"
      },
      "source": [
        "<!-- **Leverage Plots** -->"
      ],
      "id": "06c71834-c148-4175-b376-15ae34cc4850"
    },
    {
      "cell_type": "raw",
      "metadata": {
        "raw_mimetype": "text/html"
      },
      "source": [
        "<!-- --- -->"
      ],
      "id": "0a4ad2e3-ba71-4f33-abfb-8c624bf728bd"
    },
    {
      "cell_type": "raw",
      "metadata": {
        "raw_mimetype": "text/html"
      },
      "source": [
        "<!-- It sometimes doesn't make sense to talk about the effect of adding a single regressor when all of the other regressors are in the model. -->"
      ],
      "id": "3d0b8373-30a0-4057-8112-e1ccb56c04f3"
    },
    {
      "cell_type": "raw",
      "metadata": {
        "raw_mimetype": "text/html"
      },
      "source": [
        "<!-- - When we add a categorical predictor to our model, we simultaneously add $K-1$ -->"
      ],
      "id": "f8e3adc4-756e-461c-a81d-cdf8db86b433"
    },
    {
      "cell_type": "raw",
      "metadata": {
        "raw_mimetype": "text/html"
      },
      "source": [
        "<!-- indicator variables as regressors; we do not add the indicator variables -->"
      ],
      "id": "52f4fc5c-0bd3-4293-b001-97b32b6413a1"
    },
    {
      "cell_type": "raw",
      "metadata": {
        "raw_mimetype": "text/html"
      },
      "source": [
        "<!-- one-at-a-time.  -->"
      ],
      "id": "23f33c3c-7eb1-4f7a-a495-922e8d6069fb"
    },
    {
      "cell_type": "raw",
      "metadata": {
        "raw_mimetype": "text/html"
      },
      "source": [
        "<!-- We refer to regressors with this behavior as -->"
      ],
      "id": "0d84fdcf-4872-4c86-9cdc-f5268a49b195"
    },
    {
      "cell_type": "raw",
      "metadata": {
        "raw_mimetype": "text/html"
      },
      "source": [
        "<!-- \"multiple degrees-of-freedom terms\". -->"
      ],
      "id": "9efa5ba9-e855-4823-bad2-9b81c4b728a2"
    },
    {
      "cell_type": "raw",
      "metadata": {
        "raw_mimetype": "text/html"
      },
      "source": [
        "<!-- - A categorical variable with 3 or -->"
      ],
      "id": "86b8bb23-5bd8-452b-abef-0adb2d50e259"
    },
    {
      "cell_type": "raw",
      "metadata": {
        "raw_mimetype": "text/html"
      },
      "source": [
        "<!-- more levels is the most basic multiple degrees-of-freedom term. -->"
      ],
      "id": "7dff8be3-5c0e-4a9b-9341-a5371e67f891"
    },
    {
      "cell_type": "raw",
      "metadata": {
        "raw_mimetype": "text/html"
      },
      "source": [
        "<!-- - We could also consider regressors related to the interaction between -->"
      ],
      "id": "f54c698b-880c-415d-b85d-2d32f2518994"
    },
    {
      "cell_type": "raw",
      "metadata": {
        "raw_mimetype": "text/html"
      },
      "source": [
        "<!-- two or more predictors, polynomial regressors, etc. -->"
      ],
      "id": "f5c131db-9244-4c08-a039-01a4dd800c03"
    },
    {
      "cell_type": "raw",
      "metadata": {
        "raw_mimetype": "text/html"
      },
      "source": [
        "<!-- A *leverage plot*  allows us to visualize the impact of multiple degrees-of-freedom terms. The interpretation of leverage -->"
      ],
      "id": "d05a8a1b-8b1c-4494-a00c-a2c89d775a62"
    },
    {
      "cell_type": "raw",
      "metadata": {
        "raw_mimetype": "text/html"
      },
      "source": [
        "<!-- plots is similar to the interpretation of added-variable plots, though -->"
      ],
      "id": "fc48c5e6-e3b0-45e0-b985-8ee5848bc6b0"
    },
    {
      "cell_type": "raw",
      "metadata": {
        "raw_mimetype": "text/html"
      },
      "source": [
        "<!-- we refer to \"predictors\" or \"terms\" instead regressors (which may be -->"
      ],
      "id": "757f1008-6c10-43d1-afd8-9ba1a76e54cb"
    },
    {
      "cell_type": "raw",
      "metadata": {
        "raw_mimetype": "text/html"
      },
      "source": [
        "<!-- combined into one plot).  -->"
      ],
      "id": "594863b2-be67-402c-823a-a63f08e698d3"
    },
    {
      "cell_type": "raw",
      "metadata": {
        "raw_mimetype": "text/html"
      },
      "source": [
        "<!-- The `leveragePlot` and `leveragePlots` functions in the `car` package produce single or multiple leverage plots, respectively, with arguments similar to the `avPlot` and `avPlots` functions. -->"
      ],
      "id": "34790aa9-0c51-4536-8702-c6e9523d96f8"
    },
    {
      "cell_type": "raw",
      "metadata": {
        "raw_mimetype": "text/html"
      },
      "source": [
        "<!-- ```{r leverageplot-lmodp} -->"
      ],
      "id": "d579dd4b-ac09-4b48-b4be-a7b0dbe98242"
    },
    {
      "cell_type": "raw",
      "metadata": {
        "raw_mimetype": "text/html"
      },
      "source": [
        "<!-- leveragePlots(lmodp) -->"
      ],
      "id": "e430ab30-36ce-4d8d-a34a-1e0f0b177b27"
    },
    {
      "cell_type": "raw",
      "metadata": {
        "raw_mimetype": "text/html"
      },
      "source": [
        "<!-- ``` -->"
      ],
      "id": "87f64eb2-d359-4bcd-a340-a8070288bd17"
    },
    {
      "cell_type": "raw",
      "metadata": {
        "raw_mimetype": "text/html"
      },
      "source": [
        "<!-- Interpretation:  -->"
      ],
      "id": "04b9f5d5-5fb4-41e4-a110-bf89c13b0b88"
    },
    {
      "cell_type": "raw",
      "metadata": {
        "raw_mimetype": "text/html"
      },
      "source": [
        "<!-- - The leverage plot for `body_mass_g` has a moderate linear -->"
      ],
      "id": "9c6ede2a-3e8e-4a17-94d5-858c78109e19"
    },
    {
      "cell_type": "raw",
      "metadata": {
        "raw_mimetype": "text/html"
      },
      "source": [
        "<!-- relationship, so we expect `body_mass_g` to have moderate value in -->"
      ],
      "id": "1633e7b6-e807-4495-beaa-20eeb90ff273"
    },
    {
      "cell_type": "raw",
      "metadata": {
        "raw_mimetype": "text/html"
      },
      "source": [
        "<!-- explaining the behavior of `bill_length_mm` after accounting for -->"
      ],
      "id": "679dd2a6-ba41-428b-8ba1-f65771967ebd"
    },
    {
      "cell_type": "raw",
      "metadata": {
        "raw_mimetype": "text/html"
      },
      "source": [
        "<!-- `species` -->"
      ],
      "id": "df25ab4b-1361-4cb2-bf0e-fd3997249b55"
    },
    {
      "cell_type": "raw",
      "metadata": {
        "raw_mimetype": "text/html"
      },
      "source": [
        "<!-- - The points in the leverage plot for `species` have -->"
      ],
      "id": "a6482ceb-8e34-4c6f-9e42-9f7d3ff52df9"
    },
    {
      "cell_type": "raw",
      "metadata": {
        "raw_mimetype": "text/html"
      },
      "source": [
        "<!-- a moderately strong linear relationship, so we expect `species` to have -->"
      ],
      "id": "2012c09a-0477-4db2-8035-6a6807439314"
    },
    {
      "cell_type": "raw",
      "metadata": {
        "raw_mimetype": "text/html"
      },
      "source": [
        "<!-- moderate value in explaining the behavior of `bill_length_mm` after -->"
      ],
      "id": "d501f673-6014-4824-8141-ab71602bd8c1"
    },
    {
      "cell_type": "raw",
      "metadata": {
        "raw_mimetype": "text/html"
      },
      "source": [
        "<!-- accounting for `body_mass_g`. -->"
      ],
      "id": "906e96fe-9b3e-4c8c-848c-0c5db30fb99a"
    },
    {
      "cell_type": "raw",
      "metadata": {
        "raw_mimetype": "text/html"
      },
      "source": [
        "<!-- We next examine the leverage plot for the separate lines model fit to -->"
      ],
      "id": "bac0cced-f42d-4f4a-899e-15301026ecee"
    },
    {
      "cell_type": "raw",
      "metadata": {
        "raw_mimetype": "text/html"
      },
      "source": [
        "<!-- the `penguins` data. The fitted separate lines model is: -->"
      ],
      "id": "a71ef760-a0b1-4e4d-85a8-e0be478a44fc"
    },
    {
      "cell_type": "raw",
      "metadata": {
        "raw_mimetype": "text/html"
      },
      "source": [
        "<!-- $$ -->"
      ],
      "id": "31a96a22-5ec5-4752-b828-09e8970ee944"
    },
    {
      "cell_type": "raw",
      "metadata": {
        "raw_mimetype": "text/html"
      },
      "source": [
        "<!-- \\begin{aligned} -->"
      ],
      "id": "d81cf7a9-6641-4a33-9a84-6daf39f55b13"
    },
    {
      "cell_type": "raw",
      "metadata": {
        "raw_mimetype": "text/html"
      },
      "source": [
        "<!-- &\\hat{E}(\\mathtt{bill\\_length\\_mm} \\mid \\mathtt{body\\_mass\\_g}, \\mathtt{species}) \\\\ -->"
      ],
      "id": "6448f2c2-a870-4bd5-a269-a6cdb87439ec"
    },
    {
      "cell_type": "raw",
      "metadata": {
        "raw_mimetype": "text/html"
      },
      "source": [
        "<!-- &= 26.99 + 0.003 \\mathtt{body\\_mass\\_g} + 5.18 D_C - 0.25 D_G \\\\ -->"
      ],
      "id": "9d458f25-1dcf-4970-a566-56d12daae7e4"
    },
    {
      "cell_type": "raw",
      "metadata": {
        "raw_mimetype": "text/html"
      },
      "source": [
        "<!-- &\\quad + 0.001 D_C \\mathtt{body\\_mass\\_g} + 0.0009 D_G \\mathtt{body\\_mass\\_g}, -->"
      ],
      "id": "15ebed74-5616-4f79-98eb-b0a97f401efa"
    },
    {
      "cell_type": "raw",
      "metadata": {
        "raw_mimetype": "text/html"
      },
      "source": [
        "<!-- \\end{aligned} -->"
      ],
      "id": "b0fa9486-dc8d-4139-8cad-d0b4a69725e6"
    },
    {
      "cell_type": "raw",
      "metadata": {
        "raw_mimetype": "text/html"
      },
      "source": [
        "<!-- $$ -->"
      ],
      "id": "24c0eee6-2219-47ba-9bfe-52150f7d75c6"
    },
    {
      "cell_type": "raw",
      "metadata": {
        "raw_mimetype": "text/html"
      },
      "source": [
        "<!-- There are 6 estimated coefficients, but the fitted model has only -->"
      ],
      "id": "3a0f5656-f425-4b32-b2ce-69f6f15a18ef"
    },
    {
      "cell_type": "raw",
      "metadata": {
        "raw_mimetype": "text/html"
      },
      "source": [
        "<!-- 3 non-intercept terms. Recall the formula we fit for the separate lines -->"
      ],
      "id": "2016c459-b658-49da-9ccc-3e580a16a7ce"
    },
    {
      "cell_type": "raw",
      "metadata": {
        "raw_mimetype": "text/html"
      },
      "source": [
        "<!-- model: -->"
      ],
      "id": "fad27cb0-b3ea-4c46-842d-d1731c759fbe"
    },
    {
      "cell_type": "raw",
      "metadata": {
        "raw_mimetype": "text/html"
      },
      "source": [
        "<!-- ```{r} -->"
      ],
      "id": "42457973-b19f-4e6f-a360-817ab4b00bb3"
    },
    {
      "cell_type": "raw",
      "metadata": {
        "raw_mimetype": "text/html"
      },
      "source": [
        "<!-- #| echo: true -->"
      ],
      "id": "df9db8b1-20cc-431f-ba66-053b664e9a93"
    },
    {
      "cell_type": "raw",
      "metadata": {
        "raw_mimetype": "text/html"
      },
      "source": [
        "<!-- #| eval: false -->"
      ],
      "id": "97958c43-4797-4b57-bf60-c9f2f87c46c5"
    },
    {
      "cell_type": "raw",
      "metadata": {
        "raw_mimetype": "text/html"
      },
      "source": [
        "<!-- #| output: true -->"
      ],
      "id": "031cd4fc-c469-4fe3-8f52-c90bd52ea176"
    },
    {
      "cell_type": "raw",
      "metadata": {
        "raw_mimetype": "text/html"
      },
      "source": [
        "<!-- # function call for separate lines model -->"
      ],
      "id": "55dba622-8f3f-4b87-8bb6-5ad1a39a3811"
    },
    {
      "cell_type": "raw",
      "metadata": {
        "raw_mimetype": "text/html"
      },
      "source": [
        "<!-- lm(formula = bill_length_mm ~ body_mass_g + species + body_mass_g:species, -->"
      ],
      "id": "2e104716-6719-4c80-a8a4-a896ce25b4f2"
    },
    {
      "cell_type": "raw",
      "metadata": {
        "raw_mimetype": "text/html"
      },
      "source": [
        "<!--    data = penguins) -->"
      ],
      "id": "5f6218de-2606-431f-859b-844eb6aace77"
    },
    {
      "cell_type": "raw",
      "metadata": {
        "raw_mimetype": "text/html"
      },
      "source": [
        "<!-- ``` -->"
      ],
      "id": "b044c72d-52ab-4652-98bb-7f53648ca009"
    },
    {
      "cell_type": "raw",
      "metadata": {
        "raw_mimetype": "text/html"
      },
      "source": [
        "<!-- Thus, we have terms for `body_mass_g`, `species`, and the interaction -->"
      ],
      "id": "95e7747b-74a4-4555-a1e8-981ad08ee37a"
    },
    {
      "cell_type": "raw",
      "metadata": {
        "raw_mimetype": "text/html"
      },
      "source": [
        "<!-- term `body_mass_g:species`. -->"
      ],
      "id": "fd0e56c2-a2d9-47ae-8bdc-5e44b3f12ebe"
    },
    {
      "cell_type": "raw",
      "metadata": {
        "raw_mimetype": "text/html"
      },
      "source": [
        "<!-- We use the code below to create the leverage plots: -->"
      ],
      "id": "900d1496-99d9-48d0-b92f-faaf095eb7de"
    },
    {
      "cell_type": "raw",
      "metadata": {
        "raw_mimetype": "text/html"
      },
      "source": [
        "<!-- ```{r} -->"
      ],
      "id": "0bfdef04-53a3-440a-8673-bff7e1b50fe0"
    },
    {
      "cell_type": "raw",
      "metadata": {
        "raw_mimetype": "text/html"
      },
      "source": [
        "<!-- leveragePlots(lmods) -->"
      ],
      "id": "53f9012e-04fa-4acd-a75a-87cf2cc7d290"
    },
    {
      "cell_type": "raw",
      "metadata": {
        "raw_mimetype": "text/html"
      },
      "source": [
        "<!-- ``` -->"
      ],
      "id": "621ffed2-99a6-4b06-9ba1-1205576bde74"
    },
    {
      "cell_type": "raw",
      "metadata": {
        "raw_mimetype": "text/html"
      },
      "source": [
        "<!-- Interpretation: -->"
      ],
      "id": "8176a3e2-db08-4856-b4b1-0e5bea7ba72e"
    },
    {
      "cell_type": "raw",
      "metadata": {
        "raw_mimetype": "text/html"
      },
      "source": [
        "<!-- - The leverage plot for `body_mass_g` has a -->"
      ],
      "id": "30f8b2d8-9059-4976-8750-e5c75f991100"
    },
    {
      "cell_type": "raw",
      "metadata": {
        "raw_mimetype": "text/html"
      },
      "source": [
        "<!-- moderate linear relationship, so we expect `body_mass_g` to have -->"
      ],
      "id": "df939d5b-7647-434f-a251-c85c9a03da4e"
    },
    {
      "cell_type": "raw",
      "metadata": {
        "raw_mimetype": "text/html"
      },
      "source": [
        "<!-- moderate additional value in explaining the behavior of `bill_length_mm` -->"
      ],
      "id": "9872bd3b-4e1c-4e2f-b1c9-ad5bf1d86eaa"
    },
    {
      "cell_type": "raw",
      "metadata": {
        "raw_mimetype": "text/html"
      },
      "source": [
        "<!-- after accounting for `species` and the interaction term -->"
      ],
      "id": "1bed5842-660d-4aa9-8691-ba211a0a7230"
    },
    {
      "cell_type": "raw",
      "metadata": {
        "raw_mimetype": "text/html"
      },
      "source": [
        "<!-- `body_mass_g:species`. -->"
      ],
      "id": "94ab49b2-1a6e-4a08-94d2-887061b3e4a6"
    },
    {
      "cell_type": "raw",
      "metadata": {
        "raw_mimetype": "text/html"
      },
      "source": [
        "<!--     - It is unlikely we would include the `body_mass_g:species` term in our model prior to including `body_mass_g`, so philosophically, this plot provides little useful information. -->"
      ],
      "id": "3a96e458-c894-44f9-a7b7-0aaacb61562f"
    },
    {
      "cell_type": "raw",
      "metadata": {
        "raw_mimetype": "text/html"
      },
      "source": [
        "<!-- - Interpreting the leverage plot for `species` has limited -->"
      ],
      "id": "4a8c7f04-0ccc-47bf-bb6a-f0c1a1d0235e"
    },
    {
      "cell_type": "raw",
      "metadata": {
        "raw_mimetype": "text/html"
      },
      "source": [
        "<!-- utility because the leverage plot includes the influence of the -->"
      ],
      "id": "7e7a851d-2b84-4a52-8d33-f095c21057d1"
    },
    {
      "cell_type": "raw",
      "metadata": {
        "raw_mimetype": "text/html"
      },
      "source": [
        "<!-- interaction term `body_mass_g:species`. -->"
      ],
      "id": "35e1abd3-32fa-478c-b4a3-dfb2a761c710"
    },
    {
      "cell_type": "raw",
      "metadata": {
        "raw_mimetype": "text/html"
      },
      "source": [
        "<!--     - We are unlikely to fit a model that includes the interaction term without also including the `species` term directly. Instead it makes more sense to judge the utility of adding `species` to the model regressing `bill_length_mm` on -->"
      ],
      "id": "9458a19b-262b-4b88-a469-79c98fbeb0c6"
    },
    {
      "cell_type": "raw",
      "metadata": {
        "raw_mimetype": "text/html"
      },
      "source": [
        "<!-- `body_mass_g` alone, which we already considered. -->"
      ],
      "id": "bcc10131-86f1-44f4-81b7-cb0687aa0489"
    },
    {
      "cell_type": "raw",
      "metadata": {
        "raw_mimetype": "text/html"
      },
      "source": [
        "<!-- - Examining the leverage plot for the interaction term `body_mass_g:species` , we see the points have only a weak linear relationship. Thus, we expect limited utility in adding the interaction term `body_mass_g:species` to the parallel lines regression model that regresses `bill_length_mm` on `body_mass_g` and `species`. -->"
      ],
      "id": "9352b01d-3472-4a5b-aa38-dc76547539f2"
    },
    {
      "cell_type": "raw",
      "metadata": {
        "raw_mimetype": "text/html"
      },
      "source": [
        "<!-- # Going deeper -->"
      ],
      "id": "14f536d7-b3ec-4533-ab84-78186b241b37"
    },
    {
      "cell_type": "raw",
      "metadata": {
        "raw_mimetype": "text/html"
      },
      "source": [
        "<!-- **Orthogonality** -->"
      ],
      "id": "04026fc1-0470-4a46-a6d2-c692e9981745"
    },
    {
      "cell_type": "raw",
      "metadata": {
        "raw_mimetype": "text/html"
      },
      "source": [
        "<!-- --- -->"
      ],
      "id": "6e10b038-5407-4da0-b44d-bfac8ceca970"
    },
    {
      "cell_type": "raw",
      "metadata": {
        "raw_mimetype": "text/html"
      },
      "source": [
        "<!-- Let $$\\mathbf{X}_{[j]}=[x_{1,j},\\ldots,x_{n,j}]$$ denote the $n\\times 1$ -->"
      ],
      "id": "cb84e9c7-55e6-4eb2-9c2d-78bf98cbb41b"
    },
    {
      "cell_type": "raw",
      "metadata": {
        "raw_mimetype": "text/html"
      },
      "source": [
        "<!-- column vector of observed values for regressor $X_j$. (We can't use the -->"
      ],
      "id": "d85c6f60-c070-48d4-a49f-d54f5745dde0"
    },
    {
      "cell_type": "raw",
      "metadata": {
        "raw_mimetype": "text/html"
      },
      "source": [
        "<!-- notation $\\mathbf{x}_j$ because that is the $p\\times 1$ vector of -->"
      ],
      "id": "5c72076a-1827-49ec-b10b-fd58e3735100"
    },
    {
      "cell_type": "raw",
      "metadata": {
        "raw_mimetype": "text/html"
      },
      "source": [
        "<!-- regressor values for the $j$th observation). Regressors -->"
      ],
      "id": "42e64293-8c68-46e2-ad0d-d288d6dc20c8"
    },
    {
      "cell_type": "raw",
      "metadata": {
        "raw_mimetype": "text/html"
      },
      "source": [
        "<!-- $\\mathbf{X}_{[j]}$ and $\\mathbf{X}_{[k]}$ are *orthogonal* if -->"
      ],
      "id": "3fcaa221-6f88-4320-8e54-60297f3bf924"
    },
    {
      "cell_type": "raw",
      "metadata": {
        "raw_mimetype": "text/html"
      },
      "source": [
        "<!-- $\\mathbf{X}_{[j]}^T \\mathbf{X}_{[k]}=0$. -->"
      ],
      "id": "ad6ff838-592b-4ea2-b85a-33de397d5120"
    },
    {
      "cell_type": "raw",
      "metadata": {
        "raw_mimetype": "text/html"
      },
      "source": [
        "<!-- Let $\\boldsymbol{1}_{n\\times1}$ denote an $n\\times 1$ column vector of -->"
      ],
      "id": "0eafd296-986d-47ec-a474-9a233f22576c"
    },
    {
      "cell_type": "raw",
      "metadata": {
        "raw_mimetype": "text/html"
      },
      "source": [
        "<!-- 1s. The definition of orthogonal vectors above implies that -->"
      ],
      "id": "f153bd4b-6078-46c1-86ab-cb36e110cf33"
    },
    {
      "cell_type": "raw",
      "metadata": {
        "raw_mimetype": "text/html"
      },
      "source": [
        "<!-- $\\mathbf{X}_{[j]}$ is orthogonal to $\\boldsymbol{1}_{n\\times1}$ if $$ -->"
      ],
      "id": "fa3f65f0-d98e-4d90-87e1-0e1d7f56f225"
    },
    {
      "cell_type": "raw",
      "metadata": {
        "raw_mimetype": "text/html"
      },
      "source": [
        "<!-- \\mathbf{X}_{[j]}^T \\boldsymbol{1}_{n\\times1} = \\sum_{i=1}^n x_{i,j} = 0,$$ -->"
      ],
      "id": "726df1c7-a833-4dce-85cc-abf0fb359c5f"
    },
    {
      "cell_type": "raw",
      "metadata": {
        "raw_mimetype": "text/html"
      },
      "source": [
        "<!-- i.e., if the values in $\\mathbf{X}_{[j]}$ sum to zero. -->"
      ],
      "id": "f99ce1ea-e111-4514-b2f8-151f10ae6a41"
    },
    {
      "cell_type": "raw",
      "metadata": {
        "raw_mimetype": "text/html"
      },
      "source": [
        "<!-- Let $\\bar{x}_j = \\frac{1}{n}\\sum_{i=1}^n x_{i,j}$ denote the sample mean -->"
      ],
      "id": "01f7b75f-c4df-4fe7-8a17-57f865a33344"
    },
    {
      "cell_type": "raw",
      "metadata": {
        "raw_mimetype": "text/html"
      },
      "source": [
        "<!-- of $\\mathbf{X}_{[j]}$ and -->"
      ],
      "id": "5ed2209c-1af8-42b3-83c0-c6756a244bfb"
    },
    {
      "cell_type": "raw",
      "metadata": {
        "raw_mimetype": "text/html"
      },
      "source": [
        "<!-- $\\bar{\\mathbf{x}}_j = \\bar{x}_j \\boldsymbol{1}_{n\\times 1}$ denote the -->"
      ],
      "id": "4df34bb5-3ad7-41f3-aa11-eb58b56adde0"
    },
    {
      "cell_type": "raw",
      "metadata": {
        "raw_mimetype": "text/html"
      },
      "source": [
        "<!-- column vector that repeats $\\bar{x}_j$ $n$ times. -->"
      ],
      "id": "62b44ce9-e880-4a64-ae50-b4e64a1da874"
    },
    {
      "cell_type": "raw",
      "metadata": {
        "raw_mimetype": "text/html"
      },
      "source": [
        "<!-- *Centering* $\\mathbf{X}_{[j]}$ involves subtracting the sample mean of -->"
      ],
      "id": "2155d103-0025-416d-bb22-8bbb9e8a322e"
    },
    {
      "cell_type": "raw",
      "metadata": {
        "raw_mimetype": "text/html"
      },
      "source": [
        "<!-- $\\mathbf{X}_{[j]}$ from $\\mathbf{X}_{[j]}$, i.e., -->"
      ],
      "id": "c0f17817-c00b-4d48-98aa-a6d0577db05a"
    },
    {
      "cell_type": "raw",
      "metadata": {
        "raw_mimetype": "text/html"
      },
      "source": [
        "<!-- $\\mathbf{X}_{[j]} - \\bar{\\mathbf{x}}_j$. -->"
      ],
      "id": "32b8d387-0e73-41e0-bc5c-c36abd6c81d3"
    },
    {
      "cell_type": "raw",
      "metadata": {
        "raw_mimetype": "text/html"
      },
      "source": [
        "<!-- Regressors $\\mathbf{X}_{[j]}$ and $\\mathbf{X}_{[k]}$ are -->"
      ],
      "id": "b540f4e1-b337-4799-ac27-7808911a52ef"
    },
    {
      "cell_type": "raw",
      "metadata": {
        "raw_mimetype": "text/html"
      },
      "source": [
        "<!-- *uncorrelated* if they are orthogonal after being centered, i.e., if -->"
      ],
      "id": "a03855ed-91e1-4735-8169-a4dd449ca343"
    },
    {
      "cell_type": "raw",
      "metadata": {
        "raw_mimetype": "text/html"
      },
      "source": [
        "<!-- $$ -->"
      ],
      "id": "e96848f3-f044-47b6-b592-844d082e7b7e"
    },
    {
      "cell_type": "raw",
      "metadata": {
        "raw_mimetype": "text/html"
      },
      "source": [
        "<!-- (\\mathbf{X}_{[j]} - \\bar{\\mathbf{x}}_j)^T (\\mathbf{X}_{[k]} - \\bar{\\mathbf{x}}_k)=0. -->"
      ],
      "id": "653a8834-0e5b-4322-a688-380777d650c4"
    },
    {
      "cell_type": "raw",
      "metadata": {
        "raw_mimetype": "text/html"
      },
      "source": [
        "<!-- $$ Note that the sample covariance between vectors $\\mathbf{X}_{[j]}$ -->"
      ],
      "id": "732401b8-758d-4e17-9ddf-54ee83d57292"
    },
    {
      "cell_type": "raw",
      "metadata": {
        "raw_mimetype": "text/html"
      },
      "source": [
        "<!-- and $\\mathbf{X}_{[k]}$ is $$ -->"
      ],
      "id": "30da4def-03b4-4c03-a23a-66cd0df39561"
    },
    {
      "cell_type": "raw",
      "metadata": {
        "raw_mimetype": "text/html"
      },
      "source": [
        "<!-- \\begin{aligned} -->"
      ],
      "id": "9e13dbce-ec23-4e74-b047-709d5e5bc19e"
    },
    {
      "cell_type": "raw",
      "metadata": {
        "raw_mimetype": "text/html"
      },
      "source": [
        "<!-- \\widehat{\\mathrm{cov}}(\\mathbf{X}_{[j]}, \\mathbf{X}_{[k]}) &= \\frac{1}{n-1}\\sum_{i=1}^n (x_{i,j} - \\bar{x}_j)(x_{i,k} - \\bar{x}_k) \\\\ -->"
      ],
      "id": "1402ebdd-e87c-4ca7-8463-9297cafe55d3"
    },
    {
      "cell_type": "raw",
      "metadata": {
        "raw_mimetype": "text/html"
      },
      "source": [
        "<!--  &= \\frac{1}{n-1}(\\mathbf{X}_{[j]} - \\bar{\\mathbf{x}}_j)^T (\\mathbf{X}_{[k]} - \\bar{\\mathbf{x}}_k). -->"
      ],
      "id": "dae572e3-a1a0-4ae4-8218-ffda725dc583"
    },
    {
      "cell_type": "raw",
      "metadata": {
        "raw_mimetype": "text/html"
      },
      "source": [
        "<!-- \\end{aligned} -->"
      ],
      "id": "06285e5b-1d9b-4efa-9409-3145a42d396e"
    },
    {
      "cell_type": "raw",
      "metadata": {
        "raw_mimetype": "text/html"
      },
      "source": [
        "<!-- $$Thus, two centered regressors are orthogonal if their covariance is -->"
      ],
      "id": "46647c6a-3539-4f5f-bbd5-874860096881"
    },
    {
      "cell_type": "raw",
      "metadata": {
        "raw_mimetype": "text/html"
      },
      "source": [
        "<!-- zero. -->"
      ],
      "id": "37cf9311-301c-4123-971e-106a70fd4a82"
    },
    {
      "cell_type": "raw",
      "metadata": {
        "raw_mimetype": "text/html"
      },
      "source": [
        "<!-- It is a desirable to have orthogonal regressors in our fitted model -->"
      ],
      "id": "8632c867-5e3b-4b7a-8f36-77f670727840"
    },
    {
      "cell_type": "raw",
      "metadata": {
        "raw_mimetype": "text/html"
      },
      "source": [
        "<!-- because they simplify estimating the relationship between the regressors -->"
      ],
      "id": "016d54c7-f476-4db8-83b7-327a2c8ba19e"
    },
    {
      "cell_type": "raw",
      "metadata": {
        "raw_mimetype": "text/html"
      },
      "source": [
        "<!-- and the response. Specifically: -->"
      ],
      "id": "a9216a64-2684-4c7b-8066-220b7c6c094a"
    },
    {
      "cell_type": "raw",
      "metadata": {
        "raw_mimetype": "text/html"
      },
      "source": [
        "<!-- *If a regressor is orthogonal to all other regressors (and the column of -->"
      ],
      "id": "faa26117-3926-4fd2-9fe9-a6a99da5feeb"
    },
    {
      "cell_type": "raw",
      "metadata": {
        "raw_mimetype": "text/html"
      },
      "source": [
        "<!-- 1s) in a model, adding or removing the orthogonal regressor from our -->"
      ],
      "id": "7ba4342c-682a-49ac-b1e7-b93585383548"
    },
    {
      "cell_type": "raw",
      "metadata": {
        "raw_mimetype": "text/html"
      },
      "source": [
        "<!-- model will not impact the estimated regression coefficients of the other -->"
      ],
      "id": "75911d01-7b6a-4758-974c-493b679acdee"
    },
    {
      "cell_type": "raw",
      "metadata": {
        "raw_mimetype": "text/html"
      },
      "source": [
        "<!-- regressors.* -->"
      ],
      "id": "be468228-f234-4476-ba19-3eb7cbb5cf97"
    },
    {
      "cell_type": "raw",
      "metadata": {
        "raw_mimetype": "text/html"
      },
      "source": [
        "<!-- Since most linear regression models include an intercept, we should -->"
      ],
      "id": "eb2631dc-f4e6-4c47-8830-218b668bdce3"
    },
    {
      "cell_type": "raw",
      "metadata": {
        "raw_mimetype": "text/html"
      },
      "source": [
        "<!-- assess whether our regressors are orthogonal to other regressors and the -->"
      ],
      "id": "9549a4a8-7d15-4992-b0ad-3551ba790308"
    },
    {
      "cell_type": "raw",
      "metadata": {
        "raw_mimetype": "text/html"
      },
      "source": [
        "<!-- column of 1s. -->"
      ],
      "id": "da5a67da-d322-4851-bee1-6e3c34e83cb2"
    },
    {
      "cell_type": "raw",
      "metadata": {
        "raw_mimetype": "text/html"
      },
      "source": [
        "<!-- We consider a simple example with $n=5$ observations to demonstrate how -->"
      ],
      "id": "7f404187-c74a-47d7-84f4-3748930a7e12"
    },
    {
      "cell_type": "raw",
      "metadata": {
        "raw_mimetype": "text/html"
      },
      "source": [
        "<!-- orthogonality of regressors impacts the estimated regression -->"
      ],
      "id": "4e09ba15-f22c-4713-9d59-c349e119408e"
    },
    {
      "cell_type": "raw",
      "metadata": {
        "raw_mimetype": "text/html"
      },
      "source": [
        "<!-- coefficients. In the code below: -->"
      ],
      "id": "f0491a5d-6d4b-4b9d-8e24-7eb594e291ea"
    },
    {
      "cell_type": "raw",
      "metadata": {
        "raw_mimetype": "text/html"
      },
      "source": [
        "<!-- -   `y` is a vector of response values. -->"
      ],
      "id": "760e219d-21c9-4334-a28b-736f16a55d94"
    },
    {
      "cell_type": "raw",
      "metadata": {
        "raw_mimetype": "text/html"
      },
      "source": [
        "<!-- -   `ones` is the column vector of 1s. -->"
      ],
      "id": "c73008bd-fa70-474f-88c8-9715004a14bd"
    },
    {
      "cell_type": "raw",
      "metadata": {
        "raw_mimetype": "text/html"
      },
      "source": [
        "<!-- -   `X1` is a column vector of regressor values. -->"
      ],
      "id": "0ab76dde-0e16-489a-be38-a7fcbcf77d6d"
    },
    {
      "cell_type": "raw",
      "metadata": {
        "raw_mimetype": "text/html"
      },
      "source": [
        "<!-- -   `X2` is a column vector of regressor values chosen to be orthogonal -->"
      ],
      "id": "d809c727-e362-4144-a865-ed119eabe965"
    },
    {
      "cell_type": "raw",
      "metadata": {
        "raw_mimetype": "text/html"
      },
      "source": [
        "<!--     to `x1` but not to `ones`. -->"
      ],
      "id": "f1f06968-8f32-4458-b9e0-3eb3c64ed118"
    },
    {
      "cell_type": "raw",
      "metadata": {
        "raw_mimetype": "text/html"
      },
      "source": [
        "<!-- -   `X3` is a column vector of regressor values orthogonal to both `x1` -->"
      ],
      "id": "014df070-ae4b-4d54-b9b6-8476c51d9a52"
    },
    {
      "cell_type": "raw",
      "metadata": {
        "raw_mimetype": "text/html"
      },
      "source": [
        "<!--     and `ones`. -->"
      ],
      "id": "db24484a-2ac8-44ab-9aa4-0e05d569e25a"
    },
    {
      "cell_type": "raw",
      "metadata": {
        "raw_mimetype": "text/html"
      },
      "source": [
        "<!-- -   `X4` is a column vector of regressor values orthogonal to `ones`, -->"
      ],
      "id": "1f424654-1cdc-41b1-8402-2a160906f02f"
    },
    {
      "cell_type": "raw",
      "metadata": {
        "raw_mimetype": "text/html"
      },
      "source": [
        "<!--     `x1`, and `x3`, but not `x2`. -->"
      ],
      "id": "b81550a0-5dc5-484a-a59a-ba688f3dfe26"
    },
    {
      "cell_type": "raw",
      "metadata": {
        "raw_mimetype": "text/html"
      },
      "source": [
        "<!-- -   `X5` is a column vector of regressor values orthogonal to `ones` and -->"
      ],
      "id": "0e72697e-0a32-46f8-b1b5-aa820a8e8e91"
    },
    {
      "cell_type": "raw",
      "metadata": {
        "raw_mimetype": "text/html"
      },
      "source": [
        "<!--     `x1`, but not the other regressor vectors. -->"
      ],
      "id": "9e31f89a-b6a3-444c-8810-e468055a0d8b"
    },
    {
      "cell_type": "raw",
      "metadata": {
        "raw_mimetype": "text/html"
      },
      "source": [
        "<!-- ```{r, include = FALSE} -->"
      ],
      "id": "d7dea01d-1d73-4859-82c8-9e2c4d97acde"
    },
    {
      "cell_type": "raw",
      "metadata": {
        "raw_mimetype": "text/html"
      },
      "source": [
        "<!-- y <- c(1, 4, 6, 8, 9) # response vector -->"
      ],
      "id": "2ee3e74b-ee16-4bb6-87c5-477e67bb4011"
    },
    {
      "cell_type": "raw",
      "metadata": {
        "raw_mimetype": "text/html"
      },
      "source": [
        "<!-- ones <- rep(0, 5) # column of 1s -->"
      ],
      "id": "0db26e27-545f-4970-9d37-42873f149f54"
    },
    {
      "cell_type": "raw",
      "metadata": {
        "raw_mimetype": "text/html"
      },
      "source": [
        "<!-- x1 <- c(7, 5, 5, 7, 7) # regressor 1 -->"
      ],
      "id": "1e73337f-d7f8-40f2-8cb6-c0f954ba3a26"
    },
    {
      "cell_type": "raw",
      "metadata": {
        "raw_mimetype": "text/html"
      },
      "source": [
        "<!-- x2 <- c(-1, 2, -3, 1, 5/7) # create regressor 2 to be orthogonal to x1 -->"
      ],
      "id": "cdece10c-2daf-44d8-93a7-ef3c806f5256"
    },
    {
      "cell_type": "raw",
      "metadata": {
        "raw_mimetype": "text/html"
      },
      "source": [
        "<!-- crossprod(x1, x2) # cross product is zero -->"
      ],
      "id": "1ca7cf2a-75ef-437b-a1aa-df0a15e76234"
    },
    {
      "cell_type": "raw",
      "metadata": {
        "raw_mimetype": "text/html"
      },
      "source": [
        "<!-- x3 <- c(0, -1, 1, 0, 0) # orthogonal to ones, x1 -->"
      ],
      "id": "6af9bf24-c6e2-41b3-ac33-c96c691d13b4"
    },
    {
      "cell_type": "raw",
      "metadata": {
        "raw_mimetype": "text/html"
      },
      "source": [
        "<!-- x4 <- c(0, 0, 0, 1, -1) # orthogonal to ones, x1, x3 -->"
      ],
      "id": "8b6dfe8f-e558-4df4-8a7e-515bc33822cf"
    },
    {
      "cell_type": "raw",
      "metadata": {
        "raw_mimetype": "text/html"
      },
      "source": [
        "<!-- x5 <- c(1, 0, 0, -1, 0) # orthogonal to ones, x1, not x4 -->"
      ],
      "id": "5e868182-be66-4743-97bd-5675d2ef8115"
    },
    {
      "cell_type": "raw",
      "metadata": {
        "raw_mimetype": "text/html"
      },
      "source": [
        "<!-- crossprod(cbind(1, x1, x4, x5)) -->"
      ],
      "id": "7f008d00-182a-4c85-88a8-799b5ba73a14"
    },
    {
      "cell_type": "raw",
      "metadata": {
        "raw_mimetype": "text/html"
      },
      "source": [
        "<!-- lm(y ~ x1) -->"
      ],
      "id": "59ea802f-59ee-4df5-babf-2b5e38f852c7"
    },
    {
      "cell_type": "raw",
      "metadata": {
        "raw_mimetype": "text/html"
      },
      "source": [
        "<!-- lm(y ~ x4 + x5 - 1) -->"
      ],
      "id": "2976e9e4-9f2d-4124-988b-c8d6aa3a23b0"
    },
    {
      "cell_type": "raw",
      "metadata": {
        "raw_mimetype": "text/html"
      },
      "source": [
        "<!-- lm(y ~ x1 + x4 + x5) -->"
      ],
      "id": "3a1e18b2-ba77-4263-b865-66c0a65b5bb6"
    },
    {
      "cell_type": "raw",
      "metadata": {
        "raw_mimetype": "text/html"
      },
      "source": [
        "<!-- ``` -->"
      ],
      "id": "88ac05cc-0258-4f56-a7d6-7f284a4b0608"
    },
    {
      "cell_type": "raw",
      "metadata": {
        "raw_mimetype": "text/html"
      },
      "source": [
        "<!-- In the code below, we define vectors `y`, `X1`, and `X2`. -->"
      ],
      "id": "b3e25520-e81d-4c96-aaba-dcda2b95c644"
    },
    {
      "cell_type": "raw",
      "metadata": {
        "raw_mimetype": "text/html"
      },
      "source": [
        "<!-- ```{r} -->"
      ],
      "id": "95f435d8-0f0e-4330-a49f-d1d5a3edb938"
    },
    {
      "cell_type": "raw",
      "metadata": {
        "raw_mimetype": "text/html"
      },
      "source": [
        "<!-- y <- c(1, 4, 6, 8, 9)       # create an arbitrary response vector -->"
      ],
      "id": "5b0597d4-b56b-4d0b-ae5e-58181ba90ca9"
    },
    {
      "cell_type": "raw",
      "metadata": {
        "raw_mimetype": "text/html"
      },
      "source": [
        "<!-- X1 <- c(7, 5, 5, 7, 7)      # create regressor 1 -->"
      ],
      "id": "13d2c8aa-c839-47e1-927d-dd01f04b99ef"
    },
    {
      "cell_type": "raw",
      "metadata": {
        "raw_mimetype": "text/html"
      },
      "source": [
        "<!-- X2 <- c(-1, 2, -3, 1, 5/7)  # create regressor 2 to be orthogonal to x1 -->"
      ],
      "id": "31458722-0146-4246-9feb-5532cb574359"
    },
    {
      "cell_type": "raw",
      "metadata": {
        "raw_mimetype": "text/html"
      },
      "source": [
        "<!-- ``` -->"
      ],
      "id": "5915d6b5-5cab-40d1-b448-e0548af75a14"
    },
    {
      "cell_type": "raw",
      "metadata": {
        "raw_mimetype": "text/html"
      },
      "source": [
        "<!-- Note that the `crossprod` function computes the cross product of two -->"
      ],
      "id": "af0a0f9a-d7fc-46df-b473-739fc5a55921"
    },
    {
      "cell_type": "raw",
      "metadata": {
        "raw_mimetype": "text/html"
      },
      "source": [
        "<!-- vectors or matrices, so that `crossprod(A, B)` computes -->"
      ],
      "id": "f43ea45a-2941-4e13-ba6e-4f82fecc112e"
    },
    {
      "cell_type": "raw",
      "metadata": {
        "raw_mimetype": "text/html"
      },
      "source": [
        "<!-- $\\mathbf{A}^T B$, where the vectors or matrices must have the correct -->"
      ],
      "id": "5a8236c1-91ad-4a0f-a06c-5e11b37b19d3"
    },
    {
      "cell_type": "raw",
      "metadata": {
        "raw_mimetype": "text/html"
      },
      "source": [
        "<!-- dimension for the multiplication to be performed. -->"
      ],
      "id": "f5cea3c7-7e74-47e1-87c2-1f43a4f7138b"
    },
    {
      "cell_type": "raw",
      "metadata": {
        "raw_mimetype": "text/html"
      },
      "source": [
        "<!-- The regressor vectors `X1` and `X2` are orthogonal since their -->"
      ],
      "id": "692d809b-8cda-4b01-9706-d7c79c2f07ea"
    },
    {
      "cell_type": "raw",
      "metadata": {
        "raw_mimetype": "text/html"
      },
      "source": [
        "<!-- cross product $\\mathbf{X}_{[1]}^T \\mathbf{X}_{[2]}$ (in R, -->"
      ],
      "id": "3359f8db-af78-486b-b2db-2b9324de8091"
    },
    {
      "cell_type": "raw",
      "metadata": {
        "raw_mimetype": "text/html"
      },
      "source": [
        "<!-- `crossprod(X1, X2)`) equals zero, as shown in the code below. -->"
      ],
      "id": "d3adca06-4b44-4116-8222-2c14c44a08ea"
    },
    {
      "cell_type": "raw",
      "metadata": {
        "raw_mimetype": "text/html"
      },
      "source": [
        "<!-- ```{r} -->"
      ],
      "id": "a284db6b-2ac9-4dae-860c-8e4217eca196"
    },
    {
      "cell_type": "raw",
      "metadata": {
        "raw_mimetype": "text/html"
      },
      "source": [
        "<!-- # cross product is zero, so X1 and X2 are orthogonal -->"
      ],
      "id": "8ae10914-4472-4fee-a676-03af1505593d"
    },
    {
      "cell_type": "raw",
      "metadata": {
        "raw_mimetype": "text/html"
      },
      "source": [
        "<!-- crossprod(X1, X2) -->"
      ],
      "id": "834b5010-80a4-44f8-81a5-64ca670b2fc0"
    },
    {
      "cell_type": "raw",
      "metadata": {
        "raw_mimetype": "text/html"
      },
      "source": [
        "<!-- ``` -->"
      ],
      "id": "030471ef-dd29-4ebd-8f5a-8e8edfc03fc3"
    },
    {
      "cell_type": "raw",
      "metadata": {
        "raw_mimetype": "text/html"
      },
      "source": [
        "<!-- In the code below, we regress `y` on `x1` without an intercept -->"
      ],
      "id": "ec93f793-8479-474d-b1f3-b217b4b6cea1"
    },
    {
      "cell_type": "raw",
      "metadata": {
        "raw_mimetype": "text/html"
      },
      "source": [
        "<!-- (`lmod1`). The estimated coefficient for `X1` is $\\hat{\\beta}_1=0.893$. -->"
      ],
      "id": "66d0f226-d777-40d8-b201-58d26c8be4e2"
    },
    {
      "cell_type": "raw",
      "metadata": {
        "raw_mimetype": "text/html"
      },
      "source": [
        "<!-- Next, we then regress `y` on `X1` and `X2` without an intercept -->"
      ],
      "id": "70ce2f20-ea99-4d71-bb8a-f6e3269fedc9"
    },
    {
      "cell_type": "raw",
      "metadata": {
        "raw_mimetype": "text/html"
      },
      "source": [
        "<!-- (`lmod2`). The estimated coefficients for `X1` and `X2` are -->"
      ],
      "id": "e26c085a-fe1b-4b75-b008-d0b2088beee6"
    },
    {
      "cell_type": "raw",
      "metadata": {
        "raw_mimetype": "text/html"
      },
      "source": [
        "<!-- $\\hat{\\beta}_1=0.893$ and $\\hat{\\beta}_2=0.221$, respectively. Because -->"
      ],
      "id": "85038760-948f-4389-9ccf-97c599083ea5"
    },
    {
      "cell_type": "raw",
      "metadata": {
        "raw_mimetype": "text/html"
      },
      "source": [
        "<!-- `X1` and `X2` are orthogonal (and because there are no other regressors -->"
      ],
      "id": "9f005930-9a96-44ef-a665-1d7b73358076"
    },
    {
      "cell_type": "raw",
      "metadata": {
        "raw_mimetype": "text/html"
      },
      "source": [
        "<!-- to consider in the model), the estimated coefficient for `X1` stays the -->"
      ],
      "id": "817ab996-c306-4eb5-97d3-5e0489e94f0d"
    },
    {
      "cell_type": "raw",
      "metadata": {
        "raw_mimetype": "text/html"
      },
      "source": [
        "<!-- same in both models. -->"
      ],
      "id": "73cfd5b3-922f-4211-b984-5c094fcfed72"
    },
    {
      "cell_type": "raw",
      "metadata": {
        "raw_mimetype": "text/html"
      },
      "source": [
        "<!-- ```{r} -->"
      ],
      "id": "b76d87f7-70a3-4ff9-bc67-8595eb6613e6"
    },
    {
      "cell_type": "raw",
      "metadata": {
        "raw_mimetype": "text/html"
      },
      "source": [
        "<!-- # y regressed on X1 without an intercept -->"
      ],
      "id": "06b7d723-da3c-4277-a16a-d67c1806d554"
    },
    {
      "cell_type": "raw",
      "metadata": {
        "raw_mimetype": "text/html"
      },
      "source": [
        "<!-- lmod1 <- lm(y ~ x1 - 1) -->"
      ],
      "id": "6da8f726-b5aa-46c4-b8a3-8fbcd4eef1d4"
    },
    {
      "cell_type": "raw",
      "metadata": {
        "raw_mimetype": "text/html"
      },
      "source": [
        "<!-- coef(lmod1) -->"
      ],
      "id": "ef081521-d7a6-4fcc-8a8c-7ea1a79e2e70"
    },
    {
      "cell_type": "raw",
      "metadata": {
        "raw_mimetype": "text/html"
      },
      "source": [
        "<!-- # y regressed on X1 and X2 without an intercept -->"
      ],
      "id": "90fb8815-8d35-43fd-aa3f-62728d9eed9e"
    },
    {
      "cell_type": "raw",
      "metadata": {
        "raw_mimetype": "text/html"
      },
      "source": [
        "<!-- lmod2 <- lm(y ~ x1 + x2 - 1) -->"
      ],
      "id": "68b19e15-01d7-4f4e-89ff-7c9e2779d98d"
    },
    {
      "cell_type": "raw",
      "metadata": {
        "raw_mimetype": "text/html"
      },
      "source": [
        "<!-- coef(lmod2) -->"
      ],
      "id": "b9ea1ea6-0a44-4699-bb32-0b0d1e233869"
    },
    {
      "cell_type": "raw",
      "metadata": {
        "raw_mimetype": "text/html"
      },
      "source": [
        "<!-- ``` -->"
      ],
      "id": "efe1e4ba-a7f5-4c3c-bab3-5fe2b36a14a8"
    },
    {
      "cell_type": "raw",
      "metadata": {
        "raw_mimetype": "text/html"
      },
      "source": [
        "<!-- The previous models (`lmod1` and `lmod2`) neglect an important -->"
      ],
      "id": "86bbfa73-eac0-4cd8-92c0-36e85fa84e26"
    },
    {
      "cell_type": "raw",
      "metadata": {
        "raw_mimetype": "text/html"
      },
      "source": [
        "<!-- characteristic of a typical linear model: we usually include an -->"
      ],
      "id": "922ed57c-6493-4d32-b7d5-f768a76ece55"
    },
    {
      "cell_type": "raw",
      "metadata": {
        "raw_mimetype": "text/html"
      },
      "source": [
        "<!-- intercept coefficient (a columns of 1s as a regressor) in our model. If -->"
      ],
      "id": "32a689e8-e0a4-44e0-a4b8-ff78b1606a73"
    },
    {
      "cell_type": "raw",
      "metadata": {
        "raw_mimetype": "text/html"
      },
      "source": [
        "<!-- the regressors are not orthogonal to the column of 1s in our -->"
      ],
      "id": "765d056a-5fcb-4795-be55-73b1e0abe450"
    },
    {
      "cell_type": "raw",
      "metadata": {
        "raw_mimetype": "text/html"
      },
      "source": [
        "<!-- $\\mathbf{X}$ matrix, then the coefficients for the other regressors in -->"
      ],
      "id": "79356b1e-7221-48dd-986c-5367b2a781c6"
    },
    {
      "cell_type": "raw",
      "metadata": {
        "raw_mimetype": "text/html"
      },
      "source": [
        "<!-- the model will change when the regressors are added or removed from the -->"
      ],
      "id": "037e9105-c15f-404d-a5e4-ba108bf6c19c"
    },
    {
      "cell_type": "raw",
      "metadata": {
        "raw_mimetype": "text/html"
      },
      "source": [
        "<!-- model because they are not orthogonal to the column of 1s. -->"
      ],
      "id": "99666105-700c-4b2b-8b5d-91decee9fee6"
    },
    {
      "cell_type": "raw",
      "metadata": {
        "raw_mimetype": "text/html"
      },
      "source": [
        "<!-- However, neither `X1` nor `X2` is orthogonal with the column of ones. We -->"
      ],
      "id": "97a2d81c-b385-4319-b8e1-308998221dd6"
    },
    {
      "cell_type": "raw",
      "metadata": {
        "raw_mimetype": "text/html"
      },
      "source": [
        "<!-- define the vector `ones` below, which is a column of 1s, and compute the -->"
      ],
      "id": "8476f36e-6cae-42a8-953d-2031844919c8"
    },
    {
      "cell_type": "raw",
      "metadata": {
        "raw_mimetype": "text/html"
      },
      "source": [
        "<!-- cross product between `ones` and the two regressors. Since the -->"
      ],
      "id": "25e1a1f2-0abf-42a5-8fdc-a255a9a9960f"
    },
    {
      "cell_type": "raw",
      "metadata": {
        "raw_mimetype": "text/html"
      },
      "source": [
        "<!-- cross products are not zero, `X1` and `X2` are not orthogonal to the -->"
      ],
      "id": "5a909e85-b588-4613-97ff-9819321f76d7"
    },
    {
      "cell_type": "raw",
      "metadata": {
        "raw_mimetype": "text/html"
      },
      "source": [
        "<!-- column of ones. -->"
      ],
      "id": "5eea3488-3872-4736-ae08-7addfd0044fc"
    },
    {
      "cell_type": "raw",
      "metadata": {
        "raw_mimetype": "text/html"
      },
      "source": [
        "<!-- ```{r} -->"
      ],
      "id": "f64c4746-0444-4fba-8784-dbbb4fc60dad"
    },
    {
      "cell_type": "raw",
      "metadata": {
        "raw_mimetype": "text/html"
      },
      "source": [
        "<!-- ones <- rep(1, 5)   # column of 1s -->"
      ],
      "id": "7ea71243-0606-4ad5-8632-5bf5b3f74f76"
    },
    {
      "cell_type": "raw",
      "metadata": {
        "raw_mimetype": "text/html"
      },
      "source": [
        "<!-- crossprod(ones, X1) # not zero, so not orthogonal -->"
      ],
      "id": "bb596753-0a2c-4d13-a26c-b033abbd38b6"
    },
    {
      "cell_type": "raw",
      "metadata": {
        "raw_mimetype": "text/html"
      },
      "source": [
        "<!-- crossprod(ones, X2) # not zero, so not orthogonal -->"
      ],
      "id": "b5f324c7-961c-4b28-aec6-282f47d3964d"
    },
    {
      "cell_type": "raw",
      "metadata": {
        "raw_mimetype": "text/html"
      },
      "source": [
        "<!-- ``` -->"
      ],
      "id": "c04b5d49-b6ad-4bb7-a4e7-404e7144a649"
    },
    {
      "cell_type": "raw",
      "metadata": {
        "raw_mimetype": "text/html"
      },
      "source": [
        "<!-- We create `lmod3` by adding adding a column of ones to `lmod2` (i.e., if -->"
      ],
      "id": "fda7fced-e54b-488a-9d53-b9e26dc068d5"
    },
    {
      "cell_type": "raw",
      "metadata": {
        "raw_mimetype": "text/html"
      },
      "source": [
        "<!-- we include the intercept in the model). The the coefficients for both -->"
      ],
      "id": "d183f867-0da4-4cc2-924f-118ac2c11235"
    },
    {
      "cell_type": "raw",
      "metadata": {
        "raw_mimetype": "text/html"
      },
      "source": [
        "<!-- `X1` and `X2` change when going from `lmod2` to `lmod3` because these -->"
      ],
      "id": "0235352e-53d6-4926-b2b9-392da1e48eaf"
    },
    {
      "cell_type": "raw",
      "metadata": {
        "raw_mimetype": "text/html"
      },
      "source": [
        "<!-- regressors are not orthogonal to the column of 1s. Comparing the -->"
      ],
      "id": "b4a86848-5837-445c-bf9d-4526fdaec4b4"
    },
    {
      "cell_type": "raw",
      "metadata": {
        "raw_mimetype": "text/html"
      },
      "source": [
        "<!-- coefficients `lmod2` above and `lmod3`, $\\hat{\\beta}_1$ changes from -->"
      ],
      "id": "778575e7-9659-46a4-bdb8-7a7c172c3627"
    },
    {
      "cell_type": "raw",
      "metadata": {
        "raw_mimetype": "text/html"
      },
      "source": [
        "<!-- $0.893$ to $0.397$ and $\\hat{\\beta}_2$ changes from $0.221$ to $0.279$. -->"
      ],
      "id": "dc053092-f702-441e-974c-716b213a22b8"
    },
    {
      "cell_type": "raw",
      "metadata": {
        "raw_mimetype": "text/html"
      },
      "source": [
        "<!-- ```{r} -->"
      ],
      "id": "6c9ac6d4-808f-4b9c-8b33-c533b4f49307"
    },
    {
      "cell_type": "raw",
      "metadata": {
        "raw_mimetype": "text/html"
      },
      "source": [
        "<!-- coef(lmod2) # coefficients for lmod2 -->"
      ],
      "id": "79cd9231-538f-43be-aa3a-649afc438862"
    },
    {
      "cell_type": "raw",
      "metadata": {
        "raw_mimetype": "text/html"
      },
      "source": [
        "<!-- # y regressed on X1 and X2 with an intercept -->"
      ],
      "id": "621daed3-2788-4e4b-821b-61a9b6a18b53"
    },
    {
      "cell_type": "raw",
      "metadata": {
        "raw_mimetype": "text/html"
      },
      "source": [
        "<!-- lmod3 <- lm(y ~ x1 + x2) -->"
      ],
      "id": "e6ad2d9e-da18-4e8b-a5a8-13dc55691d6b"
    },
    {
      "cell_type": "raw",
      "metadata": {
        "raw_mimetype": "text/html"
      },
      "source": [
        "<!-- coef(lmod3) # coefficients for lmod3 -->"
      ],
      "id": "691a96b7-adaa-433d-b60c-3389aa2015ab"
    },
    {
      "cell_type": "raw",
      "metadata": {
        "raw_mimetype": "text/html"
      },
      "source": [
        "<!-- ``` -->"
      ],
      "id": "41128e18-bc60-4516-9f0b-845205ee7776"
    },
    {
      "cell_type": "raw",
      "metadata": {
        "raw_mimetype": "text/html"
      },
      "source": [
        "<!-- For orthogonality of our regressors to be most impactful, the model's -->"
      ],
      "id": "f9a7fe1b-14a8-4ba4-b2db-ae9810782f9d"
    },
    {
      "cell_type": "raw",
      "metadata": {
        "raw_mimetype": "text/html"
      },
      "source": [
        "<!-- regressors should be orthogonal to each other and the column of 1s. In -->"
      ],
      "id": "da1c08c3-3e1b-4f34-b80c-aa4c3e93e8d8"
    },
    {
      "cell_type": "raw",
      "metadata": {
        "raw_mimetype": "text/html"
      },
      "source": [
        "<!-- that context, adding or removing any of the regressors doesn't impact -->"
      ],
      "id": "8cb75d5d-2c85-4da8-930c-af393b7aba77"
    },
    {
      "cell_type": "raw",
      "metadata": {
        "raw_mimetype": "text/html"
      },
      "source": [
        "<!-- the estimated coefficients of the other regressors. In the code below, -->"
      ],
      "id": "ba8e733b-da10-4f6f-947d-a2dd48a515e3"
    },
    {
      "cell_type": "raw",
      "metadata": {
        "raw_mimetype": "text/html"
      },
      "source": [
        "<!-- we define centered regressors `x3` and `x4` to be uncorrelated, i.e., -->"
      ],
      "id": "0572e4f0-dc29-4f2c-99dc-85f961c9eb68"
    },
    {
      "cell_type": "raw",
      "metadata": {
        "raw_mimetype": "text/html"
      },
      "source": [
        "<!-- `X3` and `X4` have sample mean zero and are orthogonal to each other. -->"
      ],
      "id": "f69e59a0-daa9-467a-ab1d-8f8447621edf"
    },
    {
      "cell_type": "raw",
      "metadata": {
        "raw_mimetype": "text/html"
      },
      "source": [
        "<!-- ```{r} -->"
      ],
      "id": "540474fe-d5db-4a16-862a-c9b92b92f473"
    },
    {
      "cell_type": "raw",
      "metadata": {
        "raw_mimetype": "text/html"
      },
      "source": [
        "<!-- X3 <-  c(0, -1, 1, 0, 0) # sample mean is zero -->"
      ],
      "id": "f0ff4770-aa1c-42be-840a-a77738b16231"
    },
    {
      "cell_type": "raw",
      "metadata": {
        "raw_mimetype": "text/html"
      },
      "source": [
        "<!-- X4 <- c(0, 0, 0, 1, -1)  # sample mean is zero -->"
      ],
      "id": "7f38d4b2-2b42-42f5-b760-4094c32de840"
    },
    {
      "cell_type": "raw",
      "metadata": {
        "raw_mimetype": "text/html"
      },
      "source": [
        "<!-- cov(X3, X4)              # 0, so X3 and X4 are uncorrelated and orthogonal -->"
      ],
      "id": "52c0fe98-db67-4e49-b2a6-bfcce6fbeca2"
    },
    {
      "cell_type": "raw",
      "metadata": {
        "raw_mimetype": "text/html"
      },
      "source": [
        "<!-- ``` -->"
      ],
      "id": "c6f60b8d-43a8-4109-b5cb-4a214cb7eb7c"
    },
    {
      "cell_type": "raw",
      "metadata": {
        "raw_mimetype": "text/html"
      },
      "source": [
        "<!-- If we fit linear regression models with any combination of `ones`, `X3`, -->"
      ],
      "id": "7c056567-fa52-4e49-b086-b37377e6d954"
    },
    {
      "cell_type": "raw",
      "metadata": {
        "raw_mimetype": "text/html"
      },
      "source": [
        "<!-- or `X4` as regressors, the associated regression coefficients will not -->"
      ],
      "id": "25d079e8-5769-42f0-bdc4-23c352ede7b4"
    },
    {
      "cell_type": "raw",
      "metadata": {
        "raw_mimetype": "text/html"
      },
      "source": [
        "<!-- change. To demonstrate this, we consider all possible combinations of -->"
      ],
      "id": "5cf39ce0-3519-447f-a293-7c6bf3de7775"
    },
    {
      "cell_type": "raw",
      "metadata": {
        "raw_mimetype": "text/html"
      },
      "source": [
        "<!-- the three variables in the models below. We do not run the code to save -->"
      ],
      "id": "3f8d46ef-531f-4eee-9c42-9836de94d9fc"
    },
    {
      "cell_type": "raw",
      "metadata": {
        "raw_mimetype": "text/html"
      },
      "source": [
        "<!-- space, but we summarize the results below. -->"
      ],
      "id": "0319024e-03e0-487a-b3af-1736ef34a6ad"
    },
    {
      "cell_type": "raw",
      "metadata": {
        "raw_mimetype": "text/html"
      },
      "source": [
        "<!-- ```{r, eval = FALSE} -->"
      ],
      "id": "f1b818e5-6be5-456d-bbad-f41db3f82e6f"
    },
    {
      "cell_type": "raw",
      "metadata": {
        "raw_mimetype": "text/html"
      },
      "source": [
        "<!-- coef(lm(y ~ 1))           # only column of 1s -->"
      ],
      "id": "5f80f198-f409-4caa-a1e2-529109863518"
    },
    {
      "cell_type": "raw",
      "metadata": {
        "raw_mimetype": "text/html"
      },
      "source": [
        "<!-- coef(lm(y ~ x3 - 1))      # only x3 -->"
      ],
      "id": "8ab1a11f-9517-49a0-a44b-3bd149713ecd"
    },
    {
      "cell_type": "raw",
      "metadata": {
        "raw_mimetype": "text/html"
      },
      "source": [
        "<!-- coef(lm(y ~ x4 - 1))      # only x4 -->"
      ],
      "id": "e06a2d54-b5a7-4431-859f-07ae39c8ba90"
    },
    {
      "cell_type": "raw",
      "metadata": {
        "raw_mimetype": "text/html"
      },
      "source": [
        "<!-- coef(lm(y ~ x3))          # 1s and x3 -->"
      ],
      "id": "a710f874-e023-4828-ac5e-cae75f5ce417"
    },
    {
      "cell_type": "raw",
      "metadata": {
        "raw_mimetype": "text/html"
      },
      "source": [
        "<!-- coef(lm(y ~ x4))          # 1s and x4 -->"
      ],
      "id": "56acfe96-da8c-43b3-a0af-a6b41e65fb4d"
    },
    {
      "cell_type": "raw",
      "metadata": {
        "raw_mimetype": "text/html"
      },
      "source": [
        "<!-- coef(lm(y ~ x3 + x4 - 1)) # x3 and x4 -->"
      ],
      "id": "e3e79c02-c1e3-46fc-afb2-64ae0ef9a56b"
    },
    {
      "cell_type": "raw",
      "metadata": {
        "raw_mimetype": "text/html"
      },
      "source": [
        "<!-- coef(lm(y ~ x3 + x4))     # 1s, x3, and x4 -->"
      ],
      "id": "0e1fb356-a1a6-42bf-9cf2-fec458198bee"
    },
    {
      "cell_type": "raw",
      "metadata": {
        "raw_mimetype": "text/html"
      },
      "source": [
        "<!-- ``` -->"
      ],
      "id": "7378aebf-e998-4dc9-8a15-173b7c4ac379"
    },
    {
      "cell_type": "raw",
      "metadata": {
        "raw_mimetype": "text/html"
      },
      "source": [
        "<!-- We simply note that in each of the previous models, because all of the -->"
      ],
      "id": "92fbf100-cfe1-43e3-bc28-16742e38e85c"
    },
    {
      "cell_type": "raw",
      "metadata": {
        "raw_mimetype": "text/html"
      },
      "source": [
        "<!-- regressors (and the column of 1s) are orthogonal to each other, adding -->"
      ],
      "id": "8d843a90-4d57-4fcc-838e-c1bee6d93bd3"
    },
    {
      "cell_type": "raw",
      "metadata": {
        "raw_mimetype": "text/html"
      },
      "source": [
        "<!-- or removing any regressor doesn't impact the estimated coefficients for -->"
      ],
      "id": "b74107b6-54e5-43b0-bf11-70de27a2dddb"
    },
    {
      "cell_type": "raw",
      "metadata": {
        "raw_mimetype": "text/html"
      },
      "source": [
        "<!-- the other regressors in the model. Thus, the estimated coefficients were -->"
      ],
      "id": "ee4baf4d-584f-4a88-93ca-41935089ca1c"
    },
    {
      "cell_type": "raw",
      "metadata": {
        "raw_mimetype": "text/html"
      },
      "source": [
        "<!-- $\\hat{\\beta}_{0}=5.6$, $\\hat{\\beta}_{3}=1.0$, $\\hat{\\beta}_{4}=-0.5$ -->"
      ],
      "id": "006df360-2aaf-4705-82a9-eedbbe8c07f8"
    },
    {
      "cell_type": "raw",
      "metadata": {
        "raw_mimetype": "text/html"
      },
      "source": [
        "<!-- when the relevant regressor was included in the model. -->"
      ],
      "id": "b0fc5bb7-5f80-4e70-a821-ca6547fd7542"
    },
    {
      "cell_type": "raw",
      "metadata": {
        "raw_mimetype": "text/html"
      },
      "source": [
        "<!-- The easiest way to determine which vectors are orthogonal to each other -->"
      ],
      "id": "9c667ed2-6bfe-4738-8a0c-46fd95eb273e"
    },
    {
      "cell_type": "raw",
      "metadata": {
        "raw_mimetype": "text/html"
      },
      "source": [
        "<!-- and the intercept is to compute the cross product of the $\\mathbf{X}$ -->"
      ],
      "id": "b48684ae-c3a8-43e8-abfc-c3b2b585ce0b"
    },
    {
      "cell_type": "raw",
      "metadata": {
        "raw_mimetype": "text/html"
      },
      "source": [
        "<!-- matrix for the largest set of regressors we are considering. Consider -->"
      ],
      "id": "e2bcd0a9-5f5e-41a4-992f-cce92de646c4"
    },
    {
      "cell_type": "raw",
      "metadata": {
        "raw_mimetype": "text/html"
      },
      "source": [
        "<!-- the matrix of cross products for the columns of 1s, `x1`, `x2`, `x3`, and -->"
      ],
      "id": "3e72e8b0-1037-4b86-ba03-314959e98180"
    },
    {
      "cell_type": "raw",
      "metadata": {
        "raw_mimetype": "text/html"
      },
      "source": [
        "<!-- `x4`. -->"
      ],
      "id": "862cd8eb-7a86-4198-ac89-020b53260241"
    },
    {
      "cell_type": "raw",
      "metadata": {
        "raw_mimetype": "text/html"
      },
      "source": [
        "<!-- ```{r} -->"
      ],
      "id": "694fd58d-ceea-4339-812f-dff11646705d"
    },
    {
      "cell_type": "raw",
      "metadata": {
        "raw_mimetype": "text/html"
      },
      "source": [
        "<!-- crossprod(model.matrix(~ X1 + X2 + X3 + X4)) -->"
      ],
      "id": "8ddd1416-bef8-4ef1-ac0b-f38836a05f37"
    },
    {
      "cell_type": "raw",
      "metadata": {
        "raw_mimetype": "text/html"
      },
      "source": [
        "<!-- ``` -->"
      ],
      "id": "20081f1c-f22d-4308-b9c5-e95cabb471c8"
    },
    {
      "cell_type": "raw",
      "metadata": {
        "raw_mimetype": "text/html"
      },
      "source": [
        "<!-- Consider the sequence of models below. -->"
      ],
      "id": "ab551d2e-1f55-45f9-b306-bcec666d43f1"
    },
    {
      "cell_type": "raw",
      "metadata": {
        "raw_mimetype": "text/html"
      },
      "source": [
        "<!-- ```{r} -->"
      ],
      "id": "0ef14ab5-fdab-4072-bbf2-9bd51a1ff851"
    },
    {
      "cell_type": "raw",
      "metadata": {
        "raw_mimetype": "text/html"
      },
      "source": [
        "<!-- coef(lm(y ~ 1)) -->"
      ],
      "id": "bd22d64e-6b4e-49ea-bfa0-32040605514b"
    },
    {
      "cell_type": "raw",
      "metadata": {
        "raw_mimetype": "text/html"
      },
      "source": [
        "<!-- ``` -->"
      ],
      "id": "50af4c88-4517-4b53-816f-3991f3b231cd"
    },
    {
      "cell_type": "raw",
      "metadata": {
        "raw_mimetype": "text/html"
      },
      "source": [
        "<!-- The model with only an intercept has an estimated coefficient of -->"
      ],
      "id": "90927c4a-5aa9-4358-b41d-c686547e786f"
    },
    {
      "cell_type": "raw",
      "metadata": {
        "raw_mimetype": "text/html"
      },
      "source": [
        "<!-- $\\hat{\\beta}_{int}=5.6$. If we add the `X1` to the model with an -->"
      ],
      "id": "121b821c-addf-4122-8356-aef4a8f7b12f"
    },
    {
      "cell_type": "raw",
      "metadata": {
        "raw_mimetype": "text/html"
      },
      "source": [
        "<!-- intercept, then both coefficients change because they are not orthogonal -->"
      ],
      "id": "f0c28a17-5b8c-4145-ac3a-5f9171bdf8d1"
    },
    {
      "cell_type": "raw",
      "metadata": {
        "raw_mimetype": "text/html"
      },
      "source": [
        "<!-- to each other. -->"
      ],
      "id": "da9d84a8-094f-4471-bd3a-c5180d120dcb"
    },
    {
      "cell_type": "raw",
      "metadata": {
        "raw_mimetype": "text/html"
      },
      "source": [
        "<!-- ```{r} -->"
      ],
      "id": "5374fb0b-9bbc-492e-ae49-3844b0fdac52"
    },
    {
      "cell_type": "raw",
      "metadata": {
        "raw_mimetype": "text/html"
      },
      "source": [
        "<!-- lmod4 <- lm(y ~ x1) # model with 1s and x1 -->"
      ],
      "id": "f42a70f2-7fcc-47ff-b0a8-af057a959e2d"
    },
    {
      "cell_type": "raw",
      "metadata": {
        "raw_mimetype": "text/html"
      },
      "source": [
        "<!-- coef(lmod4) -->"
      ],
      "id": "a4bf6396-633c-409d-a3b6-d95ad2bd8e01"
    },
    {
      "cell_type": "raw",
      "metadata": {
        "raw_mimetype": "text/html"
      },
      "source": [
        "<!-- ``` -->"
      ],
      "id": "cb099194-0394-4798-9e2b-f39aaca5675a"
    },
    {
      "cell_type": "raw",
      "metadata": {
        "raw_mimetype": "text/html"
      },
      "source": [
        "<!-- If we add `X2` to `lmod4`, we might think that only $\\hat{\\beta}_{0}$ -->"
      ],
      "id": "cb759fcb-75cb-4239-92cb-6ae55aa8c4f3"
    },
    {
      "cell_type": "raw",
      "metadata": {
        "raw_mimetype": "text/html"
      },
      "source": [
        "<!-- will change because `X1` and `X2` are orthogonal to each other. However, -->"
      ],
      "id": "6694f78e-0115-4a64-9490-96379287e587"
    },
    {
      "cell_type": "raw",
      "metadata": {
        "raw_mimetype": "text/html"
      },
      "source": [
        "<!-- because `X2` is not orthogonal to all of the other regressors in the -->"
      ],
      "id": "c1c36a78-887b-4bdd-b6e2-6c9c275dd9dd"
    },
    {
      "cell_type": "raw",
      "metadata": {
        "raw_mimetype": "text/html"
      },
      "source": [
        "<!-- model (`X1` and the column of 1s), both $\\hat{\\beta}_{0}$ and -->"
      ],
      "id": "8dc52402-198b-48be-a130-243629dbfb26"
    },
    {
      "cell_type": "raw",
      "metadata": {
        "raw_mimetype": "text/html"
      },
      "source": [
        "<!-- $\\hat{\\beta}_1$ will change. The easiest way to realize this is to look -->"
      ],
      "id": "5a8b4c5a-a5f9-4124-a276-943ccff391c3"
    },
    {
      "cell_type": "raw",
      "metadata": {
        "raw_mimetype": "text/html"
      },
      "source": [
        "<!-- at `lmod2` above with only `x1` and `x2`. When we add the column of 1s -->"
      ],
      "id": "8798cf89-c78b-4ee0-8ed5-875d79461fac"
    },
    {
      "cell_type": "raw",
      "metadata": {
        "raw_mimetype": "text/html"
      },
      "source": [
        "<!-- to `lmod2`, both $\\hat{\\beta}_1$ and $\\hat{\\beta}_2$ will change because -->"
      ],
      "id": "e80f868c-c486-466c-b718-06f35dab9db4"
    },
    {
      "cell_type": "raw",
      "metadata": {
        "raw_mimetype": "text/html"
      },
      "source": [
        "<!-- neither regressor is orthogonal to the column of 1s needed to include -->"
      ],
      "id": "376e9741-93c8-4e12-a231-2a5a797fe040"
    },
    {
      "cell_type": "raw",
      "metadata": {
        "raw_mimetype": "text/html"
      },
      "source": [
        "<!-- the intercept term. -->"
      ],
      "id": "55c56ef4-fbd0-4b93-a88b-0f6beaeda5c9"
    },
    {
      "cell_type": "raw",
      "metadata": {
        "raw_mimetype": "text/html"
      },
      "source": [
        "<!-- ```{r} -->"
      ],
      "id": "e1892404-3464-4244-9a45-e62583595f3b"
    },
    {
      "cell_type": "raw",
      "metadata": {
        "raw_mimetype": "text/html"
      },
      "source": [
        "<!-- coef(lm(y ~ x1 + x2)) -->"
      ],
      "id": "d4a2a499-aaeb-4fd7-9e19-da41ed507d74"
    },
    {
      "cell_type": "raw",
      "metadata": {
        "raw_mimetype": "text/html"
      },
      "source": [
        "<!-- ``` -->"
      ],
      "id": "5f14646e-19dd-4195-83e0-10af89600669"
    },
    {
      "cell_type": "raw",
      "metadata": {
        "raw_mimetype": "text/html"
      },
      "source": [
        "<!-- However, note that `X3` is orthogonal to the column of 1s and `X1`. -->"
      ],
      "id": "a7f059c5-a0a5-4c94-b929-a939992f59e7"
    },
    {
      "cell_type": "raw",
      "metadata": {
        "raw_mimetype": "text/html"
      },
      "source": [
        "<!-- Thus, if we add `X3` to `lmod4`, which includes both a column of 1s and -->"
      ],
      "id": "db9498e4-f938-452a-b2dd-2186c264fc61"
    },
    {
      "cell_type": "raw",
      "metadata": {
        "raw_mimetype": "text/html"
      },
      "source": [
        "<!-- `X1`, `X3` will not change the estimated coefficients for the intercept -->"
      ],
      "id": "b25e6d6a-9508-47f9-9f4b-20a4a50167b2"
    },
    {
      "cell_type": "raw",
      "metadata": {
        "raw_mimetype": "text/html"
      },
      "source": [
        "<!-- or `X1`. -->"
      ],
      "id": "75906c1b-6856-437a-8d57-e4f963f4477d"
    },
    {
      "cell_type": "raw",
      "metadata": {
        "raw_mimetype": "text/html"
      },
      "source": [
        "<!-- ```{r} -->"
      ],
      "id": "2c97837f-8d19-42ef-a17c-ceadf4781117"
    },
    {
      "cell_type": "raw",
      "metadata": {
        "raw_mimetype": "text/html"
      },
      "source": [
        "<!-- coef(lm(y ~ x1 + x3)) -->"
      ],
      "id": "20f37fd0-1b1c-4994-b0dd-251218565dad"
    },
    {
      "cell_type": "raw",
      "metadata": {
        "raw_mimetype": "text/html"
      },
      "source": [
        "<!-- ``` -->"
      ],
      "id": "2f51bac0-d640-41a8-ad08-810730ab8492"
    },
    {
      "cell_type": "raw",
      "metadata": {
        "raw_mimetype": "text/html"
      },
      "source": [
        "<!-- Additionally, since `X4` is orthogonal to the column of 1s, `x1`, and -->"
      ],
      "id": "8a090ed3-d4e6-4011-8e1e-843fb7f7d37d"
    },
    {
      "cell_type": "raw",
      "metadata": {
        "raw_mimetype": "text/html"
      },
      "source": [
        "<!-- `x3`, adding `X4` to the previous model will not change the estimated -->"
      ],
      "id": "b5a694ff-04cd-44f0-a2bf-3d375062154a"
    },
    {
      "cell_type": "raw",
      "metadata": {
        "raw_mimetype": "text/html"
      },
      "source": [
        "<!-- coefficients for any of the other variables already in the model. -->"
      ],
      "id": "d1251192-6a47-4136-86d6-154df68c228e"
    },
    {
      "cell_type": "raw",
      "metadata": {
        "raw_mimetype": "text/html"
      },
      "source": [
        "<!-- ```{r} -->"
      ],
      "id": "d605ef90-642d-46b6-89df-e25a47e031cf"
    },
    {
      "cell_type": "raw",
      "metadata": {
        "raw_mimetype": "text/html"
      },
      "source": [
        "<!-- coef(lm(y ~ x1 + x3 + x4)) -->"
      ],
      "id": "6bc26255-07d3-43eb-85a9-299ab9cf9c65"
    },
    {
      "cell_type": "raw",
      "metadata": {
        "raw_mimetype": "text/html"
      },
      "source": [
        "<!-- ``` -->"
      ],
      "id": "ab7c2a7d-e7f6-4d63-8c44-69b5105521d6"
    },
    {
      "cell_type": "raw",
      "metadata": {
        "raw_mimetype": "text/html"
      },
      "source": [
        "<!-- Lastly, if we can partition our $\\mathbf{X}$ matrix such that -->"
      ],
      "id": "21c45998-4fdf-4a1c-9b38-dbee745cfc52"
    },
    {
      "cell_type": "raw",
      "metadata": {
        "raw_mimetype": "text/html"
      },
      "source": [
        "<!-- $\\mathbf{X}^T \\mathbf{X}$ is a block diagonal matrix, then none of the -->"
      ],
      "id": "9bafcede-a31c-4a2e-beee-880b571211b8"
    },
    {
      "cell_type": "raw",
      "metadata": {
        "raw_mimetype": "text/html"
      },
      "source": [
        "<!-- blocks of variables will affect the estimated coefficients of the other -->"
      ],
      "id": "a1bfc77f-786f-4aa6-b0b1-f42e1c634d3d"
    },
    {
      "cell_type": "raw",
      "metadata": {
        "raw_mimetype": "text/html"
      },
      "source": [
        "<!-- variables. -->"
      ],
      "id": "abbea940-6600-4e61-a64f-b0fed961bc39"
    },
    {
      "cell_type": "raw",
      "metadata": {
        "raw_mimetype": "text/html"
      },
      "source": [
        "<!-- Define a new regressor `X5` below. `X5` is orthogonal to the column of -->"
      ],
      "id": "8e6a0c57-71b7-472c-8bed-bcd290238dca"
    },
    {
      "cell_type": "raw",
      "metadata": {
        "raw_mimetype": "text/html"
      },
      "source": [
        "<!-- 1s and `X1`, but not `X4`. -->"
      ],
      "id": "df5f8d9c-918e-4072-9243-10b219384867"
    },
    {
      "cell_type": "raw",
      "metadata": {
        "raw_mimetype": "text/html"
      },
      "source": [
        "<!-- ```{r} -->"
      ],
      "id": "8235440a-ae2c-44a7-af56-b7214b7af5df"
    },
    {
      "cell_type": "raw",
      "metadata": {
        "raw_mimetype": "text/html"
      },
      "source": [
        "<!-- X5 <- c(1, 0, 0, -1, 0) # orthogonal to ones, x1, not x4 -->"
      ],
      "id": "eae23daa-2284-4686-b1cb-d305d20fb5fb"
    },
    {
      "cell_type": "raw",
      "metadata": {
        "raw_mimetype": "text/html"
      },
      "source": [
        "<!-- # note block of 0s -->"
      ],
      "id": "28cf9a1f-7418-40f2-a8fd-e03e2e7301b1"
    },
    {
      "cell_type": "raw",
      "metadata": {
        "raw_mimetype": "text/html"
      },
      "source": [
        "<!-- crossprod(cbind(ones, X1, X4, X5)) -->"
      ],
      "id": "3f74bdbe-ebf2-4615-8e0b-862da4ff9746"
    },
    {
      "cell_type": "raw",
      "metadata": {
        "raw_mimetype": "text/html"
      },
      "source": [
        "<!-- ``` -->"
      ],
      "id": "3a929285-aff6-4ebc-96c8-d2f845602ee8"
    },
    {
      "cell_type": "raw",
      "metadata": {
        "raw_mimetype": "text/html"
      },
      "source": [
        "<!-- Note the block of zeros in the lower left and upper right corners of the -->"
      ],
      "id": "282c2260-f145-47d4-841b-a94ee020b1c5"
    },
    {
      "cell_type": "raw",
      "metadata": {
        "raw_mimetype": "text/html"
      },
      "source": [
        "<!-- cross product matrix above. The block containing `ones` and `X1` is -->"
      ],
      "id": "bbae04cb-cfee-4281-b3ca-5f809e1595b2"
    },
    {
      "cell_type": "raw",
      "metadata": {
        "raw_mimetype": "text/html"
      },
      "source": [
        "<!-- orthogonal to the block containing `X4` and `X5`. This means that if we -->"
      ],
      "id": "08e9fcbc-6ad3-42e7-8ad6-6b012149ba05"
    },
    {
      "cell_type": "raw",
      "metadata": {
        "raw_mimetype": "text/html"
      },
      "source": [
        "<!-- fit the model with only the column of 1s and `X1`, the model only with -->"
      ],
      "id": "a6db77c4-53e8-40ac-aa72-a10aadc5e766"
    },
    {
      "cell_type": "raw",
      "metadata": {
        "raw_mimetype": "text/html"
      },
      "source": [
        "<!-- `X4` and `X5`, and then fit the model with the column of 1s, `x1`, `x4`, -->"
      ],
      "id": "db942808-e795-4f7a-b0f8-8e9514418176"
    },
    {
      "cell_type": "raw",
      "metadata": {
        "raw_mimetype": "text/html"
      },
      "source": [
        "<!-- and `x5`, then the coefficients $\\hat{\\beta}_{0}$ and $\\hat{\\beta}_{1}$ -->"
      ],
      "id": "d50908f9-f99b-4ae4-9fb6-54ed9c66cbe4"
    },
    {
      "cell_type": "raw",
      "metadata": {
        "raw_mimetype": "text/html"
      },
      "source": [
        "<!-- are not impacted when `X4` and `X5` are added to the model. Similarly, -->"
      ],
      "id": "b51d14b8-7d3e-4d7d-8b1b-f13030b0384d"
    },
    {
      "cell_type": "raw",
      "metadata": {
        "raw_mimetype": "text/html"
      },
      "source": [
        "<!-- $\\hat{\\beta}_{4}$ and $\\hat{\\beta}_{5}$ are not impacted when the column -->"
      ],
      "id": "4999a915-ea6d-4804-8ed8-b7db4748f5ae"
    },
    {
      "cell_type": "raw",
      "metadata": {
        "raw_mimetype": "text/html"
      },
      "source": [
        "<!-- of 1s and `X1` are added to the model with `X4` and `X5`. See the output -->"
      ],
      "id": "4e9d731e-3eac-4960-9780-54684fc155ff"
    },
    {
      "cell_type": "raw",
      "metadata": {
        "raw_mimetype": "text/html"
      },
      "source": [
        "<!-- below. -->"
      ],
      "id": "db5a23e5-469c-4e53-91a7-fbb346dff5e0"
    },
    {
      "cell_type": "raw",
      "metadata": {
        "raw_mimetype": "text/html"
      },
      "source": [
        "<!-- ```{r} -->"
      ],
      "id": "f9bac992-e935-44ab-9a59-011b6034da62"
    },
    {
      "cell_type": "raw",
      "metadata": {
        "raw_mimetype": "text/html"
      },
      "source": [
        "<!-- lm(y ~ x1)           # model with 1s and x1 -->"
      ],
      "id": "9e5aaef8-3120-453d-9492-c6c66ded1b37"
    },
    {
      "cell_type": "raw",
      "metadata": {
        "raw_mimetype": "text/html"
      },
      "source": [
        "<!-- lm(y ~ x4 + x5 - 1)  # model with x4 and x5 only -->"
      ],
      "id": "2e2242ba-4893-470e-bcd6-eb9aa6941e3c"
    },
    {
      "cell_type": "raw",
      "metadata": {
        "raw_mimetype": "text/html"
      },
      "source": [
        "<!-- lm(y ~ x1 + x4 + x5) # model with 1s, x1, x4, x5 -->"
      ],
      "id": "f8699893-1081-4ea1-95ca-65f361235c3b"
    },
    {
      "cell_type": "raw",
      "metadata": {
        "raw_mimetype": "text/html"
      },
      "source": [
        "<!-- ``` -->"
      ],
      "id": "16b06c4c-fbed-49dc-9708-50e854dd5bc2"
    }
  ],
  "nbformat": 4,
  "nbformat_minor": 5,
  "metadata": {
    "kernelspec": {
      "name": "ir",
      "display_name": "R",
      "language": "R"
    }
  }
}