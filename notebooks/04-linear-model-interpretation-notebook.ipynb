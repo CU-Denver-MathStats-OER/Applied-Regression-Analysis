{
  "cells": [
    {
      "cell_type": "raw",
      "metadata": {},
      "source": [
        "---\n",
        "title: Chapter 4 - Linear Model Interpretation\n",
        "author: Joshua French\n",
        "date: ''\n",
        "format: ipynb\n",
        "execute:\n",
        "  output: false\n",
        "self-contained: true\n",
        "title-block-banner: true\n",
        "wrap: none\n",
        "---"
      ],
      "id": "68df5c33"
    },
    {
      "cell_type": "markdown",
      "metadata": {},
      "source": [
        "To open this information in an interactive Colab notebook, click the Open in Colab graphic below.\n",
        "\n",
        "<a href=\"https://colab.research.google.com/github/jfrench/LinearRegression/blob/master/notebooks/04-linear-model-interpretation-notebook.ipynb\">\n",
        "   <img src=\"https://colab.research.google.com/assets/colab-badge.svg\">\n",
        "</a>"
      ],
      "id": "3fbfabd4"
    },
    {
      "cell_type": "markdown",
      "metadata": {},
      "source": [
        "---\n"
      ],
      "id": "e0309c19"
    },
    {
      "cell_type": "code",
      "metadata": {},
      "source": [
        "if(!require(palmerpenguins, quietly = TRUE)) {\n",
        "  install.packages(\"palmerpenguins\", repos = \"https://cran.rstudio.com/\")\n",
        "  library(palmerpenguins)\n",
        "}"
      ],
      "id": "039e0755",
      "execution_count": null,
      "outputs": []
    },
    {
      "cell_type": "code",
      "metadata": {},
      "source": [
        "if(!require(car, quietly = TRUE)) {\n",
        "  install.packages(\"car\", repos = \"https://cran.rstudio.com/\")\n",
        "  library(car)\n",
        "}"
      ],
      "id": "a49b8d43",
      "execution_count": null,
      "outputs": []
    },
    {
      "cell_type": "code",
      "metadata": {},
      "source": [
        "if(!require(effects, quietly = TRUE)) {\n",
        "  install.packages(\"effects\", repos = \"https://cran.rstudio.com/\")\n",
        "  library(effects)\n",
        "}"
      ],
      "id": "4cd6d2d8",
      "execution_count": null,
      "outputs": []
    },
    {
      "cell_type": "raw",
      "metadata": {},
      "source": [
        "# Interpretation of coefficients\n",
        "\n",
        "The standard approach to interpreting the coefficients of a fitted\n",
        "linear model is to consider the expected change in the response in\n",
        "relation to changes in the regressors in the model.\n",
        "\n",
        "Consider the typical multiple linear regression model of the response\n",
        "\n",
        "$$\n",
        "Y=\\beta_0+\\beta_1 X_1 +\\ldots + \\beta_{p-1}X_{p-1}+\\epsilon.\n",
        "$$\n",
        "\n",
        "* We treat the values of our regressor variables as being fixed, known values\n",
        "* The error term is treated as a random variable\n",
        "* Consequently, the response variable is also a random variable. \n",
        "\n",
        "**Random Error Assumption**\n",
        "\n",
        "---"
      ],
      "id": "d73d73f1"
    },
    {
      "cell_type": "markdown",
      "metadata": {},
      "source": [
        "We assume that the errors all have mean 0, conditional on the values of the regressor variables. \n",
        "\n",
        "$$\n",
        "E(\\epsilon \\mid X_1, X_2, \\ldots, X_{p-1})=0.\n",
        "$$\n",
        "Or, using alternative notation:\n",
        "\n",
        "$$\n",
        "E(\\epsilon \\mid \\mathbb{X})=0.\n",
        "$$\n",
        "\n",
        "**Expected Value of Response**"
      ],
      "id": "9f57ccdf"
    },
    {
      "cell_type": "raw",
      "metadata": {},
      "source": [
        "---\n",
        "\n",
        "\n",
        "Using the assumption of mean zero errors, we have:\n",
        "\n",
        "\n",
        "::: {.content-visible unless-format=\"pdf\"}\n",
        "</br>  \n",
        "</br>  \n",
        "</br>  \n",
        "</br>  \n",
        "</br>  \n",
        "</br>  \n",
        "</br>  \n",
        ":::\n",
        "  \n",
        "::: {.content-hidden unless-format=\"pdf\"}\n",
        "$$\n",
        "\\begin{aligned}\n",
        "& E(Y\\mid X_1, X_2, \\ldots, X_{p-1}) \\\\\n",
        "&= E(Y \\mid \\mathbb{X}) \\\\\n",
        "&= E(\\beta_0+\\beta_1 X_1 +\\ldots + \\beta_{p-1}X_{p-1}+\\epsilon \\mid \\mathbb{X}) \\\\\n",
        "&= E(\\beta_0+\\beta_1 X_1 +\\ldots + \\beta_{p-1}X_{p-1}\\mid \\mathbb{X}) + E(\\epsilon \\mid \\mathbb{X}) \\\\\n",
        "&=\\beta_0+\\beta_1 X_1 +\\ldots + \\beta_{p-1}X_{p-1}.\n",
        "\\end{aligned}\n",
        "$$\n",
        ":::\n",
        "\n",
        "Note: All the coefficient $\\beta_i$ terms are fixed, non-random.\n",
        "\n",
        "\n",
        "**Interpretation for simple linear regression**\n",
        "\n",
        "---"
      ],
      "id": "d89242dd"
    },
    {
      "cell_type": "markdown",
      "metadata": {},
      "source": [
        "Suppose we have a simple linear regression model, so that \n",
        "$$\n",
        "E(Y\\mid X)=\\beta_0 + \\beta_1 X.\n",
        "$$ \n",
        "The interpretations of the coefficients are:\n",
        "\n",
        "-   $\\beta_0$ is the expected response when the regressor is 0, i.e.,\n",
        "    $\\beta_0=E(Y\\mid X=0)$.\n",
        "-   $\\beta_1$ is the expected change in the response when the regressor\n",
        "    increases 1 unit, i.e., $\\beta_1=E(Y\\mid X=x^*+1)-E(Y\\mid X=x^*)$,\n",
        "    where $x^*$ is a fixed, real number.\n",
        "\n",
        "**Interpretation of Intercept**"
      ],
      "id": "a2a50eab"
    },
    {
      "cell_type": "raw",
      "metadata": {},
      "source": [
        "---\n",
        "\n",
        "\n",
        "The intercept term $\\beta_0$ is the expected value of the response when $X= 0$.\n",
        "\n",
        "\n",
        "::: {.content-visible unless-format=\"pdf\"}\n",
        "</br>  \n",
        "</br>  \n",
        "</br>  \n",
        ":::\n",
        "  \n",
        "::: {.content-hidden unless-format=\"pdf\"}\n",
        "$$\n",
        "\\begin{aligned}\n",
        "E(Y\\mid X = 0) &= \\beta_0 + \\beta_1 \\cdot 0 \\\\\n",
        "&= \\beta_0.\n",
        "\\end{aligned}\n",
        "$$ \n",
        ":::\n",
        "\n",
        "**Interpretation of Slope**\n",
        "\n",
        "---"
      ],
      "id": "4f8c06b3"
    },
    {
      "cell_type": "markdown",
      "metadata": {},
      "source": [
        "Similarly, for $\\beta_1$, we notice that \n",
        "\n",
        "::: {.content-visible unless-format=\"pdf\"}\n",
        "</br>  \n",
        "</br>  \n",
        "</br>  \n",
        "</br>  \n",
        "</br>  \n",
        "</br>  \n",
        "</br>  \n",
        ":::\n",
        "  \n",
        "::: {.content-hidden unless-format=\"pdf\"}\n",
        "$$\n",
        "\\begin{aligned}\n",
        "E(Y\\mid X=x^*+1)-E(Y\\mid X=x^*) &= [\\beta_0 + \\beta_1 (x^* + 1)] - [\\beta_0 + \\beta_1 x^*] \\\\\n",
        "&= \\beta_1.\n",
        "\\end{aligned}\n",
        "$$ \n",
        ":::\n",
        "\n",
        "Thus, $\\beta_1$ literally equals the change in the expected response\n",
        "when the regressor increases by 1 unit.\n",
        "\n",
        "It may not make sense to say \"we increase $X$ by 1\n",
        "unit\" or \"when $X$ increases by 1 unit\". For example??\n",
        "\n",
        "To illustrate the interpretations given above, we interpret the simple\n",
        "linear regression model fit to the `penguins` data. The fitted simple linear regression model of `body_mass_g` regressed on\n",
        "`body_mass_g` is \n",
        "$$\n",
        "\\hat{E}(\\mathtt{bill\\_length\\_mm}\\mid \\mathtt{body\\_mass\\_g})=26.9+0.004 \\,\\mathtt{body\\_mass\\_g}.\n",
        "$$ \n",
        "\n",
        "Some basic interpretations of the coefficients are:\n",
        "\n",
        "\n",
        "\n",
        "::: {.content-visible unless-format=\"pdf\"}\n",
        "</br>  \n",
        "</br>  \n",
        "</br>  \n",
        "</br>  \n",
        "</br>  \n",
        "</br>  \n",
        "</br>  \n",
        ":::\n",
        "  \n",
        "::: {.content-hidden unless-format=\"pdf\"}\n",
        "-   Intercept: The expected bill length of a penguin with a body mass of\n",
        "    0 grams is 26.9 mm. \n",
        "-   `body_mass_g`: A penguin 1 gram heavier than another penguin is\n",
        "    expected to have a bill length 0.004 mm longer than the smaller\n",
        "    penguin.\n",
        ":::\n"
      ],
      "id": "279e22c1"
    }
  ],
  "metadata": {
    "kernelspec": {
      "name": "ir",
      "language": "R",
      "display_name": "R"
    }
  },
  "nbformat": 4,
  "nbformat_minor": 5
}