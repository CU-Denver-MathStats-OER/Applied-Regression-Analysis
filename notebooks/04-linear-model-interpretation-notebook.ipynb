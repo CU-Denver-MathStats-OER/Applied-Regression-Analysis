{
  "cells": [
    {
      "cell_type": "markdown",
      "metadata": {},
      "source": [
        "# Chapter 4 - Linear Model Interpretation\n",
        "\n",
        "Joshua French\n",
        "\n",
        "To open this information in an interactive Colab notebook, click the Open in Colab graphic below.\n",
        "\n",
        "<a href=\"https://colab.research.google.com/github/jfrench/LinearRegression/blob/master/notebooks/04-linear-model-interpretation-notebook.ipynb\"> <img src=\"https://colab.research.google.com/assets/colab-badge.svg\"> </a>\n",
        "\n",
        "------------------------------------------------------------------------"
      ],
      "id": "492816d0-5381-4b89-a43b-984556339c93"
    },
    {
      "cell_type": "code",
      "execution_count": 1,
      "metadata": {},
      "outputs": [],
      "source": [
        "if(!require(palmerpenguins, quietly = TRUE)) {\n",
        "  install.packages(\"palmerpenguins\", repos = \"https://cran.rstudio.com/\")\n",
        "  library(palmerpenguins)\n",
        "}"
      ],
      "id": "26562f0d-b071-4134-b94a-d1599d36a6b0"
    },
    {
      "cell_type": "code",
      "execution_count": 2,
      "metadata": {},
      "outputs": [],
      "source": [
        "if(!require(car, quietly = TRUE)) {\n",
        "  install.packages(\"car\", repos = \"https://cran.rstudio.com/\")\n",
        "  library(car)\n",
        "}"
      ],
      "id": "bfebade9-7ea6-45e1-ab68-f39b9662480e"
    },
    {
      "cell_type": "code",
      "execution_count": 3,
      "metadata": {},
      "outputs": [],
      "source": [
        "if(!require(effects, quietly = TRUE)) {\n",
        "  install.packages(\"effects\", repos = \"https://cran.rstudio.com/\")\n",
        "  library(effects)\n",
        "}"
      ],
      "id": "fd91a5f7-6087-448c-b30a-31b463345104"
    },
    {
      "cell_type": "markdown",
      "metadata": {},
      "source": [
        "# Interpretation of coefficients\n",
        "\n",
        "The standard approach to interpreting the coefficients of a fitted linear model is to consider the expected change in the response in relation to changes in the regressors in the model.\n",
        "\n",
        "Consider the typical multiple linear regression model of the response\n",
        "\n",
        "$$\n",
        "Y=\\beta_0+\\beta_1 X_1 +\\ldots + \\beta_{p-1}X_{p-1}+\\epsilon.\n",
        "$$\n",
        "\n",
        "-   We treat the values of our regressor variables as being fixed, known values\n",
        "-   The error term is treated as a random variable\n",
        "-   Consequently, the response variable is also a random variable.\n",
        "\n",
        "**Random Error Assumption**\n",
        "\n",
        "------------------------------------------------------------------------\n",
        "\n",
        "We assume that the errors all have mean 0, conditional on the values of the regressor variables.\n",
        "\n",
        "$$\n",
        "E(\\epsilon \\mid X_1, X_2, \\ldots, X_{p-1})=0.\n",
        "$$ Or, using alternative notation:\n",
        "\n",
        "$$\n",
        "E(\\epsilon \\mid \\mathbb{X})=0.\n",
        "$$\n",
        "\n",
        "**Expected Value of Response**\n",
        "\n",
        "------------------------------------------------------------------------\n",
        "\n",
        "Using the assumption of mean zero errors, we have:\n",
        "\n",
        "</br> </br> </br> </br> </br> </br> </br>\n",
        "\n",
        "Note: All the coefficient $\\beta_i$ terms are fixed, non-random.\n",
        "\n",
        "**Interpretation for simple linear regression**\n",
        "\n",
        "------------------------------------------------------------------------\n",
        "\n",
        "Suppose we have a simple linear regression model, so that $$\n",
        "E(Y\\mid X)=\\beta_0 + \\beta_1 X.\n",
        "$$ The interpretations of the coefficients are:\n",
        "\n",
        "-   $\\beta_0$ is the expected response when the regressor is 0, i.e., $\\beta_0=E(Y\\mid X=0)$.\n",
        "-   $\\beta_1$ is the expected change in the response when the regressor increases 1 unit, i.e., $\\beta_1=E(Y\\mid X=x^*+1)-E(Y\\mid X=x^*)$, where $x^*$ is a fixed, real number.\n",
        "\n",
        "**Interpretation of Intercept**\n",
        "\n",
        "------------------------------------------------------------------------\n",
        "\n",
        "The intercept term $\\beta_0$ is the expected value of the response when $X= 0$.\n",
        "\n",
        "</br> </br> </br>\n",
        "\n",
        "**Interpretation of Slope**\n",
        "\n",
        "------------------------------------------------------------------------\n",
        "\n",
        "Similarly, for $\\beta_1$, we notice that\n",
        "\n",
        "</br> </br> </br> </br> </br> </br> </br>\n",
        "\n",
        "Thus, $\\beta_1$ literally equals the change in the expected response when the regressor increases by 1 unit.\n",
        "\n",
        "It may not make sense to say “we increase $X$ by 1 unit” or “when $X$ increases by 1 unit”. For example??\n",
        "\n",
        "To illustrate the interpretations given above, we interpret the simple linear regression model fit to the `penguins` data. The fitted simple linear regression model of `body_mass_g` regressed on `body_mass_g` is $$\n",
        "\\hat{E}(\\mathtt{bill\\_length\\_mm}\\mid \\mathtt{body\\_mass\\_g})=26.9+0.004 \\,\\mathtt{body\\_mass\\_g}.\n",
        "$$\n",
        "\n",
        "Some basic interpretations of the coefficients are:\n",
        "\n",
        "</br> </br> </br> </br> </br> </br> </br>\n",
        "\n",
        "**Rescaling Predictors to aid Interpretation**\n",
        "\n",
        "------------------------------------------------------------------------\n",
        "\n",
        "-   A weight difference of 1 gram is negligible in the context of penguin weights.\n",
        "-   A bill length change of 0.004 mm is unlikely to be noticed.\n",
        "\n",
        "In the code below, we divide the `body_mass_g` variable by 1000 to convert the variable from grams to kilograms.\n",
        "\n",
        "We then fit the model regressing `bill_length_mm` on `body_mass_kg` and extract the estimated coefficients."
      ],
      "id": "27cd23f3-41b8-4ad5-8f7a-83fb3835f7ad"
    },
    {
      "cell_type": "code",
      "execution_count": 4,
      "metadata": {},
      "outputs": [],
      "source": [
        "# load penguins data\n",
        "data(penguins, package = \"palmerpenguins\")\n",
        "# transform body mass variable from g to kg\n",
        "penguins <- penguins |> transform(body_mass_kg = body_mass_g/1000)\n",
        "# fit model with body_mass_kg\n",
        "slmod_scaled <- lm(bill_length_mm ~ body_mass_kg, data = penguins)\n",
        "# extract coefficients\n",
        "coefficients(slmod_scaled)"
      ],
      "id": "08960eca-51b2-4092-a08a-b268f4fc0338"
    },
    {
      "cell_type": "markdown",
      "metadata": {},
      "source": [
        "**Question**\n",
        "\n",
        "-   How do we reinterpret the model in the context of kilograms?\n",
        "\n",
        "Dividing `body_mass_g` by 1000 resulted in the estimated coefficient changing by a factor of 1000.\n",
        "\n",
        "More generally, if $\\hat{\\beta}_j$ is the estimated coefficient for $X_j$, then the regressor $(X_j + a)/c$ will have an estimated coefficient of $c\\hat{\\beta}_j$, where $a$ and $c$ are fixed, real numbers and assuming nothing else in the fitted model changes.\n",
        "\n",
        "**Interpretation for first-order multiple linear regression models**\n",
        "\n",
        "------------------------------------------------------------------------\n",
        "\n",
        "Suppose we have a multiple linear regression model with $p-1$ *numeric* regressors, so that\n",
        "\n",
        "$$\n",
        "E(Y\\mid X_1,\\ldots,X_{p-1})=\\beta_0 + \\beta_1 X_1 + \\cdots + \\beta_{p-1} X_{p-1}.\n",
        "$$\n",
        "\n",
        "Relying on the definition of $\\mathbb{X}$, we denote the set of regressors without $X_j$ as $\\mathbb{X}_{-j} = \\mathbb{X}\\setminus\\{X_j\\}$.\n",
        "\n",
        "The interpretations of the coefficients from the model in Equation are:\n",
        "\n",
        "-   $\\beta_0$ is the expected response when all regressors are 0, i.e., $\\beta_0=E(Y\\mid X_1=0,\\ldots,X_{p-1}=0)$.\n",
        "-   $\\beta_j$, $j = 1,\\ldots,p-1$, represents the expected change in the response when regressor $j$ increases 1 unit and the other regressors stay the same, i.e., $\\beta_j=E(Y\\mid \\mathbb{X}_{-j} = \\mathbf{x}^*_{-j}, X_{j+1} = x_{j}^*+1)-E(Y\\mid \\mathbb{X}_{-j} = \\mathbf{x}^*_{-j}, X_{j+1} = x_{j}^*)$ where $\\mathbf{x}_{-j}^*=[x^*_1,\\ldots,x_{j-1}^*,x_{j+1}^*,\\ldots,x_{p-1}^*]\\in \\mathbb{R}^{p-2}$ is a vector with $p-2$ fixed values (the number of regressors excluding $X_j$) and $x_j^*$ is a fixed real number. The non-intercept coefficients of a multiple linear regression model are known as *partial slopes*.\n",
        "\n",
        "Regarding the interpretation of $\\beta_0$, from the regression model:\n",
        "\n",
        "$$\n",
        "\\begin{aligned}\n",
        "E(Y\\mid X_1=0,\\ldots,X_{p-1}=0) &= \\beta_0 + \\beta_1 \\cdot 0 + \\cdots + \\beta_{p-1} \\cdot 0\\\\\n",
        "&= \\beta_0.\n",
        "\\end{aligned}\n",
        "$$\n",
        "\n",
        "**Question:**\n",
        "\n",
        "-   Does the interpretation of the intercept always make sense?\n",
        "-   What if $X_1$ was heart rate?\n",
        "\n",
        "**Issues Interpreting Polynomial Models**\n",
        "\n",
        "------------------------------------------------------------------------\n",
        "\n",
        "In multiple regression models, a single predictor can be used more than once in the model.\n",
        "\n",
        "E.g., in the 2nd-degree polynomial regression model:\n",
        "\n",
        "$$E(Y\\mid X) = \\beta_0 + \\beta_1 X + \\beta_2 X^2,$$\n",
        "\n",
        "$X$ is used in both the second and third terms.\n",
        "\n",
        "**Questions**\n",
        "\n",
        "-   How does this affect the interpretation of $\\beta_1$?\n",
        "-   Is is possible to increase $X$ while keeping $X^2$ fixed?\n",
        "\n",
        "The standard interpretation we discussed is applicable to first-order linear regression models.\n",
        "\n",
        "*First-order linear regression model:* no regressor is a function of any other regressor."
      ],
      "id": "dde78004-7a23-4eab-92e9-d23e7a7d1dc1"
    },
    {
      "cell_type": "raw",
      "metadata": {
        "raw_mimetype": "text/html"
      },
      "source": [
        "<!-- **Penguins Example Revisited** -->"
      ],
      "id": "e75b273b-5ccb-437b-9146-58dea2115c1c"
    },
    {
      "cell_type": "raw",
      "metadata": {
        "raw_mimetype": "text/html"
      },
      "source": [
        "<!-- --- -->"
      ],
      "id": "98e73e2e-d245-4c90-a806-4c3c7e14a609"
    },
    {
      "cell_type": "raw",
      "metadata": {
        "raw_mimetype": "text/html"
      },
      "source": [
        "<!-- We interpret the first-order multiple linear regression model fit to the `penguins` data. The fitted multiple linear regression -->"
      ],
      "id": "550eff34-5fae-473f-9b8a-4f35f7a012f8"
    },
    {
      "cell_type": "raw",
      "metadata": {
        "raw_mimetype": "text/html"
      },
      "source": [
        "<!-- model is: -->"
      ],
      "id": "9df5b00e-cbc6-40dd-a1ab-36bcbf3e9843"
    },
    {
      "cell_type": "raw",
      "metadata": {
        "raw_mimetype": "text/html"
      },
      "source": [
        "<!-- $$ -->"
      ],
      "id": "248853f0-ade3-4f79-8644-96320009cb03"
    },
    {
      "cell_type": "raw",
      "metadata": {
        "raw_mimetype": "text/html"
      },
      "source": [
        "<!-- \\begin{aligned} -->"
      ],
      "id": "dc04f267-e18c-49f0-a843-35f92de2be38"
    },
    {
      "cell_type": "raw",
      "metadata": {
        "raw_mimetype": "text/html"
      },
      "source": [
        "<!-- &\\hat{E}(\\mathtt{bill\\_length\\_mm}\\mid \\mathtt{body\\_mass\\_g}, \\mathtt{flipper\\_length\\_mm})\\\\ -->"
      ],
      "id": "d07a6c30-2fac-4bc1-8e32-991b7a8c4a6f"
    },
    {
      "cell_type": "raw",
      "metadata": {
        "raw_mimetype": "text/html"
      },
      "source": [
        "<!-- &=-3.44+0.0007 \\,\\mathtt{body\\_mass\\_g}+0.22\\,\\mathtt{flipper\\_length\\_mm}. -->"
      ],
      "id": "179552f7-e591-4a60-afba-1a22df426168"
    },
    {
      "cell_type": "raw",
      "metadata": {
        "raw_mimetype": "text/html"
      },
      "source": [
        "<!-- \\end{aligned} -->"
      ],
      "id": "3cd07ba8-d8a5-4152-9de3-e9d8007e0ab1"
    },
    {
      "cell_type": "raw",
      "metadata": {
        "raw_mimetype": "text/html"
      },
      "source": [
        "<!-- $$ -->"
      ],
      "id": "319fc0b1-b143-4a32-a20a-4b93cc40e18d"
    },
    {
      "cell_type": "raw",
      "metadata": {
        "raw_mimetype": "text/html"
      },
      "source": [
        "<!-- Some basic interpretations of the coefficients are: -->"
      ],
      "id": "0b5927ac-69de-4b06-867b-3237c9b74b0b"
    },
    {
      "cell_type": "raw",
      "metadata": {
        "raw_mimetype": "text/html"
      },
      "source": [
        "<!-- -   *Intercept:* We expect a penguin with a body mass of 0 grams and a -->"
      ],
      "id": "434c7315-5adb-4561-b367-2d5c1e9d8571"
    },
    {
      "cell_type": "raw",
      "metadata": {
        "raw_mimetype": "text/html"
      },
      "source": [
        "<!--     flipper length of 0 mm to to have a bill length of -3.44 mm. -->"
      ],
      "id": "781ac8d9-ce5d-4351-86b8-97fee538f4b5"
    },
    {
      "cell_type": "raw",
      "metadata": {
        "raw_mimetype": "text/html"
      },
      "source": [
        "<!-- -   `body_mass_g`: If we increase body mass by 1 gram, we expect bill length to increase 0.0007 mm *holding all else constant*. -->"
      ],
      "id": "cc902035-d689-42b7-9611-bfce867622a0"
    },
    {
      "cell_type": "raw",
      "metadata": {
        "raw_mimetype": "text/html"
      },
      "source": [
        "<!-- -   `flipper_length_mm`: If we increase flipper length by 1 mm, we expect the bill length to increase 0.22 mm *holding all else constant*. -->"
      ],
      "id": "f87fdf40-aa5f-472e-8959-8f441fa8d39b"
    },
    {
      "cell_type": "raw",
      "metadata": {
        "raw_mimetype": "text/html"
      },
      "source": [
        "<!-- **Roles of regressor variables** -->"
      ],
      "id": "85063363-f566-493a-823e-f0c04960813f"
    },
    {
      "cell_type": "raw",
      "metadata": {
        "raw_mimetype": "text/html"
      },
      "source": [
        "<!-- --- -->"
      ],
      "id": "25b1a08a-afe1-42a0-b8c6-207f469178b7"
    },
    {
      "cell_type": "raw",
      "metadata": {
        "raw_mimetype": "text/html"
      },
      "source": [
        "<!-- Did you notice that the estimated coefficients for the intercept and the -->"
      ],
      "id": "43e4ca2e-7b2b-436e-9a77-a52f003dfd36"
    },
    {
      "cell_type": "raw",
      "metadata": {
        "raw_mimetype": "text/html"
      },
      "source": [
        "<!-- `body_mass_g` regressor changed between the simple model and the multiple regression model? -->"
      ],
      "id": "effc4d77-2924-471c-89d7-996fb9015921"
    },
    {
      "cell_type": "raw",
      "metadata": {
        "raw_mimetype": "text/html"
      },
      "source": [
        "<!-- |Regression Model | Intercept Coef.| Body Mass Coef.| -->"
      ],
      "id": "eba9d5cc-3d52-4b2b-974d-43d759801d77"
    },
    {
      "cell_type": "raw",
      "metadata": {
        "raw_mimetype": "text/html"
      },
      "source": [
        "<!-- |:----------------|---------------:|---------------:| -->"
      ],
      "id": "aeee4174-ad92-49b3-8b47-30b42b0cb693"
    },
    {
      "cell_type": "raw",
      "metadata": {
        "raw_mimetype": "text/html"
      },
      "source": [
        "<!-- |Simple Linear    |           26.90|           0.004| -->"
      ],
      "id": "f1e425ea-33b6-4455-800c-b2a6794e54b6"
    },
    {
      "cell_type": "raw",
      "metadata": {
        "raw_mimetype": "text/html"
      },
      "source": [
        "<!-- |Multiple         |           -3.44|           0.0007| -->"
      ],
      "id": "f2d04f75-c0e2-4446-8db9-fe9382d832e5"
    },
    {
      "cell_type": "raw",
      "metadata": {
        "raw_mimetype": "text/html"
      },
      "source": [
        "<!-- * Why? -->"
      ],
      "id": "477f89a8-4435-4ad8-b2f6-2ab1c88ebd48"
    },
    {
      "cell_type": "raw",
      "metadata": {
        "raw_mimetype": "text/html"
      },
      "source": [
        "<!-- The role a regressor plays in a regression model depends on what other -->"
      ],
      "id": "8783c839-f276-458a-a650-4fbfa2b1874f"
    },
    {
      "cell_type": "raw",
      "metadata": {
        "raw_mimetype": "text/html"
      },
      "source": [
        "<!-- regressors are in the model.  -->"
      ],
      "id": "0b953280-81e9-45cf-8da8-9c7ea7d8332d"
    },
    {
      "cell_type": "raw",
      "metadata": {
        "raw_mimetype": "text/html"
      },
      "source": [
        "<!-- - Generally, we can't provide a definitive interpretation of a -->"
      ],
      "id": "c940a018-559f-4e64-ab6f-f7704a8f58df"
    },
    {
      "cell_type": "raw",
      "metadata": {
        "raw_mimetype": "text/html"
      },
      "source": [
        "<!-- regressor's role in a fitted model without knowing what other regressors -->"
      ],
      "id": "d7f05b3b-df31-4411-b3f3-d4801baa6aaa"
    },
    {
      "cell_type": "raw",
      "metadata": {
        "raw_mimetype": "text/html"
      },
      "source": [
        "<!-- are in the model. -->"
      ],
      "id": "f66b3ce1-e65d-43b0-8b0a-3fdd1c43522a"
    },
    {
      "cell_type": "raw",
      "metadata": {
        "raw_mimetype": "text/html"
      },
      "source": [
        "<!-- - When interpreting a regressor, it is common to -->"
      ],
      "id": "367f9a5f-657d-4e4f-a9af-740d1f00a463"
    },
    {
      "cell_type": "raw",
      "metadata": {
        "raw_mimetype": "text/html"
      },
      "source": [
        "<!-- include something like *after accounting for the other variables in -->"
      ],
      "id": "742d3b56-e125-4ed4-8cb8-5d320a1e6157"
    },
    {
      "cell_type": "raw",
      "metadata": {
        "raw_mimetype": "text/html"
      },
      "source": [
        "<!-- the model*. -->"
      ],
      "id": "788c68ca-8625-4993-b8bd-d017c5023b2a"
    },
    {
      "cell_type": "raw",
      "metadata": {
        "raw_mimetype": "text/html"
      },
      "source": [
        "<!-- If our model had different variables, then our interpretation would be -->"
      ],
      "id": "87b588a5-24af-4424-bb7f-a3e035e17ae0"
    },
    {
      "cell_type": "raw",
      "metadata": {
        "raw_mimetype": "text/html"
      },
      "source": [
        "<!-- different! -->"
      ],
      "id": "6df58763-5442-4ae7-b199-64a33dfc4ed0"
    },
    {
      "cell_type": "raw",
      "metadata": {
        "raw_mimetype": "text/html"
      },
      "source": [
        "<!-- Mathematically, why do the estimated coefficients change -->"
      ],
      "id": "17044684-2edc-43ff-aa62-3d40d4f2e125"
    },
    {
      "cell_type": "raw",
      "metadata": {
        "raw_mimetype": "text/html"
      },
      "source": [
        "<!-- as we add or remove regressors from a model? -->"
      ],
      "id": "ce1a90aa-4049-44eb-81fc-a5d14702b509"
    },
    {
      "cell_type": "raw",
      "metadata": {
        "raw_mimetype": "text/html"
      },
      "source": [
        "<!-- - If a regressor is correlated with other regressors in a model, then adding or removing that regressor will impact the estimated coefficients in the new model. -->"
      ],
      "id": "5f85b475-ed39-4c5a-a65e-9d38dabd1410"
    },
    {
      "cell_type": "raw",
      "metadata": {
        "raw_mimetype": "text/html"
      },
      "source": [
        "<!-- - The more correlated the regressors are, the more they tend to affect -->"
      ],
      "id": "6286d260-927d-4847-8861-3bb0dd2c1c5a"
    },
    {
      "cell_type": "raw",
      "metadata": {
        "raw_mimetype": "text/html"
      },
      "source": [
        "<!-- each others' estimated coefficients.  -->"
      ],
      "id": "bae7bf95-1d35-49a4-a6f6-5065971b68bd"
    },
    {
      "cell_type": "raw",
      "metadata": {
        "raw_mimetype": "text/html"
      },
      "source": [
        "<!-- - A regressor will impact the estimated coefficients of the other regressors in a model unless it is *orthogonal* to the other regressors. -->"
      ],
      "id": "f4333b37-c7a9-435d-b41f-187f13999a52"
    },
    {
      "cell_type": "raw",
      "metadata": {
        "raw_mimetype": "text/html"
      },
      "source": [
        "<!-- *Note:* Orthogonality is related to correlation, but there are important differences. -->"
      ],
      "id": "72e6965a-18ba-462b-bfc7-bfd555aedf6a"
    },
    {
      "cell_type": "raw",
      "metadata": {
        "raw_mimetype": "text/html"
      },
      "source": [
        "<!-- # Effect plots -->"
      ],
      "id": "dbf195f3-3c74-46f9-bf51-ec951b8a5cf7"
    },
    {
      "cell_type": "raw",
      "metadata": {
        "raw_mimetype": "text/html"
      },
      "source": [
        "<!-- An effect plot is a visual display that aids in helping us intuitively -->"
      ],
      "id": "cbd0d539-7b9a-4f14-8539-81da2dd2a2e2"
    },
    {
      "cell_type": "raw",
      "metadata": {
        "raw_mimetype": "text/html"
      },
      "source": [
        "<!-- interpret the impact of a *predictor* in a model. As stated by -->"
      ],
      "id": "aed9c5c0-8ad2-4e52-b0f6-30e57aa1d91f"
    },
    {
      "cell_type": "raw",
      "metadata": {
        "raw_mimetype": "text/html"
      },
      "source": [
        "<!-- Fox et al. (2020): -->"
      ],
      "id": "a093f3b9-696b-4a81-93ef-c0897932f257"
    },
    {
      "cell_type": "raw",
      "metadata": {
        "raw_mimetype": "text/html"
      },
      "source": [
        "<!-- > Summarization of the effects of predictors using tables of coefficient -->"
      ],
      "id": "f219bdf7-da1e-4173-8dda-fb335d495b1e"
    },
    {
      "cell_type": "raw",
      "metadata": {
        "raw_mimetype": "text/html"
      },
      "source": [
        "<!-- > estimates is often incomplete. Effects, and particularly plots of -->"
      ],
      "id": "496f0fcd-f91e-40e1-b5ce-55f57a44a319"
    },
    {
      "cell_type": "raw",
      "metadata": {
        "raw_mimetype": "text/html"
      },
      "source": [
        "<!-- > effects, can in many instances reveal the relationship of the response -->"
      ],
      "id": "9f573b50-8793-48ed-9f61-e42b2f173b36"
    },
    {
      "cell_type": "raw",
      "metadata": {
        "raw_mimetype": "text/html"
      },
      "source": [
        "<!-- > to the predictors more clearly. This conclusion is especially true for -->"
      ],
      "id": "c79238ff-4922-4f95-b0f6-828d0e5454ce"
    },
    {
      "cell_type": "raw",
      "metadata": {
        "raw_mimetype": "text/html"
      },
      "source": [
        "<!-- > models with linear predictors that include interactions and -->"
      ],
      "id": "be2f97be-efcc-41c2-ab0f-5eeb8389149e"
    },
    {
      "cell_type": "raw",
      "metadata": {
        "raw_mimetype": "text/html"
      },
      "source": [
        "<!-- > multiple-coefficient terms such as regression splines and polynomials -->"
      ],
      "id": "b8edab76-de61-45fa-aada-a807e1b9027a"
    },
    {
      "cell_type": "raw",
      "metadata": {
        "raw_mimetype": "text/html"
      },
      "source": [
        "<!-- > .... -->"
      ],
      "id": "48f43baf-d181-4054-9562-869888f6a52d"
    },
    {
      "cell_type": "raw",
      "metadata": {
        "raw_mimetype": "text/html"
      },
      "source": [
        "<!-- An *effect plot* is a plot of the estimated mean response as a function of a *focal predictor* with the other *predictors* being held at \"typical values\".  -->"
      ],
      "id": "f6ce8fce-b012-4721-b745-ce0720c03a4b"
    },
    {
      "cell_type": "raw",
      "metadata": {
        "raw_mimetype": "text/html"
      },
      "source": [
        "<!-- *Recall:* the difference between predictors and regressors. -->"
      ],
      "id": "b9f253d2-b1f4-4074-84be-b9f97e21c0dd"
    },
    {
      "cell_type": "raw",
      "metadata": {
        "raw_mimetype": "text/html"
      },
      "source": [
        "<!-- - A *predictor* variable is a variable available to model the response variable.  -->"
      ],
      "id": "eb93e011-9e93-4496-abc4-4d8cafe3c761"
    },
    {
      "cell_type": "raw",
      "metadata": {
        "raw_mimetype": "text/html"
      },
      "source": [
        "<!-- - A *regressor* variable is a variable used in our regression model, whether that is an unmodified predictor variable, some transformation of a predictor, some combination of predictors, etc. -->"
      ],
      "id": "45d88840-4a3c-4345-8a8d-f2ff720d280f"
    },
    {
      "cell_type": "raw",
      "metadata": {
        "raw_mimetype": "text/html"
      },
      "source": [
        "<!-- **First-Order Model Effects Plot** -->"
      ],
      "id": "7649861b-8d9a-4e58-880a-6eb6254205dd"
    },
    {
      "cell_type": "raw",
      "metadata": {
        "raw_mimetype": "text/html"
      },
      "source": [
        "<!-- --- -->"
      ],
      "id": "4fd4db71-752e-4ade-a86d-cd1f368504ff"
    },
    {
      "cell_type": "raw",
      "metadata": {
        "raw_mimetype": "text/html"
      },
      "source": [
        "<!-- In a first-order linear model, none of the regressors interact, i.e., none of the regressors are functions of each other. Fox et al. (2020) use the terminology *fixed group* to refer to the group of predictors that do not interact with the focal predictor.  -->"
      ],
      "id": "b98c0eba-f3c1-46e0-86df-1ae97202f396"
    },
    {
      "cell_type": "raw",
      "metadata": {
        "raw_mimetype": "text/html"
      },
      "source": [
        "<!-- To create our effect plot, we must first find the equation for the estimated mean response as a function of a focal predictor while holding the other predictors at their \"typical\" values. We set numeric fixed group predictors equal to their sample means when finding this function. -->"
      ],
      "id": "6cfe53d4-2dcd-4e7f-9500-6e68fa415111"
    },
    {
      "cell_type": "raw",
      "metadata": {
        "raw_mimetype": "text/html"
      },
      "source": [
        "<!-- We now construct effect plots for the estimated regression model of the -->"
      ],
      "id": "a3493edd-0057-401f-b807-3b7fe94a61b2"
    },
    {
      "cell_type": "raw",
      "metadata": {
        "raw_mimetype": "text/html"
      },
      "source": [
        "<!-- `penguins` data that regressed `bill_length_mm` on `body_mass_g` and `flipper_length_mm`. The fitted model is  -->"
      ],
      "id": "e4cdc5f1-a5be-477f-953f-b115d76e2a21"
    },
    {
      "cell_type": "raw",
      "metadata": {
        "raw_mimetype": "text/html"
      },
      "source": [
        "<!-- $$ -->"
      ],
      "id": "fb13152f-f708-4fa7-9f03-2873efb21453"
    },
    {
      "cell_type": "raw",
      "metadata": {
        "raw_mimetype": "text/html"
      },
      "source": [
        "<!-- \\begin{aligned} -->"
      ],
      "id": "148d977d-4ad2-4625-8945-4526e4c65db8"
    },
    {
      "cell_type": "raw",
      "metadata": {
        "raw_mimetype": "text/html"
      },
      "source": [
        "<!-- &\\hat{E}(\\mathtt{bill\\_length\\_mm}\\mid \\mathtt{body\\_mass\\_g}, \\mathtt{flipper\\_length\\_mm})\\\\ -->"
      ],
      "id": "d7d5d59a-9011-4ed7-bb31-7e12e27c6aa6"
    },
    {
      "cell_type": "raw",
      "metadata": {
        "raw_mimetype": "text/html"
      },
      "source": [
        "<!-- &=-3.44+0.0007 \\,\\mathtt{body\\_mass\\_g}+0.22\\,\\mathtt{flipper\\_length\\_mm}. -->"
      ],
      "id": "389c95e4-f93e-4e55-a56d-fde16b4694e7"
    },
    {
      "cell_type": "raw",
      "metadata": {
        "raw_mimetype": "text/html"
      },
      "source": [
        "<!-- \\end{aligned} -->"
      ],
      "id": "c4678094-0a58-4c5b-9c37-a4e9b2d00090"
    },
    {
      "cell_type": "raw",
      "metadata": {
        "raw_mimetype": "text/html"
      },
      "source": [
        "<!-- $$ -->"
      ],
      "id": "e62aefe7-6a86-4c91-8fbf-6990e4bc9904"
    },
    {
      "cell_type": "raw",
      "metadata": {
        "raw_mimetype": "text/html"
      },
      "source": [
        "<!-- We fit this model in R below. -->"
      ],
      "id": "9b21f801-a6ea-4615-9493-50831b2d543d"
    },
    {
      "cell_type": "raw",
      "metadata": {
        "raw_mimetype": "text/html"
      },
      "source": [
        "<!-- ```{r} -->"
      ],
      "id": "db05c3ec-9806-43e3-83f9-66d4eb8eb9df"
    },
    {
      "cell_type": "raw",
      "metadata": {
        "raw_mimetype": "text/html"
      },
      "source": [
        "<!-- # load penguins data since it hasn't been loaded in this chapter -->"
      ],
      "id": "475ca452-5ce2-47bf-b7f6-7f9b62c300b3"
    },
    {
      "cell_type": "raw",
      "metadata": {
        "raw_mimetype": "text/html"
      },
      "source": [
        "<!-- data(penguins, package = \"palmerpenguins\") -->"
      ],
      "id": "9889097d-f7dc-4147-b2c0-69421c65c11f"
    },
    {
      "cell_type": "raw",
      "metadata": {
        "raw_mimetype": "text/html"
      },
      "source": [
        "<!-- # refit multiple linear regression model -->"
      ],
      "id": "8196a8ea-4879-43e9-a246-3593a4c004e5"
    },
    {
      "cell_type": "raw",
      "metadata": {
        "raw_mimetype": "text/html"
      },
      "source": [
        "<!-- mlmod <- lm(bill_length_mm ~ body_mass_g + flipper_length_mm, data = penguins) -->"
      ],
      "id": "7cba8c6e-82b7-4651-b1e3-c4b209fa886b"
    },
    {
      "cell_type": "raw",
      "metadata": {
        "raw_mimetype": "text/html"
      },
      "source": [
        "<!-- # extract estimated coefficients -->"
      ],
      "id": "05ae499d-4492-4069-a530-e876153e35a2"
    },
    {
      "cell_type": "raw",
      "metadata": {
        "raw_mimetype": "text/html"
      },
      "source": [
        "<!-- coef(mlmod) -->"
      ],
      "id": "08719f4d-1777-4f3a-8718-5e95cd21deb2"
    },
    {
      "cell_type": "raw",
      "metadata": {
        "raw_mimetype": "text/html"
      },
      "source": [
        "<!-- ``` -->"
      ],
      "id": "3d8cdbd0-bdf8-4852-8261-b92a4e70106f"
    },
    {
      "cell_type": "raw",
      "metadata": {
        "raw_mimetype": "text/html"
      },
      "source": [
        "<!-- There are two predictors in the model, so we can create effect plots for both variables using the sample mean as a reference value.  -->"
      ],
      "id": "f121e7e7-37b2-44fd-ab1f-09c9c371e042"
    },
    {
      "cell_type": "raw",
      "metadata": {
        "raw_mimetype": "text/html"
      },
      "source": [
        "<!-- ```{r} -->"
      ],
      "id": "a874b6b9-bcf3-4a60-9750-06615f774ebf"
    },
    {
      "cell_type": "raw",
      "metadata": {
        "raw_mimetype": "text/html"
      },
      "source": [
        "<!-- colMeans(mlmod$model) -->"
      ],
      "id": "ed95024e-c731-4f9b-a9b8-ef8de3be110e"
    },
    {
      "cell_type": "raw",
      "metadata": {
        "raw_mimetype": "text/html"
      },
      "source": [
        "<!-- ``` -->"
      ],
      "id": "7ffad730-275b-40a5-8523-f58a1cd3582e"
    },
    {
      "cell_type": "raw",
      "metadata": {
        "raw_mimetype": "text/html"
      },
      "source": [
        "<!-- The effect plot for $\\mathtt{body\\_mass\\_g}$ (on the response -->"
      ],
      "id": "ab0ec502-2b7f-414f-a48a-19ac8a2f8d53"
    },
    {
      "cell_type": "raw",
      "metadata": {
        "raw_mimetype": "text/html"
      },
      "source": [
        "<!-- $\\mathtt{bill\\_length\\_mm}$) is a plot of  -->"
      ],
      "id": "b8bb6289-86bb-460f-b7ee-3f2a8b0c140d"
    },
    {
      "cell_type": "raw",
      "metadata": {
        "raw_mimetype": "text/html"
      },
      "source": [
        "<!-- $$ -->"
      ],
      "id": "6012f18f-41b0-44b7-9623-fb1b38e05151"
    },
    {
      "cell_type": "raw",
      "metadata": {
        "raw_mimetype": "text/html"
      },
      "source": [
        "<!-- \\begin{aligned} -->"
      ],
      "id": "694802c6-259d-40e8-b538-827385971c07"
    },
    {
      "cell_type": "raw",
      "metadata": {
        "raw_mimetype": "text/html"
      },
      "source": [
        "<!-- &\\hat{E}(\\mathtt{bill\\_length\\_mm}\\mid \\mathtt{body\\_mass\\_g}, \\mathtt{flipper\\_length\\_mm} = 200.92)\\\\ -->"
      ],
      "id": "633fb7d4-e1cc-4a8e-8598-6d6962dbaaec"
    },
    {
      "cell_type": "raw",
      "metadata": {
        "raw_mimetype": "text/html"
      },
      "source": [
        "<!-- &=-3.44+0.0007 \\,\\mathtt{body\\_mass\\_g}+0.22\\cdot 200.92 \\\\ -->"
      ],
      "id": "900c3321-7872-4b18-b489-63827a5d1236"
    },
    {
      "cell_type": "raw",
      "metadata": {
        "raw_mimetype": "text/html"
      },
      "source": [
        "<!-- &=41.14+0.0007 \\,\\mathtt{body\\_mass\\_g} -->"
      ],
      "id": "e322a20c-9c86-450b-a6d4-3d31e53a5c32"
    },
    {
      "cell_type": "raw",
      "metadata": {
        "raw_mimetype": "text/html"
      },
      "source": [
        "<!-- \\end{aligned} -->"
      ],
      "id": "da706d0d-0251-44d2-9d1f-8099ea267936"
    },
    {
      "cell_type": "raw",
      "metadata": {
        "raw_mimetype": "text/html"
      },
      "source": [
        "<!-- $$  -->"
      ],
      "id": "bbf8a6cf-fd3e-4f6c-aefc-0b13cbef1151"
    },
    {
      "cell_type": "raw",
      "metadata": {
        "raw_mimetype": "text/html"
      },
      "source": [
        "<!-- as a function of $\\mathtt{body\\_mass\\_g}$.  -->"
      ],
      "id": "e2d54c0c-59d1-49d4-b02d-07ba761800d5"
    },
    {
      "cell_type": "raw",
      "metadata": {
        "raw_mimetype": "text/html"
      },
      "source": [
        "<!-- Note: we used exact values -->"
      ],
      "id": "50443d36-284f-4c42-b098-fbf79013e368"
    },
    {
      "cell_type": "raw",
      "metadata": {
        "raw_mimetype": "text/html"
      },
      "source": [
        "<!-- in the calculation above. The intercept will be 40.76 instead of 41.14 -->"
      ],
      "id": "c05141d7-d4f5-4986-afba-16c79f6aa829"
    },
    {
      "cell_type": "raw",
      "metadata": {
        "raw_mimetype": "text/html"
      },
      "source": [
        "<!-- if we use the rounded values. Similarly, the effect plot for -->"
      ],
      "id": "5924f5c4-53be-41f3-a4df-eccfa9df13c7"
    },
    {
      "cell_type": "raw",
      "metadata": {
        "raw_mimetype": "text/html"
      },
      "source": [
        "<!-- $\\mathtt{flipper\\_length\\_mm}$ is a plot of $$ -->"
      ],
      "id": "6517086b-48fe-436d-869c-079dbd135513"
    },
    {
      "cell_type": "raw",
      "metadata": {
        "raw_mimetype": "text/html"
      },
      "source": [
        "<!-- \\begin{aligned} -->"
      ],
      "id": "a81cabf0-c8fd-4a47-bb03-1bf4f0a9f499"
    },
    {
      "cell_type": "raw",
      "metadata": {
        "raw_mimetype": "text/html"
      },
      "source": [
        "<!-- &\\hat{E}(\\mathtt{bill\\_length\\_mm}\\mid \\mathtt{body\\_mass\\_g} = 4201.75,\\mathtt{flipper\\_length\\_mm}) \\\\ -->"
      ],
      "id": "a5e811ff-163c-4e29-b763-545de7fe3a92"
    },
    {
      "cell_type": "raw",
      "metadata": {
        "raw_mimetype": "text/html"
      },
      "source": [
        "<!-- &=-3.44+0.0007 \\cdot 4201.75+0.22\\,\\mathtt{flipper\\_length\\_mm} \\\\ -->"
      ],
      "id": "e5a2874b-2d6f-4a49-b924-70a3235892da"
    },
    {
      "cell_type": "raw",
      "metadata": {
        "raw_mimetype": "text/html"
      },
      "source": [
        "<!-- &=-0.65 + 0.22\\,\\mathtt{flipper\\_length\\_mm} -->"
      ],
      "id": "f5906c7d-54be-4af3-8546-6f06f4cdb366"
    },
    {
      "cell_type": "raw",
      "metadata": {
        "raw_mimetype": "text/html"
      },
      "source": [
        "<!-- \\end{aligned} -->"
      ],
      "id": "38be31e9-2c48-45c3-a96a-80523872ebda"
    },
    {
      "cell_type": "raw",
      "metadata": {
        "raw_mimetype": "text/html"
      },
      "source": [
        "<!-- $$ as a function of $\\mathtt{flipper\\_length\\_mm}$. -->"
      ],
      "id": "7814fc02-79ad-4745-ab5b-d9a094162623"
    },
    {
      "cell_type": "raw",
      "metadata": {
        "raw_mimetype": "text/html"
      },
      "source": [
        "<!-- The `effects` R package can be used to generate effect -->"
      ],
      "id": "f7ab385e-883e-4e6b-b631-fae2b410346e"
    },
    {
      "cell_type": "raw",
      "metadata": {
        "raw_mimetype": "text/html"
      },
      "source": [
        "<!-- plots for the predictors of a fitted linear model.  -->"
      ],
      "id": "c3e214c6-6e2f-433d-abce-4032f8939087"
    },
    {
      "cell_type": "raw",
      "metadata": {
        "raw_mimetype": "text/html"
      },
      "source": [
        "<!-- - We use the `effects::predictorEffect` function to compute the information needed to draw the plot.  -->"
      ],
      "id": "afe59952-0f2c-4c5d-aae3-3e2119321b30"
    },
    {
      "cell_type": "raw",
      "metadata": {
        "raw_mimetype": "text/html"
      },
      "source": [
        "<!-- - We use the `plot` function to display the information. -->"
      ],
      "id": "fff6f8e1-d37a-4dee-88fd-5346ef19c53c"
    },
    {
      "cell_type": "raw",
      "metadata": {
        "raw_mimetype": "text/html"
      },
      "source": [
        "<!-- The `predictorEffect` function computes the estimated mean response for -->"
      ],
      "id": "95b0ab4b-e5a0-4dcb-8584-419aa1d2f8e0"
    },
    {
      "cell_type": "raw",
      "metadata": {
        "raw_mimetype": "text/html"
      },
      "source": [
        "<!-- different values of the focal predictor while holding the other -->"
      ],
      "id": "eb3ddd52-1575-4617-acc6-1fc93a90743e"
    },
    {
      "cell_type": "raw",
      "metadata": {
        "raw_mimetype": "text/html"
      },
      "source": [
        "<!-- predictors at their typical values. The main arguments of -->"
      ],
      "id": "0642c391-694f-4fd6-9d2f-2c9ac8621879"
    },
    {
      "cell_type": "raw",
      "metadata": {
        "raw_mimetype": "text/html"
      },
      "source": [
        "<!-- `predictorEffect` are: -->"
      ],
      "id": "06c1bb33-4c27-44a3-a1a3-4f83e52ff6ee"
    },
    {
      "cell_type": "raw",
      "metadata": {
        "raw_mimetype": "text/html"
      },
      "source": [
        "<!-- -   `predictor`: the name of the predictor we want to plot. This is the -->"
      ],
      "id": "ce3ec326-6e17-4930-84cd-e6107ed65404"
    },
    {
      "cell_type": "raw",
      "metadata": {
        "raw_mimetype": "text/html"
      },
      "source": [
        "<!--     \"focal predictor\". -->"
      ],
      "id": "6949e157-3ddd-4508-bb00-eecb03ae4dbd"
    },
    {
      "cell_type": "raw",
      "metadata": {
        "raw_mimetype": "text/html"
      },
      "source": [
        "<!-- -   `mod`: the fitted model. The function works with `lm` objects and many other types of fitted models. -->"
      ],
      "id": "b57e5568-9e9e-4bfd-bd93-38ad483b1092"
    },
    {
      "cell_type": "raw",
      "metadata": {
        "raw_mimetype": "text/html"
      },
      "source": [
        "<!-- We load the **effects** package. -->"
      ],
      "id": "6c282fb2-f25f-413b-8917-7a33af6767ff"
    },
    {
      "cell_type": "raw",
      "metadata": {
        "raw_mimetype": "text/html"
      },
      "source": [
        "<!-- ```{r} -->"
      ],
      "id": "ca133088-bfa4-47f6-b207-c5d09b800298"
    },
    {
      "cell_type": "raw",
      "metadata": {
        "raw_mimetype": "text/html"
      },
      "source": [
        "<!-- library(effects) -->"
      ],
      "id": "5b8bdafb-cb37-4b7a-93d0-9bb4154e08c4"
    },
    {
      "cell_type": "raw",
      "metadata": {
        "raw_mimetype": "text/html"
      },
      "source": [
        "<!-- ``` -->"
      ],
      "id": "23627a37-7da2-4603-a846-25c5bc6b4e0e"
    },
    {
      "cell_type": "raw",
      "metadata": {
        "raw_mimetype": "text/html"
      },
      "source": [
        "<!-- We now draw the effects plot for `body_mass_g`. -->"
      ],
      "id": "b7ba1bea-d47e-4fbf-93f3-7f2a82f8bd1d"
    },
    {
      "cell_type": "raw",
      "metadata": {
        "raw_mimetype": "text/html"
      },
      "source": [
        "<!-- ```{r} -->"
      ],
      "id": "91c22210-48bf-4dd5-8097-4ac04b59ed75"
    },
    {
      "cell_type": "raw",
      "metadata": {
        "raw_mimetype": "text/html"
      },
      "source": [
        "<!-- plot(predictorEffect(\"body_mass_g\", mlmod)) -->"
      ],
      "id": "9587bf84-42ed-4f5d-96e4-d54b95a6ce36"
    },
    {
      "cell_type": "raw",
      "metadata": {
        "raw_mimetype": "text/html"
      },
      "source": [
        "<!-- ``` -->"
      ],
      "id": "cf582da4-7da6-4a0b-965e-1d79cbce0809"
    },
    {
      "cell_type": "raw",
      "metadata": {
        "raw_mimetype": "text/html"
      },
      "source": [
        "<!-- There is a clear positive association between `body_mass_g` and `bill_length_mm` -->"
      ],
      "id": "535ef4ed-1a3c-41ac-baa9-63e174671cd0"
    },
    {
      "cell_type": "raw",
      "metadata": {
        "raw_mimetype": "text/html"
      },
      "source": [
        "<!-- after accounting for the `flipper_length_mm` variable. -->"
      ],
      "id": "c766d47b-2d17-40d6-a80b-a51b412795ad"
    },
    {
      "cell_type": "raw",
      "metadata": {
        "raw_mimetype": "text/html"
      },
      "source": [
        "<!-- The shaded area indicates the 95% confidence interval bands for the estimated mean -->"
      ],
      "id": "5dd32877-7102-4dcc-9a53-f31b17d9451f"
    },
    {
      "cell_type": "raw",
      "metadata": {
        "raw_mimetype": "text/html"
      },
      "source": [
        "<!-- response.  -->"
      ],
      "id": "fecbe710-ca9a-4bbd-9085-2f770b5d1d5f"
    },
    {
      "cell_type": "raw",
      "metadata": {
        "raw_mimetype": "text/html"
      },
      "source": [
        "<!-- We next create an effect plot for `flipper_length_mm` using the code below. -->"
      ],
      "id": "85d44be0-a12e-4b95-b7f6-869edc351cbd"
    },
    {
      "cell_type": "raw",
      "metadata": {
        "raw_mimetype": "text/html"
      },
      "source": [
        "<!-- ```{r} -->"
      ],
      "id": "419dcf42-ae11-4998-a010-a60a325a3fc1"
    },
    {
      "cell_type": "raw",
      "metadata": {
        "raw_mimetype": "text/html"
      },
      "source": [
        "<!-- plot(predictorEffect(\"flipper_length_mm\", mlmod)) -->"
      ],
      "id": "f88c53fc-2dea-4bb5-b112-b2f8253ae454"
    },
    {
      "cell_type": "raw",
      "metadata": {
        "raw_mimetype": "text/html"
      },
      "source": [
        "<!-- ``` -->"
      ],
      "id": "407b8ee4-42a9-43fb-9718-22ce9c7cf549"
    },
    {
      "cell_type": "raw",
      "metadata": {
        "raw_mimetype": "text/html"
      },
      "source": [
        "<!-- There is a clear positive association between `flipper_length_mm` and -->"
      ],
      "id": "44badd12-8850-43a0-a2d6-5208545c5de2"
    },
    {
      "cell_type": "raw",
      "metadata": {
        "raw_mimetype": "text/html"
      },
      "source": [
        "<!-- `bill_length_mm` after accounting for `body_mass_g`. -->"
      ],
      "id": "c819350a-391e-4fb1-86e7-8501f697c769"
    },
    {
      "cell_type": "raw",
      "metadata": {
        "raw_mimetype": "text/html"
      },
      "source": [
        "<!-- Alternatively, we could use `effects::allEffects` to compute the -->"
      ],
      "id": "45fbaf55-03d5-4d8d-aef9-9d719bc5c689"
    },
    {
      "cell_type": "raw",
      "metadata": {
        "raw_mimetype": "text/html"
      },
      "source": [
        "<!-- necessary effect plot information for all predictors simultaneously, but it is harder to control figure sizing. -->"
      ],
      "id": "eaebb092-0b2c-43b0-8e8c-b7d5d87d0e24"
    },
    {
      "cell_type": "raw",
      "metadata": {
        "raw_mimetype": "text/html"
      },
      "source": [
        "<!-- ```{r} -->"
      ],
      "id": "6c06d371-497e-4842-9829-147a88d33f3b"
    },
    {
      "cell_type": "raw",
      "metadata": {
        "raw_mimetype": "text/html"
      },
      "source": [
        "<!-- plot(allEffects(mlmod)) -->"
      ],
      "id": "968274c9-9fd0-410b-8eec-5f6235e05801"
    },
    {
      "cell_type": "raw",
      "metadata": {
        "raw_mimetype": "text/html"
      },
      "source": [
        "<!-- ``` -->"
      ],
      "id": "e6b9733d-634c-4f19-afbb-237ec8c57d58"
    },
    {
      "cell_type": "raw",
      "metadata": {
        "raw_mimetype": "text/html"
      },
      "source": [
        "<!-- # Interpretation for categorical predictors -->"
      ],
      "id": "a067deae-4fb2-45b6-8973-5a6aa0c00ed1"
    },
    {
      "cell_type": "raw",
      "metadata": {
        "raw_mimetype": "text/html"
      },
      "source": [
        "<!-- **Coefficient interpretation for parallel lines models** -->"
      ],
      "id": "7e72ee60-ff33-4ce5-a1f5-3bebb96f1999"
    },
    {
      "cell_type": "raw",
      "metadata": {
        "raw_mimetype": "text/html"
      },
      "source": [
        "<!-- --- -->"
      ],
      "id": "65d09633-be1d-42fc-a34c-1d818c7255a5"
    },
    {
      "cell_type": "raw",
      "metadata": {
        "raw_mimetype": "text/html"
      },
      "source": [
        "<!-- Consider a parallel lines model with numeric regressor $X$ and -->"
      ],
      "id": "2653fbbd-20ac-4bcc-91a8-a59962490a49"
    },
    {
      "cell_type": "raw",
      "metadata": {
        "raw_mimetype": "text/html"
      },
      "source": [
        "<!-- categorical predictor $C$ with levels $L_1$, $L_2$, and $L_3$. Predictor $C$ -->"
      ],
      "id": "0d92b913-1d43-4438-ac19-ca0950d57790"
    },
    {
      "cell_type": "raw",
      "metadata": {
        "raw_mimetype": "text/html"
      },
      "source": [
        "<!-- must be transformed into two indicator variables, $D_2$ and $D_3$, for -->"
      ],
      "id": "5740ad19-5aa6-4be8-9ded-a93330a478e1"
    },
    {
      "cell_type": "raw",
      "metadata": {
        "raw_mimetype": "text/html"
      },
      "source": [
        "<!-- category levels $L_2$ and $L_3$, to be included in our linear model. -->"
      ],
      "id": "bcae70fd-0c47-495d-9a37-b40b32699622"
    },
    {
      "cell_type": "raw",
      "metadata": {
        "raw_mimetype": "text/html"
      },
      "source": [
        "<!-- $L_1$ is the reference level. The parallel lines model is formulated as -->"
      ],
      "id": "9f190fd8-3d57-4b26-8329-c2377b4ef8d2"
    },
    {
      "cell_type": "raw",
      "metadata": {
        "raw_mimetype": "text/html"
      },
      "source": [
        "<!-- $$ -->"
      ],
      "id": "f7ff4039-70ca-4024-874c-10d600ab8a0e"
    },
    {
      "cell_type": "raw",
      "metadata": {
        "raw_mimetype": "text/html"
      },
      "source": [
        "<!-- E(Y \\mid X, C) = \\beta_{int} + \\beta_{X} X + \\beta_{L_2} D_2 +  \\beta_{L_3} D_3 -->"
      ],
      "id": "7716e621-efd4-443d-8780-8ae7fbed1968"
    },
    {
      "cell_type": "raw",
      "metadata": {
        "raw_mimetype": "text/html"
      },
      "source": [
        "<!-- $$  -->"
      ],
      "id": "9d1ee9e4-fc51-483e-b98b-824554c689d6"
    },
    {
      "cell_type": "raw",
      "metadata": {
        "raw_mimetype": "text/html"
      },
      "source": [
        "<!-- We replaced the usual $\\beta_0$, $\\beta_1$, $\\beta_2$, and -->"
      ],
      "id": "3c448c21-9f9d-455f-ac64-7b5d28b3d5e5"
    },
    {
      "cell_type": "raw",
      "metadata": {
        "raw_mimetype": "text/html"
      },
      "source": [
        "<!-- $\\beta_3$ with notation the indicates the regressor each coefficient is -->"
      ],
      "id": "915ecfcb-9f56-4146-88e4-c1e59e570d32"
    },
    {
      "cell_type": "raw",
      "metadata": {
        "raw_mimetype": "text/html"
      },
      "source": [
        "<!-- associated with. -->"
      ],
      "id": "f2daf1a6-bade-46ba-82c0-4a6f99bd76b9"
    },
    {
      "cell_type": "raw",
      "metadata": {
        "raw_mimetype": "text/html"
      },
      "source": [
        "<!-- When an observation has level $L_1$ and $X=0$, then the expected -->"
      ],
      "id": "fa6e75a9-f3b3-4360-adf9-9279c95420b6"
    },
    {
      "cell_type": "raw",
      "metadata": {
        "raw_mimetype": "text/html"
      },
      "source": [
        "<!-- response is  -->"
      ],
      "id": "6ba6a530-3730-4ca1-ae1a-fafe21988e9c"
    },
    {
      "cell_type": "raw",
      "metadata": {
        "raw_mimetype": "text/html"
      },
      "source": [
        "<!-- ::: {.content-visible unless-format=\"pdf\"} -->"
      ],
      "id": "b7d761ea-2985-4e27-812b-855f4ae499fe"
    },
    {
      "cell_type": "raw",
      "metadata": {
        "raw_mimetype": "text/html"
      },
      "source": [
        "<!-- </br>   -->"
      ],
      "id": "07158419-20c4-4d58-8d7a-e266a781125c"
    },
    {
      "cell_type": "raw",
      "metadata": {
        "raw_mimetype": "text/html"
      },
      "source": [
        "<!-- </br>   -->"
      ],
      "id": "76be5d7b-0342-4dee-ad50-c293fb95ef95"
    },
    {
      "cell_type": "raw",
      "metadata": {
        "raw_mimetype": "text/html"
      },
      "source": [
        "<!-- </br>   -->"
      ],
      "id": "377a846c-6265-4cd7-a781-75d8a7898390"
    },
    {
      "cell_type": "raw",
      "metadata": {
        "raw_mimetype": "text/html"
      },
      "source": [
        "<!-- </br>   -->"
      ],
      "id": "fa3ed08d-d22f-46d4-8387-2af96e769203"
    },
    {
      "cell_type": "raw",
      "metadata": {
        "raw_mimetype": "text/html"
      },
      "source": [
        "<!-- </br>   -->"
      ],
      "id": "2e817757-9f41-44b8-ac41-51d807b7e015"
    },
    {
      "cell_type": "raw",
      "metadata": {
        "raw_mimetype": "text/html"
      },
      "source": [
        "<!-- </br>   -->"
      ],
      "id": "ff94fcad-eeb7-4a3b-8e59-d6a3ee3749ec"
    },
    {
      "cell_type": "raw",
      "metadata": {
        "raw_mimetype": "text/html"
      },
      "source": [
        "<!-- </br>   -->"
      ],
      "id": "6c7f26ee-0f25-4a62-8147-ea145811f1b4"
    },
    {
      "cell_type": "raw",
      "metadata": {
        "raw_mimetype": "text/html"
      },
      "source": [
        "<!-- ::: -->"
      ],
      "id": "10ac8209-8540-45ae-9342-1c71ccdf0e45"
    },
    {
      "cell_type": "raw",
      "metadata": {
        "raw_mimetype": "text/html"
      },
      "source": [
        "<!-- ::: {.content-hidden unless-format=\"pdf\"} -->"
      ],
      "id": "38da791a-28ae-410a-a01f-514a41a8466b"
    },
    {
      "cell_type": "raw",
      "metadata": {
        "raw_mimetype": "text/html"
      },
      "source": [
        "<!-- $$ -->"
      ],
      "id": "264196d6-ac1a-4597-8f53-1ed2e449edd4"
    },
    {
      "cell_type": "raw",
      "metadata": {
        "raw_mimetype": "text/html"
      },
      "source": [
        "<!-- \\begin{aligned} -->"
      ],
      "id": "3de718fb-0c8f-4d5f-b9dd-75cdaa4013b8"
    },
    {
      "cell_type": "raw",
      "metadata": {
        "raw_mimetype": "text/html"
      },
      "source": [
        "<!-- E(Y|X = 0, C=L_1) &= \\beta_{int} + \\beta_X \\cdot 0 + \\beta_{L_2} \\cdot 0 + \\beta_{L_3} \\cdot 0 \\\\ -->"
      ],
      "id": "cffe6963-46d5-4fcf-b244-2926d7e4f034"
    },
    {
      "cell_type": "raw",
      "metadata": {
        "raw_mimetype": "text/html"
      },
      "source": [
        "<!-- &= \\beta_{int}. -->"
      ],
      "id": "4048ec4d-4e84-4529-bbef-67fa5a38bf3c"
    },
    {
      "cell_type": "raw",
      "metadata": {
        "raw_mimetype": "text/html"
      },
      "source": [
        "<!-- \\end{aligned} -->"
      ],
      "id": "f3697538-9da6-4161-a604-85f830029099"
    },
    {
      "cell_type": "raw",
      "metadata": {
        "raw_mimetype": "text/html"
      },
      "source": [
        "<!-- $$  -->"
      ],
      "id": "0171b247-51ab-43f0-bd62-7b13980d7f3f"
    },
    {
      "cell_type": "raw",
      "metadata": {
        "raw_mimetype": "text/html"
      },
      "source": [
        "<!-- ::: -->"
      ],
      "id": "5336e2b3-d9b2-41c8-805e-7d652df4f73b"
    },
    {
      "cell_type": "raw",
      "metadata": {
        "raw_mimetype": "text/html"
      },
      "source": [
        "<!-- Thus, $\\beta_{int}$ is the expected response for an observation with -->"
      ],
      "id": "b9c75bdf-5dd8-4680-ad3f-5aecf71a0db8"
    },
    {
      "cell_type": "raw",
      "metadata": {
        "raw_mimetype": "text/html"
      },
      "source": [
        "<!-- level $L_1$ when $X=0$. -->"
      ],
      "id": "4e6fa6ba-c9b8-404e-99b1-2fcc2f272d3d"
    },
    {
      "cell_type": "raw",
      "metadata": {
        "raw_mimetype": "text/html"
      },
      "source": [
        "<!-- When an observation has a fixed level $L_j$ and $X$ increases from $x^*$ to $x^*+1$, then the change in the expected response is  -->"
      ],
      "id": "35a58596-5763-4499-bc3e-18da88ed1eaf"
    },
    {
      "cell_type": "raw",
      "metadata": {
        "raw_mimetype": "text/html"
      },
      "source": [
        "<!-- ::: {.content-visible unless-format=\"pdf\"} -->"
      ],
      "id": "cfca8b14-73a0-4bdf-bedf-e78abab4ab1a"
    },
    {
      "cell_type": "raw",
      "metadata": {
        "raw_mimetype": "text/html"
      },
      "source": [
        "<!-- </br>   -->"
      ],
      "id": "6de85a24-772e-43e9-add5-83ed7f206ccf"
    },
    {
      "cell_type": "raw",
      "metadata": {
        "raw_mimetype": "text/html"
      },
      "source": [
        "<!-- </br>   -->"
      ],
      "id": "38dd3744-d716-4b55-a861-c7bb9e175423"
    },
    {
      "cell_type": "raw",
      "metadata": {
        "raw_mimetype": "text/html"
      },
      "source": [
        "<!-- </br>   -->"
      ],
      "id": "c14c1715-3986-4dbd-927d-d7c471bdcb17"
    },
    {
      "cell_type": "raw",
      "metadata": {
        "raw_mimetype": "text/html"
      },
      "source": [
        "<!-- </br>   -->"
      ],
      "id": "c7c6103e-ec24-4853-ba69-39a2a380cc66"
    },
    {
      "cell_type": "raw",
      "metadata": {
        "raw_mimetype": "text/html"
      },
      "source": [
        "<!-- </br>   -->"
      ],
      "id": "1ab1e087-8195-4001-abc0-cf7fe95fd7ca"
    },
    {
      "cell_type": "raw",
      "metadata": {
        "raw_mimetype": "text/html"
      },
      "source": [
        "<!-- </br>   -->"
      ],
      "id": "bc6940a7-4085-4976-9dbc-d7cb3f3c1412"
    },
    {
      "cell_type": "raw",
      "metadata": {
        "raw_mimetype": "text/html"
      },
      "source": [
        "<!-- </br>   -->"
      ],
      "id": "5f1814b0-2564-4fd0-ae61-8d6ba44f7fd5"
    },
    {
      "cell_type": "raw",
      "metadata": {
        "raw_mimetype": "text/html"
      },
      "source": [
        "<!-- ::: -->"
      ],
      "id": "0e42590d-6127-4e1f-bde5-88c302f93599"
    },
    {
      "cell_type": "raw",
      "metadata": {
        "raw_mimetype": "text/html"
      },
      "source": [
        "<!-- ::: {.content-hidden unless-format=\"pdf\"} -->"
      ],
      "id": "5ae961e8-b49a-4f06-93b7-80aa4aa28042"
    },
    {
      "cell_type": "raw",
      "metadata": {
        "raw_mimetype": "text/html"
      },
      "source": [
        "<!-- $$ -->"
      ],
      "id": "183a4977-15ef-4c6e-a75d-733e7d4703ff"
    },
    {
      "cell_type": "raw",
      "metadata": {
        "raw_mimetype": "text/html"
      },
      "source": [
        "<!-- E(Y|X = x^* + 1, C=L_j) - E(Y|X = x^*, C=L_j)= \\beta_X. -->"
      ],
      "id": "55bdab05-23ab-466f-88a4-6f2afd725d3e"
    },
    {
      "cell_type": "raw",
      "metadata": {
        "raw_mimetype": "text/html"
      },
      "source": [
        "<!-- $$  -->"
      ],
      "id": "7b148ca5-224b-4594-aacb-287950e02ee7"
    },
    {
      "cell_type": "raw",
      "metadata": {
        "raw_mimetype": "text/html"
      },
      "source": [
        "<!-- ::: -->"
      ],
      "id": "aaead0b6-50a5-4d15-9e55-ff7ce21ee013"
    },
    {
      "cell_type": "raw",
      "metadata": {
        "raw_mimetype": "text/html"
      },
      "source": [
        "<!-- Thus, $\\beta_X$ is the expected change in the response for an -->"
      ],
      "id": "0954be66-63df-4fd9-8ca0-11968251ec3f"
    },
    {
      "cell_type": "raw",
      "metadata": {
        "raw_mimetype": "text/html"
      },
      "source": [
        "<!-- observation with fixed level $L_j$ when $X$ increases by 1 unit. -->"
      ],
      "id": "24a36dc7-95f0-4610-9f51-52007cef104b"
    },
    {
      "cell_type": "raw",
      "metadata": {
        "raw_mimetype": "text/html"
      },
      "source": [
        "<!-- When an observation has level $L_2$, the expected response is  -->"
      ],
      "id": "8e8d9f3b-089b-4980-a3ae-251f49ac6731"
    },
    {
      "cell_type": "raw",
      "metadata": {
        "raw_mimetype": "text/html"
      },
      "source": [
        "<!-- ::: {.content-visible unless-format=\"pdf\"} -->"
      ],
      "id": "367185b8-673d-4604-bb37-364d9caab24c"
    },
    {
      "cell_type": "raw",
      "metadata": {
        "raw_mimetype": "text/html"
      },
      "source": [
        "<!-- </br>   -->"
      ],
      "id": "eccdb288-179d-4c87-9c26-5402e5943e1a"
    },
    {
      "cell_type": "raw",
      "metadata": {
        "raw_mimetype": "text/html"
      },
      "source": [
        "<!-- </br>   -->"
      ],
      "id": "776074be-ee9a-4a70-9f76-0aa3cf796167"
    },
    {
      "cell_type": "raw",
      "metadata": {
        "raw_mimetype": "text/html"
      },
      "source": [
        "<!-- </br>   -->"
      ],
      "id": "db68b9ba-4b38-4533-acf5-ac41db078538"
    },
    {
      "cell_type": "raw",
      "metadata": {
        "raw_mimetype": "text/html"
      },
      "source": [
        "<!-- </br>   -->"
      ],
      "id": "8db111c3-8a25-47bc-8b0f-411f7dc05363"
    },
    {
      "cell_type": "raw",
      "metadata": {
        "raw_mimetype": "text/html"
      },
      "source": [
        "<!-- </br>   -->"
      ],
      "id": "44c2d15d-dcd3-4b05-9376-acc6f6200d4d"
    },
    {
      "cell_type": "raw",
      "metadata": {
        "raw_mimetype": "text/html"
      },
      "source": [
        "<!-- </br>   -->"
      ],
      "id": "6ef34b81-9c6f-42e9-a884-8eb0b0f57ba5"
    },
    {
      "cell_type": "raw",
      "metadata": {
        "raw_mimetype": "text/html"
      },
      "source": [
        "<!-- </br>   -->"
      ],
      "id": "de5b54bf-48fd-4d7c-83e6-0e20a744c884"
    },
    {
      "cell_type": "raw",
      "metadata": {
        "raw_mimetype": "text/html"
      },
      "source": [
        "<!-- </br>   -->"
      ],
      "id": "0b239013-ba25-4301-ba96-0a5c59840cc3"
    },
    {
      "cell_type": "raw",
      "metadata": {
        "raw_mimetype": "text/html"
      },
      "source": [
        "<!-- </br>   -->"
      ],
      "id": "e338ba36-f98f-44fe-81e5-d864d2055671"
    },
    {
      "cell_type": "raw",
      "metadata": {
        "raw_mimetype": "text/html"
      },
      "source": [
        "<!-- </br>   -->"
      ],
      "id": "a32fd07a-3120-460c-b4a9-f50ecc90bbac"
    },
    {
      "cell_type": "raw",
      "metadata": {
        "raw_mimetype": "text/html"
      },
      "source": [
        "<!-- ::: -->"
      ],
      "id": "f05a5a75-1590-4b67-a873-2bfb92772b53"
    },
    {
      "cell_type": "raw",
      "metadata": {
        "raw_mimetype": "text/html"
      },
      "source": [
        "<!-- ::: {.content-hidden unless-format=\"pdf\"} -->"
      ],
      "id": "ad5fb194-6d8a-47b1-b219-02991dd02969"
    },
    {
      "cell_type": "raw",
      "metadata": {
        "raw_mimetype": "text/html"
      },
      "source": [
        "<!-- $$ -->"
      ],
      "id": "84a534a5-eb07-4703-8df7-511e16ecc598"
    },
    {
      "cell_type": "raw",
      "metadata": {
        "raw_mimetype": "text/html"
      },
      "source": [
        "<!-- \\begin{aligned} -->"
      ],
      "id": "5416d4fc-8da0-47d9-aba0-37b89e178c67"
    },
    {
      "cell_type": "raw",
      "metadata": {
        "raw_mimetype": "text/html"
      },
      "source": [
        "<!-- E(Y\\mid X = x^*, C=L_2) &= \\beta_{int} + \\beta_X x^* + \\beta_{L_2} \\cdot 1 + \\beta_{L_3} \\cdot 0 \\\\ -->"
      ],
      "id": "824c83c0-2ded-4661-9431-14a0a91e941e"
    },
    {
      "cell_type": "raw",
      "metadata": {
        "raw_mimetype": "text/html"
      },
      "source": [
        "<!-- &= \\beta_{int} + \\beta_X x^* + \\beta_{L_2}. -->"
      ],
      "id": "0111b65e-bcd2-4479-b205-9cc680baaa3f"
    },
    {
      "cell_type": "raw",
      "metadata": {
        "raw_mimetype": "text/html"
      },
      "source": [
        "<!-- \\end{aligned} -->"
      ],
      "id": "69bd9b4f-9560-4916-830a-68a04948d0ee"
    },
    {
      "cell_type": "raw",
      "metadata": {
        "raw_mimetype": "text/html"
      },
      "source": [
        "<!-- $$  -->"
      ],
      "id": "90beac6c-7725-490a-b9b8-749ef5ad9f21"
    },
    {
      "cell_type": "raw",
      "metadata": {
        "raw_mimetype": "text/html"
      },
      "source": [
        "<!-- Thus,  -->"
      ],
      "id": "f76b8c9f-835f-453d-b175-ae6d2fb11a77"
    },
    {
      "cell_type": "raw",
      "metadata": {
        "raw_mimetype": "text/html"
      },
      "source": [
        "<!-- $$ -->"
      ],
      "id": "477e1de5-5209-4892-9c91-305854f04ef9"
    },
    {
      "cell_type": "raw",
      "metadata": {
        "raw_mimetype": "text/html"
      },
      "source": [
        "<!-- \\begin{aligned} -->"
      ],
      "id": "e9e9694f-c85c-4990-b7e2-305b334ddc0c"
    },
    {
      "cell_type": "raw",
      "metadata": {
        "raw_mimetype": "text/html"
      },
      "source": [
        "<!-- & E(Y\\mid X=x^*, C=L_2) - E(Y\\mid X=x^*, C=L_1) \\\\ -->"
      ],
      "id": "85012dd4-2ed2-491a-b14f-32ace4b1d1b0"
    },
    {
      "cell_type": "raw",
      "metadata": {
        "raw_mimetype": "text/html"
      },
      "source": [
        "<!-- &= (\\beta_{int} + \\beta_X x^* + \\beta_{L_2}) - (\\beta_{int} + \\beta_X x^*) \\\\ -->"
      ],
      "id": "2005c509-41d0-4b56-9d39-95cdfac57f0d"
    },
    {
      "cell_type": "raw",
      "metadata": {
        "raw_mimetype": "text/html"
      },
      "source": [
        "<!-- &=  \\beta_{L_2}. -->"
      ],
      "id": "9c803d72-834f-4d6e-a90b-cf5d2d7c51bc"
    },
    {
      "cell_type": "raw",
      "metadata": {
        "raw_mimetype": "text/html"
      },
      "source": [
        "<!-- \\end{aligned} -->"
      ],
      "id": "c7e0a314-059d-4815-93f2-4ffa3a02925a"
    },
    {
      "cell_type": "raw",
      "metadata": {
        "raw_mimetype": "text/html"
      },
      "source": [
        "<!-- $$  -->"
      ],
      "id": "44322bda-e49e-4519-aede-365a93729b11"
    },
    {
      "cell_type": "raw",
      "metadata": {
        "raw_mimetype": "text/html"
      },
      "source": [
        "<!-- ::: -->"
      ],
      "id": "b337c3c8-b680-478d-abd1-b21db0020b1b"
    },
    {
      "cell_type": "raw",
      "metadata": {
        "raw_mimetype": "text/html"
      },
      "source": [
        "<!-- Thus, $\\beta_{L_2}$ is the expected change in the response for a -->"
      ],
      "id": "623a721e-e07b-47b0-b1b6-6847298ca5cd"
    },
    {
      "cell_type": "raw",
      "metadata": {
        "raw_mimetype": "text/html"
      },
      "source": [
        "<!-- fixed value of $X$ when comparing on observation having level $L_1$ to -->"
      ],
      "id": "a7ee3e29-d399-436d-a158-29594e343f5d"
    },
    {
      "cell_type": "raw",
      "metadata": {
        "raw_mimetype": "text/html"
      },
      "source": [
        "<!-- level $L_2$ of predictor $C$. More specifically, $\\beta_{L_2}$ indicates -->"
      ],
      "id": "c25a5fcb-2fdd-4ad9-a6fe-58974af5f444"
    },
    {
      "cell_type": "raw",
      "metadata": {
        "raw_mimetype": "text/html"
      },
      "source": [
        "<!-- the distance between the estimated regression lines for observations -->"
      ],
      "id": "2dde7b91-2c80-4fbd-8dda-926e07586bf4"
    },
    {
      "cell_type": "raw",
      "metadata": {
        "raw_mimetype": "text/html"
      },
      "source": [
        "<!-- having levels $L_1$ and $L_2$.  -->"
      ],
      "id": "cc5aca38-8a37-4d41-abaa-f96503e73092"
    },
    {
      "cell_type": "raw",
      "metadata": {
        "raw_mimetype": "text/html"
      },
      "source": [
        "<!-- To summarize, assuming categorical predictor $C$ has $K$ levels instead of 3: -->"
      ],
      "id": "b5388340-1856-47fc-bd97-409b04fdfc71"
    },
    {
      "cell_type": "raw",
      "metadata": {
        "raw_mimetype": "text/html"
      },
      "source": [
        "<!-- -   $\\beta_{int}$ represents the expected response for observations -->"
      ],
      "id": "dd2de77d-37f5-4496-9321-96e857c7821a"
    },
    {
      "cell_type": "raw",
      "metadata": {
        "raw_mimetype": "text/html"
      },
      "source": [
        "<!--     having the reference level when the numeric regressor $X = 0$. -->"
      ],
      "id": "b13895d5-57c7-4c8e-8fc9-cbdcabe58365"
    },
    {
      "cell_type": "raw",
      "metadata": {
        "raw_mimetype": "text/html"
      },
      "source": [
        "<!-- -   $\\beta_X$ is the expected change in the response when $X$ increases -->"
      ],
      "id": "904879e4-2923-41ab-9720-3df1d2c121fb"
    },
    {
      "cell_type": "raw",
      "metadata": {
        "raw_mimetype": "text/html"
      },
      "source": [
        "<!--     by 1 unit for a fixed level of $C$. -->"
      ],
      "id": "580740c3-2d29-40fa-8764-e3d95126a35b"
    },
    {
      "cell_type": "raw",
      "metadata": {
        "raw_mimetype": "text/html"
      },
      "source": [
        "<!-- -   $\\beta_{L_j}$, for $j=2,\\ldots,K$, represents the expected change in -->"
      ],
      "id": "efcbf6eb-f017-4ffd-920a-6f215bf4ff0f"
    },
    {
      "cell_type": "raw",
      "metadata": {
        "raw_mimetype": "text/html"
      },
      "source": [
        "<!--     the response when comparing observations having level $L_1$ and -->"
      ],
      "id": "09fc0779-46bd-48af-9453-5caae7138ef7"
    },
    {
      "cell_type": "raw",
      "metadata": {
        "raw_mimetype": "text/html"
      },
      "source": [
        "<!--     $L_j$ with $X$ fixed at the same value. -->"
      ],
      "id": "a6c76b53-bbfa-4895-97e8-0fe321e14b98"
    },
    {
      "cell_type": "raw",
      "metadata": {
        "raw_mimetype": "text/html"
      },
      "source": [
        "<!-- We previously fit a parallel lines model to the `penguins` data that used both `body_mass_g` and `species` to explain the behavior of `bill_length_mm`. Letting $D_C$ denote the indicator variable for the `Chinstrap` level and $D_G$ denote the indicator variable for the `Gentoo` level, the fitted parallel lines model was  -->"
      ],
      "id": "7bc0a091-6551-4141-819c-eb65c711ff00"
    },
    {
      "cell_type": "raw",
      "metadata": {
        "raw_mimetype": "text/html"
      },
      "source": [
        "<!-- $$ -->"
      ],
      "id": "161edd54-c1d4-46c6-9f98-5625badc8809"
    },
    {
      "cell_type": "raw",
      "metadata": {
        "raw_mimetype": "text/html"
      },
      "source": [
        "<!-- \\begin{aligned} -->"
      ],
      "id": "3648f8a7-0803-4cc4-b0ae-76af11309739"
    },
    {
      "cell_type": "raw",
      "metadata": {
        "raw_mimetype": "text/html"
      },
      "source": [
        "<!-- &\\hat{E}(\\mathtt{bill\\_length\\_mm} \\mid \\mathtt{body\\_mass\\_g}, \\mathtt{species})\\\\ -->"
      ],
      "id": "2b74305d-e9ed-4fb5-8b9b-d35a2ee23379"
    },
    {
      "cell_type": "raw",
      "metadata": {
        "raw_mimetype": "text/html"
      },
      "source": [
        "<!-- &= 24.92 + 0.004 \\mathtt{body\\_mass\\_g} + 9.92 D_C + 3.56 D_G. -->"
      ],
      "id": "47b9f65e-2496-431f-9d27-41ba1007ea76"
    },
    {
      "cell_type": "raw",
      "metadata": {
        "raw_mimetype": "text/html"
      },
      "source": [
        "<!-- \\end{aligned} -->"
      ],
      "id": "7f440da1-a653-4b77-a192-0fbb3b927e55"
    },
    {
      "cell_type": "raw",
      "metadata": {
        "raw_mimetype": "text/html"
      },
      "source": [
        "<!-- $$  -->"
      ],
      "id": "90d50c10-b3d1-4201-902a-1e1d163c5820"
    },
    {
      "cell_type": "raw",
      "metadata": {
        "raw_mimetype": "text/html"
      },
      "source": [
        "<!-- In the context of this model: -->"
      ],
      "id": "c9855b60-922a-4595-bb8e-2ab9840bf4a0"
    },
    {
      "cell_type": "raw",
      "metadata": {
        "raw_mimetype": "text/html"
      },
      "source": [
        "<!-- -   The expected bill length for an Adelie penguin with a body mass of 0 -->"
      ],
      "id": "93406fdd-2e5a-44bf-b740-66f0b806a607"
    },
    {
      "cell_type": "raw",
      "metadata": {
        "raw_mimetype": "text/html"
      },
      "source": [
        "<!--     grams is 24.92 mm. -->"
      ],
      "id": "695a5c80-0d7c-4940-b50e-e822b9c08567"
    },
    {
      "cell_type": "raw",
      "metadata": {
        "raw_mimetype": "text/html"
      },
      "source": [
        "<!-- -   If two penguins are of the same species, but one penguin has a body -->"
      ],
      "id": "b5643823-867c-49dd-9af9-cb7c28f4027e"
    },
    {
      "cell_type": "raw",
      "metadata": {
        "raw_mimetype": "text/html"
      },
      "source": [
        "<!--     mass 1 gram larger, then the larger penguin is expected to have a -->"
      ],
      "id": "2ec70ad7-31fe-4e10-a463-30c1fcc2c54a"
    },
    {
      "cell_type": "raw",
      "metadata": {
        "raw_mimetype": "text/html"
      },
      "source": [
        "<!--     bill length 0.004 mm longer than the smaller penguin. -->"
      ],
      "id": "993c4ac2-6d02-4dc6-aa4b-2c344431ae7c"
    },
    {
      "cell_type": "raw",
      "metadata": {
        "raw_mimetype": "text/html"
      },
      "source": [
        "<!-- -   A Chinstrap penguin is expected to have a bill length 9.92 mm longer -->"
      ],
      "id": "fafeec07-216d-4f14-b4d7-e1c8fd76dc2b"
    },
    {
      "cell_type": "raw",
      "metadata": {
        "raw_mimetype": "text/html"
      },
      "source": [
        "<!--     than an Adelie penguin, assuming their body mass is the same. -->"
      ],
      "id": "f17df5af-97e6-4b99-91f0-69efe61968cc"
    },
    {
      "cell_type": "raw",
      "metadata": {
        "raw_mimetype": "text/html"
      },
      "source": [
        "<!-- -   A Gentoo penguin is expected to have a bill length 3.56 mm longer -->"
      ],
      "id": "a43da60e-a510-4e05-bd00-f2951ce3f191"
    },
    {
      "cell_type": "raw",
      "metadata": {
        "raw_mimetype": "text/html"
      },
      "source": [
        "<!--     than an Adelie penguin, assuming their body mass is the same. -->"
      ],
      "id": "803e9229-f312-47d3-8c50-cf5f93ea25c8"
    },
    {
      "cell_type": "raw",
      "metadata": {
        "raw_mimetype": "text/html"
      },
      "source": [
        "<!-- **Effect plots for fitted models with non-interacting categorical predictors** -->"
      ],
      "id": "42654051-01ed-4ed0-94f4-1eff76e9119d"
    },
    {
      "cell_type": "raw",
      "metadata": {
        "raw_mimetype": "text/html"
      },
      "source": [
        "<!-- --- -->"
      ],
      "id": "84011f75-adfa-4879-9cc3-beac8af07382"
    },
    {
      "cell_type": "raw",
      "metadata": {
        "raw_mimetype": "text/html"
      },
      "source": [
        "<!-- How do we create an effect plot for a numeric focal predictor when a -->"
      ],
      "id": "66c477f9-73cd-45ee-948f-7b5f045ae9c9"
    },
    {
      "cell_type": "raw",
      "metadata": {
        "raw_mimetype": "text/html"
      },
      "source": [
        "<!-- non-interacting categorical predictor is in the model (such as for the -->"
      ],
      "id": "c3aacc87-6fbf-4b88-a11d-b58e6f8b2ca3"
    },
    {
      "cell_type": "raw",
      "metadata": {
        "raw_mimetype": "text/html"
      },
      "source": [
        "<!-- parallel lines model we have been discussing)?  -->"
      ],
      "id": "b9869c76-1acd-4a6e-8a07-1960d50df0f1"
    },
    {
      "cell_type": "raw",
      "metadata": {
        "raw_mimetype": "text/html"
      },
      "source": [
        "<!-- - First, determine the fitted model as a function of the focal predictor for each level of the categorical predictor.  -->"
      ],
      "id": "cfea6172-185c-4495-9872-1b21de60c89d"
    },
    {
      "cell_type": "raw",
      "metadata": {
        "raw_mimetype": "text/html"
      },
      "source": [
        "<!-- - Then, we compute the weighted average of the equation with the weights being proportional to the number of observations in each group. -->"
      ],
      "id": "3ffa3256-7f80-4161-bf5f-5128b83a0aeb"
    },
    {
      "cell_type": "raw",
      "metadata": {
        "raw_mimetype": "text/html"
      },
      "source": [
        "<!-- Let's construct an effect plot for the `body_mass_g` predictor in the -->"
      ],
      "id": "b2c0d9d9-6a2b-4a9f-95e7-c509035ab626"
    },
    {
      "cell_type": "raw",
      "metadata": {
        "raw_mimetype": "text/html"
      },
      "source": [
        "<!-- context of the `penguins` parallel lines model discussed in the previous -->"
      ],
      "id": "c76239cc-ade2-4da6-a93b-db0a3db84675"
    },
    {
      "cell_type": "raw",
      "metadata": {
        "raw_mimetype": "text/html"
      },
      "source": [
        "<!-- section. We previously determined that the fitted parallel lines model simplified to: -->"
      ],
      "id": "294d3b7c-837a-4781-a058-1626c46300b6"
    },
    {
      "cell_type": "raw",
      "metadata": {
        "raw_mimetype": "text/html"
      },
      "source": [
        "<!-- $$ -->"
      ],
      "id": "411edb4e-e0e1-4e9f-85ed-a479bf8b227b"
    },
    {
      "cell_type": "raw",
      "metadata": {
        "raw_mimetype": "text/html"
      },
      "source": [
        "<!-- \\begin{aligned} -->"
      ],
      "id": "f01b8d14-6b0e-44e1-8efb-f68f62609eba"
    },
    {
      "cell_type": "raw",
      "metadata": {
        "raw_mimetype": "text/html"
      },
      "source": [
        "<!-- &\\hat{E}(\\mathtt{bill\\_length\\_mm} \\mid \\mathtt{body\\_mass\\_g}, \\mathtt{species}=\\mathtt{Adelie}) \\\\ -->"
      ],
      "id": "272b085f-6c8c-47a0-8c08-39774441d16e"
    },
    {
      "cell_type": "raw",
      "metadata": {
        "raw_mimetype": "text/html"
      },
      "source": [
        "<!-- &= 24.92 + 0.004 \\mathtt{body\\_mass\\_g} \\\\ -->"
      ],
      "id": "8aa70aca-8fe6-4aa6-8c92-86e73d81a1e9"
    },
    {
      "cell_type": "raw",
      "metadata": {
        "raw_mimetype": "text/html"
      },
      "source": [
        "<!-- &\\hat{E}(\\mathtt{bill\\_length\\_mm} \\mid \\mathtt{body\\_mass\\_g}, \\mathtt{species}=\\mathtt{Chinstrap}) \\\\ -->"
      ],
      "id": "cb3628fd-0d2e-4268-9d6c-c558015c8fa5"
    },
    {
      "cell_type": "raw",
      "metadata": {
        "raw_mimetype": "text/html"
      },
      "source": [
        "<!-- &= 34.84 + 0.004 \\mathtt{body\\_mass\\_g} \\\\ -->"
      ],
      "id": "302244a8-8fe5-4741-bf0d-b430eeb0a3c7"
    },
    {
      "cell_type": "raw",
      "metadata": {
        "raw_mimetype": "text/html"
      },
      "source": [
        "<!-- &\\hat{E}(\\mathtt{bill\\_length\\_mm} \\mid \\mathtt{body\\_mass\\_g}, \\mathtt{species}=\\mathtt{Gentoo}) \\\\ -->"
      ],
      "id": "9e2ceb87-eda8-4ab0-8179-44fade9b62da"
    },
    {
      "cell_type": "raw",
      "metadata": {
        "raw_mimetype": "text/html"
      },
      "source": [
        "<!-- &= 28.48 + 0.004 \\mathtt{body\\_mass\\_g}. -->"
      ],
      "id": "602d4a86-c44c-491f-a0c3-3c5791c8db33"
    },
    {
      "cell_type": "raw",
      "metadata": {
        "raw_mimetype": "text/html"
      },
      "source": [
        "<!-- \\end{aligned} -->"
      ],
      "id": "e65512c2-d004-4677-8f4d-320d3e849a06"
    },
    {
      "cell_type": "raw",
      "metadata": {
        "raw_mimetype": "text/html"
      },
      "source": [
        "<!-- $$  -->"
      ],
      "id": "80dd6c58-63ea-4eb4-83ba-48be1cde085e"
    },
    {
      "cell_type": "raw",
      "metadata": {
        "raw_mimetype": "text/html"
      },
      "source": [
        "<!-- We recreate the fitted model producing these equations in R using the -->"
      ],
      "id": "a6225036-cd33-4d3f-8a4f-8e2929062d9c"
    },
    {
      "cell_type": "raw",
      "metadata": {
        "raw_mimetype": "text/html"
      },
      "source": [
        "<!-- code below. -->"
      ],
      "id": "cb27882e-cb27-43c7-94bc-38bf31f3a156"
    },
    {
      "cell_type": "raw",
      "metadata": {
        "raw_mimetype": "text/html"
      },
      "source": [
        "<!-- ```{r} -->"
      ],
      "id": "451b1952-31bc-4e94-90ee-40df58fdc432"
    },
    {
      "cell_type": "raw",
      "metadata": {
        "raw_mimetype": "text/html"
      },
      "source": [
        "<!-- # refit the parallel lines model -->"
      ],
      "id": "2318c49f-2416-4e99-8214-c0d7f6021ce5"
    },
    {
      "cell_type": "raw",
      "metadata": {
        "raw_mimetype": "text/html"
      },
      "source": [
        "<!-- lmodp <- lm(bill_length_mm ~ body_mass_g + species, data = penguins) -->"
      ],
      "id": "583f0f3f-6c3d-41a9-b028-f1e267218107"
    },
    {
      "cell_type": "raw",
      "metadata": {
        "raw_mimetype": "text/html"
      },
      "source": [
        "<!-- # double-check coefficients -->"
      ],
      "id": "8ae79c5c-e74f-4135-b113-e6248879f54c"
    },
    {
      "cell_type": "raw",
      "metadata": {
        "raw_mimetype": "text/html"
      },
      "source": [
        "<!-- coef(lmodp) -->"
      ],
      "id": "10ea9da9-5782-4989-9ce2-2abbcb5e3721"
    },
    {
      "cell_type": "raw",
      "metadata": {
        "raw_mimetype": "text/html"
      },
      "source": [
        "<!-- ``` -->"
      ],
      "id": "aef93a37-e79d-4ecb-af42-062bbfef6f91"
    },
    {
      "cell_type": "raw",
      "metadata": {
        "raw_mimetype": "text/html"
      },
      "source": [
        "<!-- The code below determines the number of observations with each level of -->"
      ],
      "id": "452f93c7-2a8e-49cd-83dd-c0b84e6118ea"
    },
    {
      "cell_type": "raw",
      "metadata": {
        "raw_mimetype": "text/html"
      },
      "source": [
        "<!-- `species` for the data used in the fitted model `lmodp`.  -->"
      ],
      "id": "32fdd1ce-2088-46ce-944b-c9a3bd0d8c15"
    },
    {
      "cell_type": "raw",
      "metadata": {
        "raw_mimetype": "text/html"
      },
      "source": [
        "<!-- ```{r} -->"
      ],
      "id": "d0aaeb06-7d30-4e65-9c83-7596732cb7e2"
    },
    {
      "cell_type": "raw",
      "metadata": {
        "raw_mimetype": "text/html"
      },
      "source": [
        "<!-- table(lmodp$model$species) -->"
      ],
      "id": "fc5d747a-edb2-40ab-b776-5eda832cf3ac"
    },
    {
      "cell_type": "raw",
      "metadata": {
        "raw_mimetype": "text/html"
      },
      "source": [
        "<!-- print(paste('Total:', length(lmodp$model$species))) -->"
      ],
      "id": "b93cb0c3-64ad-4d1a-ae7b-345172a5b685"
    },
    {
      "cell_type": "raw",
      "metadata": {
        "raw_mimetype": "text/html"
      },
      "source": [
        "<!-- ``` -->"
      ],
      "id": "c70be79d-a940-4e86-8c15-e501626d2291"
    },
    {
      "cell_type": "raw",
      "metadata": {
        "raw_mimetype": "text/html"
      },
      "source": [
        "<!-- The equation used to create the effect plot of `body_mass_g` is the -->"
      ],
      "id": "181dda02-7896-4e4f-b7a1-d6248741f116"
    },
    {
      "cell_type": "raw",
      "metadata": {
        "raw_mimetype": "text/html"
      },
      "source": [
        "<!-- weighted average of the response, with weights proportional to the number of observational having each level of the categorical predictor. Specifically,  -->"
      ],
      "id": "0521a8ae-374e-4018-9156-61656c5202c6"
    },
    {
      "cell_type": "raw",
      "metadata": {
        "raw_mimetype": "text/html"
      },
      "source": [
        "<!-- $$ -->"
      ],
      "id": "fc77c42d-645e-410f-ac01-d5acf7e049ba"
    },
    {
      "cell_type": "raw",
      "metadata": {
        "raw_mimetype": "text/html"
      },
      "source": [
        "<!-- \\begin{aligned} -->"
      ],
      "id": "7bb016d0-184f-48fa-8d76-06747ac46450"
    },
    {
      "cell_type": "raw",
      "metadata": {
        "raw_mimetype": "text/html"
      },
      "source": [
        "<!-- & \\hat{E}(\\mathtt{bill\\_length\\_mm} \\mid \\mathtt{body\\_mass\\_g}, \\mathtt{species}=\\mathtt{typical}) \\\\ -->"
      ],
      "id": "b4358631-3f48-4efe-9e6e-9f92a70228bd"
    },
    {
      "cell_type": "raw",
      "metadata": {
        "raw_mimetype": "text/html"
      },
      "source": [
        "<!-- &= \\frac{151}{342}(24.92 + 0.004 \\mathtt{body\\_mass\\_g})\\\\ -->"
      ],
      "id": "8a4ee023-e133-414c-b532-e3d93b1fdecf"
    },
    {
      "cell_type": "raw",
      "metadata": {
        "raw_mimetype": "text/html"
      },
      "source": [
        "<!-- &\\quad + \\frac{68}{342}(34.84 + 0.004 \\mathtt{body\\_mass\\_g})\\\\ -->"
      ],
      "id": "c3f6c5ca-6367-4e05-916d-6ec9ac1878fa"
    },
    {
      "cell_type": "raw",
      "metadata": {
        "raw_mimetype": "text/html"
      },
      "source": [
        "<!-- &\\quad + \\frac{123}{342}(28.48 + 0.004 \\mathtt{body\\_mass\\_g}) \\\\ -->"
      ],
      "id": "c8ffde3b-96bd-46f5-ab04-80a898b18977"
    },
    {
      "cell_type": "raw",
      "metadata": {
        "raw_mimetype": "text/html"
      },
      "source": [
        "<!-- &=28.17 + 0.004 \\mathtt{body\\_mass\\_g}. -->"
      ],
      "id": "fa5cc5f0-838e-40c2-bfce-a8b64040f11d"
    },
    {
      "cell_type": "raw",
      "metadata": {
        "raw_mimetype": "text/html"
      },
      "source": [
        "<!-- \\end{aligned} -->"
      ],
      "id": "66d70ac5-9e88-4f33-be6e-1a8198c50abc"
    },
    {
      "cell_type": "raw",
      "metadata": {
        "raw_mimetype": "text/html"
      },
      "source": [
        "<!-- $$  -->"
      ],
      "id": "e8ddbad4-1452-4d37-99f1-4ff3c6039178"
    },
    {
      "cell_type": "raw",
      "metadata": {
        "raw_mimetype": "text/html"
      },
      "source": [
        "<!-- The following code produces the effect plot for `body_mass_g` for the fitted parallel lines model. The association between `bill_length_mm` and `body_mass_g` is positive after accounting for `species`. -->"
      ],
      "id": "2f5b8f58-b625-49ef-bad3-ef859b7b0338"
    },
    {
      "cell_type": "raw",
      "metadata": {
        "raw_mimetype": "text/html"
      },
      "source": [
        "<!-- ```{r} -->"
      ],
      "id": "1fdca366-5381-4ac2-adf5-c1b857b8c38e"
    },
    {
      "cell_type": "raw",
      "metadata": {
        "raw_mimetype": "text/html"
      },
      "source": [
        "<!-- # draw effect plot for body_mass_g -->"
      ],
      "id": "fda9a6d5-e6b4-45d6-b152-1409c6d36d20"
    },
    {
      "cell_type": "raw",
      "metadata": {
        "raw_mimetype": "text/html"
      },
      "source": [
        "<!-- plot(predictorEffect(\"body_mass_g\", lmodp)) -->"
      ],
      "id": "55a187f1-9cd7-41c6-bc71-9d66a4c7b46a"
    },
    {
      "cell_type": "raw",
      "metadata": {
        "raw_mimetype": "text/html"
      },
      "source": [
        "<!-- ``` -->"
      ],
      "id": "253b594f-45df-45cd-b177-af858b8b695a"
    },
    {
      "cell_type": "raw",
      "metadata": {
        "raw_mimetype": "text/html"
      },
      "source": [
        "<!-- An effect plot for a categorical predictor, assuming all other -->"
      ],
      "id": "27a723f9-cc43-4739-aa26-518a31f602ed"
    },
    {
      "cell_type": "raw",
      "metadata": {
        "raw_mimetype": "text/html"
      },
      "source": [
        "<!-- predictors in the model are non-interacting numerical predictors (i.e., -->"
      ],
      "id": "2f2d0d6a-9351-44cf-a80e-cb6bb85265a1"
    },
    {
      "cell_type": "raw",
      "metadata": {
        "raw_mimetype": "text/html"
      },
      "source": [
        "<!-- fixed group predictors), is a plot of the estimated mean response for -->"
      ],
      "id": "5c412736-dd64-4eb1-8f6e-5816d0ce33bc"
    },
    {
      "cell_type": "raw",
      "metadata": {
        "raw_mimetype": "text/html"
      },
      "source": [
        "<!-- each level of the categorical variable when the fixed group group -->"
      ],
      "id": "ec8aa29a-ca21-470e-8ec4-ecc043a07de9"
    },
    {
      "cell_type": "raw",
      "metadata": {
        "raw_mimetype": "text/html"
      },
      "source": [
        "<!-- predictors are held at their sample mean. The sample mean is: -->"
      ],
      "id": "c3e1d0ba-9307-4c9c-93f4-c6efbcf10705"
    },
    {
      "cell_type": "raw",
      "metadata": {
        "raw_mimetype": "text/html"
      },
      "source": [
        "<!-- ```{r} -->"
      ],
      "id": "aa0da676-6cfb-4492-959b-f29f11c3cc00"
    },
    {
      "cell_type": "raw",
      "metadata": {
        "raw_mimetype": "text/html"
      },
      "source": [
        "<!-- # sample mean of body_mass_g variable used to fit lmodp -->"
      ],
      "id": "9768fdf7-bdd5-4622-a53c-74f0e0cfc6b9"
    },
    {
      "cell_type": "raw",
      "metadata": {
        "raw_mimetype": "text/html"
      },
      "source": [
        "<!-- mean(lmodp$model$body_mass_g) -->"
      ],
      "id": "8431cb50-252c-4bdf-b1a8-a54076c3b1ee"
    },
    {
      "cell_type": "raw",
      "metadata": {
        "raw_mimetype": "text/html"
      },
      "source": [
        "<!-- ``` -->"
      ],
      "id": "b1e03a1d-89bd-4eaf-b9d0-e877a3be6263"
    },
    {
      "cell_type": "raw",
      "metadata": {
        "raw_mimetype": "text/html"
      },
      "source": [
        "<!-- The estimated mean for the Adelie species when `body_mass_g` is fixed at 4201.75 is -->"
      ],
      "id": "fb1180f7-a1b8-415a-9395-111e13fabcea"
    },
    {
      "cell_type": "raw",
      "metadata": {
        "raw_mimetype": "text/html"
      },
      "source": [
        "<!-- $$ -->"
      ],
      "id": "a644bd2f-637e-4ec1-80c7-042e543da56e"
    },
    {
      "cell_type": "raw",
      "metadata": {
        "raw_mimetype": "text/html"
      },
      "source": [
        "<!-- \\begin{aligned} -->"
      ],
      "id": "84afced3-3087-4c27-83f2-f42ee013fade"
    },
    {
      "cell_type": "raw",
      "metadata": {
        "raw_mimetype": "text/html"
      },
      "source": [
        "<!-- &\\hat{E}(\\mathtt{bill\\_length\\_mm} \\mid \\mathtt{body\\_mass\\_g} = 4201.75, \\mathtt{species}=\\mathtt{Adelie}) \\\\ -->"
      ],
      "id": "f4bbbdd1-78bb-4e0f-a173-69d90b579e23"
    },
    {
      "cell_type": "raw",
      "metadata": {
        "raw_mimetype": "text/html"
      },
      "source": [
        "<!-- &= 24.92 + 0.004 \\cdot 4201.75 \\\\ -->"
      ],
      "id": "5658dd85-478d-4cd2-90ca-b8c0f4103752"
    },
    {
      "cell_type": "raw",
      "metadata": {
        "raw_mimetype": "text/html"
      },
      "source": [
        "<!-- &= 40.67. -->"
      ],
      "id": "2004c818-712e-416e-9acf-099f5182d48f"
    },
    {
      "cell_type": "raw",
      "metadata": {
        "raw_mimetype": "text/html"
      },
      "source": [
        "<!-- \\end{aligned} -->"
      ],
      "id": "018b9d22-3d15-4e98-8daf-ff30c712f618"
    },
    {
      "cell_type": "raw",
      "metadata": {
        "raw_mimetype": "text/html"
      },
      "source": [
        "<!-- $$  -->"
      ],
      "id": "a21d436d-f4d7-4141-9fea-9b9f23e3758f"
    },
    {
      "cell_type": "raw",
      "metadata": {
        "raw_mimetype": "text/html"
      },
      "source": [
        "<!-- Similarly, -->"
      ],
      "id": "e2c31791-afd2-4f80-8f56-72674a18f229"
    },
    {
      "cell_type": "raw",
      "metadata": {
        "raw_mimetype": "text/html"
      },
      "source": [
        "<!-- $$ -->"
      ],
      "id": "d73da41b-deb4-40cf-9b40-0ccec7213137"
    },
    {
      "cell_type": "raw",
      "metadata": {
        "raw_mimetype": "text/html"
      },
      "source": [
        "<!-- \\hat{E}(\\mathtt{bill\\_length\\_mm} \\mid \\mathtt{body\\_mass\\_g} = 4201.75, \\mathtt{species}=\\mathtt{Chinstrap}) = 50.59 -->"
      ],
      "id": "f2a4ed98-c827-4fae-9ff0-eeabf320df0e"
    },
    {
      "cell_type": "raw",
      "metadata": {
        "raw_mimetype": "text/html"
      },
      "source": [
        "<!-- $$ -->"
      ],
      "id": "d2ca65e8-3afd-42dc-bb2a-6cb78c1861d0"
    },
    {
      "cell_type": "raw",
      "metadata": {
        "raw_mimetype": "text/html"
      },
      "source": [
        "<!-- And, -->"
      ],
      "id": "8281d9df-fe87-45c0-b80d-46bd7e6a6598"
    },
    {
      "cell_type": "raw",
      "metadata": {
        "raw_mimetype": "text/html"
      },
      "source": [
        "<!-- $$\\hat{E}(\\mathtt{bill\\_length\\_mm} \\mid \\mathtt{body\\_mass\\_g} = 4201.75, \\mathtt{species}=\\mathtt{Gentoo}) = 44.23$$ -->"
      ],
      "id": "d51a84b8-a40d-40f7-a134-c8d3c0d05263"
    },
    {
      "cell_type": "raw",
      "metadata": {
        "raw_mimetype": "text/html"
      },
      "source": [
        "<!-- The code below produces the effect plot for `species`. The confidence bands for the estimated mean response are shown by the vertical bars. -->"
      ],
      "id": "c48fa89a-f70e-4867-907c-72e7eefc8da6"
    },
    {
      "cell_type": "raw",
      "metadata": {
        "raw_mimetype": "text/html"
      },
      "source": [
        "<!-- ```{r} -->"
      ],
      "id": "2997c25f-f362-4de6-bdc0-0df84ee49d3b"
    },
    {
      "cell_type": "raw",
      "metadata": {
        "raw_mimetype": "text/html"
      },
      "source": [
        "<!-- plot(predictorEffect(\"species\", lmodp)) -->"
      ],
      "id": "c1f8d2cf-f820-4399-bcf6-534c3e235aae"
    },
    {
      "cell_type": "raw",
      "metadata": {
        "raw_mimetype": "text/html"
      },
      "source": [
        "<!-- ``` -->"
      ],
      "id": "373928d2-6ec4-4dd1-b70b-9532a53c15cd"
    },
    {
      "cell_type": "raw",
      "metadata": {
        "raw_mimetype": "text/html"
      },
      "source": [
        "<!-- **Coefficient interpretation for separate lines models** -->"
      ],
      "id": "4c81dac3-8c45-4cc2-9e5d-6a2e06fcb2f5"
    },
    {
      "cell_type": "raw",
      "metadata": {
        "raw_mimetype": "text/html"
      },
      "source": [
        "<!-- --- -->"
      ],
      "id": "37640681-4fcc-4758-b7ee-5c20b71ee111"
    },
    {
      "cell_type": "raw",
      "metadata": {
        "raw_mimetype": "text/html"
      },
      "source": [
        "<!-- Consider a separate lines model with numeric regressor $X$ and -->"
      ],
      "id": "0b99a8a1-4655-45d7-808a-d4b6d9a13cb0"
    },
    {
      "cell_type": "raw",
      "metadata": {
        "raw_mimetype": "text/html"
      },
      "source": [
        "<!-- categorical predictor $C$ with levels $L_1$, $L_2$, and $L_3$. The -->"
      ],
      "id": "cb49aa43-55c0-4e50-89bf-782120135194"
    },
    {
      "cell_type": "raw",
      "metadata": {
        "raw_mimetype": "text/html"
      },
      "source": [
        "<!-- predictor $C$ will be transformed into two indicator variables, $D_2$ -->"
      ],
      "id": "90875bf3-ecf4-4572-ae03-0298bf500c8d"
    },
    {
      "cell_type": "raw",
      "metadata": {
        "raw_mimetype": "text/html"
      },
      "source": [
        "<!-- and $D_3$, for category levels $L_2$ and $L_3$, with $L_1$ being the -->"
      ],
      "id": "430b2356-3dfc-4590-9adc-9786450c240c"
    },
    {
      "cell_type": "raw",
      "metadata": {
        "raw_mimetype": "text/html"
      },
      "source": [
        "<!-- reference level. The separate lines model is formulated as: -->"
      ],
      "id": "03eb637e-65ae-4c51-8542-9083c56733c4"
    },
    {
      "cell_type": "raw",
      "metadata": {
        "raw_mimetype": "text/html"
      },
      "source": [
        "<!-- $$ -->"
      ],
      "id": "e7f5b358-1428-4aeb-b784-61445751ea2f"
    },
    {
      "cell_type": "raw",
      "metadata": {
        "raw_mimetype": "text/html"
      },
      "source": [
        "<!-- E(Y \\mid X, C) = \\beta_{int} + \\beta_{X} X + \\beta_{L_2} D_2 +  \\beta_{L_3} D_3 + \\beta_{XL_2} XD_2+\\beta_{XL_3}XD_3 -->"
      ],
      "id": "5fada2ef-c549-4b92-a9b4-6c9d5c1b0164"
    },
    {
      "cell_type": "raw",
      "metadata": {
        "raw_mimetype": "text/html"
      },
      "source": [
        "<!-- $$ -->"
      ],
      "id": "03c621de-06bd-4fab-aae9-2eb59b759094"
    },
    {
      "cell_type": "raw",
      "metadata": {
        "raw_mimetype": "text/html"
      },
      "source": [
        "<!-- When an observation has level $L_1$ and $X=x^*$, then the expected -->"
      ],
      "id": "316e2a90-2c1c-4430-8a25-c9e94aa99b7e"
    },
    {
      "cell_type": "raw",
      "metadata": {
        "raw_mimetype": "text/html"
      },
      "source": [
        "<!-- response is  -->"
      ],
      "id": "ce05833d-ced1-423c-9fac-9bb6b98d7481"
    },
    {
      "cell_type": "raw",
      "metadata": {
        "raw_mimetype": "text/html"
      },
      "source": [
        "<!-- ::: {.content-visible unless-format=\"pdf\"} -->"
      ],
      "id": "2ea37b81-5250-430f-8c9c-1e13a49da5a8"
    },
    {
      "cell_type": "raw",
      "metadata": {
        "raw_mimetype": "text/html"
      },
      "source": [
        "<!-- </br>   -->"
      ],
      "id": "54573d59-090b-4ec7-a35a-e0a8e8e6699d"
    },
    {
      "cell_type": "raw",
      "metadata": {
        "raw_mimetype": "text/html"
      },
      "source": [
        "<!-- </br>   -->"
      ],
      "id": "df4df98c-51f2-4706-a254-035c3f0a797f"
    },
    {
      "cell_type": "raw",
      "metadata": {
        "raw_mimetype": "text/html"
      },
      "source": [
        "<!-- </br>   -->"
      ],
      "id": "856aa065-4d7d-43bb-a11e-e23256b0bc29"
    },
    {
      "cell_type": "raw",
      "metadata": {
        "raw_mimetype": "text/html"
      },
      "source": [
        "<!-- </br>   -->"
      ],
      "id": "ae63f02e-d9bf-4f3a-947e-62161b4566a9"
    },
    {
      "cell_type": "raw",
      "metadata": {
        "raw_mimetype": "text/html"
      },
      "source": [
        "<!-- </br>   -->"
      ],
      "id": "05a2d1ae-11fb-4cc3-ad4d-53a45448f172"
    },
    {
      "cell_type": "raw",
      "metadata": {
        "raw_mimetype": "text/html"
      },
      "source": [
        "<!-- </br>   -->"
      ],
      "id": "bc408653-441a-4ed3-954f-424e1e3cb467"
    },
    {
      "cell_type": "raw",
      "metadata": {
        "raw_mimetype": "text/html"
      },
      "source": [
        "<!-- </br>   -->"
      ],
      "id": "a3257fa8-d6c6-41ac-8672-2447541e330b"
    },
    {
      "cell_type": "raw",
      "metadata": {
        "raw_mimetype": "text/html"
      },
      "source": [
        "<!-- ::: -->"
      ],
      "id": "7759184b-85e6-4f6b-9eaf-17c9d7563a7e"
    },
    {
      "cell_type": "raw",
      "metadata": {
        "raw_mimetype": "text/html"
      },
      "source": [
        "<!-- ::: {.content-hidden unless-format=\"pdf\"} -->"
      ],
      "id": "c683752d-b502-4e8b-a03a-7c335c5f8e60"
    },
    {
      "cell_type": "raw",
      "metadata": {
        "raw_mimetype": "text/html"
      },
      "source": [
        "<!-- $$ -->"
      ],
      "id": "8e23ff28-6b4f-42ee-ba25-5868b50bd3c6"
    },
    {
      "cell_type": "raw",
      "metadata": {
        "raw_mimetype": "text/html"
      },
      "source": [
        "<!-- \\begin{aligned} -->"
      ],
      "id": "3fe51f62-cbe7-4711-80c8-bb9e030b8300"
    },
    {
      "cell_type": "raw",
      "metadata": {
        "raw_mimetype": "text/html"
      },
      "source": [
        "<!-- &E(Y\\mid X = x^*, C=L_1) \\\\ -->"
      ],
      "id": "8ea8aa9f-9063-4eb0-8948-054a62b688e5"
    },
    {
      "cell_type": "raw",
      "metadata": {
        "raw_mimetype": "text/html"
      },
      "source": [
        "<!-- &= \\beta_{int} + \\beta_X \\cdot x^* + \\beta_{L_2} \\cdot 0 + \\beta_{L_3} \\cdot 0  + \\beta_{X L_2} \\cdot x^* \\cdot 0 + \\beta_{X L_3}\\cdot x^* \\cdot 0 \\\\ -->"
      ],
      "id": "79332836-3099-451b-be79-d841ce3db63e"
    },
    {
      "cell_type": "raw",
      "metadata": {
        "raw_mimetype": "text/html"
      },
      "source": [
        "<!-- &= \\beta_{int} + \\beta_X x^*. -->"
      ],
      "id": "f5914c8c-4199-4f86-bd38-694a744e6fff"
    },
    {
      "cell_type": "raw",
      "metadata": {
        "raw_mimetype": "text/html"
      },
      "source": [
        "<!-- \\end{aligned} -->"
      ],
      "id": "d92ccf08-68b9-4fdb-ab88-8187710c3b51"
    },
    {
      "cell_type": "raw",
      "metadata": {
        "raw_mimetype": "text/html"
      },
      "source": [
        "<!-- $$ -->"
      ],
      "id": "06e32698-f0cb-4ac6-8d36-4d50757fe371"
    },
    {
      "cell_type": "raw",
      "metadata": {
        "raw_mimetype": "text/html"
      },
      "source": [
        "<!-- ::: -->"
      ],
      "id": "d0780859-f3ee-490d-8c59-2f0a712f17e5"
    },
    {
      "cell_type": "raw",
      "metadata": {
        "raw_mimetype": "text/html"
      },
      "source": [
        "<!-- We can verify that: -->"
      ],
      "id": "cee85baa-f06b-4e0f-8b3b-c4178bb3f260"
    },
    {
      "cell_type": "raw",
      "metadata": {
        "raw_mimetype": "text/html"
      },
      "source": [
        "<!-- -   $\\beta_{int} = E(Y\\mid X = 0, C=L_1)$. -->"
      ],
      "id": "a5477ddb-92b1-4230-9a4e-e314799203f9"
    },
    {
      "cell_type": "raw",
      "metadata": {
        "raw_mimetype": "text/html"
      },
      "source": [
        "<!-- -   $\\beta_{X} = E(Y\\mid X = x^* + 1, C=L_1) - E(Y\\mid X = x^*, C=L_1)$. -->"
      ],
      "id": "f05a405f-3d42-4dfb-b048-e6a040c273a6"
    },
    {
      "cell_type": "raw",
      "metadata": {
        "raw_mimetype": "text/html"
      },
      "source": [
        "<!-- Similarly, when $C=L_2$,  -->"
      ],
      "id": "14312728-419e-43d1-925f-0ed552692eb1"
    },
    {
      "cell_type": "raw",
      "metadata": {
        "raw_mimetype": "text/html"
      },
      "source": [
        "<!-- ::: {.content-visible unless-format=\"pdf\"} -->"
      ],
      "id": "f7cc0aca-b8e8-42b3-bdc5-a5adae98b7fa"
    },
    {
      "cell_type": "raw",
      "metadata": {
        "raw_mimetype": "text/html"
      },
      "source": [
        "<!-- </br>   -->"
      ],
      "id": "7f0f2719-90e8-4400-ba28-2c96b5b439eb"
    },
    {
      "cell_type": "raw",
      "metadata": {
        "raw_mimetype": "text/html"
      },
      "source": [
        "<!-- </br>   -->"
      ],
      "id": "353cb471-5c7d-41b8-8ddd-e7813fd0c1a0"
    },
    {
      "cell_type": "raw",
      "metadata": {
        "raw_mimetype": "text/html"
      },
      "source": [
        "<!-- </br>   -->"
      ],
      "id": "573ae29a-dff7-437c-a0a5-5b0c10e1ecb6"
    },
    {
      "cell_type": "raw",
      "metadata": {
        "raw_mimetype": "text/html"
      },
      "source": [
        "<!-- </br>   -->"
      ],
      "id": "2c2aabf7-2cca-45f3-a46b-290fac906e59"
    },
    {
      "cell_type": "raw",
      "metadata": {
        "raw_mimetype": "text/html"
      },
      "source": [
        "<!-- </br>   -->"
      ],
      "id": "4362b985-f596-4f52-ba87-2c423a085826"
    },
    {
      "cell_type": "raw",
      "metadata": {
        "raw_mimetype": "text/html"
      },
      "source": [
        "<!-- </br>   -->"
      ],
      "id": "8e7a1a7a-6067-4bcc-a5ba-3ab9e87e9a90"
    },
    {
      "cell_type": "raw",
      "metadata": {
        "raw_mimetype": "text/html"
      },
      "source": [
        "<!-- </br>   -->"
      ],
      "id": "b1358c9f-145d-4db2-934d-dd559e3b9a24"
    },
    {
      "cell_type": "raw",
      "metadata": {
        "raw_mimetype": "text/html"
      },
      "source": [
        "<!-- ::: -->"
      ],
      "id": "a0142573-74fc-47a2-a245-b86645b62947"
    },
    {
      "cell_type": "raw",
      "metadata": {
        "raw_mimetype": "text/html"
      },
      "source": [
        "<!-- ::: {.content-hidden unless-format=\"pdf\"} -->"
      ],
      "id": "817794fa-e2fc-4886-b589-de99bbbbd364"
    },
    {
      "cell_type": "raw",
      "metadata": {
        "raw_mimetype": "text/html"
      },
      "source": [
        "<!-- $$ -->"
      ],
      "id": "198fdb64-ef86-45af-9c38-67284ce475a1"
    },
    {
      "cell_type": "raw",
      "metadata": {
        "raw_mimetype": "text/html"
      },
      "source": [
        "<!-- \\begin{aligned} -->"
      ],
      "id": "20cde55d-f998-4ebd-ab82-eab3773f2da3"
    },
    {
      "cell_type": "raw",
      "metadata": {
        "raw_mimetype": "text/html"
      },
      "source": [
        "<!-- & E(Y|X = x^*, C=L_2) \\\\ -->"
      ],
      "id": "cef0d49c-e0e1-4306-b900-9b296eef258f"
    },
    {
      "cell_type": "raw",
      "metadata": {
        "raw_mimetype": "text/html"
      },
      "source": [
        "<!-- &= \\beta_{int} + \\beta_X \\cdot x^* + \\beta_{L_2} \\cdot 1 + \\beta_{L_3} \\cdot 0  + \\beta_{X L_2} \\cdot x^* \\cdot 1 + \\beta_{X L_3}\\cdot x^* \\cdot 0 \\\\ -->"
      ],
      "id": "749f72f1-2774-41ee-bd87-50bb6b26836a"
    },
    {
      "cell_type": "raw",
      "metadata": {
        "raw_mimetype": "text/html"
      },
      "source": [
        "<!-- &= \\beta_{int} + \\beta_X x^* + \\beta_{L_2} + \\beta_{XL_2}x^*\\\\ -->"
      ],
      "id": "d1ebaf70-9656-468a-aa10-cc90a9683664"
    },
    {
      "cell_type": "raw",
      "metadata": {
        "raw_mimetype": "text/html"
      },
      "source": [
        "<!-- &= (\\beta_{int} + \\beta_{L_2}) + (\\beta_X + \\beta_{XL_2})x^* -->"
      ],
      "id": "88843897-c9ad-43ba-af57-e0acf22b9223"
    },
    {
      "cell_type": "raw",
      "metadata": {
        "raw_mimetype": "text/html"
      },
      "source": [
        "<!-- \\end{aligned} -->"
      ],
      "id": "5f6c2c06-6171-4a82-857f-0174a062540e"
    },
    {
      "cell_type": "raw",
      "metadata": {
        "raw_mimetype": "text/html"
      },
      "source": [
        "<!-- $$ -->"
      ],
      "id": "6062b419-9de5-4d4d-af3f-df0f017a3d16"
    },
    {
      "cell_type": "raw",
      "metadata": {
        "raw_mimetype": "text/html"
      },
      "source": [
        "<!-- ::: -->"
      ],
      "id": "3de18847-3022-4d3e-9fbb-8d0c8f392fba"
    },
    {
      "cell_type": "raw",
      "metadata": {
        "raw_mimetype": "text/html"
      },
      "source": [
        "<!-- Following this same pattern, when $C=L_3$ we have  -->"
      ],
      "id": "aa9c0077-cd38-4972-925b-024d6508a572"
    },
    {
      "cell_type": "raw",
      "metadata": {
        "raw_mimetype": "text/html"
      },
      "source": [
        "<!-- $$ -->"
      ],
      "id": "cc45cfbb-a8bf-4fad-893b-85865d255ba9"
    },
    {
      "cell_type": "raw",
      "metadata": {
        "raw_mimetype": "text/html"
      },
      "source": [
        "<!-- E(Y|X = x^*, C=L_3) = (\\beta_{int} + \\beta_{L_3}) + (\\beta_X + \\beta_{XL_3})x^* -->"
      ],
      "id": "26098d81-d8a2-45af-8cb4-cda774c9f348"
    },
    {
      "cell_type": "raw",
      "metadata": {
        "raw_mimetype": "text/html"
      },
      "source": [
        "<!-- $$ -->"
      ],
      "id": "ca69574a-62bf-4ebf-96e4-d378e47e52cf"
    },
    {
      "cell_type": "raw",
      "metadata": {
        "raw_mimetype": "text/html"
      },
      "source": [
        "<!-- We can verify that for $j=2,3$, -->"
      ],
      "id": "c6565359-62dd-4f16-933d-a855c7902e91"
    },
    {
      "cell_type": "raw",
      "metadata": {
        "raw_mimetype": "text/html"
      },
      "source": [
        "<!-- $$\\beta_{L_j}= E(Y\\mid X = 0, C=L_j) - E(Y\\mid X = 0, C=L_1)$$  -->"
      ],
      "id": "26c22995-603a-46ec-a01d-84629d3ebf48"
    },
    {
      "cell_type": "raw",
      "metadata": {
        "raw_mimetype": "text/html"
      },
      "source": [
        "<!-- And,  -->"
      ],
      "id": "40521c47-2fe1-4d29-94a3-783894b17224"
    },
    {
      "cell_type": "raw",
      "metadata": {
        "raw_mimetype": "text/html"
      },
      "source": [
        "<!-- $$ -->"
      ],
      "id": "a998ec24-ab9b-4fe1-a589-9b09b02daa2a"
    },
    {
      "cell_type": "raw",
      "metadata": {
        "raw_mimetype": "text/html"
      },
      "source": [
        "<!-- \\begin{aligned} -->"
      ],
      "id": "bdf3da44-e066-4893-80b0-74f0915e41e0"
    },
    {
      "cell_type": "raw",
      "metadata": {
        "raw_mimetype": "text/html"
      },
      "source": [
        "<!-- & \\beta_{XL_j} \\\\ -->"
      ],
      "id": "39c0dd00-81de-4fb7-a01f-033463ba5fa6"
    },
    {
      "cell_type": "raw",
      "metadata": {
        "raw_mimetype": "text/html"
      },
      "source": [
        "<!-- &= [E(Y\\mid X = x^*+1, C=L_j) - E(Y\\mid X = x^*, C=L_j)]\\\\ -->"
      ],
      "id": "1eed4bc2-af77-42b7-a8b4-d1b4af56ec02"
    },
    {
      "cell_type": "raw",
      "metadata": {
        "raw_mimetype": "text/html"
      },
      "source": [
        "<!-- &\\quad-[E(Y\\mid X = x^*+1, C=L_1) - E(Y\\mid X = x^*, C=L_1)]. -->"
      ],
      "id": "39108270-dc02-4470-9092-a81b96ad8fee"
    },
    {
      "cell_type": "raw",
      "metadata": {
        "raw_mimetype": "text/html"
      },
      "source": [
        "<!-- \\end{aligned} -->"
      ],
      "id": "26e16114-b4af-4624-97ed-bf628a0d6cc1"
    },
    {
      "cell_type": "raw",
      "metadata": {
        "raw_mimetype": "text/html"
      },
      "source": [
        "<!-- $$ -->"
      ],
      "id": "3194ad93-8f23-47dd-ad6a-adee5008babd"
    },
    {
      "cell_type": "raw",
      "metadata": {
        "raw_mimetype": "text/html"
      },
      "source": [
        "<!-- To summarize the interpretation of the coefficients in separate lines -->"
      ],
      "id": "ec45b379-1ce1-4ea7-9b83-fe2a109d1ba1"
    },
    {
      "cell_type": "raw",
      "metadata": {
        "raw_mimetype": "text/html"
      },
      "source": [
        "<!-- models, assuming categorical predictor $C$ has $K$ levels instead of 3: -->"
      ],
      "id": "46ce65ee-b0c6-4ee2-80ce-13401c29e4c6"
    },
    {
      "cell_type": "raw",
      "metadata": {
        "raw_mimetype": "text/html"
      },
      "source": [
        "<!-- -   $\\beta_{int}$ represents the expected response for observations -->"
      ],
      "id": "f3b9d78b-2232-4ba4-9008-2cb080be26d3"
    },
    {
      "cell_type": "raw",
      "metadata": {
        "raw_mimetype": "text/html"
      },
      "source": [
        "<!--     having the reference level when the numeric regressor $X = 0$. -->"
      ],
      "id": "8c056de0-a112-49e8-984f-2e2eac06f4aa"
    },
    {
      "cell_type": "raw",
      "metadata": {
        "raw_mimetype": "text/html"
      },
      "source": [
        "<!-- -   $\\beta_{L_j}$, for $j=2,\\ldots,K$, represents the expected change in -->"
      ],
      "id": "bd63728a-c269-44a0-a6e3-7b7f89201e08"
    },
    {
      "cell_type": "raw",
      "metadata": {
        "raw_mimetype": "text/html"
      },
      "source": [
        "<!--     the response when comparing observations having level $L_1$ and -->"
      ],
      "id": "3aeb88e0-4a13-4d88-ad78-ba17893b38ca"
    },
    {
      "cell_type": "raw",
      "metadata": {
        "raw_mimetype": "text/html"
      },
      "source": [
        "<!--     $L_j$ with $X=0$. -->"
      ],
      "id": "1d1935c3-1058-4e2c-9562-5505904fde2b"
    },
    {
      "cell_type": "raw",
      "metadata": {
        "raw_mimetype": "text/html"
      },
      "source": [
        "<!-- -   $\\beta_X$ represents the expected change in the response when $X$ -->"
      ],
      "id": "d886eac5-90d2-4894-afbe-20539de0a615"
    },
    {
      "cell_type": "raw",
      "metadata": {
        "raw_mimetype": "text/html"
      },
      "source": [
        "<!--     increases by 1 unit for observations having the reference level. -->"
      ],
      "id": "cc7f547c-b6d8-4823-a3ed-538a1614f75f"
    },
    {
      "cell_type": "raw",
      "metadata": {
        "raw_mimetype": "text/html"
      },
      "source": [
        "<!-- -   $\\beta_X L_j$, for $j=2,\\ldots,K$, represents the difference in the -->"
      ],
      "id": "cb16f711-244e-422a-95b0-d99e990b01de"
    },
    {
      "cell_type": "raw",
      "metadata": {
        "raw_mimetype": "text/html"
      },
      "source": [
        "<!--     expected response between observations having the reference level in -->"
      ],
      "id": "394a0549-5934-43a9-8b37-424d533f441d"
    },
    {
      "cell_type": "raw",
      "metadata": {
        "raw_mimetype": "text/html"
      },
      "source": [
        "<!--     comparison to level $L_j$ when $X$ increases by 1 unit. More simply, -->"
      ],
      "id": "899b7d72-805f-4f19-8b6b-ace9e5146464"
    },
    {
      "cell_type": "raw",
      "metadata": {
        "raw_mimetype": "text/html"
      },
      "source": [
        "<!--     these terms represent the difference in the rate of change for -->"
      ],
      "id": "7497f7ce-0275-4866-b608-c8434dcf57ee"
    },
    {
      "cell_type": "raw",
      "metadata": {
        "raw_mimetype": "text/html"
      },
      "source": [
        "<!--     observations having level $L_j$ compared to the reference level. -->"
      ],
      "id": "b006286f-6ab4-4f44-8f9a-354b206ebaf3"
    },
    {
      "cell_type": "raw",
      "metadata": {
        "raw_mimetype": "text/html"
      },
      "source": [
        "<!-- We illustrate these interpretation using the separate lines model to the -->"
      ],
      "id": "efec298f-d67f-4e96-b50c-b5c4798f279a"
    },
    {
      "cell_type": "raw",
      "metadata": {
        "raw_mimetype": "text/html"
      },
      "source": [
        "<!-- `penguins` data. The fitted separate lines model was,  -->"
      ],
      "id": "873e8183-452e-498e-b576-2a509e2c8692"
    },
    {
      "cell_type": "raw",
      "metadata": {
        "raw_mimetype": "text/html"
      },
      "source": [
        "<!-- $$ -->"
      ],
      "id": "68e09823-8ccc-4498-a43d-2504164be00b"
    },
    {
      "cell_type": "raw",
      "metadata": {
        "raw_mimetype": "text/html"
      },
      "source": [
        "<!-- \\begin{aligned} -->"
      ],
      "id": "cd931fee-894f-40fc-a475-944fd66d6cb9"
    },
    {
      "cell_type": "raw",
      "metadata": {
        "raw_mimetype": "text/html"
      },
      "source": [
        "<!-- &\\hat{E}(\\mathtt{bill\\_length\\_mm} \\mid \\mathtt{body\\_mass\\_g}, \\mathtt{species}) \\\\ -->"
      ],
      "id": "ba35d146-886f-42f2-beb9-56b31a102af6"
    },
    {
      "cell_type": "raw",
      "metadata": {
        "raw_mimetype": "text/html"
      },
      "source": [
        "<!-- &= 26.99 + 0.003 \\mathtt{body\\_mass\\_g} + 5.18 D_C - 0.25 D_G \\\\ -->"
      ],
      "id": "994775ea-127f-473d-a752-aee169f3ec76"
    },
    {
      "cell_type": "raw",
      "metadata": {
        "raw_mimetype": "text/html"
      },
      "source": [
        "<!-- &\\quad + 0.001 D_C \\mathtt{body\\_mass\\_g} + 0.0009 D_G \\mathtt{body\\_mass\\_g}. -->"
      ],
      "id": "85b6b2b6-1486-4856-9bac-8a4f18e1283d"
    },
    {
      "cell_type": "raw",
      "metadata": {
        "raw_mimetype": "text/html"
      },
      "source": [
        "<!-- \\end{aligned} -->"
      ],
      "id": "7b491713-ab4d-4d7d-86ad-3db4da279c96"
    },
    {
      "cell_type": "raw",
      "metadata": {
        "raw_mimetype": "text/html"
      },
      "source": [
        "<!-- $$  -->"
      ],
      "id": "58136db1-8059-466a-bc99-fab558570cf0"
    },
    {
      "cell_type": "raw",
      "metadata": {
        "raw_mimetype": "text/html"
      },
      "source": [
        "<!-- In the context of this model: -->"
      ],
      "id": "d89b42a5-2b84-4e66-883e-0db2de3a5cfe"
    },
    {
      "cell_type": "raw",
      "metadata": {
        "raw_mimetype": "text/html"
      },
      "source": [
        "<!-- -   The expected bill length for an Adelie penguin with a body mass of 0 -->"
      ],
      "id": "bf58bd0d-4e43-4bbd-8ace-1d5ca1d26787"
    },
    {
      "cell_type": "raw",
      "metadata": {
        "raw_mimetype": "text/html"
      },
      "source": [
        "<!--     grams is 26.99 mm. -->"
      ],
      "id": "6b9e799a-ccf5-41d9-b35f-7248a56f11d4"
    },
    {
      "cell_type": "raw",
      "metadata": {
        "raw_mimetype": "text/html"
      },
      "source": [
        "<!-- -   If an Adelie penguin has a body mass 1 gram larger than another -->"
      ],
      "id": "086ca528-db70-4bcc-b712-6054f5f282cb"
    },
    {
      "cell_type": "raw",
      "metadata": {
        "raw_mimetype": "text/html"
      },
      "source": [
        "<!--     Adelie penguin, then the larger penguin is expected to have a bill -->"
      ],
      "id": "dfec52a1-897c-429a-a246-4f116732735e"
    },
    {
      "cell_type": "raw",
      "metadata": {
        "raw_mimetype": "text/html"
      },
      "source": [
        "<!--     length 0.003 mm longer than the smaller penguin. -->"
      ],
      "id": "989a99d0-9c3f-4f58-8d24-ce337fcafb8d"
    },
    {
      "cell_type": "raw",
      "metadata": {
        "raw_mimetype": "text/html"
      },
      "source": [
        "<!-- -   A Chinstrap penguin is expected to have a bill length 5.18 mm longer -->"
      ],
      "id": "6bd28676-4e68-4252-a750-259ec7386175"
    },
    {
      "cell_type": "raw",
      "metadata": {
        "raw_mimetype": "text/html"
      },
      "source": [
        "<!--     than an Adelie penguin when both have a body mass of 0 grams. -->"
      ],
      "id": "5a39728d-8bac-4544-b53d-c3e73d6c7d80"
    },
    {
      "cell_type": "raw",
      "metadata": {
        "raw_mimetype": "text/html"
      },
      "source": [
        "<!-- -   A Gentoo penguin is expected to have a bill length 0.25 mm shorter -->"
      ],
      "id": "7f070890-4a86-4939-859e-1e639d9c7f57"
    },
    {
      "cell_type": "raw",
      "metadata": {
        "raw_mimetype": "text/html"
      },
      "source": [
        "<!--     than an Adelie penguin when both have a body mass of 0 grams. -->"
      ],
      "id": "33dfdd08-7581-4bcf-b635-dac6ce647d63"
    },
    {
      "cell_type": "raw",
      "metadata": {
        "raw_mimetype": "text/html"
      },
      "source": [
        "<!-- -   For each 1 gram increase in body mass, we expect the change in bill -->"
      ],
      "id": "f74a25a7-b44a-4ff6-947f-0a9f74963f20"
    },
    {
      "cell_type": "raw",
      "metadata": {
        "raw_mimetype": "text/html"
      },
      "source": [
        "<!--     length by Chinstrap penguins to be 0.001 mm larger than the -->"
      ],
      "id": "5f22438d-4649-4b10-a209-fc73fd1934ef"
    },
    {
      "cell_type": "raw",
      "metadata": {
        "raw_mimetype": "text/html"
      },
      "source": [
        "<!--     corresponding change in bill length by Adelie penguins. -->"
      ],
      "id": "744070af-89b7-473f-a1cd-e9af671497f6"
    },
    {
      "cell_type": "raw",
      "metadata": {
        "raw_mimetype": "text/html"
      },
      "source": [
        "<!-- -   For each 1 gram increase in body mass, we expect the change in bill -->"
      ],
      "id": "7efe3325-fef3-483b-8745-ccea8384f159"
    },
    {
      "cell_type": "raw",
      "metadata": {
        "raw_mimetype": "text/html"
      },
      "source": [
        "<!--     length by Gentoo penguins to be 0.0009 mm larger than the -->"
      ],
      "id": "21c3b60e-2d6f-48a8-9e12-ca7c52a6520e"
    },
    {
      "cell_type": "raw",
      "metadata": {
        "raw_mimetype": "text/html"
      },
      "source": [
        "<!--     corresponding change in bill length by Adelie penguins. -->"
      ],
      "id": "1c37729f-96c6-48ba-bc0a-ebe606e59f1b"
    },
    {
      "cell_type": "raw",
      "metadata": {
        "raw_mimetype": "text/html"
      },
      "source": [
        "<!-- **Effect plots for interacting categorical predictors** -->"
      ],
      "id": "521ffdf3-bcb3-4e16-bcdc-56062f7bf919"
    },
    {
      "cell_type": "raw",
      "metadata": {
        "raw_mimetype": "text/html"
      },
      "source": [
        "<!-- --- -->"
      ],
      "id": "55b49c6a-02b6-4fa5-a2d0-386af20f41c5"
    },
    {
      "cell_type": "raw",
      "metadata": {
        "raw_mimetype": "text/html"
      },
      "source": [
        "<!-- We now discuss construction of effect plots for a separate lines model, -->"
      ],
      "id": "1504548e-1387-402b-935f-e08b586a3033"
    },
    {
      "cell_type": "raw",
      "metadata": {
        "raw_mimetype": "text/html"
      },
      "source": [
        "<!-- which has an interaction between a categorical and numeric predictor. -->"
      ],
      "id": "12dcbc59-f909-473a-b20e-d62a215282d6"
    },
    {
      "cell_type": "raw",
      "metadata": {
        "raw_mimetype": "text/html"
      },
      "source": [
        "<!-- Fox et al. (2020) also discuss predictors in the *conditioning group*, which is the set of predictors that interact with the focal predictor. -->"
      ],
      "id": "f84f7b95-ed3e-4fe1-a9c3-c2dd6200931d"
    },
    {
      "cell_type": "raw",
      "metadata": {
        "raw_mimetype": "text/html"
      },
      "source": [
        "<!-- When some predictors interact with the focal predictor, the effect plot -->"
      ],
      "id": "7a52c05a-8e1c-44e7-b8a7-379e3d1a29eb"
    },
    {
      "cell_type": "raw",
      "metadata": {
        "raw_mimetype": "text/html"
      },
      "source": [
        "<!-- of the focal predictor is a plot of the estimated mean response when the -->"
      ],
      "id": "a4341b3d-41e8-4be5-af94-e900a29a8681"
    },
    {
      "cell_type": "raw",
      "metadata": {
        "raw_mimetype": "text/html"
      },
      "source": [
        "<!-- fixed group predictors are held at their typical values and the -->"
      ],
      "id": "166803de-66b1-4396-8855-2bd16eec6dd7"
    },
    {
      "cell_type": "raw",
      "metadata": {
        "raw_mimetype": "text/html"
      },
      "source": [
        "<!-- conditioning group predictors vary over different combinations of -->"
      ],
      "id": "7225d498-917a-4bc1-b73c-73cc7b4ee7ab"
    },
    {
      "cell_type": "raw",
      "metadata": {
        "raw_mimetype": "text/html"
      },
      "source": [
        "<!-- discrete values.  -->"
      ],
      "id": "57f2d5f9-0a1a-4d48-9573-fa3bfa6b5a30"
    },
    {
      "cell_type": "raw",
      "metadata": {
        "raw_mimetype": "text/html"
      },
      "source": [
        "<!-- By default, to compute the -->"
      ],
      "id": "9511b099-0895-465d-921d-80691aab79c0"
    },
    {
      "cell_type": "raw",
      "metadata": {
        "raw_mimetype": "text/html"
      },
      "source": [
        "<!-- estimated mean response as a function of the focal predictor, we: -->"
      ],
      "id": "77b8c588-8f67-4580-8a3c-ea3a7787b44c"
    },
    {
      "cell_type": "raw",
      "metadata": {
        "raw_mimetype": "text/html"
      },
      "source": [
        "<!-- -   Hold the numeric fixed group predictors at their sample means. -->"
      ],
      "id": "48e8cbec-75e8-40c5-ab56-c1638c89e692"
    },
    {
      "cell_type": "raw",
      "metadata": {
        "raw_mimetype": "text/html"
      },
      "source": [
        "<!-- -   Average the estimated mean response equation across the different -->"
      ],
      "id": "e321ff41-290b-4f7b-8d56-ba432d6c264a"
    },
    {
      "cell_type": "raw",
      "metadata": {
        "raw_mimetype": "text/html"
      },
      "source": [
        "<!--     levels of a fixed group categorical predictor, with weights equal to -->"
      ],
      "id": "14673c51-e025-4f52-9c6a-dcf4fcf20e19"
    },
    {
      "cell_type": "raw",
      "metadata": {
        "raw_mimetype": "text/html"
      },
      "source": [
        "<!--     the number of observations with each level. -->"
      ],
      "id": "1a23affb-3226-451b-9fbe-3735fe697d78"
    },
    {
      "cell_type": "raw",
      "metadata": {
        "raw_mimetype": "text/html"
      },
      "source": [
        "<!-- -   Compute the estimated mean response function for 5 discrete -->"
      ],
      "id": "ebabb965-35ff-4ba1-9945-483e8252ff8e"
    },
    {
      "cell_type": "raw",
      "metadata": {
        "raw_mimetype": "text/html"
      },
      "source": [
        "<!--     values of numeric predictors in the conditioning group. -->"
      ],
      "id": "e2d40767-9331-4d8f-ac81-d33354d7418a"
    },
    {
      "cell_type": "raw",
      "metadata": {
        "raw_mimetype": "text/html"
      },
      "source": [
        "<!-- -   Compute the estimated mean response function for different levels -->"
      ],
      "id": "c33fa972-97f8-4442-8ff9-66afebf7de1f"
    },
    {
      "cell_type": "raw",
      "metadata": {
        "raw_mimetype": "text/html"
      },
      "source": [
        "<!--     of a categorical predictor in the conditioning group. -->"
      ],
      "id": "d8f7c494-6b92-45a7-ad97-583de3c9b82d"
    },
    {
      "cell_type": "raw",
      "metadata": {
        "raw_mimetype": "text/html"
      },
      "source": [
        "<!-- We provide examples of the effect plots for the `body_mass_g` and -->"
      ],
      "id": "8c1aae00-a312-4bb8-8a8d-8c595ec54d16"
    },
    {
      "cell_type": "raw",
      "metadata": {
        "raw_mimetype": "text/html"
      },
      "source": [
        "<!-- `species` predictors for the separate lines model fit to the `penguins` -->"
      ],
      "id": "e7c44ccd-e7da-459d-8096-0101b3a4cbca"
    },
    {
      "cell_type": "raw",
      "metadata": {
        "raw_mimetype": "text/html"
      },
      "source": [
        "<!-- data. We first run the code below to fit the separate lines model we previously fit: -->"
      ],
      "id": "c7e274cf-f8c7-4f26-88d2-c13fbfb767b2"
    },
    {
      "cell_type": "raw",
      "metadata": {
        "raw_mimetype": "text/html"
      },
      "source": [
        "<!-- ```{r} -->"
      ],
      "id": "7b95b3a3-8dfb-4443-a859-9813fc96ed42"
    },
    {
      "cell_type": "raw",
      "metadata": {
        "raw_mimetype": "text/html"
      },
      "source": [
        "<!-- # fit separate lines model -->"
      ],
      "id": "5540e0d8-f7da-44be-92c4-75f2073469aa"
    },
    {
      "cell_type": "raw",
      "metadata": {
        "raw_mimetype": "text/html"
      },
      "source": [
        "<!-- lmods <- lm(bill_length_mm ~ body_mass_g + species + body_mass_g:species, -->"
      ],
      "id": "02355ecc-dc51-451c-b92d-0a3be465ad39"
    },
    {
      "cell_type": "raw",
      "metadata": {
        "raw_mimetype": "text/html"
      },
      "source": [
        "<!--             data = penguins) -->"
      ],
      "id": "6af19099-5acd-4cbd-b50b-9ff58d381dba"
    },
    {
      "cell_type": "raw",
      "metadata": {
        "raw_mimetype": "text/html"
      },
      "source": [
        "<!-- # extract estimated coefficients -->"
      ],
      "id": "49a69f9e-bb23-4a66-8dcc-8140e521819c"
    },
    {
      "cell_type": "raw",
      "metadata": {
        "raw_mimetype": "text/html"
      },
      "source": [
        "<!-- coef(lmods) -->"
      ],
      "id": "c8454045-78b5-4283-9740-974920fdd70d"
    },
    {
      "cell_type": "raw",
      "metadata": {
        "raw_mimetype": "text/html"
      },
      "source": [
        "<!-- ``` -->"
      ],
      "id": "8ea8b00f-5012-4a94-b0dc-39a39406e0af"
    },
    {
      "cell_type": "raw",
      "metadata": {
        "raw_mimetype": "text/html"
      },
      "source": [
        "<!-- We previously determined that the model simplifies depending on the level of species: -->"
      ],
      "id": "7fa13ff4-adc7-48f8-b19c-8cedf68a43a8"
    },
    {
      "cell_type": "raw",
      "metadata": {
        "raw_mimetype": "text/html"
      },
      "source": [
        "<!-- $$ -->"
      ],
      "id": "d91ea892-3457-4c6c-ae34-26db97502f73"
    },
    {
      "cell_type": "raw",
      "metadata": {
        "raw_mimetype": "text/html"
      },
      "source": [
        "<!-- \\begin{aligned} -->"
      ],
      "id": "47094580-b0a7-4cea-8b4b-bd6a045b87cf"
    },
    {
      "cell_type": "raw",
      "metadata": {
        "raw_mimetype": "text/html"
      },
      "source": [
        "<!-- &\\hat{E}(\\mathtt{bill\\_length\\_mm} \\mid \\mathtt{body\\_mass\\_g}, \\mathtt{species}=\\mathtt{Adelie}) \\\\ -->"
      ],
      "id": "6b586b9f-1fd6-48c5-b0b7-b750ce312293"
    },
    {
      "cell_type": "raw",
      "metadata": {
        "raw_mimetype": "text/html"
      },
      "source": [
        "<!-- &= 26.99 + 0.003 \\mathtt{body\\_mass\\_g},\\\\ -->"
      ],
      "id": "c2cda115-bc0d-4822-8f41-39c7bc9c5a72"
    },
    {
      "cell_type": "raw",
      "metadata": {
        "raw_mimetype": "text/html"
      },
      "source": [
        "<!-- &\\hat{E}(\\mathtt{bill\\_length\\_mm} \\mid \\mathtt{body\\_mass\\_g}, \\mathtt{species}=\\mathtt{Chinstrap}) \\\\ -->"
      ],
      "id": "7882a9b1-22c4-4713-96d2-915d52847eab"
    },
    {
      "cell_type": "raw",
      "metadata": {
        "raw_mimetype": "text/html"
      },
      "source": [
        "<!-- &= 31.17 + 0.004 \\mathtt{body\\_mass\\_g},\\\\ -->"
      ],
      "id": "2b1428c8-6086-4fab-bdf4-a08916f1a4f3"
    },
    {
      "cell_type": "raw",
      "metadata": {
        "raw_mimetype": "text/html"
      },
      "source": [
        "<!-- &\\hat{E}(\\mathtt{bill\\_length\\_mm} \\mid \\mathtt{body\\_mass\\_g}, \\mathtt{species}=\\mathtt{Chinstrap}) \\\\ -->"
      ],
      "id": "124d5e09-127e-4a73-b260-59fa9c081c49"
    },
    {
      "cell_type": "raw",
      "metadata": {
        "raw_mimetype": "text/html"
      },
      "source": [
        "<!-- &= 26.74 + 0.004 \\mathtt{body\\_mass\\_g}. -->"
      ],
      "id": "418f7f31-20ef-4965-a06f-44078644f080"
    },
    {
      "cell_type": "raw",
      "metadata": {
        "raw_mimetype": "text/html"
      },
      "source": [
        "<!-- \\end{aligned} -->"
      ],
      "id": "343f3840-e05d-4a43-9e5f-3668e2a828dc"
    },
    {
      "cell_type": "raw",
      "metadata": {
        "raw_mimetype": "text/html"
      },
      "source": [
        "<!-- $$ -->"
      ],
      "id": "86d92737-6dc7-46d7-b479-0417f8f68534"
    },
    {
      "cell_type": "raw",
      "metadata": {
        "raw_mimetype": "text/html"
      },
      "source": [
        "<!-- The effect plot of `body_mass_g` for the separate lines model is displayed using the code below.  -->"
      ],
      "id": "026f4d13-e97e-402c-a3aa-910bdf895c5d"
    },
    {
      "cell_type": "raw",
      "metadata": {
        "raw_mimetype": "text/html"
      },
      "source": [
        "<!-- - The `axes` argument to rotates the x-axis labels (otherwise the text overlaps) -->"
      ],
      "id": "80fc2659-2e7a-4632-ba8e-cf6642df0ace"
    },
    {
      "cell_type": "raw",
      "metadata": {
        "raw_mimetype": "text/html"
      },
      "source": [
        "<!-- - The `lines` argument displays all three lines in one graphic instead of a -->"
      ],
      "id": "a2529994-af3a-4009-a346-f3cba204a351"
    },
    {
      "cell_type": "raw",
      "metadata": {
        "raw_mimetype": "text/html"
      },
      "source": [
        "<!-- separate panel for each level of `species`.  -->"
      ],
      "id": "684c3b76-f572-4cc1-a108-408b59db4058"
    },
    {
      "cell_type": "raw",
      "metadata": {
        "raw_mimetype": "text/html"
      },
      "source": [
        "<!-- ```{r} -->"
      ],
      "id": "5b8824ec-97aa-4aed-96df-706298b1efb1"
    },
    {
      "cell_type": "raw",
      "metadata": {
        "raw_mimetype": "text/html"
      },
      "source": [
        "<!-- # effect plot of body mass for separate lines model -->"
      ],
      "id": "c80c6e3b-0ec5-4850-af75-e49d1b81785f"
    },
    {
      "cell_type": "raw",
      "metadata": {
        "raw_mimetype": "text/html"
      },
      "source": [
        "<!-- # axes ... rotates the x-axis labels 90 degrees -->"
      ],
      "id": "a58a297e-6eb5-4c87-9e52-25a458774489"
    },
    {
      "cell_type": "raw",
      "metadata": {
        "raw_mimetype": "text/html"
      },
      "source": [
        "<!-- # lines ... plots the effect of body mass in one graphic -->"
      ],
      "id": "b61ea903-a1b1-4c49-88a6-762cd6fbe130"
    },
    {
      "cell_type": "raw",
      "metadata": {
        "raw_mimetype": "text/html"
      },
      "source": [
        "<!-- plot(predictorEffect(\"body_mass_g\", lmods), -->"
      ],
      "id": "22ba4ed2-835e-4620-a1e2-bcd79fef368c"
    },
    {
      "cell_type": "raw",
      "metadata": {
        "raw_mimetype": "text/html"
      },
      "source": [
        "<!--      axes = list(x = list(rotate = 90)), -->"
      ],
      "id": "3571987f-b53a-49b4-a8ea-2f0a412d3e79"
    },
    {
      "cell_type": "raw",
      "metadata": {
        "raw_mimetype": "text/html"
      },
      "source": [
        "<!--      lines = list(multiline = TRUE)) -->"
      ],
      "id": "9574a361-fab1-4273-a020-8cbb345f6012"
    },
    {
      "cell_type": "raw",
      "metadata": {
        "raw_mimetype": "text/html"
      },
      "source": [
        "<!-- ``` -->"
      ],
      "id": "fbb6e842-9032-4fb4-b268-19512f732358"
    },
    {
      "cell_type": "raw",
      "metadata": {
        "raw_mimetype": "text/html"
      },
      "source": [
        "<!-- Interpretation: -->"
      ],
      "id": "2e12612a-62a1-4097-94c2-47705325cdab"
    },
    {
      "cell_type": "raw",
      "metadata": {
        "raw_mimetype": "text/html"
      },
      "source": [
        "<!-- - Chinstrap penguins tend to have the largest bill lengths for a given value of body mass and the bill lengths increase more quickly as a function of body mass then for the Adelie and Gentoo penguins. -->"
      ],
      "id": "62361247-102f-405c-86d0-c103a2e7bdd6"
    },
    {
      "cell_type": "raw",
      "metadata": {
        "raw_mimetype": "text/html"
      },
      "source": [
        "<!-- - Adelie penguins tend to have the smallest bill length for a fixed value of body mass and the bill length tends to increase more slowly as body mass increases -->"
      ],
      "id": "a748aa16-f777-4798-acb3-453258dea121"
    },
    {
      "cell_type": "raw",
      "metadata": {
        "raw_mimetype": "text/html"
      },
      "source": [
        "<!-- compared to the other two types of penguins. -->"
      ],
      "id": "8d02ced1-8939-4269-8395-12775773a0c5"
    },
    {
      "cell_type": "raw",
      "metadata": {
        "raw_mimetype": "text/html"
      },
      "source": [
        "<!-- The effect plot of `species` for the separate lines model will be a plot -->"
      ],
      "id": "7fd48d14-2972-4016-8da8-7e07cada6d7b"
    },
    {
      "cell_type": "raw",
      "metadata": {
        "raw_mimetype": "text/html"
      },
      "source": [
        "<!-- of the estimated mean response for each level of `species` when varying `body_mass_g` over 5 discrete values.  -->"
      ],
      "id": "ce71a82f-c93a-4799-a9f3-4ea3208b4bed"
    },
    {
      "cell_type": "raw",
      "metadata": {
        "raw_mimetype": "text/html"
      },
      "source": [
        "<!-- By specifying `lines = list(multiline = TRUE)`, the estimated mean responses for each level of `species` are connected for each discrete value of -->"
      ],
      "id": "80ebb4e4-51da-42be-85cc-f03feb12dd9f"
    },
    {
      "cell_type": "raw",
      "metadata": {
        "raw_mimetype": "text/html"
      },
      "source": [
        "<!-- `body_mass_g`.  -->"
      ],
      "id": "64f34203-ae87-4aa9-8fa6-9f6f66daf4cc"
    },
    {
      "cell_type": "raw",
      "metadata": {
        "raw_mimetype": "text/html"
      },
      "source": [
        "<!-- This plot allows us to determine the effect of `species` on `bill_length_mm` when we vary `body_mass_g` over 5 discrete values. -->"
      ],
      "id": "0d0dc55a-f814-4af6-bb95-4637027c80bd"
    },
    {
      "cell_type": "raw",
      "metadata": {
        "raw_mimetype": "text/html"
      },
      "source": [
        "<!-- ```{r} -->"
      ],
      "id": "07ce29e0-2b26-46ce-8c8a-78a93f7b1cb3"
    },
    {
      "cell_type": "raw",
      "metadata": {
        "raw_mimetype": "text/html"
      },
      "source": [
        "<!-- # effect plot of body mass for separate lines model -->"
      ],
      "id": "052c83e4-f63d-46c4-a15c-b2938e8fea82"
    },
    {
      "cell_type": "raw",
      "metadata": {
        "raw_mimetype": "text/html"
      },
      "source": [
        "<!-- # axes ... rotates the x-axis labels 90 degrees -->"
      ],
      "id": "67077a07-8939-4ed2-95f6-d232b2e124f5"
    },
    {
      "cell_type": "raw",
      "metadata": {
        "raw_mimetype": "text/html"
      },
      "source": [
        "<!-- # lines ... plots the effect of species in one graphic -->"
      ],
      "id": "056b4efc-e015-4c42-86c9-a32e6ac1b6a5"
    },
    {
      "cell_type": "raw",
      "metadata": {
        "raw_mimetype": "text/html"
      },
      "source": [
        "<!-- plot(predictorEffect(\"species\", lmods), -->"
      ],
      "id": "ce1e4e78-e97a-4e00-bbdf-8eaae2f64d2b"
    },
    {
      "cell_type": "raw",
      "metadata": {
        "raw_mimetype": "text/html"
      },
      "source": [
        "<!--      axes = list(x = list(rotate = 90)), -->"
      ],
      "id": "132751b1-8470-4fce-b97e-c91d98020dd5"
    },
    {
      "cell_type": "raw",
      "metadata": {
        "raw_mimetype": "text/html"
      },
      "source": [
        "<!--      lines=list(multiline = FALSE)) -->"
      ],
      "id": "8405fea2-c96a-4072-965d-64822d5d0633"
    },
    {
      "cell_type": "raw",
      "metadata": {
        "raw_mimetype": "text/html"
      },
      "source": [
        "<!-- ``` -->"
      ],
      "id": "083638e7-7669-406f-b562-7d29df542e7d"
    },
    {
      "cell_type": "raw",
      "metadata": {
        "raw_mimetype": "text/html"
      },
      "source": [
        "<!-- Interpretation: When varying `body_mass_g` across -->"
      ],
      "id": "dd7b8132-99d0-4534-80bf-82795bc1adcf"
    },
    {
      "cell_type": "raw",
      "metadata": {
        "raw_mimetype": "text/html"
      },
      "source": [
        "<!-- the values 2700, 3600, 4500, 5300, and 6300 g, we see greater changes in -->"
      ],
      "id": "800d80d8-2a99-4069-bc42-ba77abcfde61"
    },
    {
      "cell_type": "raw",
      "metadata": {
        "raw_mimetype": "text/html"
      },
      "source": [
        "<!-- the estimated mean of `bill_lengh_mm` for Chinstrap penguins in -->"
      ],
      "id": "f62011ab-9752-4418-ad60-3e4558162b5b"
    },
    {
      "cell_type": "raw",
      "metadata": {
        "raw_mimetype": "text/html"
      },
      "source": [
        "<!-- comparison to Adelie and Gentoo penguins. -->"
      ],
      "id": "5b1acd3a-06ae-4726-bbf3-62ac5a5edb20"
    },
    {
      "cell_type": "raw",
      "metadata": {
        "raw_mimetype": "text/html"
      },
      "source": [
        "<!-- For more details about how to construct effect plots, run the following code to access the \"vignette\". -->"
      ],
      "id": "71db3ba2-59bf-4e75-88a6-f97b17657d04"
    },
    {
      "cell_type": "raw",
      "metadata": {
        "raw_mimetype": "text/html"
      },
      "source": [
        "<!-- ```{r} -->"
      ],
      "id": "708976d2-e625-42c3-9a54-cdad2573fd41"
    },
    {
      "cell_type": "raw",
      "metadata": {
        "raw_mimetype": "text/html"
      },
      "source": [
        "<!-- #| eval: false -->"
      ],
      "id": "43f5cfe7-ddd5-4f9c-9530-3eed177d7b07"
    },
    {
      "cell_type": "raw",
      "metadata": {
        "raw_mimetype": "text/html"
      },
      "source": [
        "<!-- vignette(\"predictor-effects-gallery\", package = \"effects\") -->"
      ],
      "id": "e92e922c-c43b-4192-aa86-d9bea0e8d688"
    },
    {
      "cell_type": "raw",
      "metadata": {
        "raw_mimetype": "text/html"
      },
      "source": [
        "<!-- ``` -->"
      ],
      "id": "10f03584-31a4-4ca9-8823-cbe48bbd27ff"
    },
    {
      "cell_type": "raw",
      "metadata": {
        "raw_mimetype": "text/html"
      },
      "source": [
        "<!-- # Added-variable and leverage plots -->"
      ],
      "id": "9f959c34-80b6-4698-b6cc-a9773db4022a"
    },
    {
      "cell_type": "raw",
      "metadata": {
        "raw_mimetype": "text/html"
      },
      "source": [
        "<!-- **Added-variable plots** -->"
      ],
      "id": "299d96a0-0ca4-4ff5-bdb5-213207a136b8"
    },
    {
      "cell_type": "raw",
      "metadata": {
        "raw_mimetype": "text/html"
      },
      "source": [
        "<!-- --- -->"
      ],
      "id": "8ff392e4-c865-4254-a719-99c2ecd81ba4"
    },
    {
      "cell_type": "raw",
      "metadata": {
        "raw_mimetype": "text/html"
      },
      "source": [
        "<!-- As we saw before, an *effect plot* is a plot -->"
      ],
      "id": "c877fd15-ac08-4e8c-abc4-0b83ea751ac5"
    },
    {
      "cell_type": "raw",
      "metadata": {
        "raw_mimetype": "text/html"
      },
      "source": [
        "<!-- of the estimated mean relationship between the response and a focal -->"
      ],
      "id": "e619a2f7-22dd-4122-b0e0-4d6b46e47ba3"
    },
    {
      "cell_type": "raw",
      "metadata": {
        "raw_mimetype": "text/html"
      },
      "source": [
        "<!-- predictor while holding the model's predictors at typical values, -->"
      ],
      "id": "b065b776-9d9e-43a7-9fce-0b5065e2e12c"
    },
    {
      "cell_type": "raw",
      "metadata": {
        "raw_mimetype": "text/html"
      },
      "source": [
        "<!-- An *added-variable plot* or *partial regression plot* displays the -->"
      ],
      "id": "42985abf-05c0-4275-8b67-d1c741ce2185"
    },
    {
      "cell_type": "raw",
      "metadata": {
        "raw_mimetype": "text/html"
      },
      "source": [
        "<!-- marginal effect of a regressor on the response after accounting for the -->"
      ],
      "id": "26153e8c-21a3-4888-a7e6-3eb54b605cd5"
    },
    {
      "cell_type": "raw",
      "metadata": {
        "raw_mimetype": "text/html"
      },
      "source": [
        "<!-- other regressors in the model. An added-variable plot is a plot of two sets of residuals against one other. -->"
      ],
      "id": "95f1a6ef-02e7-4465-acd1-e75044d5584c"
    },
    {
      "cell_type": "raw",
      "metadata": {
        "raw_mimetype": "text/html"
      },
      "source": [
        "<!-- We create an added-variable plot for regressor $X_j$ in the following -->"
      ],
      "id": "e3ccb0aa-6a22-487d-9426-3e197cd30b65"
    },
    {
      "cell_type": "raw",
      "metadata": {
        "raw_mimetype": "text/html"
      },
      "source": [
        "<!-- way: -->"
      ],
      "id": "a54e6d86-df2e-4ac5-9d24-3c690914ffa4"
    },
    {
      "cell_type": "raw",
      "metadata": {
        "raw_mimetype": "text/html"
      },
      "source": [
        "<!-- 1.  Compute the residuals of the model regressing the response $Y$ on -->"
      ],
      "id": "8a0c13c5-8d84-4562-bd44-9a4a2ee1592d"
    },
    {
      "cell_type": "raw",
      "metadata": {
        "raw_mimetype": "text/html"
      },
      "source": [
        "<!--     all regressors except $X_j$. We denote these residuals -->"
      ],
      "id": "374cc2f6-76ab-4f42-879d-f8e38f02264a"
    },
    {
      "cell_type": "raw",
      "metadata": {
        "raw_mimetype": "text/html"
      },
      "source": [
        "<!--     $\\hat{\\boldsymbol{\\epsilon}}(Y\\mid \\mathbb{X}_{-j})$. These -->"
      ],
      "id": "a61ccd74-e6b1-45f9-892d-c6329f9e6933"
    },
    {
      "cell_type": "raw",
      "metadata": {
        "raw_mimetype": "text/html"
      },
      "source": [
        "<!--     residuals represent the part of the response variable not explained -->"
      ],
      "id": "6ff06c10-6bf9-4d09-87a3-9a4804b1b564"
    },
    {
      "cell_type": "raw",
      "metadata": {
        "raw_mimetype": "text/html"
      },
      "source": [
        "<!--     by the regressors in $\\mathbb{X}_{-j}$. -->"
      ],
      "id": "e909923b-0754-4d91-b617-ae1cf2ce7c36"
    },
    {
      "cell_type": "raw",
      "metadata": {
        "raw_mimetype": "text/html"
      },
      "source": [
        "<!-- 2.  Compute the residuals of the model regressing the regressor $X_j$ on -->"
      ],
      "id": "5d412409-dc30-4763-998e-ff534245e03f"
    },
    {
      "cell_type": "raw",
      "metadata": {
        "raw_mimetype": "text/html"
      },
      "source": [
        "<!--     all regressors except $X_j$. We denote these residuals -->"
      ],
      "id": "ca04763c-2a58-457f-a42c-63f20e10592f"
    },
    {
      "cell_type": "raw",
      "metadata": {
        "raw_mimetype": "text/html"
      },
      "source": [
        "<!--     $\\hat{\\boldsymbol{\\epsilon}}(X_j \\mid \\mathbb{X}_{-j})$. These -->"
      ],
      "id": "dd64e810-2bba-4098-a44c-e968209b8c84"
    },
    {
      "cell_type": "raw",
      "metadata": {
        "raw_mimetype": "text/html"
      },
      "source": [
        "<!--     residuals represent the part of the $X_j$ not explained by the -->"
      ],
      "id": "4e358d9b-3602-4605-9116-2bbfadb7758b"
    },
    {
      "cell_type": "raw",
      "metadata": {
        "raw_mimetype": "text/html"
      },
      "source": [
        "<!--     regressors in $\\mathbb{X}_{-j}$. Alternatively, these residuals -->"
      ],
      "id": "fd14bcf4-b82b-4868-84b2-6853286e20ec"
    },
    {
      "cell_type": "raw",
      "metadata": {
        "raw_mimetype": "text/html"
      },
      "source": [
        "<!--     represent the amount of additional information $X_j$ provides after -->"
      ],
      "id": "d431aab6-62f5-4050-a7f2-6214a11b28f9"
    },
    {
      "cell_type": "raw",
      "metadata": {
        "raw_mimetype": "text/html"
      },
      "source": [
        "<!--     accounting for the regressors in $\\mathbb{X}_{-j}$. -->"
      ],
      "id": "95efdce4-dc38-4d7b-b490-d0650080a14a"
    },
    {
      "cell_type": "raw",
      "metadata": {
        "raw_mimetype": "text/html"
      },
      "source": [
        "<!-- 3.  The added-variable plot for $X_j$ is a plot of -->"
      ],
      "id": "304f3a61-504e-4b7e-8e35-dcdaf5a0392c"
    },
    {
      "cell_type": "raw",
      "metadata": {
        "raw_mimetype": "text/html"
      },
      "source": [
        "<!--     $\\hat{\\boldsymbol{\\epsilon}}(Y\\mid \\mathbb{X}_{-j})$ on the y-axis -->"
      ],
      "id": "df5b9259-170c-4298-aa01-8ddf94e75614"
    },
    {
      "cell_type": "raw",
      "metadata": {
        "raw_mimetype": "text/html"
      },
      "source": [
        "<!--     and $\\hat{\\boldsymbol{\\epsilon}}(X_j \\mid \\mathbb{X}_{-j})$ on the -->"
      ],
      "id": "4526e5ec-ecc6-4990-9e43-9abe392678d3"
    },
    {
      "cell_type": "raw",
      "metadata": {
        "raw_mimetype": "text/html"
      },
      "source": [
        "<!--     x-axis. -->"
      ],
      "id": "bba6537c-da25-4105-b207-ac970a024ccc"
    },
    {
      "cell_type": "raw",
      "metadata": {
        "raw_mimetype": "text/html"
      },
      "source": [
        "<!-- Added-variable plots allow us to visualize the impact a regressor has -->"
      ],
      "id": "81e0efff-922c-4f51-89a4-ccd47ea3d203"
    },
    {
      "cell_type": "raw",
      "metadata": {
        "raw_mimetype": "text/html"
      },
      "source": [
        "<!-- when added to an existing regression model. We can use the -->"
      ],
      "id": "60442902-f064-4615-8852-eeae220843cd"
    },
    {
      "cell_type": "raw",
      "metadata": {
        "raw_mimetype": "text/html"
      },
      "source": [
        "<!-- added-variable plot for $X_j$ to visually estimate the partial slope -->"
      ],
      "id": "ada33fcd-aa51-4da4-8b8d-32f0ea3d2c77"
    },
    {
      "cell_type": "raw",
      "metadata": {
        "raw_mimetype": "text/html"
      },
      "source": [
        "<!-- $\\hat{\\beta}_{j}$. The simple linear -->"
      ],
      "id": "bc497f99-cf48-465b-b631-3057a94c71e6"
    },
    {
      "cell_type": "raw",
      "metadata": {
        "raw_mimetype": "text/html"
      },
      "source": [
        "<!-- regression line that minimizes the RSS for the added-variable plot of -->"
      ],
      "id": "76f2ce41-d8a9-45f4-99d8-c6b1452dc08e"
    },
    {
      "cell_type": "raw",
      "metadata": {
        "raw_mimetype": "text/html"
      },
      "source": [
        "<!-- $X_j$ will have slope $\\hat{\\beta}_j$. -->"
      ],
      "id": "fe6fdb36-1af9-48ee-930e-12a89ea66a10"
    },
    {
      "cell_type": "raw",
      "metadata": {
        "raw_mimetype": "text/html"
      },
      "source": [
        "<!-- We can use an added-variable plot in several ways: -->"
      ],
      "id": "bbe3a6f0-e064-4563-bef2-06d6abe5e9c8"
    },
    {
      "cell_type": "raw",
      "metadata": {
        "raw_mimetype": "text/html"
      },
      "source": [
        "<!-- 1.  To assess the marginal relationship between $X_j$ and $Y$ after -->"
      ],
      "id": "06dc4d6e-e76c-479f-ab5b-78f29353891c"
    },
    {
      "cell_type": "raw",
      "metadata": {
        "raw_mimetype": "text/html"
      },
      "source": [
        "<!--     accounting for all of the other variables in the model. -->"
      ],
      "id": "5e930cc7-4bfb-41d1-8d90-ea39e62e83d8"
    },
    {
      "cell_type": "raw",
      "metadata": {
        "raw_mimetype": "text/html"
      },
      "source": [
        "<!-- 2.  To assess the strength of this marginal relationship. -->"
      ],
      "id": "4b2ce987-c29f-4162-aff4-dba0831e4326"
    },
    {
      "cell_type": "raw",
      "metadata": {
        "raw_mimetype": "text/html"
      },
      "source": [
        "<!-- 3.  To identify deficiencies in our fitted model. -->"
      ],
      "id": "23cdbf12-1153-40c7-b58f-c3b5721d5ae6"
    },
    {
      "cell_type": "raw",
      "metadata": {
        "raw_mimetype": "text/html"
      },
      "source": [
        "<!-- 4.  To identify outliers and observations influential in determining the -->"
      ],
      "id": "1b9eb605-dc06-4ffc-8147-1f8d24cf73f2"
    },
    {
      "cell_type": "raw",
      "metadata": {
        "raw_mimetype": "text/html"
      },
      "source": [
        "<!--     estimated partial slope. -->"
      ],
      "id": "de78f087-4146-4baa-8796-c82a68bc1e30"
    },
    {
      "cell_type": "raw",
      "metadata": {
        "raw_mimetype": "text/html"
      },
      "source": [
        "<!-- In regards to point 1 and 2: -->"
      ],
      "id": "27bceeaf-817a-4b61-9357-7b217f1ebb9c"
    },
    {
      "cell_type": "raw",
      "metadata": {
        "raw_mimetype": "text/html"
      },
      "source": [
        "<!-- -   If the added-variable plot for $X_j$ is essentially a scatter of -->"
      ],
      "id": "541d6e23-1d67-435f-979b-292be37dec90"
    },
    {
      "cell_type": "raw",
      "metadata": {
        "raw_mimetype": "text/html"
      },
      "source": [
        "<!--     points with slope zero, then $X_j$ can do little to explain $Y$ -->"
      ],
      "id": "64e344ec-9fa6-4646-a023-34fae407a685"
    },
    {
      "cell_type": "raw",
      "metadata": {
        "raw_mimetype": "text/html"
      },
      "source": [
        "<!--     after accounting for the other regressors. -->"
      ],
      "id": "2d6d0aaf-79ee-44fa-a58a-bfb2093008bb"
    },
    {
      "cell_type": "raw",
      "metadata": {
        "raw_mimetype": "text/html"
      },
      "source": [
        "<!-- -   If the points in an added-variable plot for $X_j$ have a linear -->"
      ],
      "id": "4cfb986f-4397-41c5-bac7-25436fd0ef46"
    },
    {
      "cell_type": "raw",
      "metadata": {
        "raw_mimetype": "text/html"
      },
      "source": [
        "<!--     relationship, then adding $X_j$ to the model regressing $Y$ on -->"
      ],
      "id": "7124a914-25d8-4951-b983-d0aef6c4c72e"
    },
    {
      "cell_type": "raw",
      "metadata": {
        "raw_mimetype": "text/html"
      },
      "source": [
        "<!--     $\\mathbb{X}_{-j}$ is expected to improve our model's ability to -->"
      ],
      "id": "84c18609-eb1c-4ecf-87e8-787ab7f7452e"
    },
    {
      "cell_type": "raw",
      "metadata": {
        "raw_mimetype": "text/html"
      },
      "source": [
        "<!--     predict the behavior of $Y$.  -->"
      ],
      "id": "af6bf48e-932c-44ad-aaa9-2446fec27fec"
    },
    {
      "cell_type": "raw",
      "metadata": {
        "raw_mimetype": "text/html"
      },
      "source": [
        "<!-- -   If the points in an added-variable plot for $X_j$ are curved, it -->"
      ],
      "id": "761a4f11-566f-4015-8658-c85476ec6093"
    },
    {
      "cell_type": "raw",
      "metadata": {
        "raw_mimetype": "text/html"
      },
      "source": [
        "<!--     indicates that that there is a deficiency in the fitted model -->"
      ],
      "id": "c52a0db1-dbb9-4dcd-b52c-9c676328d16c"
    },
    {
      "cell_type": "raw",
      "metadata": {
        "raw_mimetype": "text/html"
      },
      "source": [
        "<!--     (likely because we need to include one or more additional regressors -->"
      ],
      "id": "969ff758-1161-4fa7-a5f5-2679d7f162df"
    },
    {
      "cell_type": "raw",
      "metadata": {
        "raw_mimetype": "text/html"
      },
      "source": [
        "<!--     to the model). -->"
      ],
      "id": "b3263d22-7cda-4281-a6d1-860aaeac7de9"
    },
    {
      "cell_type": "raw",
      "metadata": {
        "raw_mimetype": "text/html"
      },
      "source": [
        "<!-- ```{r} -->"
      ],
      "id": "88942483-534a-4823-bf76-c701d6735b0a"
    },
    {
      "cell_type": "raw",
      "metadata": {
        "raw_mimetype": "text/html"
      },
      "source": [
        "<!-- #| echo: false -->"
      ],
      "id": "a39428c7-8968-4662-ba6f-badc5597572e"
    },
    {
      "cell_type": "raw",
      "metadata": {
        "raw_mimetype": "text/html"
      },
      "source": [
        "<!-- #| eval: true -->"
      ],
      "id": "474086a5-2c7c-4e10-9979-ff4bde4921c2"
    },
    {
      "cell_type": "raw",
      "metadata": {
        "raw_mimetype": "text/html"
      },
      "source": [
        "<!-- #| output: true -->"
      ],
      "id": "9a4712c6-80dd-40b2-b5a4-b486ea4b18f5"
    },
    {
      "cell_type": "raw",
      "metadata": {
        "raw_mimetype": "text/html"
      },
      "source": [
        "<!-- par(mfrow = c(1, 3), pty = \"s\") -->"
      ],
      "id": "f0345dac-5fb1-4ef7-ad73-eabdfb5ebab0"
    },
    {
      "cell_type": "raw",
      "metadata": {
        "raw_mimetype": "text/html"
      },
      "source": [
        "<!-- set.seed(71) -->"
      ],
      "id": "681b4a2b-8ad6-43ce-b273-aa19960d9bb7"
    },
    {
      "cell_type": "raw",
      "metadata": {
        "raw_mimetype": "text/html"
      },
      "source": [
        "<!-- x <- runif(30, -1, 1) -->"
      ],
      "id": "e9759426-9953-4603-8564-6d67a4085186"
    },
    {
      "cell_type": "raw",
      "metadata": {
        "raw_mimetype": "text/html"
      },
      "source": [
        "<!-- y1 <- rnorm(30) -->"
      ],
      "id": "0d6f9fe9-2e20-4e90-bd2c-dc5d09e07228"
    },
    {
      "cell_type": "raw",
      "metadata": {
        "raw_mimetype": "text/html"
      },
      "source": [
        "<!-- y2 <- 0.2 + 0.3 * x + rnorm(30, sd = 0.05) -->"
      ],
      "id": "a528032d-7977-47f4-95cf-341c0be338e4"
    },
    {
      "cell_type": "raw",
      "metadata": {
        "raw_mimetype": "text/html"
      },
      "source": [
        "<!-- y3 <- 0.2 + 0.6 * x + 0.6 * x^2 + rnorm(30, sd = 0.1) -->"
      ],
      "id": "60ba1d56-7a43-40d3-ba39-888c35687f27"
    },
    {
      "cell_type": "raw",
      "metadata": {
        "raw_mimetype": "text/html"
      },
      "source": [
        "<!-- plot(y1 ~ x, ylab = \"Y | others\", -->"
      ],
      "id": "346d0582-4352-4a86-aaee-9a9f77843dbc"
    },
    {
      "cell_type": "raw",
      "metadata": {
        "raw_mimetype": "text/html"
      },
      "source": [
        "<!--      xlab = expression(paste(X[j], \" | others\"))) -->"
      ],
      "id": "e0e56adf-03de-4536-adf6-9f55db4cb048"
    },
    {
      "cell_type": "raw",
      "metadata": {
        "raw_mimetype": "text/html"
      },
      "source": [
        "<!-- title(\"(a)\") -->"
      ],
      "id": "6f4b41ac-0dfc-432a-ab74-2611198f8df1"
    },
    {
      "cell_type": "raw",
      "metadata": {
        "raw_mimetype": "text/html"
      },
      "source": [
        "<!-- plot(y2 ~ x, ylab = \"Y | others\", -->"
      ],
      "id": "c3a12f24-982d-4078-bc32-413c72e53674"
    },
    {
      "cell_type": "raw",
      "metadata": {
        "raw_mimetype": "text/html"
      },
      "source": [
        "<!--      xlab = expression(paste(X[j], \" | others\"))) -->"
      ],
      "id": "9255d2d8-3a03-45dc-afc1-9b64fc61fa34"
    },
    {
      "cell_type": "raw",
      "metadata": {
        "raw_mimetype": "text/html"
      },
      "source": [
        "<!-- title(\"(b)\") -->"
      ],
      "id": "f21396cd-f069-4ef7-82d9-0b48725a6d70"
    },
    {
      "cell_type": "raw",
      "metadata": {
        "raw_mimetype": "text/html"
      },
      "source": [
        "<!-- plot(y3 ~ x, ylab = \"Y | others\", -->"
      ],
      "id": "0f0d4e8c-e411-4bb8-b795-c13412521207"
    },
    {
      "cell_type": "raw",
      "metadata": {
        "raw_mimetype": "text/html"
      },
      "source": [
        "<!--      xlab = expression(paste(X[j], \" | others\"))) -->"
      ],
      "id": "7cb3a576-2ec5-4865-a27f-5c7c5db8dd9d"
    },
    {
      "cell_type": "raw",
      "metadata": {
        "raw_mimetype": "text/html"
      },
      "source": [
        "<!-- title(\"(c)\") -->"
      ],
      "id": "98f1c1ed-5df7-40f0-93ed-58fce6ac1105"
    },
    {
      "cell_type": "raw",
      "metadata": {
        "raw_mimetype": "text/html"
      },
      "source": [
        "<!-- par(mfrow = c(1, 1)) -->"
      ],
      "id": "ec0094ad-daca-4c59-b903-a8492b191faa"
    },
    {
      "cell_type": "raw",
      "metadata": {
        "raw_mimetype": "text/html"
      },
      "source": [
        "<!-- ``` -->"
      ],
      "id": "7198b564-178e-4bdb-aad8-440ee7d53692"
    },
    {
      "cell_type": "raw",
      "metadata": {
        "raw_mimetype": "text/html"
      },
      "source": [
        "<!-- **Question** -->"
      ],
      "id": "51f4731d-68d1-4b52-a44d-e80e40498184"
    },
    {
      "cell_type": "raw",
      "metadata": {
        "raw_mimetype": "text/html"
      },
      "source": [
        "<!-- - What do the three plots tell us about our model? -->"
      ],
      "id": "c4d214d5-ac8a-4426-80b4-86ff37412cc0"
    },
    {
      "cell_type": "raw",
      "metadata": {
        "raw_mimetype": "text/html"
      },
      "source": [
        "<!-- From the **car** package, the `avPlot` function will -->"
      ],
      "id": "b02a4bed-6b41-4413-bff5-60406f45b794"
    },
    {
      "cell_type": "raw",
      "metadata": {
        "raw_mimetype": "text/html"
      },
      "source": [
        "<!-- produce an added-variable plot for a single regressor while the -->"
      ],
      "id": "8aa5adca-534b-48a0-a50e-4171fb689df5"
    },
    {
      "cell_type": "raw",
      "metadata": {
        "raw_mimetype": "text/html"
      },
      "source": [
        "<!-- `avPlots` function will produce added-variable plots for one or more -->"
      ],
      "id": "8287a5ab-23e0-448f-917d-ca9128ddf6a3"
    },
    {
      "cell_type": "raw",
      "metadata": {
        "raw_mimetype": "text/html"
      },
      "source": [
        "<!-- regressors. -->"
      ],
      "id": "97f5f290-5086-42a4-8add-1dbe1239a77d"
    },
    {
      "cell_type": "raw",
      "metadata": {
        "raw_mimetype": "text/html"
      },
      "source": [
        "<!-- The main arguments to the `avPlot` function are: -->"
      ],
      "id": "feea631a-24a0-43c3-90b3-5654d8e6bc8d"
    },
    {
      "cell_type": "raw",
      "metadata": {
        "raw_mimetype": "text/html"
      },
      "source": [
        "<!-- -   `model`: the fitted `lm` (or `glm`) object. -->"
      ],
      "id": "ca7e0cc6-d801-4b76-b11d-14874fccf0af"
    },
    {
      "cell_type": "raw",
      "metadata": {
        "raw_mimetype": "text/html"
      },
      "source": [
        "<!-- -   `variable`: the regressor for which to create an added-variable -->"
      ],
      "id": "1a2bec2f-8487-41c0-b5ea-14a3ba76e647"
    },
    {
      "cell_type": "raw",
      "metadata": {
        "raw_mimetype": "text/html"
      },
      "source": [
        "<!--     plot. -->"
      ],
      "id": "2f13cc24-5af7-45a9-bd1d-e4a2207c6bb8"
    },
    {
      "cell_type": "raw",
      "metadata": {
        "raw_mimetype": "text/html"
      },
      "source": [
        "<!-- -   `id`: a logical value indicating whether unusual observations should -->"
      ],
      "id": "4adcb4cd-209a-49d9-af40-1e9883dcc231"
    },
    {
      "cell_type": "raw",
      "metadata": {
        "raw_mimetype": "text/html"
      },
      "source": [
        "<!--     be identified. By default, the value is `TRUE`, which means the 2 -->"
      ],
      "id": "2b362ac0-a68d-4921-8ba7-2ea8ea5a6886"
    },
    {
      "cell_type": "raw",
      "metadata": {
        "raw_mimetype": "text/html"
      },
      "source": [
        "<!--     points with the largest residuals and the 2 points with the largest -->"
      ],
      "id": "cc001209-8584-4a17-896a-e0cc79d089d6"
    },
    {
      "cell_type": "raw",
      "metadata": {
        "raw_mimetype": "text/html"
      },
      "source": [
        "<!--     partial leverage are identified, though this can be customized. -->"
      ],
      "id": "65427c02-7f92-4c15-9b2c-1390ddae7255"
    },
    {
      "cell_type": "raw",
      "metadata": {
        "raw_mimetype": "text/html"
      },
      "source": [
        "<!-- The `avPlots` function replaces the `variable` argument with the `terms` -->"
      ],
      "id": "ce9ea47b-c565-41a9-81e6-c3f25e0472d2"
    },
    {
      "cell_type": "raw",
      "metadata": {
        "raw_mimetype": "text/html"
      },
      "source": [
        "<!-- argument. -->"
      ],
      "id": "57230303-f9bc-42f0-8b0d-9e2f21d885c1"
    },
    {
      "cell_type": "raw",
      "metadata": {
        "raw_mimetype": "text/html"
      },
      "source": [
        "<!-- The `terms` argument should be a one-sided formula to indicate -->"
      ],
      "id": "af3973c5-9f3f-4127-8060-3dd6c0291ea9"
    },
    {
      "cell_type": "raw",
      "metadata": {
        "raw_mimetype": "text/html"
      },
      "source": [
        "<!-- the regressors for which we want to construct added-variable plots (one -->"
      ],
      "id": "fd2a49d7-8240-4659-8d61-dc3b49f64bc2"
    },
    {
      "cell_type": "raw",
      "metadata": {
        "raw_mimetype": "text/html"
      },
      "source": [
        "<!-- plot for each term). -->"
      ],
      "id": "82a56c4e-3d27-4a84-8321-88d84524a2d1"
    },
    {
      "cell_type": "raw",
      "metadata": {
        "raw_mimetype": "text/html"
      },
      "source": [
        "<!-- We now create and interpret added-variable plots for the model -->"
      ],
      "id": "bd233451-8e68-45a8-9868-2e9063b9aea6"
    },
    {
      "cell_type": "raw",
      "metadata": {
        "raw_mimetype": "text/html"
      },
      "source": [
        "<!-- regressing `bill_length_mm` on `body_mass_g` and `flipper_length_mm`. -->"
      ],
      "id": "16558883-538c-4462-a813-47f62b3750c4"
    },
    {
      "cell_type": "raw",
      "metadata": {
        "raw_mimetype": "text/html"
      },
      "source": [
        "<!-- ```{r} -->"
      ],
      "id": "c7c8c5c1-bdee-435d-8994-8421626e28dd"
    },
    {
      "cell_type": "raw",
      "metadata": {
        "raw_mimetype": "text/html"
      },
      "source": [
        "<!-- library(car) -->"
      ],
      "id": "79b26ab3-72a8-4b72-aaa6-8585685b2828"
    },
    {
      "cell_type": "raw",
      "metadata": {
        "raw_mimetype": "text/html"
      },
      "source": [
        "<!-- # create added-variable plots for all regressors in mlmod -->"
      ],
      "id": "d11e7af1-34a7-47bf-9a60-9349e264aaa5"
    },
    {
      "cell_type": "raw",
      "metadata": {
        "raw_mimetype": "text/html"
      },
      "source": [
        "<!-- avPlots(mlmod) -->"
      ],
      "id": "23b21984-2ee3-42ec-8369-a48718330611"
    },
    {
      "cell_type": "raw",
      "metadata": {
        "raw_mimetype": "text/html"
      },
      "source": [
        "<!-- ``` -->"
      ],
      "id": "6aa884c8-4ae9-4f45-90fd-f8bf9ac03f9b"
    },
    {
      "cell_type": "raw",
      "metadata": {
        "raw_mimetype": "text/html"
      },
      "source": [
        "<!-- The blue line is the simple linear regression model that minimizes the RSS of the points.  -->"
      ],
      "id": "77c21f98-225b-4183-8cfa-bde3c76d4f9e"
    },
    {
      "cell_type": "raw",
      "metadata": {
        "raw_mimetype": "text/html"
      },
      "source": [
        "<!-- **Question:** -->"
      ],
      "id": "55b40a21-238b-4414-80dc-e7a1df4875c5"
    },
    {
      "cell_type": "raw",
      "metadata": {
        "raw_mimetype": "text/html"
      },
      "source": [
        "<!-- - Which variable seems to have more explanatory power? -->"
      ],
      "id": "1c4b9a3a-0392-473b-be31-fbdaf642a9b8"
    },
    {
      "cell_type": "raw",
      "metadata": {
        "raw_mimetype": "text/html"
      },
      "source": [
        "<!-- To create the added-variable plots for all regressors in the parallel lines model from `penguins` data, we use the fitted model:  -->"
      ],
      "id": "810a3246-4541-45d8-ae82-9bdd797e173e"
    },
    {
      "cell_type": "raw",
      "metadata": {
        "raw_mimetype": "text/html"
      },
      "source": [
        "<!-- $$ -->"
      ],
      "id": "d12fcb0d-563a-414e-a3f4-dfe0ea03663f"
    },
    {
      "cell_type": "raw",
      "metadata": {
        "raw_mimetype": "text/html"
      },
      "source": [
        "<!-- \\begin{aligned} -->"
      ],
      "id": "f394c685-a2f6-45c0-8d90-47d39a117df7"
    },
    {
      "cell_type": "raw",
      "metadata": {
        "raw_mimetype": "text/html"
      },
      "source": [
        "<!-- &\\hat{E}(\\mathtt{bill\\_length\\_mm} \\mid \\mathtt{body\\_mass\\_g}, \\mathtt{species})\\\\ -->"
      ],
      "id": "5844d1f9-1c08-44f5-8fdb-dcbd63a632e3"
    },
    {
      "cell_type": "raw",
      "metadata": {
        "raw_mimetype": "text/html"
      },
      "source": [
        "<!-- &= 24.92 + 0.004 \\mathtt{body\\_mass\\_g} + 9.92 D_C + 3.56 D_G, -->"
      ],
      "id": "454ab669-6952-47f6-ae71-4b8580c09c6e"
    },
    {
      "cell_type": "raw",
      "metadata": {
        "raw_mimetype": "text/html"
      },
      "source": [
        "<!-- \\end{aligned} -->"
      ],
      "id": "4638d0bb-e5a0-42d2-8e21-d8a77f189235"
    },
    {
      "cell_type": "raw",
      "metadata": {
        "raw_mimetype": "text/html"
      },
      "source": [
        "<!-- $$  -->"
      ],
      "id": "65c41548-8c44-4757-9b64-4fad48b0236d"
    },
    {
      "cell_type": "raw",
      "metadata": {
        "raw_mimetype": "text/html"
      },
      "source": [
        "<!-- where $D_C$ and $D_G$ are indicator variables for the Chinstrap and -->"
      ],
      "id": "3c0cd21e-01e7-441d-99a4-414214a8558f"
    },
    {
      "cell_type": "raw",
      "metadata": {
        "raw_mimetype": "text/html"
      },
      "source": [
        "<!-- Gentoo penguin species (Adelie penguins are the reference species). -->"
      ],
      "id": "0cdb9be1-bd42-4741-8473-3ce8dbebc612"
    },
    {
      "cell_type": "raw",
      "metadata": {
        "raw_mimetype": "text/html"
      },
      "source": [
        "<!-- ```{r avplots-lmodp, fig.cap = \"The added-variable plots for all regressors in the parallel lines model fit to the `penguins` data.\"} -->"
      ],
      "id": "cff244c2-67b3-430d-a1ac-2ed3f10fe167"
    },
    {
      "cell_type": "raw",
      "metadata": {
        "raw_mimetype": "text/html"
      },
      "source": [
        "<!-- avPlots(lmodp) -->"
      ],
      "id": "bca9906f-8d63-46a2-bacb-eab86d395324"
    },
    {
      "cell_type": "raw",
      "metadata": {
        "raw_mimetype": "text/html"
      },
      "source": [
        "<!-- ``` -->"
      ],
      "id": "41871360-f7f5-452b-81ea-df38a8fc3c9e"
    },
    {
      "cell_type": "raw",
      "metadata": {
        "raw_mimetype": "text/html"
      },
      "source": [
        "<!-- **Question:**  -->"
      ],
      "id": "c70a67da-fafe-4995-9b26-9f08c7fd5573"
    },
    {
      "cell_type": "raw",
      "metadata": {
        "raw_mimetype": "text/html"
      },
      "source": [
        "<!-- - How should we interpret the relative strength of the linear relationships? -->"
      ],
      "id": "6a27c606-c57e-4886-aede-967b4d916ae9"
    },
    {
      "cell_type": "raw",
      "metadata": {
        "raw_mimetype": "text/html"
      },
      "source": [
        "<!-- - Is there any clustering apparent? -->"
      ],
      "id": "57f507e9-495d-48bb-82d9-d9688cf439a5"
    },
    {
      "cell_type": "raw",
      "metadata": {
        "raw_mimetype": "text/html"
      },
      "source": [
        "<!-- **Leverage Plots** -->"
      ],
      "id": "66370778-be3f-4bd3-804e-6743dec1446b"
    },
    {
      "cell_type": "raw",
      "metadata": {
        "raw_mimetype": "text/html"
      },
      "source": [
        "<!-- --- -->"
      ],
      "id": "a88d6c9b-45fb-4521-bb6a-aa02029713d0"
    },
    {
      "cell_type": "raw",
      "metadata": {
        "raw_mimetype": "text/html"
      },
      "source": [
        "<!-- It sometimes doesn't make sense to talk about the effect of adding a single regressor when all of the other regressors are in the model. -->"
      ],
      "id": "d5aa8dcb-dafc-497c-a587-406055c5b63a"
    },
    {
      "cell_type": "raw",
      "metadata": {
        "raw_mimetype": "text/html"
      },
      "source": [
        "<!-- - When we add a categorical predictor to our model, we simultaneously add $K-1$ -->"
      ],
      "id": "c757aab0-2855-46ad-9025-484f950c12ac"
    },
    {
      "cell_type": "raw",
      "metadata": {
        "raw_mimetype": "text/html"
      },
      "source": [
        "<!-- indicator variables as regressors; we do not add the indicator variables -->"
      ],
      "id": "7aefc21f-1991-4f89-8faf-11a46a6ae4f8"
    },
    {
      "cell_type": "raw",
      "metadata": {
        "raw_mimetype": "text/html"
      },
      "source": [
        "<!-- one-at-a-time.  -->"
      ],
      "id": "f065c494-ecc5-4fc9-8da3-08b7ebb63d4d"
    },
    {
      "cell_type": "raw",
      "metadata": {
        "raw_mimetype": "text/html"
      },
      "source": [
        "<!-- We refer to regressors with this behavior as -->"
      ],
      "id": "0579d8d2-3f24-4a98-b974-b1058dd28e1c"
    },
    {
      "cell_type": "raw",
      "metadata": {
        "raw_mimetype": "text/html"
      },
      "source": [
        "<!-- \"multiple degrees-of-freedom terms\". -->"
      ],
      "id": "6adef280-ca27-470f-83b6-441579e83fb5"
    },
    {
      "cell_type": "raw",
      "metadata": {
        "raw_mimetype": "text/html"
      },
      "source": [
        "<!-- - A categorical variable with 3 or -->"
      ],
      "id": "e5440d73-a3a6-43e1-9e5e-30def4ba4895"
    },
    {
      "cell_type": "raw",
      "metadata": {
        "raw_mimetype": "text/html"
      },
      "source": [
        "<!-- more levels is the most basic multiple degrees-of-freedom term. -->"
      ],
      "id": "31456d45-85bf-483b-8c60-43d57041b84d"
    },
    {
      "cell_type": "raw",
      "metadata": {
        "raw_mimetype": "text/html"
      },
      "source": [
        "<!-- - We could also consider regressors related to the interaction between -->"
      ],
      "id": "c1b7bd89-cdce-46c6-8816-06c970b5a56c"
    },
    {
      "cell_type": "raw",
      "metadata": {
        "raw_mimetype": "text/html"
      },
      "source": [
        "<!-- two or more predictors, polynomial regressors, etc. -->"
      ],
      "id": "8700fd76-9102-4b03-ae21-c10faddc584e"
    },
    {
      "cell_type": "raw",
      "metadata": {
        "raw_mimetype": "text/html"
      },
      "source": [
        "<!-- A *leverage plot*  allows us to visualize the impact of multiple degrees-of-freedom terms. The interpretation of leverage -->"
      ],
      "id": "4b718ffc-66a8-4bb4-8ebc-bb0ce4e9d9b4"
    },
    {
      "cell_type": "raw",
      "metadata": {
        "raw_mimetype": "text/html"
      },
      "source": [
        "<!-- plots is similar to the interpretation of added-variable plots, though -->"
      ],
      "id": "2ee7492d-befe-40ab-993b-e7e4fb006420"
    },
    {
      "cell_type": "raw",
      "metadata": {
        "raw_mimetype": "text/html"
      },
      "source": [
        "<!-- we refer to \"predictors\" or \"terms\" instead regressors (which may be -->"
      ],
      "id": "55b643b0-60e1-40fe-b2a7-ac3dc25de1c1"
    },
    {
      "cell_type": "raw",
      "metadata": {
        "raw_mimetype": "text/html"
      },
      "source": [
        "<!-- combined into one plot).  -->"
      ],
      "id": "ebb41d72-65d5-401c-8478-e3ac590c96cb"
    },
    {
      "cell_type": "raw",
      "metadata": {
        "raw_mimetype": "text/html"
      },
      "source": [
        "<!-- The `leveragePlot` and `leveragePlots` functions in the `car` package produce single or multiple leverage plots, respectively, with arguments similar to the `avPlot` and `avPlots` functions. -->"
      ],
      "id": "6b42f73e-f99f-4809-b1bc-3d431da36e18"
    },
    {
      "cell_type": "raw",
      "metadata": {
        "raw_mimetype": "text/html"
      },
      "source": [
        "<!-- ```{r leverageplot-lmodp} -->"
      ],
      "id": "6388bd4d-a15b-4bc9-a3e3-ba0a76bc8a9c"
    },
    {
      "cell_type": "raw",
      "metadata": {
        "raw_mimetype": "text/html"
      },
      "source": [
        "<!-- leveragePlots(lmodp) -->"
      ],
      "id": "14262e1e-5b23-4a5b-9d60-e036d259e2ad"
    },
    {
      "cell_type": "raw",
      "metadata": {
        "raw_mimetype": "text/html"
      },
      "source": [
        "<!-- ``` -->"
      ],
      "id": "cff8188a-13a4-4ac1-8430-1ad3a62a57f9"
    },
    {
      "cell_type": "raw",
      "metadata": {
        "raw_mimetype": "text/html"
      },
      "source": [
        "<!-- Interpretation:  -->"
      ],
      "id": "5a1a598d-84e6-44ab-a17e-f57fba0ceca2"
    },
    {
      "cell_type": "raw",
      "metadata": {
        "raw_mimetype": "text/html"
      },
      "source": [
        "<!-- - The leverage plot for `body_mass_g` has a moderate linear -->"
      ],
      "id": "f08c0e28-e13b-43bc-9c57-885db76530ea"
    },
    {
      "cell_type": "raw",
      "metadata": {
        "raw_mimetype": "text/html"
      },
      "source": [
        "<!-- relationship, so we expect `body_mass_g` to have moderate value in -->"
      ],
      "id": "aa9f5717-4998-4782-b40e-4807d8f428d1"
    },
    {
      "cell_type": "raw",
      "metadata": {
        "raw_mimetype": "text/html"
      },
      "source": [
        "<!-- explaining the behavior of `bill_length_mm` after accounting for -->"
      ],
      "id": "dfa95974-a2f2-4b26-b48d-1ff215af8ab1"
    },
    {
      "cell_type": "raw",
      "metadata": {
        "raw_mimetype": "text/html"
      },
      "source": [
        "<!-- `species` -->"
      ],
      "id": "49452ee1-c251-45e0-977b-54f5cbb8e7b3"
    },
    {
      "cell_type": "raw",
      "metadata": {
        "raw_mimetype": "text/html"
      },
      "source": [
        "<!-- - The points in the leverage plot for `species` have -->"
      ],
      "id": "394bd9dd-70eb-4f6d-8cba-125d2c0e6a8d"
    },
    {
      "cell_type": "raw",
      "metadata": {
        "raw_mimetype": "text/html"
      },
      "source": [
        "<!-- a moderately strong linear relationship, so we expect `species` to have -->"
      ],
      "id": "2a0d34a9-354b-4c6b-ae4d-ab5a7b11569f"
    },
    {
      "cell_type": "raw",
      "metadata": {
        "raw_mimetype": "text/html"
      },
      "source": [
        "<!-- moderate value in explaining the behavior of `bill_length_mm` after -->"
      ],
      "id": "9f9ab7d0-91db-4f62-982b-8a781dc30ffa"
    },
    {
      "cell_type": "raw",
      "metadata": {
        "raw_mimetype": "text/html"
      },
      "source": [
        "<!-- accounting for `body_mass_g`. -->"
      ],
      "id": "c58ee477-1704-4be2-8dce-2a2244038745"
    },
    {
      "cell_type": "raw",
      "metadata": {
        "raw_mimetype": "text/html"
      },
      "source": [
        "<!-- We next examine the leverage plot for the separate lines model fit to -->"
      ],
      "id": "71af9934-4bcd-4df4-b195-9c7b72da748e"
    },
    {
      "cell_type": "raw",
      "metadata": {
        "raw_mimetype": "text/html"
      },
      "source": [
        "<!-- the `penguins` data. The fitted separate lines model is: -->"
      ],
      "id": "4943808e-9664-4b55-8c75-994257f7435c"
    },
    {
      "cell_type": "raw",
      "metadata": {
        "raw_mimetype": "text/html"
      },
      "source": [
        "<!-- $$ -->"
      ],
      "id": "0acf53e4-0075-4078-b2ea-cef8941a6388"
    },
    {
      "cell_type": "raw",
      "metadata": {
        "raw_mimetype": "text/html"
      },
      "source": [
        "<!-- \\begin{aligned} -->"
      ],
      "id": "d993c1a9-9731-4a9d-a878-19b28093d350"
    },
    {
      "cell_type": "raw",
      "metadata": {
        "raw_mimetype": "text/html"
      },
      "source": [
        "<!-- &\\hat{E}(\\mathtt{bill\\_length\\_mm} \\mid \\mathtt{body\\_mass\\_g}, \\mathtt{species}) \\\\ -->"
      ],
      "id": "f42311fd-5d79-4124-b4ef-7fd3c5a8595d"
    },
    {
      "cell_type": "raw",
      "metadata": {
        "raw_mimetype": "text/html"
      },
      "source": [
        "<!-- &= 26.99 + 0.003 \\mathtt{body\\_mass\\_g} + 5.18 D_C - 0.25 D_G \\\\ -->"
      ],
      "id": "3cf3c94f-1de6-42bf-a71a-fabecc2878cd"
    },
    {
      "cell_type": "raw",
      "metadata": {
        "raw_mimetype": "text/html"
      },
      "source": [
        "<!-- &\\quad + 0.001 D_C \\mathtt{body\\_mass\\_g} + 0.0009 D_G \\mathtt{body\\_mass\\_g}, -->"
      ],
      "id": "48acb90e-2588-4a0b-86ee-b568e1e2f1ea"
    },
    {
      "cell_type": "raw",
      "metadata": {
        "raw_mimetype": "text/html"
      },
      "source": [
        "<!-- \\end{aligned} -->"
      ],
      "id": "fb948d0a-a2d3-424a-8d0e-9b20415c4373"
    },
    {
      "cell_type": "raw",
      "metadata": {
        "raw_mimetype": "text/html"
      },
      "source": [
        "<!-- $$ -->"
      ],
      "id": "d5bcbcaa-197f-4a59-b810-47e20524b407"
    },
    {
      "cell_type": "raw",
      "metadata": {
        "raw_mimetype": "text/html"
      },
      "source": [
        "<!-- There are 6 estimated coefficients, but the fitted model has only -->"
      ],
      "id": "3fd9bae4-ee46-423a-a5d4-f128430b50d1"
    },
    {
      "cell_type": "raw",
      "metadata": {
        "raw_mimetype": "text/html"
      },
      "source": [
        "<!-- 3 non-intercept terms. Recall the formula we fit for the separate lines -->"
      ],
      "id": "e3b55859-8e88-4d3b-88ab-228abcd71f9d"
    },
    {
      "cell_type": "raw",
      "metadata": {
        "raw_mimetype": "text/html"
      },
      "source": [
        "<!-- model: -->"
      ],
      "id": "09bb90be-d07c-43d7-b27b-f38bddc72ea3"
    },
    {
      "cell_type": "raw",
      "metadata": {
        "raw_mimetype": "text/html"
      },
      "source": [
        "<!-- ```{r} -->"
      ],
      "id": "75aa90aa-d4cc-4332-b0af-c67e32c23b38"
    },
    {
      "cell_type": "raw",
      "metadata": {
        "raw_mimetype": "text/html"
      },
      "source": [
        "<!-- #| echo: true -->"
      ],
      "id": "4be7c181-2ece-4319-8128-028943cb2b24"
    },
    {
      "cell_type": "raw",
      "metadata": {
        "raw_mimetype": "text/html"
      },
      "source": [
        "<!-- #| eval: false -->"
      ],
      "id": "35ef29af-f175-4331-8b3c-302c527df249"
    },
    {
      "cell_type": "raw",
      "metadata": {
        "raw_mimetype": "text/html"
      },
      "source": [
        "<!-- #| output: true -->"
      ],
      "id": "c36ba659-a35f-47f0-a6a6-548325138b83"
    },
    {
      "cell_type": "raw",
      "metadata": {
        "raw_mimetype": "text/html"
      },
      "source": [
        "<!-- # function call for separate lines model -->"
      ],
      "id": "6e7e4610-de3d-4f3b-a9e1-574a490481ff"
    },
    {
      "cell_type": "raw",
      "metadata": {
        "raw_mimetype": "text/html"
      },
      "source": [
        "<!-- lm(formula = bill_length_mm ~ body_mass_g + species + body_mass_g:species, -->"
      ],
      "id": "920773c7-5d11-4c45-9746-fec51cc069b4"
    },
    {
      "cell_type": "raw",
      "metadata": {
        "raw_mimetype": "text/html"
      },
      "source": [
        "<!--    data = penguins) -->"
      ],
      "id": "3467caa0-1e35-4922-bf22-4662ef194f51"
    },
    {
      "cell_type": "raw",
      "metadata": {
        "raw_mimetype": "text/html"
      },
      "source": [
        "<!-- ``` -->"
      ],
      "id": "851b26df-c09f-4edc-b004-ffc3e8d4199d"
    },
    {
      "cell_type": "raw",
      "metadata": {
        "raw_mimetype": "text/html"
      },
      "source": [
        "<!-- Thus, we have terms for `body_mass_g`, `species`, and the interaction -->"
      ],
      "id": "b1343ccc-3400-430c-bf7a-e5229fa40acf"
    },
    {
      "cell_type": "raw",
      "metadata": {
        "raw_mimetype": "text/html"
      },
      "source": [
        "<!-- term `body_mass_g:species`. -->"
      ],
      "id": "fa598692-7039-428e-a288-47a67aba7bbe"
    },
    {
      "cell_type": "raw",
      "metadata": {
        "raw_mimetype": "text/html"
      },
      "source": [
        "<!-- We use the code below to create the leverage plots: -->"
      ],
      "id": "73e8f484-7e28-4f9b-818e-e1055d09a415"
    },
    {
      "cell_type": "raw",
      "metadata": {
        "raw_mimetype": "text/html"
      },
      "source": [
        "<!-- ```{r} -->"
      ],
      "id": "1c0ce4be-cc92-4b38-aa34-551c7c3f83aa"
    },
    {
      "cell_type": "raw",
      "metadata": {
        "raw_mimetype": "text/html"
      },
      "source": [
        "<!-- leveragePlots(lmods) -->"
      ],
      "id": "18fd7744-3eb9-4a44-924b-7c0e2f15e3e6"
    },
    {
      "cell_type": "raw",
      "metadata": {
        "raw_mimetype": "text/html"
      },
      "source": [
        "<!-- ``` -->"
      ],
      "id": "da7c3b0c-da77-4b3b-beba-9a97cafb14aa"
    },
    {
      "cell_type": "raw",
      "metadata": {
        "raw_mimetype": "text/html"
      },
      "source": [
        "<!-- Interpretation: -->"
      ],
      "id": "11e85945-0764-4d3c-9417-4b85d92dca2d"
    },
    {
      "cell_type": "raw",
      "metadata": {
        "raw_mimetype": "text/html"
      },
      "source": [
        "<!-- - The leverage plot for `body_mass_g` has a -->"
      ],
      "id": "1c82e73b-3ef2-4414-8b3e-793e7b04e57b"
    },
    {
      "cell_type": "raw",
      "metadata": {
        "raw_mimetype": "text/html"
      },
      "source": [
        "<!-- moderate linear relationship, so we expect `body_mass_g` to have -->"
      ],
      "id": "396c597c-f68c-4746-bd2a-b227eea39187"
    },
    {
      "cell_type": "raw",
      "metadata": {
        "raw_mimetype": "text/html"
      },
      "source": [
        "<!-- moderate additional value in explaining the behavior of `bill_length_mm` -->"
      ],
      "id": "240b9312-cd87-4ee1-a3be-5053cc6f8f4b"
    },
    {
      "cell_type": "raw",
      "metadata": {
        "raw_mimetype": "text/html"
      },
      "source": [
        "<!-- after accounting for `species` and the interaction term -->"
      ],
      "id": "fc23e440-98ab-4239-8ffb-41fe1b636e7c"
    },
    {
      "cell_type": "raw",
      "metadata": {
        "raw_mimetype": "text/html"
      },
      "source": [
        "<!-- `body_mass_g:species`. -->"
      ],
      "id": "592afccf-61f7-49f6-a7a4-b175787159de"
    },
    {
      "cell_type": "raw",
      "metadata": {
        "raw_mimetype": "text/html"
      },
      "source": [
        "<!--     - It is unlikely we would include the `body_mass_g:species` term in our model prior to including `body_mass_g`, so philosophically, this plot provides little useful information. -->"
      ],
      "id": "24c1b47e-3e1b-42b5-baae-ba5a7d43a522"
    },
    {
      "cell_type": "raw",
      "metadata": {
        "raw_mimetype": "text/html"
      },
      "source": [
        "<!-- - Interpreting the leverage plot for `species` has limited -->"
      ],
      "id": "720a5fd3-3fbc-4501-9a0e-cf5bf4ec5146"
    },
    {
      "cell_type": "raw",
      "metadata": {
        "raw_mimetype": "text/html"
      },
      "source": [
        "<!-- utility because the leverage plot includes the influence of the -->"
      ],
      "id": "025e58fa-8219-4ee8-b00a-6452b45b259f"
    },
    {
      "cell_type": "raw",
      "metadata": {
        "raw_mimetype": "text/html"
      },
      "source": [
        "<!-- interaction term `body_mass_g:species`. -->"
      ],
      "id": "e8258aae-357d-4cb5-855a-1bd9f2bced21"
    },
    {
      "cell_type": "raw",
      "metadata": {
        "raw_mimetype": "text/html"
      },
      "source": [
        "<!--     - We are unlikely to fit a model that includes the interaction term without also including the `species` term directly. Instead it makes more sense to judge the utility of adding `species` to the model regressing `bill_length_mm` on -->"
      ],
      "id": "6b1b0442-6d7d-44f5-9a39-efc51b9e039a"
    },
    {
      "cell_type": "raw",
      "metadata": {
        "raw_mimetype": "text/html"
      },
      "source": [
        "<!-- `body_mass_g` alone, which we already considered. -->"
      ],
      "id": "2552aeef-4de4-42bb-9668-d7cdafb408c1"
    },
    {
      "cell_type": "raw",
      "metadata": {
        "raw_mimetype": "text/html"
      },
      "source": [
        "<!-- - Examining the leverage plot for the interaction term `body_mass_g:species` , we see the points have only a weak linear relationship. Thus, we expect limited utility in adding the interaction term `body_mass_g:species` to the parallel lines regression model that regresses `bill_length_mm` on `body_mass_g` and `species`. -->"
      ],
      "id": "1d05fb4c-5bd1-4a3f-9b6d-9d400f5c87d9"
    },
    {
      "cell_type": "raw",
      "metadata": {
        "raw_mimetype": "text/html"
      },
      "source": [
        "<!-- # Going deeper -->"
      ],
      "id": "f507539b-f0ba-4a3b-afba-72ee4fb40749"
    },
    {
      "cell_type": "raw",
      "metadata": {
        "raw_mimetype": "text/html"
      },
      "source": [
        "<!-- **Orthogonality** -->"
      ],
      "id": "ef56df61-6b0b-472b-a803-ccf8401b9b82"
    },
    {
      "cell_type": "raw",
      "metadata": {
        "raw_mimetype": "text/html"
      },
      "source": [
        "<!-- --- -->"
      ],
      "id": "d97e55ef-a45b-498d-8c13-7787c2b09fda"
    },
    {
      "cell_type": "raw",
      "metadata": {
        "raw_mimetype": "text/html"
      },
      "source": [
        "<!-- Let $$\\mathbf{X}_{[j]}=[x_{1,j},\\ldots,x_{n,j}]$$ denote the $n\\times 1$ -->"
      ],
      "id": "8ed24e34-0b05-4081-844c-70557bc2129c"
    },
    {
      "cell_type": "raw",
      "metadata": {
        "raw_mimetype": "text/html"
      },
      "source": [
        "<!-- column vector of observed values for regressor $X_j$. (We can't use the -->"
      ],
      "id": "31bdd868-6499-4a58-8c94-20223a9d396c"
    },
    {
      "cell_type": "raw",
      "metadata": {
        "raw_mimetype": "text/html"
      },
      "source": [
        "<!-- notation $\\mathbf{x}_j$ because that is the $p\\times 1$ vector of -->"
      ],
      "id": "7c88cd79-3923-4a99-aea1-d86ef2631c02"
    },
    {
      "cell_type": "raw",
      "metadata": {
        "raw_mimetype": "text/html"
      },
      "source": [
        "<!-- regressor values for the $j$th observation). Regressors -->"
      ],
      "id": "8c211160-0407-451f-adbd-eaa0b1df0fe1"
    },
    {
      "cell_type": "raw",
      "metadata": {
        "raw_mimetype": "text/html"
      },
      "source": [
        "<!-- $\\mathbf{X}_{[j]}$ and $\\mathbf{X}_{[k]}$ are *orthogonal* if -->"
      ],
      "id": "2bd8395d-afb2-47dd-9160-ebcf72909af3"
    },
    {
      "cell_type": "raw",
      "metadata": {
        "raw_mimetype": "text/html"
      },
      "source": [
        "<!-- $\\mathbf{X}_{[j]}^T \\mathbf{X}_{[k]}=0$. -->"
      ],
      "id": "60ffc047-3cc4-47cb-bba4-fdd1ca8c18e8"
    },
    {
      "cell_type": "raw",
      "metadata": {
        "raw_mimetype": "text/html"
      },
      "source": [
        "<!-- Let $\\boldsymbol{1}_{n\\times1}$ denote an $n\\times 1$ column vector of -->"
      ],
      "id": "16e1a87c-bd0c-4d96-b1f0-09104f24cfad"
    },
    {
      "cell_type": "raw",
      "metadata": {
        "raw_mimetype": "text/html"
      },
      "source": [
        "<!-- 1s. The definition of orthogonal vectors above implies that -->"
      ],
      "id": "1f6ecea7-b788-4119-ae7a-7256e999aa9a"
    },
    {
      "cell_type": "raw",
      "metadata": {
        "raw_mimetype": "text/html"
      },
      "source": [
        "<!-- $\\mathbf{X}_{[j]}$ is orthogonal to $\\boldsymbol{1}_{n\\times1}$ if $$ -->"
      ],
      "id": "0b2e16ac-03cf-4892-94c8-89caeb12f875"
    },
    {
      "cell_type": "raw",
      "metadata": {
        "raw_mimetype": "text/html"
      },
      "source": [
        "<!-- \\mathbf{X}_{[j]}^T \\boldsymbol{1}_{n\\times1} = \\sum_{i=1}^n x_{i,j} = 0,$$ -->"
      ],
      "id": "7d6e3ebb-63c2-4bb2-aaa0-5c833e94326a"
    },
    {
      "cell_type": "raw",
      "metadata": {
        "raw_mimetype": "text/html"
      },
      "source": [
        "<!-- i.e., if the values in $\\mathbf{X}_{[j]}$ sum to zero. -->"
      ],
      "id": "d4fa5619-5648-4873-b20e-5f5c1e3d2cb8"
    },
    {
      "cell_type": "raw",
      "metadata": {
        "raw_mimetype": "text/html"
      },
      "source": [
        "<!-- Let $\\bar{x}_j = \\frac{1}{n}\\sum_{i=1}^n x_{i,j}$ denote the sample mean -->"
      ],
      "id": "be0dc0e7-c997-4023-83e4-22e3b809a002"
    },
    {
      "cell_type": "raw",
      "metadata": {
        "raw_mimetype": "text/html"
      },
      "source": [
        "<!-- of $\\mathbf{X}_{[j]}$ and -->"
      ],
      "id": "ede6f342-06c3-49fb-878b-19dcea12a22a"
    },
    {
      "cell_type": "raw",
      "metadata": {
        "raw_mimetype": "text/html"
      },
      "source": [
        "<!-- $\\bar{\\mathbf{x}}_j = \\bar{x}_j \\boldsymbol{1}_{n\\times 1}$ denote the -->"
      ],
      "id": "9e76dc1c-ce52-4df1-b9aa-06bb904b4b25"
    },
    {
      "cell_type": "raw",
      "metadata": {
        "raw_mimetype": "text/html"
      },
      "source": [
        "<!-- column vector that repeats $\\bar{x}_j$ $n$ times. -->"
      ],
      "id": "e6abce41-f522-4786-ad47-17a1a0be4230"
    },
    {
      "cell_type": "raw",
      "metadata": {
        "raw_mimetype": "text/html"
      },
      "source": [
        "<!-- *Centering* $\\mathbf{X}_{[j]}$ involves subtracting the sample mean of -->"
      ],
      "id": "39ce120c-2888-4301-8ec0-df5a553abac8"
    },
    {
      "cell_type": "raw",
      "metadata": {
        "raw_mimetype": "text/html"
      },
      "source": [
        "<!-- $\\mathbf{X}_{[j]}$ from $\\mathbf{X}_{[j]}$, i.e., -->"
      ],
      "id": "2a761075-8b9f-41ac-987f-4c5272635c23"
    },
    {
      "cell_type": "raw",
      "metadata": {
        "raw_mimetype": "text/html"
      },
      "source": [
        "<!-- $\\mathbf{X}_{[j]} - \\bar{\\mathbf{x}}_j$. -->"
      ],
      "id": "8a62549a-76e8-4098-b21b-4982f82c306f"
    },
    {
      "cell_type": "raw",
      "metadata": {
        "raw_mimetype": "text/html"
      },
      "source": [
        "<!-- Regressors $\\mathbf{X}_{[j]}$ and $\\mathbf{X}_{[k]}$ are -->"
      ],
      "id": "a29abfc1-3e8b-4a31-abaa-8d50acc2b116"
    },
    {
      "cell_type": "raw",
      "metadata": {
        "raw_mimetype": "text/html"
      },
      "source": [
        "<!-- *uncorrelated* if they are orthogonal after being centered, i.e., if -->"
      ],
      "id": "35e04668-e90a-4cb3-b5d5-9755d1585b6b"
    },
    {
      "cell_type": "raw",
      "metadata": {
        "raw_mimetype": "text/html"
      },
      "source": [
        "<!-- $$ -->"
      ],
      "id": "5f6895df-8166-4c88-a8e0-1b1d4f4c61d7"
    },
    {
      "cell_type": "raw",
      "metadata": {
        "raw_mimetype": "text/html"
      },
      "source": [
        "<!-- (\\mathbf{X}_{[j]} - \\bar{\\mathbf{x}}_j)^T (\\mathbf{X}_{[k]} - \\bar{\\mathbf{x}}_k)=0. -->"
      ],
      "id": "16186af1-970c-4a39-b516-3a53af9b25b1"
    },
    {
      "cell_type": "raw",
      "metadata": {
        "raw_mimetype": "text/html"
      },
      "source": [
        "<!-- $$ Note that the sample covariance between vectors $\\mathbf{X}_{[j]}$ -->"
      ],
      "id": "34ab6f93-1440-4c57-9ae2-6df54fea1430"
    },
    {
      "cell_type": "raw",
      "metadata": {
        "raw_mimetype": "text/html"
      },
      "source": [
        "<!-- and $\\mathbf{X}_{[k]}$ is $$ -->"
      ],
      "id": "afbc40c0-80e7-456b-919a-1b428502b5b2"
    },
    {
      "cell_type": "raw",
      "metadata": {
        "raw_mimetype": "text/html"
      },
      "source": [
        "<!-- \\begin{aligned} -->"
      ],
      "id": "cb5ef939-1ac8-4e0e-a8f7-60466003abde"
    },
    {
      "cell_type": "raw",
      "metadata": {
        "raw_mimetype": "text/html"
      },
      "source": [
        "<!-- \\widehat{\\mathrm{cov}}(\\mathbf{X}_{[j]}, \\mathbf{X}_{[k]}) &= \\frac{1}{n-1}\\sum_{i=1}^n (x_{i,j} - \\bar{x}_j)(x_{i,k} - \\bar{x}_k) \\\\ -->"
      ],
      "id": "01668cb4-ba94-47c3-af42-9215ae034b57"
    },
    {
      "cell_type": "raw",
      "metadata": {
        "raw_mimetype": "text/html"
      },
      "source": [
        "<!--  &= \\frac{1}{n-1}(\\mathbf{X}_{[j]} - \\bar{\\mathbf{x}}_j)^T (\\mathbf{X}_{[k]} - \\bar{\\mathbf{x}}_k). -->"
      ],
      "id": "022ffef2-6413-4193-b360-65b20036c3fd"
    },
    {
      "cell_type": "raw",
      "metadata": {
        "raw_mimetype": "text/html"
      },
      "source": [
        "<!-- \\end{aligned} -->"
      ],
      "id": "c8d0fbf6-3697-4af7-819f-8441935dd40f"
    },
    {
      "cell_type": "raw",
      "metadata": {
        "raw_mimetype": "text/html"
      },
      "source": [
        "<!-- $$Thus, two centered regressors are orthogonal if their covariance is -->"
      ],
      "id": "b0bc68b5-bd82-49f5-8b72-b7054dd23f65"
    },
    {
      "cell_type": "raw",
      "metadata": {
        "raw_mimetype": "text/html"
      },
      "source": [
        "<!-- zero. -->"
      ],
      "id": "8774250c-b9b0-49d4-b846-1964ed63a55b"
    },
    {
      "cell_type": "raw",
      "metadata": {
        "raw_mimetype": "text/html"
      },
      "source": [
        "<!-- It is a desirable to have orthogonal regressors in our fitted model -->"
      ],
      "id": "8ab07916-dcee-42b1-ab8f-9e6e31010fe3"
    },
    {
      "cell_type": "raw",
      "metadata": {
        "raw_mimetype": "text/html"
      },
      "source": [
        "<!-- because they simplify estimating the relationship between the regressors -->"
      ],
      "id": "66c5429a-15e3-4050-be06-e542fdba0696"
    },
    {
      "cell_type": "raw",
      "metadata": {
        "raw_mimetype": "text/html"
      },
      "source": [
        "<!-- and the response. Specifically: -->"
      ],
      "id": "4eb471db-ad96-4ce7-99e3-d267e1ba230a"
    },
    {
      "cell_type": "raw",
      "metadata": {
        "raw_mimetype": "text/html"
      },
      "source": [
        "<!-- *If a regressor is orthogonal to all other regressors (and the column of -->"
      ],
      "id": "6ddb869e-0957-48cd-accb-36856da36e93"
    },
    {
      "cell_type": "raw",
      "metadata": {
        "raw_mimetype": "text/html"
      },
      "source": [
        "<!-- 1s) in a model, adding or removing the orthogonal regressor from our -->"
      ],
      "id": "578eb4d5-ec3b-437c-8019-b9b3c29231ff"
    },
    {
      "cell_type": "raw",
      "metadata": {
        "raw_mimetype": "text/html"
      },
      "source": [
        "<!-- model will not impact the estimated regression coefficients of the other -->"
      ],
      "id": "ff31840a-3be5-4365-81a0-79442cc5b33b"
    },
    {
      "cell_type": "raw",
      "metadata": {
        "raw_mimetype": "text/html"
      },
      "source": [
        "<!-- regressors.* -->"
      ],
      "id": "913475ff-8ca3-4f9c-8921-6cd8fc35f1a5"
    },
    {
      "cell_type": "raw",
      "metadata": {
        "raw_mimetype": "text/html"
      },
      "source": [
        "<!-- Since most linear regression models include an intercept, we should -->"
      ],
      "id": "d631388b-2062-4bce-9d39-777901ead45a"
    },
    {
      "cell_type": "raw",
      "metadata": {
        "raw_mimetype": "text/html"
      },
      "source": [
        "<!-- assess whether our regressors are orthogonal to other regressors and the -->"
      ],
      "id": "bc31f30f-611c-48b1-b09a-375fb6514a9a"
    },
    {
      "cell_type": "raw",
      "metadata": {
        "raw_mimetype": "text/html"
      },
      "source": [
        "<!-- column of 1s. -->"
      ],
      "id": "b8029ae7-6b60-4250-8977-b1de50c581ad"
    },
    {
      "cell_type": "raw",
      "metadata": {
        "raw_mimetype": "text/html"
      },
      "source": [
        "<!-- We consider a simple example with $n=5$ observations to demonstrate how -->"
      ],
      "id": "c9c9b7b1-134b-4f9a-b93f-d4101a920236"
    },
    {
      "cell_type": "raw",
      "metadata": {
        "raw_mimetype": "text/html"
      },
      "source": [
        "<!-- orthogonality of regressors impacts the estimated regression -->"
      ],
      "id": "215d1862-8748-47c8-bdc7-c86fb76d4aed"
    },
    {
      "cell_type": "raw",
      "metadata": {
        "raw_mimetype": "text/html"
      },
      "source": [
        "<!-- coefficients. In the code below: -->"
      ],
      "id": "522d3061-8fef-4feb-a1ed-cda58768b63a"
    },
    {
      "cell_type": "raw",
      "metadata": {
        "raw_mimetype": "text/html"
      },
      "source": [
        "<!-- -   `y` is a vector of response values. -->"
      ],
      "id": "3b06beb3-4ab9-4dc3-907a-d3b124db684f"
    },
    {
      "cell_type": "raw",
      "metadata": {
        "raw_mimetype": "text/html"
      },
      "source": [
        "<!-- -   `ones` is the column vector of 1s. -->"
      ],
      "id": "6dcf51b5-8610-45aa-9284-9cdeab17cb6c"
    },
    {
      "cell_type": "raw",
      "metadata": {
        "raw_mimetype": "text/html"
      },
      "source": [
        "<!-- -   `X1` is a column vector of regressor values. -->"
      ],
      "id": "33508d52-549c-43c7-913c-57cca8dfa365"
    },
    {
      "cell_type": "raw",
      "metadata": {
        "raw_mimetype": "text/html"
      },
      "source": [
        "<!-- -   `X2` is a column vector of regressor values chosen to be orthogonal -->"
      ],
      "id": "c4492d70-2761-41fb-8732-0b7527eba6ad"
    },
    {
      "cell_type": "raw",
      "metadata": {
        "raw_mimetype": "text/html"
      },
      "source": [
        "<!--     to `x1` but not to `ones`. -->"
      ],
      "id": "e3cb156d-5df9-4c5f-a682-48017e39b1e6"
    },
    {
      "cell_type": "raw",
      "metadata": {
        "raw_mimetype": "text/html"
      },
      "source": [
        "<!-- -   `X3` is a column vector of regressor values orthogonal to both `x1` -->"
      ],
      "id": "9a5a7347-daff-441e-9176-53d74126d2fb"
    },
    {
      "cell_type": "raw",
      "metadata": {
        "raw_mimetype": "text/html"
      },
      "source": [
        "<!--     and `ones`. -->"
      ],
      "id": "519f487c-ed54-44e0-920a-e55a7bc5ec13"
    },
    {
      "cell_type": "raw",
      "metadata": {
        "raw_mimetype": "text/html"
      },
      "source": [
        "<!-- -   `X4` is a column vector of regressor values orthogonal to `ones`, -->"
      ],
      "id": "ec8269cd-51ef-4da8-a179-9fbd6b8e0eab"
    },
    {
      "cell_type": "raw",
      "metadata": {
        "raw_mimetype": "text/html"
      },
      "source": [
        "<!--     `x1`, and `x3`, but not `x2`. -->"
      ],
      "id": "7db79817-b723-413e-bffe-5c1d639afd41"
    },
    {
      "cell_type": "raw",
      "metadata": {
        "raw_mimetype": "text/html"
      },
      "source": [
        "<!-- -   `X5` is a column vector of regressor values orthogonal to `ones` and -->"
      ],
      "id": "6b9544dc-92ae-48af-9f50-f360b3e45ee5"
    },
    {
      "cell_type": "raw",
      "metadata": {
        "raw_mimetype": "text/html"
      },
      "source": [
        "<!--     `x1`, but not the other regressor vectors. -->"
      ],
      "id": "b1f49eae-a045-4d62-b4e2-9a4dfec8cd86"
    },
    {
      "cell_type": "raw",
      "metadata": {
        "raw_mimetype": "text/html"
      },
      "source": [
        "<!-- ```{r, include = FALSE} -->"
      ],
      "id": "43a78bb0-7a81-4a05-991c-c2436ea41832"
    },
    {
      "cell_type": "raw",
      "metadata": {
        "raw_mimetype": "text/html"
      },
      "source": [
        "<!-- y <- c(1, 4, 6, 8, 9) # response vector -->"
      ],
      "id": "f21769f7-cca8-48ff-bcd2-5548c12b4361"
    },
    {
      "cell_type": "raw",
      "metadata": {
        "raw_mimetype": "text/html"
      },
      "source": [
        "<!-- ones <- rep(0, 5) # column of 1s -->"
      ],
      "id": "2ba549b1-ba5d-425a-8a55-4b1f26724602"
    },
    {
      "cell_type": "raw",
      "metadata": {
        "raw_mimetype": "text/html"
      },
      "source": [
        "<!-- x1 <- c(7, 5, 5, 7, 7) # regressor 1 -->"
      ],
      "id": "2130c349-2e3d-4103-9eb3-ba0ab5384632"
    },
    {
      "cell_type": "raw",
      "metadata": {
        "raw_mimetype": "text/html"
      },
      "source": [
        "<!-- x2 <- c(-1, 2, -3, 1, 5/7) # create regressor 2 to be orthogonal to x1 -->"
      ],
      "id": "0833d2f3-4a8c-4057-9dfc-d1886d4f389a"
    },
    {
      "cell_type": "raw",
      "metadata": {
        "raw_mimetype": "text/html"
      },
      "source": [
        "<!-- crossprod(x1, x2) # cross product is zero -->"
      ],
      "id": "06c2dad0-cd95-4aaf-bd93-fe8fc9fcbb7e"
    },
    {
      "cell_type": "raw",
      "metadata": {
        "raw_mimetype": "text/html"
      },
      "source": [
        "<!-- x3 <- c(0, -1, 1, 0, 0) # orthogonal to ones, x1 -->"
      ],
      "id": "46b24de1-c4f3-49c0-932c-e0ab41c54bb0"
    },
    {
      "cell_type": "raw",
      "metadata": {
        "raw_mimetype": "text/html"
      },
      "source": [
        "<!-- x4 <- c(0, 0, 0, 1, -1) # orthogonal to ones, x1, x3 -->"
      ],
      "id": "d04d44bd-4ed2-4326-8288-f36f04c22874"
    },
    {
      "cell_type": "raw",
      "metadata": {
        "raw_mimetype": "text/html"
      },
      "source": [
        "<!-- x5 <- c(1, 0, 0, -1, 0) # orthogonal to ones, x1, not x4 -->"
      ],
      "id": "a422db29-1e26-47d8-ae00-4cb072582c57"
    },
    {
      "cell_type": "raw",
      "metadata": {
        "raw_mimetype": "text/html"
      },
      "source": [
        "<!-- crossprod(cbind(1, x1, x4, x5)) -->"
      ],
      "id": "b16bd9e8-ebcd-4b16-b66f-21146ecd3139"
    },
    {
      "cell_type": "raw",
      "metadata": {
        "raw_mimetype": "text/html"
      },
      "source": [
        "<!-- lm(y ~ x1) -->"
      ],
      "id": "0c797ed2-e8fd-4423-aa52-08ca4414592a"
    },
    {
      "cell_type": "raw",
      "metadata": {
        "raw_mimetype": "text/html"
      },
      "source": [
        "<!-- lm(y ~ x4 + x5 - 1) -->"
      ],
      "id": "3ee9e083-eb62-41a6-80e6-4295c0bf556b"
    },
    {
      "cell_type": "raw",
      "metadata": {
        "raw_mimetype": "text/html"
      },
      "source": [
        "<!-- lm(y ~ x1 + x4 + x5) -->"
      ],
      "id": "94d09a8b-3ff8-4c09-97e7-2d3ed934c71a"
    },
    {
      "cell_type": "raw",
      "metadata": {
        "raw_mimetype": "text/html"
      },
      "source": [
        "<!-- ``` -->"
      ],
      "id": "e1c27146-7a30-4395-8462-9408c11d5b00"
    },
    {
      "cell_type": "raw",
      "metadata": {
        "raw_mimetype": "text/html"
      },
      "source": [
        "<!-- In the code below, we define vectors `y`, `X1`, and `X2`. -->"
      ],
      "id": "fe1b7333-d22e-49fe-b412-e3c0b7edf90f"
    },
    {
      "cell_type": "raw",
      "metadata": {
        "raw_mimetype": "text/html"
      },
      "source": [
        "<!-- ```{r} -->"
      ],
      "id": "b276c8d8-82e5-4d22-af54-87924916b522"
    },
    {
      "cell_type": "raw",
      "metadata": {
        "raw_mimetype": "text/html"
      },
      "source": [
        "<!-- y <- c(1, 4, 6, 8, 9)       # create an arbitrary response vector -->"
      ],
      "id": "6b9a3b8c-9471-4478-948e-9e2787163baa"
    },
    {
      "cell_type": "raw",
      "metadata": {
        "raw_mimetype": "text/html"
      },
      "source": [
        "<!-- X1 <- c(7, 5, 5, 7, 7)      # create regressor 1 -->"
      ],
      "id": "870fdfe5-7855-4d2a-aef1-870ebe236450"
    },
    {
      "cell_type": "raw",
      "metadata": {
        "raw_mimetype": "text/html"
      },
      "source": [
        "<!-- X2 <- c(-1, 2, -3, 1, 5/7)  # create regressor 2 to be orthogonal to x1 -->"
      ],
      "id": "5843053e-8972-4316-b549-5986c41f85d6"
    },
    {
      "cell_type": "raw",
      "metadata": {
        "raw_mimetype": "text/html"
      },
      "source": [
        "<!-- ``` -->"
      ],
      "id": "3d035964-3e78-474b-967c-aa8b4d550248"
    },
    {
      "cell_type": "raw",
      "metadata": {
        "raw_mimetype": "text/html"
      },
      "source": [
        "<!-- Note that the `crossprod` function computes the cross product of two -->"
      ],
      "id": "a7392d60-b53f-4c72-ab43-a61c4c4edbc1"
    },
    {
      "cell_type": "raw",
      "metadata": {
        "raw_mimetype": "text/html"
      },
      "source": [
        "<!-- vectors or matrices, so that `crossprod(A, B)` computes -->"
      ],
      "id": "6e5b67ba-6987-403b-b5e2-572e84097966"
    },
    {
      "cell_type": "raw",
      "metadata": {
        "raw_mimetype": "text/html"
      },
      "source": [
        "<!-- $\\mathbf{A}^T B$, where the vectors or matrices must have the correct -->"
      ],
      "id": "300efe03-4f75-4853-97cd-fe0563315c84"
    },
    {
      "cell_type": "raw",
      "metadata": {
        "raw_mimetype": "text/html"
      },
      "source": [
        "<!-- dimension for the multiplication to be performed. -->"
      ],
      "id": "c99d80d2-fa86-4c30-8983-d7967fa8e0ed"
    },
    {
      "cell_type": "raw",
      "metadata": {
        "raw_mimetype": "text/html"
      },
      "source": [
        "<!-- The regressor vectors `X1` and `X2` are orthogonal since their -->"
      ],
      "id": "6e59c702-5b86-4f54-a65e-d4ea61c3bae5"
    },
    {
      "cell_type": "raw",
      "metadata": {
        "raw_mimetype": "text/html"
      },
      "source": [
        "<!-- cross product $\\mathbf{X}_{[1]}^T \\mathbf{X}_{[2]}$ (in R, -->"
      ],
      "id": "b097cd80-3e7f-4264-bfb8-53da3f9dde4f"
    },
    {
      "cell_type": "raw",
      "metadata": {
        "raw_mimetype": "text/html"
      },
      "source": [
        "<!-- `crossprod(X1, X2)`) equals zero, as shown in the code below. -->"
      ],
      "id": "ae41068d-b946-4230-86a9-f4d3e1a77b86"
    },
    {
      "cell_type": "raw",
      "metadata": {
        "raw_mimetype": "text/html"
      },
      "source": [
        "<!-- ```{r} -->"
      ],
      "id": "6b23f5c8-965f-4503-932c-3a8ee24d14b9"
    },
    {
      "cell_type": "raw",
      "metadata": {
        "raw_mimetype": "text/html"
      },
      "source": [
        "<!-- # cross product is zero, so X1 and X2 are orthogonal -->"
      ],
      "id": "98f93694-b52b-433c-ba87-72e7e481233e"
    },
    {
      "cell_type": "raw",
      "metadata": {
        "raw_mimetype": "text/html"
      },
      "source": [
        "<!-- crossprod(X1, X2) -->"
      ],
      "id": "6ce79364-ca34-4e44-bfd7-15f0c41c09c0"
    },
    {
      "cell_type": "raw",
      "metadata": {
        "raw_mimetype": "text/html"
      },
      "source": [
        "<!-- ``` -->"
      ],
      "id": "1cb5abea-34e7-4a72-96ab-486bf3f937cb"
    },
    {
      "cell_type": "raw",
      "metadata": {
        "raw_mimetype": "text/html"
      },
      "source": [
        "<!-- In the code below, we regress `y` on `x1` without an intercept -->"
      ],
      "id": "bc36b826-017e-47ba-9304-34c5a56117cc"
    },
    {
      "cell_type": "raw",
      "metadata": {
        "raw_mimetype": "text/html"
      },
      "source": [
        "<!-- (`lmod1`). The estimated coefficient for `X1` is $\\hat{\\beta}_1=0.893$. -->"
      ],
      "id": "7eabe9be-2209-4e4d-a64f-6778caf25e4f"
    },
    {
      "cell_type": "raw",
      "metadata": {
        "raw_mimetype": "text/html"
      },
      "source": [
        "<!-- Next, we then regress `y` on `X1` and `X2` without an intercept -->"
      ],
      "id": "5d6b8753-26b9-4833-9185-d66624989d23"
    },
    {
      "cell_type": "raw",
      "metadata": {
        "raw_mimetype": "text/html"
      },
      "source": [
        "<!-- (`lmod2`). The estimated coefficients for `X1` and `X2` are -->"
      ],
      "id": "39fc6ede-95d8-4229-b904-f3e5fff28c93"
    },
    {
      "cell_type": "raw",
      "metadata": {
        "raw_mimetype": "text/html"
      },
      "source": [
        "<!-- $\\hat{\\beta}_1=0.893$ and $\\hat{\\beta}_2=0.221$, respectively. Because -->"
      ],
      "id": "261c2cbf-58aa-4ecc-9d4d-0d7afb165714"
    },
    {
      "cell_type": "raw",
      "metadata": {
        "raw_mimetype": "text/html"
      },
      "source": [
        "<!-- `X1` and `X2` are orthogonal (and because there are no other regressors -->"
      ],
      "id": "065bca4b-4b56-48cd-8e69-14a3761a2991"
    },
    {
      "cell_type": "raw",
      "metadata": {
        "raw_mimetype": "text/html"
      },
      "source": [
        "<!-- to consider in the model), the estimated coefficient for `X1` stays the -->"
      ],
      "id": "d7a8cb71-efe7-480c-bc12-4dd739e23c64"
    },
    {
      "cell_type": "raw",
      "metadata": {
        "raw_mimetype": "text/html"
      },
      "source": [
        "<!-- same in both models. -->"
      ],
      "id": "20a26714-d850-4e05-91e4-1aba88a78ac0"
    },
    {
      "cell_type": "raw",
      "metadata": {
        "raw_mimetype": "text/html"
      },
      "source": [
        "<!-- ```{r} -->"
      ],
      "id": "c3c8f805-379c-4ab6-b6eb-d9451cb0c8db"
    },
    {
      "cell_type": "raw",
      "metadata": {
        "raw_mimetype": "text/html"
      },
      "source": [
        "<!-- # y regressed on X1 without an intercept -->"
      ],
      "id": "1c2035c7-ed42-435e-b2b5-6fa5c67f8511"
    },
    {
      "cell_type": "raw",
      "metadata": {
        "raw_mimetype": "text/html"
      },
      "source": [
        "<!-- lmod1 <- lm(y ~ x1 - 1) -->"
      ],
      "id": "3e20394f-ad43-4c07-83e0-416eabbeec9a"
    },
    {
      "cell_type": "raw",
      "metadata": {
        "raw_mimetype": "text/html"
      },
      "source": [
        "<!-- coef(lmod1) -->"
      ],
      "id": "3131f0f6-7503-450e-b695-3d1777227ff5"
    },
    {
      "cell_type": "raw",
      "metadata": {
        "raw_mimetype": "text/html"
      },
      "source": [
        "<!-- # y regressed on X1 and X2 without an intercept -->"
      ],
      "id": "67b7fb15-9936-4421-afc0-9deada1a1bae"
    },
    {
      "cell_type": "raw",
      "metadata": {
        "raw_mimetype": "text/html"
      },
      "source": [
        "<!-- lmod2 <- lm(y ~ x1 + x2 - 1) -->"
      ],
      "id": "92c7b70a-f11f-406e-9276-c86e0e388cdf"
    },
    {
      "cell_type": "raw",
      "metadata": {
        "raw_mimetype": "text/html"
      },
      "source": [
        "<!-- coef(lmod2) -->"
      ],
      "id": "9f67d47c-0c19-420e-9c6e-68b410796a4e"
    },
    {
      "cell_type": "raw",
      "metadata": {
        "raw_mimetype": "text/html"
      },
      "source": [
        "<!-- ``` -->"
      ],
      "id": "a61c13e8-345e-48e9-b001-3df071aeeaf5"
    },
    {
      "cell_type": "raw",
      "metadata": {
        "raw_mimetype": "text/html"
      },
      "source": [
        "<!-- The previous models (`lmod1` and `lmod2`) neglect an important -->"
      ],
      "id": "f7d5e723-4af6-47e2-8046-e9b8f50ed0c4"
    },
    {
      "cell_type": "raw",
      "metadata": {
        "raw_mimetype": "text/html"
      },
      "source": [
        "<!-- characteristic of a typical linear model: we usually include an -->"
      ],
      "id": "6a7ab537-a8c6-40e8-b4bd-4a7be798b7ed"
    },
    {
      "cell_type": "raw",
      "metadata": {
        "raw_mimetype": "text/html"
      },
      "source": [
        "<!-- intercept coefficient (a columns of 1s as a regressor) in our model. If -->"
      ],
      "id": "05d8c683-1678-4703-b898-31d877b6f574"
    },
    {
      "cell_type": "raw",
      "metadata": {
        "raw_mimetype": "text/html"
      },
      "source": [
        "<!-- the regressors are not orthogonal to the column of 1s in our -->"
      ],
      "id": "09ed093f-4726-4a71-84f2-47d63867db4c"
    },
    {
      "cell_type": "raw",
      "metadata": {
        "raw_mimetype": "text/html"
      },
      "source": [
        "<!-- $\\mathbf{X}$ matrix, then the coefficients for the other regressors in -->"
      ],
      "id": "65926170-6357-4457-8894-6b51d34e6235"
    },
    {
      "cell_type": "raw",
      "metadata": {
        "raw_mimetype": "text/html"
      },
      "source": [
        "<!-- the model will change when the regressors are added or removed from the -->"
      ],
      "id": "e4578779-1fed-40ce-a53d-de5cabbfedcd"
    },
    {
      "cell_type": "raw",
      "metadata": {
        "raw_mimetype": "text/html"
      },
      "source": [
        "<!-- model because they are not orthogonal to the column of 1s. -->"
      ],
      "id": "3879d0f1-2171-46b5-af94-1f76c529874e"
    },
    {
      "cell_type": "raw",
      "metadata": {
        "raw_mimetype": "text/html"
      },
      "source": [
        "<!-- However, neither `X1` nor `X2` is orthogonal with the column of ones. We -->"
      ],
      "id": "850391aa-c28c-4501-91dc-b1a83168a941"
    },
    {
      "cell_type": "raw",
      "metadata": {
        "raw_mimetype": "text/html"
      },
      "source": [
        "<!-- define the vector `ones` below, which is a column of 1s, and compute the -->"
      ],
      "id": "f7b9990a-7b52-4b02-94b3-23f8706c067b"
    },
    {
      "cell_type": "raw",
      "metadata": {
        "raw_mimetype": "text/html"
      },
      "source": [
        "<!-- cross product between `ones` and the two regressors. Since the -->"
      ],
      "id": "6b1c8582-57a0-42df-9e46-c7295aa1d1eb"
    },
    {
      "cell_type": "raw",
      "metadata": {
        "raw_mimetype": "text/html"
      },
      "source": [
        "<!-- cross products are not zero, `X1` and `X2` are not orthogonal to the -->"
      ],
      "id": "35138d11-51f8-414e-b7c3-ebcdb4618a0e"
    },
    {
      "cell_type": "raw",
      "metadata": {
        "raw_mimetype": "text/html"
      },
      "source": [
        "<!-- column of ones. -->"
      ],
      "id": "df1355f6-bb94-4ac5-b392-a6af48dc373f"
    },
    {
      "cell_type": "raw",
      "metadata": {
        "raw_mimetype": "text/html"
      },
      "source": [
        "<!-- ```{r} -->"
      ],
      "id": "87640260-7111-49b8-b25e-ecc48494bbfc"
    },
    {
      "cell_type": "raw",
      "metadata": {
        "raw_mimetype": "text/html"
      },
      "source": [
        "<!-- ones <- rep(1, 5)   # column of 1s -->"
      ],
      "id": "e05c8e3e-dd46-49c9-8c7f-2d62fad5671c"
    },
    {
      "cell_type": "raw",
      "metadata": {
        "raw_mimetype": "text/html"
      },
      "source": [
        "<!-- crossprod(ones, X1) # not zero, so not orthogonal -->"
      ],
      "id": "25771ea9-7fd6-4863-8547-aae95d059b67"
    },
    {
      "cell_type": "raw",
      "metadata": {
        "raw_mimetype": "text/html"
      },
      "source": [
        "<!-- crossprod(ones, X2) # not zero, so not orthogonal -->"
      ],
      "id": "1dc5e56b-4bed-4b23-83c4-6a1847fe29f0"
    },
    {
      "cell_type": "raw",
      "metadata": {
        "raw_mimetype": "text/html"
      },
      "source": [
        "<!-- ``` -->"
      ],
      "id": "41a3631d-e9af-49c4-b6ff-0827e55f2adc"
    },
    {
      "cell_type": "raw",
      "metadata": {
        "raw_mimetype": "text/html"
      },
      "source": [
        "<!-- We create `lmod3` by adding adding a column of ones to `lmod2` (i.e., if -->"
      ],
      "id": "86e5bbd9-f062-4262-a4d5-5272d1dcf18c"
    },
    {
      "cell_type": "raw",
      "metadata": {
        "raw_mimetype": "text/html"
      },
      "source": [
        "<!-- we include the intercept in the model). The the coefficients for both -->"
      ],
      "id": "d5d047e5-d5a0-4fc4-a92b-e4f05d80591b"
    },
    {
      "cell_type": "raw",
      "metadata": {
        "raw_mimetype": "text/html"
      },
      "source": [
        "<!-- `X1` and `X2` change when going from `lmod2` to `lmod3` because these -->"
      ],
      "id": "f6677fcd-50e0-4cf6-912d-ed8c73a2a1f9"
    },
    {
      "cell_type": "raw",
      "metadata": {
        "raw_mimetype": "text/html"
      },
      "source": [
        "<!-- regressors are not orthogonal to the column of 1s. Comparing the -->"
      ],
      "id": "4aabeac0-f612-4cf2-a513-c4821475856e"
    },
    {
      "cell_type": "raw",
      "metadata": {
        "raw_mimetype": "text/html"
      },
      "source": [
        "<!-- coefficients `lmod2` above and `lmod3`, $\\hat{\\beta}_1$ changes from -->"
      ],
      "id": "484bd63b-3c01-4802-b12c-57c4acfae0e3"
    },
    {
      "cell_type": "raw",
      "metadata": {
        "raw_mimetype": "text/html"
      },
      "source": [
        "<!-- $0.893$ to $0.397$ and $\\hat{\\beta}_2$ changes from $0.221$ to $0.279$. -->"
      ],
      "id": "76185476-d9cc-4199-9d5d-f6648de275d6"
    },
    {
      "cell_type": "raw",
      "metadata": {
        "raw_mimetype": "text/html"
      },
      "source": [
        "<!-- ```{r} -->"
      ],
      "id": "df448308-7bda-4978-9957-fca361e8defb"
    },
    {
      "cell_type": "raw",
      "metadata": {
        "raw_mimetype": "text/html"
      },
      "source": [
        "<!-- coef(lmod2) # coefficients for lmod2 -->"
      ],
      "id": "cea6f99a-e061-4123-b34e-35edd3052d48"
    },
    {
      "cell_type": "raw",
      "metadata": {
        "raw_mimetype": "text/html"
      },
      "source": [
        "<!-- # y regressed on X1 and X2 with an intercept -->"
      ],
      "id": "b545b7dd-8234-4c36-af12-b3f4b29aeaf3"
    },
    {
      "cell_type": "raw",
      "metadata": {
        "raw_mimetype": "text/html"
      },
      "source": [
        "<!-- lmod3 <- lm(y ~ x1 + x2) -->"
      ],
      "id": "255e3e85-b4bb-4d56-a2cc-d4268e3bd928"
    },
    {
      "cell_type": "raw",
      "metadata": {
        "raw_mimetype": "text/html"
      },
      "source": [
        "<!-- coef(lmod3) # coefficients for lmod3 -->"
      ],
      "id": "3ba74ec5-7a2d-425a-8dad-1fdd0b0e1910"
    },
    {
      "cell_type": "raw",
      "metadata": {
        "raw_mimetype": "text/html"
      },
      "source": [
        "<!-- ``` -->"
      ],
      "id": "43cb9f75-61f3-4892-b238-7e3eba348da2"
    },
    {
      "cell_type": "raw",
      "metadata": {
        "raw_mimetype": "text/html"
      },
      "source": [
        "<!-- For orthogonality of our regressors to be most impactful, the model's -->"
      ],
      "id": "10bf0c2f-fb48-4c15-bb4e-0a0618d7a659"
    },
    {
      "cell_type": "raw",
      "metadata": {
        "raw_mimetype": "text/html"
      },
      "source": [
        "<!-- regressors should be orthogonal to each other and the column of 1s. In -->"
      ],
      "id": "9c54689c-74af-47b3-b763-d1eaaacb5d97"
    },
    {
      "cell_type": "raw",
      "metadata": {
        "raw_mimetype": "text/html"
      },
      "source": [
        "<!-- that context, adding or removing any of the regressors doesn't impact -->"
      ],
      "id": "e0fdc23d-adfb-4f73-9076-915ddf2e03bb"
    },
    {
      "cell_type": "raw",
      "metadata": {
        "raw_mimetype": "text/html"
      },
      "source": [
        "<!-- the estimated coefficients of the other regressors. In the code below, -->"
      ],
      "id": "17959b60-6f81-42c5-bcab-0256919ea9c5"
    },
    {
      "cell_type": "raw",
      "metadata": {
        "raw_mimetype": "text/html"
      },
      "source": [
        "<!-- we define centered regressors `x3` and `x4` to be uncorrelated, i.e., -->"
      ],
      "id": "8cfa3c1f-1e53-4bc9-b63f-7fb94a15cece"
    },
    {
      "cell_type": "raw",
      "metadata": {
        "raw_mimetype": "text/html"
      },
      "source": [
        "<!-- `X3` and `X4` have sample mean zero and are orthogonal to each other. -->"
      ],
      "id": "181d5f21-0a42-4b0a-8f78-d53a369f44fd"
    },
    {
      "cell_type": "raw",
      "metadata": {
        "raw_mimetype": "text/html"
      },
      "source": [
        "<!-- ```{r} -->"
      ],
      "id": "8bf26b3d-363b-4c7f-a52f-7fbf34951a30"
    },
    {
      "cell_type": "raw",
      "metadata": {
        "raw_mimetype": "text/html"
      },
      "source": [
        "<!-- X3 <-  c(0, -1, 1, 0, 0) # sample mean is zero -->"
      ],
      "id": "92a34c0c-97b3-4472-8a63-4eff696aec24"
    },
    {
      "cell_type": "raw",
      "metadata": {
        "raw_mimetype": "text/html"
      },
      "source": [
        "<!-- X4 <- c(0, 0, 0, 1, -1)  # sample mean is zero -->"
      ],
      "id": "a0ae6a18-2dd2-484a-86d7-a4c8dd3f442d"
    },
    {
      "cell_type": "raw",
      "metadata": {
        "raw_mimetype": "text/html"
      },
      "source": [
        "<!-- cov(X3, X4)              # 0, so X3 and X4 are uncorrelated and orthogonal -->"
      ],
      "id": "97c38d6e-f470-4ed5-bad8-26e978ea69e2"
    },
    {
      "cell_type": "raw",
      "metadata": {
        "raw_mimetype": "text/html"
      },
      "source": [
        "<!-- ``` -->"
      ],
      "id": "e7210221-671f-4d7e-bc03-85266064c131"
    },
    {
      "cell_type": "raw",
      "metadata": {
        "raw_mimetype": "text/html"
      },
      "source": [
        "<!-- If we fit linear regression models with any combination of `ones`, `X3`, -->"
      ],
      "id": "99773f7d-5011-4385-863b-849f9dac88c3"
    },
    {
      "cell_type": "raw",
      "metadata": {
        "raw_mimetype": "text/html"
      },
      "source": [
        "<!-- or `X4` as regressors, the associated regression coefficients will not -->"
      ],
      "id": "8619b332-7467-4761-b6b8-330a2ee85bbb"
    },
    {
      "cell_type": "raw",
      "metadata": {
        "raw_mimetype": "text/html"
      },
      "source": [
        "<!-- change. To demonstrate this, we consider all possible combinations of -->"
      ],
      "id": "86a6d9df-39d5-4d13-ba20-6eac72e3ad25"
    },
    {
      "cell_type": "raw",
      "metadata": {
        "raw_mimetype": "text/html"
      },
      "source": [
        "<!-- the three variables in the models below. We do not run the code to save -->"
      ],
      "id": "3bdc62a4-6fdd-4c9a-9e02-75512411210f"
    },
    {
      "cell_type": "raw",
      "metadata": {
        "raw_mimetype": "text/html"
      },
      "source": [
        "<!-- space, but we summarize the results below. -->"
      ],
      "id": "20290edd-3327-4da6-a14e-bda1b62b020a"
    },
    {
      "cell_type": "raw",
      "metadata": {
        "raw_mimetype": "text/html"
      },
      "source": [
        "<!-- ```{r, eval = FALSE} -->"
      ],
      "id": "70e914f0-1f54-4cae-8011-21a892113b9f"
    },
    {
      "cell_type": "raw",
      "metadata": {
        "raw_mimetype": "text/html"
      },
      "source": [
        "<!-- coef(lm(y ~ 1))           # only column of 1s -->"
      ],
      "id": "15ca5aff-97aa-4162-90c3-67e07a935fd5"
    },
    {
      "cell_type": "raw",
      "metadata": {
        "raw_mimetype": "text/html"
      },
      "source": [
        "<!-- coef(lm(y ~ x3 - 1))      # only x3 -->"
      ],
      "id": "bb1109ec-9b65-48ff-8648-c0923975b0ab"
    },
    {
      "cell_type": "raw",
      "metadata": {
        "raw_mimetype": "text/html"
      },
      "source": [
        "<!-- coef(lm(y ~ x4 - 1))      # only x4 -->"
      ],
      "id": "60f43daa-4b29-4785-960a-1152c3c34c2b"
    },
    {
      "cell_type": "raw",
      "metadata": {
        "raw_mimetype": "text/html"
      },
      "source": [
        "<!-- coef(lm(y ~ x3))          # 1s and x3 -->"
      ],
      "id": "814f5500-7978-4905-babb-379fab196868"
    },
    {
      "cell_type": "raw",
      "metadata": {
        "raw_mimetype": "text/html"
      },
      "source": [
        "<!-- coef(lm(y ~ x4))          # 1s and x4 -->"
      ],
      "id": "579cf445-26f4-4cff-8975-12e844cc7048"
    },
    {
      "cell_type": "raw",
      "metadata": {
        "raw_mimetype": "text/html"
      },
      "source": [
        "<!-- coef(lm(y ~ x3 + x4 - 1)) # x3 and x4 -->"
      ],
      "id": "339606a2-99e6-4a9a-9578-356f4a72413d"
    },
    {
      "cell_type": "raw",
      "metadata": {
        "raw_mimetype": "text/html"
      },
      "source": [
        "<!-- coef(lm(y ~ x3 + x4))     # 1s, x3, and x4 -->"
      ],
      "id": "b69f5c8b-954b-41d2-ba24-8f935a3607c6"
    },
    {
      "cell_type": "raw",
      "metadata": {
        "raw_mimetype": "text/html"
      },
      "source": [
        "<!-- ``` -->"
      ],
      "id": "7dc9000b-06d9-4404-beae-6e30d4a7e83b"
    },
    {
      "cell_type": "raw",
      "metadata": {
        "raw_mimetype": "text/html"
      },
      "source": [
        "<!-- We simply note that in each of the previous models, because all of the -->"
      ],
      "id": "d7e13652-2e97-4801-b63c-af5fef93c6a5"
    },
    {
      "cell_type": "raw",
      "metadata": {
        "raw_mimetype": "text/html"
      },
      "source": [
        "<!-- regressors (and the column of 1s) are orthogonal to each other, adding -->"
      ],
      "id": "3fb08559-ee9a-4016-9a88-f702f707ab38"
    },
    {
      "cell_type": "raw",
      "metadata": {
        "raw_mimetype": "text/html"
      },
      "source": [
        "<!-- or removing any regressor doesn't impact the estimated coefficients for -->"
      ],
      "id": "f35a32bc-a58c-4245-9d09-26abe9bcf55e"
    },
    {
      "cell_type": "raw",
      "metadata": {
        "raw_mimetype": "text/html"
      },
      "source": [
        "<!-- the other regressors in the model. Thus, the estimated coefficients were -->"
      ],
      "id": "8249a5c6-be7f-4d95-8a22-daea1a3ef7bf"
    },
    {
      "cell_type": "raw",
      "metadata": {
        "raw_mimetype": "text/html"
      },
      "source": [
        "<!-- $\\hat{\\beta}_{0}=5.6$, $\\hat{\\beta}_{3}=1.0$, $\\hat{\\beta}_{4}=-0.5$ -->"
      ],
      "id": "826e7ad3-67f2-45f2-984b-78aeb4aed9d6"
    },
    {
      "cell_type": "raw",
      "metadata": {
        "raw_mimetype": "text/html"
      },
      "source": [
        "<!-- when the relevant regressor was included in the model. -->"
      ],
      "id": "2c54f810-35ca-4a87-bb30-73c842a63042"
    },
    {
      "cell_type": "raw",
      "metadata": {
        "raw_mimetype": "text/html"
      },
      "source": [
        "<!-- The easiest way to determine which vectors are orthogonal to each other -->"
      ],
      "id": "d7961737-a316-49ce-85ed-6a4ff6756c5e"
    },
    {
      "cell_type": "raw",
      "metadata": {
        "raw_mimetype": "text/html"
      },
      "source": [
        "<!-- and the intercept is to compute the cross product of the $\\mathbf{X}$ -->"
      ],
      "id": "efaa8e04-2f6d-4c0a-8d0b-6f5185f0b9df"
    },
    {
      "cell_type": "raw",
      "metadata": {
        "raw_mimetype": "text/html"
      },
      "source": [
        "<!-- matrix for the largest set of regressors we are considering. Consider -->"
      ],
      "id": "9ccaf63f-c7a0-41c3-9b76-bac6af72d027"
    },
    {
      "cell_type": "raw",
      "metadata": {
        "raw_mimetype": "text/html"
      },
      "source": [
        "<!-- the matrix of cross products for the columns of 1s, `x1`, `x2`, `x3`, and -->"
      ],
      "id": "6670f530-f705-44f3-bf8d-53106c347258"
    },
    {
      "cell_type": "raw",
      "metadata": {
        "raw_mimetype": "text/html"
      },
      "source": [
        "<!-- `x4`. -->"
      ],
      "id": "33b4a8e9-24f5-4509-b46f-dfab1db53ba9"
    },
    {
      "cell_type": "raw",
      "metadata": {
        "raw_mimetype": "text/html"
      },
      "source": [
        "<!-- ```{r} -->"
      ],
      "id": "866b966e-f6fd-4166-9eef-9e9e62806f2a"
    },
    {
      "cell_type": "raw",
      "metadata": {
        "raw_mimetype": "text/html"
      },
      "source": [
        "<!-- crossprod(model.matrix(~ X1 + X2 + X3 + X4)) -->"
      ],
      "id": "12712a22-4f68-48f7-9269-aa502c558995"
    },
    {
      "cell_type": "raw",
      "metadata": {
        "raw_mimetype": "text/html"
      },
      "source": [
        "<!-- ``` -->"
      ],
      "id": "cab12298-23cc-426d-8b77-da12bce40e1a"
    },
    {
      "cell_type": "raw",
      "metadata": {
        "raw_mimetype": "text/html"
      },
      "source": [
        "<!-- Consider the sequence of models below. -->"
      ],
      "id": "e13d0670-32b9-4416-b6c2-b8d63933f372"
    },
    {
      "cell_type": "raw",
      "metadata": {
        "raw_mimetype": "text/html"
      },
      "source": [
        "<!-- ```{r} -->"
      ],
      "id": "6aacc22f-c112-4a1a-b816-e82490cd8356"
    },
    {
      "cell_type": "raw",
      "metadata": {
        "raw_mimetype": "text/html"
      },
      "source": [
        "<!-- coef(lm(y ~ 1)) -->"
      ],
      "id": "5beaa97a-fc54-4d1e-ace4-9c6e8c2cffc9"
    },
    {
      "cell_type": "raw",
      "metadata": {
        "raw_mimetype": "text/html"
      },
      "source": [
        "<!-- ``` -->"
      ],
      "id": "409d09cd-2e77-41f9-b5e4-035c5eaa5b3e"
    },
    {
      "cell_type": "raw",
      "metadata": {
        "raw_mimetype": "text/html"
      },
      "source": [
        "<!-- The model with only an intercept has an estimated coefficient of -->"
      ],
      "id": "24676488-e15e-4fa3-9d40-350423c08d07"
    },
    {
      "cell_type": "raw",
      "metadata": {
        "raw_mimetype": "text/html"
      },
      "source": [
        "<!-- $\\hat{\\beta}_{int}=5.6$. If we add the `X1` to the model with an -->"
      ],
      "id": "64787ee0-2233-4aee-8c59-584277fea38f"
    },
    {
      "cell_type": "raw",
      "metadata": {
        "raw_mimetype": "text/html"
      },
      "source": [
        "<!-- intercept, then both coefficients change because they are not orthogonal -->"
      ],
      "id": "0c183b5b-596c-446c-ba2a-a5a7ff683cf3"
    },
    {
      "cell_type": "raw",
      "metadata": {
        "raw_mimetype": "text/html"
      },
      "source": [
        "<!-- to each other. -->"
      ],
      "id": "6b164a4b-522e-470c-8ccc-5a8e3782e172"
    },
    {
      "cell_type": "raw",
      "metadata": {
        "raw_mimetype": "text/html"
      },
      "source": [
        "<!-- ```{r} -->"
      ],
      "id": "e53abcc4-1200-44bd-b7ab-02d8a3e41947"
    },
    {
      "cell_type": "raw",
      "metadata": {
        "raw_mimetype": "text/html"
      },
      "source": [
        "<!-- lmod4 <- lm(y ~ x1) # model with 1s and x1 -->"
      ],
      "id": "31b2d0c9-8588-445e-b9b8-bf294b17f0ed"
    },
    {
      "cell_type": "raw",
      "metadata": {
        "raw_mimetype": "text/html"
      },
      "source": [
        "<!-- coef(lmod4) -->"
      ],
      "id": "b74ab04d-99cf-42af-b042-329d432b59d6"
    },
    {
      "cell_type": "raw",
      "metadata": {
        "raw_mimetype": "text/html"
      },
      "source": [
        "<!-- ``` -->"
      ],
      "id": "9acf3f7b-dd13-4ef5-abae-f1453d04809f"
    },
    {
      "cell_type": "raw",
      "metadata": {
        "raw_mimetype": "text/html"
      },
      "source": [
        "<!-- If we add `X2` to `lmod4`, we might think that only $\\hat{\\beta}_{0}$ -->"
      ],
      "id": "6a56ac58-7a1a-431f-9bdd-0ee57cafd280"
    },
    {
      "cell_type": "raw",
      "metadata": {
        "raw_mimetype": "text/html"
      },
      "source": [
        "<!-- will change because `X1` and `X2` are orthogonal to each other. However, -->"
      ],
      "id": "c8154f76-2562-4ddc-8fab-2565d850cf00"
    },
    {
      "cell_type": "raw",
      "metadata": {
        "raw_mimetype": "text/html"
      },
      "source": [
        "<!-- because `X2` is not orthogonal to all of the other regressors in the -->"
      ],
      "id": "0402c025-f0cf-4701-a58f-f8ce03040513"
    },
    {
      "cell_type": "raw",
      "metadata": {
        "raw_mimetype": "text/html"
      },
      "source": [
        "<!-- model (`X1` and the column of 1s), both $\\hat{\\beta}_{0}$ and -->"
      ],
      "id": "ec00fc02-55da-4cd3-9744-0e1eccc53404"
    },
    {
      "cell_type": "raw",
      "metadata": {
        "raw_mimetype": "text/html"
      },
      "source": [
        "<!-- $\\hat{\\beta}_1$ will change. The easiest way to realize this is to look -->"
      ],
      "id": "da3ee29f-6ab8-419d-b923-63b1ee0e7787"
    },
    {
      "cell_type": "raw",
      "metadata": {
        "raw_mimetype": "text/html"
      },
      "source": [
        "<!-- at `lmod2` above with only `x1` and `x2`. When we add the column of 1s -->"
      ],
      "id": "497d5fce-6adb-44ec-86c9-bf877255cab1"
    },
    {
      "cell_type": "raw",
      "metadata": {
        "raw_mimetype": "text/html"
      },
      "source": [
        "<!-- to `lmod2`, both $\\hat{\\beta}_1$ and $\\hat{\\beta}_2$ will change because -->"
      ],
      "id": "9772ed82-6c54-4cc0-8077-e3a9cb0c7f06"
    },
    {
      "cell_type": "raw",
      "metadata": {
        "raw_mimetype": "text/html"
      },
      "source": [
        "<!-- neither regressor is orthogonal to the column of 1s needed to include -->"
      ],
      "id": "85fdba23-2bca-48a5-bc4c-6cd2fec97f32"
    },
    {
      "cell_type": "raw",
      "metadata": {
        "raw_mimetype": "text/html"
      },
      "source": [
        "<!-- the intercept term. -->"
      ],
      "id": "dc126d10-52ab-486b-b5a0-43cc289f8175"
    },
    {
      "cell_type": "raw",
      "metadata": {
        "raw_mimetype": "text/html"
      },
      "source": [
        "<!-- ```{r} -->"
      ],
      "id": "252545e3-93aa-4813-bb5c-2b084edbe8dc"
    },
    {
      "cell_type": "raw",
      "metadata": {
        "raw_mimetype": "text/html"
      },
      "source": [
        "<!-- coef(lm(y ~ x1 + x2)) -->"
      ],
      "id": "992631b1-f76d-471f-98e9-25b3140dcf08"
    },
    {
      "cell_type": "raw",
      "metadata": {
        "raw_mimetype": "text/html"
      },
      "source": [
        "<!-- ``` -->"
      ],
      "id": "00b3f452-8b27-49ea-84a1-e63c6bce742e"
    },
    {
      "cell_type": "raw",
      "metadata": {
        "raw_mimetype": "text/html"
      },
      "source": [
        "<!-- However, note that `X3` is orthogonal to the column of 1s and `X1`. -->"
      ],
      "id": "b60cf40c-c0ae-4c25-94b7-a788f0739c27"
    },
    {
      "cell_type": "raw",
      "metadata": {
        "raw_mimetype": "text/html"
      },
      "source": [
        "<!-- Thus, if we add `X3` to `lmod4`, which includes both a column of 1s and -->"
      ],
      "id": "38520b45-3eea-4c1b-a6a5-a78b1cab50e2"
    },
    {
      "cell_type": "raw",
      "metadata": {
        "raw_mimetype": "text/html"
      },
      "source": [
        "<!-- `X1`, `X3` will not change the estimated coefficients for the intercept -->"
      ],
      "id": "d4c295a4-3294-40ed-9da9-5ca06f5d36d6"
    },
    {
      "cell_type": "raw",
      "metadata": {
        "raw_mimetype": "text/html"
      },
      "source": [
        "<!-- or `X1`. -->"
      ],
      "id": "b47ebc6e-73c4-4773-bb75-1412dedbdb6e"
    },
    {
      "cell_type": "raw",
      "metadata": {
        "raw_mimetype": "text/html"
      },
      "source": [
        "<!-- ```{r} -->"
      ],
      "id": "060bd185-04cf-4915-b85e-f6bb0bf051f4"
    },
    {
      "cell_type": "raw",
      "metadata": {
        "raw_mimetype": "text/html"
      },
      "source": [
        "<!-- coef(lm(y ~ x1 + x3)) -->"
      ],
      "id": "c9f2de63-3441-4a80-b8b5-12d8f558158f"
    },
    {
      "cell_type": "raw",
      "metadata": {
        "raw_mimetype": "text/html"
      },
      "source": [
        "<!-- ``` -->"
      ],
      "id": "5edb2b0d-a20e-4efd-a422-3f5347a60543"
    },
    {
      "cell_type": "raw",
      "metadata": {
        "raw_mimetype": "text/html"
      },
      "source": [
        "<!-- Additionally, since `X4` is orthogonal to the column of 1s, `x1`, and -->"
      ],
      "id": "4a9223da-e1a3-43c1-a54e-8c57eb8f6ccd"
    },
    {
      "cell_type": "raw",
      "metadata": {
        "raw_mimetype": "text/html"
      },
      "source": [
        "<!-- `x3`, adding `X4` to the previous model will not change the estimated -->"
      ],
      "id": "a4c1f6e3-338c-4720-a943-bc6535379697"
    },
    {
      "cell_type": "raw",
      "metadata": {
        "raw_mimetype": "text/html"
      },
      "source": [
        "<!-- coefficients for any of the other variables already in the model. -->"
      ],
      "id": "8cd08d6f-f846-4556-868a-6ee644513b17"
    },
    {
      "cell_type": "raw",
      "metadata": {
        "raw_mimetype": "text/html"
      },
      "source": [
        "<!-- ```{r} -->"
      ],
      "id": "f69f6c54-7972-40e4-b212-32c1915a55cd"
    },
    {
      "cell_type": "raw",
      "metadata": {
        "raw_mimetype": "text/html"
      },
      "source": [
        "<!-- coef(lm(y ~ x1 + x3 + x4)) -->"
      ],
      "id": "c5dbab4a-14e6-4cc0-a597-df5f595fbe9e"
    },
    {
      "cell_type": "raw",
      "metadata": {
        "raw_mimetype": "text/html"
      },
      "source": [
        "<!-- ``` -->"
      ],
      "id": "eabe34b8-7557-4f29-bd61-2a3a9cf05eb8"
    },
    {
      "cell_type": "raw",
      "metadata": {
        "raw_mimetype": "text/html"
      },
      "source": [
        "<!-- Lastly, if we can partition our $\\mathbf{X}$ matrix such that -->"
      ],
      "id": "3bc9381b-6f60-4610-82ce-9934f1178d2a"
    },
    {
      "cell_type": "raw",
      "metadata": {
        "raw_mimetype": "text/html"
      },
      "source": [
        "<!-- $\\mathbf{X}^T \\mathbf{X}$ is a block diagonal matrix, then none of the -->"
      ],
      "id": "0cea5552-a163-4473-8d75-bce0fcdd5d78"
    },
    {
      "cell_type": "raw",
      "metadata": {
        "raw_mimetype": "text/html"
      },
      "source": [
        "<!-- blocks of variables will affect the estimated coefficients of the other -->"
      ],
      "id": "62c8a8e0-3169-4f90-8d23-bf2de6e64e37"
    },
    {
      "cell_type": "raw",
      "metadata": {
        "raw_mimetype": "text/html"
      },
      "source": [
        "<!-- variables. -->"
      ],
      "id": "347b9315-863d-4e03-ba61-804c076dd07a"
    },
    {
      "cell_type": "raw",
      "metadata": {
        "raw_mimetype": "text/html"
      },
      "source": [
        "<!-- Define a new regressor `X5` below. `X5` is orthogonal to the column of -->"
      ],
      "id": "72b14751-6686-485c-8820-bd22ba49d35b"
    },
    {
      "cell_type": "raw",
      "metadata": {
        "raw_mimetype": "text/html"
      },
      "source": [
        "<!-- 1s and `X1`, but not `X4`. -->"
      ],
      "id": "edc78253-a945-48f3-a65e-1fa4f7ff0566"
    },
    {
      "cell_type": "raw",
      "metadata": {
        "raw_mimetype": "text/html"
      },
      "source": [
        "<!-- ```{r} -->"
      ],
      "id": "299288bb-583c-457f-b100-bdb77f2455be"
    },
    {
      "cell_type": "raw",
      "metadata": {
        "raw_mimetype": "text/html"
      },
      "source": [
        "<!-- X5 <- c(1, 0, 0, -1, 0) # orthogonal to ones, x1, not x4 -->"
      ],
      "id": "3138c829-ee3e-4121-b417-45369f1ec359"
    },
    {
      "cell_type": "raw",
      "metadata": {
        "raw_mimetype": "text/html"
      },
      "source": [
        "<!-- # note block of 0s -->"
      ],
      "id": "8701fc12-8e7d-475f-973c-fc965851d392"
    },
    {
      "cell_type": "raw",
      "metadata": {
        "raw_mimetype": "text/html"
      },
      "source": [
        "<!-- crossprod(cbind(ones, X1, X4, X5)) -->"
      ],
      "id": "20eb9169-4d47-4d68-ad39-1ea0e7d60fcc"
    },
    {
      "cell_type": "raw",
      "metadata": {
        "raw_mimetype": "text/html"
      },
      "source": [
        "<!-- ``` -->"
      ],
      "id": "8c2de350-2d70-46fe-abde-b8ea02c2e837"
    },
    {
      "cell_type": "raw",
      "metadata": {
        "raw_mimetype": "text/html"
      },
      "source": [
        "<!-- Note the block of zeros in the lower left and upper right corners of the -->"
      ],
      "id": "ebfa98dd-927a-4b6f-aae3-f5973e95a01b"
    },
    {
      "cell_type": "raw",
      "metadata": {
        "raw_mimetype": "text/html"
      },
      "source": [
        "<!-- cross product matrix above. The block containing `ones` and `X1` is -->"
      ],
      "id": "b350ffb8-6bac-4450-9d26-24ace2e4f38c"
    },
    {
      "cell_type": "raw",
      "metadata": {
        "raw_mimetype": "text/html"
      },
      "source": [
        "<!-- orthogonal to the block containing `X4` and `X5`. This means that if we -->"
      ],
      "id": "0d93ed76-fa7a-4b8d-b32f-7f24b383ce71"
    },
    {
      "cell_type": "raw",
      "metadata": {
        "raw_mimetype": "text/html"
      },
      "source": [
        "<!-- fit the model with only the column of 1s and `X1`, the model only with -->"
      ],
      "id": "fc4bd740-f973-4f5d-8191-68a02d2b32b4"
    },
    {
      "cell_type": "raw",
      "metadata": {
        "raw_mimetype": "text/html"
      },
      "source": [
        "<!-- `X4` and `X5`, and then fit the model with the column of 1s, `x1`, `x4`, -->"
      ],
      "id": "e9ad2be3-f2f1-43ae-a497-3ad2c21458bd"
    },
    {
      "cell_type": "raw",
      "metadata": {
        "raw_mimetype": "text/html"
      },
      "source": [
        "<!-- and `x5`, then the coefficients $\\hat{\\beta}_{0}$ and $\\hat{\\beta}_{1}$ -->"
      ],
      "id": "85b6a5aa-dade-435c-9af8-32ed293b8eb6"
    },
    {
      "cell_type": "raw",
      "metadata": {
        "raw_mimetype": "text/html"
      },
      "source": [
        "<!-- are not impacted when `X4` and `X5` are added to the model. Similarly, -->"
      ],
      "id": "563f5c0f-b1c8-48a3-b233-47b3cb82a5ce"
    },
    {
      "cell_type": "raw",
      "metadata": {
        "raw_mimetype": "text/html"
      },
      "source": [
        "<!-- $\\hat{\\beta}_{4}$ and $\\hat{\\beta}_{5}$ are not impacted when the column -->"
      ],
      "id": "3820c59b-ccc2-48f7-80b2-4d8a88f744e2"
    },
    {
      "cell_type": "raw",
      "metadata": {
        "raw_mimetype": "text/html"
      },
      "source": [
        "<!-- of 1s and `X1` are added to the model with `X4` and `X5`. See the output -->"
      ],
      "id": "fd354c00-fe3e-4b10-9a22-27202832d2c6"
    },
    {
      "cell_type": "raw",
      "metadata": {
        "raw_mimetype": "text/html"
      },
      "source": [
        "<!-- below. -->"
      ],
      "id": "9a2d1602-e518-49b0-8848-90fc775104fe"
    },
    {
      "cell_type": "raw",
      "metadata": {
        "raw_mimetype": "text/html"
      },
      "source": [
        "<!-- ```{r} -->"
      ],
      "id": "d80cd728-bd40-4f18-b959-3fa5dd643c18"
    },
    {
      "cell_type": "raw",
      "metadata": {
        "raw_mimetype": "text/html"
      },
      "source": [
        "<!-- lm(y ~ x1)           # model with 1s and x1 -->"
      ],
      "id": "7a8e844a-bef1-4d0c-9da0-df05ba0b3b45"
    },
    {
      "cell_type": "raw",
      "metadata": {
        "raw_mimetype": "text/html"
      },
      "source": [
        "<!-- lm(y ~ x4 + x5 - 1)  # model with x4 and x5 only -->"
      ],
      "id": "a13be5ed-3c53-444c-b8f2-8a3c66f42176"
    },
    {
      "cell_type": "raw",
      "metadata": {
        "raw_mimetype": "text/html"
      },
      "source": [
        "<!-- lm(y ~ x1 + x4 + x5) # model with 1s, x1, x4, x5 -->"
      ],
      "id": "557fb711-3e98-4a2e-b001-da2d889e107f"
    },
    {
      "cell_type": "raw",
      "metadata": {
        "raw_mimetype": "text/html"
      },
      "source": [
        "<!-- ``` -->"
      ],
      "id": "8bea2085-bc9f-4285-87fb-2e86c356afe2"
    }
  ],
  "nbformat": 4,
  "nbformat_minor": 5,
  "metadata": {
    "kernelspec": {
      "name": "ir",
      "display_name": "R",
      "language": "R"
    }
  }
}