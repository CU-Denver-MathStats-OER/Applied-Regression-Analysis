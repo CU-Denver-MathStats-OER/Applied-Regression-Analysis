{
  "cells": [
    {
      "cell_type": "markdown",
      "metadata": {},
      "source": [
        "# Chapter 10 - Influential observations diagnostics\n",
        "\n",
        "Joshua French\n",
        "\n",
        "To open this information in an interactive Colab notebook, click the Open in Colab graphic below.\n",
        "\n",
        "<a href=\"https://colab.research.google.com/github/jfrench/LinearRegression/blob/master/notebooks/10-influential-observations-diagnostics-notebook.ipynb\"> <img src=\"https://colab.research.google.com/assets/colab-badge.svg\"> </a>\n",
        "\n",
        "------------------------------------------------------------------------"
      ],
      "id": "18b74a30-4a53-45f1-a9a3-a51b606272b3"
    },
    {
      "cell_type": "code",
      "execution_count": 1,
      "metadata": {},
      "outputs": [],
      "source": [
        "if(!require(api2lm, quietly = TRUE)) {\n",
        "  install.packages(\"api2lm\",\n",
        "                   repos = \"https://cran.rstudio.com/\")\n",
        "}"
      ],
      "id": "22fe1537-b872-4d1e-a0ea-012e80747208"
    },
    {
      "cell_type": "markdown",
      "metadata": {},
      "source": [
        "We adjust some printing options for clarity."
      ],
      "id": "51d3ca49-8aa6-4651-88aa-2483af509b0f"
    },
    {
      "cell_type": "code",
      "execution_count": 2,
      "metadata": {},
      "outputs": [],
      "source": [
        "options(digits = 5, scipen = 2)"
      ],
      "id": "9c99b5cb-c947-4932-a797-ef1489982493"
    },
    {
      "cell_type": "markdown",
      "metadata": {},
      "source": [
        "# Influential observations\n",
        "\n",
        "One of the key assumptions we implicitly make when we fit a regression model to data is that the fit of the model isn’t dramatically influenced by a few observations.\n",
        "\n",
        "-   Each observation should have a similar impact on the fitted model.\n",
        "\n",
        "We want our model fit to behave like a democracy (each observation has an equal say in the fit) instead of a dictatorship or oligarchy (only a few observations, at most, have real power in determining the fit of the model to the data).\n",
        "\n",
        "An **influential observation** dramatically changes the fitted model based on whether it is included or excluded from the analysis.\n",
        "\n",
        "-   An observation may not be influential on its own but can be influential when working with other observations.\n",
        "\n",
        "Influential observations are often extreme with respect to their response values or their associated predictors.\n",
        "\n",
        "-   An **outlier** is an observation with a large residual.\n",
        "    -   The response is relatively far from its fitted value.\n",
        "-   A **leverage point** is an observation whose predictor values are extreme relative to most other observations.\n",
        "    -   A person with “leverage” over another person has the power to influence what that person does.\n",
        "    -   A leverage point has the ability to exert strong influence over a model fit.\n",
        "\n",
        "Outliers, leverage points, and influential observations are all model specific.\n",
        "\n",
        "-   An outlier (etc.) may be an outlier for one fitted model but not for a different one.\n",
        "\n",
        "In what follows, we assume that our fitted model has $p$ regression coefficients to estimate.\n",
        "\n",
        "# `home_sales` data\n",
        "\n",
        "To facilitate our discussion we will use the `home_sales` data set in the **api2lm** package, which contains information about homes sold in King County, WA between May 2014 and May 2015. The data set is a data frame with 216 rows and 8 columns:\n",
        "\n",
        "-   `price`: sale price (log10 units).\n",
        "-   `bedrooms`: number of bedrooms.\n",
        "-   `bathrooms`: number of bathrooms.\n",
        "-   `sqft_living`: size of living space.\n",
        "-   `sqft_lot`: size of property.\n",
        "-   `floors`: number of floors.\n",
        "-   `waterfront`: a factor variable with levels `\"yes\"` and `\"no\"` that indicate whether a home as a waterfront view.\n",
        "-   `condition`: a factor variable indicating the condition of a house with levels ranging from `\"poor\"` to `\"very good\"`.\n",
        "\n",
        "We load the data below."
      ],
      "id": "3934bc84-554b-496e-b85f-9b60eb40c585"
    },
    {
      "cell_type": "code",
      "execution_count": 3,
      "metadata": {},
      "outputs": [],
      "source": [
        "data(home_sales, package = \"api2lm\")"
      ],
      "id": "13c8d2a3-08a5-4500-9c75-bd6526552398"
    },
    {
      "cell_type": "markdown",
      "metadata": {},
      "source": [
        "The validity of the assumptions we want to check depend on the model fit to the data.\n",
        "\n",
        "We will regress the `price` variable on all of the remaining variables in `home_sales`."
      ],
      "id": "3bb23f38-5f82-4f43-8295-3c47774c3146"
    },
    {
      "cell_type": "code",
      "execution_count": 4,
      "metadata": {},
      "outputs": [],
      "source": [
        "lmod <- lm(price ~ ., data = home_sales)\n",
        "coef(lmod)"
      ],
      "id": "8ad1179c-4670-44eb-a0a1-21a1241153d0"
    },
    {
      "cell_type": "markdown",
      "metadata": {},
      "source": [
        "We use the `summary` function to provide a numeric summary of the data set for later use."
      ],
      "id": "91b0918e-aa79-478c-816e-e53973255521"
    },
    {
      "cell_type": "code",
      "execution_count": 5,
      "metadata": {},
      "outputs": [],
      "source": [
        "summary(home_sales)"
      ],
      "id": "7c1ee24c-d5cd-4233-9d9a-5a45d0c2db34"
    },
    {
      "cell_type": "markdown",
      "metadata": {},
      "source": [
        "# LOO and studentized residuals\n",
        "\n",
        "Leave-one-out (LOO) and studentized residuals are specific types of residuals that are useful for identifying outliers and influential observations.\n",
        "\n",
        "LOO residuals are directly connected with LOO cross-validation.\n",
        "\n",
        "-   LOO residuals are also known as deleted residuals.\n",
        "\n",
        "Let $\\hat{Y}_{i(i)}$ denote the prediction of observation $i$ for the model that was fit using all $n$ observations except the $i$th one.\n",
        "\n",
        "-   This is the predicted response for observation $i$ using LOO cross-validation.\n",
        "\n",
        "The **leave-one-out residual** for observation $i$ is defined as\n",
        "\n",
        "$$l_i = Y_i - \\hat{Y}_{i(i)}.$$\n",
        "\n",
        "If an observation is influential, then the LOO residual may be substantially larger in magnitude than the ordinary residual.\n",
        "\n",
        "-   An influential observation is like a black hole that pulls the fitted model toward itself, so its associated residual might be small.\n",
        "\n",
        "Interestingly, the $i$th LOO residual can be computed via the equation\n",
        "\n",
        "$$\n",
        "l_i = \\frac{\\hat{\\epsilon}_i}{1-h_i},\n",
        "$$ where $h_i=\\mathbf{H}_{i,i}$ is the $i$th diagonal element of the hat matrix given by $\\mathbf{H} = \\mathbf{X}(\\mathbf{X}^T\\mathbf{X})^{-1}\\mathbf{X}^T$.\n",
        "\n",
        "-   We do not need to fit multiple models to compute the the LOO residuals.\n",
        "\n",
        "Let $\\hat{\\sigma}_{(i)}^2$ denote the residual variance for the model fit using all $n$ observations except observation $i$.\n",
        "\n",
        "-   We will call this the **LOO residual variance**.\n",
        "\n",
        "The **studentized residual** for observation $i$ is defined as\n",
        "\n",
        "$$\n",
        "t_i = \\frac{\\hat{\\epsilon_i}}{\\hat{\\sigma}_{(i)}\\sqrt{1-h_i}}.\n",
        "$$\n",
        "\n",
        "Assuming the standard linear model assumptions are true:\n",
        "\n",
        "-   Each studentized residual will have a $t_{n-p-1}$ distribution.\n",
        "-   Every studentized residual will have the same variance.\n",
        "-   The studentized residuals are identically distributed but not independent.\n",
        "\n",
        "The studentized residuals for a fitted model can be obtained from an `lm` object using the `rstudent` function.\n",
        "\n",
        "We summarize the studentized residuals for the model fit to the `home_sales` data below. There are some relatively extreme studentized residuals with values below -3 and above 3."
      ],
      "id": "cbc58faa-0194-4474-90a1-478bcc28da39"
    },
    {
      "cell_type": "code",
      "execution_count": 6,
      "metadata": {},
      "outputs": [],
      "source": [
        "stud_resid <- rstudent(lmod)\n",
        "summary(stud_resid)"
      ],
      "id": "f58380dd-05f1-4e0b-a00b-ac05099ea7e9"
    },
    {
      "cell_type": "markdown",
      "metadata": {},
      "source": [
        "# Outliers\n",
        "\n",
        "We describe two common approaches for identifying outliers.\n",
        "\n",
        "The simplest approach for identifying outliers is to use an index plot of the studentized residuals to determine the observations with extreme residuals.\n",
        "\n",
        "-   An index plot is a plot of a set of statistics versus their observation number.\n",
        "-   We will create a scatter plot of the pairs $(i, t_i)$ for $i=1,2,\\ldots,n$.\n",
        "\n",
        "The other approach is to compare the set of studentized residuals to the appropriate quantile of a $t_{n-p-1}$ distribution.\n",
        "\n",
        "To evaluate whether a *single* observation is an outlier, we compare its studentized residual to $t^{\\alpha/2}_{n-p-1}$, i.e., the $1-\\alpha/2$ quantile of a $t$ distribution with $n-p-1$ degrees of freedom.\n",
        "\n",
        "-   If $|t_i| > t^{\\alpha/2}_{n-p-1}$, then observation $i$ is an outlier.\n",
        "-   We won’t do this because we have more than one observation to evaluate.\n",
        "\n",
        "To identify the outliers from the $n$ observations of our fitted model, we should adjust the previous idea using the Bonferroni correction to address the multiple comparisons problem.\n",
        "\n",
        "-   We conclude observation $i$ is an outlier if $|t_i| > t^{\\alpha/2n}_{n-p-1}$.\n",
        "\n",
        "**Outlier example**\n",
        "\n",
        "------------------------------------------------------------------------\n",
        "\n",
        "We use the methods described above to identify the outliers of the model we fit to the `home_sales` data.\n",
        "\n",
        "We first create an index plot of the studentized residuals based on the fitted model `lmod`."
      ],
      "id": "8e772ac2-3ae0-4cd1-a391-edf5bb2270f1"
    },
    {
      "cell_type": "code",
      "execution_count": 7,
      "metadata": {},
      "outputs": [],
      "source": [
        "plot(rstudent(lmod), ylab = \"studentized residuals\")"
      ],
      "id": "c1d3d025-6103-4d9b-aced-fff234628da2"
    },
    {
      "cell_type": "markdown",
      "metadata": {},
      "source": [
        "We see that there are a few outlying observations, though it is difficult to identify them.\n",
        "\n",
        "The `outlier_plot` function from the **api2lm** package offers a more convenient way to identify outliers using an index plot of the studentized residuals. `outlier_plot` has three main arguments that we need to know about:\n",
        "\n",
        "-   `model`: the fitted model.\n",
        "-   `id_n`: the number of points to identify with labels.\n",
        "-   `add_reference`: a logical value indicating whether the Bonferroni-corrected $t$ quantiles ($t^{1-\\alpha/2n}_{n-p-1}$ and $t^{\\alpha/2n}_{n-p-1}$) are added as reference lines to the plot. The default is `TRUE`.\n",
        "-   `alpha`: the $\\alpha$ value used for the $t$ quantiles. The default is `0.05`.\n",
        "\n",
        "We use the `outlier_plot` function to identify the 2 most extreme outliers for our fitted model. Observations 214 and 33 have the most extreme studentized residuals and observation 214 is more extreme than the Bonferroni-adjusted $t$ quantile."
      ],
      "id": "7cb78de9-3559-458d-b01f-d359fbf3c167"
    },
    {
      "cell_type": "code",
      "execution_count": 8,
      "metadata": {},
      "outputs": [],
      "source": [
        "outlier_plot(lmod, id_n = 2)"
      ],
      "id": "836de6ea-c743-4daa-b210-4adde931e144"
    },
    {
      "cell_type": "markdown",
      "metadata": {},
      "source": [
        "The `outlier_test` function from the **api2lm** package can be used to identify the observations with studentized residuals more extreme than the appropriate Bonferroni-corrected $t$ quantiles. The main arguments to the `outlier_test` function are:\n",
        "\n",
        "-   `model`: the fitted model.\n",
        "-   `n`: the number of outliers to return (by default, all of them).\n",
        "-   `alpha`: the desired familywise error rate for the family of $n$ tests. The default is `alpha = 0.05`.\n",
        "\n",
        "Running `outlier_test` on a fitted model will return the identified outliers and their Bonferroni-adjusted p-values (`adj_pvalue`). If the adjusted p-value is less than `alpha`, then the observation is declared an outlier.\n",
        "\n",
        "We use `outlier_test` to see that observation 214 is an outlier according to this test."
      ],
      "id": "82510801-241d-405b-8fbd-cf6008f7f3fe"
    },
    {
      "cell_type": "code",
      "execution_count": 9,
      "metadata": {},
      "outputs": [],
      "source": [
        "outlier_test(lmod)"
      ],
      "id": "02a662e2-556e-4a60-a74c-cf2040a4abb2"
    },
    {
      "cell_type": "markdown",
      "metadata": {},
      "source": [
        "We examine the data for observation 214 in the `home_sales` data set."
      ],
      "id": "52af3251-8f50-4c5e-b8ba-0e2a9f817094"
    },
    {
      "cell_type": "code",
      "execution_count": 10,
      "metadata": {},
      "outputs": [],
      "source": [
        "home_sales[214, ]"
      ],
      "id": "a093a239-ab2c-4f07-bb25-24ec8a8383b6"
    },
    {
      "cell_type": "markdown",
      "metadata": {},
      "source": [
        "We see that it was sold for a (relatively) high price (top 5%) and appears to be a large home with respect to living space and lot size. In fact, if we compare the predictor values for this house to the numeric summary fo `home_sales` that we computed earlier, we see that this is the largest house in the data set in terms of `sqft_living`!"
      ],
      "id": "7b60abb7-96a6-4ca5-81b7-63a40530ca8e"
    },
    {
      "cell_type": "code",
      "execution_count": 11,
      "metadata": {},
      "outputs": [],
      "source": [
        "mean(home_sales$price >= 6.3579)"
      ],
      "id": "7537a976-b2fa-42bb-b6e3-0672376d460d"
    },
    {
      "cell_type": "markdown",
      "metadata": {},
      "source": [
        "# Leverage Points\n",
        "\n",
        "The **leverage values** are the diagonal elements of the hat matrix $\\mathbf{H}=\\mathbf{X}(\\mathbf{X}^T \\mathbf{X})^{-1} \\mathbf{X}^T$.\n",
        "\n",
        "The $i$th leverage value is given by $h_i=\\mathbf{H}_{i,i}$, the $i$th diagonal position of the hat matrix.\n",
        "\n",
        "We can extract the leverage values of a fitted model using the `hatvalues` function.\n",
        "\n",
        "The leverage values of a fitted model have the following two properties:\n",
        "\n",
        "-   $0\\leq h_i \\leq 1$ for $i=1,2,\\ldots,n$.\n",
        "-   $\\sum_{i=1}^n h_i = p$.\n",
        "\n",
        "An observation is declared to be a leverage point if its leverage value is unusually large.\n",
        "\n",
        "Kutner et al. (2005) suggest two different thresholds for identifying a leverage point.\n",
        "\n",
        "-   Observation $i$ is declared to be an outlier if $h_i > 2p/n$.\n",
        "    -   This approach can be overly sensitive.\n",
        "-   Observation $i$ is declared to be an outlier if $h_i > 0.5$.\n",
        "\n",
        "Alternatively, we can make a relative comparison of the leverage values to determine the ones that are unusually large relative to the rest.\n",
        "\n",
        "**Leverage example**\n",
        "\n",
        "------------------------------------------------------------------------\n",
        "\n",
        "We seek to identify the leverage points of the `home_sales` data based on our fitted model.\n",
        "\n",
        "We create an index plot of the points using the `leverage_plot` function. The `leverage_plot` function takes a few main arguments:\n",
        "\n",
        "-   `model`: the fitted model.\n",
        "-   `id_n`: the number of points to identify with labels.\n",
        "-   `ttype`: the threshold type. The default is `\"half\"`, which uses a reference threshold of `0.5`. Alternatively, we can choose `\"2mean\"`, which uses a reference threshold of $2p/n$.\n",
        "\n",
        "We use the `leverage_plot` function to identify leverage points for the model fit to the `home_sales` data."
      ],
      "id": "828e877a-9102-4ba5-8019-7ac981af8d5d"
    },
    {
      "cell_type": "code",
      "execution_count": 12,
      "metadata": {},
      "outputs": [],
      "source": [
        "leverage_plot(lmod)"
      ],
      "id": "33cfecca-3350-4846-b44f-9a8e59d531f7"
    },
    {
      "cell_type": "markdown",
      "metadata": {},
      "source": [
        "Observations 33 and 179 are leverage points with leverage values greater than 0.5. Observation 214 has a leverage value nearly at 0.5, so we should consider it a leverage point.\n",
        "\n",
        "If we examine the predictor values for these observations, we see observations with extremely large numbers of bedrooms, bathrooms, living space, or lots."
      ],
      "id": "467d1bce-7c07-4a79-bb68-c3516f1a7ea2"
    },
    {
      "cell_type": "code",
      "execution_count": 13,
      "metadata": {},
      "outputs": [],
      "source": [
        "home_sales[c(33, 179, 214), ]"
      ],
      "id": "bdaf0212-3e43-4f58-a79f-699061084029"
    },
    {
      "cell_type": "markdown",
      "metadata": {},
      "source": [
        "# Influential Observations\n",
        "\n",
        "An **influential observation** dramatically changes the fitted model based on whether it is included or excluded from the analysis.\n",
        "\n",
        "-   An outlier with high leverage is most likely to be an influential observation.\n",
        "\n",
        "Measures of influence are often related to various LOO statistics. Examples include:\n",
        "\n",
        "-   The LOO residuals, $l_i = Y_i - \\hat{Y}_{i(i)}$, $i = 1,2,\\ldots,n$.\n",
        "-   The LOO residual variances, $\\hat{\\sigma}^2_{(i)}$, $i=1,2,\\ldots,n$.\n",
        "\n",
        "We will now discuss several other measures of influence.\n",
        "\n",
        "## DFBETA and DFBETAS\n",
        "\n",
        "The **DFBETA** measure of influence is an $n\\times p$ matrix of statistics that measures the change in the estimated regression coefficients when we fit the model using all $n$ observations versus when we fit the model leaving one observation out at a time.\n",
        "\n",
        "The $i$th row of DFBETA is\n",
        "\n",
        "$$\n",
        "\\text{DFBETA}_i = \\hat{\\boldsymbol{\\beta}} - \\hat{\\boldsymbol{\\beta}}_{(i)}.\n",
        "$$\n",
        "\n",
        "-   $\\hat{\\boldsymbol{\\beta}} = [\\hat{\\beta}_0, \\hat{\\beta}_1, \\ldots, \\hat{\\beta}_{p-1}]$ is the vector of estimated regression coefficients when using all $n$ observations.\n",
        "-   $\\hat{\\boldsymbol{\\beta}}_{(i)} = [\\hat{\\beta}_{0(i)}, \\hat{\\beta}_{1(i)}, \\ldots, \\hat{\\beta}_{p-1(i)}]$ is the vector of estimated regression coefficients obtained from the model fit using all $n$ observations except the $i$th observation.\n",
        "-   $\\text{DFBETA}_{ij} = \\hat{\\beta}_j - \\hat{\\beta}_{j(i)}$.\n",
        "\n",
        "Identifying influential observations using the DFBETA matrix can be difficult because the sampling variance associated with each coefficient can be very different.\n",
        "\n",
        "The **DFBETAS** matrix is a transformation of the DFBETA matrix that has been scaled so that the individual statistics have similar sampling variability.\n",
        "\n",
        "DFBETAS is also an $n\\times p$ matrix of statistics with the $j$th element of the $i$th row being defined as\n",
        "\n",
        "$$\\text{DFBETAS}_{i,j} = \\frac{\\hat{\\beta}_{j-1} - \\hat{\\beta}_{j-1(i)}}{\\hat{\\mathrm{se}}(\\hat{\\beta}_{j-1})},\\quad i=1,2,\\ldots,n, \\quad j=0,1,\\ldots,p-1.$$\n",
        "\n",
        "A DFBETAS statistic less than -1 or greater than 1 is often used as an indicator that the associated observation is influential in determining the fitted model.\n",
        "\n",
        "One way of identifying influential observations is to create index plots the DFBETA or DFBETAs values for each regression coefficient and determine the estimates that substantially change when observation $i$ is excluded from analysis.\n",
        "\n",
        "-   We recommend using index plots of the DFFBETAS values instead of the DFBETA values because the plots will have more similar scales and are easier to work with.\n",
        "\n",
        "The DFBETA and DFBETAS matrices can be obtained by using the `dfbeta` and `dfbetas` functions, respectively.\n",
        "\n",
        "**DFBETAS example**\n",
        "\n",
        "------------------------------------------------------------------------\n",
        "\n",
        "We can use the `dfbetas_plot` function in the **api2lm** package to get index plots of the DFBETAS statistics for each regression coefficient. Some of the main arguments to the `dfbetas_plot` function are:\n",
        "\n",
        "-   `model`: the fitted model.\n",
        "-   `id_n`: the number of observations for which to print an associated label.\n",
        "-   `regressors`: a formula indicating the regressors for which we want to plot the DFBETAS statistics. By default, index plots are created for all regressors.\n",
        "\n",
        "Reference lines are automatically added at $\\pm 1$ to indicate observations whose DFBETAS values are particularly extreme.\n",
        "\n",
        "We plot the `bedrooms`, `bathrooms`, `sqft_living`, and `sqft_lot` variables for the fitted model of our `home_sales` data and label the two most extreme observations."
      ],
      "id": "ea41dd80-053a-402a-bfe7-ab3c8090ef32"
    },
    {
      "cell_type": "code",
      "execution_count": 14,
      "metadata": {},
      "outputs": [],
      "source": [
        "dfbetas_plot(lmod, id_n = 2,\n",
        "             regressors = ~ bedrooms + bathrooms + sqft_living + sqft_lot)"
      ],
      "id": "065ae878-5ebe-4db2-bfc7-842a3ee79870"
    },
    {
      "cell_type": "markdown",
      "metadata": {},
      "source": [
        "We can see from these plots that:\n",
        "\n",
        "-   The estimated coefficient for `bedrooms` changes by more than 3 standard errors based on whether observation 179 is used in fitting the model.\n",
        "-   The estimated coefficients for `sqft_living` and `sqft_lot` change by more than 1 standard error based on whether observations 33 or 214 are used in fitting the model.\n",
        "\n",
        "## DFFITS\n",
        "\n",
        "Welsch and Kuh (1977) proposed measuring an observation’s influence through the DFFITS statistic, which is the difference between its fitted value and its LOO predicted response value.\n",
        "\n",
        "The **DFFITS** statistic for observations $i$ defined as\n",
        "\n",
        "$$\\text{DFFITS}_i = \\hat{Y}_i - \\hat{Y}_{i(i)}.$$\n",
        "\n",
        "-   A large difference between a fitted value and its associated LOO predicted value provides evidence an observation is influential.\n",
        "\n",
        "Belsley et al. (2005) suggest that observation $i$ is influential if $|\\text{DFFITS}_i|>2\\sqrt{p/n}$.\n",
        "\n",
        "An index plot of the DFFITS statistics for all observations will indicate the observations most influential in changing their associated predicted value.\n",
        "\n",
        "The DFFITS statistics for each observation can be obtained using the `dffits` function.\n",
        "\n",
        "**DFFITS example**\n",
        "\n",
        "------------------------------------------------------------------------\n",
        "\n",
        "We can create an index plot of our DFFITS statistics using the `dffits_plot` function. Some of the main arguments to the `dffits_plot` function are:\n",
        "\n",
        "-   `model`: the fitted model.\n",
        "-   `id_n`: the number of observations for which to print an associated label.\n",
        "\n",
        "Horizontal reference lines are automatically added at $\\pm 2\\sqrt{p/n}$ to identify influential observations.\n",
        "\n",
        "We create an index plot of the DFFITS statistics below. We identify the observations with the 3 most extreme DFFITS statistics."
      ],
      "id": "6ac8aacf-f13e-4682-8b46-4e3e6e3e7f19"
    },
    {
      "cell_type": "code",
      "execution_count": 15,
      "metadata": {},
      "outputs": [],
      "source": [
        "dffits_plot(lmod, id_n = 3)"
      ],
      "id": "7e9e9cd8-b0b5-4d47-a8cc-c13ec1a372a7"
    },
    {
      "cell_type": "markdown",
      "metadata": {},
      "source": [
        "We see that observations 33, 179, and 214 all have particularly extreme DFFITS statistics. Several other observations have statistics more extreme than $\\pm 1$ (run `dffits_test(lmod)` for a complete list).\n",
        "\n",
        "We have already discussed how unusual these observations are with respect to a combination of their response and predictor values.\n",
        "\n",
        "## Cook’s Distance\n",
        "\n",
        "Cook (1977) proposed the **Cook’s distance** to summarize the potential influence of an observation with a single statistic.\n",
        "\n",
        "The Cook’s distance for the $i$th observation is\n",
        "\n",
        "$$D_i=\\frac{\\sum_{k=1}^n (Y_k - \\hat{Y}_{k(i)})^2}{p \\widehat{\\sigma}^2} = \\frac{1}{p} r_i^2 \\frac{h_i}{1-h_i}.$$\n",
        "\n",
        "-   $\\hat{Y}_{k(i)}$ is the predicted response for observation $k$ when observation $i$ is not included in the analysis (this is a type of LOO prediction).\n",
        "-   The **standardized residual** for observation $i$ is\n",
        "\n",
        "$$\n",
        "r_i = \\frac{\\hat{\\epsilon}_i}{\\widehat{\\sigma}\\sqrt{1-h_i}}.\n",
        "$$\n",
        "\n",
        "Cook’s distance combines information related to both:\n",
        "\n",
        "-   How much of an outlier the observation is (as measured by the standardized residual).\n",
        "-   The leverage (as measured by the hat value $h_i$).\n",
        "\n",
        "Unlike the DFFITS statistic, the Cook’s distance quantifies the amount of influence potential an observation has across all $n$ fitted values instead of only a single fitted value (Kutner et al., 2005).\n",
        "\n",
        "An index plot of the Cook’s distances can be used to identify observations with unusually large Cook’s distances.\n",
        "\n",
        "-   Cook’s distance values can be obtained using the `cooks.distance` function.\n",
        "-   Kutner et al. (2015) suggest declaring an observation to be influential if its Cook’s distance is more than $F^{0.5}_{p, n-p}$, i.e., the 0.5 quantile of an $F$ distribution with $p$ numerator degrees of freedom and $n-p$ denominator degrees of freedom.\n",
        "\n",
        "**Cook’s distance example**\n",
        "\n",
        "------------------------------------------------------------------------\n",
        "\n",
        "An index plot of the Cook’s distances can be created using the `cooks_plot` function from the **api2lm** package. Some of the main arguments to the `cooks_plot` function are:\n",
        "\n",
        "-   `model`: the fitted model.\n",
        "-   `id_n`: the number of observations for which to print an associated label.\n",
        "\n",
        "A horizontal reference line is automatically added at $F^{0.5}_{p,n-p}$ to identify influential observations.\n",
        "\n",
        "We create an index plot of the Cook’s distances below. We identify the observations with the 3 most extreme Cook’s distances."
      ],
      "id": "689c3395-9bdd-42fb-86da-65cf3792d41a"
    },
    {
      "cell_type": "code",
      "execution_count": 16,
      "metadata": {},
      "outputs": [],
      "source": [
        "cooks_plot(lmod, id_n = 3)"
      ],
      "id": "60bcf946-b392-4460-abfe-8d83b40617fe"
    },
    {
      "cell_type": "markdown",
      "metadata": {},
      "source": [
        "We see that observations 33, 179, and 214 all have particularly extreme Cook’s distances, indicating those observations are influential in some sense. This is consistent with our previous results.\n",
        "\n",
        "## Influence plots\n",
        "\n",
        "An **influence plot** is a scatter plot of the studentized or standardized residuals versus the leverage values. The size of each point in the plot is proportional to either its Cook’s distance or DFFITS statistic.\n",
        "\n",
        "In general, observations that are extreme with respect to their residuals, leverage values, or Cook’s distance/DFFITS statistics are more likely be be potentially influential.\n",
        "\n",
        "**Influence plot example**\n",
        "\n",
        "------------------------------------------------------------------------\n",
        "\n",
        "An influence plot can be created using the `influence_plot` function from the **api2lm** package. Some of the main arguments to the `influence_plot` function are:\n",
        "\n",
        "-   `model`: the fitted model.\n",
        "-   `rtype`: the type of residual to plot on the y-axis. The default is the studentized residuals.\n",
        "-   `criterion`: the criterion that controls the size of the points. The default is the Cook’s distance.\n",
        "-   `id_n`: the number of observations for which to print an associated label. The most extreme observations with respect to the criterion are labeled.\n",
        "\n",
        "We create in influence plot for the model fit to the `home_sales` data below."
      ],
      "id": "68f74457-f45e-473e-9fb7-aa0e2bb3d271"
    },
    {
      "cell_type": "code",
      "execution_count": 17,
      "metadata": {},
      "outputs": [],
      "source": [
        "influence_plot(lmod)"
      ],
      "id": "bad487e6-3b0f-4ba4-b247-6b4efef9376a"
    },
    {
      "cell_type": "markdown",
      "metadata": {},
      "source": [
        "Similar to our previous results, we see that observations 33, 179, and 214 are extreme with respect to characteristics like their residual, leverage, or Cook’s distance.\n",
        "\n",
        "# Reaction\n",
        "\n",
        "How should we react when we find influential observations?\n",
        "\n",
        "It is best to work through a series of diagnostic steps to decide what to do.\n",
        "\n",
        "**Should the influential observations be in the data set?**\n",
        "\n",
        "------------------------------------------------------------------------\n",
        "\n",
        "First, are the influential observations in the data set mistakenly?\n",
        "\n",
        "Is an observation influential because it is a data entry error?\n",
        "\n",
        "-   If it is, then correct the error if possible.\n",
        "-   If the data entry error cannot be corrected, then it is appropriate to remove the observation from our analysis. We must make sure to mention this in the discussion of our results.\n",
        "\n",
        "Is the influential observation part of the population of interest?\n",
        "\n",
        "-   If we are studying dogs, but the influential observation is a cat, then it is okay to remove the observation from our analysis. We must make sure to mention this in the discussion of our results.\n",
        "-   More generally, there may be a subtle but compelling reason why an observation isn’t part of the population of interest.\n",
        "\n",
        "If there isn’t a compelling reason to exclude an observation from our analysis except that it seems to be influential, then we should keep the observation in our analysis.\n",
        "\n",
        "Consider observations 33, 179, and 214 from our `home_sales` data set, which we have identified as being potentially influential."
      ],
      "id": "9116bee8-a292-4c18-ae53-118611891076"
    },
    {
      "cell_type": "code",
      "execution_count": 18,
      "metadata": {},
      "outputs": [],
      "source": [
        "home_sales[c(33, 179, 214),]"
      ],
      "id": "0c91307d-519f-4085-89a2-a1597e09c63a"
    },
    {
      "cell_type": "markdown",
      "metadata": {},
      "source": [
        "Observation 179 has 33 bedrooms but only 1.75 bathrooms and 1,620 square feet of living space. This seems unlikely and there is likely a data entry error for that observation (perhaps it should be 3 bedrooms). Since we don’t have any details about this specific sale, we could reasonably exclude this observation from our analysis.\n",
        "\n",
        "Observations 33 and 214 are houses with massive lot sizes of over 7 acres. In fact, except for observation 141, which has a lot size of 223,462 square feet, observations 33 and 214 have lot sizes that are more than 5 times as large as any other observation. We could argue that these observations are not representative of a typical home sold in King County during this time period. It *could* be appropriate to remove these observations from our analysis if we are convinced they aren’t part of the target population we want to know about.\n",
        "\n",
        "**Are our goals affected?**\n",
        "\n",
        "------------------------------------------------------------------------\n",
        "\n",
        "Second, after making sure an influential observation isn’t mistakenly in our data set, we should ask ourselves whether an influential observation practically affects the goals of our analysis.\n",
        "\n",
        "If the purpose of our analysis is to identify the general relationship between the a predictor and response after adjusting for some other variables, then perhaps the influential observations don’t practically change our results.\n",
        "\n",
        "-   Does the estimated coefficient change from significant to insignificant?\n",
        "-   Does the sign of the coefficient change based on whether the observation is included.\n",
        "\n",
        "If the answer to these last two questions is no, then perhaps the influential observations are not problematic.\n",
        "\n",
        "Let’s fit the same model to the `home_sales` data without observations 33, 179, and 214."
      ],
      "id": "6daf337b-e48a-417e-97e2-4effac7461dd"
    },
    {
      "cell_type": "code",
      "execution_count": 19,
      "metadata": {},
      "outputs": [],
      "source": [
        "lmod2 <- lm(price ~ ., data = home_sales[-c(33, 179, 214),])"
      ],
      "id": "2bc242bc-65fd-4dcd-8298-8ffef9dd3c8d"
    },
    {
      "cell_type": "markdown",
      "metadata": {},
      "source": [
        "Let’s use the `coef_compare` function from the **api2lm** package to compare the estimated coefficients of our original fitted model to the new model as well as compute their percentage change."
      ],
      "id": "d074bc1c-8f31-411b-a0eb-e7dda550a1dd"
    },
    {
      "cell_type": "code",
      "execution_count": 20,
      "metadata": {},
      "outputs": [],
      "source": [
        "coef_compare(lmod, lmod2)"
      ],
      "id": "53af006a-fb30-4679-a3e5-9b0297b489bf"
    },
    {
      "cell_type": "markdown",
      "metadata": {},
      "source": [
        "When we remove these 3 influential observations, the estimated `bedrooms` coefficient changed by nearly 800% and the estimated standard error by nearly 200%. The sign of the coefficient also flips from positive to negative, which certainly goes against our intuition. However, the `bedrooms` coefficient for the new model is insignificant, so we don’t need to be too concerned. Other estimated coefficients such as `bathrooms`, `sqft_living`, and `sqft_lot` also change by large percentages.\n",
        "\n",
        "We now need to assess whether the goals of our analysis are practically affected by our influential observations.\n",
        "\n",
        "-   If our goal is a general understanding of the relationship between the response and regressors, then even though the estimated coefficients substantially changed in some cases, the overall associations (positive or negative) have been preserved (taking into account that some coefficients are insignificant).\n",
        "-   If our goal is to assess the quantitative association between a regressor and the response, then our influential observations dramatically affect our analysis goal because our estimates are substantially different. However, this may not be a sensible goal since there can always be lurking variables that aren’t accounted for in an observational study that could impact the association between the response and regressors.\n",
        "-   If our goal is to predict new observations, then we will need to determine whether the influential observations substantially change our predicted response.\n",
        "\n",
        "We will predict the sales `price` of a “typical” home below to see the impact of the influential observations.\n",
        "\n",
        "We starting be creating a data frame of predictor values for a typical home."
      ],
      "id": "9e77ecbc-4221-433f-9f25-1d1e7702625d"
    },
    {
      "cell_type": "code",
      "execution_count": 21,
      "metadata": {},
      "outputs": [],
      "source": [
        "newdf <- data.frame(bedrooms = 3, bathrooms = 2, sqft_living = 2000,\n",
        "                    sqft_lot = 6000, floors = 1, waterfront = \"no\",\n",
        "                    condition = \"average\")"
      ],
      "id": "fb8a89e9-0ebb-45f9-870c-804d59de8f72"
    },
    {
      "cell_type": "markdown",
      "metadata": {},
      "source": [
        "We use the `predict` function to compute the predict `sales` price of the typical home for our original fitted model and the model that removes the influential observations."
      ],
      "id": "f83e7b41-1a70-49b3-a646-8052c885a031"
    },
    {
      "cell_type": "code",
      "execution_count": 22,
      "metadata": {},
      "outputs": [],
      "source": [
        "predict(lmod, newdata = newdf)"
      ],
      "id": "09fb5e5f-8905-472b-a9ca-c3477e33772b"
    },
    {
      "cell_type": "code",
      "execution_count": 23,
      "metadata": {},
      "outputs": [],
      "source": [
        "predict(lmod2, newdata = newdf)"
      ],
      "id": "2365b585-b5a1-4e2c-8a47-cfa131a156c5"
    },
    {
      "cell_type": "markdown",
      "metadata": {},
      "source": [
        "In this case, the predicted value of `price` increased by 0.2% when we removed the influential observations from our analysis. Since `price` is in log base 10 units, this amounts to a 2.8% increase on the original scale. On either scale, the influential observations may not impact the predicted response enough for us to be concerned.\n",
        "\n",
        "**What if our influential observations are problematic?**\n",
        "\n",
        "------------------------------------------------------------------------\n",
        "\n",
        "What if certain influential observations can’t be removed from analysis and negatively impact the goals of our analysis?\n",
        "\n",
        "-   Influential observations are model specific. We may need to address structural issues with our model to reduce the impact of our influential observations.\n",
        "-   We may need to use an alternative to ordinary least square regression such as robust regression (see the `rlm` function in the **MASS** package via `?MASS::rlm`) to mitigate the influence of the influential observations. Robust regression is designed to reduce the impact of extreme observations on the fitted model.\n",
        "\n",
        "# Summary of methods\n",
        "\n",
        "**Outlier detection**\n",
        "\n",
        "-   Index plot of studentized residuals.\n",
        "    -   Compare residuals to the thresholds $\\pm t^{\\alpha/2n}_{p, n-p}$.\n",
        "    -   Use the `outlier_plot` function in the **api2lm** package.\n",
        "-   Outlier test based on the $t$ distribution.\n",
        "    -   Use the `outlier_test` function in the **api2lm** package.\n",
        "\n",
        "**Leverage point detection**\n",
        "\n",
        "-   Index plot of leverage values.\n",
        "    -   Compare leverage values to the threshold 0.5 or $2p/n$.\n",
        "    -   Use the `leverage_plot` function in the **api2lm** package.\n",
        "\n",
        "**Influential observation detection**\n",
        "\n",
        "-   Index plots of DFBETAS statistics.\n",
        "    -   Compare the DFBETAS statistics to the thresholds $\\pm 1$.\n",
        "    -   Use the `dfbetas_plot` function in the **api2lm** package.\n",
        "-   Index plot of DFFITS statistics.\n",
        "    -   Compare the DFFITS statistics to the thresholds $\\pm 2\\sqrt{p/n}$.\n",
        "    -   Use the `dffits_plot` function in the **api2lm** package.\n",
        "-   Index plot of Cook’s distances.\n",
        "    -   Compare the Cook’s distances to the threshold $F^{0.5}_{p, n-p}$.\n",
        "    -   Use the `cooks_plot` function in the **api2lm** package.\n",
        "-   Influence plot.\n",
        "    -   Look for observations with large residuals, leverage values, or Cook’s distance/DFFITS statistics.\n",
        "    -   Use the `influence_plot` function in the **api2lm** package.\n",
        "\n",
        "**Additional influence-related R functions**\n",
        "\n",
        "-   `rstudent(lmod)` extracts the studentized residuals from a fitted model.\n",
        "-   `hatvalues(lmod)` extracts the leverage values from a fitted model.\n",
        "-   `dfbetas` extracts the DFBETAS matrix from a fitted model.\n",
        "-   `dffits` extracts the DFFITS statistics from a fitted model.\n",
        "-   `cooks.distance` extracts the Cook’s distances from a fitted model.\n",
        "-   `influence(lmod)` computes several leave-one-out-related measures of observational influence.\n",
        "\n",
        "# References\n",
        "\n",
        "Belsley, D. A., Kuh, E., & Welsch, R. E. (2005). Regression diagnostics: Identifying influential data and sources of collinearity. John Wiley & Sons.\n",
        "\n",
        "Cook, R. D. (1977). Detection of Influential Observation in Linear Regression. Technometrics, 19(1), 15–18. https://doi.org/10.2307/1268249\n",
        "\n",
        "Kutner, Michael H, Christopher J Nachtsheim, John Neter, and William Li. 2005. Applied Linear Statistical Models, 5th Edition. McGraw-Hill/Irwin, New York.\n",
        "\n",
        "Welsch, R. E., & Kuh, E. (1977). Linear regression diagnostics (No. w0173). National Bureau of Economic Research."
      ],
      "id": "774c403a-ee9d-4bc8-95bd-ce547dbaf5dd"
    }
  ],
  "nbformat": 4,
  "nbformat_minor": 5,
  "metadata": {
    "kernelspec": {
      "name": "ir",
      "display_name": "R",
      "language": "R"
    },
    "language_info": {
      "name": "R",
      "codemirror_mode": "r",
      "file_extension": ".r",
      "mimetype": "text/x-r-source",
      "pygments_lexer": "r",
      "version": "4.2.2"
    }
  }
}